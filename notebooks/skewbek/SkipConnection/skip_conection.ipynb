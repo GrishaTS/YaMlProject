{
 "cells": [
  {
   "cell_type": "markdown",
   "source": [
    "## Skip Connection\n",
    "----"
   ],
   "metadata": {
    "collapsed": false,
    "id": "XxYeYjvJvZKJ"
   }
  },
  {
   "cell_type": "markdown",
   "source": [
    "**Skip Connection** - метод внедрения выходных данных одного слоя с входными данным второго слоя. \n",
    "Придуман и использается в CNN для избежания переобучения модели, потери нужных фичей."
   ],
   "metadata": {
    "id": "xVjJehlU4apm"
   }
  },
  {
   "cell_type": "markdown",
   "source": [
    "## Полезные ссылки:\n",
    "https://habr.com/ru/articles/688350/"
   ],
   "metadata": {
    "id": "U2iE81S97dBH"
   }
  },
  {
   "cell_type": "markdown",
   "source": [
    "Concatenate layer -- проверить\n",
    "Average layer -- проверить\n",
    "Maximum layer -- проверить\n",
    "Minimum layer -- проверить\n",
    "Add layer -- проверить\n",
    "Subtract layer -- проверить\n",
    "Multiply layer -- проверить\n",
    "Dot layer -- минус."
   ],
   "metadata": {
    "collapsed": false,
    "id": "ife_qH1ZvZKP"
   }
  },
  {
   "cell_type": "code",
   "source": [
    "import numpy as np\n",
    "import tensorflow as tf"
   ],
   "metadata": {
    "id": "YqD1B6KgDIvW"
   },
   "execution_count": null,
   "outputs": []
  },
  {
   "cell_type": "markdown",
   "source": [
    "----\n",
    "## Concatenate\n",
    "\n",
    "На вход принимает список слоёв с одинаковым shape, кроме одного(будет указан в axis)\n",
    "Возвращает объединённый tensor, состоящий из входных слоёв.\n",
    "Помогает вообще не терять фичи, а просто переносит их с одного места на другое. "
   ],
   "metadata": {
    "id": "cDQnAv5j9Rb_"
   }
  },
  {
   "cell_type": "code",
   "source": [
    "x = np.arange(10).reshape(5, 2)\n",
    "y = np.arange(10, 25).reshape(5, 3)\n",
    "print(x)\n",
    "print(y)\n",
    "res = tf.keras.layers.Concatenate(axis=1)([x, y])\n",
    "print(res)"
   ],
   "metadata": {
    "colab": {
     "base_uri": "https://localhost:8080/"
    },
    "id": "olTXF-bgCEkG",
    "executionInfo": {
     "status": "ok",
     "timestamp": 1680994116492,
     "user_tz": -180,
     "elapsed": 282,
     "user": {
      "displayName": "Михаил Глазов",
      "userId": "14831628976106288763"
     }
    },
    "outputId": "49b0cf76-6211-45d1-d6d3-25c2805e593c"
   },
   "execution_count": null,
   "outputs": [
    {
     "output_type": "stream",
     "name": "stdout",
     "text": [
      "[[0 1]\n",
      " [2 3]\n",
      " [4 5]\n",
      " [6 7]\n",
      " [8 9]]\n",
      "[[10 11 12]\n",
      " [13 14 15]\n",
      " [16 17 18]\n",
      " [19 20 21]\n",
      " [22 23 24]]\n",
      "tf.Tensor(\n",
      "[[ 0  1 10 11 12]\n",
      " [ 2  3 13 14 15]\n",
      " [ 4  5 16 17 18]\n",
      " [ 6  7 19 20 21]\n",
      " [ 8  9 22 23 24]], shape=(5, 5), dtype=int64)\n"
     ]
    }
   ]
  },
  {
   "cell_type": "markdown",
   "source": [
    "----\n",
    "## Average\n",
    "Принимает слои с идентичной формой и хранит **среднее арифметическое** соответственных нейронов каждого слоя\n"
   ],
   "metadata": {
    "id": "Bc1avu8b-Ig3"
   }
  },
  {
   "cell_type": "code",
   "source": [
    "x = np.ones(4).reshape(2, 2)\n",
    "y = np.zeros(4).reshape(2, 2)\n",
    "print(x)\n",
    "print(y)\n",
    "res = tf.keras.layers.Average()([x, y])\n",
    "print(res)"
   ],
   "metadata": {
    "colab": {
     "base_uri": "https://localhost:8080/"
    },
    "id": "D6WQpSypCD4W",
    "executionInfo": {
     "status": "ok",
     "timestamp": 1680994119152,
     "user_tz": -180,
     "elapsed": 372,
     "user": {
      "displayName": "Михаил Глазов",
      "userId": "14831628976106288763"
     }
    },
    "outputId": "9a3cd161-fe05-4a29-be6a-7b3d8a96f5db"
   },
   "execution_count": null,
   "outputs": [
    {
     "output_type": "stream",
     "name": "stdout",
     "text": [
      "[[1. 1.]\n",
      " [1. 1.]]\n",
      "[[0. 0.]\n",
      " [0. 0.]]\n",
      "tf.Tensor(\n",
      "[[0.5 0.5]\n",
      " [0.5 0.5]], shape=(2, 2), dtype=float32)\n"
     ]
    }
   ]
  },
  {
   "cell_type": "markdown",
   "source": [
    "----\n",
    "## Maximum\n",
    "Принимает слои с идентичной формой и хранит **наибольший** из нейронов на каждой позиции"
   ],
   "metadata": {
    "id": "9UoQs51D-rL2"
   }
  },
  {
   "cell_type": "code",
   "source": [
    "x = np.array([[1, 5], [4, 8]])\n",
    "y = np.array([[2, 3], [7, 6]])\n",
    "print(x)\n",
    "print(y)\n",
    "res = tf.keras.layers.Maximum()([x, y])\n",
    "print(res)"
   ],
   "metadata": {
    "colab": {
     "base_uri": "https://localhost:8080/"
    },
    "id": "kBnP90FzCFJ2",
    "executionInfo": {
     "status": "ok",
     "timestamp": 1680994211488,
     "user_tz": -180,
     "elapsed": 5,
     "user": {
      "displayName": "Михаил Глазов",
      "userId": "14831628976106288763"
     }
    },
    "outputId": "77865ab5-4166-4708-cd88-98a91f294877"
   },
   "execution_count": null,
   "outputs": [
    {
     "output_type": "stream",
     "name": "stdout",
     "text": [
      "[[1 5]\n",
      " [4 8]]\n",
      "[[2 3]\n",
      " [7 6]]\n",
      "tf.Tensor(\n",
      "[[2 5]\n",
      " [7 8]], shape=(2, 2), dtype=int64)\n"
     ]
    }
   ]
  },
  {
   "cell_type": "markdown",
   "source": [
    "----\n",
    "## Minimum\n",
    "Принимает слои с идентичной формой и хранит **наименьший** из нейронов на каждой позиции"
   ],
   "metadata": {
    "id": "WsHbpNrQ-_n2"
   }
  },
  {
   "cell_type": "code",
   "source": [
    "x = np.array([[1, 5], [4, 8]])\n",
    "y = np.array([[2, 3], [7, 6]])\n",
    "print(x)\n",
    "print(y)\n",
    "res = tf.keras.layers.Minimum()([x, y])\n",
    "print(res)"
   ],
   "metadata": {
    "colab": {
     "base_uri": "https://localhost:8080/"
    },
    "id": "eX7JZIvVCFd-",
    "executionInfo": {
     "status": "ok",
     "timestamp": 1680994230469,
     "user_tz": -180,
     "elapsed": 5,
     "user": {
      "displayName": "Михаил Глазов",
      "userId": "14831628976106288763"
     }
    },
    "outputId": "12516342-eb70-47be-9e17-f4490a7de56c"
   },
   "execution_count": null,
   "outputs": [
    {
     "output_type": "stream",
     "name": "stdout",
     "text": [
      "[[1 5]\n",
      " [4 8]]\n",
      "[[2 3]\n",
      " [7 6]]\n",
      "tf.Tensor(\n",
      "[[1 3]\n",
      " [4 6]], shape=(2, 2), dtype=int64)\n"
     ]
    }
   ]
  },
  {
   "cell_type": "markdown",
   "source": [
    "----\n",
    "## Add\n",
    "Принимает слои с идентичной формой и возвращает поэлементную **сумму** значений нейронов на соответствующих местах"
   ],
   "metadata": {
    "id": "Yc9gIqg0_MJO"
   }
  },
  {
   "cell_type": "code",
   "source": [
    "x = np.arange(4).reshape(2, 2)\n",
    "y = np.arange(4, 8).reshape(2, 2)\n",
    "print(x)\n",
    "print(y)\n",
    "res = tf.keras.layers.Add()([x, y])\n",
    "print(res)"
   ],
   "metadata": {
    "colab": {
     "base_uri": "https://localhost:8080/"
    },
    "id": "vgPOgP3aCF4O",
    "executionInfo": {
     "status": "ok",
     "timestamp": 1680994307887,
     "user_tz": -180,
     "elapsed": 323,
     "user": {
      "displayName": "Михаил Глазов",
      "userId": "14831628976106288763"
     }
    },
    "outputId": "b1c2aa70-3047-48b0-8e1f-01dfd87868d7"
   },
   "execution_count": null,
   "outputs": [
    {
     "output_type": "stream",
     "name": "stdout",
     "text": [
      "[[0 1]\n",
      " [2 3]]\n",
      "[[4 5]\n",
      " [6 7]]\n",
      "tf.Tensor(\n",
      "[[ 4  6]\n",
      " [ 8 10]], shape=(2, 2), dtype=int64)\n"
     ]
    }
   ]
  },
  {
   "cell_type": "markdown",
   "source": [
    "----\n",
    "## Subtract\n",
    "Принимает слои с идентичной формой и возвращает поэлементную **разность** значений нейронов на соответствующих местах"
   ],
   "metadata": {
    "id": "WyxNiFhWAto-"
   }
  },
  {
   "cell_type": "code",
   "source": [
    "x = np.arange(4, 8).reshape(2, 2)\n",
    "y = np.arange(4).reshape(2, 2)\n",
    "print(x)\n",
    "print(y)\n",
    "res = tf.keras.layers.Subtract()([x, y])\n",
    "print(res)"
   ],
   "metadata": {
    "colab": {
     "base_uri": "https://localhost:8080/"
    },
    "id": "x1TPXIHzCGPO",
    "executionInfo": {
     "status": "ok",
     "timestamp": 1680994324748,
     "user_tz": -180,
     "elapsed": 365,
     "user": {
      "displayName": "Михаил Глазов",
      "userId": "14831628976106288763"
     }
    },
    "outputId": "73b97abd-dd71-4b59-bca5-53c495131960"
   },
   "execution_count": null,
   "outputs": [
    {
     "output_type": "stream",
     "name": "stdout",
     "text": [
      "[[4 5]\n",
      " [6 7]]\n",
      "[[0 1]\n",
      " [2 3]]\n",
      "tf.Tensor(\n",
      "[[4 4]\n",
      " [4 4]], shape=(2, 2), dtype=int64)\n"
     ]
    }
   ]
  },
  {
   "cell_type": "markdown",
   "source": [
    "----\n",
    "## Multiply\n",
    "Принимает слои с идентичной формой и возвращает поэлементное **перемножение** значений нейронов на соответствующих местах"
   ],
   "metadata": {
    "id": "5sfnwIQ3BlMm"
   }
  },
  {
   "cell_type": "code",
   "source": [
    "x = np.arange(4).reshape(2, 2)\n",
    "y = np.arange(4, 8).reshape(2, 2)\n",
    "print(x)\n",
    "print(y)\n",
    "res = tf.keras.layers.Multiply()([x, y])\n",
    "print(res)"
   ],
   "metadata": {
    "colab": {
     "base_uri": "https://localhost:8080/"
    },
    "id": "npCdS3wKCGvP",
    "executionInfo": {
     "status": "ok",
     "timestamp": 1680994358886,
     "user_tz": -180,
     "elapsed": 252,
     "user": {
      "displayName": "Михаил Глазов",
      "userId": "14831628976106288763"
     }
    },
    "outputId": "9db62458-aca7-4719-8a5c-1e0c42a416f1"
   },
   "execution_count": null,
   "outputs": [
    {
     "output_type": "stream",
     "name": "stdout",
     "text": [
      "[[0 1]\n",
      " [2 3]]\n",
      "[[4 5]\n",
      " [6 7]]\n",
      "tf.Tensor(\n",
      "[[ 0  5]\n",
      " [12 21]], shape=(2, 2), dtype=int64)\n"
     ]
    }
   ]
  },
  {
   "cell_type": "markdown",
   "source": [
    "----\n",
    "## Dot\n",
    "Перемножает нейроны слоёв как **матрицы**\n",
    "этот вариант не подходит для наших целей"
   ],
   "metadata": {
    "id": "pkd5BPLgBxle"
   }
  },
  {
   "cell_type": "code",
   "source": [
    "x = np.arange(10).reshape(1, 5, 2)\n",
    "y = np.arange(10, 20).reshape(1, 2, 5)\n",
    "print(x)\n",
    "print(y)\n",
    "res = tf.keras.layers.Dot(axes=(1, 2))([x, y])\n",
    "print(res)"
   ],
   "metadata": {
    "colab": {
     "base_uri": "https://localhost:8080/"
    },
    "id": "04GdM3sLCHyG",
    "executionInfo": {
     "status": "ok",
     "timestamp": 1680994542302,
     "user_tz": -180,
     "elapsed": 2,
     "user": {
      "displayName": "Михаил Глазов",
      "userId": "14831628976106288763"
     }
    },
    "outputId": "385c87bc-a05d-4220-f3cb-ac4a2761bb7f"
   },
   "execution_count": null,
   "outputs": [
    {
     "output_type": "stream",
     "name": "stdout",
     "text": [
      "[[[0 1]\n",
      "  [2 3]\n",
      "  [4 5]\n",
      "  [6 7]\n",
      "  [8 9]]]\n",
      "[[[10 11 12 13 14]\n",
      "  [15 16 17 18 19]]]\n",
      "tf.Tensor(\n",
      "[[[260 360]\n",
      "  [320 445]]], shape=(1, 2, 2), dtype=int64)\n"
     ]
    }
   ]
  },
  {
   "cell_type": "markdown",
   "source": [
    "Импорт библиотек"
   ],
   "metadata": {
    "id": "nqawJLH9viBp"
   }
  },
  {
   "cell_type": "code",
   "source": [
    "!pip install livelossplot"
   ],
   "metadata": {
    "colab": {
     "base_uri": "https://localhost:8080/"
    },
    "id": "HW_7vYRSvtdR",
    "executionInfo": {
     "status": "ok",
     "timestamp": 1681031696606,
     "user_tz": -180,
     "elapsed": 4258,
     "user": {
      "displayName": "Михаил Глазов",
      "userId": "14831628976106288763"
     }
    },
    "outputId": "ace5365a-1f18-4435-f602-ebebeca8bd20"
   },
   "execution_count": 4,
   "outputs": [
    {
     "output_type": "stream",
     "name": "stdout",
     "text": [
      "Looking in indexes: https://pypi.org/simple, https://us-python.pkg.dev/colab-wheels/public/simple/\n",
      "Requirement already satisfied: livelossplot in /usr/local/lib/python3.9/dist-packages (0.5.5)\n",
      "Requirement already satisfied: bokeh in /usr/local/lib/python3.9/dist-packages (from livelossplot) (2.4.3)\n",
      "Requirement already satisfied: matplotlib in /usr/local/lib/python3.9/dist-packages (from livelossplot) (3.7.1)\n",
      "Requirement already satisfied: typing-extensions>=3.10.0 in /usr/local/lib/python3.9/dist-packages (from bokeh->livelossplot) (4.5.0)\n",
      "Requirement already satisfied: numpy>=1.11.3 in /usr/local/lib/python3.9/dist-packages (from bokeh->livelossplot) (1.22.4)\n",
      "Requirement already satisfied: packaging>=16.8 in /usr/local/lib/python3.9/dist-packages (from bokeh->livelossplot) (23.0)\n",
      "Requirement already satisfied: Jinja2>=2.9 in /usr/local/lib/python3.9/dist-packages (from bokeh->livelossplot) (3.1.2)\n",
      "Requirement already satisfied: PyYAML>=3.10 in /usr/local/lib/python3.9/dist-packages (from bokeh->livelossplot) (6.0)\n",
      "Requirement already satisfied: pillow>=7.1.0 in /usr/local/lib/python3.9/dist-packages (from bokeh->livelossplot) (8.4.0)\n",
      "Requirement already satisfied: tornado>=5.1 in /usr/local/lib/python3.9/dist-packages (from bokeh->livelossplot) (6.2)\n",
      "Requirement already satisfied: fonttools>=4.22.0 in /usr/local/lib/python3.9/dist-packages (from matplotlib->livelossplot) (4.39.3)\n",
      "Requirement already satisfied: pyparsing>=2.3.1 in /usr/local/lib/python3.9/dist-packages (from matplotlib->livelossplot) (3.0.9)\n",
      "Requirement already satisfied: cycler>=0.10 in /usr/local/lib/python3.9/dist-packages (from matplotlib->livelossplot) (0.11.0)\n",
      "Requirement already satisfied: python-dateutil>=2.7 in /usr/local/lib/python3.9/dist-packages (from matplotlib->livelossplot) (2.8.2)\n",
      "Requirement already satisfied: kiwisolver>=1.0.1 in /usr/local/lib/python3.9/dist-packages (from matplotlib->livelossplot) (1.4.4)\n",
      "Requirement already satisfied: contourpy>=1.0.1 in /usr/local/lib/python3.9/dist-packages (from matplotlib->livelossplot) (1.0.7)\n",
      "Requirement already satisfied: importlib-resources>=3.2.0 in /usr/local/lib/python3.9/dist-packages (from matplotlib->livelossplot) (5.12.0)\n",
      "Requirement already satisfied: zipp>=3.1.0 in /usr/local/lib/python3.9/dist-packages (from importlib-resources>=3.2.0->matplotlib->livelossplot) (3.15.0)\n",
      "Requirement already satisfied: MarkupSafe>=2.0 in /usr/local/lib/python3.9/dist-packages (from Jinja2>=2.9->bokeh->livelossplot) (2.1.2)\n",
      "Requirement already satisfied: six>=1.5 in /usr/local/lib/python3.9/dist-packages (from python-dateutil>=2.7->matplotlib->livelossplot) (1.16.0)\n"
     ]
    }
   ]
  },
  {
   "cell_type": "code",
   "source": [
    "% cd drive / MyDrive / project / YaMlProject\n",
    "% ls"
   ],
   "metadata": {
    "colab": {
     "base_uri": "https://localhost:8080/"
    },
    "id": "BMeSR1--vu5R",
    "executionInfo": {
     "status": "ok",
     "timestamp": 1681031687377,
     "user_tz": -180,
     "elapsed": 226,
     "user": {
      "displayName": "Михаил Глазов",
      "userId": "14831628976106288763"
     }
    },
    "outputId": "831587df-62e4-4127-98b9-37b56fb1a501"
   },
   "execution_count": 3,
   "outputs": [
    {
     "output_type": "stream",
     "name": "stdout",
     "text": [
      "/content/drive/MyDrive/project/YaMlProject\n",
      "\u001B[0m\u001B[01;34mcore\u001B[0m/  \u001B[01;34mdata\u001B[0m/  \u001B[01;34mmodels\u001B[0m/  \u001B[01;34mnotebooks\u001B[0m/  README.md  requirements.txt\n"
     ]
    }
   ]
  },
  {
   "cell_type": "code",
   "source": [
    "from google.colab import drive\n",
    "\n",
    "drive.mount('/content/drive')"
   ],
   "metadata": {
    "colab": {
     "base_uri": "https://localhost:8080/"
    },
    "id": "dzWxRchoyco7",
    "executionInfo": {
     "status": "ok",
     "timestamp": 1681031682568,
     "user_tz": -180,
     "elapsed": 2765,
     "user": {
      "displayName": "Михаил Глазов",
      "userId": "14831628976106288763"
     }
    },
    "outputId": "e20dc069-00f4-43d0-bce2-d59d9c1d9294"
   },
   "execution_count": 2,
   "outputs": [
    {
     "output_type": "stream",
     "name": "stdout",
     "text": [
      "Drive already mounted at /content/drive; to attempt to forcibly remount, call drive.mount(\"/content/drive\", force_remount=True).\n"
     ]
    }
   ]
  },
  {
   "cell_type": "code",
   "source": [
    "import tensorflow as tf\n",
    "import torchvision as tv\n",
    "from livelossplot import PlotLossesKeras\n",
    "\n",
    "from core.datasets import get_ds"
   ],
   "metadata": {
    "id": "o2jin73lvyMY",
    "executionInfo": {
     "status": "ok",
     "timestamp": 1681031710267,
     "user_tz": -180,
     "elapsed": 9574,
     "user": {
      "displayName": "Михаил Глазов",
      "userId": "14831628976106288763"
     }
    }
   },
   "execution_count": 1,
   "outputs": []
  },
  {
   "cell_type": "code",
   "source": [
    "train_ds, val_ds, test_ds = get_ds('repaired_data_train', 'repaired_data_test', back=3)"
   ],
   "metadata": {
    "id": "zxEn3tohv2ZJ",
    "executionInfo": {
     "status": "ok",
     "timestamp": 1681031722340,
     "user_tz": -180,
     "elapsed": 12111,
     "user": {
      "displayName": "Михаил Глазов",
      "userId": "14831628976106288763"
     }
    }
   },
   "execution_count": 3,
   "outputs": []
  },
  {
   "cell_type": "code",
   "source": [
    "crop = tv.transforms.CenterCrop(size=(28, 22))\n",
    "inverter = tv.transforms.RandomInvert(p=0.4)\n",
    "posterizer = tv.transforms.RandomPosterize(bits=6, p=0.4)\n",
    "jitter = tv.transforms.ColorJitter(brightness=.2, hue=0.2, contrast=0.5)\n",
    "perspective = tv.transforms.RandomPerspective(distortion_scale=0.2, p=0.4)\n",
    "affine = tv.transforms.RandomAffine(degrees=(-15, 15), translate=(0, 0.1), scale=(0.85, 1))\n",
    "gray_scale = tv.transforms.Grayscale(num_output_channels=3)\n",
    "solarizer = tv.transforms.RandomSolarize(threshold=100.0, p=0.4)\n",
    "equalizer = tv.transforms.RandomEqualize(p=0.4)\n",
    "\n",
    "transformer = tv.transforms.Compose([\n",
    "    jitter,\n",
    "    inverter,\n",
    "    perspective\n",
    "])\n",
    "train_ds.transform = transformer"
   ],
   "metadata": {
    "id": "62-HzsHPW35f",
    "executionInfo": {
     "status": "ok",
     "timestamp": 1681032772910,
     "user_tz": -180,
     "elapsed": 228,
     "user": {
      "displayName": "Михаил Глазов",
      "userId": "14831628976106288763"
     }
    }
   },
   "execution_count": 4,
   "outputs": []
  },
  {
   "cell_type": "markdown",
   "source": [
    "get_model возвращает модель с нужным skip-connection"
   ],
   "metadata": {
    "collapsed": false
   }
  },
  {
   "cell_type": "code",
   "execution_count": 7,
   "outputs": [],
   "source": [
    "def get_model(skip_con):\n",
    "    input_net = tf.keras.layers.Input((32, 32, 3))\n",
    "\n",
    "    ## Encoder starts\n",
    "    conv1 = tf.keras.layers.Conv2D(32, (3, 3), activation='relu', padding='same')(input_net)\n",
    "    conv2 = tf.keras.layers.Conv2D(64, (3, 3), activation='relu', padding='same')(conv1)\n",
    "    batch_norm = tf.keras.layers.BatchNormalization()(conv2)\n",
    "    poll1 = tf.keras.layers.AveragePooling2D((2, 2))(batch_norm)\n",
    "    conv3 = tf.keras.layers.Conv2D(64, (3, 3), activation='relu', padding='same')(poll1)\n",
    "\n",
    "    # conv4 = tf.keras.layers.Conv2D(128, 3, strides=(2, 2), activation='relu', padding='same')(conv3)\n",
    "    poll2 = tf.keras.layers.AveragePooling2D((2, 2))(conv3)\n",
    "\n",
    "    ## And now the decoder\n",
    "    up1 = tf.keras.layers.Conv2D(64, (3, 3), activation='relu', padding='same')(\n",
    "        tf.keras.layers.UpSampling2D(size=(2, 2))(poll2))\n",
    "    merge1 = skip_con([conv3, up1])\n",
    "    up2 = tf.keras.layers.Conv2D(64, (3, 3), activation='relu', padding='same')(\n",
    "        tf.keras.layers.UpSampling2D(size=(2, 2))(merge1))\n",
    "    merge2 = skip_con([conv2, up2])\n",
    "    up3 = tf.keras.layers.Conv2D(32, (3, 3), activation='relu', padding='same')(\n",
    "        tf.keras.layers.UpSampling2D(size=(2, 2))(merge2))\n",
    "\n",
    "    conv5 = tf.keras.layers.Conv2D(3, (3, 3), padding='same')(up3)\n",
    "    poll3 = tf.keras.layers.AveragePooling2D((2, 2))(conv5)\n",
    "\n",
    "    flatten = tf.keras.layers.Flatten()(poll3)\n",
    "    dense1 = tf.keras.layers.Dense(128, activation='relu')(flatten)\n",
    "    dense2 = tf.keras.layers.Dense(64, activation='relu')(dense1)\n",
    "    output_net = tf.keras.layers.Dense(10, activation='softmax')(dense2)\n",
    "\n",
    "    model = tf.keras.models.Model(inputs=input_net, outputs=output_net)\n",
    "    return model"
   ],
   "metadata": {
    "collapsed": false
   }
  },
  {
   "cell_type": "markdown",
   "source": [
    "----\n",
    "## Concatenate model"
   ],
   "metadata": {
    "collapsed": false
   }
  },
  {
   "cell_type": "code",
   "source": [
    "concatenate_model = get_model(tf.keras.layers.Concatenate(axis=3))\n",
    "concatenate_model.summary()"
   ],
   "metadata": {
    "colab": {
     "base_uri": "https://localhost:8080/"
    },
    "id": "XHvmbZXvwVko",
    "executionInfo": {
     "status": "ok",
     "timestamp": 1681040436953,
     "user_tz": -180,
     "elapsed": 691,
     "user": {
      "displayName": "Михаил Глазов",
      "userId": "14831628976106288763"
     }
    },
    "outputId": "b429fec4-f99a-45c5-e731-7ac945486158"
   },
   "execution_count": 8,
   "outputs": [
    {
     "name": "stdout",
     "output_type": "stream",
     "text": [
      "Model: \"model_1\"\n",
      "__________________________________________________________________________________________________\n",
      " Layer (type)                   Output Shape         Param #     Connected to                     \n",
      "==================================================================================================\n",
      " input_2 (InputLayer)           [(None, 32, 32, 3)]  0           []                               \n",
      "                                                                                                  \n",
      " conv2d_7 (Conv2D)              (None, 32, 32, 32)   896         ['input_2[0][0]']                \n",
      "                                                                                                  \n",
      " conv2d_8 (Conv2D)              (None, 32, 32, 64)   18496       ['conv2d_7[0][0]']               \n",
      "                                                                                                  \n",
      " batch_normalization_1 (BatchNo  (None, 32, 32, 64)  256         ['conv2d_8[0][0]']               \n",
      " rmalization)                                                                                     \n",
      "                                                                                                  \n",
      " average_pooling2d_3 (AveragePo  (None, 16, 16, 64)  0           ['batch_normalization_1[0][0]']  \n",
      " oling2D)                                                                                         \n",
      "                                                                                                  \n",
      " conv2d_9 (Conv2D)              (None, 16, 16, 64)   36928       ['average_pooling2d_3[0][0]']    \n",
      "                                                                                                  \n",
      " average_pooling2d_4 (AveragePo  (None, 8, 8, 64)    0           ['conv2d_9[0][0]']               \n",
      " oling2D)                                                                                         \n",
      "                                                                                                  \n",
      " up_sampling2d_3 (UpSampling2D)  (None, 16, 16, 64)  0           ['average_pooling2d_4[0][0]']    \n",
      "                                                                                                  \n",
      " conv2d_10 (Conv2D)             (None, 16, 16, 64)   36928       ['up_sampling2d_3[0][0]']        \n",
      "                                                                                                  \n",
      " concatenate_2 (Concatenate)    multiple             0           ['conv2d_9[0][0]',               \n",
      "                                                                  'conv2d_10[0][0]',              \n",
      "                                                                  'conv2d_8[0][0]',               \n",
      "                                                                  'conv2d_11[0][0]']              \n",
      "                                                                                                  \n",
      " up_sampling2d_4 (UpSampling2D)  (None, 32, 32, 128)  0          ['concatenate_2[0][0]']          \n",
      "                                                                                                  \n",
      " conv2d_11 (Conv2D)             (None, 32, 32, 64)   73792       ['up_sampling2d_4[0][0]']        \n",
      "                                                                                                  \n",
      " up_sampling2d_5 (UpSampling2D)  (None, 64, 64, 128)  0          ['concatenate_2[1][0]']          \n",
      "                                                                                                  \n",
      " conv2d_12 (Conv2D)             (None, 64, 64, 32)   36896       ['up_sampling2d_5[0][0]']        \n",
      "                                                                                                  \n",
      " conv2d_13 (Conv2D)             (None, 64, 64, 3)    867         ['conv2d_12[0][0]']              \n",
      "                                                                                                  \n",
      " average_pooling2d_5 (AveragePo  (None, 32, 32, 3)   0           ['conv2d_13[0][0]']              \n",
      " oling2D)                                                                                         \n",
      "                                                                                                  \n",
      " flatten_1 (Flatten)            (None, 3072)         0           ['average_pooling2d_5[0][0]']    \n",
      "                                                                                                  \n",
      " dense_3 (Dense)                (None, 128)          393344      ['flatten_1[0][0]']              \n",
      "                                                                                                  \n",
      " dense_4 (Dense)                (None, 64)           8256        ['dense_3[0][0]']                \n",
      "                                                                                                  \n",
      " dense_5 (Dense)                (None, 10)           650         ['dense_4[0][0]']                \n",
      "                                                                                                  \n",
      "==================================================================================================\n",
      "Total params: 607,309\n",
      "Trainable params: 607,181\n",
      "Non-trainable params: 128\n",
      "__________________________________________________________________________________________________\n"
     ]
    }
   ]
  },
  {
   "cell_type": "code",
   "source": [
    "concatenate_model.compile(optimizer='adam', metrics=['accuracy'],\n",
    "                          loss=tf.keras.losses.SparseCategoricalCrossentropy())"
   ],
   "metadata": {
    "id": "7L3n49js2kI4",
    "executionInfo": {
     "status": "ok",
     "timestamp": 1681040440300,
     "user_tz": -180,
     "elapsed": 311,
     "user": {
      "displayName": "Михаил Глазов",
      "userId": "14831628976106288763"
     }
    }
   },
   "execution_count": 32,
   "outputs": []
  },
  {
   "cell_type": "code",
   "source": [
    "concatenate_model.fit(train_ds, validation_data=val_ds, epochs=100,\n",
    "                      callbacks=[PlotLossesKeras()], verbose=False)"
   ],
   "metadata": {
    "colab": {
     "base_uri": "https://localhost:8080/",
     "height": 936
    },
    "id": "x56cG-wF2mnA",
    "executionInfo": {
     "status": "ok",
     "timestamp": 1681047139526,
     "user_tz": -180,
     "elapsed": 6697220,
     "user": {
      "displayName": "Михаил Глазов",
      "userId": "14831628976106288763"
     }
    },
    "outputId": "c4ebadde-4079-4b61-ffdc-929efa86e566"
   },
   "execution_count": 33,
   "outputs": [
    {
     "output_type": "display_data",
     "data": {
      "text/plain": [
       "<Figure size 1200x800 with 2 Axes>"
      ],
      "image/png": "[encoded data removed]"
     },
     "metadata": {}
    },
    {
     "output_type": "stream",
     "name": "stdout",
     "text": [
      "accuracy\n",
      "\ttraining         \t (min:    0.477, max:    0.988, cur:    0.987)\n",
      "\tvalidation       \t (min:    0.603, max:    0.934, cur:    0.927)\n",
      "Loss\n",
      "\ttraining         \t (min:    0.041, max:    1.516, cur:    0.043)\n",
      "\tvalidation       \t (min:    0.271, max:    2.011, cur:    0.480)\n"
     ]
    },
    {
     "output_type": "execute_result",
     "data": {
      "text/plain": [
       "<keras.callbacks.History at 0x7f89e849fe80>"
      ]
     },
     "metadata": {},
     "execution_count": 33
    }
   ]
  },
  {
   "cell_type": "markdown",
   "source": [
    "----\n",
    "## Average model"
   ],
   "metadata": {
    "collapsed": false
   }
  },
  {
   "cell_type": "code",
   "execution_count": 12,
   "outputs": [
    {
     "name": "stdout",
     "output_type": "stream",
     "text": [
      "Model: \"model_5\"\n",
      "__________________________________________________________________________________________________\n",
      " Layer (type)                   Output Shape         Param #     Connected to                     \n",
      "==================================================================================================\n",
      " input_6 (InputLayer)           [(None, 32, 32, 3)]  0           []                               \n",
      "                                                                                                  \n",
      " conv2d_35 (Conv2D)             (None, 32, 32, 32)   896         ['input_6[0][0]']                \n",
      "                                                                                                  \n",
      " conv2d_36 (Conv2D)             (None, 32, 32, 64)   18496       ['conv2d_35[0][0]']              \n",
      "                                                                                                  \n",
      " batch_normalization_5 (BatchNo  (None, 32, 32, 64)  256         ['conv2d_36[0][0]']              \n",
      " rmalization)                                                                                     \n",
      "                                                                                                  \n",
      " average_pooling2d_15 (AverageP  (None, 16, 16, 64)  0           ['batch_normalization_5[0][0]']  \n",
      " ooling2D)                                                                                        \n",
      "                                                                                                  \n",
      " conv2d_37 (Conv2D)             (None, 16, 16, 64)   36928       ['average_pooling2d_15[0][0]']   \n",
      "                                                                                                  \n",
      " average_pooling2d_16 (AverageP  (None, 8, 8, 64)    0           ['conv2d_37[0][0]']              \n",
      " ooling2D)                                                                                        \n",
      "                                                                                                  \n",
      " up_sampling2d_15 (UpSampling2D  (None, 16, 16, 64)  0           ['average_pooling2d_16[0][0]']   \n",
      " )                                                                                                \n",
      "                                                                                                  \n",
      " conv2d_38 (Conv2D)             (None, 16, 16, 64)   36928       ['up_sampling2d_15[0][0]']       \n",
      "                                                                                                  \n",
      " average_1 (Average)            multiple             0           ['conv2d_37[0][0]',              \n",
      "                                                                  'conv2d_38[0][0]',              \n",
      "                                                                  'conv2d_36[0][0]',              \n",
      "                                                                  'conv2d_39[0][0]']              \n",
      "                                                                                                  \n",
      " up_sampling2d_16 (UpSampling2D  (None, 32, 32, 64)  0           ['average_1[0][0]']              \n",
      " )                                                                                                \n",
      "                                                                                                  \n",
      " conv2d_39 (Conv2D)             (None, 32, 32, 64)   36928       ['up_sampling2d_16[0][0]']       \n",
      "                                                                                                  \n",
      " up_sampling2d_17 (UpSampling2D  (None, 64, 64, 64)  0           ['average_1[1][0]']              \n",
      " )                                                                                                \n",
      "                                                                                                  \n",
      " conv2d_40 (Conv2D)             (None, 64, 64, 32)   18464       ['up_sampling2d_17[0][0]']       \n",
      "                                                                                                  \n",
      " conv2d_41 (Conv2D)             (None, 64, 64, 3)    867         ['conv2d_40[0][0]']              \n",
      "                                                                                                  \n",
      " average_pooling2d_17 (AverageP  (None, 32, 32, 3)   0           ['conv2d_41[0][0]']              \n",
      " ooling2D)                                                                                        \n",
      "                                                                                                  \n",
      " flatten_5 (Flatten)            (None, 3072)         0           ['average_pooling2d_17[0][0]']   \n",
      "                                                                                                  \n",
      " dense_15 (Dense)               (None, 128)          393344      ['flatten_5[0][0]']              \n",
      "                                                                                                  \n",
      " dense_16 (Dense)               (None, 64)           8256        ['dense_15[0][0]']               \n",
      "                                                                                                  \n",
      " dense_17 (Dense)               (None, 10)           650         ['dense_16[0][0]']               \n",
      "                                                                                                  \n",
      "==================================================================================================\n",
      "Total params: 552,013\n",
      "Trainable params: 551,885\n",
      "Non-trainable params: 128\n",
      "__________________________________________________________________________________________________\n"
     ]
    }
   ],
   "source": [
    "average_model = get_model(tf.keras.layers.Average())\n",
    "average_model.summary()"
   ],
   "metadata": {
    "collapsed": false
   }
  },
  {
   "cell_type": "code",
   "execution_count": 13,
   "outputs": [],
   "source": [
    "average_model.compile(optimizer='adam', metrics=['accuracy'],\n",
    "                      loss=tf.keras.losses.SparseCategoricalCrossentropy())"
   ],
   "metadata": {
    "collapsed": false
   }
  },
  {
   "cell_type": "code",
   "execution_count": 15,
   "outputs": [
    {
     "data": {
      "text/plain": "<Figure size 1200x800 with 2 Axes>",
      "image/png": "[encoded data removed]"
     },
     "metadata": {},
     "output_type": "display_data"
    },
    {
     "name": "stdout",
     "output_type": "stream",
     "text": [
      "accuracy\n",
      "\ttraining         \t (min:    0.356, max:    0.932, cur:    0.932)\n",
      "\tvalidation       \t (min:    0.613, max:    0.923, cur:    0.921)\n",
      "Loss\n",
      "\ttraining         \t (min:    0.227, max:    1.827, cur:    0.227)\n",
      "\tvalidation       \t (min:    0.286, max:    2.006, cur:    0.286)\n"
     ]
    },
    {
     "ename": "KeyboardInterrupt",
     "evalue": "",
     "output_type": "error",
     "traceback": [
      "\u001B[1;31m---------------------------------------------------------------------------\u001B[0m",
      "\u001B[1;31mKeyboardInterrupt\u001B[0m                         Traceback (most recent call last)",
      "Cell \u001B[1;32mIn[15], line 1\u001B[0m\n\u001B[1;32m----> 1\u001B[0m \u001B[43maverage_model\u001B[49m\u001B[38;5;241;43m.\u001B[39;49m\u001B[43mfit\u001B[49m\u001B[43m(\u001B[49m\u001B[43mtrain_ds\u001B[49m\u001B[43m,\u001B[49m\u001B[43m \u001B[49m\u001B[43mvalidation_data\u001B[49m\u001B[38;5;241;43m=\u001B[39;49m\u001B[43mval_ds\u001B[49m\u001B[43m,\u001B[49m\u001B[43m \u001B[49m\u001B[43mepochs\u001B[49m\u001B[38;5;241;43m=\u001B[39;49m\u001B[38;5;241;43m100\u001B[39;49m\u001B[43m,\u001B[49m\n\u001B[0;32m      2\u001B[0m \u001B[43m                  \u001B[49m\u001B[43mcallbacks\u001B[49m\u001B[38;5;241;43m=\u001B[39;49m\u001B[43m[\u001B[49m\u001B[43mPlotLossesKeras\u001B[49m\u001B[43m(\u001B[49m\u001B[43m)\u001B[49m\u001B[43m]\u001B[49m\u001B[43m,\u001B[49m\u001B[43m \u001B[49m\u001B[43mverbose\u001B[49m\u001B[38;5;241;43m=\u001B[39;49m\u001B[38;5;28;43;01mFalse\u001B[39;49;00m\u001B[43m)\u001B[49m\n",
      "File \u001B[1;32m~\\PycharmProjects\\YaMlProject\\venv\\lib\\site-packages\\keras\\utils\\traceback_utils.py:65\u001B[0m, in \u001B[0;36mfilter_traceback.<locals>.error_handler\u001B[1;34m(*args, **kwargs)\u001B[0m\n\u001B[0;32m     63\u001B[0m filtered_tb \u001B[38;5;241m=\u001B[39m \u001B[38;5;28;01mNone\u001B[39;00m\n\u001B[0;32m     64\u001B[0m \u001B[38;5;28;01mtry\u001B[39;00m:\n\u001B[1;32m---> 65\u001B[0m     \u001B[38;5;28;01mreturn\u001B[39;00m fn(\u001B[38;5;241m*\u001B[39margs, \u001B[38;5;241m*\u001B[39m\u001B[38;5;241m*\u001B[39mkwargs)\n\u001B[0;32m     66\u001B[0m \u001B[38;5;28;01mexcept\u001B[39;00m \u001B[38;5;167;01mException\u001B[39;00m \u001B[38;5;28;01mas\u001B[39;00m e:\n\u001B[0;32m     67\u001B[0m     filtered_tb \u001B[38;5;241m=\u001B[39m _process_traceback_frames(e\u001B[38;5;241m.\u001B[39m__traceback__)\n",
      "File \u001B[1;32m~\\PycharmProjects\\YaMlProject\\venv\\lib\\site-packages\\keras\\engine\\training.py:1685\u001B[0m, in \u001B[0;36mModel.fit\u001B[1;34m(self, x, y, batch_size, epochs, verbose, callbacks, validation_split, validation_data, shuffle, class_weight, sample_weight, initial_epoch, steps_per_epoch, validation_steps, validation_batch_size, validation_freq, max_queue_size, workers, use_multiprocessing)\u001B[0m\n\u001B[0;32m   1677\u001B[0m \u001B[38;5;28;01mwith\u001B[39;00m tf\u001B[38;5;241m.\u001B[39mprofiler\u001B[38;5;241m.\u001B[39mexperimental\u001B[38;5;241m.\u001B[39mTrace(\n\u001B[0;32m   1678\u001B[0m     \u001B[38;5;124m\"\u001B[39m\u001B[38;5;124mtrain\u001B[39m\u001B[38;5;124m\"\u001B[39m,\n\u001B[0;32m   1679\u001B[0m     epoch_num\u001B[38;5;241m=\u001B[39mepoch,\n\u001B[1;32m   (...)\u001B[0m\n\u001B[0;32m   1682\u001B[0m     _r\u001B[38;5;241m=\u001B[39m\u001B[38;5;241m1\u001B[39m,\n\u001B[0;32m   1683\u001B[0m ):\n\u001B[0;32m   1684\u001B[0m     callbacks\u001B[38;5;241m.\u001B[39mon_train_batch_begin(step)\n\u001B[1;32m-> 1685\u001B[0m     tmp_logs \u001B[38;5;241m=\u001B[39m \u001B[38;5;28;43mself\u001B[39;49m\u001B[38;5;241;43m.\u001B[39;49m\u001B[43mtrain_function\u001B[49m\u001B[43m(\u001B[49m\u001B[43miterator\u001B[49m\u001B[43m)\u001B[49m\n\u001B[0;32m   1686\u001B[0m     \u001B[38;5;28;01mif\u001B[39;00m data_handler\u001B[38;5;241m.\u001B[39mshould_sync:\n\u001B[0;32m   1687\u001B[0m         context\u001B[38;5;241m.\u001B[39masync_wait()\n",
      "File \u001B[1;32m~\\PycharmProjects\\YaMlProject\\venv\\lib\\site-packages\\tensorflow\\python\\util\\traceback_utils.py:150\u001B[0m, in \u001B[0;36mfilter_traceback.<locals>.error_handler\u001B[1;34m(*args, **kwargs)\u001B[0m\n\u001B[0;32m    148\u001B[0m filtered_tb \u001B[38;5;241m=\u001B[39m \u001B[38;5;28;01mNone\u001B[39;00m\n\u001B[0;32m    149\u001B[0m \u001B[38;5;28;01mtry\u001B[39;00m:\n\u001B[1;32m--> 150\u001B[0m   \u001B[38;5;28;01mreturn\u001B[39;00m fn(\u001B[38;5;241m*\u001B[39margs, \u001B[38;5;241m*\u001B[39m\u001B[38;5;241m*\u001B[39mkwargs)\n\u001B[0;32m    151\u001B[0m \u001B[38;5;28;01mexcept\u001B[39;00m \u001B[38;5;167;01mException\u001B[39;00m \u001B[38;5;28;01mas\u001B[39;00m e:\n\u001B[0;32m    152\u001B[0m   filtered_tb \u001B[38;5;241m=\u001B[39m _process_traceback_frames(e\u001B[38;5;241m.\u001B[39m__traceback__)\n",
      "File \u001B[1;32m~\\PycharmProjects\\YaMlProject\\venv\\lib\\site-packages\\tensorflow\\python\\eager\\polymorphic_function\\polymorphic_function.py:894\u001B[0m, in \u001B[0;36mFunction.__call__\u001B[1;34m(self, *args, **kwds)\u001B[0m\n\u001B[0;32m    891\u001B[0m compiler \u001B[38;5;241m=\u001B[39m \u001B[38;5;124m\"\u001B[39m\u001B[38;5;124mxla\u001B[39m\u001B[38;5;124m\"\u001B[39m \u001B[38;5;28;01mif\u001B[39;00m \u001B[38;5;28mself\u001B[39m\u001B[38;5;241m.\u001B[39m_jit_compile \u001B[38;5;28;01melse\u001B[39;00m \u001B[38;5;124m\"\u001B[39m\u001B[38;5;124mnonXla\u001B[39m\u001B[38;5;124m\"\u001B[39m\n\u001B[0;32m    893\u001B[0m \u001B[38;5;28;01mwith\u001B[39;00m OptionalXlaContext(\u001B[38;5;28mself\u001B[39m\u001B[38;5;241m.\u001B[39m_jit_compile):\n\u001B[1;32m--> 894\u001B[0m   result \u001B[38;5;241m=\u001B[39m \u001B[38;5;28mself\u001B[39m\u001B[38;5;241m.\u001B[39m_call(\u001B[38;5;241m*\u001B[39margs, \u001B[38;5;241m*\u001B[39m\u001B[38;5;241m*\u001B[39mkwds)\n\u001B[0;32m    896\u001B[0m new_tracing_count \u001B[38;5;241m=\u001B[39m \u001B[38;5;28mself\u001B[39m\u001B[38;5;241m.\u001B[39mexperimental_get_tracing_count()\n\u001B[0;32m    897\u001B[0m without_tracing \u001B[38;5;241m=\u001B[39m (tracing_count \u001B[38;5;241m==\u001B[39m new_tracing_count)\n",
      "File \u001B[1;32m~\\PycharmProjects\\YaMlProject\\venv\\lib\\site-packages\\tensorflow\\python\\eager\\polymorphic_function\\polymorphic_function.py:926\u001B[0m, in \u001B[0;36mFunction._call\u001B[1;34m(self, *args, **kwds)\u001B[0m\n\u001B[0;32m    923\u001B[0m   \u001B[38;5;28mself\u001B[39m\u001B[38;5;241m.\u001B[39m_lock\u001B[38;5;241m.\u001B[39mrelease()\n\u001B[0;32m    924\u001B[0m   \u001B[38;5;66;03m# In this case we have created variables on the first call, so we run the\u001B[39;00m\n\u001B[0;32m    925\u001B[0m   \u001B[38;5;66;03m# defunned version which is guaranteed to never create variables.\u001B[39;00m\n\u001B[1;32m--> 926\u001B[0m   \u001B[38;5;28;01mreturn\u001B[39;00m \u001B[38;5;28mself\u001B[39m\u001B[38;5;241m.\u001B[39m_no_variable_creation_fn(\u001B[38;5;241m*\u001B[39margs, \u001B[38;5;241m*\u001B[39m\u001B[38;5;241m*\u001B[39mkwds)  \u001B[38;5;66;03m# pylint: disable=not-callable\u001B[39;00m\n\u001B[0;32m    927\u001B[0m \u001B[38;5;28;01melif\u001B[39;00m \u001B[38;5;28mself\u001B[39m\u001B[38;5;241m.\u001B[39m_variable_creation_fn \u001B[38;5;129;01mis\u001B[39;00m \u001B[38;5;129;01mnot\u001B[39;00m \u001B[38;5;28;01mNone\u001B[39;00m:\n\u001B[0;32m    928\u001B[0m   \u001B[38;5;66;03m# Release the lock early so that multiple threads can perform the call\u001B[39;00m\n\u001B[0;32m    929\u001B[0m   \u001B[38;5;66;03m# in parallel.\u001B[39;00m\n\u001B[0;32m    930\u001B[0m   \u001B[38;5;28mself\u001B[39m\u001B[38;5;241m.\u001B[39m_lock\u001B[38;5;241m.\u001B[39mrelease()\n",
      "File \u001B[1;32m~\\PycharmProjects\\YaMlProject\\venv\\lib\\site-packages\\tensorflow\\python\\eager\\polymorphic_function\\tracing_compiler.py:143\u001B[0m, in \u001B[0;36mTracingCompiler.__call__\u001B[1;34m(self, *args, **kwargs)\u001B[0m\n\u001B[0;32m    140\u001B[0m \u001B[38;5;28;01mwith\u001B[39;00m \u001B[38;5;28mself\u001B[39m\u001B[38;5;241m.\u001B[39m_lock:\n\u001B[0;32m    141\u001B[0m   (concrete_function,\n\u001B[0;32m    142\u001B[0m    filtered_flat_args) \u001B[38;5;241m=\u001B[39m \u001B[38;5;28mself\u001B[39m\u001B[38;5;241m.\u001B[39m_maybe_define_function(args, kwargs)\n\u001B[1;32m--> 143\u001B[0m \u001B[38;5;28;01mreturn\u001B[39;00m \u001B[43mconcrete_function\u001B[49m\u001B[38;5;241;43m.\u001B[39;49m\u001B[43m_call_flat\u001B[49m\u001B[43m(\u001B[49m\n\u001B[0;32m    144\u001B[0m \u001B[43m    \u001B[49m\u001B[43mfiltered_flat_args\u001B[49m\u001B[43m,\u001B[49m\u001B[43m \u001B[49m\u001B[43mcaptured_inputs\u001B[49m\u001B[38;5;241;43m=\u001B[39;49m\u001B[43mconcrete_function\u001B[49m\u001B[38;5;241;43m.\u001B[39;49m\u001B[43mcaptured_inputs\u001B[49m\u001B[43m)\u001B[49m\n",
      "File \u001B[1;32m~\\PycharmProjects\\YaMlProject\\venv\\lib\\site-packages\\tensorflow\\python\\eager\\polymorphic_function\\monomorphic_function.py:1757\u001B[0m, in \u001B[0;36mConcreteFunction._call_flat\u001B[1;34m(self, args, captured_inputs, cancellation_manager)\u001B[0m\n\u001B[0;32m   1753\u001B[0m possible_gradient_type \u001B[38;5;241m=\u001B[39m gradients_util\u001B[38;5;241m.\u001B[39mPossibleTapeGradientTypes(args)\n\u001B[0;32m   1754\u001B[0m \u001B[38;5;28;01mif\u001B[39;00m (possible_gradient_type \u001B[38;5;241m==\u001B[39m gradients_util\u001B[38;5;241m.\u001B[39mPOSSIBLE_GRADIENT_TYPES_NONE\n\u001B[0;32m   1755\u001B[0m     \u001B[38;5;129;01mand\u001B[39;00m executing_eagerly):\n\u001B[0;32m   1756\u001B[0m   \u001B[38;5;66;03m# No tape is watching; skip to running the function.\u001B[39;00m\n\u001B[1;32m-> 1757\u001B[0m   \u001B[38;5;28;01mreturn\u001B[39;00m \u001B[38;5;28mself\u001B[39m\u001B[38;5;241m.\u001B[39m_build_call_outputs(\u001B[38;5;28;43mself\u001B[39;49m\u001B[38;5;241;43m.\u001B[39;49m\u001B[43m_inference_function\u001B[49m\u001B[38;5;241;43m.\u001B[39;49m\u001B[43mcall\u001B[49m\u001B[43m(\u001B[49m\n\u001B[0;32m   1758\u001B[0m \u001B[43m      \u001B[49m\u001B[43mctx\u001B[49m\u001B[43m,\u001B[49m\u001B[43m \u001B[49m\u001B[43margs\u001B[49m\u001B[43m,\u001B[49m\u001B[43m \u001B[49m\u001B[43mcancellation_manager\u001B[49m\u001B[38;5;241;43m=\u001B[39;49m\u001B[43mcancellation_manager\u001B[49m\u001B[43m)\u001B[49m)\n\u001B[0;32m   1759\u001B[0m forward_backward \u001B[38;5;241m=\u001B[39m \u001B[38;5;28mself\u001B[39m\u001B[38;5;241m.\u001B[39m_select_forward_and_backward_functions(\n\u001B[0;32m   1760\u001B[0m     args,\n\u001B[0;32m   1761\u001B[0m     possible_gradient_type,\n\u001B[0;32m   1762\u001B[0m     executing_eagerly)\n\u001B[0;32m   1763\u001B[0m forward_function, args_with_tangents \u001B[38;5;241m=\u001B[39m forward_backward\u001B[38;5;241m.\u001B[39mforward()\n",
      "File \u001B[1;32m~\\PycharmProjects\\YaMlProject\\venv\\lib\\site-packages\\tensorflow\\python\\eager\\polymorphic_function\\monomorphic_function.py:381\u001B[0m, in \u001B[0;36m_EagerDefinedFunction.call\u001B[1;34m(self, ctx, args, cancellation_manager)\u001B[0m\n\u001B[0;32m    379\u001B[0m \u001B[38;5;28;01mwith\u001B[39;00m _InterpolateFunctionError(\u001B[38;5;28mself\u001B[39m):\n\u001B[0;32m    380\u001B[0m   \u001B[38;5;28;01mif\u001B[39;00m cancellation_manager \u001B[38;5;129;01mis\u001B[39;00m \u001B[38;5;28;01mNone\u001B[39;00m:\n\u001B[1;32m--> 381\u001B[0m     outputs \u001B[38;5;241m=\u001B[39m \u001B[43mexecute\u001B[49m\u001B[38;5;241;43m.\u001B[39;49m\u001B[43mexecute\u001B[49m\u001B[43m(\u001B[49m\n\u001B[0;32m    382\u001B[0m \u001B[43m        \u001B[49m\u001B[38;5;28;43mstr\u001B[39;49m\u001B[43m(\u001B[49m\u001B[38;5;28;43mself\u001B[39;49m\u001B[38;5;241;43m.\u001B[39;49m\u001B[43msignature\u001B[49m\u001B[38;5;241;43m.\u001B[39;49m\u001B[43mname\u001B[49m\u001B[43m)\u001B[49m\u001B[43m,\u001B[49m\n\u001B[0;32m    383\u001B[0m \u001B[43m        \u001B[49m\u001B[43mnum_outputs\u001B[49m\u001B[38;5;241;43m=\u001B[39;49m\u001B[38;5;28;43mself\u001B[39;49m\u001B[38;5;241;43m.\u001B[39;49m\u001B[43m_num_outputs\u001B[49m\u001B[43m,\u001B[49m\n\u001B[0;32m    384\u001B[0m \u001B[43m        \u001B[49m\u001B[43minputs\u001B[49m\u001B[38;5;241;43m=\u001B[39;49m\u001B[43margs\u001B[49m\u001B[43m,\u001B[49m\n\u001B[0;32m    385\u001B[0m \u001B[43m        \u001B[49m\u001B[43mattrs\u001B[49m\u001B[38;5;241;43m=\u001B[39;49m\u001B[43mattrs\u001B[49m\u001B[43m,\u001B[49m\n\u001B[0;32m    386\u001B[0m \u001B[43m        \u001B[49m\u001B[43mctx\u001B[49m\u001B[38;5;241;43m=\u001B[39;49m\u001B[43mctx\u001B[49m\u001B[43m)\u001B[49m\n\u001B[0;32m    387\u001B[0m   \u001B[38;5;28;01melse\u001B[39;00m:\n\u001B[0;32m    388\u001B[0m     outputs \u001B[38;5;241m=\u001B[39m execute\u001B[38;5;241m.\u001B[39mexecute_with_cancellation(\n\u001B[0;32m    389\u001B[0m         \u001B[38;5;28mstr\u001B[39m(\u001B[38;5;28mself\u001B[39m\u001B[38;5;241m.\u001B[39msignature\u001B[38;5;241m.\u001B[39mname),\n\u001B[0;32m    390\u001B[0m         num_outputs\u001B[38;5;241m=\u001B[39m\u001B[38;5;28mself\u001B[39m\u001B[38;5;241m.\u001B[39m_num_outputs,\n\u001B[1;32m   (...)\u001B[0m\n\u001B[0;32m    393\u001B[0m         ctx\u001B[38;5;241m=\u001B[39mctx,\n\u001B[0;32m    394\u001B[0m         cancellation_manager\u001B[38;5;241m=\u001B[39mcancellation_manager)\n",
      "File \u001B[1;32m~\\PycharmProjects\\YaMlProject\\venv\\lib\\site-packages\\tensorflow\\python\\eager\\execute.py:52\u001B[0m, in \u001B[0;36mquick_execute\u001B[1;34m(op_name, num_outputs, inputs, attrs, ctx, name)\u001B[0m\n\u001B[0;32m     50\u001B[0m \u001B[38;5;28;01mtry\u001B[39;00m:\n\u001B[0;32m     51\u001B[0m   ctx\u001B[38;5;241m.\u001B[39mensure_initialized()\n\u001B[1;32m---> 52\u001B[0m   tensors \u001B[38;5;241m=\u001B[39m \u001B[43mpywrap_tfe\u001B[49m\u001B[38;5;241;43m.\u001B[39;49m\u001B[43mTFE_Py_Execute\u001B[49m\u001B[43m(\u001B[49m\u001B[43mctx\u001B[49m\u001B[38;5;241;43m.\u001B[39;49m\u001B[43m_handle\u001B[49m\u001B[43m,\u001B[49m\u001B[43m \u001B[49m\u001B[43mdevice_name\u001B[49m\u001B[43m,\u001B[49m\u001B[43m \u001B[49m\u001B[43mop_name\u001B[49m\u001B[43m,\u001B[49m\n\u001B[0;32m     53\u001B[0m \u001B[43m                                      \u001B[49m\u001B[43minputs\u001B[49m\u001B[43m,\u001B[49m\u001B[43m \u001B[49m\u001B[43mattrs\u001B[49m\u001B[43m,\u001B[49m\u001B[43m \u001B[49m\u001B[43mnum_outputs\u001B[49m\u001B[43m)\u001B[49m\n\u001B[0;32m     54\u001B[0m \u001B[38;5;28;01mexcept\u001B[39;00m core\u001B[38;5;241m.\u001B[39m_NotOkStatusException \u001B[38;5;28;01mas\u001B[39;00m e:\n\u001B[0;32m     55\u001B[0m   \u001B[38;5;28;01mif\u001B[39;00m name \u001B[38;5;129;01mis\u001B[39;00m \u001B[38;5;129;01mnot\u001B[39;00m \u001B[38;5;28;01mNone\u001B[39;00m:\n",
      "\u001B[1;31mKeyboardInterrupt\u001B[0m: "
     ]
    }
   ],
   "source": [
    "average_model.fit(train_ds, validation_data=val_ds, epochs=50,\n",
    "                  callbacks=[PlotLossesKeras()], verbose=False)"
   ],
   "metadata": {
    "collapsed": false
   }
  },
  {
   "cell_type": "markdown",
   "source": [
    "----\n",
    "## Maximum model"
   ],
   "metadata": {
    "collapsed": false
   }
  },
  {
   "cell_type": "code",
   "execution_count": 10,
   "outputs": [
    {
     "name": "stdout",
     "output_type": "stream",
     "text": [
      "Model: \"model_3\"\n",
      "__________________________________________________________________________________________________\n",
      " Layer (type)                   Output Shape         Param #     Connected to                     \n",
      "==================================================================================================\n",
      " input_4 (InputLayer)           [(None, 32, 32, 3)]  0           []                               \n",
      "                                                                                                  \n",
      " conv2d_21 (Conv2D)             (None, 32, 32, 32)   896         ['input_4[0][0]']                \n",
      "                                                                                                  \n",
      " conv2d_22 (Conv2D)             (None, 32, 32, 64)   18496       ['conv2d_21[0][0]']              \n",
      "                                                                                                  \n",
      " batch_normalization_3 (BatchNo  (None, 32, 32, 64)  256         ['conv2d_22[0][0]']              \n",
      " rmalization)                                                                                     \n",
      "                                                                                                  \n",
      " average_pooling2d_9 (AveragePo  (None, 16, 16, 64)  0           ['batch_normalization_3[0][0]']  \n",
      " oling2D)                                                                                         \n",
      "                                                                                                  \n",
      " conv2d_23 (Conv2D)             (None, 16, 16, 64)   36928       ['average_pooling2d_9[0][0]']    \n",
      "                                                                                                  \n",
      " average_pooling2d_10 (AverageP  (None, 8, 8, 64)    0           ['conv2d_23[0][0]']              \n",
      " ooling2D)                                                                                        \n",
      "                                                                                                  \n",
      " up_sampling2d_9 (UpSampling2D)  (None, 16, 16, 64)  0           ['average_pooling2d_10[0][0]']   \n",
      "                                                                                                  \n",
      " conv2d_24 (Conv2D)             (None, 16, 16, 64)   36928       ['up_sampling2d_9[0][0]']        \n",
      "                                                                                                  \n",
      " maximum (Maximum)              multiple             0           ['conv2d_23[0][0]',              \n",
      "                                                                  'conv2d_24[0][0]',              \n",
      "                                                                  'conv2d_22[0][0]',              \n",
      "                                                                  'conv2d_25[0][0]']              \n",
      "                                                                                                  \n",
      " up_sampling2d_10 (UpSampling2D  (None, 32, 32, 64)  0           ['maximum[0][0]']                \n",
      " )                                                                                                \n",
      "                                                                                                  \n",
      " conv2d_25 (Conv2D)             (None, 32, 32, 64)   36928       ['up_sampling2d_10[0][0]']       \n",
      "                                                                                                  \n",
      " up_sampling2d_11 (UpSampling2D  (None, 64, 64, 64)  0           ['maximum[1][0]']                \n",
      " )                                                                                                \n",
      "                                                                                                  \n",
      " conv2d_26 (Conv2D)             (None, 64, 64, 32)   18464       ['up_sampling2d_11[0][0]']       \n",
      "                                                                                                  \n",
      " conv2d_27 (Conv2D)             (None, 64, 64, 3)    867         ['conv2d_26[0][0]']              \n",
      "                                                                                                  \n",
      " average_pooling2d_11 (AverageP  (None, 32, 32, 3)   0           ['conv2d_27[0][0]']              \n",
      " ooling2D)                                                                                        \n",
      "                                                                                                  \n",
      " flatten_3 (Flatten)            (None, 3072)         0           ['average_pooling2d_11[0][0]']   \n",
      "                                                                                                  \n",
      " dense_9 (Dense)                (None, 128)          393344      ['flatten_3[0][0]']              \n",
      "                                                                                                  \n",
      " dense_10 (Dense)               (None, 64)           8256        ['dense_9[0][0]']                \n",
      "                                                                                                  \n",
      " dense_11 (Dense)               (None, 10)           650         ['dense_10[0][0]']               \n",
      "                                                                                                  \n",
      "==================================================================================================\n",
      "Total params: 552,013\n",
      "Trainable params: 551,885\n",
      "Non-trainable params: 128\n",
      "__________________________________________________________________________________________________\n"
     ]
    }
   ],
   "source": [
    "maximum_model = get_model(tf.keras.layers.Maximum())\n",
    "maximum_model.summary()"
   ],
   "metadata": {
    "collapsed": false
   }
  },
  {
   "cell_type": "code",
   "execution_count": null,
   "outputs": [],
   "source": [
    "maximum_model.compile(optimizer='adam', metrics=['accuracy'],\n",
    "                      loss=tf.keras.losses.SparseCategoricalCrossentropy())"
   ],
   "metadata": {
    "collapsed": false
   }
  },
  {
   "cell_type": "code",
   "execution_count": null,
   "outputs": [],
   "source": [
    "maximum_model.fit(train_ds, validation_data=val_ds, epochs=50,\n",
    "                  callbacks=[PlotLossesKeras()], verbose=False)"
   ],
   "metadata": {
    "collapsed": false
   }
  },
  {
   "cell_type": "markdown",
   "source": [
    "----\n",
    "## Minimum model"
   ],
   "metadata": {
    "collapsed": false
   }
  },
  {
   "cell_type": "code",
   "execution_count": 11,
   "outputs": [
    {
     "name": "stdout",
     "output_type": "stream",
     "text": [
      "Model: \"model_4\"\n",
      "__________________________________________________________________________________________________\n",
      " Layer (type)                   Output Shape         Param #     Connected to                     \n",
      "==================================================================================================\n",
      " input_5 (InputLayer)           [(None, 32, 32, 3)]  0           []                               \n",
      "                                                                                                  \n",
      " conv2d_28 (Conv2D)             (None, 32, 32, 32)   896         ['input_5[0][0]']                \n",
      "                                                                                                  \n",
      " conv2d_29 (Conv2D)             (None, 32, 32, 64)   18496       ['conv2d_28[0][0]']              \n",
      "                                                                                                  \n",
      " batch_normalization_4 (BatchNo  (None, 32, 32, 64)  256         ['conv2d_29[0][0]']              \n",
      " rmalization)                                                                                     \n",
      "                                                                                                  \n",
      " average_pooling2d_12 (AverageP  (None, 16, 16, 64)  0           ['batch_normalization_4[0][0]']  \n",
      " ooling2D)                                                                                        \n",
      "                                                                                                  \n",
      " conv2d_30 (Conv2D)             (None, 16, 16, 64)   36928       ['average_pooling2d_12[0][0]']   \n",
      "                                                                                                  \n",
      " average_pooling2d_13 (AverageP  (None, 8, 8, 64)    0           ['conv2d_30[0][0]']              \n",
      " ooling2D)                                                                                        \n",
      "                                                                                                  \n",
      " up_sampling2d_12 (UpSampling2D  (None, 16, 16, 64)  0           ['average_pooling2d_13[0][0]']   \n",
      " )                                                                                                \n",
      "                                                                                                  \n",
      " conv2d_31 (Conv2D)             (None, 16, 16, 64)   36928       ['up_sampling2d_12[0][0]']       \n",
      "                                                                                                  \n",
      " minimum (Minimum)              multiple             0           ['conv2d_30[0][0]',              \n",
      "                                                                  'conv2d_31[0][0]',              \n",
      "                                                                  'conv2d_29[0][0]',              \n",
      "                                                                  'conv2d_32[0][0]']              \n",
      "                                                                                                  \n",
      " up_sampling2d_13 (UpSampling2D  (None, 32, 32, 64)  0           ['minimum[0][0]']                \n",
      " )                                                                                                \n",
      "                                                                                                  \n",
      " conv2d_32 (Conv2D)             (None, 32, 32, 64)   36928       ['up_sampling2d_13[0][0]']       \n",
      "                                                                                                  \n",
      " up_sampling2d_14 (UpSampling2D  (None, 64, 64, 64)  0           ['minimum[1][0]']                \n",
      " )                                                                                                \n",
      "                                                                                                  \n",
      " conv2d_33 (Conv2D)             (None, 64, 64, 32)   18464       ['up_sampling2d_14[0][0]']       \n",
      "                                                                                                  \n",
      " conv2d_34 (Conv2D)             (None, 64, 64, 3)    867         ['conv2d_33[0][0]']              \n",
      "                                                                                                  \n",
      " average_pooling2d_14 (AverageP  (None, 32, 32, 3)   0           ['conv2d_34[0][0]']              \n",
      " ooling2D)                                                                                        \n",
      "                                                                                                  \n",
      " flatten_4 (Flatten)            (None, 3072)         0           ['average_pooling2d_14[0][0]']   \n",
      "                                                                                                  \n",
      " dense_12 (Dense)               (None, 128)          393344      ['flatten_4[0][0]']              \n",
      "                                                                                                  \n",
      " dense_13 (Dense)               (None, 64)           8256        ['dense_12[0][0]']               \n",
      "                                                                                                  \n",
      " dense_14 (Dense)               (None, 10)           650         ['dense_13[0][0]']               \n",
      "                                                                                                  \n",
      "==================================================================================================\n",
      "Total params: 552,013\n",
      "Trainable params: 551,885\n",
      "Non-trainable params: 128\n",
      "__________________________________________________________________________________________________\n"
     ]
    }
   ],
   "source": [
    "minimum_model = get_model(tf.keras.layers.Minimum())\n",
    "minimum_model.summary()"
   ],
   "metadata": {
    "collapsed": false
   }
  },
  {
   "cell_type": "code",
   "execution_count": null,
   "outputs": [],
   "source": [
    "minimum_model.compile(optimizer='adam', metrics=['accuracy'],\n",
    "                      loss=tf.keras.losses.SparseCategoricalCrossentropy())"
   ],
   "metadata": {
    "collapsed": false
   }
  },
  {
   "cell_type": "code",
   "execution_count": null,
   "outputs": [],
   "source": [
    "minimum_model.fit(train_ds, validation_data=val_ds, epochs=50,\n",
    "                  callbacks=[PlotLossesKeras()], verbose=False)"
   ],
   "metadata": {
    "collapsed": false
   }
  },
  {
   "cell_type": "markdown",
   "source": [
    "----\n",
    "## Add model"
   ],
   "metadata": {
    "collapsed": false
   }
  },
  {
   "cell_type": "code",
   "execution_count": null,
   "outputs": [],
   "source": [
    "add_model = get_model(tf.keras.layers.Add())\n",
    "add_model.summary()"
   ],
   "metadata": {
    "collapsed": false
   }
  },
  {
   "cell_type": "code",
   "execution_count": null,
   "outputs": [],
   "source": [
    "add_model.compile(optimizer='adam', metrics=['accuracy'],\n",
    "                      loss=tf.keras.losses.SparseCategoricalCrossentropy())"
   ],
   "metadata": {
    "collapsed": false
   }
  },
  {
   "cell_type": "code",
   "execution_count": null,
   "outputs": [],
   "source": [
    "add_model.fit(train_ds, validation_data=val_ds, epochs=50,\n",
    "                  callbacks=[PlotLossesKeras()], verbose=False)"
   ],
   "metadata": {
    "collapsed": false
   }
  },
  {
   "cell_type": "markdown",
   "source": [
    "----\n",
    "## Subtract model"
   ],
   "metadata": {
    "collapsed": false
   }
  },
  {
   "cell_type": "code",
   "execution_count": null,
   "outputs": [],
   "source": [
    "subtract_model = get_model(tf.keras.layers.Subtract())\n",
    "subtract_model.summary()"
   ],
   "metadata": {
    "collapsed": false
   }
  },
  {
   "cell_type": "code",
   "execution_count": null,
   "outputs": [],
   "source": [
    "subtract_model.compile(optimizer='adam', metrics=['accuracy'],\n",
    "                      loss=tf.keras.losses.SparseCategoricalCrossentropy())"
   ],
   "metadata": {
    "collapsed": false
   }
  },
  {
   "cell_type": "code",
   "execution_count": null,
   "outputs": [],
   "source": [
    "subtract_model.fit(train_ds, validation_data=val_ds, epochs=50,\n",
    "                  callbacks=[PlotLossesKeras()], verbose=False)"
   ],
   "metadata": {
    "collapsed": false
   }
  },
  {
   "cell_type": "markdown",
   "source": [
    "----\n",
    "## Multiply model"
   ],
   "metadata": {
    "collapsed": false
   }
  },
  {
   "cell_type": "code",
   "execution_count": null,
   "outputs": [],
   "source": [
    "multiply_model = get_model(tf.keras.layers.Multiply())\n",
    "multiply_model.summary()"
   ],
   "metadata": {
    "collapsed": false
   }
  },
  {
   "cell_type": "code",
   "execution_count": null,
   "outputs": [],
   "source": [
    "multiply_model.compile(optimizer='adam', metrics=['accuracy'],\n",
    "                      loss=tf.keras.losses.SparseCategoricalCrossentropy())"
   ],
   "metadata": {
    "collapsed": false
   }
  },
  {
   "cell_type": "code",
   "execution_count": null,
   "outputs": [],
   "source": [
    "multiply_model.fit(train_ds, validation_data=val_ds, epochs=50,\n",
    "                  callbacks=[PlotLossesKeras()], verbose=False)"
   ],
   "metadata": {
    "collapsed": false
   }
  }
 ],
 "metadata": {
  "kernelspec": {
   "display_name": "Python 3",
   "language": "python",
   "name": "python3"
  },
  "language_info": {
   "codemirror_mode": {
    "name": "ipython",
    "version": 2
   },
   "file_extension": ".py",
   "mimetype": "text/x-python",
   "name": "python",
   "nbconvert_exporter": "python",
   "pygments_lexer": "ipython2",
   "version": "2.7.6"
  },
  "colab": {
   "provenance": []
  },
  "gpuClass": "standard",
  "accelerator": "GPU"
 },
 "nbformat": 4,
 "nbformat_minor": 0
}
