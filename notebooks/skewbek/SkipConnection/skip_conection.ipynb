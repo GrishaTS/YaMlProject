{
 "cells": [
  {
   "cell_type": "markdown",
   "source": [
    "## Skip Connection\n",
    "----"
   ],
   "metadata": {
    "collapsed": false
   }
  },
  {
   "cell_type": "markdown",
   "source": [
    "Concatenate layer -- проверить\n",
    "Average layer -- проверить\n",
    "Maximum layer -- проверить\n",
    "Minimum layer -- проверить\n",
    "Add layer -- проверить\n",
    "Subtract layer -- проверить\n",
    "Multiply layer -- проверить\n",
    "Dot layer -- минус.\n",
    "\n",
    "\n",
    "1 модель\n"
   ],
   "metadata": {
    "collapsed": false
   }
  }
 ],
 "metadata": {
  "kernelspec": {
   "display_name": "Python 3",
   "language": "python",
   "name": "python3"
  },
  "language_info": {
   "codemirror_mode": {
    "name": "ipython",
    "version": 2
   },
   "file_extension": ".py",
   "mimetype": "text/x-python",
   "name": "python",
   "nbconvert_exporter": "python",
   "pygments_lexer": "ipython2",
   "version": "2.7.6"
  }
 },
 "nbformat": 4,
 "nbformat_minor": 0
}
