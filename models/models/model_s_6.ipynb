{
 "cells": [
  {
   "cell_type": "markdown",
   "metadata": {
    "id": "r2yiHhUx-S72"
   },
   "source": [
    "# MobileNetV2"
   ]
  },
  {
   "cell_type": "markdown",
   "metadata": {
    "id": "svYRwNDL-S75"
   },
   "source": [
    "#### Импорт необходимых библиотек"
   ]
  },
  {
   "cell_type": "code",
   "execution_count": null,
   "metadata": {
    "colab": {
     "base_uri": "https://localhost:8080/"
    },
    "executionInfo": {
     "elapsed": 10183,
     "status": "ok",
     "timestamp": 1681236348708,
     "user": {
      "displayName": "Михаил Глазов",
      "userId": "14831628976106288763"
     },
     "user_tz": -180
    },
    "id": "Zq7rWgSDecBY",
    "outputId": "9183dd17-7af3-4f7b-e27d-9784573c7def"
   },
   "outputs": [
    {
     "name": "stdout",
     "output_type": "stream",
     "text": [
      "Looking in indexes: https://pypi.org/simple, https://us-python.pkg.dev/colab-wheels/public/simple/\n",
      "Collecting tensorflow-addons\n",
      "  Downloading tensorflow_addons-0.20.0-cp39-cp39-manylinux_2_17_x86_64.manylinux2014_x86_64.whl (591 kB)\n",
      "\u001b[2K     \u001b[90m━━━━━━━━━━━━━━━━━━━━━━━━━━━━━━━━━━━━━━\u001b[0m \u001b[32m591.0/591.0 kB\u001b[0m \u001b[31m22.8 MB/s\u001b[0m eta \u001b[36m0:00:00\u001b[0m\n",
      "\u001b[?25hRequirement already satisfied: packaging in /usr/local/lib/python3.9/dist-packages (from tensorflow-addons) (23.0)\n",
      "Collecting typeguard<3.0.0,>=2.7\n",
      "  Downloading typeguard-2.13.3-py3-none-any.whl (17 kB)\n",
      "Installing collected packages: typeguard, tensorflow-addons\n",
      "Successfully installed tensorflow-addons-0.20.0 typeguard-2.13.3\n",
      "Looking in indexes: https://pypi.org/simple, https://us-python.pkg.dev/colab-wheels/public/simple/\n",
      "Collecting livelossplot\n",
      "  Downloading livelossplot-0.5.5-py3-none-any.whl (22 kB)\n",
      "Requirement already satisfied: bokeh in /usr/local/lib/python3.9/dist-packages (from livelossplot) (2.4.3)\n",
      "Requirement already satisfied: matplotlib in /usr/local/lib/python3.9/dist-packages (from livelossplot) (3.7.1)\n",
      "Requirement already satisfied: packaging>=16.8 in /usr/local/lib/python3.9/dist-packages (from bokeh->livelossplot) (23.0)\n",
      "Requirement already satisfied: tornado>=5.1 in /usr/local/lib/python3.9/dist-packages (from bokeh->livelossplot) (6.2)\n",
      "Requirement already satisfied: pillow>=7.1.0 in /usr/local/lib/python3.9/dist-packages (from bokeh->livelossplot) (8.4.0)\n",
      "Requirement already satisfied: Jinja2>=2.9 in /usr/local/lib/python3.9/dist-packages (from bokeh->livelossplot) (3.1.2)\n",
      "Requirement already satisfied: typing-extensions>=3.10.0 in /usr/local/lib/python3.9/dist-packages (from bokeh->livelossplot) (4.5.0)\n",
      "Requirement already satisfied: PyYAML>=3.10 in /usr/local/lib/python3.9/dist-packages (from bokeh->livelossplot) (6.0)\n",
      "Requirement already satisfied: numpy>=1.11.3 in /usr/local/lib/python3.9/dist-packages (from bokeh->livelossplot) (1.22.4)\n",
      "Requirement already satisfied: fonttools>=4.22.0 in /usr/local/lib/python3.9/dist-packages (from matplotlib->livelossplot) (4.39.3)\n",
      "Requirement already satisfied: python-dateutil>=2.7 in /usr/local/lib/python3.9/dist-packages (from matplotlib->livelossplot) (2.8.2)\n",
      "Requirement already satisfied: cycler>=0.10 in /usr/local/lib/python3.9/dist-packages (from matplotlib->livelossplot) (0.11.0)\n",
      "Requirement already satisfied: kiwisolver>=1.0.1 in /usr/local/lib/python3.9/dist-packages (from matplotlib->livelossplot) (1.4.4)\n",
      "Requirement already satisfied: pyparsing>=2.3.1 in /usr/local/lib/python3.9/dist-packages (from matplotlib->livelossplot) (3.0.9)\n",
      "Requirement already satisfied: contourpy>=1.0.1 in /usr/local/lib/python3.9/dist-packages (from matplotlib->livelossplot) (1.0.7)\n",
      "Requirement already satisfied: importlib-resources>=3.2.0 in /usr/local/lib/python3.9/dist-packages (from matplotlib->livelossplot) (5.12.0)\n",
      "Requirement already satisfied: zipp>=3.1.0 in /usr/local/lib/python3.9/dist-packages (from importlib-resources>=3.2.0->matplotlib->livelossplot) (3.15.0)\n",
      "Requirement already satisfied: MarkupSafe>=2.0 in /usr/local/lib/python3.9/dist-packages (from Jinja2>=2.9->bokeh->livelossplot) (2.1.2)\n",
      "Requirement already satisfied: six>=1.5 in /usr/local/lib/python3.9/dist-packages (from python-dateutil>=2.7->matplotlib->livelossplot) (1.16.0)\n",
      "Installing collected packages: livelossplot\n",
      "Successfully installed livelossplot-0.5.5\n"
     ]
    }
   ],
   "source": [
    "!pip install tensorflow-addons\n",
    "!pip install livelossplot"
   ]
  },
  {
   "cell_type": "code",
   "execution_count": null,
   "metadata": {
    "colab": {
     "base_uri": "https://localhost:8080/"
    },
    "executionInfo": {
     "elapsed": 901,
     "status": "ok",
     "timestamp": 1681236431104,
     "user": {
      "displayName": "Михаил Глазов",
      "userId": "14831628976106288763"
     },
     "user_tz": -180
    },
    "id": "yyTOIOizfuJ-",
    "outputId": "ba088d58-099c-4a84-8d94-7efadcf91140"
   },
   "outputs": [
    {
     "name": "stdout",
     "output_type": "stream",
     "text": [
      "/content/drive/MyDrive/project/YaMlProject\n"
     ]
    }
   ],
   "source": [
    "% cd drive / MyDrive / project / YaMlProject /"
   ]
  },
  {
   "cell_type": "code",
   "execution_count": null,
   "metadata": {},
   "outputs": [
    {
     "name": "stdout",
     "output_type": "stream",
     "text": [
      "Collecting imblearn\n",
      "  Downloading imblearn-0.0-py2.py3-none-any.whl (1.9 kB)\n",
      "Collecting imbalanced-learn\n",
      "  Downloading imbalanced_learn-0.10.1-py3-none-any.whl (226 kB)\n",
      "     ---------------------------------------- 0.0/226.0 kB ? eta -:--:--\n",
      "     --------------- ----------------------- 92.2/226.0 kB 2.6 MB/s eta 0:00:01\n",
      "     ------------------------- ------------ 153.6/226.0 kB 1.8 MB/s eta 0:00:01\n",
      "     -------------------------------------- 226.0/226.0 kB 1.7 MB/s eta 0:00:00\n",
      "Requirement already satisfied: threadpoolctl>=2.0.0 in c:\\users\\mi\\desktop\\ml\\.conda\\lib\\site-packages (from imbalanced-learn->imblearn) (3.1.0)\n",
      "Requirement already satisfied: scipy>=1.3.2 in c:\\users\\mi\\appdata\\roaming\\python\\python310\\site-packages (from imbalanced-learn->imblearn) (1.10.1)\n",
      "Requirement already satisfied: scikit-learn>=1.0.2 in c:\\users\\mi\\desktop\\ml\\.conda\\lib\\site-packages (from imbalanced-learn->imblearn) (1.2.2)\n",
      "Requirement already satisfied: numpy>=1.17.3 in c:\\users\\mi\\desktop\\ml\\.conda\\lib\\site-packages (from imbalanced-learn->imblearn) (1.23.5)\n",
      "Requirement already satisfied: joblib>=1.1.1 in c:\\users\\mi\\desktop\\ml\\.conda\\lib\\site-packages (from imbalanced-learn->imblearn) (1.2.0)\n",
      "Installing collected packages: imbalanced-learn, imblearn\n",
      "Successfully installed imbalanced-learn-0.10.1 imblearn-0.0\n"
     ]
    }
   ],
   "source": [
    "!pip install imblearn"
   ]
  },
  {
   "cell_type": "code",
   "execution_count": 1,
   "metadata": {
    "colab": {
     "base_uri": "https://localhost:8080/"
    },
    "executionInfo": {
     "elapsed": 3032,
     "status": "ok",
     "timestamp": 1681236480847,
     "user": {
      "displayName": "Михаил Глазов",
      "userId": "14831628976106288763"
     },
     "user_tz": -180
    },
    "id": "nYflAO2U-S76",
    "outputId": "ba3c64a4-62fb-48c5-fe08-59cc752b1b79"
   },
   "outputs": [
    {
     "name": "stderr",
     "output_type": "stream",
     "text": [
      "C:\\Users\\Mihail\\PycharmProjects\\YaMlProject\\venv\\lib\\site-packages\\tensorflow_addons\\utils\\tfa_eol_msg.py:23: UserWarning: \n",
      "\n",
      "TensorFlow Addons (TFA) has ended development and introduction of new features.\n",
      "TFA has entered a minimal maintenance and release mode until a planned end of life in May 2024.\n",
      "Please modify downstream libraries to take dependencies from other repositories in our TensorFlow community (e.g. Keras, Keras-CV, and Keras-NLP). \n",
      "\n",
      "For more information see: https://github.com/tensorflow/addons/issues/2807 \n",
      "\n",
      "  warnings.warn(\n"
     ]
    }
   ],
   "source": [
    "import sys\n",
    "\n",
    "import matplotlib.pyplot as plt\n",
    "import numpy as np\n",
    "import pandas as pd\n",
    "import seaborn\n",
    "import tensorflow as tf\n",
    "import tensorflow_addons as tfa\n",
    "import torchvision as tv\n",
    "from PIL import Image\n",
    "from livelossplot import PlotLossesKeras\n",
    "from sklearn.metrics import confusion_matrix\n",
    "\n",
    "sys.path.append('../../')\n",
    "\n",
    "from core.datasets import get_ds\n",
    "from core.make_answer import make_ans_file"
   ]
  },
  {
   "cell_type": "markdown",
   "metadata": {
    "id": "NR69MtS_-S77"
   },
   "source": [
    "#### Формируем аугментацию."
   ]
  },
  {
   "cell_type": "markdown",
   "metadata": {
    "id": "-2ghBgor1hzO"
   },
   "source": [
    "##### Вариант 1.\n",
    "\n",
    "- Пишите аугментацию. Объект класса tv.transforms.Compose или tv.transforms.{аугментация}"
   ]
  },
  {
   "cell_type": "code",
   "execution_count": 2,
   "metadata": {
    "executionInfo": {
     "elapsed": 2,
     "status": "ok",
     "timestamp": 1681236488416,
     "user": {
      "displayName": "Михаил Глазов",
      "userId": "14831628976106288763"
     },
     "user_tz": -180
    },
    "id": "ERpTFZ21-S77"
   },
   "outputs": [],
   "source": [
    "transformer = tv.transforms.Compose([\n",
    "    tv.transforms.ColorJitter(brightness=.2, hue=0.2, contrast=0.5),\n",
    "    tv.transforms.RandomAffine(degrees=(-10, 10), translate=(0, 0.1), scale=(0.85, 1)),\n",
    "    tv.transforms.RandomPerspective(distortion_scale=0.2, p=0.7),\n",
    "])"
   ]
  },
  {
   "cell_type": "markdown",
   "metadata": {
    "id": "T2zKYi1p-S77"
   },
   "source": [
    "#### Создаем датасеты\n",
    "```python\n",
    "get_ds(\n",
    "    file_train, `Путь к трейновому датасету`\n",
    "    file_test, `Путь к тестовому датасету`\n",
    "    transform=None,  `Аугументация`\n",
    "    batch_size=512,  `Размер батча`\n",
    "    one_hot=False,  `Формат ответов one_hot_encoding или нет`\n",
    "    val_size=0.03,  `Размер валидационного датасета, относительно data_train`\n",
    "    back=1,  `На сколько уровней в директории надо подняться наверх, чтобы дойти до корневой`\n",
    ")\n",
    "```"
   ]
  },
  {
   "cell_type": "markdown",
   "metadata": {
    "id": "QYEdAqtW1hzW"
   },
   "source": [
    "Позже мы будем делать ансамбли и похожие эвристики, поэтому всегда делайте `one_hot=True`"
   ]
  },
  {
   "cell_type": "code",
   "execution_count": 3,
   "metadata": {
    "collapsed": false
   },
   "outputs": [],
   "source": [
    "train_ds, val_ds, test_ds = get_ds('smote_data_train_9650', 'repaired_data_test', transform=transformer,\n",
    "                                   one_hot=True, back=2, batch_size=100)"
   ]
  },
  {
   "cell_type": "markdown",
   "metadata": {
    "id": "eOY8forB1hza"
   },
   "source": [
    "Для дальнейшей проверки метрик разделяем валидационный датасет на x и y"
   ]
  },
  {
   "cell_type": "code",
   "execution_count": 4,
   "metadata": {
    "executionInfo": {
     "elapsed": 4277,
     "status": "ok",
     "timestamp": 1681236555684,
     "user": {
      "displayName": "Михаил Глазов",
      "userId": "14831628976106288763"
     },
     "user_tz": -180
    },
    "id": "cXVwzb401hzb"
   },
   "outputs": [],
   "source": [
    "val_ds_x = np.array([i[0] for i in val_ds.unbatch().as_numpy_iterator()])\n",
    "val_ds_y = np.array([i[1] for i in val_ds.unbatch().as_numpy_iterator()])"
   ]
  },
  {
   "cell_type": "markdown",
   "metadata": {
    "id": "_Vcj5spc1hzc"
   },
   "source": [
    "Смотрим на получившуюся агументацию."
   ]
  },
  {
   "cell_type": "code",
   "execution_count": 5,
   "metadata": {
    "colab": {
     "base_uri": "https://localhost:8080/",
     "height": 1000
    },
    "executionInfo": {
     "elapsed": 3020,
     "status": "ok",
     "timestamp": 1681236562499,
     "user": {
      "displayName": "Михаил Глазов",
      "userId": "14831628976106288763"
     },
     "user_tz": -180
    },
    "id": "3ygOCG_F1hzc",
    "outputId": "07a8d3ad-f870-4669-de97-89f15eae6d48"
   },
   "outputs": [
    {
     "data": {
      "image/png": "[encoded data removed]",
      "text/plain": [
       "<Figure size 1200x1500 with 20 Axes>"
      ]
     },
     "metadata": {},
     "output_type": "display_data"
    }
   ],
   "source": [
    "plt.figure(figsize=(12, 15))\n",
    "train_ds_visualization = train_ds[0]\n",
    "for i in range(20):\n",
    "    plt.subplot(5, 4, i + 1)\n",
    "    img = np.array(Image.fromarray((train_ds_visualization[0][i] * 255).astype(np.uint8), 'RGB'))\n",
    "    plt.imshow(img / 255, cmap=plt.cm.binary)\n",
    "    plt.title(np.argmax(train_ds_visualization[1][i]))\n",
    "    plt.axis('off')\n",
    "plt.show()"
   ]
  },
  {
   "cell_type": "code",
   "execution_count": 6,
   "metadata": {},
   "outputs": [
    {
     "data": {
      "text/plain": [
       "array([[0., 1., 0., ..., 0., 0., 0.],\n",
       "       [0., 0., 0., ..., 0., 0., 0.],\n",
       "       [0., 0., 1., ..., 0., 0., 0.],\n",
       "       ...,\n",
       "       [0., 0., 0., ..., 0., 0., 0.],\n",
       "       [0., 0., 1., ..., 0., 0., 0.],\n",
       "       [0., 0., 1., ..., 0., 0., 0.]], dtype=float32)"
      ]
     },
     "execution_count": 6,
     "metadata": {},
     "output_type": "execute_result"
    }
   ],
   "source": [
    "train_ds_visualization[1]"
   ]
  },
  {
   "cell_type": "markdown",
   "metadata": {
    "id": "DXxkKTtS-S78"
   },
   "source": [
    "#### Пишем модель\n",
    "\n",
    "Про свертки и пуллинги написано у Гриши, про skip-connection написано у Миши\n",
    "\n",
    "Для правильного использования ансамблирования, в финальном слое не пишем функцию активации. Подробнее написано у Дениса."
   ]
  },
  {
   "cell_type": "markdown",
   "metadata": {
    "collapsed": false
   },
   "source": [
    "код для создания блока"
   ]
  },
  {
   "cell_type": "code",
   "execution_count": 5,
   "metadata": {
    "collapsed": false
   },
   "outputs": [],
   "source": [
    "def get_block(input_, filters, t, stride):\n",
    "    in_ = input_.shape[-1]\n",
    "\n",
    "    x = tf.keras.layers.Conv2D(in_ * t, 1, strides=1, padding='same', use_bias=False)(input_)\n",
    "    x = tf.keras.layers.BatchNormalization()(x)\n",
    "    x = tf.keras.layers.ReLU(6)(x)\n",
    "\n",
    "    x = tf.keras.layers.DepthwiseConv2D(3, strides=stride, padding='same', use_bias=False)(x)\n",
    "    x = tf.keras.layers.BatchNormalization()(x)\n",
    "    x = tf.keras.layers.ReLU(6)(x)\n",
    "\n",
    "    x = tf.keras.layers.Conv2D(filters, 1, strides=1, padding='same', use_bias=False)(x)\n",
    "    x = tf.keras.layers.BatchNormalization()(x)\n",
    "\n",
    "    return x if in_ != filters else tf.keras.layers.Add()([input_, x])"
   ]
  },
  {
   "attachments": {},
   "cell_type": "markdown",
   "metadata": {
    "collapsed": false
   },
   "source": [
    "код модели"
   ]
  },
  {
   "cell_type": "code",
   "execution_count": 6,
   "metadata": {
    "colab": {
     "base_uri": "https://localhost:8080/"
    },
    "executionInfo": {
     "elapsed": 719,
     "status": "ok",
     "timestamp": 1681236572487,
     "user": {
      "displayName": "Михаил Глазов",
      "userId": "14831628976106288763"
     },
     "user_tz": -180
    },
    "id": "sf6H9-ZM-S79",
    "outputId": "53b56ffe-c791-4e8b-b2dd-28e3ccd09eb2"
   },
   "outputs": [
    {
     "name": "stdout",
     "output_type": "stream",
     "text": [
      "Model: \"model\"\n",
      "__________________________________________________________________________________________________\n",
      " Layer (type)                   Output Shape         Param #     Connected to                     \n",
      "==================================================================================================\n",
      " input_1 (InputLayer)           [(100, 32, 32, 3)]   0           []                               \n",
      "                                                                                                  \n",
      " conv2d (Conv2D)                (100, 32, 32, 32)    864         ['input_1[0][0]']                \n",
      "                                                                                                  \n",
      " conv2d_1 (Conv2D)              (100, 32, 32, 32)    1024        ['conv2d[0][0]']                 \n",
      "                                                                                                  \n",
      " batch_normalization (BatchNorm  (100, 32, 32, 32)   128         ['conv2d_1[0][0]']               \n",
      " alization)                                                                                       \n",
      "                                                                                                  \n",
      " re_lu (ReLU)                   (100, 32, 32, 32)    0           ['batch_normalization[0][0]']    \n",
      "                                                                                                  \n",
      " depthwise_conv2d (DepthwiseCon  (100, 32, 32, 32)   288         ['re_lu[0][0]']                  \n",
      " v2D)                                                                                             \n",
      "                                                                                                  \n",
      " batch_normalization_1 (BatchNo  (100, 32, 32, 32)   128         ['depthwise_conv2d[0][0]']       \n",
      " rmalization)                                                                                     \n",
      "                                                                                                  \n",
      " re_lu_1 (ReLU)                 (100, 32, 32, 32)    0           ['batch_normalization_1[0][0]']  \n",
      "                                                                                                  \n",
      " conv2d_2 (Conv2D)              (100, 32, 32, 16)    512         ['re_lu_1[0][0]']                \n",
      "                                                                                                  \n",
      " batch_normalization_2 (BatchNo  (100, 32, 32, 16)   64          ['conv2d_2[0][0]']               \n",
      " rmalization)                                                                                     \n",
      "                                                                                                  \n",
      " conv2d_3 (Conv2D)              (100, 32, 32, 96)    1536        ['batch_normalization_2[0][0]']  \n",
      "                                                                                                  \n",
      " batch_normalization_3 (BatchNo  (100, 32, 32, 96)   384         ['conv2d_3[0][0]']               \n",
      " rmalization)                                                                                     \n",
      "                                                                                                  \n",
      " re_lu_2 (ReLU)                 (100, 32, 32, 96)    0           ['batch_normalization_3[0][0]']  \n",
      "                                                                                                  \n",
      " depthwise_conv2d_1 (DepthwiseC  (100, 32, 32, 96)   864         ['re_lu_2[0][0]']                \n",
      " onv2D)                                                                                           \n",
      "                                                                                                  \n",
      " batch_normalization_4 (BatchNo  (100, 32, 32, 96)   384         ['depthwise_conv2d_1[0][0]']     \n",
      " rmalization)                                                                                     \n",
      "                                                                                                  \n",
      " re_lu_3 (ReLU)                 (100, 32, 32, 96)    0           ['batch_normalization_4[0][0]']  \n",
      "                                                                                                  \n",
      " conv2d_4 (Conv2D)              (100, 32, 32, 24)    2304        ['re_lu_3[0][0]']                \n",
      "                                                                                                  \n",
      " batch_normalization_5 (BatchNo  (100, 32, 32, 24)   96          ['conv2d_4[0][0]']               \n",
      " rmalization)                                                                                     \n",
      "                                                                                                  \n",
      " conv2d_5 (Conv2D)              (100, 32, 32, 144)   3456        ['batch_normalization_5[0][0]']  \n",
      "                                                                                                  \n",
      " batch_normalization_6 (BatchNo  (100, 32, 32, 144)  576         ['conv2d_5[0][0]']               \n",
      " rmalization)                                                                                     \n",
      "                                                                                                  \n",
      " re_lu_4 (ReLU)                 (100, 32, 32, 144)   0           ['batch_normalization_6[0][0]']  \n",
      "                                                                                                  \n",
      " depthwise_conv2d_2 (DepthwiseC  (100, 32, 32, 144)  1296        ['re_lu_4[0][0]']                \n",
      " onv2D)                                                                                           \n",
      "                                                                                                  \n",
      " batch_normalization_7 (BatchNo  (100, 32, 32, 144)  576         ['depthwise_conv2d_2[0][0]']     \n",
      " rmalization)                                                                                     \n",
      "                                                                                                  \n",
      " re_lu_5 (ReLU)                 (100, 32, 32, 144)   0           ['batch_normalization_7[0][0]']  \n",
      "                                                                                                  \n",
      " conv2d_6 (Conv2D)              (100, 32, 32, 24)    3456        ['re_lu_5[0][0]']                \n",
      "                                                                                                  \n",
      " batch_normalization_8 (BatchNo  (100, 32, 32, 24)   96          ['conv2d_6[0][0]']               \n",
      " rmalization)                                                                                     \n",
      "                                                                                                  \n",
      " add (Add)                      (100, 32, 32, 24)    0           ['batch_normalization_5[0][0]',  \n",
      "                                                                  'batch_normalization_8[0][0]']  \n",
      "                                                                                                  \n",
      " conv2d_7 (Conv2D)              (100, 32, 32, 144)   3456        ['add[0][0]']                    \n",
      "                                                                                                  \n",
      " batch_normalization_9 (BatchNo  (100, 32, 32, 144)  576         ['conv2d_7[0][0]']               \n",
      " rmalization)                                                                                     \n",
      "                                                                                                  \n",
      " re_lu_6 (ReLU)                 (100, 32, 32, 144)   0           ['batch_normalization_9[0][0]']  \n",
      "                                                                                                  \n",
      " depthwise_conv2d_3 (DepthwiseC  (100, 32, 32, 144)  1296        ['re_lu_6[0][0]']                \n",
      " onv2D)                                                                                           \n",
      "                                                                                                  \n",
      " batch_normalization_10 (BatchN  (100, 32, 32, 144)  576         ['depthwise_conv2d_3[0][0]']     \n",
      " ormalization)                                                                                    \n",
      "                                                                                                  \n",
      " re_lu_7 (ReLU)                 (100, 32, 32, 144)   0           ['batch_normalization_10[0][0]'] \n",
      "                                                                                                  \n",
      " conv2d_8 (Conv2D)              (100, 32, 32, 32)    4608        ['re_lu_7[0][0]']                \n",
      "                                                                                                  \n",
      " batch_normalization_11 (BatchN  (100, 32, 32, 32)   128         ['conv2d_8[0][0]']               \n",
      " ormalization)                                                                                    \n",
      "                                                                                                  \n",
      " conv2d_9 (Conv2D)              (100, 32, 32, 192)   6144        ['batch_normalization_11[0][0]'] \n",
      "                                                                                                  \n",
      " batch_normalization_12 (BatchN  (100, 32, 32, 192)  768         ['conv2d_9[0][0]']               \n",
      " ormalization)                                                                                    \n",
      "                                                                                                  \n",
      " re_lu_8 (ReLU)                 (100, 32, 32, 192)   0           ['batch_normalization_12[0][0]'] \n",
      "                                                                                                  \n",
      " depthwise_conv2d_4 (DepthwiseC  (100, 32, 32, 192)  1728        ['re_lu_8[0][0]']                \n",
      " onv2D)                                                                                           \n",
      "                                                                                                  \n",
      " batch_normalization_13 (BatchN  (100, 32, 32, 192)  768         ['depthwise_conv2d_4[0][0]']     \n",
      " ormalization)                                                                                    \n",
      "                                                                                                  \n",
      " re_lu_9 (ReLU)                 (100, 32, 32, 192)   0           ['batch_normalization_13[0][0]'] \n",
      "                                                                                                  \n",
      " conv2d_10 (Conv2D)             (100, 32, 32, 32)    6144        ['re_lu_9[0][0]']                \n",
      "                                                                                                  \n",
      " batch_normalization_14 (BatchN  (100, 32, 32, 32)   128         ['conv2d_10[0][0]']              \n",
      " ormalization)                                                                                    \n",
      "                                                                                                  \n",
      " add_1 (Add)                    (100, 32, 32, 32)    0           ['batch_normalization_11[0][0]', \n",
      "                                                                  'batch_normalization_14[0][0]'] \n",
      "                                                                                                  \n",
      " conv2d_11 (Conv2D)             (100, 32, 32, 192)   6144        ['add_1[0][0]']                  \n",
      "                                                                                                  \n",
      " batch_normalization_15 (BatchN  (100, 32, 32, 192)  768         ['conv2d_11[0][0]']              \n",
      " ormalization)                                                                                    \n",
      "                                                                                                  \n",
      " re_lu_10 (ReLU)                (100, 32, 32, 192)   0           ['batch_normalization_15[0][0]'] \n",
      "                                                                                                  \n",
      " depthwise_conv2d_5 (DepthwiseC  (100, 32, 32, 192)  1728        ['re_lu_10[0][0]']               \n",
      " onv2D)                                                                                           \n",
      "                                                                                                  \n",
      " batch_normalization_16 (BatchN  (100, 32, 32, 192)  768         ['depthwise_conv2d_5[0][0]']     \n",
      " ormalization)                                                                                    \n",
      "                                                                                                  \n",
      " re_lu_11 (ReLU)                (100, 32, 32, 192)   0           ['batch_normalization_16[0][0]'] \n",
      "                                                                                                  \n",
      " conv2d_12 (Conv2D)             (100, 32, 32, 32)    6144        ['re_lu_11[0][0]']               \n",
      "                                                                                                  \n",
      " batch_normalization_17 (BatchN  (100, 32, 32, 32)   128         ['conv2d_12[0][0]']              \n",
      " ormalization)                                                                                    \n",
      "                                                                                                  \n",
      " add_2 (Add)                    (100, 32, 32, 32)    0           ['add_1[0][0]',                  \n",
      "                                                                  'batch_normalization_17[0][0]'] \n",
      "                                                                                                  \n",
      " conv2d_13 (Conv2D)             (100, 32, 32, 192)   6144        ['add_2[0][0]']                  \n",
      "                                                                                                  \n",
      " batch_normalization_18 (BatchN  (100, 32, 32, 192)  768         ['conv2d_13[0][0]']              \n",
      " ormalization)                                                                                    \n",
      "                                                                                                  \n",
      " re_lu_12 (ReLU)                (100, 32, 32, 192)   0           ['batch_normalization_18[0][0]'] \n",
      "                                                                                                  \n",
      " depthwise_conv2d_6 (DepthwiseC  (100, 16, 16, 192)  1728        ['re_lu_12[0][0]']               \n",
      " onv2D)                                                                                           \n",
      "                                                                                                  \n",
      " batch_normalization_19 (BatchN  (100, 16, 16, 192)  768         ['depthwise_conv2d_6[0][0]']     \n",
      " ormalization)                                                                                    \n",
      "                                                                                                  \n",
      " re_lu_13 (ReLU)                (100, 16, 16, 192)   0           ['batch_normalization_19[0][0]'] \n",
      "                                                                                                  \n",
      " conv2d_14 (Conv2D)             (100, 16, 16, 64)    12288       ['re_lu_13[0][0]']               \n",
      "                                                                                                  \n",
      " batch_normalization_20 (BatchN  (100, 16, 16, 64)   256         ['conv2d_14[0][0]']              \n",
      " ormalization)                                                                                    \n",
      "                                                                                                  \n",
      " conv2d_15 (Conv2D)             (100, 16, 16, 384)   24576       ['batch_normalization_20[0][0]'] \n",
      "                                                                                                  \n",
      " batch_normalization_21 (BatchN  (100, 16, 16, 384)  1536        ['conv2d_15[0][0]']              \n",
      " ormalization)                                                                                    \n",
      "                                                                                                  \n",
      " re_lu_14 (ReLU)                (100, 16, 16, 384)   0           ['batch_normalization_21[0][0]'] \n",
      "                                                                                                  \n",
      " depthwise_conv2d_7 (DepthwiseC  (100, 16, 16, 384)  3456        ['re_lu_14[0][0]']               \n",
      " onv2D)                                                                                           \n",
      "                                                                                                  \n",
      " batch_normalization_22 (BatchN  (100, 16, 16, 384)  1536        ['depthwise_conv2d_7[0][0]']     \n",
      " ormalization)                                                                                    \n",
      "                                                                                                  \n",
      " re_lu_15 (ReLU)                (100, 16, 16, 384)   0           ['batch_normalization_22[0][0]'] \n",
      "                                                                                                  \n",
      " conv2d_16 (Conv2D)             (100, 16, 16, 64)    24576       ['re_lu_15[0][0]']               \n",
      "                                                                                                  \n",
      " batch_normalization_23 (BatchN  (100, 16, 16, 64)   256         ['conv2d_16[0][0]']              \n",
      " ormalization)                                                                                    \n",
      "                                                                                                  \n",
      " add_3 (Add)                    (100, 16, 16, 64)    0           ['batch_normalization_20[0][0]', \n",
      "                                                                  'batch_normalization_23[0][0]'] \n",
      "                                                                                                  \n",
      " conv2d_17 (Conv2D)             (100, 16, 16, 384)   24576       ['add_3[0][0]']                  \n",
      "                                                                                                  \n",
      " batch_normalization_24 (BatchN  (100, 16, 16, 384)  1536        ['conv2d_17[0][0]']              \n",
      " ormalization)                                                                                    \n",
      "                                                                                                  \n",
      " re_lu_16 (ReLU)                (100, 16, 16, 384)   0           ['batch_normalization_24[0][0]'] \n",
      "                                                                                                  \n",
      " depthwise_conv2d_8 (DepthwiseC  (100, 16, 16, 384)  3456        ['re_lu_16[0][0]']               \n",
      " onv2D)                                                                                           \n",
      "                                                                                                  \n",
      " batch_normalization_25 (BatchN  (100, 16, 16, 384)  1536        ['depthwise_conv2d_8[0][0]']     \n",
      " ormalization)                                                                                    \n",
      "                                                                                                  \n",
      " re_lu_17 (ReLU)                (100, 16, 16, 384)   0           ['batch_normalization_25[0][0]'] \n",
      "                                                                                                  \n",
      " conv2d_18 (Conv2D)             (100, 16, 16, 64)    24576       ['re_lu_17[0][0]']               \n",
      "                                                                                                  \n",
      " batch_normalization_26 (BatchN  (100, 16, 16, 64)   256         ['conv2d_18[0][0]']              \n",
      " ormalization)                                                                                    \n",
      "                                                                                                  \n",
      " add_4 (Add)                    (100, 16, 16, 64)    0           ['add_3[0][0]',                  \n",
      "                                                                  'batch_normalization_26[0][0]'] \n",
      "                                                                                                  \n",
      " conv2d_19 (Conv2D)             (100, 16, 16, 384)   24576       ['add_4[0][0]']                  \n",
      "                                                                                                  \n",
      " batch_normalization_27 (BatchN  (100, 16, 16, 384)  1536        ['conv2d_19[0][0]']              \n",
      " ormalization)                                                                                    \n",
      "                                                                                                  \n",
      " re_lu_18 (ReLU)                (100, 16, 16, 384)   0           ['batch_normalization_27[0][0]'] \n",
      "                                                                                                  \n",
      " depthwise_conv2d_9 (DepthwiseC  (100, 16, 16, 384)  3456        ['re_lu_18[0][0]']               \n",
      " onv2D)                                                                                           \n",
      "                                                                                                  \n",
      " batch_normalization_28 (BatchN  (100, 16, 16, 384)  1536        ['depthwise_conv2d_9[0][0]']     \n",
      " ormalization)                                                                                    \n",
      "                                                                                                  \n",
      " re_lu_19 (ReLU)                (100, 16, 16, 384)   0           ['batch_normalization_28[0][0]'] \n",
      "                                                                                                  \n",
      " conv2d_20 (Conv2D)             (100, 16, 16, 64)    24576       ['re_lu_19[0][0]']               \n",
      "                                                                                                  \n",
      " batch_normalization_29 (BatchN  (100, 16, 16, 64)   256         ['conv2d_20[0][0]']              \n",
      " ormalization)                                                                                    \n",
      "                                                                                                  \n",
      " add_5 (Add)                    (100, 16, 16, 64)    0           ['add_4[0][0]',                  \n",
      "                                                                  'batch_normalization_29[0][0]'] \n",
      "                                                                                                  \n",
      " dropout (Dropout)              (100, 16, 16, 64)    0           ['add_5[0][0]']                  \n",
      "                                                                                                  \n",
      " conv2d_21 (Conv2D)             (100, 16, 16, 384)   24576       ['dropout[0][0]']                \n",
      "                                                                                                  \n",
      " batch_normalization_30 (BatchN  (100, 16, 16, 384)  1536        ['conv2d_21[0][0]']              \n",
      " ormalization)                                                                                    \n",
      "                                                                                                  \n",
      " re_lu_20 (ReLU)                (100, 16, 16, 384)   0           ['batch_normalization_30[0][0]'] \n",
      "                                                                                                  \n",
      " depthwise_conv2d_10 (Depthwise  (100, 16, 16, 384)  3456        ['re_lu_20[0][0]']               \n",
      " Conv2D)                                                                                          \n",
      "                                                                                                  \n",
      " batch_normalization_31 (BatchN  (100, 16, 16, 384)  1536        ['depthwise_conv2d_10[0][0]']    \n",
      " ormalization)                                                                                    \n",
      "                                                                                                  \n",
      " re_lu_21 (ReLU)                (100, 16, 16, 384)   0           ['batch_normalization_31[0][0]'] \n",
      "                                                                                                  \n",
      " conv2d_22 (Conv2D)             (100, 16, 16, 96)    36864       ['re_lu_21[0][0]']               \n",
      "                                                                                                  \n",
      " batch_normalization_32 (BatchN  (100, 16, 16, 96)   384         ['conv2d_22[0][0]']              \n",
      " ormalization)                                                                                    \n",
      "                                                                                                  \n",
      " conv2d_23 (Conv2D)             (100, 16, 16, 576)   55296       ['batch_normalization_32[0][0]'] \n",
      "                                                                                                  \n",
      " batch_normalization_33 (BatchN  (100, 16, 16, 576)  2304        ['conv2d_23[0][0]']              \n",
      " ormalization)                                                                                    \n",
      "                                                                                                  \n",
      " re_lu_22 (ReLU)                (100, 16, 16, 576)   0           ['batch_normalization_33[0][0]'] \n",
      "                                                                                                  \n",
      " depthwise_conv2d_11 (Depthwise  (100, 16, 16, 576)  5184        ['re_lu_22[0][0]']               \n",
      " Conv2D)                                                                                          \n",
      "                                                                                                  \n",
      " batch_normalization_34 (BatchN  (100, 16, 16, 576)  2304        ['depthwise_conv2d_11[0][0]']    \n",
      " ormalization)                                                                                    \n",
      "                                                                                                  \n",
      " re_lu_23 (ReLU)                (100, 16, 16, 576)   0           ['batch_normalization_34[0][0]'] \n",
      "                                                                                                  \n",
      " conv2d_24 (Conv2D)             (100, 16, 16, 96)    55296       ['re_lu_23[0][0]']               \n",
      "                                                                                                  \n",
      " batch_normalization_35 (BatchN  (100, 16, 16, 96)   384         ['conv2d_24[0][0]']              \n",
      " ormalization)                                                                                    \n",
      "                                                                                                  \n",
      " add_6 (Add)                    (100, 16, 16, 96)    0           ['batch_normalization_32[0][0]', \n",
      "                                                                  'batch_normalization_35[0][0]'] \n",
      "                                                                                                  \n",
      " conv2d_25 (Conv2D)             (100, 16, 16, 576)   55296       ['add_6[0][0]']                  \n",
      "                                                                                                  \n",
      " batch_normalization_36 (BatchN  (100, 16, 16, 576)  2304        ['conv2d_25[0][0]']              \n",
      " ormalization)                                                                                    \n",
      "                                                                                                  \n",
      " re_lu_24 (ReLU)                (100, 16, 16, 576)   0           ['batch_normalization_36[0][0]'] \n",
      "                                                                                                  \n",
      " depthwise_conv2d_12 (Depthwise  (100, 16, 16, 576)  5184        ['re_lu_24[0][0]']               \n",
      " Conv2D)                                                                                          \n",
      "                                                                                                  \n",
      " batch_normalization_37 (BatchN  (100, 16, 16, 576)  2304        ['depthwise_conv2d_12[0][0]']    \n",
      " ormalization)                                                                                    \n",
      "                                                                                                  \n",
      " re_lu_25 (ReLU)                (100, 16, 16, 576)   0           ['batch_normalization_37[0][0]'] \n",
      "                                                                                                  \n",
      " conv2d_26 (Conv2D)             (100, 16, 16, 96)    55296       ['re_lu_25[0][0]']               \n",
      "                                                                                                  \n",
      " batch_normalization_38 (BatchN  (100, 16, 16, 96)   384         ['conv2d_26[0][0]']              \n",
      " ormalization)                                                                                    \n",
      "                                                                                                  \n",
      " add_7 (Add)                    (100, 16, 16, 96)    0           ['add_6[0][0]',                  \n",
      "                                                                  'batch_normalization_38[0][0]'] \n",
      "                                                                                                  \n",
      " dropout_1 (Dropout)            (100, 16, 16, 96)    0           ['add_7[0][0]']                  \n",
      "                                                                                                  \n",
      " conv2d_27 (Conv2D)             (100, 16, 16, 576)   55296       ['dropout_1[0][0]']              \n",
      "                                                                                                  \n",
      " batch_normalization_39 (BatchN  (100, 16, 16, 576)  2304        ['conv2d_27[0][0]']              \n",
      " ormalization)                                                                                    \n",
      "                                                                                                  \n",
      " re_lu_26 (ReLU)                (100, 16, 16, 576)   0           ['batch_normalization_39[0][0]'] \n",
      "                                                                                                  \n",
      " depthwise_conv2d_13 (Depthwise  (100, 8, 8, 576)    5184        ['re_lu_26[0][0]']               \n",
      " Conv2D)                                                                                          \n",
      "                                                                                                  \n",
      " batch_normalization_40 (BatchN  (100, 8, 8, 576)    2304        ['depthwise_conv2d_13[0][0]']    \n",
      " ormalization)                                                                                    \n",
      "                                                                                                  \n",
      " re_lu_27 (ReLU)                (100, 8, 8, 576)     0           ['batch_normalization_40[0][0]'] \n",
      "                                                                                                  \n",
      " conv2d_28 (Conv2D)             (100, 8, 8, 160)     92160       ['re_lu_27[0][0]']               \n",
      "                                                                                                  \n",
      " batch_normalization_41 (BatchN  (100, 8, 8, 160)    640         ['conv2d_28[0][0]']              \n",
      " ormalization)                                                                                    \n",
      "                                                                                                  \n",
      " conv2d_29 (Conv2D)             (100, 8, 8, 960)     153600      ['batch_normalization_41[0][0]'] \n",
      "                                                                                                  \n",
      " batch_normalization_42 (BatchN  (100, 8, 8, 960)    3840        ['conv2d_29[0][0]']              \n",
      " ormalization)                                                                                    \n",
      "                                                                                                  \n",
      " re_lu_28 (ReLU)                (100, 8, 8, 960)     0           ['batch_normalization_42[0][0]'] \n",
      "                                                                                                  \n",
      " depthwise_conv2d_14 (Depthwise  (100, 8, 8, 960)    8640        ['re_lu_28[0][0]']               \n",
      " Conv2D)                                                                                          \n",
      "                                                                                                  \n",
      " batch_normalization_43 (BatchN  (100, 8, 8, 960)    3840        ['depthwise_conv2d_14[0][0]']    \n",
      " ormalization)                                                                                    \n",
      "                                                                                                  \n",
      " re_lu_29 (ReLU)                (100, 8, 8, 960)     0           ['batch_normalization_43[0][0]'] \n",
      "                                                                                                  \n",
      " conv2d_30 (Conv2D)             (100, 8, 8, 160)     153600      ['re_lu_29[0][0]']               \n",
      "                                                                                                  \n",
      " batch_normalization_44 (BatchN  (100, 8, 8, 160)    640         ['conv2d_30[0][0]']              \n",
      " ormalization)                                                                                    \n",
      "                                                                                                  \n",
      " add_8 (Add)                    (100, 8, 8, 160)     0           ['batch_normalization_41[0][0]', \n",
      "                                                                  'batch_normalization_44[0][0]'] \n",
      "                                                                                                  \n",
      " conv2d_31 (Conv2D)             (100, 8, 8, 960)     153600      ['add_8[0][0]']                  \n",
      "                                                                                                  \n",
      " batch_normalization_45 (BatchN  (100, 8, 8, 960)    3840        ['conv2d_31[0][0]']              \n",
      " ormalization)                                                                                    \n",
      "                                                                                                  \n",
      " re_lu_30 (ReLU)                (100, 8, 8, 960)     0           ['batch_normalization_45[0][0]'] \n",
      "                                                                                                  \n",
      " depthwise_conv2d_15 (Depthwise  (100, 8, 8, 960)    8640        ['re_lu_30[0][0]']               \n",
      " Conv2D)                                                                                          \n",
      "                                                                                                  \n",
      " batch_normalization_46 (BatchN  (100, 8, 8, 960)    3840        ['depthwise_conv2d_15[0][0]']    \n",
      " ormalization)                                                                                    \n",
      "                                                                                                  \n",
      " re_lu_31 (ReLU)                (100, 8, 8, 960)     0           ['batch_normalization_46[0][0]'] \n",
      "                                                                                                  \n",
      " conv2d_32 (Conv2D)             (100, 8, 8, 160)     153600      ['re_lu_31[0][0]']               \n",
      "                                                                                                  \n",
      " batch_normalization_47 (BatchN  (100, 8, 8, 160)    640         ['conv2d_32[0][0]']              \n",
      " ormalization)                                                                                    \n",
      "                                                                                                  \n",
      " add_9 (Add)                    (100, 8, 8, 160)     0           ['add_8[0][0]',                  \n",
      "                                                                  'batch_normalization_47[0][0]'] \n",
      "                                                                                                  \n",
      " dropout_2 (Dropout)            (100, 8, 8, 160)     0           ['add_9[0][0]']                  \n",
      "                                                                                                  \n",
      " conv2d_33 (Conv2D)             (100, 8, 8, 960)     153600      ['dropout_2[0][0]']              \n",
      "                                                                                                  \n",
      " batch_normalization_48 (BatchN  (100, 8, 8, 960)    3840        ['conv2d_33[0][0]']              \n",
      " ormalization)                                                                                    \n",
      "                                                                                                  \n",
      " re_lu_32 (ReLU)                (100, 8, 8, 960)     0           ['batch_normalization_48[0][0]'] \n",
      "                                                                                                  \n",
      " depthwise_conv2d_16 (Depthwise  (100, 8, 8, 960)    8640        ['re_lu_32[0][0]']               \n",
      " Conv2D)                                                                                          \n",
      "                                                                                                  \n",
      " batch_normalization_49 (BatchN  (100, 8, 8, 960)    3840        ['depthwise_conv2d_16[0][0]']    \n",
      " ormalization)                                                                                    \n",
      "                                                                                                  \n",
      " re_lu_33 (ReLU)                (100, 8, 8, 960)     0           ['batch_normalization_49[0][0]'] \n",
      "                                                                                                  \n",
      " conv2d_34 (Conv2D)             (100, 8, 8, 320)     307200      ['re_lu_33[0][0]']               \n",
      "                                                                                                  \n",
      " batch_normalization_50 (BatchN  (100, 8, 8, 320)    1280        ['conv2d_34[0][0]']              \n",
      " ormalization)                                                                                    \n",
      "                                                                                                  \n",
      " dropout_3 (Dropout)            (100, 8, 8, 320)     0           ['batch_normalization_50[0][0]'] \n",
      "                                                                                                  \n",
      " conv2d_35 (Conv2D)             (100, 8, 8, 1280)    409600      ['dropout_3[0][0]']              \n",
      "                                                                                                  \n",
      " batch_normalization_51 (BatchN  (100, 8, 8, 1280)   5120        ['conv2d_35[0][0]']              \n",
      " ormalization)                                                                                    \n",
      "                                                                                                  \n",
      " re_lu_34 (ReLU)                (100, 8, 8, 1280)    0           ['batch_normalization_51[0][0]'] \n",
      "                                                                                                  \n",
      " global_average_pooling2d (Glob  (100, 1280)         0           ['re_lu_34[0][0]']               \n",
      " alAveragePooling2D)                                                                              \n",
      "                                                                                                  \n",
      " dense (Dense)                  (100, 10)            12810       ['global_average_pooling2d[0][0]'\n",
      "                                                                 ]                                \n",
      "                                                                                                  \n",
      "==================================================================================================\n",
      "Total params: 2,271,818\n",
      "Trainable params: 2,237,706\n",
      "Non-trainable params: 34,112\n",
      "__________________________________________________________________________________________________\n"
     ]
    }
   ],
   "source": [
    "model_input = tf.keras.Input(shape=(32, 32, 3), batch_size=100)\n",
    "\n",
    "x = tf.keras.layers.Conv2D(32, 3, strides=1, padding='same', use_bias=False)(model_input)\n",
    "\n",
    "x = get_block(x, 16, 1, 1)\n",
    "\n",
    "x = get_block(x, 24, 6, 1)\n",
    "x = get_block(x, 24, 6, 1)\n",
    "\n",
    "x = get_block(x, 32, 6, 1)\n",
    "x = get_block(x, 32, 6, 1)\n",
    "x = get_block(x, 32, 6, 1)\n",
    "\n",
    "x = get_block(x, 64, 6, 2)\n",
    "x = get_block(x, 64, 6, 1)\n",
    "x = get_block(x, 64, 6, 1)\n",
    "x = get_block(x, 64, 6, 1)\n",
    "\n",
    "x = tf.keras.layers.Dropout(0.25)(x)\n",
    "\n",
    "x = get_block(x, 96, 6, 1)\n",
    "x = get_block(x, 96, 6, 1)\n",
    "x = get_block(x, 96, 6, 1)\n",
    "\n",
    "x = tf.keras.layers.Dropout(0.25)(x)\n",
    "\n",
    "x = get_block(x, 160, 6, 2)\n",
    "x = get_block(x, 160, 6, 1)\n",
    "x = get_block(x, 160, 6, 1)\n",
    "\n",
    "x = tf.keras.layers.Dropout(0.25)(x)\n",
    "\n",
    "x = get_block(x, 320, 6, 1)\n",
    "\n",
    "x = tf.keras.layers.Dropout(0.25)(x)\n",
    "\n",
    "x = tf.keras.layers.Conv2D(1280, 1, use_bias=False)(x)\n",
    "x = tf.keras.layers.BatchNormalization()(x)\n",
    "x = tf.keras.layers.ReLU(6)(x)\n",
    "\n",
    "x = tf.keras.layers.GlobalAveragePooling2D()(x)\n",
    "x = tf.keras.layers.Dense(10)(x)\n",
    "\n",
    "model = tf.keras.models.Model(inputs=model_input, outputs=x)\n",
    "\n",
    "model.summary()"
   ]
  },
  {
   "cell_type": "markdown",
   "metadata": {
    "id": "sOWsT-ag1hzh"
   },
   "source": [
    "#### Создаем чекпоинты (всем уже рассказал)\n",
    "- Если лень, то просто копипаст того, что я написал ниже. НЕ ЗАБЫВАЕМ МЕНЯТЬ ПЕРЕМЕННУЮ `num_model`!!!"
   ]
  },
  {
   "cell_type": "code",
   "execution_count": 8,
   "metadata": {
    "executionInfo": {
     "elapsed": 307,
     "status": "ok",
     "timestamp": 1681236577748,
     "user": {
      "displayName": "Михаил Глазов",
      "userId": "14831628976106288763"
     },
     "user_tz": -180
    },
    "id": "3uG2pykA1hzh"
   },
   "outputs": [],
   "source": [
    "metrics = ['categorical_accuracy',\n",
    "           tfa.metrics.F1Score(num_classes=10, average='macro', name='f1_score')]\n",
    "num_model = '_s_6'\n",
    "callbacks = [\n",
    "    PlotLossesKeras(),\n",
    "    tf.keras.callbacks.ModelCheckpoint(\n",
    "        filepath=f'../checkpoints/model{num_model}_categorical_accuracy.h5',\n",
    "        monitor='val_categorical_accuracy',\n",
    "        mode='max',\n",
    "        save_best_only=True,\n",
    "    ),\n",
    "    tf.keras.callbacks.ModelCheckpoint(\n",
    "        filepath=f'../checkpoints/model{num_model}_loss.h5',\n",
    "        monitor='val_loss',\n",
    "        mode='min',\n",
    "        save_best_only=True,\n",
    "    ),\n",
    "    tf.keras.callbacks.ModelCheckpoint(\n",
    "        filepath=f'../checkpoints/model{num_model}_f1_score.h5',\n",
    "        monitor='val_f1_score',\n",
    "        mode='max',\n",
    "        save_best_only=True,\n",
    "    ),\n",
    "\n",
    "    tfa.callbacks.AverageModelCheckpoint(\n",
    "        update_weights=False,\n",
    "        filepath=f'../checkpoints/model{num_model}_avg_categorical_accuracy.h5',\n",
    "        monitor='val_categorical_accuracy',\n",
    "        mode='max',\n",
    "        save_best_only=True,\n",
    "    ),\n",
    "    tfa.callbacks.AverageModelCheckpoint(\n",
    "        update_weights=False,\n",
    "        filepath=f'../checkpoints/model{num_model}_avg_loss.h5',\n",
    "        monitor='val_loss',\n",
    "        mode='min',\n",
    "        save_best_only=True,\n",
    "    ),\n",
    "    tfa.callbacks.AverageModelCheckpoint(\n",
    "        update_weights=False,\n",
    "        filepath=f'../checkpoints/model{num_model}_avg_f1_score.h5',\n",
    "        monitor='val_f1_score',\n",
    "        mode='max',\n",
    "        save_best_only=True,\n",
    "    )\n",
    "]"
   ]
  },
  {
   "cell_type": "markdown",
   "metadata": {
    "id": "wzTRYrou-S79"
   },
   "source": [
    "#### Компиляция модели\n",
    "- Если будете что то менять, то только оптимизатор. Про оптимизаторы написано у Лизы."
   ]
  },
  {
   "cell_type": "code",
   "execution_count": 9,
   "metadata": {
    "executionInfo": {
     "elapsed": 312,
     "status": "ok",
     "timestamp": 1681236585986,
     "user": {
      "displayName": "Михаил Глазов",
      "userId": "14831628976106288763"
     },
     "user_tz": -180
    },
    "id": "yBYZOVgK-S7-"
   },
   "outputs": [],
   "source": [
    "model.compile(\n",
    "    optimizer=tfa.optimizers.MovingAverage(tf.keras.optimizers.legacy.Adam()),\n",
    "    metrics=metrics,\n",
    "    loss=tf.keras.losses.CategoricalCrossentropy(from_logits=True),\n",
    ")"
   ]
  },
  {
   "cell_type": "code",
   "execution_count": 2,
   "metadata": {
    "colab": {
     "base_uri": "https://localhost:8080/"
    },
    "executionInfo": {
     "elapsed": 20482,
     "status": "ok",
     "timestamp": 1681236208271,
     "user": {
      "displayName": "Михаил Глазов",
      "userId": "14831628976106288763"
     },
     "user_tz": -180
    },
    "id": "jWAAXsxKfEWp",
    "outputId": "b5633013-3ad7-4870-f719-d8aa59a0c010"
   },
   "outputs": [
    {
     "name": "stdout",
     "output_type": "stream",
     "text": [
      "Mounted at /content/drive\n"
     ]
    }
   ],
   "source": [
    "from google.colab import drive\n",
    "\n",
    "drive.mount('/content/drive')"
   ]
  },
  {
   "cell_type": "markdown",
   "metadata": {
    "id": "Ne9pPgJI-S7-"
   },
   "source": [
    "#### Обучаем модель"
   ]
  },
  {
   "cell_type": "code",
   "execution_count": 10,
   "metadata": {
    "colab": {
     "base_uri": "https://localhost:8080/",
     "height": 1000
    },
    "executionInfo": {
     "elapsed": 11575266,
     "status": "ok",
     "timestamp": 1681248165735,
     "user": {
      "displayName": "Михаил Глазов",
      "userId": "14831628976106288763"
     },
     "user_tz": -180
    },
    "id": "mbiNiTlx-S7_",
    "outputId": "6c41c3d0-8325-4c1b-a5a2-a09e15c6aeff"
   },
   "outputs": [
    {
     "name": "stdout",
     "output_type": "stream",
     "text": [
      "Epoch 1/100\n",
      "  9/898 [..............................] - ETA: 1:52:11 - loss: 2.5034 - categorical_accuracy: 0.1011 - f1_score: 0.0870"
     ]
    },
    {
     "ename": "KeyboardInterrupt",
     "evalue": "",
     "output_type": "error",
     "traceback": [
      "\u001b[1;31m---------------------------------------------------------------------------\u001b[0m",
      "\u001b[1;31mKeyboardInterrupt\u001b[0m                         Traceback (most recent call last)",
      "Cell \u001b[1;32mIn[10], line 1\u001b[0m\n\u001b[1;32m----> 1\u001b[0m \u001b[43mmodel\u001b[49m\u001b[38;5;241;43m.\u001b[39;49m\u001b[43mfit\u001b[49m\u001b[43m(\u001b[49m\u001b[43mtrain_ds\u001b[49m\u001b[43m,\u001b[49m\u001b[43m \u001b[49m\u001b[43mvalidation_data\u001b[49m\u001b[38;5;241;43m=\u001b[39;49m\u001b[43mval_ds\u001b[49m\u001b[43m,\u001b[49m\n\u001b[0;32m      2\u001b[0m \u001b[43m          \u001b[49m\u001b[43mepochs\u001b[49m\u001b[38;5;241;43m=\u001b[39;49m\u001b[38;5;241;43m100\u001b[39;49m\u001b[43m,\u001b[49m\u001b[43m \u001b[49m\u001b[43mcallbacks\u001b[49m\u001b[38;5;241;43m=\u001b[39;49m\u001b[43mcallbacks\u001b[49m\u001b[43m,\u001b[49m\u001b[43m \u001b[49m\u001b[43mverbose\u001b[49m\u001b[38;5;241;43m=\u001b[39;49m\u001b[38;5;241;43m1\u001b[39;49m\u001b[43m)\u001b[49m\n",
      "File \u001b[1;32m~\\PycharmProjects\\YaMlProject\\venv\\lib\\site-packages\\keras\\utils\\traceback_utils.py:65\u001b[0m, in \u001b[0;36mfilter_traceback.<locals>.error_handler\u001b[1;34m(*args, **kwargs)\u001b[0m\n\u001b[0;32m     63\u001b[0m filtered_tb \u001b[38;5;241m=\u001b[39m \u001b[38;5;28;01mNone\u001b[39;00m\n\u001b[0;32m     64\u001b[0m \u001b[38;5;28;01mtry\u001b[39;00m:\n\u001b[1;32m---> 65\u001b[0m     \u001b[38;5;28;01mreturn\u001b[39;00m fn(\u001b[38;5;241m*\u001b[39margs, \u001b[38;5;241m*\u001b[39m\u001b[38;5;241m*\u001b[39mkwargs)\n\u001b[0;32m     66\u001b[0m \u001b[38;5;28;01mexcept\u001b[39;00m \u001b[38;5;167;01mException\u001b[39;00m \u001b[38;5;28;01mas\u001b[39;00m e:\n\u001b[0;32m     67\u001b[0m     filtered_tb \u001b[38;5;241m=\u001b[39m _process_traceback_frames(e\u001b[38;5;241m.\u001b[39m__traceback__)\n",
      "File \u001b[1;32m~\\PycharmProjects\\YaMlProject\\venv\\lib\\site-packages\\keras\\engine\\training.py:1685\u001b[0m, in \u001b[0;36mModel.fit\u001b[1;34m(self, x, y, batch_size, epochs, verbose, callbacks, validation_split, validation_data, shuffle, class_weight, sample_weight, initial_epoch, steps_per_epoch, validation_steps, validation_batch_size, validation_freq, max_queue_size, workers, use_multiprocessing)\u001b[0m\n\u001b[0;32m   1677\u001b[0m \u001b[38;5;28;01mwith\u001b[39;00m tf\u001b[38;5;241m.\u001b[39mprofiler\u001b[38;5;241m.\u001b[39mexperimental\u001b[38;5;241m.\u001b[39mTrace(\n\u001b[0;32m   1678\u001b[0m     \u001b[38;5;124m\"\u001b[39m\u001b[38;5;124mtrain\u001b[39m\u001b[38;5;124m\"\u001b[39m,\n\u001b[0;32m   1679\u001b[0m     epoch_num\u001b[38;5;241m=\u001b[39mepoch,\n\u001b[1;32m   (...)\u001b[0m\n\u001b[0;32m   1682\u001b[0m     _r\u001b[38;5;241m=\u001b[39m\u001b[38;5;241m1\u001b[39m,\n\u001b[0;32m   1683\u001b[0m ):\n\u001b[0;32m   1684\u001b[0m     callbacks\u001b[38;5;241m.\u001b[39mon_train_batch_begin(step)\n\u001b[1;32m-> 1685\u001b[0m     tmp_logs \u001b[38;5;241m=\u001b[39m \u001b[38;5;28;43mself\u001b[39;49m\u001b[38;5;241;43m.\u001b[39;49m\u001b[43mtrain_function\u001b[49m\u001b[43m(\u001b[49m\u001b[43miterator\u001b[49m\u001b[43m)\u001b[49m\n\u001b[0;32m   1686\u001b[0m     \u001b[38;5;28;01mif\u001b[39;00m data_handler\u001b[38;5;241m.\u001b[39mshould_sync:\n\u001b[0;32m   1687\u001b[0m         context\u001b[38;5;241m.\u001b[39masync_wait()\n",
      "File \u001b[1;32m~\\PycharmProjects\\YaMlProject\\venv\\lib\\site-packages\\tensorflow\\python\\util\\traceback_utils.py:150\u001b[0m, in \u001b[0;36mfilter_traceback.<locals>.error_handler\u001b[1;34m(*args, **kwargs)\u001b[0m\n\u001b[0;32m    148\u001b[0m filtered_tb \u001b[38;5;241m=\u001b[39m \u001b[38;5;28;01mNone\u001b[39;00m\n\u001b[0;32m    149\u001b[0m \u001b[38;5;28;01mtry\u001b[39;00m:\n\u001b[1;32m--> 150\u001b[0m   \u001b[38;5;28;01mreturn\u001b[39;00m fn(\u001b[38;5;241m*\u001b[39margs, \u001b[38;5;241m*\u001b[39m\u001b[38;5;241m*\u001b[39mkwargs)\n\u001b[0;32m    151\u001b[0m \u001b[38;5;28;01mexcept\u001b[39;00m \u001b[38;5;167;01mException\u001b[39;00m \u001b[38;5;28;01mas\u001b[39;00m e:\n\u001b[0;32m    152\u001b[0m   filtered_tb \u001b[38;5;241m=\u001b[39m _process_traceback_frames(e\u001b[38;5;241m.\u001b[39m__traceback__)\n",
      "File \u001b[1;32m~\\PycharmProjects\\YaMlProject\\venv\\lib\\site-packages\\tensorflow\\python\\eager\\polymorphic_function\\polymorphic_function.py:894\u001b[0m, in \u001b[0;36mFunction.__call__\u001b[1;34m(self, *args, **kwds)\u001b[0m\n\u001b[0;32m    891\u001b[0m compiler \u001b[38;5;241m=\u001b[39m \u001b[38;5;124m\"\u001b[39m\u001b[38;5;124mxla\u001b[39m\u001b[38;5;124m\"\u001b[39m \u001b[38;5;28;01mif\u001b[39;00m \u001b[38;5;28mself\u001b[39m\u001b[38;5;241m.\u001b[39m_jit_compile \u001b[38;5;28;01melse\u001b[39;00m \u001b[38;5;124m\"\u001b[39m\u001b[38;5;124mnonXla\u001b[39m\u001b[38;5;124m\"\u001b[39m\n\u001b[0;32m    893\u001b[0m \u001b[38;5;28;01mwith\u001b[39;00m OptionalXlaContext(\u001b[38;5;28mself\u001b[39m\u001b[38;5;241m.\u001b[39m_jit_compile):\n\u001b[1;32m--> 894\u001b[0m   result \u001b[38;5;241m=\u001b[39m \u001b[38;5;28mself\u001b[39m\u001b[38;5;241m.\u001b[39m_call(\u001b[38;5;241m*\u001b[39margs, \u001b[38;5;241m*\u001b[39m\u001b[38;5;241m*\u001b[39mkwds)\n\u001b[0;32m    896\u001b[0m new_tracing_count \u001b[38;5;241m=\u001b[39m \u001b[38;5;28mself\u001b[39m\u001b[38;5;241m.\u001b[39mexperimental_get_tracing_count()\n\u001b[0;32m    897\u001b[0m without_tracing \u001b[38;5;241m=\u001b[39m (tracing_count \u001b[38;5;241m==\u001b[39m new_tracing_count)\n",
      "File \u001b[1;32m~\\PycharmProjects\\YaMlProject\\venv\\lib\\site-packages\\tensorflow\\python\\eager\\polymorphic_function\\polymorphic_function.py:926\u001b[0m, in \u001b[0;36mFunction._call\u001b[1;34m(self, *args, **kwds)\u001b[0m\n\u001b[0;32m    923\u001b[0m   \u001b[38;5;28mself\u001b[39m\u001b[38;5;241m.\u001b[39m_lock\u001b[38;5;241m.\u001b[39mrelease()\n\u001b[0;32m    924\u001b[0m   \u001b[38;5;66;03m# In this case we have created variables on the first call, so we run the\u001b[39;00m\n\u001b[0;32m    925\u001b[0m   \u001b[38;5;66;03m# defunned version which is guaranteed to never create variables.\u001b[39;00m\n\u001b[1;32m--> 926\u001b[0m   \u001b[38;5;28;01mreturn\u001b[39;00m \u001b[38;5;28mself\u001b[39m\u001b[38;5;241m.\u001b[39m_no_variable_creation_fn(\u001b[38;5;241m*\u001b[39margs, \u001b[38;5;241m*\u001b[39m\u001b[38;5;241m*\u001b[39mkwds)  \u001b[38;5;66;03m# pylint: disable=not-callable\u001b[39;00m\n\u001b[0;32m    927\u001b[0m \u001b[38;5;28;01melif\u001b[39;00m \u001b[38;5;28mself\u001b[39m\u001b[38;5;241m.\u001b[39m_variable_creation_fn \u001b[38;5;129;01mis\u001b[39;00m \u001b[38;5;129;01mnot\u001b[39;00m \u001b[38;5;28;01mNone\u001b[39;00m:\n\u001b[0;32m    928\u001b[0m   \u001b[38;5;66;03m# Release the lock early so that multiple threads can perform the call\u001b[39;00m\n\u001b[0;32m    929\u001b[0m   \u001b[38;5;66;03m# in parallel.\u001b[39;00m\n\u001b[0;32m    930\u001b[0m   \u001b[38;5;28mself\u001b[39m\u001b[38;5;241m.\u001b[39m_lock\u001b[38;5;241m.\u001b[39mrelease()\n",
      "File \u001b[1;32m~\\PycharmProjects\\YaMlProject\\venv\\lib\\site-packages\\tensorflow\\python\\eager\\polymorphic_function\\tracing_compiler.py:143\u001b[0m, in \u001b[0;36mTracingCompiler.__call__\u001b[1;34m(self, *args, **kwargs)\u001b[0m\n\u001b[0;32m    140\u001b[0m \u001b[38;5;28;01mwith\u001b[39;00m \u001b[38;5;28mself\u001b[39m\u001b[38;5;241m.\u001b[39m_lock:\n\u001b[0;32m    141\u001b[0m   (concrete_function,\n\u001b[0;32m    142\u001b[0m    filtered_flat_args) \u001b[38;5;241m=\u001b[39m \u001b[38;5;28mself\u001b[39m\u001b[38;5;241m.\u001b[39m_maybe_define_function(args, kwargs)\n\u001b[1;32m--> 143\u001b[0m \u001b[38;5;28;01mreturn\u001b[39;00m \u001b[43mconcrete_function\u001b[49m\u001b[38;5;241;43m.\u001b[39;49m\u001b[43m_call_flat\u001b[49m\u001b[43m(\u001b[49m\n\u001b[0;32m    144\u001b[0m \u001b[43m    \u001b[49m\u001b[43mfiltered_flat_args\u001b[49m\u001b[43m,\u001b[49m\u001b[43m \u001b[49m\u001b[43mcaptured_inputs\u001b[49m\u001b[38;5;241;43m=\u001b[39;49m\u001b[43mconcrete_function\u001b[49m\u001b[38;5;241;43m.\u001b[39;49m\u001b[43mcaptured_inputs\u001b[49m\u001b[43m)\u001b[49m\n",
      "File \u001b[1;32m~\\PycharmProjects\\YaMlProject\\venv\\lib\\site-packages\\tensorflow\\python\\eager\\polymorphic_function\\monomorphic_function.py:1757\u001b[0m, in \u001b[0;36mConcreteFunction._call_flat\u001b[1;34m(self, args, captured_inputs, cancellation_manager)\u001b[0m\n\u001b[0;32m   1753\u001b[0m possible_gradient_type \u001b[38;5;241m=\u001b[39m gradients_util\u001b[38;5;241m.\u001b[39mPossibleTapeGradientTypes(args)\n\u001b[0;32m   1754\u001b[0m \u001b[38;5;28;01mif\u001b[39;00m (possible_gradient_type \u001b[38;5;241m==\u001b[39m gradients_util\u001b[38;5;241m.\u001b[39mPOSSIBLE_GRADIENT_TYPES_NONE\n\u001b[0;32m   1755\u001b[0m     \u001b[38;5;129;01mand\u001b[39;00m executing_eagerly):\n\u001b[0;32m   1756\u001b[0m   \u001b[38;5;66;03m# No tape is watching; skip to running the function.\u001b[39;00m\n\u001b[1;32m-> 1757\u001b[0m   \u001b[38;5;28;01mreturn\u001b[39;00m \u001b[38;5;28mself\u001b[39m\u001b[38;5;241m.\u001b[39m_build_call_outputs(\u001b[38;5;28;43mself\u001b[39;49m\u001b[38;5;241;43m.\u001b[39;49m\u001b[43m_inference_function\u001b[49m\u001b[38;5;241;43m.\u001b[39;49m\u001b[43mcall\u001b[49m\u001b[43m(\u001b[49m\n\u001b[0;32m   1758\u001b[0m \u001b[43m      \u001b[49m\u001b[43mctx\u001b[49m\u001b[43m,\u001b[49m\u001b[43m \u001b[49m\u001b[43margs\u001b[49m\u001b[43m,\u001b[49m\u001b[43m \u001b[49m\u001b[43mcancellation_manager\u001b[49m\u001b[38;5;241;43m=\u001b[39;49m\u001b[43mcancellation_manager\u001b[49m\u001b[43m)\u001b[49m)\n\u001b[0;32m   1759\u001b[0m forward_backward \u001b[38;5;241m=\u001b[39m \u001b[38;5;28mself\u001b[39m\u001b[38;5;241m.\u001b[39m_select_forward_and_backward_functions(\n\u001b[0;32m   1760\u001b[0m     args,\n\u001b[0;32m   1761\u001b[0m     possible_gradient_type,\n\u001b[0;32m   1762\u001b[0m     executing_eagerly)\n\u001b[0;32m   1763\u001b[0m forward_function, args_with_tangents \u001b[38;5;241m=\u001b[39m forward_backward\u001b[38;5;241m.\u001b[39mforward()\n",
      "File \u001b[1;32m~\\PycharmProjects\\YaMlProject\\venv\\lib\\site-packages\\tensorflow\\python\\eager\\polymorphic_function\\monomorphic_function.py:381\u001b[0m, in \u001b[0;36m_EagerDefinedFunction.call\u001b[1;34m(self, ctx, args, cancellation_manager)\u001b[0m\n\u001b[0;32m    379\u001b[0m \u001b[38;5;28;01mwith\u001b[39;00m _InterpolateFunctionError(\u001b[38;5;28mself\u001b[39m):\n\u001b[0;32m    380\u001b[0m   \u001b[38;5;28;01mif\u001b[39;00m cancellation_manager \u001b[38;5;129;01mis\u001b[39;00m \u001b[38;5;28;01mNone\u001b[39;00m:\n\u001b[1;32m--> 381\u001b[0m     outputs \u001b[38;5;241m=\u001b[39m \u001b[43mexecute\u001b[49m\u001b[38;5;241;43m.\u001b[39;49m\u001b[43mexecute\u001b[49m\u001b[43m(\u001b[49m\n\u001b[0;32m    382\u001b[0m \u001b[43m        \u001b[49m\u001b[38;5;28;43mstr\u001b[39;49m\u001b[43m(\u001b[49m\u001b[38;5;28;43mself\u001b[39;49m\u001b[38;5;241;43m.\u001b[39;49m\u001b[43msignature\u001b[49m\u001b[38;5;241;43m.\u001b[39;49m\u001b[43mname\u001b[49m\u001b[43m)\u001b[49m\u001b[43m,\u001b[49m\n\u001b[0;32m    383\u001b[0m \u001b[43m        \u001b[49m\u001b[43mnum_outputs\u001b[49m\u001b[38;5;241;43m=\u001b[39;49m\u001b[38;5;28;43mself\u001b[39;49m\u001b[38;5;241;43m.\u001b[39;49m\u001b[43m_num_outputs\u001b[49m\u001b[43m,\u001b[49m\n\u001b[0;32m    384\u001b[0m \u001b[43m        \u001b[49m\u001b[43minputs\u001b[49m\u001b[38;5;241;43m=\u001b[39;49m\u001b[43margs\u001b[49m\u001b[43m,\u001b[49m\n\u001b[0;32m    385\u001b[0m \u001b[43m        \u001b[49m\u001b[43mattrs\u001b[49m\u001b[38;5;241;43m=\u001b[39;49m\u001b[43mattrs\u001b[49m\u001b[43m,\u001b[49m\n\u001b[0;32m    386\u001b[0m \u001b[43m        \u001b[49m\u001b[43mctx\u001b[49m\u001b[38;5;241;43m=\u001b[39;49m\u001b[43mctx\u001b[49m\u001b[43m)\u001b[49m\n\u001b[0;32m    387\u001b[0m   \u001b[38;5;28;01melse\u001b[39;00m:\n\u001b[0;32m    388\u001b[0m     outputs \u001b[38;5;241m=\u001b[39m execute\u001b[38;5;241m.\u001b[39mexecute_with_cancellation(\n\u001b[0;32m    389\u001b[0m         \u001b[38;5;28mstr\u001b[39m(\u001b[38;5;28mself\u001b[39m\u001b[38;5;241m.\u001b[39msignature\u001b[38;5;241m.\u001b[39mname),\n\u001b[0;32m    390\u001b[0m         num_outputs\u001b[38;5;241m=\u001b[39m\u001b[38;5;28mself\u001b[39m\u001b[38;5;241m.\u001b[39m_num_outputs,\n\u001b[1;32m   (...)\u001b[0m\n\u001b[0;32m    393\u001b[0m         ctx\u001b[38;5;241m=\u001b[39mctx,\n\u001b[0;32m    394\u001b[0m         cancellation_manager\u001b[38;5;241m=\u001b[39mcancellation_manager)\n",
      "File \u001b[1;32m~\\PycharmProjects\\YaMlProject\\venv\\lib\\site-packages\\tensorflow\\python\\eager\\execute.py:52\u001b[0m, in \u001b[0;36mquick_execute\u001b[1;34m(op_name, num_outputs, inputs, attrs, ctx, name)\u001b[0m\n\u001b[0;32m     50\u001b[0m \u001b[38;5;28;01mtry\u001b[39;00m:\n\u001b[0;32m     51\u001b[0m   ctx\u001b[38;5;241m.\u001b[39mensure_initialized()\n\u001b[1;32m---> 52\u001b[0m   tensors \u001b[38;5;241m=\u001b[39m \u001b[43mpywrap_tfe\u001b[49m\u001b[38;5;241;43m.\u001b[39;49m\u001b[43mTFE_Py_Execute\u001b[49m\u001b[43m(\u001b[49m\u001b[43mctx\u001b[49m\u001b[38;5;241;43m.\u001b[39;49m\u001b[43m_handle\u001b[49m\u001b[43m,\u001b[49m\u001b[43m \u001b[49m\u001b[43mdevice_name\u001b[49m\u001b[43m,\u001b[49m\u001b[43m \u001b[49m\u001b[43mop_name\u001b[49m\u001b[43m,\u001b[49m\n\u001b[0;32m     53\u001b[0m \u001b[43m                                      \u001b[49m\u001b[43minputs\u001b[49m\u001b[43m,\u001b[49m\u001b[43m \u001b[49m\u001b[43mattrs\u001b[49m\u001b[43m,\u001b[49m\u001b[43m \u001b[49m\u001b[43mnum_outputs\u001b[49m\u001b[43m)\u001b[49m\n\u001b[0;32m     54\u001b[0m \u001b[38;5;28;01mexcept\u001b[39;00m core\u001b[38;5;241m.\u001b[39m_NotOkStatusException \u001b[38;5;28;01mas\u001b[39;00m e:\n\u001b[0;32m     55\u001b[0m   \u001b[38;5;28;01mif\u001b[39;00m name \u001b[38;5;129;01mis\u001b[39;00m \u001b[38;5;129;01mnot\u001b[39;00m \u001b[38;5;28;01mNone\u001b[39;00m:\n",
      "\u001b[1;31mKeyboardInterrupt\u001b[0m: "
     ]
    }
   ],
   "source": [
    "model.fit(train_ds, validation_data=val_ds,\n",
    "          epochs=100, callbacks=callbacks, verbose=1)"
   ]
  },
  {
   "cell_type": "markdown",
   "metadata": {
    "id": "luv78DSO-S7_"
   },
   "source": [
    "Подгружаем все чекпоинты"
   ]
  },
  {
   "cell_type": "code",
   "execution_count": 15,
   "metadata": {
    "executionInfo": {
     "elapsed": 12305,
     "status": "ok",
     "timestamp": 1681248179608,
     "user": {
      "displayName": "Михаил Глазов",
      "userId": "14831628976106288763"
     },
     "user_tz": -180
    },
    "id": "g264umVz1hzv"
   },
   "outputs": [],
   "source": [
    "model_categorical_acc = tf.keras.models.load_model(f'../checkpoints/model{num_model}_categorical_accuracy.h5')\n",
    "model_f1_score = tf.keras.models.load_model(f'../checkpoints/model{num_model}_f1_score.h5')\n",
    "model_loss = tf.keras.models.load_model(f'../checkpoints/model{num_model}_loss.h5')\n",
    "model_avg_categorical_acc = tf.keras.models.load_model(f'../checkpoints/model{num_model}_avg_categorical_accuracy.h5')\n",
    "model_avg_f1_score = tf.keras.models.load_model(f'../checkpoints/model{num_model}_avg_f1_score.h5')\n",
    "model_avg_loss = tf.keras.models.load_model(f'../checkpoints/model{num_model}_avg_loss.h5')"
   ]
  },
  {
   "cell_type": "markdown",
   "metadata": {
    "id": "r7i-3GRn-S7_"
   },
   "source": [
    "У нас поличилось три чекпоинта (три модели). Ниже указан код для получения ответов для всех чекпоинтов по валидационному датасету."
   ]
  },
  {
   "cell_type": "code",
   "execution_count": 16,
   "metadata": {
    "executionInfo": {
     "elapsed": 6702,
     "status": "ok",
     "timestamp": 1681248209083,
     "user": {
      "displayName": "Михаил Глазов",
      "userId": "14831628976106288763"
     },
     "user_tz": -180
    },
    "id": "u-cKSLLm1hzx"
   },
   "outputs": [],
   "source": [
    "ans_val_categorical_accuracy = make_ans_file(model_categorical_acc, val_ds_x)\n",
    "ans_val_f1_score = make_ans_file(model_f1_score, val_ds_x)\n",
    "ans_val_loss = make_ans_file(model_loss, val_ds_x)\n",
    "ans_val_avg_categorical_accuracy = make_ans_file(model_avg_categorical_acc, val_ds_x)\n",
    "ans_val_avg_f1_score = make_ans_file(model_avg_f1_score, val_ds_x)\n",
    "ans_val_avg_loss = make_ans_file(model_avg_loss, val_ds_x)\n",
    "anss = [ans_val_categorical_accuracy, ans_val_f1_score, ans_val_loss, ans_val_avg_categorical_accuracy,\n",
    "        ans_val_avg_f1_score, ans_val_avg_loss]"
   ]
  },
  {
   "cell_type": "markdown",
   "metadata": {
    "id": "az3iBS0W1hzx"
   },
   "source": [
    "Формируем валидационные ответы."
   ]
  },
  {
   "cell_type": "code",
   "execution_count": 17,
   "metadata": {
    "executionInfo": {
     "elapsed": 838,
     "status": "ok",
     "timestamp": 1681248341655,
     "user": {
      "displayName": "Михаил Глазов",
      "userId": "14831628976106288763"
     },
     "user_tz": -180
    },
    "id": "OpY_REt31hzy"
   },
   "outputs": [],
   "source": [
    "val_ds_y = np.argmax(val_ds_y, axis=1)"
   ]
  },
  {
   "cell_type": "markdown",
   "metadata": {
    "id": "sqmvqg641hzy"
   },
   "source": [
    "Сравниваем валидационные предикты каждого чекпоинта"
   ]
  },
  {
   "cell_type": "code",
   "execution_count": 18,
   "metadata": {
    "colab": {
     "base_uri": "https://localhost:8080/"
    },
    "executionInfo": {
     "elapsed": 316,
     "status": "ok",
     "timestamp": 1681248344845,
     "user": {
      "displayName": "Михаил Глазов",
      "userId": "14831628976106288763"
     },
     "user_tz": -180
    },
    "id": "swFdpR3O1hzz",
    "outputId": "1f9ca82b-18ec-4792-fc88-32e9af65f50b"
   },
   "outputs": [],
   "source": [
    "for i in range(len(anss) - 1):\n",
    "    for j in range(i + 1, len(anss)):\n",
    "        if np.all(anss[i] == anss[j]):\n",
    "            print(f'чекпоинты {i + 1} и {j + 1} одинаковые')"
   ]
  },
  {
   "cell_type": "markdown",
   "metadata": {
    "id": "CzRxY2Y71hz0"
   },
   "source": [
    "`Все ответы разные, значит чекпоинты сохранили модель на разных эпохах. Если ответы будут одинковые, то вывод о чекпоинте делать не надо.`"
   ]
  },
  {
   "cell_type": "markdown",
   "metadata": {
    "id": "L9eNtr1L1hz1"
   },
   "source": [
    "- Денис пишет ансамблинг моделей. Когда он допишет, мы применим это для формирования ответа по трем получившимся моделям. То есть, если все чекпоинты разные, то мы будем делать средний ответ по трем предиктам."
   ]
  },
  {
   "cell_type": "markdown",
   "metadata": {
    "id": "XRNa8eAd1hz8"
   },
   "source": [
    "В конце смотрим на метрики и делаем выводы о том, чем хороша эта модель. Какие классы она угадывает лучше/худше всего. Дописываем какую метрику показал kaggle."
   ]
  },
  {
   "cell_type": "code",
   "execution_count": 19,
   "metadata": {
    "executionInfo": {
     "elapsed": 488,
     "status": "ok",
     "timestamp": 1681248351237,
     "user": {
      "displayName": "Михаил Глазов",
      "userId": "14831628976106288763"
     },
     "user_tz": -180
    },
    "id": "Op5vVeQp1hz9"
   },
   "outputs": [],
   "source": [
    "class MulticlassClassificationMetrics:\n",
    "    def __init__(self, y_true, y_pred):\n",
    "        self.y_true = np.array(y_true)\n",
    "        self.y_pred = np.array(y_pred)\n",
    "        self.matrix_error = self.get_matrix_error()\n",
    "\n",
    "    def get_matrix_error(self):\n",
    "        self.class_types = np.unique([self.y_true, self.y_pred])\n",
    "        TP, FN, FP, TN = [], [], [], []\n",
    "        for class_type in self.class_types:\n",
    "            TP.append(np.sum(np.logical_and(self.y_true == self.y_pred, self.y_true == class_type)))\n",
    "            FN.append(np.sum(np.logical_and(self.y_true == class_type, self.y_pred != class_type)))\n",
    "            FP.append(np.sum(np.logical_and(self.y_pred == class_type, self.y_true != class_type)))\n",
    "            TN.append(np.sum(np.logical_and(self.y_pred != class_type, self.y_true != class_type)))\n",
    "        return pd.DataFrame({\n",
    "            'class_type': self.class_types,\n",
    "            'TP': TP, 'TN': TN, 'FP': FP, 'FN': FN,\n",
    "        }).set_index('class_type')\n",
    "\n",
    "    def accuracy(self):\n",
    "        return np.sum(self.y_true == self.y_pred) / self.y_true.shape[0]\n",
    "\n",
    "    def precision(self, averaging='macro'):\n",
    "        if averaging == 'macro':\n",
    "            precisions = self.matrix_error['TP'] / (self.matrix_error['TP'] + self.matrix_error['FP'])\n",
    "            return np.mean(precisions.replace(np.nan, 0))\n",
    "        elif averaging == 'micro':\n",
    "            mean_val = self.matrix_error.mean()\n",
    "            return mean_val['TP'] / (mean_val['TP'] + mean_val['FP'])\n",
    "\n",
    "    def recall(self, averaging='macro'):\n",
    "        if averaging == 'macro':\n",
    "            recalls = self.matrix_error['TP'] / (self.matrix_error['TP'] + self.matrix_error['FN'])\n",
    "            return np.mean(recalls.replace(np.nan, 0))\n",
    "        elif averaging == 'micro':\n",
    "            mean_val = self.matrix_error.mean()\n",
    "            return mean_val['TP'] / (mean_val['TP'] + mean_val['FN'])\n",
    "\n",
    "    def f1_score(self, averaging='macro'):\n",
    "        if averaging == 'macro':\n",
    "            reverse_r = (self.matrix_error['TP'] + self.matrix_error['FN']) / self.matrix_error['TP']\n",
    "            reverse_p = (self.matrix_error['TP'] + self.matrix_error['FP']) / self.matrix_error['TP']\n",
    "            f1_scores = 2 / (reverse_r + reverse_p)\n",
    "            return np.mean(f1_scores.replace(np.nan, 0))\n",
    "        elif averaging == 'micro':\n",
    "            p = self.precision(averaging)\n",
    "            r = self.recall(averaging)\n",
    "            return 2 * p * r / (p + r)\n",
    "\n",
    "    def metrics(self, averaging='macro'):\n",
    "        return {\n",
    "            'accuracy': self.accuracy(),\n",
    "            'precision': self.precision(averaging),\n",
    "            'recall': self.recall(averaging),\n",
    "            'f1_score': self.f1_score(averaging),\n",
    "        }\n",
    "\n",
    "    def __str__(self):\n",
    "        headers = {\n",
    "            'selector': '*',\n",
    "            'props': 'background-color: darkgreen; color: white; font-size: 12pt;',\n",
    "        }\n",
    "        che_super_mega_puper_visualization_of_cell = {\n",
    "            'selector': 'td:hover',\n",
    "            'props': 'background-color: green; color: white;',\n",
    "        }\n",
    "        display(\n",
    "            self.matrix_error\n",
    "            .style\n",
    "            .set_table_styles([\n",
    "                headers,\n",
    "                che_super_mega_puper_visualization_of_cell,\n",
    "            ])\n",
    "            .set_properties(**{'background-color': 'lightgreen',\n",
    "                               'color': 'black', 'font-size': '12pt'})\n",
    "        )\n",
    "        return ''\n",
    "\n",
    "    def __repr__(self):\n",
    "        return (\n",
    "            f'MulticlassClassificationMetrics(class_types={self.class_types})'\n",
    "            .replace(\"'\", '').replace(',', ';'))"
   ]
  },
  {
   "cell_type": "code",
   "execution_count": 20,
   "metadata": {
    "colab": {
     "base_uri": "https://localhost:8080/",
     "height": 783
    },
    "executionInfo": {
     "elapsed": 440,
     "status": "error",
     "timestamp": 1681248356051,
     "user": {
      "displayName": "Михаил Глазов",
      "userId": "14831628976106288763"
     },
     "user_tz": -180
    },
    "id": "mQbTtJFKdECv",
    "outputId": "ae0c2dcb-1bde-4703-93ea-c43a1da288cb"
   },
   "outputs": [
    {
     "name": "stderr",
     "output_type": "stream",
     "text": [
      "/usr/local/lib/python3.9/dist-packages/matplotlib/cbook/__init__.py:1399: VisibleDeprecationWarning: Creating an ndarray from ragged nested sequences (which is a list-or-tuple of lists-or-tuples-or ndarrays with different lengths or shapes) is deprecated. If you meant to do this, you must specify 'dtype=object' when creating the ndarray.\n",
      "  xi = np.asanyarray(xi)\n"
     ]
    },
    {
     "ename": "ValueError",
     "evalue": "ignored",
     "output_type": "error",
     "traceback": [
      "\u001b[0;31m---------------------------------------------------------------------------\u001b[0m",
      "\u001b[0;31mValueError\u001b[0m                                Traceback (most recent call last)",
      "\u001b[0;32m<ipython-input-20-971d25ffe7cf>\u001b[0m in \u001b[0;36m<cell line: 1>\u001b[0;34m()\u001b[0m\n\u001b[0;32m----> 1\u001b[0;31m \u001b[0mplt\u001b[0m\u001b[0;34m.\u001b[0m\u001b[0mhist\u001b[0m\u001b[0;34m(\u001b[0m\u001b[0mval_ds\u001b[0m\u001b[0;34m)\u001b[0m\u001b[0;34m\u001b[0m\u001b[0;34m\u001b[0m\u001b[0m\n\u001b[0m",
      "\u001b[0;32m/usr/local/lib/python3.9/dist-packages/matplotlib/pyplot.py\u001b[0m in \u001b[0;36mhist\u001b[0;34m(x, bins, range, density, weights, cumulative, bottom, histtype, align, orientation, rwidth, log, color, label, stacked, data, **kwargs)\u001b[0m\n\u001b[1;32m   2643\u001b[0m         \u001b[0morientation\u001b[0m\u001b[0;34m=\u001b[0m\u001b[0;34m'vertical'\u001b[0m\u001b[0;34m,\u001b[0m \u001b[0mrwidth\u001b[0m\u001b[0;34m=\u001b[0m\u001b[0;32mNone\u001b[0m\u001b[0;34m,\u001b[0m \u001b[0mlog\u001b[0m\u001b[0;34m=\u001b[0m\u001b[0;32mFalse\u001b[0m\u001b[0;34m,\u001b[0m \u001b[0mcolor\u001b[0m\u001b[0;34m=\u001b[0m\u001b[0;32mNone\u001b[0m\u001b[0;34m,\u001b[0m\u001b[0;34m\u001b[0m\u001b[0;34m\u001b[0m\u001b[0m\n\u001b[1;32m   2644\u001b[0m         label=None, stacked=False, *, data=None, **kwargs):\n\u001b[0;32m-> 2645\u001b[0;31m     return gca().hist(\n\u001b[0m\u001b[1;32m   2646\u001b[0m         \u001b[0mx\u001b[0m\u001b[0;34m,\u001b[0m \u001b[0mbins\u001b[0m\u001b[0;34m=\u001b[0m\u001b[0mbins\u001b[0m\u001b[0;34m,\u001b[0m \u001b[0mrange\u001b[0m\u001b[0;34m=\u001b[0m\u001b[0mrange\u001b[0m\u001b[0;34m,\u001b[0m \u001b[0mdensity\u001b[0m\u001b[0;34m=\u001b[0m\u001b[0mdensity\u001b[0m\u001b[0;34m,\u001b[0m \u001b[0mweights\u001b[0m\u001b[0;34m=\u001b[0m\u001b[0mweights\u001b[0m\u001b[0;34m,\u001b[0m\u001b[0;34m\u001b[0m\u001b[0;34m\u001b[0m\u001b[0m\n\u001b[1;32m   2647\u001b[0m         \u001b[0mcumulative\u001b[0m\u001b[0;34m=\u001b[0m\u001b[0mcumulative\u001b[0m\u001b[0;34m,\u001b[0m \u001b[0mbottom\u001b[0m\u001b[0;34m=\u001b[0m\u001b[0mbottom\u001b[0m\u001b[0;34m,\u001b[0m \u001b[0mhisttype\u001b[0m\u001b[0;34m=\u001b[0m\u001b[0mhisttype\u001b[0m\u001b[0;34m,\u001b[0m\u001b[0;34m\u001b[0m\u001b[0;34m\u001b[0m\u001b[0m\n",
      "\u001b[0;32m/usr/local/lib/python3.9/dist-packages/matplotlib/__init__.py\u001b[0m in \u001b[0;36minner\u001b[0;34m(ax, data, *args, **kwargs)\u001b[0m\n\u001b[1;32m   1440\u001b[0m     \u001b[0;32mdef\u001b[0m \u001b[0minner\u001b[0m\u001b[0;34m(\u001b[0m\u001b[0max\u001b[0m\u001b[0;34m,\u001b[0m \u001b[0;34m*\u001b[0m\u001b[0margs\u001b[0m\u001b[0;34m,\u001b[0m \u001b[0mdata\u001b[0m\u001b[0;34m=\u001b[0m\u001b[0;32mNone\u001b[0m\u001b[0;34m,\u001b[0m \u001b[0;34m**\u001b[0m\u001b[0mkwargs\u001b[0m\u001b[0;34m)\u001b[0m\u001b[0;34m:\u001b[0m\u001b[0;34m\u001b[0m\u001b[0;34m\u001b[0m\u001b[0m\n\u001b[1;32m   1441\u001b[0m         \u001b[0;32mif\u001b[0m \u001b[0mdata\u001b[0m \u001b[0;32mis\u001b[0m \u001b[0;32mNone\u001b[0m\u001b[0;34m:\u001b[0m\u001b[0;34m\u001b[0m\u001b[0;34m\u001b[0m\u001b[0m\n\u001b[0;32m-> 1442\u001b[0;31m             \u001b[0;32mreturn\u001b[0m \u001b[0mfunc\u001b[0m\u001b[0;34m(\u001b[0m\u001b[0max\u001b[0m\u001b[0;34m,\u001b[0m \u001b[0;34m*\u001b[0m\u001b[0mmap\u001b[0m\u001b[0;34m(\u001b[0m\u001b[0msanitize_sequence\u001b[0m\u001b[0;34m,\u001b[0m \u001b[0margs\u001b[0m\u001b[0;34m)\u001b[0m\u001b[0;34m,\u001b[0m \u001b[0;34m**\u001b[0m\u001b[0mkwargs\u001b[0m\u001b[0;34m)\u001b[0m\u001b[0;34m\u001b[0m\u001b[0;34m\u001b[0m\u001b[0m\n\u001b[0m\u001b[1;32m   1443\u001b[0m \u001b[0;34m\u001b[0m\u001b[0m\n\u001b[1;32m   1444\u001b[0m         \u001b[0mbound\u001b[0m \u001b[0;34m=\u001b[0m \u001b[0mnew_sig\u001b[0m\u001b[0;34m.\u001b[0m\u001b[0mbind\u001b[0m\u001b[0;34m(\u001b[0m\u001b[0max\u001b[0m\u001b[0;34m,\u001b[0m \u001b[0;34m*\u001b[0m\u001b[0margs\u001b[0m\u001b[0;34m,\u001b[0m \u001b[0;34m**\u001b[0m\u001b[0mkwargs\u001b[0m\u001b[0;34m)\u001b[0m\u001b[0;34m\u001b[0m\u001b[0;34m\u001b[0m\u001b[0m\n",
      "\u001b[0;32m/usr/local/lib/python3.9/dist-packages/matplotlib/axes/_axes.py\u001b[0m in \u001b[0;36mhist\u001b[0;34m(self, x, bins, range, density, weights, cumulative, bottom, histtype, align, orientation, rwidth, log, color, label, stacked, **kwargs)\u001b[0m\n\u001b[1;32m   6701\u001b[0m \u001b[0;34m\u001b[0m\u001b[0m\n\u001b[1;32m   6702\u001b[0m         \u001b[0;31m# Massage 'x' for processing.\u001b[0m\u001b[0;34m\u001b[0m\u001b[0;34m\u001b[0m\u001b[0m\n\u001b[0;32m-> 6703\u001b[0;31m         \u001b[0mx\u001b[0m \u001b[0;34m=\u001b[0m \u001b[0mcbook\u001b[0m\u001b[0;34m.\u001b[0m\u001b[0m_reshape_2D\u001b[0m\u001b[0;34m(\u001b[0m\u001b[0mx\u001b[0m\u001b[0;34m,\u001b[0m \u001b[0;34m'x'\u001b[0m\u001b[0;34m)\u001b[0m\u001b[0;34m\u001b[0m\u001b[0;34m\u001b[0m\u001b[0m\n\u001b[0m\u001b[1;32m   6704\u001b[0m         \u001b[0mnx\u001b[0m \u001b[0;34m=\u001b[0m \u001b[0mlen\u001b[0m\u001b[0;34m(\u001b[0m\u001b[0mx\u001b[0m\u001b[0;34m)\u001b[0m  \u001b[0;31m# number of datasets\u001b[0m\u001b[0;34m\u001b[0m\u001b[0;34m\u001b[0m\u001b[0m\n\u001b[1;32m   6705\u001b[0m \u001b[0;34m\u001b[0m\u001b[0m\n",
      "\u001b[0;32m/usr/local/lib/python3.9/dist-packages/matplotlib/cbook/__init__.py\u001b[0m in \u001b[0;36m_reshape_2D\u001b[0;34m(X, name)\u001b[0m\n\u001b[1;32m   1397\u001b[0m             \u001b[0;32melse\u001b[0m\u001b[0;34m:\u001b[0m\u001b[0;34m\u001b[0m\u001b[0;34m\u001b[0m\u001b[0m\n\u001b[1;32m   1398\u001b[0m                 \u001b[0mis_1d\u001b[0m \u001b[0;34m=\u001b[0m \u001b[0;32mFalse\u001b[0m\u001b[0;34m\u001b[0m\u001b[0;34m\u001b[0m\u001b[0m\n\u001b[0;32m-> 1399\u001b[0;31m         \u001b[0mxi\u001b[0m \u001b[0;34m=\u001b[0m \u001b[0mnp\u001b[0m\u001b[0;34m.\u001b[0m\u001b[0masanyarray\u001b[0m\u001b[0;34m(\u001b[0m\u001b[0mxi\u001b[0m\u001b[0;34m)\u001b[0m\u001b[0;34m\u001b[0m\u001b[0;34m\u001b[0m\u001b[0m\n\u001b[0m\u001b[1;32m   1400\u001b[0m         \u001b[0mnd\u001b[0m \u001b[0;34m=\u001b[0m \u001b[0mnp\u001b[0m\u001b[0;34m.\u001b[0m\u001b[0mndim\u001b[0m\u001b[0;34m(\u001b[0m\u001b[0mxi\u001b[0m\u001b[0;34m)\u001b[0m\u001b[0;34m\u001b[0m\u001b[0;34m\u001b[0m\u001b[0m\n\u001b[1;32m   1401\u001b[0m         \u001b[0;32mif\u001b[0m \u001b[0mnd\u001b[0m \u001b[0;34m>\u001b[0m \u001b[0;36m1\u001b[0m\u001b[0;34m:\u001b[0m\u001b[0;34m\u001b[0m\u001b[0;34m\u001b[0m\u001b[0m\n",
      "\u001b[0;31mValueError\u001b[0m: could not broadcast input array from shape (512,32,32,3) into shape (512,)"
     ]
    },
    {
     "data": {
      "image/png": "[encoded data removed]",
      "text/plain": [
       "<Figure size 640x480 with 1 Axes>"
      ]
     },
     "metadata": {},
     "output_type": "display_data"
    }
   ],
   "source": [
    "plt.hist(val_ds)"
   ]
  },
  {
   "cell_type": "markdown",
   "metadata": {
    "id": "uhWptjbN1hz_"
   },
   "source": [
    "### Accuracy чекпоинт"
   ]
  },
  {
   "cell_type": "code",
   "execution_count": 20,
   "metadata": {
    "colab": {
     "base_uri": "https://localhost:8080/",
     "height": 535
    },
    "executionInfo": {
     "elapsed": 11,
     "status": "ok",
     "timestamp": 1681248359716,
     "user": {
      "displayName": "Михаил Глазов",
      "userId": "14831628976106288763"
     },
     "user_tz": -180
    },
    "id": "h_X5LFRj1h0A",
    "outputId": "81f524f7-ccb2-4b09-e7b7-25a8b3399c74"
   },
   "outputs": [
    {
     "data": {
      "text/html": [
       "<style type=\"text/css\">\n",
       "#T_92efc * {\n",
       "  background-color: darkgreen;\n",
       "  color: white;\n",
       "  font-size: 12pt;\n",
       "}\n",
       "#T_92efc td:hover {\n",
       "  background-color: green;\n",
       "  color: white;\n",
       "}\n",
       "#T_92efc_row0_col0, #T_92efc_row0_col1, #T_92efc_row0_col2, #T_92efc_row0_col3, #T_92efc_row1_col0, #T_92efc_row1_col1, #T_92efc_row1_col2, #T_92efc_row1_col3, #T_92efc_row2_col0, #T_92efc_row2_col1, #T_92efc_row2_col2, #T_92efc_row2_col3, #T_92efc_row3_col0, #T_92efc_row3_col1, #T_92efc_row3_col2, #T_92efc_row3_col3, #T_92efc_row4_col0, #T_92efc_row4_col1, #T_92efc_row4_col2, #T_92efc_row4_col3, #T_92efc_row5_col0, #T_92efc_row5_col1, #T_92efc_row5_col2, #T_92efc_row5_col3, #T_92efc_row6_col0, #T_92efc_row6_col1, #T_92efc_row6_col2, #T_92efc_row6_col3, #T_92efc_row7_col0, #T_92efc_row7_col1, #T_92efc_row7_col2, #T_92efc_row7_col3, #T_92efc_row8_col0, #T_92efc_row8_col1, #T_92efc_row8_col2, #T_92efc_row8_col3, #T_92efc_row9_col0, #T_92efc_row9_col1, #T_92efc_row9_col2, #T_92efc_row9_col3 {\n",
       "  background-color: lightgreen;\n",
       "  color: black;\n",
       "  font-size: 12pt;\n",
       "}\n",
       "</style>\n",
       "<table id=\"T_92efc\">\n",
       "  <thead>\n",
       "    <tr>\n",
       "      <th class=\"blank level0\" >&nbsp;</th>\n",
       "      <th id=\"T_92efc_level0_col0\" class=\"col_heading level0 col0\" >TP</th>\n",
       "      <th id=\"T_92efc_level0_col1\" class=\"col_heading level0 col1\" >TN</th>\n",
       "      <th id=\"T_92efc_level0_col2\" class=\"col_heading level0 col2\" >FP</th>\n",
       "      <th id=\"T_92efc_level0_col3\" class=\"col_heading level0 col3\" >FN</th>\n",
       "    </tr>\n",
       "    <tr>\n",
       "      <th class=\"index_name level0\" >class_type</th>\n",
       "      <th class=\"blank col0\" >&nbsp;</th>\n",
       "      <th class=\"blank col1\" >&nbsp;</th>\n",
       "      <th class=\"blank col2\" >&nbsp;</th>\n",
       "      <th class=\"blank col3\" >&nbsp;</th>\n",
       "    </tr>\n",
       "  </thead>\n",
       "  <tbody>\n",
       "    <tr>\n",
       "      <th id=\"T_92efc_level0_row0\" class=\"row_heading level0 row0\" >0</th>\n",
       "      <td id=\"T_92efc_row0_col0\" class=\"data row0 col0\" >637</td>\n",
       "      <td id=\"T_92efc_row0_col1\" class=\"data row0 col1\" >6091</td>\n",
       "      <td id=\"T_92efc_row0_col2\" class=\"data row0 col2\" >23</td>\n",
       "      <td id=\"T_92efc_row0_col3\" class=\"data row0 col3\" >5</td>\n",
       "    </tr>\n",
       "    <tr>\n",
       "      <th id=\"T_92efc_level0_row1\" class=\"row_heading level0 row1\" >1</th>\n",
       "      <td id=\"T_92efc_row1_col0\" class=\"data row1 col0\" >622</td>\n",
       "      <td id=\"T_92efc_row1_col1\" class=\"data row1 col1\" >6068</td>\n",
       "      <td id=\"T_92efc_row1_col2\" class=\"data row1 col2\" >19</td>\n",
       "      <td id=\"T_92efc_row1_col3\" class=\"data row1 col3\" >47</td>\n",
       "    </tr>\n",
       "    <tr>\n",
       "      <th id=\"T_92efc_level0_row2\" class=\"row_heading level0 row2\" >2</th>\n",
       "      <td id=\"T_92efc_row2_col0\" class=\"data row2 col0\" >679</td>\n",
       "      <td id=\"T_92efc_row2_col1\" class=\"data row2 col1\" >6046</td>\n",
       "      <td id=\"T_92efc_row2_col2\" class=\"data row2 col2\" >13</td>\n",
       "      <td id=\"T_92efc_row2_col3\" class=\"data row2 col3\" >18</td>\n",
       "    </tr>\n",
       "    <tr>\n",
       "      <th id=\"T_92efc_level0_row3\" class=\"row_heading level0 row3\" >3</th>\n",
       "      <td id=\"T_92efc_row3_col0\" class=\"data row3 col0\" >619</td>\n",
       "      <td id=\"T_92efc_row3_col1\" class=\"data row3 col1\" >6098</td>\n",
       "      <td id=\"T_92efc_row3_col2\" class=\"data row3 col2\" >21</td>\n",
       "      <td id=\"T_92efc_row3_col3\" class=\"data row3 col3\" >18</td>\n",
       "    </tr>\n",
       "    <tr>\n",
       "      <th id=\"T_92efc_level0_row4\" class=\"row_heading level0 row4\" >4</th>\n",
       "      <td id=\"T_92efc_row4_col0\" class=\"data row4 col0\" >679</td>\n",
       "      <td id=\"T_92efc_row4_col1\" class=\"data row4 col1\" >6044</td>\n",
       "      <td id=\"T_92efc_row4_col2\" class=\"data row4 col2\" >21</td>\n",
       "      <td id=\"T_92efc_row4_col3\" class=\"data row4 col3\" >12</td>\n",
       "    </tr>\n",
       "    <tr>\n",
       "      <th id=\"T_92efc_level0_row5\" class=\"row_heading level0 row5\" >5</th>\n",
       "      <td id=\"T_92efc_row5_col0\" class=\"data row5 col0\" >665</td>\n",
       "      <td id=\"T_92efc_row5_col1\" class=\"data row5 col1\" >6053</td>\n",
       "      <td id=\"T_92efc_row5_col2\" class=\"data row5 col2\" >24</td>\n",
       "      <td id=\"T_92efc_row5_col3\" class=\"data row5 col3\" >14</td>\n",
       "    </tr>\n",
       "    <tr>\n",
       "      <th id=\"T_92efc_level0_row6\" class=\"row_heading level0 row6\" >6</th>\n",
       "      <td id=\"T_92efc_row6_col0\" class=\"data row6 col0\" >662</td>\n",
       "      <td id=\"T_92efc_row6_col1\" class=\"data row6 col1\" >6061</td>\n",
       "      <td id=\"T_92efc_row6_col2\" class=\"data row6 col2\" >21</td>\n",
       "      <td id=\"T_92efc_row6_col3\" class=\"data row6 col3\" >12</td>\n",
       "    </tr>\n",
       "    <tr>\n",
       "      <th id=\"T_92efc_level0_row7\" class=\"row_heading level0 row7\" >7</th>\n",
       "      <td id=\"T_92efc_row7_col0\" class=\"data row7 col0\" >683</td>\n",
       "      <td id=\"T_92efc_row7_col1\" class=\"data row7 col1\" >6053</td>\n",
       "      <td id=\"T_92efc_row7_col2\" class=\"data row7 col2\" >5</td>\n",
       "      <td id=\"T_92efc_row7_col3\" class=\"data row7 col3\" >15</td>\n",
       "    </tr>\n",
       "    <tr>\n",
       "      <th id=\"T_92efc_level0_row8\" class=\"row_heading level0 row8\" >8</th>\n",
       "      <td id=\"T_92efc_row8_col0\" class=\"data row8 col0\" >690</td>\n",
       "      <td id=\"T_92efc_row8_col1\" class=\"data row8 col1\" >6035</td>\n",
       "      <td id=\"T_92efc_row8_col2\" class=\"data row8 col2\" >15</td>\n",
       "      <td id=\"T_92efc_row8_col3\" class=\"data row8 col3\" >16</td>\n",
       "    </tr>\n",
       "    <tr>\n",
       "      <th id=\"T_92efc_level0_row9\" class=\"row_heading level0 row9\" >9</th>\n",
       "      <td id=\"T_92efc_row9_col0\" class=\"data row9 col0\" >648</td>\n",
       "      <td id=\"T_92efc_row9_col1\" class=\"data row9 col1\" >6083</td>\n",
       "      <td id=\"T_92efc_row9_col2\" class=\"data row9 col2\" >10</td>\n",
       "      <td id=\"T_92efc_row9_col3\" class=\"data row9 col3\" >15</td>\n",
       "    </tr>\n",
       "  </tbody>\n",
       "</table>\n"
      ],
      "text/plain": [
       "<pandas.io.formats.style.Styler at 0x1a785ca4070>"
      ]
     },
     "metadata": {},
     "output_type": "display_data"
    },
    {
     "name": "stdout",
     "output_type": "stream",
     "text": [
      "\n"
     ]
    },
    {
     "data": {
      "text/plain": [
       "{'accuracy': 0.9745411486086442,\n",
       " 'precision': 0.9744590299195288,\n",
       " 'recall': 0.9745309164139805,\n",
       " 'f1_score': 0.9744109029056552}"
      ]
     },
     "execution_count": 20,
     "metadata": {},
     "output_type": "execute_result"
    }
   ],
   "source": [
    "metrics = MulticlassClassificationMetrics(val_ds_y, ans_val_categorical_accuracy)\n",
    "print(metrics)\n",
    "metrics.metrics()"
   ]
  },
  {
   "cell_type": "markdown",
   "metadata": {
    "id": "HDRKSDRq1h0B"
   },
   "source": [
    "- $FP_1=15$. То есть, модель предсказала 15 раз 1, когда на самом деле там была не 1. Наверное модель плохо различает 1 и 7.\n",
    "- $FN_1=15$. То есть, модель 15 раз ошиблась, когда угадывала 1.\n",
    "\n",
    "Метрики более менее хоршие. Переобучения нет. Ставить модель на больше эпох нет смысла, потому что последние 50 эпох модель практически не меняла веса.\n",
    "\n",
    "`Это не шаблон!!! Писать надо как сами посчитаете`"
   ]
  },
  {
   "cell_type": "markdown",
   "metadata": {
    "id": "7VAzf7n0dECw"
   },
   "source": [
    "### Loss чекпоинт"
   ]
  },
  {
   "cell_type": "code",
   "execution_count": 21,
   "metadata": {
    "colab": {
     "base_uri": "https://localhost:8080/",
     "height": 535
    },
    "executionInfo": {
     "elapsed": 5,
     "status": "ok",
     "timestamp": 1681248365639,
     "user": {
      "displayName": "Михаил Глазов",
      "userId": "14831628976106288763"
     },
     "user_tz": -180
    },
    "id": "uzHyXblNdECw",
    "outputId": "8a6d3df1-b81c-462a-b32b-b929d2fa1e6a"
   },
   "outputs": [
    {
     "data": {
      "text/html": [
       "<style type=\"text/css\">\n",
       "#T_06add * {\n",
       "  background-color: darkgreen;\n",
       "  color: white;\n",
       "  font-size: 12pt;\n",
       "}\n",
       "#T_06add td:hover {\n",
       "  background-color: green;\n",
       "  color: white;\n",
       "}\n",
       "#T_06add_row0_col0, #T_06add_row0_col1, #T_06add_row0_col2, #T_06add_row0_col3, #T_06add_row1_col0, #T_06add_row1_col1, #T_06add_row1_col2, #T_06add_row1_col3, #T_06add_row2_col0, #T_06add_row2_col1, #T_06add_row2_col2, #T_06add_row2_col3, #T_06add_row3_col0, #T_06add_row3_col1, #T_06add_row3_col2, #T_06add_row3_col3, #T_06add_row4_col0, #T_06add_row4_col1, #T_06add_row4_col2, #T_06add_row4_col3, #T_06add_row5_col0, #T_06add_row5_col1, #T_06add_row5_col2, #T_06add_row5_col3, #T_06add_row6_col0, #T_06add_row6_col1, #T_06add_row6_col2, #T_06add_row6_col3, #T_06add_row7_col0, #T_06add_row7_col1, #T_06add_row7_col2, #T_06add_row7_col3, #T_06add_row8_col0, #T_06add_row8_col1, #T_06add_row8_col2, #T_06add_row8_col3, #T_06add_row9_col0, #T_06add_row9_col1, #T_06add_row9_col2, #T_06add_row9_col3 {\n",
       "  background-color: lightgreen;\n",
       "  color: black;\n",
       "  font-size: 12pt;\n",
       "}\n",
       "</style>\n",
       "<table id=\"T_06add\">\n",
       "  <thead>\n",
       "    <tr>\n",
       "      <th class=\"blank level0\" >&nbsp;</th>\n",
       "      <th id=\"T_06add_level0_col0\" class=\"col_heading level0 col0\" >TP</th>\n",
       "      <th id=\"T_06add_level0_col1\" class=\"col_heading level0 col1\" >TN</th>\n",
       "      <th id=\"T_06add_level0_col2\" class=\"col_heading level0 col2\" >FP</th>\n",
       "      <th id=\"T_06add_level0_col3\" class=\"col_heading level0 col3\" >FN</th>\n",
       "    </tr>\n",
       "    <tr>\n",
       "      <th class=\"index_name level0\" >class_type</th>\n",
       "      <th class=\"blank col0\" >&nbsp;</th>\n",
       "      <th class=\"blank col1\" >&nbsp;</th>\n",
       "      <th class=\"blank col2\" >&nbsp;</th>\n",
       "      <th class=\"blank col3\" >&nbsp;</th>\n",
       "    </tr>\n",
       "  </thead>\n",
       "  <tbody>\n",
       "    <tr>\n",
       "      <th id=\"T_06add_level0_row0\" class=\"row_heading level0 row0\" >0</th>\n",
       "      <td id=\"T_06add_row0_col0\" class=\"data row0 col0\" >634</td>\n",
       "      <td id=\"T_06add_row0_col1\" class=\"data row0 col1\" >6096</td>\n",
       "      <td id=\"T_06add_row0_col2\" class=\"data row0 col2\" >18</td>\n",
       "      <td id=\"T_06add_row0_col3\" class=\"data row0 col3\" >8</td>\n",
       "    </tr>\n",
       "    <tr>\n",
       "      <th id=\"T_06add_level0_row1\" class=\"row_heading level0 row1\" >1</th>\n",
       "      <td id=\"T_06add_row1_col0\" class=\"data row1 col0\" >637</td>\n",
       "      <td id=\"T_06add_row1_col1\" class=\"data row1 col1\" >6046</td>\n",
       "      <td id=\"T_06add_row1_col2\" class=\"data row1 col2\" >41</td>\n",
       "      <td id=\"T_06add_row1_col3\" class=\"data row1 col3\" >32</td>\n",
       "    </tr>\n",
       "    <tr>\n",
       "      <th id=\"T_06add_level0_row2\" class=\"row_heading level0 row2\" >2</th>\n",
       "      <td id=\"T_06add_row2_col0\" class=\"data row2 col0\" >675</td>\n",
       "      <td id=\"T_06add_row2_col1\" class=\"data row2 col1\" >6049</td>\n",
       "      <td id=\"T_06add_row2_col2\" class=\"data row2 col2\" >10</td>\n",
       "      <td id=\"T_06add_row2_col3\" class=\"data row2 col3\" >22</td>\n",
       "    </tr>\n",
       "    <tr>\n",
       "      <th id=\"T_06add_level0_row3\" class=\"row_heading level0 row3\" >3</th>\n",
       "      <td id=\"T_06add_row3_col0\" class=\"data row3 col0\" >615</td>\n",
       "      <td id=\"T_06add_row3_col1\" class=\"data row3 col1\" >6099</td>\n",
       "      <td id=\"T_06add_row3_col2\" class=\"data row3 col2\" >20</td>\n",
       "      <td id=\"T_06add_row3_col3\" class=\"data row3 col3\" >22</td>\n",
       "    </tr>\n",
       "    <tr>\n",
       "      <th id=\"T_06add_level0_row4\" class=\"row_heading level0 row4\" >4</th>\n",
       "      <td id=\"T_06add_row4_col0\" class=\"data row4 col0\" >670</td>\n",
       "      <td id=\"T_06add_row4_col1\" class=\"data row4 col1\" >6052</td>\n",
       "      <td id=\"T_06add_row4_col2\" class=\"data row4 col2\" >13</td>\n",
       "      <td id=\"T_06add_row4_col3\" class=\"data row4 col3\" >21</td>\n",
       "    </tr>\n",
       "    <tr>\n",
       "      <th id=\"T_06add_level0_row5\" class=\"row_heading level0 row5\" >5</th>\n",
       "      <td id=\"T_06add_row5_col0\" class=\"data row5 col0\" >663</td>\n",
       "      <td id=\"T_06add_row5_col1\" class=\"data row5 col1\" >6048</td>\n",
       "      <td id=\"T_06add_row5_col2\" class=\"data row5 col2\" >29</td>\n",
       "      <td id=\"T_06add_row5_col3\" class=\"data row5 col3\" >16</td>\n",
       "    </tr>\n",
       "    <tr>\n",
       "      <th id=\"T_06add_level0_row6\" class=\"row_heading level0 row6\" >6</th>\n",
       "      <td id=\"T_06add_row6_col0\" class=\"data row6 col0\" >653</td>\n",
       "      <td id=\"T_06add_row6_col1\" class=\"data row6 col1\" >6073</td>\n",
       "      <td id=\"T_06add_row6_col2\" class=\"data row6 col2\" >9</td>\n",
       "      <td id=\"T_06add_row6_col3\" class=\"data row6 col3\" >21</td>\n",
       "    </tr>\n",
       "    <tr>\n",
       "      <th id=\"T_06add_level0_row7\" class=\"row_heading level0 row7\" >7</th>\n",
       "      <td id=\"T_06add_row7_col0\" class=\"data row7 col0\" >687</td>\n",
       "      <td id=\"T_06add_row7_col1\" class=\"data row7 col1\" >6048</td>\n",
       "      <td id=\"T_06add_row7_col2\" class=\"data row7 col2\" >10</td>\n",
       "      <td id=\"T_06add_row7_col3\" class=\"data row7 col3\" >11</td>\n",
       "    </tr>\n",
       "    <tr>\n",
       "      <th id=\"T_06add_level0_row8\" class=\"row_heading level0 row8\" >8</th>\n",
       "      <td id=\"T_06add_row8_col0\" class=\"data row8 col0\" >694</td>\n",
       "      <td id=\"T_06add_row8_col1\" class=\"data row8 col1\" >6030</td>\n",
       "      <td id=\"T_06add_row8_col2\" class=\"data row8 col2\" >20</td>\n",
       "      <td id=\"T_06add_row8_col3\" class=\"data row8 col3\" >12</td>\n",
       "    </tr>\n",
       "    <tr>\n",
       "      <th id=\"T_06add_level0_row9\" class=\"row_heading level0 row9\" >9</th>\n",
       "      <td id=\"T_06add_row9_col0\" class=\"data row9 col0\" >650</td>\n",
       "      <td id=\"T_06add_row9_col1\" class=\"data row9 col1\" >6085</td>\n",
       "      <td id=\"T_06add_row9_col2\" class=\"data row9 col2\" >8</td>\n",
       "      <td id=\"T_06add_row9_col3\" class=\"data row9 col3\" >13</td>\n",
       "    </tr>\n",
       "  </tbody>\n",
       "</table>\n"
      ],
      "text/plain": [
       "<pandas.io.formats.style.Styler at 0x1a786144b50>"
      ]
     },
     "metadata": {},
     "output_type": "display_data"
    },
    {
     "name": "stdout",
     "output_type": "stream",
     "text": [
      "\n"
     ]
    },
    {
     "data": {
      "text/plain": [
       "{'accuracy': 0.9736530491415039,\n",
       " 'precision': 0.973677324143152,\n",
       " 'recall': 0.9736129222642212,\n",
       " 'f1_score': 0.9736029903397279}"
      ]
     },
     "execution_count": 21,
     "metadata": {},
     "output_type": "execute_result"
    }
   ],
   "source": [
    "metrics = MulticlassClassificationMetrics(val_ds_y, ans_val_loss)\n",
    "print(metrics)\n",
    "metrics.metrics()"
   ]
  },
  {
   "cell_type": "markdown",
   "metadata": {
    "id": "nJA6OLqRdECx"
   },
   "source": [
    "- $FN_1=28$.\n",
    "- $FP_1=19$.\n",
    "- $FP_2=18$.\n",
    "- $FP_3=18$.\n",
    "- $FN_3=16$.\n",
    "- $FN_8=15$.\n",
    "\n",
    "Модель очень плохо справляется с единицами. Так же можно сказать что 2 и 3 модель часто угадывает ложно.\n",
    "\n",
    "Метрики хуже, чем у accuracy чекпоинта. Но все равно посмотрим, что скажут метрики kaggle."
   ]
  },
  {
   "cell_type": "markdown",
   "metadata": {
    "id": "A8jwTaCNdECx"
   },
   "source": [
    "### F1-score чекпоинт"
   ]
  },
  {
   "cell_type": "code",
   "execution_count": 22,
   "metadata": {
    "colab": {
     "base_uri": "https://localhost:8080/",
     "height": 535
    },
    "executionInfo": {
     "elapsed": 6,
     "status": "ok",
     "timestamp": 1681248371099,
     "user": {
      "displayName": "Михаил Глазов",
      "userId": "14831628976106288763"
     },
     "user_tz": -180
    },
    "id": "_OupAVHFdECx",
    "outputId": "2c8c2571-c87d-41ff-d7ca-e5fb0db6ce1a"
   },
   "outputs": [
    {
     "data": {
      "text/html": [
       "<style type=\"text/css\">\n",
       "#T_6786b * {\n",
       "  background-color: darkgreen;\n",
       "  color: white;\n",
       "  font-size: 12pt;\n",
       "}\n",
       "#T_6786b td:hover {\n",
       "  background-color: green;\n",
       "  color: white;\n",
       "}\n",
       "#T_6786b_row0_col0, #T_6786b_row0_col1, #T_6786b_row0_col2, #T_6786b_row0_col3, #T_6786b_row1_col0, #T_6786b_row1_col1, #T_6786b_row1_col2, #T_6786b_row1_col3, #T_6786b_row2_col0, #T_6786b_row2_col1, #T_6786b_row2_col2, #T_6786b_row2_col3, #T_6786b_row3_col0, #T_6786b_row3_col1, #T_6786b_row3_col2, #T_6786b_row3_col3, #T_6786b_row4_col0, #T_6786b_row4_col1, #T_6786b_row4_col2, #T_6786b_row4_col3, #T_6786b_row5_col0, #T_6786b_row5_col1, #T_6786b_row5_col2, #T_6786b_row5_col3, #T_6786b_row6_col0, #T_6786b_row6_col1, #T_6786b_row6_col2, #T_6786b_row6_col3, #T_6786b_row7_col0, #T_6786b_row7_col1, #T_6786b_row7_col2, #T_6786b_row7_col3, #T_6786b_row8_col0, #T_6786b_row8_col1, #T_6786b_row8_col2, #T_6786b_row8_col3, #T_6786b_row9_col0, #T_6786b_row9_col1, #T_6786b_row9_col2, #T_6786b_row9_col3 {\n",
       "  background-color: lightgreen;\n",
       "  color: black;\n",
       "  font-size: 12pt;\n",
       "}\n",
       "</style>\n",
       "<table id=\"T_6786b\">\n",
       "  <thead>\n",
       "    <tr>\n",
       "      <th class=\"blank level0\" >&nbsp;</th>\n",
       "      <th id=\"T_6786b_level0_col0\" class=\"col_heading level0 col0\" >TP</th>\n",
       "      <th id=\"T_6786b_level0_col1\" class=\"col_heading level0 col1\" >TN</th>\n",
       "      <th id=\"T_6786b_level0_col2\" class=\"col_heading level0 col2\" >FP</th>\n",
       "      <th id=\"T_6786b_level0_col3\" class=\"col_heading level0 col3\" >FN</th>\n",
       "    </tr>\n",
       "    <tr>\n",
       "      <th class=\"index_name level0\" >class_type</th>\n",
       "      <th class=\"blank col0\" >&nbsp;</th>\n",
       "      <th class=\"blank col1\" >&nbsp;</th>\n",
       "      <th class=\"blank col2\" >&nbsp;</th>\n",
       "      <th class=\"blank col3\" >&nbsp;</th>\n",
       "    </tr>\n",
       "  </thead>\n",
       "  <tbody>\n",
       "    <tr>\n",
       "      <th id=\"T_6786b_level0_row0\" class=\"row_heading level0 row0\" >0</th>\n",
       "      <td id=\"T_6786b_row0_col0\" class=\"data row0 col0\" >631</td>\n",
       "      <td id=\"T_6786b_row0_col1\" class=\"data row0 col1\" >6100</td>\n",
       "      <td id=\"T_6786b_row0_col2\" class=\"data row0 col2\" >14</td>\n",
       "      <td id=\"T_6786b_row0_col3\" class=\"data row0 col3\" >11</td>\n",
       "    </tr>\n",
       "    <tr>\n",
       "      <th id=\"T_6786b_level0_row1\" class=\"row_heading level0 row1\" >1</th>\n",
       "      <td id=\"T_6786b_row1_col0\" class=\"data row1 col0\" >641</td>\n",
       "      <td id=\"T_6786b_row1_col1\" class=\"data row1 col1\" >6056</td>\n",
       "      <td id=\"T_6786b_row1_col2\" class=\"data row1 col2\" >31</td>\n",
       "      <td id=\"T_6786b_row1_col3\" class=\"data row1 col3\" >28</td>\n",
       "    </tr>\n",
       "    <tr>\n",
       "      <th id=\"T_6786b_level0_row2\" class=\"row_heading level0 row2\" >2</th>\n",
       "      <td id=\"T_6786b_row2_col0\" class=\"data row2 col0\" >676</td>\n",
       "      <td id=\"T_6786b_row2_col1\" class=\"data row2 col1\" >6044</td>\n",
       "      <td id=\"T_6786b_row2_col2\" class=\"data row2 col2\" >15</td>\n",
       "      <td id=\"T_6786b_row2_col3\" class=\"data row2 col3\" >21</td>\n",
       "    </tr>\n",
       "    <tr>\n",
       "      <th id=\"T_6786b_level0_row3\" class=\"row_heading level0 row3\" >3</th>\n",
       "      <td id=\"T_6786b_row3_col0\" class=\"data row3 col0\" >617</td>\n",
       "      <td id=\"T_6786b_row3_col1\" class=\"data row3 col1\" >6102</td>\n",
       "      <td id=\"T_6786b_row3_col2\" class=\"data row3 col2\" >17</td>\n",
       "      <td id=\"T_6786b_row3_col3\" class=\"data row3 col3\" >20</td>\n",
       "    </tr>\n",
       "    <tr>\n",
       "      <th id=\"T_6786b_level0_row4\" class=\"row_heading level0 row4\" >4</th>\n",
       "      <td id=\"T_6786b_row4_col0\" class=\"data row4 col0\" >676</td>\n",
       "      <td id=\"T_6786b_row4_col1\" class=\"data row4 col1\" >6051</td>\n",
       "      <td id=\"T_6786b_row4_col2\" class=\"data row4 col2\" >14</td>\n",
       "      <td id=\"T_6786b_row4_col3\" class=\"data row4 col3\" >15</td>\n",
       "    </tr>\n",
       "    <tr>\n",
       "      <th id=\"T_6786b_level0_row5\" class=\"row_heading level0 row5\" >5</th>\n",
       "      <td id=\"T_6786b_row5_col0\" class=\"data row5 col0\" >661</td>\n",
       "      <td id=\"T_6786b_row5_col1\" class=\"data row5 col1\" >6059</td>\n",
       "      <td id=\"T_6786b_row5_col2\" class=\"data row5 col2\" >18</td>\n",
       "      <td id=\"T_6786b_row5_col3\" class=\"data row5 col3\" >18</td>\n",
       "    </tr>\n",
       "    <tr>\n",
       "      <th id=\"T_6786b_level0_row6\" class=\"row_heading level0 row6\" >6</th>\n",
       "      <td id=\"T_6786b_row6_col0\" class=\"data row6 col0\" >659</td>\n",
       "      <td id=\"T_6786b_row6_col1\" class=\"data row6 col1\" >6060</td>\n",
       "      <td id=\"T_6786b_row6_col2\" class=\"data row6 col2\" >22</td>\n",
       "      <td id=\"T_6786b_row6_col3\" class=\"data row6 col3\" >15</td>\n",
       "    </tr>\n",
       "    <tr>\n",
       "      <th id=\"T_6786b_level0_row7\" class=\"row_heading level0 row7\" >7</th>\n",
       "      <td id=\"T_6786b_row7_col0\" class=\"data row7 col0\" >684</td>\n",
       "      <td id=\"T_6786b_row7_col1\" class=\"data row7 col1\" >6044</td>\n",
       "      <td id=\"T_6786b_row7_col2\" class=\"data row7 col2\" >14</td>\n",
       "      <td id=\"T_6786b_row7_col3\" class=\"data row7 col3\" >14</td>\n",
       "    </tr>\n",
       "    <tr>\n",
       "      <th id=\"T_6786b_level0_row8\" class=\"row_heading level0 row8\" >8</th>\n",
       "      <td id=\"T_6786b_row8_col0\" class=\"data row8 col0\" >685</td>\n",
       "      <td id=\"T_6786b_row8_col1\" class=\"data row8 col1\" >6033</td>\n",
       "      <td id=\"T_6786b_row8_col2\" class=\"data row8 col2\" >17</td>\n",
       "      <td id=\"T_6786b_row8_col3\" class=\"data row8 col3\" >21</td>\n",
       "    </tr>\n",
       "    <tr>\n",
       "      <th id=\"T_6786b_level0_row9\" class=\"row_heading level0 row9\" >9</th>\n",
       "      <td id=\"T_6786b_row9_col0\" class=\"data row9 col0\" >654</td>\n",
       "      <td id=\"T_6786b_row9_col1\" class=\"data row9 col1\" >6083</td>\n",
       "      <td id=\"T_6786b_row9_col2\" class=\"data row9 col2\" >10</td>\n",
       "      <td id=\"T_6786b_row9_col3\" class=\"data row9 col3\" >9</td>\n",
       "    </tr>\n",
       "  </tbody>\n",
       "</table>\n"
      ],
      "text/plain": [
       "<pandas.io.formats.style.Styler at 0x1a785d78af0>"
      ]
     },
     "metadata": {},
     "output_type": "display_data"
    },
    {
     "name": "stdout",
     "output_type": "stream",
     "text": [
      "\n"
     ]
    },
    {
     "data": {
      "text/plain": [
       "{'accuracy': 0.9745411486086442,\n",
       " 'precision': 0.9745203138161944,\n",
       " 'recall': 0.974563678629346,\n",
       " 'f1_score': 0.9745351352374214}"
      ]
     },
     "execution_count": 22,
     "metadata": {},
     "output_type": "execute_result"
    }
   ],
   "source": [
    "metrics = MulticlassClassificationMetrics(val_ds_y, ans_val_f1_score)\n",
    "print(metrics)\n",
    "metrics.metrics()"
   ]
  },
  {
   "cell_type": "markdown",
   "metadata": {
    "id": "-zzPcbmSdECx"
   },
   "source": [
    "- $FN_1=19$.\n",
    "- $FP_2=19$.\n",
    "\n",
    "Модель плохо справляется с единицами и двойками.\n",
    "\n",
    "Метрики неплохие."
   ]
  },
  {
   "cell_type": "markdown",
   "metadata": {
    "id": "-RomA9mSnbEX"
   },
   "source": [
    "### Среднее скользящее по accuracy чекпоинт"
   ]
  },
  {
   "cell_type": "code",
   "execution_count": 23,
   "metadata": {
    "colab": {
     "base_uri": "https://localhost:8080/",
     "height": 535
    },
    "executionInfo": {
     "elapsed": 444,
     "status": "ok",
     "timestamp": 1681248377191,
     "user": {
      "displayName": "Михаил Глазов",
      "userId": "14831628976106288763"
     },
     "user_tz": -180
    },
    "id": "FbPidiv_nzkj",
    "outputId": "abbba389-7a88-4a29-cb41-85d647743fa6"
   },
   "outputs": [
    {
     "data": {
      "text/html": [
       "<style type=\"text/css\">\n",
       "#T_6035c * {\n",
       "  background-color: darkgreen;\n",
       "  color: white;\n",
       "  font-size: 12pt;\n",
       "}\n",
       "#T_6035c td:hover {\n",
       "  background-color: green;\n",
       "  color: white;\n",
       "}\n",
       "#T_6035c_row0_col0, #T_6035c_row0_col1, #T_6035c_row0_col2, #T_6035c_row0_col3, #T_6035c_row1_col0, #T_6035c_row1_col1, #T_6035c_row1_col2, #T_6035c_row1_col3, #T_6035c_row2_col0, #T_6035c_row2_col1, #T_6035c_row2_col2, #T_6035c_row2_col3, #T_6035c_row3_col0, #T_6035c_row3_col1, #T_6035c_row3_col2, #T_6035c_row3_col3, #T_6035c_row4_col0, #T_6035c_row4_col1, #T_6035c_row4_col2, #T_6035c_row4_col3, #T_6035c_row5_col0, #T_6035c_row5_col1, #T_6035c_row5_col2, #T_6035c_row5_col3, #T_6035c_row6_col0, #T_6035c_row6_col1, #T_6035c_row6_col2, #T_6035c_row6_col3, #T_6035c_row7_col0, #T_6035c_row7_col1, #T_6035c_row7_col2, #T_6035c_row7_col3, #T_6035c_row8_col0, #T_6035c_row8_col1, #T_6035c_row8_col2, #T_6035c_row8_col3, #T_6035c_row9_col0, #T_6035c_row9_col1, #T_6035c_row9_col2, #T_6035c_row9_col3 {\n",
       "  background-color: lightgreen;\n",
       "  color: black;\n",
       "  font-size: 12pt;\n",
       "}\n",
       "</style>\n",
       "<table id=\"T_6035c\">\n",
       "  <thead>\n",
       "    <tr>\n",
       "      <th class=\"blank level0\" >&nbsp;</th>\n",
       "      <th id=\"T_6035c_level0_col0\" class=\"col_heading level0 col0\" >TP</th>\n",
       "      <th id=\"T_6035c_level0_col1\" class=\"col_heading level0 col1\" >TN</th>\n",
       "      <th id=\"T_6035c_level0_col2\" class=\"col_heading level0 col2\" >FP</th>\n",
       "      <th id=\"T_6035c_level0_col3\" class=\"col_heading level0 col3\" >FN</th>\n",
       "    </tr>\n",
       "    <tr>\n",
       "      <th class=\"index_name level0\" >class_type</th>\n",
       "      <th class=\"blank col0\" >&nbsp;</th>\n",
       "      <th class=\"blank col1\" >&nbsp;</th>\n",
       "      <th class=\"blank col2\" >&nbsp;</th>\n",
       "      <th class=\"blank col3\" >&nbsp;</th>\n",
       "    </tr>\n",
       "  </thead>\n",
       "  <tbody>\n",
       "    <tr>\n",
       "      <th id=\"T_6035c_level0_row0\" class=\"row_heading level0 row0\" >0</th>\n",
       "      <td id=\"T_6035c_row0_col0\" class=\"data row0 col0\" >635</td>\n",
       "      <td id=\"T_6035c_row0_col1\" class=\"data row0 col1\" >6100</td>\n",
       "      <td id=\"T_6035c_row0_col2\" class=\"data row0 col2\" >14</td>\n",
       "      <td id=\"T_6035c_row0_col3\" class=\"data row0 col3\" >7</td>\n",
       "    </tr>\n",
       "    <tr>\n",
       "      <th id=\"T_6035c_level0_row1\" class=\"row_heading level0 row1\" >1</th>\n",
       "      <td id=\"T_6035c_row1_col0\" class=\"data row1 col0\" >633</td>\n",
       "      <td id=\"T_6035c_row1_col1\" class=\"data row1 col1\" >6064</td>\n",
       "      <td id=\"T_6035c_row1_col2\" class=\"data row1 col2\" >23</td>\n",
       "      <td id=\"T_6035c_row1_col3\" class=\"data row1 col3\" >36</td>\n",
       "    </tr>\n",
       "    <tr>\n",
       "      <th id=\"T_6035c_level0_row2\" class=\"row_heading level0 row2\" >2</th>\n",
       "      <td id=\"T_6035c_row2_col0\" class=\"data row2 col0\" >679</td>\n",
       "      <td id=\"T_6035c_row2_col1\" class=\"data row2 col1\" >6048</td>\n",
       "      <td id=\"T_6035c_row2_col2\" class=\"data row2 col2\" >11</td>\n",
       "      <td id=\"T_6035c_row2_col3\" class=\"data row2 col3\" >18</td>\n",
       "    </tr>\n",
       "    <tr>\n",
       "      <th id=\"T_6035c_level0_row3\" class=\"row_heading level0 row3\" >3</th>\n",
       "      <td id=\"T_6035c_row3_col0\" class=\"data row3 col0\" >616</td>\n",
       "      <td id=\"T_6035c_row3_col1\" class=\"data row3 col1\" >6106</td>\n",
       "      <td id=\"T_6035c_row3_col2\" class=\"data row3 col2\" >13</td>\n",
       "      <td id=\"T_6035c_row3_col3\" class=\"data row3 col3\" >21</td>\n",
       "    </tr>\n",
       "    <tr>\n",
       "      <th id=\"T_6035c_level0_row4\" class=\"row_heading level0 row4\" >4</th>\n",
       "      <td id=\"T_6035c_row4_col0\" class=\"data row4 col0\" >675</td>\n",
       "      <td id=\"T_6035c_row4_col1\" class=\"data row4 col1\" >6048</td>\n",
       "      <td id=\"T_6035c_row4_col2\" class=\"data row4 col2\" >17</td>\n",
       "      <td id=\"T_6035c_row4_col3\" class=\"data row4 col3\" >16</td>\n",
       "    </tr>\n",
       "    <tr>\n",
       "      <th id=\"T_6035c_level0_row5\" class=\"row_heading level0 row5\" >5</th>\n",
       "      <td id=\"T_6035c_row5_col0\" class=\"data row5 col0\" >667</td>\n",
       "      <td id=\"T_6035c_row5_col1\" class=\"data row5 col1\" >6059</td>\n",
       "      <td id=\"T_6035c_row5_col2\" class=\"data row5 col2\" >18</td>\n",
       "      <td id=\"T_6035c_row5_col3\" class=\"data row5 col3\" >12</td>\n",
       "    </tr>\n",
       "    <tr>\n",
       "      <th id=\"T_6035c_level0_row6\" class=\"row_heading level0 row6\" >6</th>\n",
       "      <td id=\"T_6035c_row6_col0\" class=\"data row6 col0\" >662</td>\n",
       "      <td id=\"T_6035c_row6_col1\" class=\"data row6 col1\" >6064</td>\n",
       "      <td id=\"T_6035c_row6_col2\" class=\"data row6 col2\" >18</td>\n",
       "      <td id=\"T_6035c_row6_col3\" class=\"data row6 col3\" >12</td>\n",
       "    </tr>\n",
       "    <tr>\n",
       "      <th id=\"T_6035c_level0_row7\" class=\"row_heading level0 row7\" >7</th>\n",
       "      <td id=\"T_6035c_row7_col0\" class=\"data row7 col0\" >690</td>\n",
       "      <td id=\"T_6035c_row7_col1\" class=\"data row7 col1\" >6046</td>\n",
       "      <td id=\"T_6035c_row7_col2\" class=\"data row7 col2\" >12</td>\n",
       "      <td id=\"T_6035c_row7_col3\" class=\"data row7 col3\" >8</td>\n",
       "    </tr>\n",
       "    <tr>\n",
       "      <th id=\"T_6035c_level0_row8\" class=\"row_heading level0 row8\" >8</th>\n",
       "      <td id=\"T_6035c_row8_col0\" class=\"data row8 col0\" >692</td>\n",
       "      <td id=\"T_6035c_row8_col1\" class=\"data row8 col1\" >6034</td>\n",
       "      <td id=\"T_6035c_row8_col2\" class=\"data row8 col2\" >16</td>\n",
       "      <td id=\"T_6035c_row8_col3\" class=\"data row8 col3\" >14</td>\n",
       "    </tr>\n",
       "    <tr>\n",
       "      <th id=\"T_6035c_level0_row9\" class=\"row_heading level0 row9\" >9</th>\n",
       "      <td id=\"T_6035c_row9_col0\" class=\"data row9 col0\" >653</td>\n",
       "      <td id=\"T_6035c_row9_col1\" class=\"data row9 col1\" >6081</td>\n",
       "      <td id=\"T_6035c_row9_col2\" class=\"data row9 col2\" >12</td>\n",
       "      <td id=\"T_6035c_row9_col3\" class=\"data row9 col3\" >10</td>\n",
       "    </tr>\n",
       "  </tbody>\n",
       "</table>\n"
      ],
      "text/plain": [
       "<pandas.io.formats.style.Styler at 0x1a785d7bfd0>"
      ]
     },
     "metadata": {},
     "output_type": "display_data"
    },
    {
     "name": "stdout",
     "output_type": "stream",
     "text": [
      "\n"
     ]
    },
    {
     "data": {
      "text/plain": [
       "{'accuracy': 0.9772054470100652,\n",
       " 'precision': 0.9771705185745387,\n",
       " 'recall': 0.9771486563327392,\n",
       " 'f1_score': 0.9771360296324516}"
      ]
     },
     "execution_count": 23,
     "metadata": {},
     "output_type": "execute_result"
    }
   ],
   "source": [
    "metrics = MulticlassClassificationMetrics(val_ds_y, ans_val_avg_categorical_accuracy)\n",
    "print(metrics)\n",
    "metrics.metrics()"
   ]
  },
  {
   "cell_type": "markdown",
   "metadata": {
    "id": "n3XxFZkGoJRz"
   },
   "source": [
    "### Скользящее среднее по F1-score чекпоинт"
   ]
  },
  {
   "cell_type": "code",
   "execution_count": 24,
   "metadata": {
    "colab": {
     "base_uri": "https://localhost:8080/",
     "height": 535
    },
    "executionInfo": {
     "elapsed": 5,
     "status": "ok",
     "timestamp": 1681248380279,
     "user": {
      "displayName": "Михаил Глазов",
      "userId": "14831628976106288763"
     },
     "user_tz": -180
    },
    "id": "VfiFu2NkoKUT",
    "outputId": "60c496b6-a803-48ba-e6d2-0e552b08fd59"
   },
   "outputs": [
    {
     "data": {
      "text/html": [
       "<style type=\"text/css\">\n",
       "#T_1d0cc * {\n",
       "  background-color: darkgreen;\n",
       "  color: white;\n",
       "  font-size: 12pt;\n",
       "}\n",
       "#T_1d0cc td:hover {\n",
       "  background-color: green;\n",
       "  color: white;\n",
       "}\n",
       "#T_1d0cc_row0_col0, #T_1d0cc_row0_col1, #T_1d0cc_row0_col2, #T_1d0cc_row0_col3, #T_1d0cc_row1_col0, #T_1d0cc_row1_col1, #T_1d0cc_row1_col2, #T_1d0cc_row1_col3, #T_1d0cc_row2_col0, #T_1d0cc_row2_col1, #T_1d0cc_row2_col2, #T_1d0cc_row2_col3, #T_1d0cc_row3_col0, #T_1d0cc_row3_col1, #T_1d0cc_row3_col2, #T_1d0cc_row3_col3, #T_1d0cc_row4_col0, #T_1d0cc_row4_col1, #T_1d0cc_row4_col2, #T_1d0cc_row4_col3, #T_1d0cc_row5_col0, #T_1d0cc_row5_col1, #T_1d0cc_row5_col2, #T_1d0cc_row5_col3, #T_1d0cc_row6_col0, #T_1d0cc_row6_col1, #T_1d0cc_row6_col2, #T_1d0cc_row6_col3, #T_1d0cc_row7_col0, #T_1d0cc_row7_col1, #T_1d0cc_row7_col2, #T_1d0cc_row7_col3, #T_1d0cc_row8_col0, #T_1d0cc_row8_col1, #T_1d0cc_row8_col2, #T_1d0cc_row8_col3, #T_1d0cc_row9_col0, #T_1d0cc_row9_col1, #T_1d0cc_row9_col2, #T_1d0cc_row9_col3 {\n",
       "  background-color: lightgreen;\n",
       "  color: black;\n",
       "  font-size: 12pt;\n",
       "}\n",
       "</style>\n",
       "<table id=\"T_1d0cc\">\n",
       "  <thead>\n",
       "    <tr>\n",
       "      <th class=\"blank level0\" >&nbsp;</th>\n",
       "      <th id=\"T_1d0cc_level0_col0\" class=\"col_heading level0 col0\" >TP</th>\n",
       "      <th id=\"T_1d0cc_level0_col1\" class=\"col_heading level0 col1\" >TN</th>\n",
       "      <th id=\"T_1d0cc_level0_col2\" class=\"col_heading level0 col2\" >FP</th>\n",
       "      <th id=\"T_1d0cc_level0_col3\" class=\"col_heading level0 col3\" >FN</th>\n",
       "    </tr>\n",
       "    <tr>\n",
       "      <th class=\"index_name level0\" >class_type</th>\n",
       "      <th class=\"blank col0\" >&nbsp;</th>\n",
       "      <th class=\"blank col1\" >&nbsp;</th>\n",
       "      <th class=\"blank col2\" >&nbsp;</th>\n",
       "      <th class=\"blank col3\" >&nbsp;</th>\n",
       "    </tr>\n",
       "  </thead>\n",
       "  <tbody>\n",
       "    <tr>\n",
       "      <th id=\"T_1d0cc_level0_row0\" class=\"row_heading level0 row0\" >0</th>\n",
       "      <td id=\"T_1d0cc_row0_col0\" class=\"data row0 col0\" >635</td>\n",
       "      <td id=\"T_1d0cc_row0_col1\" class=\"data row0 col1\" >6096</td>\n",
       "      <td id=\"T_1d0cc_row0_col2\" class=\"data row0 col2\" >18</td>\n",
       "      <td id=\"T_1d0cc_row0_col3\" class=\"data row0 col3\" >7</td>\n",
       "    </tr>\n",
       "    <tr>\n",
       "      <th id=\"T_1d0cc_level0_row1\" class=\"row_heading level0 row1\" >1</th>\n",
       "      <td id=\"T_1d0cc_row1_col0\" class=\"data row1 col0\" >633</td>\n",
       "      <td id=\"T_1d0cc_row1_col1\" class=\"data row1 col1\" >6063</td>\n",
       "      <td id=\"T_1d0cc_row1_col2\" class=\"data row1 col2\" >24</td>\n",
       "      <td id=\"T_1d0cc_row1_col3\" class=\"data row1 col3\" >36</td>\n",
       "    </tr>\n",
       "    <tr>\n",
       "      <th id=\"T_1d0cc_level0_row2\" class=\"row_heading level0 row2\" >2</th>\n",
       "      <td id=\"T_1d0cc_row2_col0\" class=\"data row2 col0\" >680</td>\n",
       "      <td id=\"T_1d0cc_row2_col1\" class=\"data row2 col1\" >6045</td>\n",
       "      <td id=\"T_1d0cc_row2_col2\" class=\"data row2 col2\" >14</td>\n",
       "      <td id=\"T_1d0cc_row2_col3\" class=\"data row2 col3\" >17</td>\n",
       "    </tr>\n",
       "    <tr>\n",
       "      <th id=\"T_1d0cc_level0_row3\" class=\"row_heading level0 row3\" >3</th>\n",
       "      <td id=\"T_1d0cc_row3_col0\" class=\"data row3 col0\" >617</td>\n",
       "      <td id=\"T_1d0cc_row3_col1\" class=\"data row3 col1\" >6108</td>\n",
       "      <td id=\"T_1d0cc_row3_col2\" class=\"data row3 col2\" >11</td>\n",
       "      <td id=\"T_1d0cc_row3_col3\" class=\"data row3 col3\" >20</td>\n",
       "    </tr>\n",
       "    <tr>\n",
       "      <th id=\"T_1d0cc_level0_row4\" class=\"row_heading level0 row4\" >4</th>\n",
       "      <td id=\"T_1d0cc_row4_col0\" class=\"data row4 col0\" >680</td>\n",
       "      <td id=\"T_1d0cc_row4_col1\" class=\"data row4 col1\" >6051</td>\n",
       "      <td id=\"T_1d0cc_row4_col2\" class=\"data row4 col2\" >14</td>\n",
       "      <td id=\"T_1d0cc_row4_col3\" class=\"data row4 col3\" >11</td>\n",
       "    </tr>\n",
       "    <tr>\n",
       "      <th id=\"T_1d0cc_level0_row5\" class=\"row_heading level0 row5\" >5</th>\n",
       "      <td id=\"T_1d0cc_row5_col0\" class=\"data row5 col0\" >664</td>\n",
       "      <td id=\"T_1d0cc_row5_col1\" class=\"data row5 col1\" >6059</td>\n",
       "      <td id=\"T_1d0cc_row5_col2\" class=\"data row5 col2\" >18</td>\n",
       "      <td id=\"T_1d0cc_row5_col3\" class=\"data row5 col3\" >15</td>\n",
       "    </tr>\n",
       "    <tr>\n",
       "      <th id=\"T_1d0cc_level0_row6\" class=\"row_heading level0 row6\" >6</th>\n",
       "      <td id=\"T_1d0cc_row6_col0\" class=\"data row6 col0\" >658</td>\n",
       "      <td id=\"T_1d0cc_row6_col1\" class=\"data row6 col1\" >6067</td>\n",
       "      <td id=\"T_1d0cc_row6_col2\" class=\"data row6 col2\" >15</td>\n",
       "      <td id=\"T_1d0cc_row6_col3\" class=\"data row6 col3\" >16</td>\n",
       "    </tr>\n",
       "    <tr>\n",
       "      <th id=\"T_1d0cc_level0_row7\" class=\"row_heading level0 row7\" >7</th>\n",
       "      <td id=\"T_1d0cc_row7_col0\" class=\"data row7 col0\" >690</td>\n",
       "      <td id=\"T_1d0cc_row7_col1\" class=\"data row7 col1\" >6047</td>\n",
       "      <td id=\"T_1d0cc_row7_col2\" class=\"data row7 col2\" >11</td>\n",
       "      <td id=\"T_1d0cc_row7_col3\" class=\"data row7 col3\" >8</td>\n",
       "    </tr>\n",
       "    <tr>\n",
       "      <th id=\"T_1d0cc_level0_row8\" class=\"row_heading level0 row8\" >8</th>\n",
       "      <td id=\"T_1d0cc_row8_col0\" class=\"data row8 col0\" >692</td>\n",
       "      <td id=\"T_1d0cc_row8_col1\" class=\"data row8 col1\" >6034</td>\n",
       "      <td id=\"T_1d0cc_row8_col2\" class=\"data row8 col2\" >16</td>\n",
       "      <td id=\"T_1d0cc_row8_col3\" class=\"data row8 col3\" >14</td>\n",
       "    </tr>\n",
       "    <tr>\n",
       "      <th id=\"T_1d0cc_level0_row9\" class=\"row_heading level0 row9\" >9</th>\n",
       "      <td id=\"T_1d0cc_row9_col0\" class=\"data row9 col0\" >656</td>\n",
       "      <td id=\"T_1d0cc_row9_col1\" class=\"data row9 col1\" >6083</td>\n",
       "      <td id=\"T_1d0cc_row9_col2\" class=\"data row9 col2\" >10</td>\n",
       "      <td id=\"T_1d0cc_row9_col3\" class=\"data row9 col3\" >7</td>\n",
       "    </tr>\n",
       "  </tbody>\n",
       "</table>\n"
      ],
      "text/plain": [
       "<pandas.io.formats.style.Styler at 0x1a786144b50>"
      ]
     },
     "metadata": {},
     "output_type": "display_data"
    },
    {
     "name": "stdout",
     "output_type": "stream",
     "text": [
      "\n"
     ]
    },
    {
     "data": {
      "text/plain": [
       "{'accuracy': 0.9776494967436353,\n",
       " 'precision': 0.9776056513292668,\n",
       " 'recall': 0.9775898938910853,\n",
       " 'f1_score': 0.9775753424397144}"
      ]
     },
     "execution_count": 24,
     "metadata": {},
     "output_type": "execute_result"
    }
   ],
   "source": [
    "metrics = MulticlassClassificationMetrics(val_ds_y, ans_val_avg_f1_score)\n",
    "print(metrics)\n",
    "metrics.metrics()"
   ]
  },
  {
   "cell_type": "markdown",
   "metadata": {
    "id": "GgRLnsAVoL8j"
   },
   "source": [
    "### Скользящее среднее по Loss чекпоинт"
   ]
  },
  {
   "cell_type": "code",
   "execution_count": 26,
   "metadata": {
    "colab": {
     "base_uri": "https://localhost:8080/",
     "height": 535
    },
    "executionInfo": {
     "elapsed": 8,
     "status": "ok",
     "timestamp": 1681248381520,
     "user": {
      "displayName": "Михаил Глазов",
      "userId": "14831628976106288763"
     },
     "user_tz": -180
    },
    "id": "EzhQuXaMoSjz",
    "outputId": "eb61b285-9763-4da3-8781-7e369b514070"
   },
   "outputs": [
    {
     "data": {
      "text/html": [
       "<style type=\"text/css\">\n",
       "#T_b4ba4 * {\n",
       "  background-color: darkgreen;\n",
       "  color: white;\n",
       "  font-size: 12pt;\n",
       "}\n",
       "#T_b4ba4 td:hover {\n",
       "  background-color: green;\n",
       "  color: white;\n",
       "}\n",
       "#T_b4ba4_row0_col0, #T_b4ba4_row0_col1, #T_b4ba4_row0_col2, #T_b4ba4_row0_col3, #T_b4ba4_row1_col0, #T_b4ba4_row1_col1, #T_b4ba4_row1_col2, #T_b4ba4_row1_col3, #T_b4ba4_row2_col0, #T_b4ba4_row2_col1, #T_b4ba4_row2_col2, #T_b4ba4_row2_col3, #T_b4ba4_row3_col0, #T_b4ba4_row3_col1, #T_b4ba4_row3_col2, #T_b4ba4_row3_col3, #T_b4ba4_row4_col0, #T_b4ba4_row4_col1, #T_b4ba4_row4_col2, #T_b4ba4_row4_col3, #T_b4ba4_row5_col0, #T_b4ba4_row5_col1, #T_b4ba4_row5_col2, #T_b4ba4_row5_col3, #T_b4ba4_row6_col0, #T_b4ba4_row6_col1, #T_b4ba4_row6_col2, #T_b4ba4_row6_col3, #T_b4ba4_row7_col0, #T_b4ba4_row7_col1, #T_b4ba4_row7_col2, #T_b4ba4_row7_col3, #T_b4ba4_row8_col0, #T_b4ba4_row8_col1, #T_b4ba4_row8_col2, #T_b4ba4_row8_col3, #T_b4ba4_row9_col0, #T_b4ba4_row9_col1, #T_b4ba4_row9_col2, #T_b4ba4_row9_col3 {\n",
       "  background-color: lightgreen;\n",
       "  color: black;\n",
       "  font-size: 12pt;\n",
       "}\n",
       "</style>\n",
       "<table id=\"T_b4ba4\" class=\"dataframe\">\n",
       "  <thead>\n",
       "    <tr>\n",
       "      <th class=\"blank level0\" >&nbsp;</th>\n",
       "      <th id=\"T_b4ba4_level0_col0\" class=\"col_heading level0 col0\" >TP</th>\n",
       "      <th id=\"T_b4ba4_level0_col1\" class=\"col_heading level0 col1\" >TN</th>\n",
       "      <th id=\"T_b4ba4_level0_col2\" class=\"col_heading level0 col2\" >FP</th>\n",
       "      <th id=\"T_b4ba4_level0_col3\" class=\"col_heading level0 col3\" >FN</th>\n",
       "    </tr>\n",
       "    <tr>\n",
       "      <th class=\"index_name level0\" >class_type</th>\n",
       "      <th class=\"blank col0\" >&nbsp;</th>\n",
       "      <th class=\"blank col1\" >&nbsp;</th>\n",
       "      <th class=\"blank col2\" >&nbsp;</th>\n",
       "      <th class=\"blank col3\" >&nbsp;</th>\n",
       "    </tr>\n",
       "  </thead>\n",
       "  <tbody>\n",
       "    <tr>\n",
       "      <th id=\"T_b4ba4_level0_row0\" class=\"row_heading level0 row0\" >0</th>\n",
       "      <td id=\"T_b4ba4_row0_col0\" class=\"data row0 col0\" >690</td>\n",
       "      <td id=\"T_b4ba4_row0_col1\" class=\"data row0 col1\" >6042</td>\n",
       "      <td id=\"T_b4ba4_row0_col2\" class=\"data row0 col2\" >14</td>\n",
       "      <td id=\"T_b4ba4_row0_col3\" class=\"data row0 col3\" >10</td>\n",
       "    </tr>\n",
       "    <tr>\n",
       "      <th id=\"T_b4ba4_level0_row1\" class=\"row_heading level0 row1\" >1</th>\n",
       "      <td id=\"T_b4ba4_row1_col0\" class=\"data row1 col0\" >635</td>\n",
       "      <td id=\"T_b4ba4_row1_col1\" class=\"data row1 col1\" >6069</td>\n",
       "      <td id=\"T_b4ba4_row1_col2\" class=\"data row1 col2\" >24</td>\n",
       "      <td id=\"T_b4ba4_row1_col3\" class=\"data row1 col3\" >28</td>\n",
       "    </tr>\n",
       "    <tr>\n",
       "      <th id=\"T_b4ba4_level0_row2\" class=\"row_heading level0 row2\" >2</th>\n",
       "      <td id=\"T_b4ba4_row2_col0\" class=\"data row2 col0\" >668</td>\n",
       "      <td id=\"T_b4ba4_row2_col1\" class=\"data row2 col1\" >6045</td>\n",
       "      <td id=\"T_b4ba4_row2_col2\" class=\"data row2 col2\" >22</td>\n",
       "      <td id=\"T_b4ba4_row2_col3\" class=\"data row2 col3\" >21</td>\n",
       "    </tr>\n",
       "    <tr>\n",
       "      <th id=\"T_b4ba4_level0_row3\" class=\"row_heading level0 row3\" >3</th>\n",
       "      <td id=\"T_b4ba4_row3_col0\" class=\"data row3 col0\" >688</td>\n",
       "      <td id=\"T_b4ba4_row3_col1\" class=\"data row3 col1\" >6024</td>\n",
       "      <td id=\"T_b4ba4_row3_col2\" class=\"data row3 col2\" >21</td>\n",
       "      <td id=\"T_b4ba4_row3_col3\" class=\"data row3 col3\" >23</td>\n",
       "    </tr>\n",
       "    <tr>\n",
       "      <th id=\"T_b4ba4_level0_row4\" class=\"row_heading level0 row4\" >4</th>\n",
       "      <td id=\"T_b4ba4_row4_col0\" class=\"data row4 col0\" >645</td>\n",
       "      <td id=\"T_b4ba4_row4_col1\" class=\"data row4 col1\" >6082</td>\n",
       "      <td id=\"T_b4ba4_row4_col2\" class=\"data row4 col2\" >16</td>\n",
       "      <td id=\"T_b4ba4_row4_col3\" class=\"data row4 col3\" >13</td>\n",
       "    </tr>\n",
       "    <tr>\n",
       "      <th id=\"T_b4ba4_level0_row5\" class=\"row_heading level0 row5\" >5</th>\n",
       "      <td id=\"T_b4ba4_row5_col0\" class=\"data row5 col0\" >588</td>\n",
       "      <td id=\"T_b4ba4_row5_col1\" class=\"data row5 col1\" >6133</td>\n",
       "      <td id=\"T_b4ba4_row5_col2\" class=\"data row5 col2\" >10</td>\n",
       "      <td id=\"T_b4ba4_row5_col3\" class=\"data row5 col3\" >25</td>\n",
       "    </tr>\n",
       "    <tr>\n",
       "      <th id=\"T_b4ba4_level0_row6\" class=\"row_heading level0 row6\" >6</th>\n",
       "      <td id=\"T_b4ba4_row6_col0\" class=\"data row6 col0\" >679</td>\n",
       "      <td id=\"T_b4ba4_row6_col1\" class=\"data row6 col1\" >6049</td>\n",
       "      <td id=\"T_b4ba4_row6_col2\" class=\"data row6 col2\" >13</td>\n",
       "      <td id=\"T_b4ba4_row6_col3\" class=\"data row6 col3\" >15</td>\n",
       "    </tr>\n",
       "    <tr>\n",
       "      <th id=\"T_b4ba4_level0_row7\" class=\"row_heading level0 row7\" >7</th>\n",
       "      <td id=\"T_b4ba4_row7_col0\" class=\"data row7 col0\" >692</td>\n",
       "      <td id=\"T_b4ba4_row7_col1\" class=\"data row7 col1\" >6043</td>\n",
       "      <td id=\"T_b4ba4_row7_col2\" class=\"data row7 col2\" >12</td>\n",
       "      <td id=\"T_b4ba4_row7_col3\" class=\"data row7 col3\" >9</td>\n",
       "    </tr>\n",
       "    <tr>\n",
       "      <th id=\"T_b4ba4_level0_row8\" class=\"row_heading level0 row8\" >8</th>\n",
       "      <td id=\"T_b4ba4_row8_col0\" class=\"data row8 col0\" >631</td>\n",
       "      <td id=\"T_b4ba4_row8_col1\" class=\"data row8 col1\" >6096</td>\n",
       "      <td id=\"T_b4ba4_row8_col2\" class=\"data row8 col2\" >17</td>\n",
       "      <td id=\"T_b4ba4_row8_col3\" class=\"data row8 col3\" >12</td>\n",
       "    </tr>\n",
       "    <tr>\n",
       "      <th id=\"T_b4ba4_level0_row9\" class=\"row_heading level0 row9\" >9</th>\n",
       "      <td id=\"T_b4ba4_row9_col0\" class=\"data row9 col0\" >670</td>\n",
       "      <td id=\"T_b4ba4_row9_col1\" class=\"data row9 col1\" >6051</td>\n",
       "      <td id=\"T_b4ba4_row9_col2\" class=\"data row9 col2\" >21</td>\n",
       "      <td id=\"T_b4ba4_row9_col3\" class=\"data row9 col3\" >14</td>\n",
       "    </tr>\n",
       "  </tbody>\n",
       "</table>\n"
      ],
      "text/plain": [
       "<pandas.io.formats.style.Styler at 0x7f0dfc51a3a0>"
      ]
     },
     "metadata": {},
     "output_type": "display_data"
    },
    {
     "name": "stdout",
     "output_type": "stream",
     "text": [
      "\n"
     ]
    },
    {
     "data": {
      "text/plain": [
       "{'accuracy': 0.9748371817643576,\n",
       " 'precision': 0.974880653549054,\n",
       " 'recall': 0.9746531385254105,\n",
       " 'f1_score': 0.9747449230461165}"
      ]
     },
     "execution_count": 26,
     "metadata": {},
     "output_type": "execute_result"
    }
   ],
   "source": [
    "metrics = MulticlassClassificationMetrics(val_ds_y, ans_val_avg_loss)\n",
    "print(metrics)\n",
    "metrics.metrics()"
   ]
  },
  {
   "cell_type": "code",
   "execution_count": 27,
   "metadata": {
    "collapsed": false
   },
   "outputs": [
    {
     "data": {
      "image/png": "[encoded data removed]",
      "text/plain": [
       "<Figure size 1400x1200 with 2 Axes>"
      ]
     },
     "metadata": {},
     "output_type": "display_data"
    }
   ],
   "source": [
    "matrix = confusion_matrix(val_ds_y, ans_val_avg_categorical_accuracy)\n",
    "\n",
    "fig, ax = plt.subplots(figsize=(14, 12))\n",
    "seaborn.heatmap(matrix, annot=True, cmap='Greens', fmt='d', ax=ax)\n",
    "plt.title('Confusion Matrix for training dataset')\n",
    "plt.xlabel('Predicted label')\n",
    "plt.ylabel('True label')\n",
    "plt.show()"
   ]
  },
  {
   "cell_type": "markdown",
   "metadata": {
    "id": "ZCxq9l4W1h0D"
   },
   "source": [
    "- Сохраняем ответы."
   ]
  },
  {
   "cell_type": "code",
   "execution_count": 31,
   "metadata": {
    "executionInfo": {
     "elapsed": 20927,
     "status": "ok",
     "timestamp": 1681248832473,
     "user": {
      "displayName": "Михаил Глазов",
      "userId": "14831628976106288763"
     },
     "user_tz": -180
    },
    "id": "bQvnLPPp1h0D"
   },
   "outputs": [],
   "source": [
    "ans_test_categorical_accuracy = make_ans_file(model_categorical_acc, test_ds,\n",
    "                                              f'../answers/model{num_model}_categorical_accuracy.csv')\n",
    "ans_test_f1_score = make_ans_file(model_f1_score, test_ds, f'../answers/model{num_model}_f1_score.csv')\n",
    "ans_test_loss = make_ans_file(model_loss, test_ds, f'../answers/model{num_model}_loss.csv')\n",
    "ans_test_avg_categorical_accuracy = make_ans_file(model_avg_categorical_acc, test_ds,\n",
    "                                                  f'../answers/model{num_model}_avg_categorical_accuracy.csv')\n",
    "ans_test_avg_f1_score = make_ans_file(model_avg_f1_score, test_ds, f'../answers/model{num_model}_avg_f1_score.csv')\n",
    "ans_test_avg_loss = make_ans_file(model_avg_loss, test_ds, f'../answers/model{num_model}_avg_loss.csv')"
   ]
  },
  {
   "cell_type": "markdown",
   "metadata": {
    "id": "zEJYFGnE1h0E"
   },
   "source": [
    "Проверяем ответы (одинаковые они или нет), чтоб не терять кол-во отправок ответов на kaggle в день."
   ]
  },
  {
   "cell_type": "code",
   "execution_count": 32,
   "metadata": {
    "colab": {
     "base_uri": "https://localhost:8080/"
    },
    "executionInfo": {
     "elapsed": 3,
     "status": "ok",
     "timestamp": 1681248837597,
     "user": {
      "displayName": "Михаил Глазов",
      "userId": "14831628976106288763"
     },
     "user_tz": -180
    },
    "id": "hf3v3GDL1h0N",
    "outputId": "aa27e227-00ca-47c2-8b1a-dd6d4d9c6203"
   },
   "outputs": [],
   "source": [
    "for i in range(len(anss) - 1):\n",
    "    for j in range(i + 1, len(anss)):\n",
    "        if np.all(anss[i] == anss[j]):\n",
    "            print(f'чекпоинты {i + 1} и {j + 1} одинаковые')"
   ]
  },
  {
   "cell_type": "markdown",
   "metadata": {
    "id": "sroqKcdL1h0O"
   },
   "source": [
    "Все ответы разные, поэтому отправляем все на kaggle"
   ]
  },
  {
   "cell_type": "markdown",
   "metadata": {
    "id": "Oqwfnt9ydECy"
   },
   "source": [
    "- Accuracy чекпоинт: 0.93493\n",
    "- Loss чекпоинт: 0.92866"
   ]
  }
 ],
 "metadata": {
  "accelerator": "GPU",
  "colab": {
   "provenance": []
  },
  "gpuClass": "standard",
  "kernelspec": {
   "display_name": "Python 3",
   "language": "python",
   "name": "python3"
  },
  "language_info": {
   "codemirror_mode": {
    "name": "ipython",
    "version": 3
   },
   "file_extension": ".py",
   "mimetype": "text/x-python",
   "name": "python",
   "nbconvert_exporter": "python",
   "pygments_lexer": "ipython3",
   "version": "3.10.10"
  },
  "orig_nbformat": 4
 },
 "nbformat": 4,
 "nbformat_minor": 0
}
