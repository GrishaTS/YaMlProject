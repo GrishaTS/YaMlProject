{
 "cells": [
  {
   "attachments": {},
   "cell_type": "markdown",
   "metadata": {},
   "source": [
    "# Ансамбли"
   ]
  },
  {
   "attachments": {},
   "cell_type": "markdown",
   "metadata": {},
   "source": [
    "1111\n"
   ]
  },
  {
   "cell_type": "code",
   "execution_count": 7,
   "metadata": {},
   "outputs": [],
   "source": [
    "import sys\n",
    "\n",
    "from tensorflow.keras import datasets, layers, models, losses\n",
    "import numpy as np\n",
    "from PIL import Image\n",
    "import tensorflow as tf\n",
    "import torchvision as tv\n",
    "import matplotlib.pyplot as plt\n",
    "from livelossplot import PlotLossesKeras\n",
    "import tensorflow_addons as tfa\n",
    "\n",
    "sys.path.append('../../../')\n",
    "\n",
    "from core.datasets import get_ds\n",
    "from core.make_answer import make_ans_file"
   ]
  },
  {
   "cell_type": "code",
   "execution_count": 11,
   "metadata": {},
   "outputs": [],
   "source": [
    "transformer = tv.transforms.Compose([\n",
    "    tv.transforms.RandomAdjustSharpness(sharpness_factor=5, p=.4),\n",
    "    tv.transforms.RandomHorizontalFlip(p=.5),\n",
    "    tv.transforms.RandomPosterize(bits=3, p=.3),\n",
    "    tv.transforms.RandomPerspective(distortion_scale=0.2, p=.5),\n",
    "    tv.transforms.RandomRotation(degrees=(-10, 10)),\n",
    "    tv.transforms.ColorJitter(brightness=.2, hue=0.2),\n",
    "])"
   ]
  },
  {
   "cell_type": "code",
   "execution_count": 12,
   "metadata": {},
   "outputs": [],
   "source": [
    "train_ds, val_ds, test_ds = get_ds('repaired_data_train', 'repaired_data_test', transform=transformer, one_hot=True, back=3)"
   ]
  },
  {
   "cell_type": "code",
   "execution_count": 13,
   "metadata": {},
   "outputs": [],
   "source": [
    "model_1 = tf.keras.models.load_model(f'../../../models/checkpoints/model1_categorical_accuracy.h5')\n",
    "model_3 = tf.keras.models.load_model(f'../../../models/checkpoints/model3_categorical_accuracy.h5')"
   ]
  },
  {
   "attachments": {},
   "cell_type": "markdown",
   "metadata": {},
   "source": [
    "- Bagging (пакетирование) голосование, предпочтительна система наподобие земских соборов с представителями разных сословий нейронных сетей."
   ]
  },
  {
   "cell_type": "code",
   "execution_count": 18,
   "metadata": {},
   "outputs": [
    {
     "name": "stdout",
     "output_type": "stream",
     "text": [
      "16/16 [==============================] - 0s 9ms/step\n",
      "16/16 [==============================] - 0s 15ms/step\n",
      "16/16 [==============================] - 0s 9ms/step\n",
      "16/16 [==============================] - 0s 15ms/step\n",
      "model_1 0.634765625\n",
      "model_3 0.607421875\n",
      "ensemble 0.646484375\n"
     ]
    }
   ],
   "source": [
    "def get_bagging_pred(models, x):\n",
    "    pred_summ = np.full((len(x), 10), 0.)\n",
    "    for m in models:\n",
    "        pred_summ += m.predict(x)\n",
    "    pred_summ = np.array([np.argmax(i) for i in pred_summ])\n",
    "    return pred_summ\n",
    "\n",
    "\n",
    "batch = train_ds[0]\n",
    "y_true = np.array([np.argmax(i) for i in batch[1]])\n",
    "y_pred_ensemble = get_bagging_pred(models=[model_1, model_3], x=batch[0])\n",
    "y_pred_model_1 = np.array([np.argmax(i) for i in model_1.predict(batch[0])])\n",
    "y_pred_model_3 = np.array([np.argmax(i) for i in model_3.predict(batch[0])])\n",
    "\n",
    "print(\"model_1\", np.sum(y_true == y_pred_model_1) / 512)\n",
    "print(\"model_3\", np.sum(y_true == y_pred_model_3) / 512)\n",
    "print(\"ensemble\", np.sum(y_true == y_pred_ensemble) / 512)\n",
    "\n",
    "# mmm = MulticlassClassificationMetrics(y_true=y_true, y_pred=y_pred)\n",
    "# print(mmm.accuracy())"
   ]
  }
 ],
 "metadata": {
  "kernelspec": {
   "display_name": "Python 3",
   "language": "python",
   "name": "python3"
  },
  "language_info": {
   "codemirror_mode": {
    "name": "ipython",
    "version": 3
   },
   "file_extension": ".py",
   "mimetype": "text/x-python",
   "name": "python",
   "nbconvert_exporter": "python",
   "pygments_lexer": "ipython3",
   "version": "3.10.5"
  },
  "orig_nbformat": 4
 },
 "nbformat": 4,
 "nbformat_minor": 2
}
