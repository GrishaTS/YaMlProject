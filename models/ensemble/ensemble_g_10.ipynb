{
 "cells": [
  {
   "cell_type": "code",
   "execution_count": 1,
   "metadata": {},
   "outputs": [],
   "source": [
    "import pickle\n",
    "import numpy as np\n",
    "import pandas as pd"
   ]
  },
  {
   "cell_type": "code",
   "execution_count": 9,
   "metadata": {},
   "outputs": [],
   "source": [
    "pred_g23 = pickle.load(open('../checkpoint_answers/model_g_23_avg_categorical_accuracy.h5', 'rb'))"
   ]
  },
  {
   "cell_type": "code",
   "execution_count": 10,
   "metadata": {},
   "outputs": [],
   "source": [
    "ans = np.argmax(pred_g23, axis=-1)"
   ]
  },
  {
   "cell_type": "code",
   "execution_count": 11,
   "metadata": {},
   "outputs": [],
   "source": [
    "ensemble_model_name = 'model_g_23_avg_categorical_accuracy'\n",
    "ans = pd.DataFrame({'Id': np.arange(ans.shape[0]), 'Category': ans})\n",
    "ans.to_csv(f'../answers/{ensemble_model_name}.csv', index=False)"
   ]
  },
  {
   "cell_type": "code",
   "execution_count": 12,
   "metadata": {},
   "outputs": [],
   "source": [
    "pred_g24 = pickle.load(open('../checkpoint_answers/model_g_24_avg_categorical_accuracy.h5', 'rb'))\n",
    "ans = np.argmax(pred_g24, axis=-1)\n",
    "ensemble_model_name = 'model_g_24_avg_categorical_accuracy'\n",
    "ans = pd.DataFrame({'Id': np.arange(ans.shape[0]), 'Category': ans})\n",
    "ans.to_csv(f'../answers/{ensemble_model_name}.csv', index=False)"
   ]
  },
  {
   "cell_type": "code",
   "execution_count": 13,
   "metadata": {},
   "outputs": [],
   "source": [
    "pred_g21 = pickle.load(open('../checkpoint_answers/model_g_21_avg_f1_score.h5', 'rb'))\n",
    "pred_s6 = pickle.load(open('../checkpoint_answers/model_s_6_avg_f1_score.h5', 'rb'))\n",
    "pred_g11 = pickle.load(open('../checkpoint_answers/model_g_11_avg_f1_score.h5', 'rb'))\n",
    "ans = np.argmax(pred_s6 + pred_g11 + pred_g21 + pred_g24 + pred_g23, axis=-1)\n",
    "ensemble_model_name = 'ensemble_g_10_1'\n",
    "ans = pd.DataFrame({'Id': np.arange(ans.shape[0]), 'Category': ans})\n",
    "ans.to_csv(f'../answers/{ensemble_model_name}.csv', index=False)"
   ]
  },
  {
   "cell_type": "code",
   "execution_count": 14,
   "metadata": {},
   "outputs": [],
   "source": [
    "ans = np.argmax(pred_s6 + pred_g11 + pred_g21 + pred_g24 + pred_g23, axis=-1)\n",
    "ensemble_model_name = 'ensemble_g_10_2'\n",
    "ans = pd.DataFrame({'Id': np.arange(ans.shape[0]), 'Category': ans})\n",
    "ans.to_csv(f'../answers/{ensemble_model_name}.csv', index=False)"
   ]
  },
  {
   "cell_type": "code",
   "execution_count": 15,
   "metadata": {},
   "outputs": [],
   "source": [
    "pred_g25 = pickle.load(open('../checkpoint_answers/model_g_25_avg_categorical_accuracy.h5', 'rb'))\n",
    "ans = np.argmax(pred_g25, axis=-1)\n",
    "ensemble_model_name = 'model_g_25_avg_categorical_accuracy'\n",
    "ans = pd.DataFrame({'Id': np.arange(ans.shape[0]), 'Category': ans})\n",
    "ans.to_csv(f'../answers/{ensemble_model_name}.csv', index=False)"
   ]
  },
  {
   "cell_type": "code",
   "execution_count": null,
   "metadata": {},
   "outputs": [],
   "source": []
  },
  {
   "cell_type": "code",
   "execution_count": 16,
   "metadata": {},
   "outputs": [],
   "source": [
    "ans = np.argmax(pred_s6 + pred_g11 + pred_g21 + pred_g24 + pred_g23 + pred_g25, axis=-1)\n",
    "ensemble_model_name = 'ensemble_g_10_3'\n",
    "ans = pd.DataFrame({'Id': np.arange(ans.shape[0]), 'Category': ans})\n",
    "ans.to_csv(f'../answers/{ensemble_model_name}.csv', index=False)"
   ]
  },
  {
   "cell_type": "code",
   "execution_count": null,
   "metadata": {},
   "outputs": [],
   "source": []
  }
 ],
 "metadata": {
  "kernelspec": {
   "display_name": "Python 3",
   "language": "python",
   "name": "python3"
  },
  "language_info": {
   "codemirror_mode": {
    "name": "ipython",
    "version": 3
   },
   "file_extension": ".py",
   "mimetype": "text/x-python",
   "name": "python",
   "nbconvert_exporter": "python",
   "pygments_lexer": "ipython3",
   "version": "3.10.10"
  },
  "orig_nbformat": 4
 },
 "nbformat": 4,
 "nbformat_minor": 2
}
