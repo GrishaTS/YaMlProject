{
    "cells": [
        {
            "cell_type": "code",
            "execution_count": 6,
            "metadata": {},
            "outputs": [],
            "source": [
                "import sys\n",
                "\n",
                "import pandas as pd\n",
                "import numpy as np\n",
                "import tensorflow as tf\n",
                "import tensorflow_addons as tfa\n",
                "\n",
                "sys.path.append('../../')\n",
                "\n",
                "from core.datasets import open_f"
            ]
        },
        {
            "cell_type": "code",
            "execution_count": 2,
            "metadata": {},
            "outputs": [],
            "source": [
                "test_ds = open_f('repaired_data_test')\n",
                "test_ds_x = test_ds['images']"
            ]
        },
        {
            "cell_type": "code",
            "execution_count": 3,
            "metadata": {},
            "outputs": [],
            "source": [
                "model_smote = tf.keras.models.load_model(f'../checkpoints/model_s_smote_categorical_accuracy.h5')\n",
                "model_11 = tf.keras.models.load_model(f'../checkpoints/model_g_11_avg_f1_score.h5')\n",
                "model_17 = tf.keras.models.load_model(f'../checkpoints/model_g_17_avg_f1_score.h5')"
            ]
        },
        {
            "cell_type": "code",
            "execution_count": 4,
            "metadata": {},
            "outputs": [
                {
                    "name": "stdout",
                    "output_type": "stream",
                    "text": [
                        "782/782 [==============================] - 61s 76ms/step\n",
                        "782/782 [==============================] - 50s 60ms/step\n",
                        "782/782 [==============================] - 481s 614ms/step\n"
                    ]
                },
                {
                    "data": {
                        "text/plain": [
                            "array([[-2367.6067  , -1035.455   ,  -323.9233  , ..., -1450.057   ,\n",
                            "        -2057.6572  ,  -908.6744  ],\n",
                            "       [ -793.0582  ,  -361.28464 ,  -389.30612 , ...,  -766.73047 ,\n",
                            "         -267.78604 ,  -290.85773 ],\n",
                            "       [-1332.3369  ,   436.28464 ,  -977.5083  , ..., -1366.1008  ,\n",
                            "         -891.0919  ,  -941.7117  ],\n",
                            "       ...,\n",
                            "       [  802.59973 ,  -380.35938 ,  -486.48636 , ...,  -886.2434  ,\n",
                            "         -612.5506  ,    82.502304],\n",
                            "       [ -736.4425  ,  -594.68317 ,  -737.52936 , ...,  -817.02734 ,\n",
                            "         -601.5022  ,  1124.5333  ],\n",
                            "       [-3623.7334  ,  -570.4325  ,  3389.0764  , ..., -2835.6436  ,\n",
                            "        -2130.8052  , -2363.4685  ]], dtype=float32)"
                        ]
                    },
                    "execution_count": 4,
                    "metadata": {},
                    "output_type": "execute_result"
                }
            ],
            "source": [
                "pred = model_smote.predict(test_ds_x) + model_17.predict(test_ds_x) + model_11.predict(test_ds_x)\n",
                "pred"
            ]
        },
        {
            "cell_type": "code",
            "execution_count": 9,
            "metadata": {},
            "outputs": [
                {
                    "data": {
                        "text/plain": [
                            "array([5, 4, 1, ..., 0, 9, 2], dtype=int64)"
                        ]
                    },
                    "execution_count": 9,
                    "metadata": {},
                    "output_type": "execute_result"
                }
            ],
            "source": [
                "pred = np.argmax(pred, axis=-1)\n",
                "pred"
            ]
        },
        {
            "cell_type": "code",
            "execution_count": 10,
            "metadata": {},
            "outputs": [],
            "source": [
                "ensemble_model_name = 'ensemble_g_3'\n",
                "ans = pd.DataFrame({'Id': np.arange(pred.shape[0]), 'Category': pred})\n",
                "ans.to_csv(f\"../answers/{ensemble_model_name}.csv\", index=False)"
            ]
        }
    ],
    "metadata": {
        "kernelspec": {
            "display_name": "Python 3",
            "language": "python",
            "name": "python3"
        },
        "language_info": {
            "codemirror_mode": {
                "name": "ipython",
                "version": 3
            },
            "file_extension": ".py",
            "mimetype": "text/x-python",
            "name": "python",
            "nbconvert_exporter": "python",
            "pygments_lexer": "ipython3",
            "version": "3.10.10"
        },
        "orig_nbformat": 4
    },
    "nbformat": 4,
    "nbformat_minor": 2
}
