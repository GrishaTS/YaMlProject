{
 "cells": [
  {
   "cell_type": "markdown",
   "metadata": {
    "collapsed": false
   },
   "source": [
    "Перебор всех чекпоинтов"
   ]
  },
  {
   "cell_type": "code",
   "execution_count": 2,
   "metadata": {
    "collapsed": true
   },
   "outputs": [],
   "source": [
    "import sys\n",
    "import os\n",
    "import pickle\n",
    "\n",
    "sys.path.append('../../')\n",
    "\n",
    "from core.datasets import open_f\n",
    "import tensorflow as tf"
   ]
  },
  {
   "cell_type": "markdown",
   "metadata": {
    "collapsed": false
   },
   "source": [
    "скачивание тестового датасета"
   ]
  },
  {
   "cell_type": "code",
   "execution_count": 3,
   "metadata": {
    "collapsed": false
   },
   "outputs": [],
   "source": [
    "data_test = open_f('repaired_data_test', back=2)\n",
    "test_ds = data_test['images'] / 255."
   ]
  },
  {
   "cell_type": "markdown",
   "metadata": {
    "collapsed": false
   },
   "source": [
    "если нет чёрно-белого датасета, то не скачивайте"
   ]
  },
  {
   "cell_type": "code",
   "execution_count": 9,
   "metadata": {
    "collapsed": false
   },
   "outputs": [],
   "source": [
    "gray_data_test = open_f('repaired_data_test_gray', back=2)\n",
    "gray_test_ds = gray_data_test['images'] / 255."
   ]
  },
  {
   "cell_type": "code",
   "execution_count": 4,
   "metadata": {
    "collapsed": false
   },
   "outputs": [
    {
     "name": "stdout",
     "output_type": "stream",
     "text": [
      "..\\..\\models\\checkpoints\\model4_categorical_accuracy.h5 already downloaded\n",
      "..\\..\\models\\checkpoints\\model4_f1_score.h5 already downloaded\n",
      "..\\..\\models\\checkpoints\\model4_loss.h5 already downloaded\n",
      "..\\..\\models\\checkpoints\\model_C_EN_1_categorical_accuracy.h5 already downloaded\n",
      "..\\..\\models\\checkpoints\\model_C_EN_1_f1_score.h5 already downloaded\n",
      "..\\..\\models\\checkpoints\\model_C_EN_1_loss.h5 already downloaded\n",
      "..\\..\\models\\checkpoints\\model_eight_avg_categorical_accuracy.h5 already downloaded\n",
      "..\\..\\models\\checkpoints\\model_eight_avg_loss.h5 already downloaded\n",
      "..\\..\\models\\checkpoints\\model_eight_categorical_accuracy.h5 already downloaded\n",
      "..\\..\\models\\checkpoints\\model_eight_loss.h5 already downloaded\n",
      "..\\..\\models\\checkpoints\\model_five_avg_categorical_accuracy.h5 already downloaded\n",
      "..\\..\\models\\checkpoints\\model_five_avg_loss.h5 already downloaded\n",
      "..\\..\\models\\checkpoints\\model_five_categorical_accuracy.h5 already downloaded\n",
      "..\\..\\models\\checkpoints\\model_five_loss.h5 already downloaded\n",
      "..\\..\\models\\checkpoints\\model_four_avg_categorical_accuracy.h5 already downloaded\n",
      "..\\..\\models\\checkpoints\\model_four_avg_loss.h5 already downloaded\n",
      "..\\..\\models\\checkpoints\\model_four_categorical_accuracy.h5 already downloaded\n",
      "..\\..\\models\\checkpoints\\model_four_loss.h5 already downloaded\n",
      "..\\..\\models\\checkpoints\\model_g_10_avg_categorical_accuracy.h5 already downloaded\n",
      "..\\..\\models\\checkpoints\\model_g_10_avg_f1_score.h5 already downloaded\n",
      "..\\..\\models\\checkpoints\\model_g_10_avg_loss.h5 already downloaded\n",
      "..\\..\\models\\checkpoints\\model_g_10_categorical_accuracy.h5 already downloaded\n",
      "..\\..\\models\\checkpoints\\model_g_10_f1_score.h5 already downloaded\n",
      "..\\..\\models\\checkpoints\\model_g_10_loss.h5 already downloaded\n",
      "..\\..\\models\\checkpoints\\model_g_11_avg_categorical_accuracy.h5 already downloaded\n",
      "..\\..\\models\\checkpoints\\model_g_11_avg_f1_score.h5 already downloaded\n",
      "..\\..\\models\\checkpoints\\model_g_11_avg_loss.h5 already downloaded\n",
      "..\\..\\models\\checkpoints\\model_g_11_categorical_accuracy.h5 already downloaded\n",
      "..\\..\\models\\checkpoints\\model_g_11_f1_score.h5 already downloaded\n",
      "..\\..\\models\\checkpoints\\model_g_11_loss.h5 already downloaded\n",
      "..\\..\\models\\checkpoints\\model_g_12_avg_categorical_accuracy.h5 already downloaded\n",
      "..\\..\\models\\checkpoints\\model_g_12_avg_f1_score.h5 already downloaded\n",
      "..\\..\\models\\checkpoints\\model_g_12_avg_loss.h5 already downloaded\n",
      "..\\..\\models\\checkpoints\\model_g_12_categorical_accuracy.h5 already downloaded\n",
      "..\\..\\models\\checkpoints\\model_g_12_f1_score.h5 already downloaded\n",
      "..\\..\\models\\checkpoints\\model_g_12_loss.h5 already downloaded\n",
      "..\\..\\models\\checkpoints\\model_g_13_avg_categorical_accuracy.h5 already downloaded\n",
      "..\\..\\models\\checkpoints\\model_g_13_avg_f1_score.h5 already downloaded\n",
      "..\\..\\models\\checkpoints\\model_g_13_avg_loss.h5 already downloaded\n",
      "..\\..\\models\\checkpoints\\model_g_13_categorical_accuracy.h5 already downloaded\n",
      "..\\..\\models\\checkpoints\\model_g_13_f1_score.h5 already downloaded\n",
      "..\\..\\models\\checkpoints\\model_g_13_loss.h5 already downloaded\n",
      "..\\..\\models\\checkpoints\\model_g_14_avg_categorical_accuracy.h5 already downloaded\n",
      "..\\..\\models\\checkpoints\\model_g_14_avg_f1_score.h5 already downloaded\n",
      "..\\..\\models\\checkpoints\\model_g_14_avg_loss.h5 already downloaded\n",
      "..\\..\\models\\checkpoints\\model_g_14_categorical_accuracy.h5 already downloaded\n",
      "..\\..\\models\\checkpoints\\model_g_14_f1_score.h5 already downloaded\n",
      "..\\..\\models\\checkpoints\\model_g_14_loss.h5 already downloaded\n",
      "..\\..\\models\\checkpoints\\model_g_16_avg_categorical_accuracy.h5 already downloaded\n",
      "..\\..\\models\\checkpoints\\model_g_16_avg_f1_score.h5 already downloaded\n",
      "..\\..\\models\\checkpoints\\model_g_16_avg_loss.h5 already downloaded\n",
      "..\\..\\models\\checkpoints\\model_g_16_categorical_accuracy.h5 already downloaded\n",
      "..\\..\\models\\checkpoints\\model_g_16_f1_score.h5 already downloaded\n",
      "..\\..\\models\\checkpoints\\model_g_16_loss.h5 already downloaded\n",
      "..\\..\\models\\checkpoints\\model_g_17_avg_categorical_accuracy.h5 already downloaded\n",
      "..\\..\\models\\checkpoints\\model_g_17_avg_f1_score.h5 already downloaded\n",
      "..\\..\\models\\checkpoints\\model_g_17_avg_loss.h5 already downloaded\n",
      "..\\..\\models\\checkpoints\\model_g_17_categorical_accuracy.h5 already downloaded\n",
      "..\\..\\models\\checkpoints\\model_g_17_f1_score.h5 already downloaded\n",
      "..\\..\\models\\checkpoints\\model_g_17_loss.h5 already downloaded\n",
      "..\\..\\models\\checkpoints\\model_g_18_avg_categorical_accuracy.h5 already downloaded\n",
      "..\\..\\models\\checkpoints\\model_g_18_avg_f1_score.h5 already downloaded\n",
      "..\\..\\models\\checkpoints\\model_g_18_avg_loss.h5 already downloaded\n",
      "..\\..\\models\\checkpoints\\model_g_18_categorical_accuracy.h5 already downloaded\n",
      "..\\..\\models\\checkpoints\\model_g_18_f1_score.h5 already downloaded\n",
      "..\\..\\models\\checkpoints\\model_g_18_loss.h5 already downloaded\n",
      "..\\..\\models\\checkpoints\\model_g_19_avg_categorical_accuracy.h5 already downloaded\n",
      "..\\..\\models\\checkpoints\\model_g_19_avg_f1_score.h5 already downloaded\n",
      "..\\..\\models\\checkpoints\\model_g_19_avg_loss.h5 already downloaded\n",
      "..\\..\\models\\checkpoints\\model_g_19_categorical_accuracy.h5 already downloaded\n",
      "..\\..\\models\\checkpoints\\model_g_19_f1_score.h5 already downloaded\n",
      "..\\..\\models\\checkpoints\\model_g_19_loss.h5 already downloaded\n",
      "..\\..\\models\\checkpoints\\model_g_1_categorical_accuracy.h5 already downloaded\n",
      "..\\..\\models\\checkpoints\\model_g_1_f1_score.h5 already downloaded\n",
      "..\\..\\models\\checkpoints\\model_g_1_loss.h5 already downloaded\n",
      "..\\..\\models\\checkpoints\\model_g_20_avg_categorical_accuracy.h5\n",
      "782/782 [==============================] - 84s 103ms/step\n",
      "..\\..\\models\\checkpoints\\model_g_20_avg_f1_score.h5\n",
      "782/782 [==============================] - 84s 104ms/step\n",
      "..\\..\\models\\checkpoints\\model_g_20_avg_loss.h5\n",
      "782/782 [==============================] - 76s 95ms/step\n",
      "..\\..\\models\\checkpoints\\model_g_20_categorical_accuracy.h5\n",
      "782/782 [==============================] - 81s 101ms/step\n",
      "..\\..\\models\\checkpoints\\model_g_20_f1_score.h5\n",
      "782/782 [==============================] - 86s 107ms/step\n",
      "..\\..\\models\\checkpoints\\model_g_20_loss.h5\n",
      "782/782 [==============================] - 87s 109ms/step\n",
      "..\\..\\models\\checkpoints\\model_g_21_avg_categorical_accuracy.h5\n",
      "567/782 [====================>.........] - ETA: 7:04"
     ]
    },
    {
     "ename": "KeyboardInterrupt",
     "evalue": "",
     "output_type": "error",
     "traceback": [
      "\u001b[1;31m---------------------------------------------------------------------------\u001b[0m",
      "\u001b[1;31mKeyboardInterrupt\u001b[0m                         Traceback (most recent call last)",
      "Cell \u001b[1;32mIn[4], line 14\u001b[0m\n\u001b[0;32m     12\u001b[0m         predict \u001b[39m=\u001b[39m model\u001b[39m.\u001b[39mpredict(gray_test_ds)\n\u001b[0;32m     13\u001b[0m     \u001b[39melse\u001b[39;00m:\n\u001b[1;32m---> 14\u001b[0m         predict \u001b[39m=\u001b[39m model\u001b[39m.\u001b[39;49mpredict(test_ds)\n\u001b[0;32m     16\u001b[0m     pickle\u001b[39m.\u001b[39mdump(predict, \u001b[39mopen\u001b[39m(\u001b[39mf\u001b[39m\u001b[39m'\u001b[39m\u001b[39m../../models/checkpoint_answers/\u001b[39m\u001b[39m{\u001b[39;00manswer_name\u001b[39m}\u001b[39;00m\u001b[39m'\u001b[39m, \u001b[39m'\u001b[39m\u001b[39mwb\u001b[39m\u001b[39m'\u001b[39m), protocol\u001b[39m=\u001b[39mpickle\u001b[39m.\u001b[39mHIGHEST_PROTOCOL)\n\u001b[0;32m     17\u001b[0m \u001b[39melse\u001b[39;00m:\n",
      "File \u001b[1;32m~\\AppData\\Roaming\\Python\\Python310\\site-packages\\keras\\utils\\traceback_utils.py:65\u001b[0m, in \u001b[0;36mfilter_traceback.<locals>.error_handler\u001b[1;34m(*args, **kwargs)\u001b[0m\n\u001b[0;32m     63\u001b[0m filtered_tb \u001b[39m=\u001b[39m \u001b[39mNone\u001b[39;00m\n\u001b[0;32m     64\u001b[0m \u001b[39mtry\u001b[39;00m:\n\u001b[1;32m---> 65\u001b[0m     \u001b[39mreturn\u001b[39;00m fn(\u001b[39m*\u001b[39margs, \u001b[39m*\u001b[39m\u001b[39m*\u001b[39mkwargs)\n\u001b[0;32m     66\u001b[0m \u001b[39mexcept\u001b[39;00m \u001b[39mException\u001b[39;00m \u001b[39mas\u001b[39;00m e:\n\u001b[0;32m     67\u001b[0m     filtered_tb \u001b[39m=\u001b[39m _process_traceback_frames(e\u001b[39m.\u001b[39m__traceback__)\n",
      "File \u001b[1;32m~\\AppData\\Roaming\\Python\\Python310\\site-packages\\keras\\engine\\training.py:2382\u001b[0m, in \u001b[0;36mModel.predict\u001b[1;34m(self, x, batch_size, verbose, steps, callbacks, max_queue_size, workers, use_multiprocessing)\u001b[0m\n\u001b[0;32m   2380\u001b[0m \u001b[39mfor\u001b[39;00m step \u001b[39min\u001b[39;00m data_handler\u001b[39m.\u001b[39msteps():\n\u001b[0;32m   2381\u001b[0m     callbacks\u001b[39m.\u001b[39mon_predict_batch_begin(step)\n\u001b[1;32m-> 2382\u001b[0m     tmp_batch_outputs \u001b[39m=\u001b[39m \u001b[39mself\u001b[39;49m\u001b[39m.\u001b[39;49mpredict_function(iterator)\n\u001b[0;32m   2383\u001b[0m     \u001b[39mif\u001b[39;00m data_handler\u001b[39m.\u001b[39mshould_sync:\n\u001b[0;32m   2384\u001b[0m         context\u001b[39m.\u001b[39masync_wait()\n",
      "File \u001b[1;32m~\\AppData\\Roaming\\Python\\Python310\\site-packages\\tensorflow\\python\\util\\traceback_utils.py:150\u001b[0m, in \u001b[0;36mfilter_traceback.<locals>.error_handler\u001b[1;34m(*args, **kwargs)\u001b[0m\n\u001b[0;32m    148\u001b[0m filtered_tb \u001b[39m=\u001b[39m \u001b[39mNone\u001b[39;00m\n\u001b[0;32m    149\u001b[0m \u001b[39mtry\u001b[39;00m:\n\u001b[1;32m--> 150\u001b[0m   \u001b[39mreturn\u001b[39;00m fn(\u001b[39m*\u001b[39margs, \u001b[39m*\u001b[39m\u001b[39m*\u001b[39mkwargs)\n\u001b[0;32m    151\u001b[0m \u001b[39mexcept\u001b[39;00m \u001b[39mException\u001b[39;00m \u001b[39mas\u001b[39;00m e:\n\u001b[0;32m    152\u001b[0m   filtered_tb \u001b[39m=\u001b[39m _process_traceback_frames(e\u001b[39m.\u001b[39m__traceback__)\n",
      "File \u001b[1;32m~\\AppData\\Roaming\\Python\\Python310\\site-packages\\tensorflow\\python\\eager\\polymorphic_function\\polymorphic_function.py:894\u001b[0m, in \u001b[0;36mFunction.__call__\u001b[1;34m(self, *args, **kwds)\u001b[0m\n\u001b[0;32m    891\u001b[0m compiler \u001b[39m=\u001b[39m \u001b[39m\"\u001b[39m\u001b[39mxla\u001b[39m\u001b[39m\"\u001b[39m \u001b[39mif\u001b[39;00m \u001b[39mself\u001b[39m\u001b[39m.\u001b[39m_jit_compile \u001b[39melse\u001b[39;00m \u001b[39m\"\u001b[39m\u001b[39mnonXla\u001b[39m\u001b[39m\"\u001b[39m\n\u001b[0;32m    893\u001b[0m \u001b[39mwith\u001b[39;00m OptionalXlaContext(\u001b[39mself\u001b[39m\u001b[39m.\u001b[39m_jit_compile):\n\u001b[1;32m--> 894\u001b[0m   result \u001b[39m=\u001b[39m \u001b[39mself\u001b[39m\u001b[39m.\u001b[39m_call(\u001b[39m*\u001b[39margs, \u001b[39m*\u001b[39m\u001b[39m*\u001b[39mkwds)\n\u001b[0;32m    896\u001b[0m new_tracing_count \u001b[39m=\u001b[39m \u001b[39mself\u001b[39m\u001b[39m.\u001b[39mexperimental_get_tracing_count()\n\u001b[0;32m    897\u001b[0m without_tracing \u001b[39m=\u001b[39m (tracing_count \u001b[39m==\u001b[39m new_tracing_count)\n",
      "File \u001b[1;32m~\\AppData\\Roaming\\Python\\Python310\\site-packages\\tensorflow\\python\\eager\\polymorphic_function\\polymorphic_function.py:933\u001b[0m, in \u001b[0;36mFunction._call\u001b[1;34m(self, *args, **kwds)\u001b[0m\n\u001b[0;32m    930\u001b[0m \u001b[39mself\u001b[39m\u001b[39m.\u001b[39m_lock\u001b[39m.\u001b[39mrelease()\n\u001b[0;32m    931\u001b[0m \u001b[39m# In this case we have not created variables on the first call. So we can\u001b[39;00m\n\u001b[0;32m    932\u001b[0m \u001b[39m# run the first trace but we should fail if variables are created.\u001b[39;00m\n\u001b[1;32m--> 933\u001b[0m results \u001b[39m=\u001b[39m \u001b[39mself\u001b[39m\u001b[39m.\u001b[39m_variable_creation_fn(\u001b[39m*\u001b[39margs, \u001b[39m*\u001b[39m\u001b[39m*\u001b[39mkwds)\n\u001b[0;32m    934\u001b[0m \u001b[39mif\u001b[39;00m \u001b[39mself\u001b[39m\u001b[39m.\u001b[39m_created_variables \u001b[39mand\u001b[39;00m \u001b[39mnot\u001b[39;00m ALLOW_DYNAMIC_VARIABLE_CREATION:\n\u001b[0;32m    935\u001b[0m   \u001b[39mraise\u001b[39;00m \u001b[39mValueError\u001b[39;00m(\u001b[39m\"\u001b[39m\u001b[39mCreating variables on a non-first call to a function\u001b[39m\u001b[39m\"\u001b[39m\n\u001b[0;32m    936\u001b[0m                    \u001b[39m\"\u001b[39m\u001b[39m decorated with tf.function.\u001b[39m\u001b[39m\"\u001b[39m)\n",
      "File \u001b[1;32m~\\AppData\\Roaming\\Python\\Python310\\site-packages\\tensorflow\\python\\eager\\polymorphic_function\\tracing_compiler.py:143\u001b[0m, in \u001b[0;36mTracingCompiler.__call__\u001b[1;34m(self, *args, **kwargs)\u001b[0m\n\u001b[0;32m    140\u001b[0m \u001b[39mwith\u001b[39;00m \u001b[39mself\u001b[39m\u001b[39m.\u001b[39m_lock:\n\u001b[0;32m    141\u001b[0m   (concrete_function,\n\u001b[0;32m    142\u001b[0m    filtered_flat_args) \u001b[39m=\u001b[39m \u001b[39mself\u001b[39m\u001b[39m.\u001b[39m_maybe_define_function(args, kwargs)\n\u001b[1;32m--> 143\u001b[0m \u001b[39mreturn\u001b[39;00m concrete_function\u001b[39m.\u001b[39;49m_call_flat(\n\u001b[0;32m    144\u001b[0m     filtered_flat_args, captured_inputs\u001b[39m=\u001b[39;49mconcrete_function\u001b[39m.\u001b[39;49mcaptured_inputs)\n",
      "File \u001b[1;32m~\\AppData\\Roaming\\Python\\Python310\\site-packages\\tensorflow\\python\\eager\\polymorphic_function\\monomorphic_function.py:1757\u001b[0m, in \u001b[0;36mConcreteFunction._call_flat\u001b[1;34m(self, args, captured_inputs, cancellation_manager)\u001b[0m\n\u001b[0;32m   1753\u001b[0m possible_gradient_type \u001b[39m=\u001b[39m gradients_util\u001b[39m.\u001b[39mPossibleTapeGradientTypes(args)\n\u001b[0;32m   1754\u001b[0m \u001b[39mif\u001b[39;00m (possible_gradient_type \u001b[39m==\u001b[39m gradients_util\u001b[39m.\u001b[39mPOSSIBLE_GRADIENT_TYPES_NONE\n\u001b[0;32m   1755\u001b[0m     \u001b[39mand\u001b[39;00m executing_eagerly):\n\u001b[0;32m   1756\u001b[0m   \u001b[39m# No tape is watching; skip to running the function.\u001b[39;00m\n\u001b[1;32m-> 1757\u001b[0m   \u001b[39mreturn\u001b[39;00m \u001b[39mself\u001b[39m\u001b[39m.\u001b[39m_build_call_outputs(\u001b[39mself\u001b[39;49m\u001b[39m.\u001b[39;49m_inference_function\u001b[39m.\u001b[39;49mcall(\n\u001b[0;32m   1758\u001b[0m       ctx, args, cancellation_manager\u001b[39m=\u001b[39;49mcancellation_manager))\n\u001b[0;32m   1759\u001b[0m forward_backward \u001b[39m=\u001b[39m \u001b[39mself\u001b[39m\u001b[39m.\u001b[39m_select_forward_and_backward_functions(\n\u001b[0;32m   1760\u001b[0m     args,\n\u001b[0;32m   1761\u001b[0m     possible_gradient_type,\n\u001b[0;32m   1762\u001b[0m     executing_eagerly)\n\u001b[0;32m   1763\u001b[0m forward_function, args_with_tangents \u001b[39m=\u001b[39m forward_backward\u001b[39m.\u001b[39mforward()\n",
      "File \u001b[1;32m~\\AppData\\Roaming\\Python\\Python310\\site-packages\\tensorflow\\python\\eager\\polymorphic_function\\monomorphic_function.py:381\u001b[0m, in \u001b[0;36m_EagerDefinedFunction.call\u001b[1;34m(self, ctx, args, cancellation_manager)\u001b[0m\n\u001b[0;32m    379\u001b[0m \u001b[39mwith\u001b[39;00m _InterpolateFunctionError(\u001b[39mself\u001b[39m):\n\u001b[0;32m    380\u001b[0m   \u001b[39mif\u001b[39;00m cancellation_manager \u001b[39mis\u001b[39;00m \u001b[39mNone\u001b[39;00m:\n\u001b[1;32m--> 381\u001b[0m     outputs \u001b[39m=\u001b[39m execute\u001b[39m.\u001b[39;49mexecute(\n\u001b[0;32m    382\u001b[0m         \u001b[39mstr\u001b[39;49m(\u001b[39mself\u001b[39;49m\u001b[39m.\u001b[39;49msignature\u001b[39m.\u001b[39;49mname),\n\u001b[0;32m    383\u001b[0m         num_outputs\u001b[39m=\u001b[39;49m\u001b[39mself\u001b[39;49m\u001b[39m.\u001b[39;49m_num_outputs,\n\u001b[0;32m    384\u001b[0m         inputs\u001b[39m=\u001b[39;49margs,\n\u001b[0;32m    385\u001b[0m         attrs\u001b[39m=\u001b[39;49mattrs,\n\u001b[0;32m    386\u001b[0m         ctx\u001b[39m=\u001b[39;49mctx)\n\u001b[0;32m    387\u001b[0m   \u001b[39melse\u001b[39;00m:\n\u001b[0;32m    388\u001b[0m     outputs \u001b[39m=\u001b[39m execute\u001b[39m.\u001b[39mexecute_with_cancellation(\n\u001b[0;32m    389\u001b[0m         \u001b[39mstr\u001b[39m(\u001b[39mself\u001b[39m\u001b[39m.\u001b[39msignature\u001b[39m.\u001b[39mname),\n\u001b[0;32m    390\u001b[0m         num_outputs\u001b[39m=\u001b[39m\u001b[39mself\u001b[39m\u001b[39m.\u001b[39m_num_outputs,\n\u001b[1;32m   (...)\u001b[0m\n\u001b[0;32m    393\u001b[0m         ctx\u001b[39m=\u001b[39mctx,\n\u001b[0;32m    394\u001b[0m         cancellation_manager\u001b[39m=\u001b[39mcancellation_manager)\n",
      "File \u001b[1;32m~\\AppData\\Roaming\\Python\\Python310\\site-packages\\tensorflow\\python\\eager\\execute.py:52\u001b[0m, in \u001b[0;36mquick_execute\u001b[1;34m(op_name, num_outputs, inputs, attrs, ctx, name)\u001b[0m\n\u001b[0;32m     50\u001b[0m \u001b[39mtry\u001b[39;00m:\n\u001b[0;32m     51\u001b[0m   ctx\u001b[39m.\u001b[39mensure_initialized()\n\u001b[1;32m---> 52\u001b[0m   tensors \u001b[39m=\u001b[39m pywrap_tfe\u001b[39m.\u001b[39;49mTFE_Py_Execute(ctx\u001b[39m.\u001b[39;49m_handle, device_name, op_name,\n\u001b[0;32m     53\u001b[0m                                       inputs, attrs, num_outputs)\n\u001b[0;32m     54\u001b[0m \u001b[39mexcept\u001b[39;00m core\u001b[39m.\u001b[39m_NotOkStatusException \u001b[39mas\u001b[39;00m e:\n\u001b[0;32m     55\u001b[0m   \u001b[39mif\u001b[39;00m name \u001b[39mis\u001b[39;00m \u001b[39mnot\u001b[39;00m \u001b[39mNone\u001b[39;00m:\n",
      "\u001b[1;31mKeyboardInterrupt\u001b[0m: "
     ]
    }
   ],
   "source": [
    "directory = '..\\..\\models\\checkpoints'\n",
    "gray = \"model_s_5\"\n",
    "\n",
    "for model_name in os.scandir(directory):\n",
    "    answer_name = model_name.path.split('\\\\')[-1]\n",
    "\n",
    "    if not os.path.exists(f'../../models/checkpoint_answers/{answer_name}'):\n",
    "        print(model_name.path)\n",
    "        model = tf.keras.models.load_model(model_name.path, compile=False)\n",
    "\n",
    "        if gray in model_name.path:\n",
    "            predict = model.predict(gray_test_ds)\n",
    "        else:\n",
    "            predict = model.predict(test_ds)\n",
    "\n",
    "        pickle.dump(predict, open(f'../../models/checkpoint_answers/{answer_name}', 'wb'), protocol=pickle.HIGHEST_PROTOCOL)\n",
    "    else:\n",
    "        print(f'{model_name.path} already downloaded')\n"
   ]
  },
  {
   "cell_type": "code",
   "execution_count": null,
   "metadata": {},
   "outputs": [],
   "source": []
  }
 ],
 "metadata": {
  "kernelspec": {
   "display_name": "Python 3",
   "language": "python",
   "name": "python3"
  },
  "language_info": {
   "codemirror_mode": {
    "name": "ipython",
    "version": 3
   },
   "file_extension": ".py",
   "mimetype": "text/x-python",
   "name": "python",
   "nbconvert_exporter": "python",
   "pygments_lexer": "ipython3",
   "version": "3.10.10"
  }
 },
 "nbformat": 4,
 "nbformat_minor": 0
}
