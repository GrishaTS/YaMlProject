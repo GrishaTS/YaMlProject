{
 "cells": [
  {
   "cell_type": "code",
   "execution_count": 11,
   "metadata": {},
   "outputs": [],
   "source": [
    "import pickle\n",
    "import numpy as np\n",
    "import pandas as pd"
   ]
  },
  {
   "cell_type": "code",
   "execution_count": 12,
   "metadata": {},
   "outputs": [],
   "source": [
    "pred_g21 = pickle.load(open('../checkpoint_answers/model_g_21_avg_f1_score.h5', 'rb'))\n",
    "pred_s6 = pickle.load(open('../checkpoint_answers/model_s_6_avg_f1_score.h5', 'rb'))\n",
    "pred_g11 = pickle.load(open('../checkpoint_answers/model_g_11_avg_f1_score.h5', 'rb'))"
   ]
  },
  {
   "cell_type": "code",
   "execution_count": 13,
   "metadata": {},
   "outputs": [],
   "source": [
    "ans = np.argmax(pred_s6 + pred_g11 + pred_g21, axis=-1)"
   ]
  },
  {
   "cell_type": "code",
   "execution_count": 14,
   "metadata": {},
   "outputs": [],
   "source": [
    "ensemble_model_name = 'ensemble_g_1_1'\n",
    "ans = pd.DataFrame({'Id': np.arange(ans.shape[0]), 'Category': ans})\n",
    "ans.to_csv(f'../answers/{ensemble_model_name}.csv', index=False)"
   ]
  },
  {
   "cell_type": "code",
   "execution_count": null,
   "metadata": {},
   "outputs": [],
   "source": []
  }
 ],
 "metadata": {
  "kernelspec": {
   "display_name": "Python 3",
   "language": "python",
   "name": "python3"
  },
  "language_info": {
   "codemirror_mode": {
    "name": "ipython",
    "version": 3
   },
   "file_extension": ".py",
   "mimetype": "text/x-python",
   "name": "python",
   "nbconvert_exporter": "python",
   "pygments_lexer": "ipython3",
   "version": "3.10.10"
  },
  "orig_nbformat": 4
 },
 "nbformat": 4,
 "nbformat_minor": 2
}
