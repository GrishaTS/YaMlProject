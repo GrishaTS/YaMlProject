{
 "cells": [
  {
   "cell_type": "markdown",
   "metadata": {
    "id": "r2yiHhUx-S72"
   },
   "source": [
    "# Модель-пример с обновлённым датасетом(OverSampling)"
   ]
  },
  {
   "cell_type": "markdown",
   "metadata": {
    "id": "svYRwNDL-S75"
   },
   "source": [
    "#### Импорт необходимых библиотек"
   ]
  },
  {
   "cell_type": "code",
   "execution_count": 3,
   "metadata": {
    "colab": {
     "base_uri": "https://localhost:8080/"
    },
    "executionInfo": {
     "elapsed": 10183,
     "status": "ok",
     "timestamp": 1681236348708,
     "user": {
      "displayName": "Михаил Глазов",
      "userId": "14831628976106288763"
     },
     "user_tz": -180
    },
    "id": "Zq7rWgSDecBY",
    "outputId": "9183dd17-7af3-4f7b-e27d-9784573c7def"
   },
   "outputs": [
    {
     "name": "stdout",
     "output_type": "stream",
     "text": [
      "Looking in indexes: https://pypi.org/simple, https://us-python.pkg.dev/colab-wheels/public/simple/\n",
      "Collecting tensorflow-addons\n",
      "  Downloading tensorflow_addons-0.20.0-cp39-cp39-manylinux_2_17_x86_64.manylinux2014_x86_64.whl (591 kB)\n",
      "\u001b[2K     \u001b[90m━━━━━━━━━━━━━━━━━━━━━━━━━━━━━━━━━━━━━━\u001b[0m \u001b[32m591.0/591.0 kB\u001b[0m \u001b[31m22.8 MB/s\u001b[0m eta \u001b[36m0:00:00\u001b[0m\n",
      "\u001b[?25hRequirement already satisfied: packaging in /usr/local/lib/python3.9/dist-packages (from tensorflow-addons) (23.0)\n",
      "Collecting typeguard<3.0.0,>=2.7\n",
      "  Downloading typeguard-2.13.3-py3-none-any.whl (17 kB)\n",
      "Installing collected packages: typeguard, tensorflow-addons\n",
      "Successfully installed tensorflow-addons-0.20.0 typeguard-2.13.3\n",
      "Looking in indexes: https://pypi.org/simple, https://us-python.pkg.dev/colab-wheels/public/simple/\n",
      "Collecting livelossplot\n",
      "  Downloading livelossplot-0.5.5-py3-none-any.whl (22 kB)\n",
      "Requirement already satisfied: bokeh in /usr/local/lib/python3.9/dist-packages (from livelossplot) (2.4.3)\n",
      "Requirement already satisfied: matplotlib in /usr/local/lib/python3.9/dist-packages (from livelossplot) (3.7.1)\n",
      "Requirement already satisfied: packaging>=16.8 in /usr/local/lib/python3.9/dist-packages (from bokeh->livelossplot) (23.0)\n",
      "Requirement already satisfied: tornado>=5.1 in /usr/local/lib/python3.9/dist-packages (from bokeh->livelossplot) (6.2)\n",
      "Requirement already satisfied: pillow>=7.1.0 in /usr/local/lib/python3.9/dist-packages (from bokeh->livelossplot) (8.4.0)\n",
      "Requirement already satisfied: Jinja2>=2.9 in /usr/local/lib/python3.9/dist-packages (from bokeh->livelossplot) (3.1.2)\n",
      "Requirement already satisfied: typing-extensions>=3.10.0 in /usr/local/lib/python3.9/dist-packages (from bokeh->livelossplot) (4.5.0)\n",
      "Requirement already satisfied: PyYAML>=3.10 in /usr/local/lib/python3.9/dist-packages (from bokeh->livelossplot) (6.0)\n",
      "Requirement already satisfied: numpy>=1.11.3 in /usr/local/lib/python3.9/dist-packages (from bokeh->livelossplot) (1.22.4)\n",
      "Requirement already satisfied: fonttools>=4.22.0 in /usr/local/lib/python3.9/dist-packages (from matplotlib->livelossplot) (4.39.3)\n",
      "Requirement already satisfied: python-dateutil>=2.7 in /usr/local/lib/python3.9/dist-packages (from matplotlib->livelossplot) (2.8.2)\n",
      "Requirement already satisfied: cycler>=0.10 in /usr/local/lib/python3.9/dist-packages (from matplotlib->livelossplot) (0.11.0)\n",
      "Requirement already satisfied: kiwisolver>=1.0.1 in /usr/local/lib/python3.9/dist-packages (from matplotlib->livelossplot) (1.4.4)\n",
      "Requirement already satisfied: pyparsing>=2.3.1 in /usr/local/lib/python3.9/dist-packages (from matplotlib->livelossplot) (3.0.9)\n",
      "Requirement already satisfied: contourpy>=1.0.1 in /usr/local/lib/python3.9/dist-packages (from matplotlib->livelossplot) (1.0.7)\n",
      "Requirement already satisfied: importlib-resources>=3.2.0 in /usr/local/lib/python3.9/dist-packages (from matplotlib->livelossplot) (5.12.0)\n",
      "Requirement already satisfied: zipp>=3.1.0 in /usr/local/lib/python3.9/dist-packages (from importlib-resources>=3.2.0->matplotlib->livelossplot) (3.15.0)\n",
      "Requirement already satisfied: MarkupSafe>=2.0 in /usr/local/lib/python3.9/dist-packages (from Jinja2>=2.9->bokeh->livelossplot) (2.1.2)\n",
      "Requirement already satisfied: six>=1.5 in /usr/local/lib/python3.9/dist-packages (from python-dateutil>=2.7->matplotlib->livelossplot) (1.16.0)\n",
      "Installing collected packages: livelossplot\n",
      "Successfully installed livelossplot-0.5.5\n"
     ]
    }
   ],
   "source": [
    "!pip install tensorflow-addons\n",
    "!pip install livelossplot"
   ]
  },
  {
   "cell_type": "code",
   "execution_count": 4,
   "metadata": {
    "colab": {
     "base_uri": "https://localhost:8080/"
    },
    "executionInfo": {
     "elapsed": 901,
     "status": "ok",
     "timestamp": 1681236431104,
     "user": {
      "displayName": "Михаил Глазов",
      "userId": "14831628976106288763"
     },
     "user_tz": -180
    },
    "id": "yyTOIOizfuJ-",
    "outputId": "ba088d58-099c-4a84-8d94-7efadcf91140"
   },
   "outputs": [
    {
     "name": "stdout",
     "output_type": "stream",
     "text": [
      "/content/drive/MyDrive/project/YaMlProject\n"
     ]
    }
   ],
   "source": [
    "%cd drive/MyDrive/project/YaMlProject/"
   ]
  },
  {
   "cell_type": "code",
   "execution_count": 5,
   "metadata": {
    "colab": {
     "base_uri": "https://localhost:8080/"
    },
    "executionInfo": {
     "elapsed": 3032,
     "status": "ok",
     "timestamp": 1681236480847,
     "user": {
      "displayName": "Михаил Глазов",
      "userId": "14831628976106288763"
     },
     "user_tz": -180
    },
    "id": "nYflAO2U-S76",
    "outputId": "ba3c64a4-62fb-48c5-fe08-59cc752b1b79"
   },
   "outputs": [
    {
     "name": "stderr",
     "output_type": "stream",
     "text": [
      "/usr/local/lib/python3.9/dist-packages/tensorflow_addons/utils/tfa_eol_msg.py:23: UserWarning: \n",
      "\n",
      "TensorFlow Addons (TFA) has ended development and introduction of new features.\n",
      "TFA has entered a minimal maintenance and release mode until a planned end of life in May 2024.\n",
      "Please modify downstream libraries to take dependencies from other repositories in our TensorFlow community (e.g. Keras, Keras-CV, and Keras-NLP). \n",
      "\n",
      "For more information see: https://github.com/tensorflow/addons/issues/2807 \n",
      "\n",
      "  warnings.warn(\n"
     ]
    }
   ],
   "source": [
    "import sys\n",
    "\n",
    "import numpy as np\n",
    "import pandas as pd\n",
    "from PIL import Image\n",
    "import tensorflow as tf\n",
    "import torchvision as tv\n",
    "import matplotlib.pyplot as plt\n",
    "import tensorflow_addons as tfa\n",
    "from livelossplot import PlotLossesKeras\n",
    "\n",
    "# sys.path.append('../../')\n",
    "\n",
    "from core.datasets import get_ds\n",
    "from core.make_answer import make_ans_file"
   ]
  },
  {
   "cell_type": "markdown",
   "metadata": {
    "id": "NR69MtS_-S77"
   },
   "source": [
    "#### Формируем аугментацию."
   ]
  },
  {
   "cell_type": "code",
   "execution_count": 6,
   "metadata": {
    "executionInfo": {
     "elapsed": 2,
     "status": "ok",
     "timestamp": 1681236488416,
     "user": {
      "displayName": "Михаил Глазов",
      "userId": "14831628976106288763"
     },
     "user_tz": -180
    },
    "id": "ERpTFZ21-S77"
   },
   "outputs": [],
   "source": [
    "transformer = tv.transforms.Compose([\n",
    "    tv.transforms.ColorJitter(brightness=.2, hue=0.2, contrast=0.5),\n",
    "    tv.transforms.RandomAffine(degrees=(-10, 10), translate=(0, 0.1), scale=(0.85, 1)),\n",
    "    tv.transforms.RandomPerspective(distortion_scale=0.2, p=0.7),\n",
    "])"
   ]
  },
  {
   "cell_type": "code",
   "execution_count": 8,
   "metadata": {
    "executionInfo": {
     "elapsed": 35782,
     "status": "ok",
     "timestamp": 1681236542651,
     "user": {
      "displayName": "Михаил Глазов",
      "userId": "14831628976106288763"
     },
     "user_tz": -180
    },
    "id": "b7Qx9WqK-S78"
   },
   "outputs": [],
   "source": [
    "train_ds, val_ds, test_ds = get_ds('smote_data_train_9650', 'repaired_data_test', transform=transformer, one_hot=True, back=0)"
   ]
  },
  {
   "cell_type": "code",
   "execution_count": 9,
   "metadata": {
    "executionInfo": {
     "elapsed": 4277,
     "status": "ok",
     "timestamp": 1681236555684,
     "user": {
      "displayName": "Михаил Глазов",
      "userId": "14831628976106288763"
     },
     "user_tz": -180
    },
    "id": "cXVwzb401hzb"
   },
   "outputs": [],
   "source": [
    "val_ds_x = np.array([i[0] for i in val_ds.unbatch().as_numpy_iterator()])\n",
    "val_ds_y = np.array([i[1] for i in val_ds.unbatch().as_numpy_iterator()])"
   ]
  },
  {
   "cell_type": "markdown",
   "metadata": {
    "id": "_Vcj5spc1hzc"
   },
   "source": [
    "Смотрим на получившуюся агументацию."
   ]
  },
  {
   "cell_type": "code",
   "execution_count": 10,
   "metadata": {
    "colab": {
     "base_uri": "https://localhost:8080/",
     "height": 1000
    },
    "executionInfo": {
     "elapsed": 3020,
     "status": "ok",
     "timestamp": 1681236562499,
     "user": {
      "displayName": "Михаил Глазов",
      "userId": "14831628976106288763"
     },
     "user_tz": -180
    },
    "id": "3ygOCG_F1hzc",
    "outputId": "07a8d3ad-f870-4669-de97-89f15eae6d48"
   },
   "outputs": [
    {
     "data": {
      "image/png": "[encoded data removed]",
      "text/plain": [
       "<Figure size 1200x1500 with 20 Axes>"
      ]
     },
     "metadata": {},
     "output_type": "display_data"
    }
   ],
   "source": [
    "plt.figure(figsize=(12, 15))\n",
    "train_ds_visualization = train_ds[0]\n",
    "for i in range(20):\n",
    "    plt.subplot(5, 4, i + 1)\n",
    "    img = np.array(Image.fromarray((train_ds_visualization[0][i] * 255).astype(np.uint8), 'RGB'))\n",
    "    plt.imshow(img / 255, cmap=plt.cm.binary)\n",
    "    plt.title(np.argmax(train_ds_visualization[1][i]))\n",
    "    plt.axis('off')\n",
    "plt.show()"
   ]
  },
  {
   "attachments": {},
   "cell_type": "markdown",
   "metadata": {
    "id": "DXxkKTtS-S78"
   },
   "source": [
    "#### Пишем модель"
   ]
  },
  {
   "cell_type": "code",
   "execution_count": 11,
   "metadata": {
    "colab": {
     "base_uri": "https://localhost:8080/"
    },
    "executionInfo": {
     "elapsed": 719,
     "status": "ok",
     "timestamp": 1681236572487,
     "user": {
      "displayName": "Михаил Глазов",
      "userId": "14831628976106288763"
     },
     "user_tz": -180
    },
    "id": "sf6H9-ZM-S79",
    "outputId": "53b56ffe-c791-4e8b-b2dd-28e3ccd09eb2"
   },
   "outputs": [
    {
     "name": "stdout",
     "output_type": "stream",
     "text": [
      "Model: \"sequential\"\n",
      "_________________________________________________________________\n",
      " Layer (type)                Output Shape              Param #   \n",
      "=================================================================\n",
      " conv2d (Conv2D)             (512, 30, 30, 32)         896       \n",
      "                                                                 \n",
      " conv2d_1 (Conv2D)           (512, 28, 28, 64)         18496     \n",
      "                                                                 \n",
      " batch_normalization (BatchN  (512, 28, 28, 64)        256       \n",
      " ormalization)                                                   \n",
      "                                                                 \n",
      " average_pooling2d (AverageP  (512, 14, 14, 64)        0         \n",
      " ooling2D)                                                       \n",
      "                                                                 \n",
      " conv2d_2 (Conv2D)           (512, 12, 12, 128)        73856     \n",
      "                                                                 \n",
      " average_pooling2d_1 (Averag  (512, 6, 6, 128)         0         \n",
      " ePooling2D)                                                     \n",
      "                                                                 \n",
      " flatten (Flatten)           (512, 4608)               0         \n",
      "                                                                 \n",
      " dense (Dense)               (512, 128)                589952    \n",
      "                                                                 \n",
      " dropout (Dropout)           (512, 128)                0         \n",
      "                                                                 \n",
      " dense_1 (Dense)             (512, 64)                 8256      \n",
      "                                                                 \n",
      " dense_2 (Dense)             (512, 10)                 650       \n",
      "                                                                 \n",
      "=================================================================\n",
      "Total params: 692,362\n",
      "Trainable params: 692,234\n",
      "Non-trainable params: 128\n",
      "_________________________________________________________________\n"
     ]
    }
   ],
   "source": [
    "model = tf.keras.Sequential([\n",
    "    tf.keras.Input(shape=(32, 32, 3), batch_size=512),\n",
    "    tf.keras.layers.Conv2D(32, (3, 3), activation='relu'),\n",
    "    tf.keras.layers.Conv2D(64, (3, 3), activation='relu'),\n",
    "    tf.keras.layers.BatchNormalization(),\n",
    "    tf.keras.layers.AveragePooling2D((2, 2)),\n",
    "    tf.keras.layers.Conv2D(128, (3, 3), activation='relu'),\n",
    "    tf.keras.layers.AveragePooling2D((2, 2)),\n",
    "    tf.keras.layers.Flatten(),\n",
    "    tf.keras.layers.Dense(128, activation='relu'),\n",
    "    tf.keras.layers.Dropout(0,2),\n",
    "    tf.keras.layers.Dense(64, activation='relu'),\n",
    "    tf.keras.layers.Dense(10),\n",
    "])\n",
    "model.summary()"
   ]
  },
  {
   "attachments": {},
   "cell_type": "markdown",
   "metadata": {
    "id": "sOWsT-ag1hzh"
   },
   "source": [
    "#### Создаем чекпоинты"
   ]
  },
  {
   "cell_type": "code",
   "execution_count": 12,
   "metadata": {
    "executionInfo": {
     "elapsed": 307,
     "status": "ok",
     "timestamp": 1681236577748,
     "user": {
      "displayName": "Михаил Глазов",
      "userId": "14831628976106288763"
     },
     "user_tz": -180
    },
    "id": "3uG2pykA1hzh"
   },
   "outputs": [],
   "source": [
    "metrics = ['categorical_accuracy',\n",
    "           tfa.metrics.F1Score(num_classes=10, average='macro', name='f1_score')]\n",
    "num_model = '_s_smote'\n",
    "callbacks = [\n",
    "    PlotLossesKeras(),\n",
    "    tf.keras.callbacks.ModelCheckpoint(\n",
    "        filepath=f'../checkpoints/model{num_model}_categorical_accuracy.h5',\n",
    "        monitor='val_categorical_accuracy',\n",
    "        mode='max',\n",
    "        save_best_only=True,\n",
    "    ),\n",
    "    tf.keras.callbacks.ModelCheckpoint(\n",
    "        filepath=f'../checkpoints/model{num_model}_loss.h5',\n",
    "        monitor='val_loss',\n",
    "        mode='min',\n",
    "        save_best_only=True,\n",
    "    ),\n",
    "    tf.keras.callbacks.ModelCheckpoint(\n",
    "        filepath=f'../checkpoints/model{num_model}_f1_score.h5',\n",
    "        monitor='val_f1_score',\n",
    "        mode='max',\n",
    "        save_best_only=True,\n",
    "    ),\n",
    "\n",
    "    tfa.callbacks.AverageModelCheckpoint(\n",
    "        update_weights=False,\n",
    "        filepath=f'../checkpoints/model{num_model}_avg_categorical_accuracy.h5',\n",
    "        monitor='val_categorical_accuracy',\n",
    "        mode='max',\n",
    "        save_best_only=True,\n",
    "    ),\n",
    "    tfa.callbacks.AverageModelCheckpoint(\n",
    "        update_weights=False,\n",
    "        filepath=f'../checkpoints/model{num_model}_avg_loss.h5',\n",
    "        monitor='val_loss',\n",
    "        mode='min',\n",
    "        save_best_only=True,\n",
    "    ),\n",
    "    tfa.callbacks.AverageModelCheckpoint(\n",
    "        update_weights=False,\n",
    "        filepath=f'../checkpoints/model{num_model}_avg_f1_score.h5',\n",
    "        monitor='val_f1_score',\n",
    "        mode='max',\n",
    "        save_best_only=True,\n",
    "    )\n",
    "]"
   ]
  },
  {
   "attachments": {},
   "cell_type": "markdown",
   "metadata": {
    "id": "wzTRYrou-S79"
   },
   "source": [
    "#### Компиляция модели"
   ]
  },
  {
   "cell_type": "code",
   "execution_count": 13,
   "metadata": {
    "executionInfo": {
     "elapsed": 312,
     "status": "ok",
     "timestamp": 1681236585986,
     "user": {
      "displayName": "Михаил Глазов",
      "userId": "14831628976106288763"
     },
     "user_tz": -180
    },
    "id": "yBYZOVgK-S7-"
   },
   "outputs": [],
   "source": [
    "model.compile(\n",
    "    optimizer=tfa.optimizers.MovingAverage(tf.keras.optimizers.legacy.Adam()),\n",
    "    metrics=metrics,\n",
    "    loss=tf.keras.losses.CategoricalCrossentropy(from_logits=True),\n",
    ")"
   ]
  },
  {
   "cell_type": "code",
   "execution_count": 2,
   "metadata": {
    "colab": {
     "base_uri": "https://localhost:8080/"
    },
    "executionInfo": {
     "elapsed": 20482,
     "status": "ok",
     "timestamp": 1681236208271,
     "user": {
      "displayName": "Михаил Глазов",
      "userId": "14831628976106288763"
     },
     "user_tz": -180
    },
    "id": "jWAAXsxKfEWp",
    "outputId": "b5633013-3ad7-4870-f719-d8aa59a0c010"
   },
   "outputs": [
    {
     "name": "stdout",
     "output_type": "stream",
     "text": [
      "Mounted at /content/drive\n"
     ]
    }
   ],
   "source": [
    "from google.colab import drive\n",
    "drive.mount('/content/drive')"
   ]
  },
  {
   "cell_type": "markdown",
   "metadata": {
    "id": "Ne9pPgJI-S7-"
   },
   "source": [
    "#### Обучаем модель"
   ]
  },
  {
   "cell_type": "code",
   "execution_count": 14,
   "metadata": {
    "colab": {
     "base_uri": "https://localhost:8080/",
     "height": 1000
    },
    "executionInfo": {
     "elapsed": 11575266,
     "status": "ok",
     "timestamp": 1681248165735,
     "user": {
      "displayName": "Михаил Глазов",
      "userId": "14831628976106288763"
     },
     "user_tz": -180
    },
    "id": "mbiNiTlx-S7_",
    "outputId": "6c41c3d0-8325-4c1b-a5a2-a09e15c6aeff"
   },
   "outputs": [
    {
     "data": {
      "image/png": "[encoded data removed]",
      "text/plain": [
       "<Figure size 1200x1200 with 4 Axes>"
      ]
     },
     "metadata": {},
     "output_type": "display_data"
    },
    {
     "name": "stdout",
     "output_type": "stream",
     "text": [
      "categorical_accuracy\n",
      "\ttraining         \t (min:    0.573, max:    0.979, cur:    0.979)\n",
      "\tvalidation       \t (min:    0.827, max:    0.974, cur:    0.972)\n",
      "f1_score\n",
      "\ttraining         \t (min:    0.572, max:    0.979, cur:    0.979)\n",
      "\tvalidation       \t (min:    0.828, max:    0.974, cur:    0.971)\n",
      "Loss\n",
      "\ttraining         \t (min:    0.065, max:    1.276, cur:    0.065)\n",
      "\tvalidation       \t (min:    0.129, max:    1.895, cur:    0.138)\n",
      "\b\b\b\b\b\b\b\b\b\b\b\b\b\b\b\b\b\b\b\b\b\b\b\b\b\b\b\b\b\b\b\b\b\b\b\b\b\b\b\b\b\b\b\b\b\b\b\b\b\b\b\b\b\b\b\b\b\b\b\b\b\b\b\b\b\b\b\b\b\b\b\b\b\b\b\b\b\b\b\b\b\b\b\b\b\b\b\b\b\b\b\b\b\b\b\b\b\b\b\b\b\b\b\b\b\b\b\b\b\b\b\b\b\b\b\r176/176 [==============================] - 112s 639ms/step - loss: 0.0646 - categorical_accuracy: 0.9793 - f1_score: 0.9793 - val_loss: 0.1375 - val_categorical_accuracy: 0.9716 - val_f1_score: 0.9714\n"
     ]
    },
    {
     "data": {
      "text/plain": [
       "<keras.callbacks.History at 0x7f0e0478fac0>"
      ]
     },
     "execution_count": 14,
     "metadata": {},
     "output_type": "execute_result"
    }
   ],
   "source": [
    "model.fit(train_ds, validation_data=val_ds,\n",
    "            epochs=100, callbacks=callbacks, verbose=1)"
   ]
  },
  {
   "cell_type": "markdown",
   "metadata": {
    "id": "luv78DSO-S7_"
   },
   "source": [
    "Подгружаем все чекпоинты"
   ]
  },
  {
   "cell_type": "code",
   "execution_count": 15,
   "metadata": {
    "executionInfo": {
     "elapsed": 12305,
     "status": "ok",
     "timestamp": 1681248179608,
     "user": {
      "displayName": "Михаил Глазов",
      "userId": "14831628976106288763"
     },
     "user_tz": -180
    },
    "id": "g264umVz1hzv"
   },
   "outputs": [],
   "source": [
    "model_categorical_acc = tf.keras.models.load_model(f'../checkpoints/model{num_model}_categorical_accuracy.h5')\n",
    "model_f1_score = tf.keras.models.load_model(f'../checkpoints/model{num_model}_f1_score.h5')\n",
    "model_loss = tf.keras.models.load_model(f'../checkpoints/model{num_model}_loss.h5')\n",
    "model_avg_categorical_acc = tf.keras.models.load_model(f'../checkpoints/model{num_model}_avg_categorical_accuracy.h5')\n",
    "model_avg_f1_score = tf.keras.models.load_model(f'../checkpoints/model{num_model}_avg_f1_score.h5')\n",
    "model_avg_loss = tf.keras.models.load_model(f'../checkpoints/model{num_model}_avg_loss.h5')"
   ]
  },
  {
   "cell_type": "markdown",
   "metadata": {
    "id": "r7i-3GRn-S7_"
   },
   "source": [
    "У нас поличилось 6 чекпоинтов (6 моделей). Ниже указан код для получения ответов для всех чекпоинтов по валидационному датасету."
   ]
  },
  {
   "cell_type": "code",
   "execution_count": 16,
   "metadata": {
    "executionInfo": {
     "elapsed": 6702,
     "status": "ok",
     "timestamp": 1681248209083,
     "user": {
      "displayName": "Михаил Глазов",
      "userId": "14831628976106288763"
     },
     "user_tz": -180
    },
    "id": "u-cKSLLm1hzx"
   },
   "outputs": [],
   "source": [
    "ans_val_categorical_accuracy = make_ans_file(model_categorical_acc, val_ds_x)\n",
    "ans_val_f1_score = make_ans_file(model_f1_score, val_ds_x)\n",
    "ans_val_loss = make_ans_file(model_loss, val_ds_x)\n",
    "ans_val_avg_categorical_accuracy = make_ans_file(model_avg_categorical_acc, val_ds_x)\n",
    "ans_val_avg_f1_score = make_ans_file(model_avg_f1_score, val_ds_x)\n",
    "ans_val_avg_loss = make_ans_file(model_avg_loss, val_ds_x)\n",
    "anss = [ans_val_categorical_accuracy, ans_val_f1_score, ans_val_loss, ans_val_avg_categorical_accuracy, ans_val_avg_f1_score, ans_val_avg_loss]"
   ]
  },
  {
   "cell_type": "markdown",
   "metadata": {
    "id": "az3iBS0W1hzx"
   },
   "source": [
    "Формируем валидационные ответы."
   ]
  },
  {
   "cell_type": "code",
   "execution_count": 17,
   "metadata": {
    "executionInfo": {
     "elapsed": 838,
     "status": "ok",
     "timestamp": 1681248341655,
     "user": {
      "displayName": "Михаил Глазов",
      "userId": "14831628976106288763"
     },
     "user_tz": -180
    },
    "id": "OpY_REt31hzy"
   },
   "outputs": [],
   "source": [
    "val_ds_y = np.argmax(val_ds_y, axis=1)"
   ]
  },
  {
   "cell_type": "markdown",
   "metadata": {
    "id": "sqmvqg641hzy"
   },
   "source": [
    "Сравниваем валидационные предикты каждого чекпоинта"
   ]
  },
  {
   "cell_type": "code",
   "execution_count": 19,
   "metadata": {
    "executionInfo": {
     "elapsed": 488,
     "status": "ok",
     "timestamp": 1681248351237,
     "user": {
      "displayName": "Михаил Глазов",
      "userId": "14831628976106288763"
     },
     "user_tz": -180
    },
    "id": "Op5vVeQp1hz9"
   },
   "outputs": [],
   "source": [
    "class MulticlassClassificationMetrics:\n",
    "    def __init__(self, y_true, y_pred):\n",
    "        self.y_true = np.array(y_true)\n",
    "        self.y_pred = np.array(y_pred)\n",
    "        self.matrix_error = self.get_matrix_error()\n",
    "\n",
    "    def get_matrix_error(self):\n",
    "        self.class_types = np.unique([self.y_true, self.y_pred])\n",
    "        TP, FN, FP, TN = [], [], [], []\n",
    "        for class_type in self.class_types:\n",
    "            TP.append(np.sum(np.logical_and(self.y_true == self.y_pred, self.y_true == class_type)))\n",
    "            FN.append(np.sum(np.logical_and(self.y_true == class_type, self.y_pred != class_type)))\n",
    "            FP.append(np.sum(np.logical_and(self.y_pred == class_type, self.y_true != class_type)))\n",
    "            TN.append(np.sum(np.logical_and(self.y_pred != class_type, self.y_true != class_type)))\n",
    "        return pd.DataFrame({\n",
    "            'class_type': self.class_types,\n",
    "            'TP': TP, 'TN': TN, 'FP': FP, 'FN': FN,\n",
    "        }).set_index('class_type')\n",
    "\n",
    "    def accuracy(self):\n",
    "        return np.sum(self.y_true == self.y_pred) / self.y_true.shape[0]\n",
    "\n",
    "    def precision(self, averaging='macro'):\n",
    "        if averaging == 'macro':\n",
    "            precisions = self.matrix_error['TP'] / (self.matrix_error['TP'] + self.matrix_error['FP'])\n",
    "            return np.mean(precisions.replace(np.nan, 0))\n",
    "        elif averaging == 'micro':\n",
    "            mean_val = self.matrix_error.mean()\n",
    "            return mean_val['TP'] / (mean_val['TP'] + mean_val['FP'])\n",
    "\n",
    "    def recall(self, averaging='macro'):\n",
    "        if averaging == 'macro':\n",
    "            recalls = self.matrix_error['TP'] / (self.matrix_error['TP'] + self.matrix_error['FN'])\n",
    "            return np.mean(recalls.replace(np.nan, 0))\n",
    "        elif averaging == 'micro':\n",
    "            mean_val = self.matrix_error.mean()\n",
    "            return mean_val['TP'] / (mean_val['TP'] + mean_val['FN'])\n",
    "\n",
    "    def f1_score(self, averaging='macro'):\n",
    "        if averaging == 'macro':\n",
    "            reverse_r = (self.matrix_error['TP'] + self.matrix_error['FN']) / self.matrix_error['TP']\n",
    "            reverse_p = (self.matrix_error['TP'] + self.matrix_error['FP']) / self.matrix_error['TP']\n",
    "            f1_scores = 2 / (reverse_r + reverse_p)\n",
    "            return np.mean(f1_scores.replace(np.nan, 0))\n",
    "        elif averaging == 'micro':\n",
    "            p = self.precision(averaging)\n",
    "            r = self.recall(averaging)\n",
    "            return 2 * p * r / (p + r)\n",
    "\n",
    "    def metrics(self, averaging='macro'):\n",
    "        return {\n",
    "            'accuracy': self.accuracy(),\n",
    "            'precision': self.precision(averaging),\n",
    "            'recall': self.recall(averaging),\n",
    "            'f1_score': self.f1_score(averaging),\n",
    "        }\n",
    "\n",
    "    def __str__(self):\n",
    "        headers = {\n",
    "            'selector': '*',\n",
    "            'props': 'background-color: darkgreen; color: white; font-size: 12pt;',\n",
    "        }\n",
    "        che_super_mega_puper_visualization_of_cell = { \n",
    "            'selector': 'td:hover',\n",
    "            'props': 'background-color: green; color: white;',\n",
    "        }\n",
    "        display(\n",
    "            self.matrix_error\n",
    "            .style\n",
    "            .set_table_styles([\n",
    "                headers,\n",
    "                che_super_mega_puper_visualization_of_cell,\n",
    "            ])\n",
    "            .set_properties(**{'background-color': 'lightgreen',\n",
    "                           'color': 'black', 'font-size': '12pt'})\n",
    "        )\n",
    "        return ''\n",
    "\n",
    "    def __repr__(self):\n",
    "        return (\n",
    "            f'MulticlassClassificationMetrics(class_types={self.class_types})'\n",
    "            .replace(\"'\", '').replace(',', ';'))"
   ]
  },
  {
   "cell_type": "markdown",
   "metadata": {
    "id": "uhWptjbN1hz_"
   },
   "source": [
    "### Accuracy чекпоинт"
   ]
  },
  {
   "cell_type": "code",
   "execution_count": 21,
   "metadata": {
    "colab": {
     "base_uri": "https://localhost:8080/",
     "height": 535
    },
    "executionInfo": {
     "elapsed": 11,
     "status": "ok",
     "timestamp": 1681248359716,
     "user": {
      "displayName": "Михаил Глазов",
      "userId": "14831628976106288763"
     },
     "user_tz": -180
    },
    "id": "h_X5LFRj1h0A",
    "outputId": "81f524f7-ccb2-4b09-e7b7-25a8b3399c74"
   },
   "outputs": [
    {
     "data": {
      "text/html": [
       "<style type=\"text/css\">\n",
       "#T_670f6 * {\n",
       "  background-color: darkgreen;\n",
       "  color: white;\n",
       "  font-size: 12pt;\n",
       "}\n",
       "#T_670f6 td:hover {\n",
       "  background-color: green;\n",
       "  color: white;\n",
       "}\n",
       "#T_670f6_row0_col0, #T_670f6_row0_col1, #T_670f6_row0_col2, #T_670f6_row0_col3, #T_670f6_row1_col0, #T_670f6_row1_col1, #T_670f6_row1_col2, #T_670f6_row1_col3, #T_670f6_row2_col0, #T_670f6_row2_col1, #T_670f6_row2_col2, #T_670f6_row2_col3, #T_670f6_row3_col0, #T_670f6_row3_col1, #T_670f6_row3_col2, #T_670f6_row3_col3, #T_670f6_row4_col0, #T_670f6_row4_col1, #T_670f6_row4_col2, #T_670f6_row4_col3, #T_670f6_row5_col0, #T_670f6_row5_col1, #T_670f6_row5_col2, #T_670f6_row5_col3, #T_670f6_row6_col0, #T_670f6_row6_col1, #T_670f6_row6_col2, #T_670f6_row6_col3, #T_670f6_row7_col0, #T_670f6_row7_col1, #T_670f6_row7_col2, #T_670f6_row7_col3, #T_670f6_row8_col0, #T_670f6_row8_col1, #T_670f6_row8_col2, #T_670f6_row8_col3, #T_670f6_row9_col0, #T_670f6_row9_col1, #T_670f6_row9_col2, #T_670f6_row9_col3 {\n",
       "  background-color: lightgreen;\n",
       "  color: black;\n",
       "  font-size: 12pt;\n",
       "}\n",
       "</style>\n",
       "<table id=\"T_670f6\" class=\"dataframe\">\n",
       "  <thead>\n",
       "    <tr>\n",
       "      <th class=\"blank level0\" >&nbsp;</th>\n",
       "      <th id=\"T_670f6_level0_col0\" class=\"col_heading level0 col0\" >TP</th>\n",
       "      <th id=\"T_670f6_level0_col1\" class=\"col_heading level0 col1\" >TN</th>\n",
       "      <th id=\"T_670f6_level0_col2\" class=\"col_heading level0 col2\" >FP</th>\n",
       "      <th id=\"T_670f6_level0_col3\" class=\"col_heading level0 col3\" >FN</th>\n",
       "    </tr>\n",
       "    <tr>\n",
       "      <th class=\"index_name level0\" >class_type</th>\n",
       "      <th class=\"blank col0\" >&nbsp;</th>\n",
       "      <th class=\"blank col1\" >&nbsp;</th>\n",
       "      <th class=\"blank col2\" >&nbsp;</th>\n",
       "      <th class=\"blank col3\" >&nbsp;</th>\n",
       "    </tr>\n",
       "  </thead>\n",
       "  <tbody>\n",
       "    <tr>\n",
       "      <th id=\"T_670f6_level0_row0\" class=\"row_heading level0 row0\" >0</th>\n",
       "      <td id=\"T_670f6_row0_col0\" class=\"data row0 col0\" >685</td>\n",
       "      <td id=\"T_670f6_row0_col1\" class=\"data row0 col1\" >6050</td>\n",
       "      <td id=\"T_670f6_row0_col2\" class=\"data row0 col2\" >6</td>\n",
       "      <td id=\"T_670f6_row0_col3\" class=\"data row0 col3\" >15</td>\n",
       "    </tr>\n",
       "    <tr>\n",
       "      <th id=\"T_670f6_level0_row1\" class=\"row_heading level0 row1\" >1</th>\n",
       "      <td id=\"T_670f6_row1_col0\" class=\"data row1 col0\" >638</td>\n",
       "      <td id=\"T_670f6_row1_col1\" class=\"data row1 col1\" >6060</td>\n",
       "      <td id=\"T_670f6_row1_col2\" class=\"data row1 col2\" >33</td>\n",
       "      <td id=\"T_670f6_row1_col3\" class=\"data row1 col3\" >25</td>\n",
       "    </tr>\n",
       "    <tr>\n",
       "      <th id=\"T_670f6_level0_row2\" class=\"row_heading level0 row2\" >2</th>\n",
       "      <td id=\"T_670f6_row2_col0\" class=\"data row2 col0\" >667</td>\n",
       "      <td id=\"T_670f6_row2_col1\" class=\"data row2 col1\" >6054</td>\n",
       "      <td id=\"T_670f6_row2_col2\" class=\"data row2 col2\" >13</td>\n",
       "      <td id=\"T_670f6_row2_col3\" class=\"data row2 col3\" >22</td>\n",
       "    </tr>\n",
       "    <tr>\n",
       "      <th id=\"T_670f6_level0_row3\" class=\"row_heading level0 row3\" >3</th>\n",
       "      <td id=\"T_670f6_row3_col0\" class=\"data row3 col0\" >684</td>\n",
       "      <td id=\"T_670f6_row3_col1\" class=\"data row3 col1\" >6025</td>\n",
       "      <td id=\"T_670f6_row3_col2\" class=\"data row3 col2\" >20</td>\n",
       "      <td id=\"T_670f6_row3_col3\" class=\"data row3 col3\" >27</td>\n",
       "    </tr>\n",
       "    <tr>\n",
       "      <th id=\"T_670f6_level0_row4\" class=\"row_heading level0 row4\" >4</th>\n",
       "      <td id=\"T_670f6_row4_col0\" class=\"data row4 col0\" >651</td>\n",
       "      <td id=\"T_670f6_row4_col1\" class=\"data row4 col1\" >6080</td>\n",
       "      <td id=\"T_670f6_row4_col2\" class=\"data row4 col2\" >18</td>\n",
       "      <td id=\"T_670f6_row4_col3\" class=\"data row4 col3\" >7</td>\n",
       "    </tr>\n",
       "    <tr>\n",
       "      <th id=\"T_670f6_level0_row5\" class=\"row_heading level0 row5\" >5</th>\n",
       "      <td id=\"T_670f6_row5_col0\" class=\"data row5 col0\" >585</td>\n",
       "      <td id=\"T_670f6_row5_col1\" class=\"data row5 col1\" >6133</td>\n",
       "      <td id=\"T_670f6_row5_col2\" class=\"data row5 col2\" >10</td>\n",
       "      <td id=\"T_670f6_row5_col3\" class=\"data row5 col3\" >28</td>\n",
       "    </tr>\n",
       "    <tr>\n",
       "      <th id=\"T_670f6_level0_row6\" class=\"row_heading level0 row6\" >6</th>\n",
       "      <td id=\"T_670f6_row6_col0\" class=\"data row6 col0\" >676</td>\n",
       "      <td id=\"T_670f6_row6_col1\" class=\"data row6 col1\" >6045</td>\n",
       "      <td id=\"T_670f6_row6_col2\" class=\"data row6 col2\" >17</td>\n",
       "      <td id=\"T_670f6_row6_col3\" class=\"data row6 col3\" >18</td>\n",
       "    </tr>\n",
       "    <tr>\n",
       "      <th id=\"T_670f6_level0_row7\" class=\"row_heading level0 row7\" >7</th>\n",
       "      <td id=\"T_670f6_row7_col0\" class=\"data row7 col0\" >690</td>\n",
       "      <td id=\"T_670f6_row7_col1\" class=\"data row7 col1\" >6037</td>\n",
       "      <td id=\"T_670f6_row7_col2\" class=\"data row7 col2\" >18</td>\n",
       "      <td id=\"T_670f6_row7_col3\" class=\"data row7 col3\" >11</td>\n",
       "    </tr>\n",
       "    <tr>\n",
       "      <th id=\"T_670f6_level0_row8\" class=\"row_heading level0 row8\" >8</th>\n",
       "      <td id=\"T_670f6_row8_col0\" class=\"data row8 col0\" >636</td>\n",
       "      <td id=\"T_670f6_row8_col1\" class=\"data row8 col1\" >6089</td>\n",
       "      <td id=\"T_670f6_row8_col2\" class=\"data row8 col2\" >24</td>\n",
       "      <td id=\"T_670f6_row8_col3\" class=\"data row8 col3\" >7</td>\n",
       "    </tr>\n",
       "    <tr>\n",
       "      <th id=\"T_670f6_level0_row9\" class=\"row_heading level0 row9\" >9</th>\n",
       "      <td id=\"T_670f6_row9_col0\" class=\"data row9 col0\" >667</td>\n",
       "      <td id=\"T_670f6_row9_col1\" class=\"data row9 col1\" >6054</td>\n",
       "      <td id=\"T_670f6_row9_col2\" class=\"data row9 col2\" >18</td>\n",
       "      <td id=\"T_670f6_row9_col3\" class=\"data row9 col3\" >17</td>\n",
       "    </tr>\n",
       "  </tbody>\n",
       "</table>\n"
      ],
      "text/plain": [
       "<pandas.io.formats.style.Styler at 0x7f0dfc51a550>"
      ]
     },
     "metadata": {},
     "output_type": "display_data"
    },
    {
     "name": "stdout",
     "output_type": "stream",
     "text": [
      "\n"
     ]
    },
    {
     "data": {
      "text/plain": [
       "{'accuracy': 0.9738010657193605,\n",
       " 'precision': 0.9738301551889383,\n",
       " 'recall': 0.9737274985294869,\n",
       " 'f1_score': 0.9737172941781086}"
      ]
     },
     "execution_count": 21,
     "metadata": {},
     "output_type": "execute_result"
    }
   ],
   "source": [
    "metrics = MulticlassClassificationMetrics(val_ds_y, ans_val_categorical_accuracy)\n",
    "print(metrics)\n",
    "metrics.metrics()"
   ]
  },
  {
   "cell_type": "markdown",
   "metadata": {
    "id": "7VAzf7n0dECw"
   },
   "source": [
    "### Loss чекпоинт"
   ]
  },
  {
   "cell_type": "code",
   "execution_count": 23,
   "metadata": {
    "colab": {
     "base_uri": "https://localhost:8080/",
     "height": 535
    },
    "executionInfo": {
     "elapsed": 6,
     "status": "ok",
     "timestamp": 1681248371099,
     "user": {
      "displayName": "Михаил Глазов",
      "userId": "14831628976106288763"
     },
     "user_tz": -180
    },
    "id": "_OupAVHFdECx",
    "outputId": "2c8c2571-c87d-41ff-d7ca-e5fb0db6ce1a"
   },
   "outputs": [
    {
     "data": {
      "text/html": [
       "<style type=\"text/css\">\n",
       "#T_dcb92 * {\n",
       "  background-color: darkgreen;\n",
       "  color: white;\n",
       "  font-size: 12pt;\n",
       "}\n",
       "#T_dcb92 td:hover {\n",
       "  background-color: green;\n",
       "  color: white;\n",
       "}\n",
       "#T_dcb92_row0_col0, #T_dcb92_row0_col1, #T_dcb92_row0_col2, #T_dcb92_row0_col3, #T_dcb92_row1_col0, #T_dcb92_row1_col1, #T_dcb92_row1_col2, #T_dcb92_row1_col3, #T_dcb92_row2_col0, #T_dcb92_row2_col1, #T_dcb92_row2_col2, #T_dcb92_row2_col3, #T_dcb92_row3_col0, #T_dcb92_row3_col1, #T_dcb92_row3_col2, #T_dcb92_row3_col3, #T_dcb92_row4_col0, #T_dcb92_row4_col1, #T_dcb92_row4_col2, #T_dcb92_row4_col3, #T_dcb92_row5_col0, #T_dcb92_row5_col1, #T_dcb92_row5_col2, #T_dcb92_row5_col3, #T_dcb92_row6_col0, #T_dcb92_row6_col1, #T_dcb92_row6_col2, #T_dcb92_row6_col3, #T_dcb92_row7_col0, #T_dcb92_row7_col1, #T_dcb92_row7_col2, #T_dcb92_row7_col3, #T_dcb92_row8_col0, #T_dcb92_row8_col1, #T_dcb92_row8_col2, #T_dcb92_row8_col3, #T_dcb92_row9_col0, #T_dcb92_row9_col1, #T_dcb92_row9_col2, #T_dcb92_row9_col3 {\n",
       "  background-color: lightgreen;\n",
       "  color: black;\n",
       "  font-size: 12pt;\n",
       "}\n",
       "</style>\n",
       "<table id=\"T_dcb92\" class=\"dataframe\">\n",
       "  <thead>\n",
       "    <tr>\n",
       "      <th class=\"blank level0\" >&nbsp;</th>\n",
       "      <th id=\"T_dcb92_level0_col0\" class=\"col_heading level0 col0\" >TP</th>\n",
       "      <th id=\"T_dcb92_level0_col1\" class=\"col_heading level0 col1\" >TN</th>\n",
       "      <th id=\"T_dcb92_level0_col2\" class=\"col_heading level0 col2\" >FP</th>\n",
       "      <th id=\"T_dcb92_level0_col3\" class=\"col_heading level0 col3\" >FN</th>\n",
       "    </tr>\n",
       "    <tr>\n",
       "      <th class=\"index_name level0\" >class_type</th>\n",
       "      <th class=\"blank col0\" >&nbsp;</th>\n",
       "      <th class=\"blank col1\" >&nbsp;</th>\n",
       "      <th class=\"blank col2\" >&nbsp;</th>\n",
       "      <th class=\"blank col3\" >&nbsp;</th>\n",
       "    </tr>\n",
       "  </thead>\n",
       "  <tbody>\n",
       "    <tr>\n",
       "      <th id=\"T_dcb92_level0_row0\" class=\"row_heading level0 row0\" >0</th>\n",
       "      <td id=\"T_dcb92_row0_col0\" class=\"data row0 col0\" >685</td>\n",
       "      <td id=\"T_dcb92_row0_col1\" class=\"data row0 col1\" >6050</td>\n",
       "      <td id=\"T_dcb92_row0_col2\" class=\"data row0 col2\" >6</td>\n",
       "      <td id=\"T_dcb92_row0_col3\" class=\"data row0 col3\" >15</td>\n",
       "    </tr>\n",
       "    <tr>\n",
       "      <th id=\"T_dcb92_level0_row1\" class=\"row_heading level0 row1\" >1</th>\n",
       "      <td id=\"T_dcb92_row1_col0\" class=\"data row1 col0\" >638</td>\n",
       "      <td id=\"T_dcb92_row1_col1\" class=\"data row1 col1\" >6060</td>\n",
       "      <td id=\"T_dcb92_row1_col2\" class=\"data row1 col2\" >33</td>\n",
       "      <td id=\"T_dcb92_row1_col3\" class=\"data row1 col3\" >25</td>\n",
       "    </tr>\n",
       "    <tr>\n",
       "      <th id=\"T_dcb92_level0_row2\" class=\"row_heading level0 row2\" >2</th>\n",
       "      <td id=\"T_dcb92_row2_col0\" class=\"data row2 col0\" >667</td>\n",
       "      <td id=\"T_dcb92_row2_col1\" class=\"data row2 col1\" >6054</td>\n",
       "      <td id=\"T_dcb92_row2_col2\" class=\"data row2 col2\" >13</td>\n",
       "      <td id=\"T_dcb92_row2_col3\" class=\"data row2 col3\" >22</td>\n",
       "    </tr>\n",
       "    <tr>\n",
       "      <th id=\"T_dcb92_level0_row3\" class=\"row_heading level0 row3\" >3</th>\n",
       "      <td id=\"T_dcb92_row3_col0\" class=\"data row3 col0\" >684</td>\n",
       "      <td id=\"T_dcb92_row3_col1\" class=\"data row3 col1\" >6025</td>\n",
       "      <td id=\"T_dcb92_row3_col2\" class=\"data row3 col2\" >20</td>\n",
       "      <td id=\"T_dcb92_row3_col3\" class=\"data row3 col3\" >27</td>\n",
       "    </tr>\n",
       "    <tr>\n",
       "      <th id=\"T_dcb92_level0_row4\" class=\"row_heading level0 row4\" >4</th>\n",
       "      <td id=\"T_dcb92_row4_col0\" class=\"data row4 col0\" >651</td>\n",
       "      <td id=\"T_dcb92_row4_col1\" class=\"data row4 col1\" >6080</td>\n",
       "      <td id=\"T_dcb92_row4_col2\" class=\"data row4 col2\" >18</td>\n",
       "      <td id=\"T_dcb92_row4_col3\" class=\"data row4 col3\" >7</td>\n",
       "    </tr>\n",
       "    <tr>\n",
       "      <th id=\"T_dcb92_level0_row5\" class=\"row_heading level0 row5\" >5</th>\n",
       "      <td id=\"T_dcb92_row5_col0\" class=\"data row5 col0\" >585</td>\n",
       "      <td id=\"T_dcb92_row5_col1\" class=\"data row5 col1\" >6133</td>\n",
       "      <td id=\"T_dcb92_row5_col2\" class=\"data row5 col2\" >10</td>\n",
       "      <td id=\"T_dcb92_row5_col3\" class=\"data row5 col3\" >28</td>\n",
       "    </tr>\n",
       "    <tr>\n",
       "      <th id=\"T_dcb92_level0_row6\" class=\"row_heading level0 row6\" >6</th>\n",
       "      <td id=\"T_dcb92_row6_col0\" class=\"data row6 col0\" >676</td>\n",
       "      <td id=\"T_dcb92_row6_col1\" class=\"data row6 col1\" >6045</td>\n",
       "      <td id=\"T_dcb92_row6_col2\" class=\"data row6 col2\" >17</td>\n",
       "      <td id=\"T_dcb92_row6_col3\" class=\"data row6 col3\" >18</td>\n",
       "    </tr>\n",
       "    <tr>\n",
       "      <th id=\"T_dcb92_level0_row7\" class=\"row_heading level0 row7\" >7</th>\n",
       "      <td id=\"T_dcb92_row7_col0\" class=\"data row7 col0\" >690</td>\n",
       "      <td id=\"T_dcb92_row7_col1\" class=\"data row7 col1\" >6037</td>\n",
       "      <td id=\"T_dcb92_row7_col2\" class=\"data row7 col2\" >18</td>\n",
       "      <td id=\"T_dcb92_row7_col3\" class=\"data row7 col3\" >11</td>\n",
       "    </tr>\n",
       "    <tr>\n",
       "      <th id=\"T_dcb92_level0_row8\" class=\"row_heading level0 row8\" >8</th>\n",
       "      <td id=\"T_dcb92_row8_col0\" class=\"data row8 col0\" >636</td>\n",
       "      <td id=\"T_dcb92_row8_col1\" class=\"data row8 col1\" >6089</td>\n",
       "      <td id=\"T_dcb92_row8_col2\" class=\"data row8 col2\" >24</td>\n",
       "      <td id=\"T_dcb92_row8_col3\" class=\"data row8 col3\" >7</td>\n",
       "    </tr>\n",
       "    <tr>\n",
       "      <th id=\"T_dcb92_level0_row9\" class=\"row_heading level0 row9\" >9</th>\n",
       "      <td id=\"T_dcb92_row9_col0\" class=\"data row9 col0\" >667</td>\n",
       "      <td id=\"T_dcb92_row9_col1\" class=\"data row9 col1\" >6054</td>\n",
       "      <td id=\"T_dcb92_row9_col2\" class=\"data row9 col2\" >18</td>\n",
       "      <td id=\"T_dcb92_row9_col3\" class=\"data row9 col3\" >17</td>\n",
       "    </tr>\n",
       "  </tbody>\n",
       "</table>\n"
      ],
      "text/plain": [
       "<pandas.io.formats.style.Styler at 0x7f0dfc767ac0>"
      ]
     },
     "metadata": {},
     "output_type": "display_data"
    },
    {
     "name": "stdout",
     "output_type": "stream",
     "text": [
      "\n"
     ]
    },
    {
     "data": {
      "text/plain": [
       "{'accuracy': 0.9738010657193605,\n",
       " 'precision': 0.9738301551889383,\n",
       " 'recall': 0.9737274985294869,\n",
       " 'f1_score': 0.9737172941781086}"
      ]
     },
     "execution_count": 23,
     "metadata": {},
     "output_type": "execute_result"
    }
   ],
   "source": [
    "metrics = MulticlassClassificationMetrics(val_ds_y, ans_val_f1_score)\n",
    "print(metrics)\n",
    "metrics.metrics()"
   ]
  },
  {
   "cell_type": "markdown",
   "metadata": {
    "id": "-zzPcbmSdECx"
   },
   "source": [
    "- $FN_1=19$.\n",
    "- $FP_2=19$.\n",
    "\n",
    "Модель плохо справляется с единицами и двойками.\n",
    "\n",
    "Метрики неплохие."
   ]
  },
  {
   "cell_type": "markdown",
   "metadata": {
    "id": "-RomA9mSnbEX"
   },
   "source": [
    "### Среднее скользящее по accuracy чекпоинт"
   ]
  },
  {
   "cell_type": "code",
   "execution_count": 24,
   "metadata": {
    "colab": {
     "base_uri": "https://localhost:8080/",
     "height": 535
    },
    "executionInfo": {
     "elapsed": 444,
     "status": "ok",
     "timestamp": 1681248377191,
     "user": {
      "displayName": "Михаил Глазов",
      "userId": "14831628976106288763"
     },
     "user_tz": -180
    },
    "id": "FbPidiv_nzkj",
    "outputId": "abbba389-7a88-4a29-cb41-85d647743fa6"
   },
   "outputs": [
    {
     "data": {
      "text/html": [
       "<style type=\"text/css\">\n",
       "#T_70a25 * {\n",
       "  background-color: darkgreen;\n",
       "  color: white;\n",
       "  font-size: 12pt;\n",
       "}\n",
       "#T_70a25 td:hover {\n",
       "  background-color: green;\n",
       "  color: white;\n",
       "}\n",
       "#T_70a25_row0_col0, #T_70a25_row0_col1, #T_70a25_row0_col2, #T_70a25_row0_col3, #T_70a25_row1_col0, #T_70a25_row1_col1, #T_70a25_row1_col2, #T_70a25_row1_col3, #T_70a25_row2_col0, #T_70a25_row2_col1, #T_70a25_row2_col2, #T_70a25_row2_col3, #T_70a25_row3_col0, #T_70a25_row3_col1, #T_70a25_row3_col2, #T_70a25_row3_col3, #T_70a25_row4_col0, #T_70a25_row4_col1, #T_70a25_row4_col2, #T_70a25_row4_col3, #T_70a25_row5_col0, #T_70a25_row5_col1, #T_70a25_row5_col2, #T_70a25_row5_col3, #T_70a25_row6_col0, #T_70a25_row6_col1, #T_70a25_row6_col2, #T_70a25_row6_col3, #T_70a25_row7_col0, #T_70a25_row7_col1, #T_70a25_row7_col2, #T_70a25_row7_col3, #T_70a25_row8_col0, #T_70a25_row8_col1, #T_70a25_row8_col2, #T_70a25_row8_col3, #T_70a25_row9_col0, #T_70a25_row9_col1, #T_70a25_row9_col2, #T_70a25_row9_col3 {\n",
       "  background-color: lightgreen;\n",
       "  color: black;\n",
       "  font-size: 12pt;\n",
       "}\n",
       "</style>\n",
       "<table id=\"T_70a25\" class=\"dataframe\">\n",
       "  <thead>\n",
       "    <tr>\n",
       "      <th class=\"blank level0\" >&nbsp;</th>\n",
       "      <th id=\"T_70a25_level0_col0\" class=\"col_heading level0 col0\" >TP</th>\n",
       "      <th id=\"T_70a25_level0_col1\" class=\"col_heading level0 col1\" >TN</th>\n",
       "      <th id=\"T_70a25_level0_col2\" class=\"col_heading level0 col2\" >FP</th>\n",
       "      <th id=\"T_70a25_level0_col3\" class=\"col_heading level0 col3\" >FN</th>\n",
       "    </tr>\n",
       "    <tr>\n",
       "      <th class=\"index_name level0\" >class_type</th>\n",
       "      <th class=\"blank col0\" >&nbsp;</th>\n",
       "      <th class=\"blank col1\" >&nbsp;</th>\n",
       "      <th class=\"blank col2\" >&nbsp;</th>\n",
       "      <th class=\"blank col3\" >&nbsp;</th>\n",
       "    </tr>\n",
       "  </thead>\n",
       "  <tbody>\n",
       "    <tr>\n",
       "      <th id=\"T_70a25_level0_row0\" class=\"row_heading level0 row0\" >0</th>\n",
       "      <td id=\"T_70a25_row0_col0\" class=\"data row0 col0\" >690</td>\n",
       "      <td id=\"T_70a25_row0_col1\" class=\"data row0 col1\" >6046</td>\n",
       "      <td id=\"T_70a25_row0_col2\" class=\"data row0 col2\" >10</td>\n",
       "      <td id=\"T_70a25_row0_col3\" class=\"data row0 col3\" >10</td>\n",
       "    </tr>\n",
       "    <tr>\n",
       "      <th id=\"T_70a25_level0_row1\" class=\"row_heading level0 row1\" >1</th>\n",
       "      <td id=\"T_70a25_row1_col0\" class=\"data row1 col0\" >637</td>\n",
       "      <td id=\"T_70a25_row1_col1\" class=\"data row1 col1\" >6066</td>\n",
       "      <td id=\"T_70a25_row1_col2\" class=\"data row1 col2\" >27</td>\n",
       "      <td id=\"T_70a25_row1_col3\" class=\"data row1 col3\" >26</td>\n",
       "    </tr>\n",
       "    <tr>\n",
       "      <th id=\"T_70a25_level0_row2\" class=\"row_heading level0 row2\" >2</th>\n",
       "      <td id=\"T_70a25_row2_col0\" class=\"data row2 col0\" >671</td>\n",
       "      <td id=\"T_70a25_row2_col1\" class=\"data row2 col1\" >6047</td>\n",
       "      <td id=\"T_70a25_row2_col2\" class=\"data row2 col2\" >20</td>\n",
       "      <td id=\"T_70a25_row2_col3\" class=\"data row2 col3\" >18</td>\n",
       "    </tr>\n",
       "    <tr>\n",
       "      <th id=\"T_70a25_level0_row3\" class=\"row_heading level0 row3\" >3</th>\n",
       "      <td id=\"T_70a25_row3_col0\" class=\"data row3 col0\" >685</td>\n",
       "      <td id=\"T_70a25_row3_col1\" class=\"data row3 col1\" >6028</td>\n",
       "      <td id=\"T_70a25_row3_col2\" class=\"data row3 col2\" >17</td>\n",
       "      <td id=\"T_70a25_row3_col3\" class=\"data row3 col3\" >26</td>\n",
       "    </tr>\n",
       "    <tr>\n",
       "      <th id=\"T_70a25_level0_row4\" class=\"row_heading level0 row4\" >4</th>\n",
       "      <td id=\"T_70a25_row4_col0\" class=\"data row4 col0\" >646</td>\n",
       "      <td id=\"T_70a25_row4_col1\" class=\"data row4 col1\" >6084</td>\n",
       "      <td id=\"T_70a25_row4_col2\" class=\"data row4 col2\" >14</td>\n",
       "      <td id=\"T_70a25_row4_col3\" class=\"data row4 col3\" >12</td>\n",
       "    </tr>\n",
       "    <tr>\n",
       "      <th id=\"T_70a25_level0_row5\" class=\"row_heading level0 row5\" >5</th>\n",
       "      <td id=\"T_70a25_row5_col0\" class=\"data row5 col0\" >590</td>\n",
       "      <td id=\"T_70a25_row5_col1\" class=\"data row5 col1\" >6128</td>\n",
       "      <td id=\"T_70a25_row5_col2\" class=\"data row5 col2\" >15</td>\n",
       "      <td id=\"T_70a25_row5_col3\" class=\"data row5 col3\" >23</td>\n",
       "    </tr>\n",
       "    <tr>\n",
       "      <th id=\"T_70a25_level0_row6\" class=\"row_heading level0 row6\" >6</th>\n",
       "      <td id=\"T_70a25_row6_col0\" class=\"data row6 col0\" >677</td>\n",
       "      <td id=\"T_70a25_row6_col1\" class=\"data row6 col1\" >6046</td>\n",
       "      <td id=\"T_70a25_row6_col2\" class=\"data row6 col2\" >16</td>\n",
       "      <td id=\"T_70a25_row6_col3\" class=\"data row6 col3\" >17</td>\n",
       "    </tr>\n",
       "    <tr>\n",
       "      <th id=\"T_70a25_level0_row7\" class=\"row_heading level0 row7\" >7</th>\n",
       "      <td id=\"T_70a25_row7_col0\" class=\"data row7 col0\" >694</td>\n",
       "      <td id=\"T_70a25_row7_col1\" class=\"data row7 col1\" >6041</td>\n",
       "      <td id=\"T_70a25_row7_col2\" class=\"data row7 col2\" >14</td>\n",
       "      <td id=\"T_70a25_row7_col3\" class=\"data row7 col3\" >7</td>\n",
       "    </tr>\n",
       "    <tr>\n",
       "      <th id=\"T_70a25_level0_row8\" class=\"row_heading level0 row8\" >8</th>\n",
       "      <td id=\"T_70a25_row8_col0\" class=\"data row8 col0\" >631</td>\n",
       "      <td id=\"T_70a25_row8_col1\" class=\"data row8 col1\" >6100</td>\n",
       "      <td id=\"T_70a25_row8_col2\" class=\"data row8 col2\" >13</td>\n",
       "      <td id=\"T_70a25_row8_col3\" class=\"data row8 col3\" >12</td>\n",
       "    </tr>\n",
       "    <tr>\n",
       "      <th id=\"T_70a25_level0_row9\" class=\"row_heading level0 row9\" >9</th>\n",
       "      <td id=\"T_70a25_row9_col0\" class=\"data row9 col0\" >671</td>\n",
       "      <td id=\"T_70a25_row9_col1\" class=\"data row9 col1\" >6054</td>\n",
       "      <td id=\"T_70a25_row9_col2\" class=\"data row9 col2\" >18</td>\n",
       "      <td id=\"T_70a25_row9_col3\" class=\"data row9 col3\" >13</td>\n",
       "    </tr>\n",
       "  </tbody>\n",
       "</table>\n"
      ],
      "text/plain": [
       "<pandas.io.formats.style.Styler at 0x7f0e04c55100>"
      ]
     },
     "metadata": {},
     "output_type": "display_data"
    },
    {
     "name": "stdout",
     "output_type": "stream",
     "text": [
      "\n"
     ]
    },
    {
     "data": {
      "text/plain": [
       "{'accuracy': 0.9757252812314979,\n",
       " 'precision': 0.9756712852826757,\n",
       " 'recall': 0.9755898314203192,\n",
       " 'f1_score': 0.9756181229250179}"
      ]
     },
     "execution_count": 24,
     "metadata": {},
     "output_type": "execute_result"
    }
   ],
   "source": [
    "metrics = MulticlassClassificationMetrics(val_ds_y, ans_val_avg_categorical_accuracy)\n",
    "print(metrics)\n",
    "metrics.metrics()"
   ]
  },
  {
   "cell_type": "markdown",
   "metadata": {
    "id": "n3XxFZkGoJRz"
   },
   "source": [
    "### Скользящее среднее по F1-score чекпоинт"
   ]
  },
  {
   "cell_type": "code",
   "execution_count": 25,
   "metadata": {
    "colab": {
     "base_uri": "https://localhost:8080/",
     "height": 535
    },
    "executionInfo": {
     "elapsed": 5,
     "status": "ok",
     "timestamp": 1681248380279,
     "user": {
      "displayName": "Михаил Глазов",
      "userId": "14831628976106288763"
     },
     "user_tz": -180
    },
    "id": "VfiFu2NkoKUT",
    "outputId": "60c496b6-a803-48ba-e6d2-0e552b08fd59"
   },
   "outputs": [
    {
     "data": {
      "text/html": [
       "<style type=\"text/css\">\n",
       "#T_8b89c * {\n",
       "  background-color: darkgreen;\n",
       "  color: white;\n",
       "  font-size: 12pt;\n",
       "}\n",
       "#T_8b89c td:hover {\n",
       "  background-color: green;\n",
       "  color: white;\n",
       "}\n",
       "#T_8b89c_row0_col0, #T_8b89c_row0_col1, #T_8b89c_row0_col2, #T_8b89c_row0_col3, #T_8b89c_row1_col0, #T_8b89c_row1_col1, #T_8b89c_row1_col2, #T_8b89c_row1_col3, #T_8b89c_row2_col0, #T_8b89c_row2_col1, #T_8b89c_row2_col2, #T_8b89c_row2_col3, #T_8b89c_row3_col0, #T_8b89c_row3_col1, #T_8b89c_row3_col2, #T_8b89c_row3_col3, #T_8b89c_row4_col0, #T_8b89c_row4_col1, #T_8b89c_row4_col2, #T_8b89c_row4_col3, #T_8b89c_row5_col0, #T_8b89c_row5_col1, #T_8b89c_row5_col2, #T_8b89c_row5_col3, #T_8b89c_row6_col0, #T_8b89c_row6_col1, #T_8b89c_row6_col2, #T_8b89c_row6_col3, #T_8b89c_row7_col0, #T_8b89c_row7_col1, #T_8b89c_row7_col2, #T_8b89c_row7_col3, #T_8b89c_row8_col0, #T_8b89c_row8_col1, #T_8b89c_row8_col2, #T_8b89c_row8_col3, #T_8b89c_row9_col0, #T_8b89c_row9_col1, #T_8b89c_row9_col2, #T_8b89c_row9_col3 {\n",
       "  background-color: lightgreen;\n",
       "  color: black;\n",
       "  font-size: 12pt;\n",
       "}\n",
       "</style>\n",
       "<table id=\"T_8b89c\" class=\"dataframe\">\n",
       "  <thead>\n",
       "    <tr>\n",
       "      <th class=\"blank level0\" >&nbsp;</th>\n",
       "      <th id=\"T_8b89c_level0_col0\" class=\"col_heading level0 col0\" >TP</th>\n",
       "      <th id=\"T_8b89c_level0_col1\" class=\"col_heading level0 col1\" >TN</th>\n",
       "      <th id=\"T_8b89c_level0_col2\" class=\"col_heading level0 col2\" >FP</th>\n",
       "      <th id=\"T_8b89c_level0_col3\" class=\"col_heading level0 col3\" >FN</th>\n",
       "    </tr>\n",
       "    <tr>\n",
       "      <th class=\"index_name level0\" >class_type</th>\n",
       "      <th class=\"blank col0\" >&nbsp;</th>\n",
       "      <th class=\"blank col1\" >&nbsp;</th>\n",
       "      <th class=\"blank col2\" >&nbsp;</th>\n",
       "      <th class=\"blank col3\" >&nbsp;</th>\n",
       "    </tr>\n",
       "  </thead>\n",
       "  <tbody>\n",
       "    <tr>\n",
       "      <th id=\"T_8b89c_level0_row0\" class=\"row_heading level0 row0\" >0</th>\n",
       "      <td id=\"T_8b89c_row0_col0\" class=\"data row0 col0\" >690</td>\n",
       "      <td id=\"T_8b89c_row0_col1\" class=\"data row0 col1\" >6046</td>\n",
       "      <td id=\"T_8b89c_row0_col2\" class=\"data row0 col2\" >10</td>\n",
       "      <td id=\"T_8b89c_row0_col3\" class=\"data row0 col3\" >10</td>\n",
       "    </tr>\n",
       "    <tr>\n",
       "      <th id=\"T_8b89c_level0_row1\" class=\"row_heading level0 row1\" >1</th>\n",
       "      <td id=\"T_8b89c_row1_col0\" class=\"data row1 col0\" >637</td>\n",
       "      <td id=\"T_8b89c_row1_col1\" class=\"data row1 col1\" >6066</td>\n",
       "      <td id=\"T_8b89c_row1_col2\" class=\"data row1 col2\" >27</td>\n",
       "      <td id=\"T_8b89c_row1_col3\" class=\"data row1 col3\" >26</td>\n",
       "    </tr>\n",
       "    <tr>\n",
       "      <th id=\"T_8b89c_level0_row2\" class=\"row_heading level0 row2\" >2</th>\n",
       "      <td id=\"T_8b89c_row2_col0\" class=\"data row2 col0\" >671</td>\n",
       "      <td id=\"T_8b89c_row2_col1\" class=\"data row2 col1\" >6047</td>\n",
       "      <td id=\"T_8b89c_row2_col2\" class=\"data row2 col2\" >20</td>\n",
       "      <td id=\"T_8b89c_row2_col3\" class=\"data row2 col3\" >18</td>\n",
       "    </tr>\n",
       "    <tr>\n",
       "      <th id=\"T_8b89c_level0_row3\" class=\"row_heading level0 row3\" >3</th>\n",
       "      <td id=\"T_8b89c_row3_col0\" class=\"data row3 col0\" >685</td>\n",
       "      <td id=\"T_8b89c_row3_col1\" class=\"data row3 col1\" >6028</td>\n",
       "      <td id=\"T_8b89c_row3_col2\" class=\"data row3 col2\" >17</td>\n",
       "      <td id=\"T_8b89c_row3_col3\" class=\"data row3 col3\" >26</td>\n",
       "    </tr>\n",
       "    <tr>\n",
       "      <th id=\"T_8b89c_level0_row4\" class=\"row_heading level0 row4\" >4</th>\n",
       "      <td id=\"T_8b89c_row4_col0\" class=\"data row4 col0\" >646</td>\n",
       "      <td id=\"T_8b89c_row4_col1\" class=\"data row4 col1\" >6084</td>\n",
       "      <td id=\"T_8b89c_row4_col2\" class=\"data row4 col2\" >14</td>\n",
       "      <td id=\"T_8b89c_row4_col3\" class=\"data row4 col3\" >12</td>\n",
       "    </tr>\n",
       "    <tr>\n",
       "      <th id=\"T_8b89c_level0_row5\" class=\"row_heading level0 row5\" >5</th>\n",
       "      <td id=\"T_8b89c_row5_col0\" class=\"data row5 col0\" >590</td>\n",
       "      <td id=\"T_8b89c_row5_col1\" class=\"data row5 col1\" >6128</td>\n",
       "      <td id=\"T_8b89c_row5_col2\" class=\"data row5 col2\" >15</td>\n",
       "      <td id=\"T_8b89c_row5_col3\" class=\"data row5 col3\" >23</td>\n",
       "    </tr>\n",
       "    <tr>\n",
       "      <th id=\"T_8b89c_level0_row6\" class=\"row_heading level0 row6\" >6</th>\n",
       "      <td id=\"T_8b89c_row6_col0\" class=\"data row6 col0\" >677</td>\n",
       "      <td id=\"T_8b89c_row6_col1\" class=\"data row6 col1\" >6046</td>\n",
       "      <td id=\"T_8b89c_row6_col2\" class=\"data row6 col2\" >16</td>\n",
       "      <td id=\"T_8b89c_row6_col3\" class=\"data row6 col3\" >17</td>\n",
       "    </tr>\n",
       "    <tr>\n",
       "      <th id=\"T_8b89c_level0_row7\" class=\"row_heading level0 row7\" >7</th>\n",
       "      <td id=\"T_8b89c_row7_col0\" class=\"data row7 col0\" >694</td>\n",
       "      <td id=\"T_8b89c_row7_col1\" class=\"data row7 col1\" >6041</td>\n",
       "      <td id=\"T_8b89c_row7_col2\" class=\"data row7 col2\" >14</td>\n",
       "      <td id=\"T_8b89c_row7_col3\" class=\"data row7 col3\" >7</td>\n",
       "    </tr>\n",
       "    <tr>\n",
       "      <th id=\"T_8b89c_level0_row8\" class=\"row_heading level0 row8\" >8</th>\n",
       "      <td id=\"T_8b89c_row8_col0\" class=\"data row8 col0\" >631</td>\n",
       "      <td id=\"T_8b89c_row8_col1\" class=\"data row8 col1\" >6100</td>\n",
       "      <td id=\"T_8b89c_row8_col2\" class=\"data row8 col2\" >13</td>\n",
       "      <td id=\"T_8b89c_row8_col3\" class=\"data row8 col3\" >12</td>\n",
       "    </tr>\n",
       "    <tr>\n",
       "      <th id=\"T_8b89c_level0_row9\" class=\"row_heading level0 row9\" >9</th>\n",
       "      <td id=\"T_8b89c_row9_col0\" class=\"data row9 col0\" >671</td>\n",
       "      <td id=\"T_8b89c_row9_col1\" class=\"data row9 col1\" >6054</td>\n",
       "      <td id=\"T_8b89c_row9_col2\" class=\"data row9 col2\" >18</td>\n",
       "      <td id=\"T_8b89c_row9_col3\" class=\"data row9 col3\" >13</td>\n",
       "    </tr>\n",
       "  </tbody>\n",
       "</table>\n"
      ],
      "text/plain": [
       "<pandas.io.formats.style.Styler at 0x7f0dfc767af0>"
      ]
     },
     "metadata": {},
     "output_type": "display_data"
    },
    {
     "name": "stdout",
     "output_type": "stream",
     "text": [
      "\n"
     ]
    },
    {
     "data": {
      "text/plain": [
       "{'accuracy': 0.9757252812314979,\n",
       " 'precision': 0.9756712852826757,\n",
       " 'recall': 0.9755898314203192,\n",
       " 'f1_score': 0.9756181229250179}"
      ]
     },
     "execution_count": 25,
     "metadata": {},
     "output_type": "execute_result"
    }
   ],
   "source": [
    "metrics = MulticlassClassificationMetrics(val_ds_y, ans_val_avg_f1_score)\n",
    "print(metrics)\n",
    "metrics.metrics()"
   ]
  },
  {
   "cell_type": "markdown",
   "metadata": {
    "id": "GgRLnsAVoL8j"
   },
   "source": [
    "### Скользящее среднее по Loss чекпоинт"
   ]
  },
  {
   "cell_type": "code",
   "execution_count": 26,
   "metadata": {
    "colab": {
     "base_uri": "https://localhost:8080/",
     "height": 535
    },
    "executionInfo": {
     "elapsed": 8,
     "status": "ok",
     "timestamp": 1681248381520,
     "user": {
      "displayName": "Михаил Глазов",
      "userId": "14831628976106288763"
     },
     "user_tz": -180
    },
    "id": "EzhQuXaMoSjz",
    "outputId": "eb61b285-9763-4da3-8781-7e369b514070"
   },
   "outputs": [
    {
     "data": {
      "text/html": [
       "<style type=\"text/css\">\n",
       "#T_b4ba4 * {\n",
       "  background-color: darkgreen;\n",
       "  color: white;\n",
       "  font-size: 12pt;\n",
       "}\n",
       "#T_b4ba4 td:hover {\n",
       "  background-color: green;\n",
       "  color: white;\n",
       "}\n",
       "#T_b4ba4_row0_col0, #T_b4ba4_row0_col1, #T_b4ba4_row0_col2, #T_b4ba4_row0_col3, #T_b4ba4_row1_col0, #T_b4ba4_row1_col1, #T_b4ba4_row1_col2, #T_b4ba4_row1_col3, #T_b4ba4_row2_col0, #T_b4ba4_row2_col1, #T_b4ba4_row2_col2, #T_b4ba4_row2_col3, #T_b4ba4_row3_col0, #T_b4ba4_row3_col1, #T_b4ba4_row3_col2, #T_b4ba4_row3_col3, #T_b4ba4_row4_col0, #T_b4ba4_row4_col1, #T_b4ba4_row4_col2, #T_b4ba4_row4_col3, #T_b4ba4_row5_col0, #T_b4ba4_row5_col1, #T_b4ba4_row5_col2, #T_b4ba4_row5_col3, #T_b4ba4_row6_col0, #T_b4ba4_row6_col1, #T_b4ba4_row6_col2, #T_b4ba4_row6_col3, #T_b4ba4_row7_col0, #T_b4ba4_row7_col1, #T_b4ba4_row7_col2, #T_b4ba4_row7_col3, #T_b4ba4_row8_col0, #T_b4ba4_row8_col1, #T_b4ba4_row8_col2, #T_b4ba4_row8_col3, #T_b4ba4_row9_col0, #T_b4ba4_row9_col1, #T_b4ba4_row9_col2, #T_b4ba4_row9_col3 {\n",
       "  background-color: lightgreen;\n",
       "  color: black;\n",
       "  font-size: 12pt;\n",
       "}\n",
       "</style>\n",
       "<table id=\"T_b4ba4\" class=\"dataframe\">\n",
       "  <thead>\n",
       "    <tr>\n",
       "      <th class=\"blank level0\" >&nbsp;</th>\n",
       "      <th id=\"T_b4ba4_level0_col0\" class=\"col_heading level0 col0\" >TP</th>\n",
       "      <th id=\"T_b4ba4_level0_col1\" class=\"col_heading level0 col1\" >TN</th>\n",
       "      <th id=\"T_b4ba4_level0_col2\" class=\"col_heading level0 col2\" >FP</th>\n",
       "      <th id=\"T_b4ba4_level0_col3\" class=\"col_heading level0 col3\" >FN</th>\n",
       "    </tr>\n",
       "    <tr>\n",
       "      <th class=\"index_name level0\" >class_type</th>\n",
       "      <th class=\"blank col0\" >&nbsp;</th>\n",
       "      <th class=\"blank col1\" >&nbsp;</th>\n",
       "      <th class=\"blank col2\" >&nbsp;</th>\n",
       "      <th class=\"blank col3\" >&nbsp;</th>\n",
       "    </tr>\n",
       "  </thead>\n",
       "  <tbody>\n",
       "    <tr>\n",
       "      <th id=\"T_b4ba4_level0_row0\" class=\"row_heading level0 row0\" >0</th>\n",
       "      <td id=\"T_b4ba4_row0_col0\" class=\"data row0 col0\" >690</td>\n",
       "      <td id=\"T_b4ba4_row0_col1\" class=\"data row0 col1\" >6042</td>\n",
       "      <td id=\"T_b4ba4_row0_col2\" class=\"data row0 col2\" >14</td>\n",
       "      <td id=\"T_b4ba4_row0_col3\" class=\"data row0 col3\" >10</td>\n",
       "    </tr>\n",
       "    <tr>\n",
       "      <th id=\"T_b4ba4_level0_row1\" class=\"row_heading level0 row1\" >1</th>\n",
       "      <td id=\"T_b4ba4_row1_col0\" class=\"data row1 col0\" >635</td>\n",
       "      <td id=\"T_b4ba4_row1_col1\" class=\"data row1 col1\" >6069</td>\n",
       "      <td id=\"T_b4ba4_row1_col2\" class=\"data row1 col2\" >24</td>\n",
       "      <td id=\"T_b4ba4_row1_col3\" class=\"data row1 col3\" >28</td>\n",
       "    </tr>\n",
       "    <tr>\n",
       "      <th id=\"T_b4ba4_level0_row2\" class=\"row_heading level0 row2\" >2</th>\n",
       "      <td id=\"T_b4ba4_row2_col0\" class=\"data row2 col0\" >668</td>\n",
       "      <td id=\"T_b4ba4_row2_col1\" class=\"data row2 col1\" >6045</td>\n",
       "      <td id=\"T_b4ba4_row2_col2\" class=\"data row2 col2\" >22</td>\n",
       "      <td id=\"T_b4ba4_row2_col3\" class=\"data row2 col3\" >21</td>\n",
       "    </tr>\n",
       "    <tr>\n",
       "      <th id=\"T_b4ba4_level0_row3\" class=\"row_heading level0 row3\" >3</th>\n",
       "      <td id=\"T_b4ba4_row3_col0\" class=\"data row3 col0\" >688</td>\n",
       "      <td id=\"T_b4ba4_row3_col1\" class=\"data row3 col1\" >6024</td>\n",
       "      <td id=\"T_b4ba4_row3_col2\" class=\"data row3 col2\" >21</td>\n",
       "      <td id=\"T_b4ba4_row3_col3\" class=\"data row3 col3\" >23</td>\n",
       "    </tr>\n",
       "    <tr>\n",
       "      <th id=\"T_b4ba4_level0_row4\" class=\"row_heading level0 row4\" >4</th>\n",
       "      <td id=\"T_b4ba4_row4_col0\" class=\"data row4 col0\" >645</td>\n",
       "      <td id=\"T_b4ba4_row4_col1\" class=\"data row4 col1\" >6082</td>\n",
       "      <td id=\"T_b4ba4_row4_col2\" class=\"data row4 col2\" >16</td>\n",
       "      <td id=\"T_b4ba4_row4_col3\" class=\"data row4 col3\" >13</td>\n",
       "    </tr>\n",
       "    <tr>\n",
       "      <th id=\"T_b4ba4_level0_row5\" class=\"row_heading level0 row5\" >5</th>\n",
       "      <td id=\"T_b4ba4_row5_col0\" class=\"data row5 col0\" >588</td>\n",
       "      <td id=\"T_b4ba4_row5_col1\" class=\"data row5 col1\" >6133</td>\n",
       "      <td id=\"T_b4ba4_row5_col2\" class=\"data row5 col2\" >10</td>\n",
       "      <td id=\"T_b4ba4_row5_col3\" class=\"data row5 col3\" >25</td>\n",
       "    </tr>\n",
       "    <tr>\n",
       "      <th id=\"T_b4ba4_level0_row6\" class=\"row_heading level0 row6\" >6</th>\n",
       "      <td id=\"T_b4ba4_row6_col0\" class=\"data row6 col0\" >679</td>\n",
       "      <td id=\"T_b4ba4_row6_col1\" class=\"data row6 col1\" >6049</td>\n",
       "      <td id=\"T_b4ba4_row6_col2\" class=\"data row6 col2\" >13</td>\n",
       "      <td id=\"T_b4ba4_row6_col3\" class=\"data row6 col3\" >15</td>\n",
       "    </tr>\n",
       "    <tr>\n",
       "      <th id=\"T_b4ba4_level0_row7\" class=\"row_heading level0 row7\" >7</th>\n",
       "      <td id=\"T_b4ba4_row7_col0\" class=\"data row7 col0\" >692</td>\n",
       "      <td id=\"T_b4ba4_row7_col1\" class=\"data row7 col1\" >6043</td>\n",
       "      <td id=\"T_b4ba4_row7_col2\" class=\"data row7 col2\" >12</td>\n",
       "      <td id=\"T_b4ba4_row7_col3\" class=\"data row7 col3\" >9</td>\n",
       "    </tr>\n",
       "    <tr>\n",
       "      <th id=\"T_b4ba4_level0_row8\" class=\"row_heading level0 row8\" >8</th>\n",
       "      <td id=\"T_b4ba4_row8_col0\" class=\"data row8 col0\" >631</td>\n",
       "      <td id=\"T_b4ba4_row8_col1\" class=\"data row8 col1\" >6096</td>\n",
       "      <td id=\"T_b4ba4_row8_col2\" class=\"data row8 col2\" >17</td>\n",
       "      <td id=\"T_b4ba4_row8_col3\" class=\"data row8 col3\" >12</td>\n",
       "    </tr>\n",
       "    <tr>\n",
       "      <th id=\"T_b4ba4_level0_row9\" class=\"row_heading level0 row9\" >9</th>\n",
       "      <td id=\"T_b4ba4_row9_col0\" class=\"data row9 col0\" >670</td>\n",
       "      <td id=\"T_b4ba4_row9_col1\" class=\"data row9 col1\" >6051</td>\n",
       "      <td id=\"T_b4ba4_row9_col2\" class=\"data row9 col2\" >21</td>\n",
       "      <td id=\"T_b4ba4_row9_col3\" class=\"data row9 col3\" >14</td>\n",
       "    </tr>\n",
       "  </tbody>\n",
       "</table>\n"
      ],
      "text/plain": [
       "<pandas.io.formats.style.Styler at 0x7f0dfc51a3a0>"
      ]
     },
     "metadata": {},
     "output_type": "display_data"
    },
    {
     "name": "stdout",
     "output_type": "stream",
     "text": [
      "\n"
     ]
    },
    {
     "data": {
      "text/plain": [
       "{'accuracy': 0.9748371817643576,\n",
       " 'precision': 0.974880653549054,\n",
       " 'recall': 0.9746531385254105,\n",
       " 'f1_score': 0.9747449230461165}"
      ]
     },
     "execution_count": 26,
     "metadata": {},
     "output_type": "execute_result"
    }
   ],
   "source": [
    "metrics = MulticlassClassificationMetrics(val_ds_y, ans_val_avg_loss)\n",
    "print(metrics)\n",
    "metrics.metrics()"
   ]
  },
  {
   "cell_type": "markdown",
   "metadata": {
    "id": "ZCxq9l4W1h0D"
   },
   "source": [
    "- Сохраняем ответы."
   ]
  },
  {
   "cell_type": "code",
   "execution_count": 29,
   "metadata": {
    "executionInfo": {
     "elapsed": 20927,
     "status": "ok",
     "timestamp": 1681248832473,
     "user": {
      "displayName": "Михаил Глазов",
      "userId": "14831628976106288763"
     },
     "user_tz": -180
    },
    "id": "bQvnLPPp1h0D"
   },
   "outputs": [],
   "source": [
    "ans_test_categorical_accuracy = make_ans_file(model_categorical_acc, test_ds, f'./models/answers/model{num_model}_categorical_accuracy.csv')\n",
    "ans_test_f1_score = make_ans_file(model_f1_score, test_ds, f'./models/answers/model{num_model}_f1_score.csv')\n",
    "ans_test_loss = make_ans_file(model_loss, test_ds, f'./models/answers/model{num_model}_loss.csv')\n",
    "ans_test_avg_categorical_accuracy = make_ans_file(model_avg_categorical_acc, test_ds, f'./models/answers/model{num_model}_avg_categorical_accuracy.csv')\n",
    "ans_test_avg_f1_score = make_ans_file(model_avg_f1_score, test_ds, f'./models/answers/model{num_model}_avg_f1_score.csv')\n",
    "ans_test_avg_loss = make_ans_file(model_avg_loss, test_ds, f'./models/answers/model{num_model}_avg_loss.csv')"
   ]
  },
  {
   "cell_type": "markdown",
   "metadata": {
    "id": "zEJYFGnE1h0E"
   },
   "source": [
    "Проверяем ответы (одинаковые они или нет), чтоб не терять кол-во отправок ответов на kaggle в день."
   ]
  },
  {
   "cell_type": "code",
   "execution_count": 30,
   "metadata": {
    "colab": {
     "base_uri": "https://localhost:8080/"
    },
    "executionInfo": {
     "elapsed": 3,
     "status": "ok",
     "timestamp": 1681248837597,
     "user": {
      "displayName": "Михаил Глазов",
      "userId": "14831628976106288763"
     },
     "user_tz": -180
    },
    "id": "hf3v3GDL1h0N",
    "outputId": "aa27e227-00ca-47c2-8b1a-dd6d4d9c6203"
   },
   "outputs": [
    {
     "name": "stdout",
     "output_type": "stream",
     "text": [
      "чекпоинты 1 и 2 одинаковые\n",
      "чекпоинты 4 и 5 одинаковые\n"
     ]
    }
   ],
   "source": [
    "for i in range(len(anss) - 1):\n",
    "    for j in range(i + 1, len(anss)):\n",
    "        if np.all(anss[i] == anss[j]):\n",
    "            print(f'чекпоинты {i + 1} и {j + 1} одинаковые')"
   ]
  },
  {
   "cell_type": "markdown",
   "metadata": {
    "id": "Oqwfnt9ydECy"
   },
   "source": [
    "- Accuracy чекпоинт: 0.93493\n",
    "- Loss чекпоинт: 0.92866"
   ]
  }
 ],
 "metadata": {
  "accelerator": "GPU",
  "colab": {
   "provenance": []
  },
  "gpuClass": "standard",
  "kernelspec": {
   "display_name": "Python 3",
   "language": "python",
   "name": "python3"
  },
  "language_info": {
   "codemirror_mode": {
    "name": "ipython",
    "version": 3
   },
   "file_extension": ".py",
   "mimetype": "text/x-python",
   "name": "python",
   "nbconvert_exporter": "python",
   "pygments_lexer": "ipython3",
   "version": "3.10.10"
  },
  "orig_nbformat": 4
 },
 "nbformat": 4,
 "nbformat_minor": 0
}
