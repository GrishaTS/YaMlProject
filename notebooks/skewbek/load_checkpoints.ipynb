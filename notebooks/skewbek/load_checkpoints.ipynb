{
 "cells": [
  {
   "cell_type": "markdown",
   "source": [
    "Перебор всех чекпоинтов"
   ],
   "metadata": {
    "collapsed": false
   }
  },
  {
   "cell_type": "code",
   "execution_count": 1,
   "metadata": {
    "collapsed": true
   },
   "outputs": [],
   "source": [
    "import os\n",
    "import pickle\n",
    "\n",
    "from core.datasets import open_f\n",
    "import tensorflow as tf"
   ]
  },
  {
   "cell_type": "markdown",
   "source": [
    "скачивание тестового датасета"
   ],
   "metadata": {
    "collapsed": false
   }
  },
  {
   "cell_type": "code",
   "execution_count": 2,
   "outputs": [],
   "source": [
    "data_test = open_f('repaired_data_test', back=2)\n",
    "test_ds = data_test['images'] / 255."
   ],
   "metadata": {
    "collapsed": false
   }
  },
  {
   "cell_type": "markdown",
   "source": [
    "если нет чёрно-белого датасета, то не скачивайте"
   ],
   "metadata": {
    "collapsed": false
   }
  },
  {
   "cell_type": "code",
   "execution_count": 9,
   "outputs": [],
   "source": [
    "gray_data_test = open_f('repaired_data_test_gray', back=2)\n",
    "gray_test_ds = gray_data_test['images'] / 255."
   ],
   "metadata": {
    "collapsed": false
   }
  },
  {
   "cell_type": "code",
   "execution_count": 4,
   "outputs": [
    {
     "name": "stdout",
     "output_type": "stream",
     "text": [
      "..\\..\\models\\checkpoints\\model4_categorical_accuracy.h5 already downloaded\n",
      "..\\..\\models\\checkpoints\\model4_f1_score.h5 already downloaded\n",
      "..\\..\\models\\checkpoints\\model4_loss.h5 already downloaded\n",
      "..\\..\\models\\checkpoints\\model_C_EN_1_categorical_accuracy.h5 already downloaded\n",
      "..\\..\\models\\checkpoints\\model_C_EN_1_f1_score.h5 already downloaded\n",
      "..\\..\\models\\checkpoints\\model_C_EN_1_loss.h5 already downloaded\n",
      "..\\..\\models\\checkpoints\\model_eight_avg_categorical_accuracy.h5 already downloaded\n",
      "..\\..\\models\\checkpoints\\model_eight_avg_loss.h5 already downloaded\n",
      "..\\..\\models\\checkpoints\\model_eight_categorical_accuracy.h5 already downloaded\n",
      "..\\..\\models\\checkpoints\\model_eight_loss.h5 already downloaded\n",
      "..\\..\\models\\checkpoints\\model_five_avg_categorical_accuracy.h5 already downloaded\n",
      "..\\..\\models\\checkpoints\\model_five_avg_loss.h5 already downloaded\n",
      "..\\..\\models\\checkpoints\\model_five_categorical_accuracy.h5 already downloaded\n",
      "..\\..\\models\\checkpoints\\model_five_loss.h5 already downloaded\n",
      "..\\..\\models\\checkpoints\\model_four_avg_categorical_accuracy.h5 already downloaded\n",
      "..\\..\\models\\checkpoints\\model_four_avg_loss.h5 already downloaded\n",
      "..\\..\\models\\checkpoints\\model_four_categorical_accuracy.h5 already downloaded\n",
      "..\\..\\models\\checkpoints\\model_four_loss.h5 already downloaded\n",
      "..\\..\\models\\checkpoints\\model_g_10_avg_categorical_accuracy.h5 already downloaded\n",
      "..\\..\\models\\checkpoints\\model_g_10_avg_f1_score.h5 already downloaded\n",
      "..\\..\\models\\checkpoints\\model_g_10_avg_loss.h5 already downloaded\n",
      "..\\..\\models\\checkpoints\\model_g_10_categorical_accuracy.h5 already downloaded\n",
      "..\\..\\models\\checkpoints\\model_g_10_f1_score.h5 already downloaded\n",
      "..\\..\\models\\checkpoints\\model_g_10_loss.h5 already downloaded\n",
      "..\\..\\models\\checkpoints\\model_g_11_avg_categorical_accuracy.h5 already downloaded\n",
      "..\\..\\models\\checkpoints\\model_g_11_avg_f1_score.h5 already downloaded\n",
      "..\\..\\models\\checkpoints\\model_g_11_avg_loss.h5 already downloaded\n",
      "..\\..\\models\\checkpoints\\model_g_11_categorical_accuracy.h5 already downloaded\n",
      "..\\..\\models\\checkpoints\\model_g_11_f1_score.h5 already downloaded\n",
      "..\\..\\models\\checkpoints\\model_g_11_loss.h5 already downloaded\n",
      "..\\..\\models\\checkpoints\\model_g_12_avg_categorical_accuracy.h5 already downloaded\n",
      "..\\..\\models\\checkpoints\\model_g_12_avg_f1_score.h5 already downloaded\n",
      "..\\..\\models\\checkpoints\\model_g_12_avg_loss.h5 already downloaded\n",
      "..\\..\\models\\checkpoints\\model_g_12_categorical_accuracy.h5 already downloaded\n",
      "..\\..\\models\\checkpoints\\model_g_12_f1_score.h5 already downloaded\n",
      "..\\..\\models\\checkpoints\\model_g_12_loss.h5 already downloaded\n",
      "..\\..\\models\\checkpoints\\model_g_13_avg_categorical_accuracy.h5 already downloaded\n",
      "..\\..\\models\\checkpoints\\model_g_13_avg_f1_score.h5 already downloaded\n",
      "..\\..\\models\\checkpoints\\model_g_13_avg_loss.h5 already downloaded\n",
      "..\\..\\models\\checkpoints\\model_g_13_categorical_accuracy.h5 already downloaded\n",
      "..\\..\\models\\checkpoints\\model_g_13_f1_score.h5 already downloaded\n",
      "..\\..\\models\\checkpoints\\model_g_13_loss.h5 already downloaded\n",
      "..\\..\\models\\checkpoints\\model_g_14_avg_categorical_accuracy.h5 already downloaded\n",
      "..\\..\\models\\checkpoints\\model_g_14_avg_f1_score.h5 already downloaded\n",
      "..\\..\\models\\checkpoints\\model_g_14_avg_loss.h5 already downloaded\n",
      "..\\..\\models\\checkpoints\\model_g_14_categorical_accuracy.h5 already downloaded\n",
      "..\\..\\models\\checkpoints\\model_g_14_f1_score.h5 already downloaded\n",
      "..\\..\\models\\checkpoints\\model_g_14_loss.h5 already downloaded\n",
      "..\\..\\models\\checkpoints\\model_g_16_avg_categorical_accuracy.h5 already downloaded\n",
      "..\\..\\models\\checkpoints\\model_g_16_avg_f1_score.h5 already downloaded\n",
      "..\\..\\models\\checkpoints\\model_g_16_avg_loss.h5 already downloaded\n",
      "..\\..\\models\\checkpoints\\model_g_16_categorical_accuracy.h5 already downloaded\n",
      "..\\..\\models\\checkpoints\\model_g_16_f1_score.h5 already downloaded\n",
      "..\\..\\models\\checkpoints\\model_g_16_loss.h5 already downloaded\n",
      "..\\..\\models\\checkpoints\\model_g_17_avg_categorical_accuracy.h5 already downloaded\n",
      "..\\..\\models\\checkpoints\\model_g_17_avg_f1_score.h5 already downloaded\n",
      "..\\..\\models\\checkpoints\\model_g_17_avg_loss.h5 already downloaded\n",
      "..\\..\\models\\checkpoints\\model_g_17_categorical_accuracy.h5 already downloaded\n",
      "..\\..\\models\\checkpoints\\model_g_17_f1_score.h5 already downloaded\n",
      "..\\..\\models\\checkpoints\\model_g_17_loss.h5 already downloaded\n",
      "..\\..\\models\\checkpoints\\model_g_18_avg_categorical_accuracy.h5 already downloaded\n",
      "..\\..\\models\\checkpoints\\model_g_18_avg_f1_score.h5 already downloaded\n",
      "..\\..\\models\\checkpoints\\model_g_18_avg_loss.h5 already downloaded\n",
      "..\\..\\models\\checkpoints\\model_g_18_categorical_accuracy.h5 already downloaded\n",
      "..\\..\\models\\checkpoints\\model_g_18_f1_score.h5 already downloaded\n",
      "..\\..\\models\\checkpoints\\model_g_18_loss.h5 already downloaded\n",
      "..\\..\\models\\checkpoints\\model_g_19_avg_categorical_accuracy.h5 already downloaded\n",
      "..\\..\\models\\checkpoints\\model_g_19_avg_f1_score.h5 already downloaded\n",
      "..\\..\\models\\checkpoints\\model_g_19_avg_loss.h5 already downloaded\n",
      "..\\..\\models\\checkpoints\\model_g_19_categorical_accuracy.h5 already downloaded\n",
      "..\\..\\models\\checkpoints\\model_g_19_f1_score.h5 already downloaded\n",
      "..\\..\\models\\checkpoints\\model_g_19_loss.h5 already downloaded\n",
      "..\\..\\models\\checkpoints\\model_g_1_categorical_accuracy.h5 already downloaded\n",
      "..\\..\\models\\checkpoints\\model_g_1_f1_score.h5 already downloaded\n",
      "..\\..\\models\\checkpoints\\model_g_1_loss.h5 already downloaded\n",
      "..\\..\\models\\checkpoints\\model_g_3_avg_categorical_accuracy.h5 already downloaded\n",
      "..\\..\\models\\checkpoints\\model_g_3_avg_f1_score.h5 already downloaded\n",
      "..\\..\\models\\checkpoints\\model_g_3_avg_loss.h5 already downloaded\n",
      "..\\..\\models\\checkpoints\\model_g_3_categorical_accuracy.h5 already downloaded\n",
      "..\\..\\models\\checkpoints\\model_g_3_f1_score.h5 already downloaded\n",
      "..\\..\\models\\checkpoints\\model_g_3_loss.h5 already downloaded\n",
      "..\\..\\models\\checkpoints\\model_g_4_avg_categorical_accuracy.h5 already downloaded\n",
      "..\\..\\models\\checkpoints\\model_g_4_avg_f1_score.h5 already downloaded\n",
      "..\\..\\models\\checkpoints\\model_g_4_avg_loss.h5 already downloaded\n",
      "..\\..\\models\\checkpoints\\model_g_4_categorical_accuracy.h5 already downloaded\n",
      "..\\..\\models\\checkpoints\\model_g_4_f1_score.h5 already downloaded\n",
      "..\\..\\models\\checkpoints\\model_g_4_loss.h5 already downloaded\n",
      "..\\..\\models\\checkpoints\\model_g_5_avg_categorical_accuracy.h5 already downloaded\n",
      "..\\..\\models\\checkpoints\\model_g_5_avg_f1_score.h5 already downloaded\n",
      "..\\..\\models\\checkpoints\\model_g_5_avg_loss.h5 already downloaded\n",
      "..\\..\\models\\checkpoints\\model_g_5_categorical_accuracy.h5 already downloaded\n",
      "..\\..\\models\\checkpoints\\model_g_5_f1_score.h5 already downloaded\n",
      "..\\..\\models\\checkpoints\\model_g_5_loss.h5 already downloaded\n",
      "..\\..\\models\\checkpoints\\model_g_6_avg_categorical_accuracy.h5 already downloaded\n",
      "..\\..\\models\\checkpoints\\model_g_6_avg_f1_score.h5 already downloaded\n",
      "..\\..\\models\\checkpoints\\model_g_6_avg_loss.h5 already downloaded\n",
      "..\\..\\models\\checkpoints\\model_g_6_categorical_accuracy.h5 already downloaded\n",
      "..\\..\\models\\checkpoints\\model_g_6_f1_score.h5 already downloaded\n",
      "..\\..\\models\\checkpoints\\model_g_6_loss.h5 already downloaded\n",
      "..\\..\\models\\checkpoints\\model_g_7_avg_categorical_accuracy.h5 already downloaded\n",
      "..\\..\\models\\checkpoints\\model_g_7_avg_f1_score.h5 already downloaded\n",
      "..\\..\\models\\checkpoints\\model_g_7_avg_loss.h5 already downloaded\n",
      "..\\..\\models\\checkpoints\\model_g_7_categorical_accuracy.h5 already downloaded\n",
      "..\\..\\models\\checkpoints\\model_g_7_f1_score.h5 already downloaded\n",
      "..\\..\\models\\checkpoints\\model_g_7_loss.h5 already downloaded\n",
      "..\\..\\models\\checkpoints\\model_g_8_avg_categorical_accuracy.h5 already downloaded\n",
      "..\\..\\models\\checkpoints\\model_g_8_avg_f1_score.h5 already downloaded\n",
      "..\\..\\models\\checkpoints\\model_g_8_avg_loss.h5 already downloaded\n",
      "..\\..\\models\\checkpoints\\model_g_8_categorical_accuracy.h5 already downloaded\n",
      "..\\..\\models\\checkpoints\\model_g_8_f1_score.h5 already downloaded\n",
      "..\\..\\models\\checkpoints\\model_g_8_loss.h5 already downloaded\n",
      "..\\..\\models\\checkpoints\\model_g_9_avg_categorical_accuracy.h5 already downloaded\n",
      "..\\..\\models\\checkpoints\\model_g_9_avg_f1_score.h5 already downloaded\n",
      "..\\..\\models\\checkpoints\\model_g_9_avg_loss.h5 already downloaded\n",
      "..\\..\\models\\checkpoints\\model_g_9_categorical_accuracy.h5 already downloaded\n",
      "..\\..\\models\\checkpoints\\model_g_9_f1_score.h5 already downloaded\n",
      "..\\..\\models\\checkpoints\\model_g_9_loss.h5 already downloaded\n",
      "..\\..\\models\\checkpoints\\model_nine_avg_categorical_accuracy.h5 already downloaded\n",
      "..\\..\\models\\checkpoints\\model_nine_avg_loss.h5 already downloaded\n",
      "..\\..\\models\\checkpoints\\model_nine_categorical_accuracy.h5 already downloaded\n",
      "..\\..\\models\\checkpoints\\model_nine_loss.h5 already downloaded\n",
      "..\\..\\models\\checkpoints\\model_one_avg_categorical_accuracy.h5 already downloaded\n",
      "..\\..\\models\\checkpoints\\model_one_avg_loss.h5 already downloaded\n",
      "..\\..\\models\\checkpoints\\model_one_categorical_accuracy.h5 already downloaded\n",
      "..\\..\\models\\checkpoints\\model_one_loss.h5 already downloaded\n",
      "..\\..\\models\\checkpoints\\model_seven_avg_categorical_accuracy.h5 already downloaded\n",
      "..\\..\\models\\checkpoints\\model_seven_avg_loss.h5 already downloaded\n",
      "..\\..\\models\\checkpoints\\model_seven_categorical_accuracy.h5 already downloaded\n",
      "..\\..\\models\\checkpoints\\model_seven_loss.h5 already downloaded\n",
      "..\\..\\models\\checkpoints\\model_six_avg_categorical_accuracy.h5 already downloaded\n",
      "..\\..\\models\\checkpoints\\model_six_avg_loss.h5 already downloaded\n",
      "..\\..\\models\\checkpoints\\model_six_categorical_accuracy.h5 already downloaded\n",
      "..\\..\\models\\checkpoints\\model_six_loss.h5 already downloaded\n",
      "..\\..\\models\\checkpoints\\model_s_2_avg_categorical_accuracy.h5 already downloaded\n",
      "..\\..\\models\\checkpoints\\model_s_2_avg_f1_score.h5 already downloaded\n",
      "..\\..\\models\\checkpoints\\model_s_2_avg_loss.h5 already downloaded\n",
      "..\\..\\models\\checkpoints\\model_s_2_categorical_accuracy.h5 already downloaded\n",
      "..\\..\\models\\checkpoints\\model_s_2_f1_score.h5 already downloaded\n",
      "..\\..\\models\\checkpoints\\model_s_2_loss.h5 already downloaded\n",
      "..\\..\\models\\checkpoints\\model_s_3_avg_categorical_accuracy.h5 already downloaded\n",
      "..\\..\\models\\checkpoints\\model_s_3_avg_f1_score.h5 already downloaded\n",
      "..\\..\\models\\checkpoints\\model_s_3_avg_loss.h5 already downloaded\n",
      "..\\..\\models\\checkpoints\\model_s_3_categorical_accuracy.h5 already downloaded\n",
      "..\\..\\models\\checkpoints\\model_s_3_f1_score.h5 already downloaded\n",
      "..\\..\\models\\checkpoints\\model_s_3_loss.h5 already downloaded\n",
      "..\\..\\models\\checkpoints\\model_s_5_avg_categorical_accuracy.h5 already downloaded\n",
      "..\\..\\models\\checkpoints\\model_s_5_avg_f1_score.h5 already downloaded\n",
      "..\\..\\models\\checkpoints\\model_s_5_avg_loss.h5 already downloaded\n",
      "..\\..\\models\\checkpoints\\model_s_5_categorical_accuracy.h5 already downloaded\n",
      "..\\..\\models\\checkpoints\\model_s_5_f1_score.h5 already downloaded\n",
      "..\\..\\models\\checkpoints\\model_s_5_loss.h5 already downloaded\n",
      "..\\..\\models\\checkpoints\\model_s_6_avg_categorical_accuracy.h5 already downloaded\n",
      "..\\..\\models\\checkpoints\\model_s_6_avg_f1_score.h5 already downloaded\n",
      "..\\..\\models\\checkpoints\\model_s_6_avg_loss.h5 already downloaded\n",
      "..\\..\\models\\checkpoints\\model_s_6_categorical_accuracy.h5 already downloaded\n",
      "..\\..\\models\\checkpoints\\model_s_6_f1_score.h5 already downloaded\n",
      "..\\..\\models\\checkpoints\\model_s_6_loss.h5 already downloaded\n",
      "..\\..\\models\\checkpoints\\model_s_7_avg_categorical_accuracy.h5 already downloaded\n",
      "..\\..\\models\\checkpoints\\model_s_7_avg_f1_score.h5 already downloaded\n",
      "..\\..\\models\\checkpoints\\model_s_7_avg_loss.h5 already downloaded\n",
      "..\\..\\models\\checkpoints\\model_s_7_categorical_accuracy.h5 already downloaded\n",
      "..\\..\\models\\checkpoints\\model_s_7_f1_score.h5 already downloaded\n",
      "..\\..\\models\\checkpoints\\model_s_smote_avg_categorical_accuracy.h5 already downloaded\n",
      "..\\..\\models\\checkpoints\\model_s_smote_avg_f1_score.h5 already downloaded\n",
      "..\\..\\models\\checkpoints\\model_s_smote_avg_loss.h5 already downloaded\n",
      "..\\..\\models\\checkpoints\\model_s_smote_categorical_accuracy.h5 already downloaded\n",
      "..\\..\\models\\checkpoints\\model_s_smote_f1_score.h5 already downloaded\n",
      "..\\..\\models\\checkpoints\\model_s_smote_loss.h5 already downloaded\n",
      "..\\..\\models\\checkpoints\\model_three_avg_categorical_accuracy.h5 already downloaded\n",
      "..\\..\\models\\checkpoints\\model_three_avg_loss.h5 already downloaded\n",
      "..\\..\\models\\checkpoints\\model_three_categorical_accuracy.h5 already downloaded\n",
      "..\\..\\models\\checkpoints\\model_three_loss.h5 already downloaded\n",
      "..\\..\\models\\checkpoints\\model_two_avg_categorical_accuracy.h5 already downloaded\n",
      "..\\..\\models\\checkpoints\\model_two_avg_loss.h5 already downloaded\n",
      "..\\..\\models\\checkpoints\\model_two_categorical_accuracy.h5 already downloaded\n",
      "..\\..\\models\\checkpoints\\model_two_loss.h5 already downloaded\n",
      "..\\..\\models\\checkpoints\\model_zero_avg_categorical_accuracy.h5 already downloaded\n",
      "..\\..\\models\\checkpoints\\model_zero_avg_loss.h5 already downloaded\n",
      "..\\..\\models\\checkpoints\\model_zero_categorical_accuracy.h5 already downloaded\n",
      "..\\..\\models\\checkpoints\\model_zero_loss.h5 already downloaded\n"
     ]
    }
   ],
   "source": [
    "directory = '..\\..\\models\\checkpoints'\n",
    "gray = \"model_s_5\"\n",
    "\n",
    "for model_name in os.scandir(directory):\n",
    "    answer_name = model_name.path.split('\\\\')[-1]\n",
    "\n",
    "    if not os.path.exists(f'../../models/checkpoint_answers/{answer_name}'):\n",
    "        print(model_name.path)\n",
    "        model = tf.keras.models.load_model(model_name.path, compile=False)\n",
    "\n",
    "        if gray in model_name.path:\n",
    "            predict = model.predict(gray_test_ds)\n",
    "        else:\n",
    "            predict = model.predict(test_ds)\n",
    "\n",
    "        pickle.dump(predict, open(f'../../models/checkpoint_answers/{answer_name}', 'wb'), protocol=pickle.HIGHEST_PROTOCOL)\n",
    "    else:\n",
    "        print(f'{model_name.path} already downloaded')"
   ],
   "metadata": {
    "collapsed": false
   }
  }
 ],
 "metadata": {
  "kernelspec": {
   "display_name": "Python 3",
   "language": "python",
   "name": "python3"
  },
  "language_info": {
   "codemirror_mode": {
    "name": "ipython",
    "version": 2
   },
   "file_extension": ".py",
   "mimetype": "text/x-python",
   "name": "python",
   "nbconvert_exporter": "python",
   "pygments_lexer": "ipython2",
   "version": "2.7.6"
  }
 },
 "nbformat": 4,
 "nbformat_minor": 0
}
