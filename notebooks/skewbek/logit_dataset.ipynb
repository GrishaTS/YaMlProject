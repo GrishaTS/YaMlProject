{
 "cells": [
  {
   "cell_type": "markdown",
   "source": [
    "Генерируем датасет для обучение модели"
   ],
   "metadata": {
    "collapsed": false
   }
  },
  {
   "cell_type": "code",
   "execution_count": 19,
   "outputs": [],
   "source": [
    "import os\n",
    "import pickle\n",
    "import sys\n",
    "\n",
    "import tensorflow as tf\n",
    "\n",
    "sys.path.append('../../')\n",
    "\n",
    "from core.datasets import open_f"
   ],
   "metadata": {
    "collapsed": false
   }
  },
  {
   "cell_type": "code",
   "execution_count": 20,
   "metadata": {
    "collapsed": true
   },
   "outputs": [],
   "source": [
    "train_ds = open_f('repaired_data_train', back=2)\n",
    "train_ds_images = train_ds['images'] / 255."
   ]
  },
  {
   "cell_type": "code",
   "execution_count": 23,
   "outputs": [
    {
     "name": "stdout",
     "output_type": "stream",
     "text": [
      "_s_6\n",
      "1/1 [==============================] - 1s 940ms/step\n",
      "_g_11\n",
      "1/1 [==============================] - 1s 546ms/step\n",
      "_g_21\n",
      "1/1 [==============================] - 1s 1s/step\n",
      "_g_22\n",
      "WARNING:tensorflow:5 out of the last 45 calls to <function Model.make_predict_function.<locals>.predict_function at 0x000001D96AEFD630> triggered tf.function retracing. Tracing is expensive and the excessive number of tracings could be due to (1) creating @tf.function repeatedly in a loop, (2) passing tensors with different shapes, (3) passing Python objects instead of tensors. For (1), please define your @tf.function outside of the loop. For (2), @tf.function has reduce_retracing=True option that can avoid unnecessary retracing. For (3), please refer to https://www.tensorflow.org/guide/function#controlling_retracing and https://www.tensorflow.org/api_docs/python/tf/function for  more details.\n",
      "1/1 [==============================] - 1s 507ms/step\n"
     ]
    }
   ],
   "source": [
    "model_names = ['_s_6', '_g_11', '_g_21', '_g_22']\n",
    "\n",
    "for model_name in model_names:\n",
    "\n",
    "    if not os.path.exists(f'../../models/logits_train/model{model_name}'):\n",
    "        print(model_name)\n",
    "\n",
    "        model = tf.keras.models.load_model(f'../../models/checkpoints/model{model_name}_avg_categorical_accuracy.h5', compile=False)\n",
    "\n",
    "        pickle.dump(model.predict(train_ds_images), open(f'../../models/logits_train/model{model_name}', 'wb'), protocol=pickle.HIGHEST_PROTOCOL)\n",
    "    else:\n",
    "        print(f'{model_name} dataset already done')"
   ],
   "metadata": {
    "collapsed": false
   }
  }
 ],
 "metadata": {
  "kernelspec": {
   "display_name": "Python 3",
   "language": "python",
   "name": "python3"
  },
  "language_info": {
   "codemirror_mode": {
    "name": "ipython",
    "version": 2
   },
   "file_extension": ".py",
   "mimetype": "text/x-python",
   "name": "python",
   "nbconvert_exporter": "python",
   "pygments_lexer": "ipython2",
   "version": "2.7.6"
  }
 },
 "nbformat": 4,
 "nbformat_minor": 0
}
