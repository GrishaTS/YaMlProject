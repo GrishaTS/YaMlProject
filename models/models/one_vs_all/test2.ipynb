{
 "cells": [
  {
   "attachments": {},
   "cell_type": "markdown",
   "metadata": {},
   "source": [
    "# Проверка работоспособности.\n",
    "\n",
    "Я написал 10 моделей one vs all для каждого класса.\n",
    "\n",
    "Сейчас мы попробуем из всех них составить единый файл с ответам и закинуть на kaggle."
   ]
  },
  {
   "attachments": {},
   "cell_type": "markdown",
   "metadata": {},
   "source": [
    "импорт необходимых библиотек"
   ]
  },
  {
   "cell_type": "code",
   "execution_count": 1,
   "metadata": {},
   "outputs": [
    {
     "name": "stderr",
     "output_type": "stream",
     "text": [
      "c:\\Users\\Mi\\Desktop\\ML\\.conda\\lib\\site-packages\\tensorflow_addons\\utils\\tfa_eol_msg.py:23: UserWarning: \n",
      "\n",
      "TensorFlow Addons (TFA) has ended development and introduction of new features.\n",
      "TFA has entered a minimal maintenance and release mode until a planned end of life in May 2024.\n",
      "Please modify downstream libraries to take dependencies from other repositories in our TensorFlow community (e.g. Keras, Keras-CV, and Keras-NLP). \n",
      "\n",
      "For more information see: https://github.com/tensorflow/addons/issues/2807 \n",
      "\n",
      "  warnings.warn(\n"
     ]
    }
   ],
   "source": [
    "import sys\n",
    "\n",
    "import pandas as pd\n",
    "import numpy as np\n",
    "import tensorflow as tf\n",
    "import tensorflow_addons as tfa\n",
    "\n",
    "sys.path.append('../../../')\n",
    "\n",
    "from core.datasets import open_f"
   ]
  },
  {
   "cell_type": "code",
   "execution_count": 2,
   "metadata": {},
   "outputs": [],
   "source": [
    "class MulticlassClassificationMetrics:\n",
    "    def __init__(self, y_true, y_pred):\n",
    "        self.y_true = np.array(y_true)\n",
    "        self.y_pred = np.array(y_pred)\n",
    "        self.matrix_error = self.get_matrix_error()\n",
    "\n",
    "    def get_matrix_error(self):\n",
    "        self.class_types = np.unique([self.y_true, self.y_pred])\n",
    "        TP, FN, FP, TN = [], [], [], []\n",
    "        for class_type in self.class_types:\n",
    "            TP.append(np.sum(np.logical_and(self.y_true == self.y_pred, self.y_true == class_type)))\n",
    "            FN.append(np.sum(np.logical_and(self.y_true == class_type, self.y_pred != class_type)))\n",
    "            FP.append(np.sum(np.logical_and(self.y_pred == class_type, self.y_true != class_type)))\n",
    "            TN.append(np.sum(np.logical_and(self.y_pred != class_type, self.y_true != class_type)))\n",
    "        return pd.DataFrame({\n",
    "            'class_type': self.class_types,\n",
    "            'TP': TP, 'TN': TN, 'FP': FP, 'FN': FN,\n",
    "        }).set_index('class_type')\n",
    "\n",
    "    def accuracy(self):\n",
    "        return np.sum(self.y_true == self.y_pred) / self.y_true.shape[0]\n",
    "\n",
    "    def precision(self, averaging='macro'):\n",
    "        if averaging == 'macro':\n",
    "            precisions = self.matrix_error['TP'] / (self.matrix_error['TP'] + self.matrix_error['FP'])\n",
    "            return np.mean(precisions.replace(np.nan, 0))\n",
    "        elif averaging == 'micro':\n",
    "            mean_val = self.matrix_error.mean()\n",
    "            return mean_val['TP'] / (mean_val['TP'] + mean_val['FP'])\n",
    "\n",
    "    def recall(self, averaging='macro'):\n",
    "        if averaging == 'macro':\n",
    "            recalls = self.matrix_error['TP'] / (self.matrix_error['TP'] + self.matrix_error['FN'])\n",
    "            return np.mean(recalls.replace(np.nan, 0))\n",
    "        elif averaging == 'micro':\n",
    "            mean_val = self.matrix_error.mean()\n",
    "            return mean_val['TP'] / (mean_val['TP'] + mean_val['FN'])\n",
    "\n",
    "    def f1_score(self, averaging='macro'):\n",
    "        if averaging == 'macro':\n",
    "            reverse_r = (self.matrix_error['TP'] + self.matrix_error['FN']) / self.matrix_error['TP']\n",
    "            reverse_p = (self.matrix_error['TP'] + self.matrix_error['FP']) / self.matrix_error['TP']\n",
    "            f1_scores = 2 / (reverse_r + reverse_p)\n",
    "            return np.mean(f1_scores.replace(np.nan, 0))\n",
    "        elif averaging == 'micro':\n",
    "            p = self.precision(averaging)\n",
    "            r = self.recall(averaging)\n",
    "            return 2 * p * r / (p + r)\n",
    "\n",
    "    def metrics(self, averaging='macro'):\n",
    "        return {\n",
    "            'accuracy': self.accuracy(),\n",
    "            'precision': self.precision(averaging),\n",
    "            'recall': self.recall(averaging),\n",
    "            'f1_score': self.f1_score(averaging),\n",
    "        }\n",
    "\n",
    "    def __str__(self):\n",
    "        headers = {\n",
    "            'selector': '*',\n",
    "            'props': 'background-color: darkgreen; color: white; font-size: 12pt;',\n",
    "        }\n",
    "        che_super_mega_puper_visualization_of_cell = { \n",
    "            'selector': 'td:hover',\n",
    "            'props': 'background-color: green; color: white;',\n",
    "        }\n",
    "        display(\n",
    "            self.matrix_error\n",
    "            .style\n",
    "            .set_table_styles([\n",
    "                headers,\n",
    "                che_super_mega_puper_visualization_of_cell,\n",
    "            ])\n",
    "            .set_properties(**{'background-color': 'lightgreen',\n",
    "                           'color': 'black', 'font-size': '12pt'})\n",
    "        )\n",
    "        return ''\n",
    "\n",
    "    def __repr__(self):\n",
    "        return (\n",
    "            f'MulticlassClassificationMetrics(class_types={self.class_types})'\n",
    "            .replace(\"'\", '').replace(',', ';'))"
   ]
  },
  {
   "attachments": {},
   "cell_type": "markdown",
   "metadata": {},
   "source": [
    "Скачиваем тестовый датасет"
   ]
  },
  {
   "cell_type": "code",
   "execution_count": 3,
   "metadata": {},
   "outputs": [],
   "source": [
    "test_ds = open_f('repaired_data_train', back=3)\n",
    "shuffle = np.random.permutation(test_ds['labels'].shape[0])\n",
    "test_ds_x = test_ds['images'][shuffle][:10000] / 255\n",
    "test_ds_y = test_ds['labels'][shuffle][:10000]"
   ]
  },
  {
   "attachments": {},
   "cell_type": "markdown",
   "metadata": {},
   "source": [
    "# Рассмотрим все avg acc чекпоинты "
   ]
  },
  {
   "cell_type": "code",
   "execution_count": 4,
   "metadata": {},
   "outputs": [],
   "source": [
    "nums = ['zero', 'one', 'two', 'three', 'four', 'five', 'six', 'seven', 'eight', 'nine']\n",
    "models = []\n",
    "for i in nums:\n",
    "    models.append(tf.keras.models.load_model(f'../../checkpoints/model_{i}_avg_categorical_accuracy.h5'))"
   ]
  },
  {
   "cell_type": "code",
   "execution_count": 5,
   "metadata": {},
   "outputs": [
    {
     "name": "stdout",
     "output_type": "stream",
     "text": [
      "313/313 [==============================] - 64s 201ms/step\n",
      "313/313 [==============================] - 69s 217ms/step\n",
      "313/313 [==============================] - 66s 209ms/step\n",
      "313/313 [==============================] - 72s 227ms/step\n",
      "313/313 [==============================] - 67s 213ms/step\n",
      "313/313 [==============================] - 66s 208ms/step\n",
      "313/313 [==============================] - 70s 220ms/step\n",
      "313/313 [==============================] - 70s 221ms/step\n",
      "313/313 [==============================] - 71s 222ms/step\n",
      "313/313 [==============================] - 75s 236ms/step\n"
     ]
    }
   ],
   "source": [
    "ans = None\n",
    "for i in models:\n",
    "    pred = i.predict(test_ds_x).ravel()\n",
    "    if type(ans) is type(None):\n",
    "        ans = pred\n",
    "    else:\n",
    "        ans = np.column_stack((ans, pred))"
   ]
  },
  {
   "cell_type": "code",
   "execution_count": 6,
   "metadata": {},
   "outputs": [],
   "source": [
    "full_ans = np.argmax(ans, axis=-1)"
   ]
  },
  {
   "cell_type": "code",
   "execution_count": 7,
   "metadata": {},
   "outputs": [
    {
     "data": {
      "text/html": [
       "<style type=\"text/css\">\n",
       "#T_3165c * {\n",
       "  background-color: darkgreen;\n",
       "  color: white;\n",
       "  font-size: 12pt;\n",
       "}\n",
       "#T_3165c td:hover {\n",
       "  background-color: green;\n",
       "  color: white;\n",
       "}\n",
       "#T_3165c_row0_col0, #T_3165c_row0_col1, #T_3165c_row0_col2, #T_3165c_row0_col3, #T_3165c_row1_col0, #T_3165c_row1_col1, #T_3165c_row1_col2, #T_3165c_row1_col3, #T_3165c_row2_col0, #T_3165c_row2_col1, #T_3165c_row2_col2, #T_3165c_row2_col3, #T_3165c_row3_col0, #T_3165c_row3_col1, #T_3165c_row3_col2, #T_3165c_row3_col3, #T_3165c_row4_col0, #T_3165c_row4_col1, #T_3165c_row4_col2, #T_3165c_row4_col3, #T_3165c_row5_col0, #T_3165c_row5_col1, #T_3165c_row5_col2, #T_3165c_row5_col3, #T_3165c_row6_col0, #T_3165c_row6_col1, #T_3165c_row6_col2, #T_3165c_row6_col3, #T_3165c_row7_col0, #T_3165c_row7_col1, #T_3165c_row7_col2, #T_3165c_row7_col3, #T_3165c_row8_col0, #T_3165c_row8_col1, #T_3165c_row8_col2, #T_3165c_row8_col3, #T_3165c_row9_col0, #T_3165c_row9_col1, #T_3165c_row9_col2, #T_3165c_row9_col3 {\n",
       "  background-color: lightgreen;\n",
       "  color: black;\n",
       "  font-size: 12pt;\n",
       "}\n",
       "</style>\n",
       "<table id=\"T_3165c\">\n",
       "  <thead>\n",
       "    <tr>\n",
       "      <th class=\"blank level0\" >&nbsp;</th>\n",
       "      <th id=\"T_3165c_level0_col0\" class=\"col_heading level0 col0\" >TP</th>\n",
       "      <th id=\"T_3165c_level0_col1\" class=\"col_heading level0 col1\" >TN</th>\n",
       "      <th id=\"T_3165c_level0_col2\" class=\"col_heading level0 col2\" >FP</th>\n",
       "      <th id=\"T_3165c_level0_col3\" class=\"col_heading level0 col3\" >FN</th>\n",
       "    </tr>\n",
       "    <tr>\n",
       "      <th class=\"index_name level0\" >class_type</th>\n",
       "      <th class=\"blank col0\" >&nbsp;</th>\n",
       "      <th class=\"blank col1\" >&nbsp;</th>\n",
       "      <th class=\"blank col2\" >&nbsp;</th>\n",
       "      <th class=\"blank col3\" >&nbsp;</th>\n",
       "    </tr>\n",
       "  </thead>\n",
       "  <tbody>\n",
       "    <tr>\n",
       "      <th id=\"T_3165c_level0_row0\" class=\"row_heading level0 row0\" >0</th>\n",
       "      <td id=\"T_3165c_row0_col0\" class=\"data row0 col0\" >638</td>\n",
       "      <td id=\"T_3165c_row0_col1\" class=\"data row0 col1\" >9359</td>\n",
       "      <td id=\"T_3165c_row0_col2\" class=\"data row0 col2\" >2</td>\n",
       "      <td id=\"T_3165c_row0_col3\" class=\"data row0 col3\" >1</td>\n",
       "    </tr>\n",
       "    <tr>\n",
       "      <th id=\"T_3165c_level0_row1\" class=\"row_heading level0 row1\" >1</th>\n",
       "      <td id=\"T_3165c_row1_col0\" class=\"data row1 col0\" >1889</td>\n",
       "      <td id=\"T_3165c_row1_col1\" class=\"data row1 col1\" >8103</td>\n",
       "      <td id=\"T_3165c_row1_col2\" class=\"data row1 col2\" >4</td>\n",
       "      <td id=\"T_3165c_row1_col3\" class=\"data row1 col3\" >4</td>\n",
       "    </tr>\n",
       "    <tr>\n",
       "      <th id=\"T_3165c_level0_row2\" class=\"row_heading level0 row2\" >2</th>\n",
       "      <td id=\"T_3165c_row2_col0\" class=\"data row2 col0\" >1524</td>\n",
       "      <td id=\"T_3165c_row2_col1\" class=\"data row2 col1\" >8471</td>\n",
       "      <td id=\"T_3165c_row2_col2\" class=\"data row2 col2\" >2</td>\n",
       "      <td id=\"T_3165c_row2_col3\" class=\"data row2 col3\" >3</td>\n",
       "    </tr>\n",
       "    <tr>\n",
       "      <th id=\"T_3165c_level0_row3\" class=\"row_heading level0 row3\" >3</th>\n",
       "      <td id=\"T_3165c_row3_col0\" class=\"data row3 col0\" >1121</td>\n",
       "      <td id=\"T_3165c_row3_col1\" class=\"data row3 col1\" >8872</td>\n",
       "      <td id=\"T_3165c_row3_col2\" class=\"data row3 col2\" >2</td>\n",
       "      <td id=\"T_3165c_row3_col3\" class=\"data row3 col3\" >5</td>\n",
       "    </tr>\n",
       "    <tr>\n",
       "      <th id=\"T_3165c_level0_row4\" class=\"row_heading level0 row4\" >4</th>\n",
       "      <td id=\"T_3165c_row4_col0\" class=\"data row4 col0\" >1015</td>\n",
       "      <td id=\"T_3165c_row4_col1\" class=\"data row4 col1\" >8979</td>\n",
       "      <td id=\"T_3165c_row4_col2\" class=\"data row4 col2\" >3</td>\n",
       "      <td id=\"T_3165c_row4_col3\" class=\"data row4 col3\" >3</td>\n",
       "    </tr>\n",
       "    <tr>\n",
       "      <th id=\"T_3165c_level0_row5\" class=\"row_heading level0 row5\" >5</th>\n",
       "      <td id=\"T_3165c_row5_col0\" class=\"data row5 col0\" >958</td>\n",
       "      <td id=\"T_3165c_row5_col1\" class=\"data row5 col1\" >9036</td>\n",
       "      <td id=\"T_3165c_row5_col2\" class=\"data row5 col2\" >4</td>\n",
       "      <td id=\"T_3165c_row5_col3\" class=\"data row5 col3\" >2</td>\n",
       "    </tr>\n",
       "    <tr>\n",
       "      <th id=\"T_3165c_level0_row6\" class=\"row_heading level0 row6\" >6</th>\n",
       "      <td id=\"T_3165c_row6_col0\" class=\"data row6 col0\" >786</td>\n",
       "      <td id=\"T_3165c_row6_col1\" class=\"data row6 col1\" >9207</td>\n",
       "      <td id=\"T_3165c_row6_col2\" class=\"data row6 col2\" >4</td>\n",
       "      <td id=\"T_3165c_row6_col3\" class=\"data row6 col3\" >3</td>\n",
       "    </tr>\n",
       "    <tr>\n",
       "      <th id=\"T_3165c_level0_row7\" class=\"row_heading level0 row7\" >7</th>\n",
       "      <td id=\"T_3165c_row7_col0\" class=\"data row7 col0\" >756</td>\n",
       "      <td id=\"T_3165c_row7_col1\" class=\"data row7 col1\" >9241</td>\n",
       "      <td id=\"T_3165c_row7_col2\" class=\"data row7 col2\" >2</td>\n",
       "      <td id=\"T_3165c_row7_col3\" class=\"data row7 col3\" >1</td>\n",
       "    </tr>\n",
       "    <tr>\n",
       "      <th id=\"T_3165c_level0_row8\" class=\"row_heading level0 row8\" >8</th>\n",
       "      <td id=\"T_3165c_row8_col0\" class=\"data row8 col0\" >663</td>\n",
       "      <td id=\"T_3165c_row8_col1\" class=\"data row8 col1\" >9331</td>\n",
       "      <td id=\"T_3165c_row8_col2\" class=\"data row8 col2\" >2</td>\n",
       "      <td id=\"T_3165c_row8_col3\" class=\"data row8 col3\" >4</td>\n",
       "    </tr>\n",
       "    <tr>\n",
       "      <th id=\"T_3165c_level0_row9\" class=\"row_heading level0 row9\" >9</th>\n",
       "      <td id=\"T_3165c_row9_col0\" class=\"data row9 col0\" >623</td>\n",
       "      <td id=\"T_3165c_row9_col1\" class=\"data row9 col1\" >9374</td>\n",
       "      <td id=\"T_3165c_row9_col2\" class=\"data row9 col2\" >2</td>\n",
       "      <td id=\"T_3165c_row9_col3\" class=\"data row9 col3\" >1</td>\n",
       "    </tr>\n",
       "  </tbody>\n",
       "</table>\n"
      ],
      "text/plain": [
       "<pandas.io.formats.style.Styler at 0x1a9ce394460>"
      ]
     },
     "metadata": {},
     "output_type": "display_data"
    },
    {
     "name": "stdout",
     "output_type": "stream",
     "text": [
      "\n"
     ]
    },
    {
     "data": {
      "text/plain": [
       "{'accuracy': 0.9973,\n",
       " 'precision': 0.9970656100703337,\n",
       " 'recall': 0.9972163733742958,\n",
       " 'f1_score': 0.9971402629008501}"
      ]
     },
     "execution_count": 7,
     "metadata": {},
     "output_type": "execute_result"
    }
   ],
   "source": [
    "metrics = MulticlassClassificationMetrics(test_ds_y, full_ans)\n",
    "print(metrics)\n",
    "metrics.metrics()"
   ]
  },
  {
   "attachments": {},
   "cell_type": "markdown",
   "metadata": {},
   "source": [
    "# Сперва рассмотрим все acc чекпоинты "
   ]
  },
  {
   "cell_type": "code",
   "execution_count": 8,
   "metadata": {},
   "outputs": [],
   "source": [
    "nums = ['zero', 'one', 'two', 'three', 'four', 'five', 'six', 'seven', 'eight', 'nine']\n",
    "models = []\n",
    "for i in nums:\n",
    "    models.append(tf.keras.models.load_model(f'../../checkpoints/model_{i}_categorical_accuracy.h5'))"
   ]
  },
  {
   "cell_type": "code",
   "execution_count": 9,
   "metadata": {},
   "outputs": [
    {
     "name": "stdout",
     "output_type": "stream",
     "text": [
      "313/313 [==============================] - 77s 242ms/step\n",
      "313/313 [==============================] - 76s 239ms/step\n",
      "313/313 [==============================] - 97s 307ms/step\n",
      "313/313 [==============================] - 119s 371ms/step\n",
      "313/313 [==============================] - 123s 381ms/step\n",
      "313/313 [==============================] - 118s 367ms/step\n",
      "313/313 [==============================] - 105s 327ms/step\n",
      "313/313 [==============================] - 56s 177ms/step\n",
      "313/313 [==============================] - 57s 179ms/step\n",
      "313/313 [==============================] - 57s 181ms/step\n"
     ]
    }
   ],
   "source": [
    "ans = None\n",
    "for i in models:\n",
    "    pred = i.predict(test_ds_x).ravel()\n",
    "    if type(ans) is type(None):\n",
    "        ans = pred\n",
    "    else:\n",
    "        ans = np.column_stack((ans, pred))"
   ]
  },
  {
   "cell_type": "code",
   "execution_count": 10,
   "metadata": {},
   "outputs": [],
   "source": [
    "full_ans = np.argmax(ans, axis=-1)"
   ]
  },
  {
   "cell_type": "code",
   "execution_count": 11,
   "metadata": {},
   "outputs": [
    {
     "data": {
      "text/html": [
       "<style type=\"text/css\">\n",
       "#T_91ff5 * {\n",
       "  background-color: darkgreen;\n",
       "  color: white;\n",
       "  font-size: 12pt;\n",
       "}\n",
       "#T_91ff5 td:hover {\n",
       "  background-color: green;\n",
       "  color: white;\n",
       "}\n",
       "#T_91ff5_row0_col0, #T_91ff5_row0_col1, #T_91ff5_row0_col2, #T_91ff5_row0_col3, #T_91ff5_row1_col0, #T_91ff5_row1_col1, #T_91ff5_row1_col2, #T_91ff5_row1_col3, #T_91ff5_row2_col0, #T_91ff5_row2_col1, #T_91ff5_row2_col2, #T_91ff5_row2_col3, #T_91ff5_row3_col0, #T_91ff5_row3_col1, #T_91ff5_row3_col2, #T_91ff5_row3_col3, #T_91ff5_row4_col0, #T_91ff5_row4_col1, #T_91ff5_row4_col2, #T_91ff5_row4_col3, #T_91ff5_row5_col0, #T_91ff5_row5_col1, #T_91ff5_row5_col2, #T_91ff5_row5_col3, #T_91ff5_row6_col0, #T_91ff5_row6_col1, #T_91ff5_row6_col2, #T_91ff5_row6_col3, #T_91ff5_row7_col0, #T_91ff5_row7_col1, #T_91ff5_row7_col2, #T_91ff5_row7_col3, #T_91ff5_row8_col0, #T_91ff5_row8_col1, #T_91ff5_row8_col2, #T_91ff5_row8_col3, #T_91ff5_row9_col0, #T_91ff5_row9_col1, #T_91ff5_row9_col2, #T_91ff5_row9_col3 {\n",
       "  background-color: lightgreen;\n",
       "  color: black;\n",
       "  font-size: 12pt;\n",
       "}\n",
       "</style>\n",
       "<table id=\"T_91ff5\">\n",
       "  <thead>\n",
       "    <tr>\n",
       "      <th class=\"blank level0\" >&nbsp;</th>\n",
       "      <th id=\"T_91ff5_level0_col0\" class=\"col_heading level0 col0\" >TP</th>\n",
       "      <th id=\"T_91ff5_level0_col1\" class=\"col_heading level0 col1\" >TN</th>\n",
       "      <th id=\"T_91ff5_level0_col2\" class=\"col_heading level0 col2\" >FP</th>\n",
       "      <th id=\"T_91ff5_level0_col3\" class=\"col_heading level0 col3\" >FN</th>\n",
       "    </tr>\n",
       "    <tr>\n",
       "      <th class=\"index_name level0\" >class_type</th>\n",
       "      <th class=\"blank col0\" >&nbsp;</th>\n",
       "      <th class=\"blank col1\" >&nbsp;</th>\n",
       "      <th class=\"blank col2\" >&nbsp;</th>\n",
       "      <th class=\"blank col3\" >&nbsp;</th>\n",
       "    </tr>\n",
       "  </thead>\n",
       "  <tbody>\n",
       "    <tr>\n",
       "      <th id=\"T_91ff5_level0_row0\" class=\"row_heading level0 row0\" >0</th>\n",
       "      <td id=\"T_91ff5_row0_col0\" class=\"data row0 col0\" >638</td>\n",
       "      <td id=\"T_91ff5_row0_col1\" class=\"data row0 col1\" >9358</td>\n",
       "      <td id=\"T_91ff5_row0_col2\" class=\"data row0 col2\" >3</td>\n",
       "      <td id=\"T_91ff5_row0_col3\" class=\"data row0 col3\" >1</td>\n",
       "    </tr>\n",
       "    <tr>\n",
       "      <th id=\"T_91ff5_level0_row1\" class=\"row_heading level0 row1\" >1</th>\n",
       "      <td id=\"T_91ff5_row1_col0\" class=\"data row1 col0\" >1888</td>\n",
       "      <td id=\"T_91ff5_row1_col1\" class=\"data row1 col1\" >8103</td>\n",
       "      <td id=\"T_91ff5_row1_col2\" class=\"data row1 col2\" >4</td>\n",
       "      <td id=\"T_91ff5_row1_col3\" class=\"data row1 col3\" >5</td>\n",
       "    </tr>\n",
       "    <tr>\n",
       "      <th id=\"T_91ff5_level0_row2\" class=\"row_heading level0 row2\" >2</th>\n",
       "      <td id=\"T_91ff5_row2_col0\" class=\"data row2 col0\" >1523</td>\n",
       "      <td id=\"T_91ff5_row2_col1\" class=\"data row2 col1\" >8466</td>\n",
       "      <td id=\"T_91ff5_row2_col2\" class=\"data row2 col2\" >7</td>\n",
       "      <td id=\"T_91ff5_row2_col3\" class=\"data row2 col3\" >4</td>\n",
       "    </tr>\n",
       "    <tr>\n",
       "      <th id=\"T_91ff5_level0_row3\" class=\"row_heading level0 row3\" >3</th>\n",
       "      <td id=\"T_91ff5_row3_col0\" class=\"data row3 col0\" >1120</td>\n",
       "      <td id=\"T_91ff5_row3_col1\" class=\"data row3 col1\" >8870</td>\n",
       "      <td id=\"T_91ff5_row3_col2\" class=\"data row3 col2\" >4</td>\n",
       "      <td id=\"T_91ff5_row3_col3\" class=\"data row3 col3\" >6</td>\n",
       "    </tr>\n",
       "    <tr>\n",
       "      <th id=\"T_91ff5_level0_row4\" class=\"row_heading level0 row4\" >4</th>\n",
       "      <td id=\"T_91ff5_row4_col0\" class=\"data row4 col0\" >1015</td>\n",
       "      <td id=\"T_91ff5_row4_col1\" class=\"data row4 col1\" >8977</td>\n",
       "      <td id=\"T_91ff5_row4_col2\" class=\"data row4 col2\" >5</td>\n",
       "      <td id=\"T_91ff5_row4_col3\" class=\"data row4 col3\" >3</td>\n",
       "    </tr>\n",
       "    <tr>\n",
       "      <th id=\"T_91ff5_level0_row5\" class=\"row_heading level0 row5\" >5</th>\n",
       "      <td id=\"T_91ff5_row5_col0\" class=\"data row5 col0\" >958</td>\n",
       "      <td id=\"T_91ff5_row5_col1\" class=\"data row5 col1\" >9034</td>\n",
       "      <td id=\"T_91ff5_row5_col2\" class=\"data row5 col2\" >6</td>\n",
       "      <td id=\"T_91ff5_row5_col3\" class=\"data row5 col3\" >2</td>\n",
       "    </tr>\n",
       "    <tr>\n",
       "      <th id=\"T_91ff5_level0_row6\" class=\"row_heading level0 row6\" >6</th>\n",
       "      <td id=\"T_91ff5_row6_col0\" class=\"data row6 col0\" >784</td>\n",
       "      <td id=\"T_91ff5_row6_col1\" class=\"data row6 col1\" >9206</td>\n",
       "      <td id=\"T_91ff5_row6_col2\" class=\"data row6 col2\" >5</td>\n",
       "      <td id=\"T_91ff5_row6_col3\" class=\"data row6 col3\" >5</td>\n",
       "    </tr>\n",
       "    <tr>\n",
       "      <th id=\"T_91ff5_level0_row7\" class=\"row_heading level0 row7\" >7</th>\n",
       "      <td id=\"T_91ff5_row7_col0\" class=\"data row7 col0\" >754</td>\n",
       "      <td id=\"T_91ff5_row7_col1\" class=\"data row7 col1\" >9241</td>\n",
       "      <td id=\"T_91ff5_row7_col2\" class=\"data row7 col2\" >2</td>\n",
       "      <td id=\"T_91ff5_row7_col3\" class=\"data row7 col3\" >3</td>\n",
       "    </tr>\n",
       "    <tr>\n",
       "      <th id=\"T_91ff5_level0_row8\" class=\"row_heading level0 row8\" >8</th>\n",
       "      <td id=\"T_91ff5_row8_col0\" class=\"data row8 col0\" >658</td>\n",
       "      <td id=\"T_91ff5_row8_col1\" class=\"data row8 col1\" >9332</td>\n",
       "      <td id=\"T_91ff5_row8_col2\" class=\"data row8 col2\" >1</td>\n",
       "      <td id=\"T_91ff5_row8_col3\" class=\"data row8 col3\" >9</td>\n",
       "    </tr>\n",
       "    <tr>\n",
       "      <th id=\"T_91ff5_level0_row9\" class=\"row_heading level0 row9\" >9</th>\n",
       "      <td id=\"T_91ff5_row9_col0\" class=\"data row9 col0\" >623</td>\n",
       "      <td id=\"T_91ff5_row9_col1\" class=\"data row9 col1\" >9374</td>\n",
       "      <td id=\"T_91ff5_row9_col2\" class=\"data row9 col2\" >2</td>\n",
       "      <td id=\"T_91ff5_row9_col3\" class=\"data row9 col3\" >1</td>\n",
       "    </tr>\n",
       "  </tbody>\n",
       "</table>\n"
      ],
      "text/plain": [
       "<pandas.io.formats.style.Styler at 0x1aa24b9b610>"
      ]
     },
     "metadata": {},
     "output_type": "display_data"
    },
    {
     "name": "stdout",
     "output_type": "stream",
     "text": [
      "\n"
     ]
    },
    {
     "data": {
      "text/plain": [
       "{'accuracy': 0.9961,\n",
       " 'precision': 0.9960245649510334,\n",
       " 'recall': 0.9957419379364476,\n",
       " 'f1_score': 0.9958785800257404}"
      ]
     },
     "execution_count": 11,
     "metadata": {},
     "output_type": "execute_result"
    }
   ],
   "source": [
    "metrics = MulticlassClassificationMetrics(test_ds_y, full_ans)\n",
    "print(metrics)\n",
    "metrics.metrics()"
   ]
  },
  {
   "attachments": {},
   "cell_type": "markdown",
   "metadata": {},
   "source": [
    "# Рассмотрим все avg loss чекпоинты "
   ]
  },
  {
   "cell_type": "code",
   "execution_count": 12,
   "metadata": {},
   "outputs": [],
   "source": [
    "nums = ['zero', 'one', 'two', 'three', 'four', 'five', 'six', 'seven', 'eight', 'nine']\n",
    "models = []\n",
    "for i in nums:\n",
    "    models.append(tf.keras.models.load_model(f'../../checkpoints/model_{i}_avg_loss.h5'))"
   ]
  },
  {
   "cell_type": "code",
   "execution_count": 13,
   "metadata": {},
   "outputs": [
    {
     "name": "stdout",
     "output_type": "stream",
     "text": [
      "313/313 [==============================] - 61s 191ms/step\n",
      "313/313 [==============================] - 61s 194ms/step\n",
      "313/313 [==============================] - 61s 194ms/step\n",
      "313/313 [==============================] - 60s 189ms/step\n",
      "313/313 [==============================] - 62s 197ms/step\n",
      "313/313 [==============================] - 60s 189ms/step\n",
      "313/313 [==============================] - 59s 187ms/step\n",
      "313/313 [==============================] - 59s 188ms/step\n",
      "313/313 [==============================] - 59s 187ms/step\n",
      "313/313 [==============================] - 61s 193ms/step\n"
     ]
    }
   ],
   "source": [
    "ans = None\n",
    "for i in models:\n",
    "    pred = i.predict(test_ds_x).ravel()\n",
    "    if type(ans) is type(None):\n",
    "        ans = pred\n",
    "    else:\n",
    "        ans = np.column_stack((ans, pred))"
   ]
  },
  {
   "cell_type": "code",
   "execution_count": 14,
   "metadata": {},
   "outputs": [],
   "source": [
    "full_ans = np.argmax(ans, axis=-1)"
   ]
  },
  {
   "cell_type": "code",
   "execution_count": 15,
   "metadata": {},
   "outputs": [
    {
     "data": {
      "text/html": [
       "<style type=\"text/css\">\n",
       "#T_1ed5a * {\n",
       "  background-color: darkgreen;\n",
       "  color: white;\n",
       "  font-size: 12pt;\n",
       "}\n",
       "#T_1ed5a td:hover {\n",
       "  background-color: green;\n",
       "  color: white;\n",
       "}\n",
       "#T_1ed5a_row0_col0, #T_1ed5a_row0_col1, #T_1ed5a_row0_col2, #T_1ed5a_row0_col3, #T_1ed5a_row1_col0, #T_1ed5a_row1_col1, #T_1ed5a_row1_col2, #T_1ed5a_row1_col3, #T_1ed5a_row2_col0, #T_1ed5a_row2_col1, #T_1ed5a_row2_col2, #T_1ed5a_row2_col3, #T_1ed5a_row3_col0, #T_1ed5a_row3_col1, #T_1ed5a_row3_col2, #T_1ed5a_row3_col3, #T_1ed5a_row4_col0, #T_1ed5a_row4_col1, #T_1ed5a_row4_col2, #T_1ed5a_row4_col3, #T_1ed5a_row5_col0, #T_1ed5a_row5_col1, #T_1ed5a_row5_col2, #T_1ed5a_row5_col3, #T_1ed5a_row6_col0, #T_1ed5a_row6_col1, #T_1ed5a_row6_col2, #T_1ed5a_row6_col3, #T_1ed5a_row7_col0, #T_1ed5a_row7_col1, #T_1ed5a_row7_col2, #T_1ed5a_row7_col3, #T_1ed5a_row8_col0, #T_1ed5a_row8_col1, #T_1ed5a_row8_col2, #T_1ed5a_row8_col3, #T_1ed5a_row9_col0, #T_1ed5a_row9_col1, #T_1ed5a_row9_col2, #T_1ed5a_row9_col3 {\n",
       "  background-color: lightgreen;\n",
       "  color: black;\n",
       "  font-size: 12pt;\n",
       "}\n",
       "</style>\n",
       "<table id=\"T_1ed5a\">\n",
       "  <thead>\n",
       "    <tr>\n",
       "      <th class=\"blank level0\" >&nbsp;</th>\n",
       "      <th id=\"T_1ed5a_level0_col0\" class=\"col_heading level0 col0\" >TP</th>\n",
       "      <th id=\"T_1ed5a_level0_col1\" class=\"col_heading level0 col1\" >TN</th>\n",
       "      <th id=\"T_1ed5a_level0_col2\" class=\"col_heading level0 col2\" >FP</th>\n",
       "      <th id=\"T_1ed5a_level0_col3\" class=\"col_heading level0 col3\" >FN</th>\n",
       "    </tr>\n",
       "    <tr>\n",
       "      <th class=\"index_name level0\" >class_type</th>\n",
       "      <th class=\"blank col0\" >&nbsp;</th>\n",
       "      <th class=\"blank col1\" >&nbsp;</th>\n",
       "      <th class=\"blank col2\" >&nbsp;</th>\n",
       "      <th class=\"blank col3\" >&nbsp;</th>\n",
       "    </tr>\n",
       "  </thead>\n",
       "  <tbody>\n",
       "    <tr>\n",
       "      <th id=\"T_1ed5a_level0_row0\" class=\"row_heading level0 row0\" >0</th>\n",
       "      <td id=\"T_1ed5a_row0_col0\" class=\"data row0 col0\" >638</td>\n",
       "      <td id=\"T_1ed5a_row0_col1\" class=\"data row0 col1\" >9359</td>\n",
       "      <td id=\"T_1ed5a_row0_col2\" class=\"data row0 col2\" >2</td>\n",
       "      <td id=\"T_1ed5a_row0_col3\" class=\"data row0 col3\" >1</td>\n",
       "    </tr>\n",
       "    <tr>\n",
       "      <th id=\"T_1ed5a_level0_row1\" class=\"row_heading level0 row1\" >1</th>\n",
       "      <td id=\"T_1ed5a_row1_col0\" class=\"data row1 col0\" >1884</td>\n",
       "      <td id=\"T_1ed5a_row1_col1\" class=\"data row1 col1\" >8099</td>\n",
       "      <td id=\"T_1ed5a_row1_col2\" class=\"data row1 col2\" >8</td>\n",
       "      <td id=\"T_1ed5a_row1_col3\" class=\"data row1 col3\" >9</td>\n",
       "    </tr>\n",
       "    <tr>\n",
       "      <th id=\"T_1ed5a_level0_row2\" class=\"row_heading level0 row2\" >2</th>\n",
       "      <td id=\"T_1ed5a_row2_col0\" class=\"data row2 col0\" >1522</td>\n",
       "      <td id=\"T_1ed5a_row2_col1\" class=\"data row2 col1\" >8470</td>\n",
       "      <td id=\"T_1ed5a_row2_col2\" class=\"data row2 col2\" >3</td>\n",
       "      <td id=\"T_1ed5a_row2_col3\" class=\"data row2 col3\" >5</td>\n",
       "    </tr>\n",
       "    <tr>\n",
       "      <th id=\"T_1ed5a_level0_row3\" class=\"row_heading level0 row3\" >3</th>\n",
       "      <td id=\"T_1ed5a_row3_col0\" class=\"data row3 col0\" >1119</td>\n",
       "      <td id=\"T_1ed5a_row3_col1\" class=\"data row3 col1\" >8872</td>\n",
       "      <td id=\"T_1ed5a_row3_col2\" class=\"data row3 col2\" >2</td>\n",
       "      <td id=\"T_1ed5a_row3_col3\" class=\"data row3 col3\" >7</td>\n",
       "    </tr>\n",
       "    <tr>\n",
       "      <th id=\"T_1ed5a_level0_row4\" class=\"row_heading level0 row4\" >4</th>\n",
       "      <td id=\"T_1ed5a_row4_col0\" class=\"data row4 col0\" >1013</td>\n",
       "      <td id=\"T_1ed5a_row4_col1\" class=\"data row4 col1\" >8977</td>\n",
       "      <td id=\"T_1ed5a_row4_col2\" class=\"data row4 col2\" >5</td>\n",
       "      <td id=\"T_1ed5a_row4_col3\" class=\"data row4 col3\" >5</td>\n",
       "    </tr>\n",
       "    <tr>\n",
       "      <th id=\"T_1ed5a_level0_row5\" class=\"row_heading level0 row5\" >5</th>\n",
       "      <td id=\"T_1ed5a_row5_col0\" class=\"data row5 col0\" >959</td>\n",
       "      <td id=\"T_1ed5a_row5_col1\" class=\"data row5 col1\" >9034</td>\n",
       "      <td id=\"T_1ed5a_row5_col2\" class=\"data row5 col2\" >6</td>\n",
       "      <td id=\"T_1ed5a_row5_col3\" class=\"data row5 col3\" >1</td>\n",
       "    </tr>\n",
       "    <tr>\n",
       "      <th id=\"T_1ed5a_level0_row6\" class=\"row_heading level0 row6\" >6</th>\n",
       "      <td id=\"T_1ed5a_row6_col0\" class=\"data row6 col0\" >787</td>\n",
       "      <td id=\"T_1ed5a_row6_col1\" class=\"data row6 col1\" >9206</td>\n",
       "      <td id=\"T_1ed5a_row6_col2\" class=\"data row6 col2\" >5</td>\n",
       "      <td id=\"T_1ed5a_row6_col3\" class=\"data row6 col3\" >2</td>\n",
       "    </tr>\n",
       "    <tr>\n",
       "      <th id=\"T_1ed5a_level0_row7\" class=\"row_heading level0 row7\" >7</th>\n",
       "      <td id=\"T_1ed5a_row7_col0\" class=\"data row7 col0\" >755</td>\n",
       "      <td id=\"T_1ed5a_row7_col1\" class=\"data row7 col1\" >9240</td>\n",
       "      <td id=\"T_1ed5a_row7_col2\" class=\"data row7 col2\" >3</td>\n",
       "      <td id=\"T_1ed5a_row7_col3\" class=\"data row7 col3\" >2</td>\n",
       "    </tr>\n",
       "    <tr>\n",
       "      <th id=\"T_1ed5a_level0_row8\" class=\"row_heading level0 row8\" >8</th>\n",
       "      <td id=\"T_1ed5a_row8_col0\" class=\"data row8 col0\" >663</td>\n",
       "      <td id=\"T_1ed5a_row8_col1\" class=\"data row8 col1\" >9332</td>\n",
       "      <td id=\"T_1ed5a_row8_col2\" class=\"data row8 col2\" >1</td>\n",
       "      <td id=\"T_1ed5a_row8_col3\" class=\"data row8 col3\" >4</td>\n",
       "    </tr>\n",
       "    <tr>\n",
       "      <th id=\"T_1ed5a_level0_row9\" class=\"row_heading level0 row9\" >9</th>\n",
       "      <td id=\"T_1ed5a_row9_col0\" class=\"data row9 col0\" >623</td>\n",
       "      <td id=\"T_1ed5a_row9_col1\" class=\"data row9 col1\" >9374</td>\n",
       "      <td id=\"T_1ed5a_row9_col2\" class=\"data row9 col2\" >2</td>\n",
       "      <td id=\"T_1ed5a_row9_col3\" class=\"data row9 col3\" >1</td>\n",
       "    </tr>\n",
       "  </tbody>\n",
       "</table>\n"
      ],
      "text/plain": [
       "<pandas.io.formats.style.Styler at 0x1aa17944eb0>"
      ]
     },
     "metadata": {},
     "output_type": "display_data"
    },
    {
     "name": "stdout",
     "output_type": "stream",
     "text": [
      "\n"
     ]
    },
    {
     "data": {
      "text/plain": [
       "{'accuracy': 0.9963,\n",
       " 'precision': 0.9962789188768684,\n",
       " 'recall': 0.9965459920308402,\n",
       " 'f1_score': 0.9964102073557164}"
      ]
     },
     "execution_count": 15,
     "metadata": {},
     "output_type": "execute_result"
    }
   ],
   "source": [
    "metrics = MulticlassClassificationMetrics(test_ds_y, full_ans)\n",
    "print(metrics)\n",
    "metrics.metrics()"
   ]
  },
  {
   "attachments": {},
   "cell_type": "markdown",
   "metadata": {},
   "source": [
    "# Рассмотрим все loss чекпоинты"
   ]
  },
  {
   "cell_type": "code",
   "execution_count": 16,
   "metadata": {},
   "outputs": [],
   "source": [
    "nums = ['zero', 'one', 'two', 'three', 'four', 'five', 'six', 'seven', 'eight', 'nine']\n",
    "models = []\n",
    "for i in nums:\n",
    "    models.append(tf.keras.models.load_model(f'../../checkpoints/model_{i}_loss.h5'))"
   ]
  },
  {
   "cell_type": "code",
   "execution_count": 17,
   "metadata": {},
   "outputs": [
    {
     "name": "stdout",
     "output_type": "stream",
     "text": [
      "313/313 [==============================] - 61s 191ms/step\n",
      "313/313 [==============================] - 61s 192ms/step\n",
      "313/313 [==============================] - 61s 193ms/step\n",
      "313/313 [==============================] - 60s 189ms/step\n",
      "313/313 [==============================] - 60s 190ms/step\n",
      "313/313 [==============================] - 59s 186ms/step\n",
      "313/313 [==============================] - 60s 188ms/step\n",
      "313/313 [==============================] - 59s 187ms/step\n",
      "313/313 [==============================] - 61s 193ms/step\n",
      "313/313 [==============================] - 59s 185ms/step\n"
     ]
    }
   ],
   "source": [
    "ans = None\n",
    "for i in models:\n",
    "    pred = i.predict(test_ds_x).ravel()\n",
    "    if type(ans) is type(None):\n",
    "        ans = pred\n",
    "    else:\n",
    "        ans = np.column_stack((ans, pred))"
   ]
  },
  {
   "cell_type": "code",
   "execution_count": 18,
   "metadata": {},
   "outputs": [],
   "source": [
    "full_ans = np.argmax(ans, axis=-1)"
   ]
  },
  {
   "cell_type": "code",
   "execution_count": 19,
   "metadata": {},
   "outputs": [
    {
     "data": {
      "text/html": [
       "<style type=\"text/css\">\n",
       "#T_96012 * {\n",
       "  background-color: darkgreen;\n",
       "  color: white;\n",
       "  font-size: 12pt;\n",
       "}\n",
       "#T_96012 td:hover {\n",
       "  background-color: green;\n",
       "  color: white;\n",
       "}\n",
       "#T_96012_row0_col0, #T_96012_row0_col1, #T_96012_row0_col2, #T_96012_row0_col3, #T_96012_row1_col0, #T_96012_row1_col1, #T_96012_row1_col2, #T_96012_row1_col3, #T_96012_row2_col0, #T_96012_row2_col1, #T_96012_row2_col2, #T_96012_row2_col3, #T_96012_row3_col0, #T_96012_row3_col1, #T_96012_row3_col2, #T_96012_row3_col3, #T_96012_row4_col0, #T_96012_row4_col1, #T_96012_row4_col2, #T_96012_row4_col3, #T_96012_row5_col0, #T_96012_row5_col1, #T_96012_row5_col2, #T_96012_row5_col3, #T_96012_row6_col0, #T_96012_row6_col1, #T_96012_row6_col2, #T_96012_row6_col3, #T_96012_row7_col0, #T_96012_row7_col1, #T_96012_row7_col2, #T_96012_row7_col3, #T_96012_row8_col0, #T_96012_row8_col1, #T_96012_row8_col2, #T_96012_row8_col3, #T_96012_row9_col0, #T_96012_row9_col1, #T_96012_row9_col2, #T_96012_row9_col3 {\n",
       "  background-color: lightgreen;\n",
       "  color: black;\n",
       "  font-size: 12pt;\n",
       "}\n",
       "</style>\n",
       "<table id=\"T_96012\">\n",
       "  <thead>\n",
       "    <tr>\n",
       "      <th class=\"blank level0\" >&nbsp;</th>\n",
       "      <th id=\"T_96012_level0_col0\" class=\"col_heading level0 col0\" >TP</th>\n",
       "      <th id=\"T_96012_level0_col1\" class=\"col_heading level0 col1\" >TN</th>\n",
       "      <th id=\"T_96012_level0_col2\" class=\"col_heading level0 col2\" >FP</th>\n",
       "      <th id=\"T_96012_level0_col3\" class=\"col_heading level0 col3\" >FN</th>\n",
       "    </tr>\n",
       "    <tr>\n",
       "      <th class=\"index_name level0\" >class_type</th>\n",
       "      <th class=\"blank col0\" >&nbsp;</th>\n",
       "      <th class=\"blank col1\" >&nbsp;</th>\n",
       "      <th class=\"blank col2\" >&nbsp;</th>\n",
       "      <th class=\"blank col3\" >&nbsp;</th>\n",
       "    </tr>\n",
       "  </thead>\n",
       "  <tbody>\n",
       "    <tr>\n",
       "      <th id=\"T_96012_level0_row0\" class=\"row_heading level0 row0\" >0</th>\n",
       "      <td id=\"T_96012_row0_col0\" class=\"data row0 col0\" >638</td>\n",
       "      <td id=\"T_96012_row0_col1\" class=\"data row0 col1\" >9357</td>\n",
       "      <td id=\"T_96012_row0_col2\" class=\"data row0 col2\" >4</td>\n",
       "      <td id=\"T_96012_row0_col3\" class=\"data row0 col3\" >1</td>\n",
       "    </tr>\n",
       "    <tr>\n",
       "      <th id=\"T_96012_level0_row1\" class=\"row_heading level0 row1\" >1</th>\n",
       "      <td id=\"T_96012_row1_col0\" class=\"data row1 col0\" >1880</td>\n",
       "      <td id=\"T_96012_row1_col1\" class=\"data row1 col1\" >8101</td>\n",
       "      <td id=\"T_96012_row1_col2\" class=\"data row1 col2\" >6</td>\n",
       "      <td id=\"T_96012_row1_col3\" class=\"data row1 col3\" >13</td>\n",
       "    </tr>\n",
       "    <tr>\n",
       "      <th id=\"T_96012_level0_row2\" class=\"row_heading level0 row2\" >2</th>\n",
       "      <td id=\"T_96012_row2_col0\" class=\"data row2 col0\" >1517</td>\n",
       "      <td id=\"T_96012_row2_col1\" class=\"data row2 col1\" >8468</td>\n",
       "      <td id=\"T_96012_row2_col2\" class=\"data row2 col2\" >5</td>\n",
       "      <td id=\"T_96012_row2_col3\" class=\"data row2 col3\" >10</td>\n",
       "    </tr>\n",
       "    <tr>\n",
       "      <th id=\"T_96012_level0_row3\" class=\"row_heading level0 row3\" >3</th>\n",
       "      <td id=\"T_96012_row3_col0\" class=\"data row3 col0\" >1118</td>\n",
       "      <td id=\"T_96012_row3_col1\" class=\"data row3 col1\" >8870</td>\n",
       "      <td id=\"T_96012_row3_col2\" class=\"data row3 col2\" >4</td>\n",
       "      <td id=\"T_96012_row3_col3\" class=\"data row3 col3\" >8</td>\n",
       "    </tr>\n",
       "    <tr>\n",
       "      <th id=\"T_96012_level0_row4\" class=\"row_heading level0 row4\" >4</th>\n",
       "      <td id=\"T_96012_row4_col0\" class=\"data row4 col0\" >1014</td>\n",
       "      <td id=\"T_96012_row4_col1\" class=\"data row4 col1\" >8974</td>\n",
       "      <td id=\"T_96012_row4_col2\" class=\"data row4 col2\" >8</td>\n",
       "      <td id=\"T_96012_row4_col3\" class=\"data row4 col3\" >4</td>\n",
       "    </tr>\n",
       "    <tr>\n",
       "      <th id=\"T_96012_level0_row5\" class=\"row_heading level0 row5\" >5</th>\n",
       "      <td id=\"T_96012_row5_col0\" class=\"data row5 col0\" >959</td>\n",
       "      <td id=\"T_96012_row5_col1\" class=\"data row5 col1\" >9034</td>\n",
       "      <td id=\"T_96012_row5_col2\" class=\"data row5 col2\" >6</td>\n",
       "      <td id=\"T_96012_row5_col3\" class=\"data row5 col3\" >1</td>\n",
       "    </tr>\n",
       "    <tr>\n",
       "      <th id=\"T_96012_level0_row6\" class=\"row_heading level0 row6\" >6</th>\n",
       "      <td id=\"T_96012_row6_col0\" class=\"data row6 col0\" >786</td>\n",
       "      <td id=\"T_96012_row6_col1\" class=\"data row6 col1\" >9203</td>\n",
       "      <td id=\"T_96012_row6_col2\" class=\"data row6 col2\" >8</td>\n",
       "      <td id=\"T_96012_row6_col3\" class=\"data row6 col3\" >3</td>\n",
       "    </tr>\n",
       "    <tr>\n",
       "      <th id=\"T_96012_level0_row7\" class=\"row_heading level0 row7\" >7</th>\n",
       "      <td id=\"T_96012_row7_col0\" class=\"data row7 col0\" >755</td>\n",
       "      <td id=\"T_96012_row7_col1\" class=\"data row7 col1\" >9239</td>\n",
       "      <td id=\"T_96012_row7_col2\" class=\"data row7 col2\" >4</td>\n",
       "      <td id=\"T_96012_row7_col3\" class=\"data row7 col3\" >2</td>\n",
       "    </tr>\n",
       "    <tr>\n",
       "      <th id=\"T_96012_level0_row8\" class=\"row_heading level0 row8\" >8</th>\n",
       "      <td id=\"T_96012_row8_col0\" class=\"data row8 col0\" >661</td>\n",
       "      <td id=\"T_96012_row8_col1\" class=\"data row8 col1\" >9333</td>\n",
       "      <td id=\"T_96012_row8_col2\" class=\"data row8 col2\" >0</td>\n",
       "      <td id=\"T_96012_row8_col3\" class=\"data row8 col3\" >6</td>\n",
       "    </tr>\n",
       "    <tr>\n",
       "      <th id=\"T_96012_level0_row9\" class=\"row_heading level0 row9\" >9</th>\n",
       "      <td id=\"T_96012_row9_col0\" class=\"data row9 col0\" >622</td>\n",
       "      <td id=\"T_96012_row9_col1\" class=\"data row9 col1\" >9371</td>\n",
       "      <td id=\"T_96012_row9_col2\" class=\"data row9 col2\" >5</td>\n",
       "      <td id=\"T_96012_row9_col3\" class=\"data row9 col3\" >2</td>\n",
       "    </tr>\n",
       "  </tbody>\n",
       "</table>\n"
      ],
      "text/plain": [
       "<pandas.io.formats.style.Styler at 0x1aa2021bbb0>"
      ]
     },
     "metadata": {},
     "output_type": "display_data"
    },
    {
     "name": "stdout",
     "output_type": "stream",
     "text": [
      "\n"
     ]
    },
    {
     "data": {
      "text/plain": [
       "{'accuracy': 0.995,\n",
       " 'precision': 0.9946372374872301,\n",
       " 'recall': 0.9954298204828342,\n",
       " 'f1_score': 0.9950272362747923}"
      ]
     },
     "execution_count": 19,
     "metadata": {},
     "output_type": "execute_result"
    }
   ],
   "source": [
    "metrics = MulticlassClassificationMetrics(test_ds_y, full_ans)\n",
    "print(metrics)\n",
    "metrics.metrics()"
   ]
  }
 ],
 "metadata": {
  "kernelspec": {
   "display_name": "Python 3",
   "language": "python",
   "name": "python3"
  },
  "language_info": {
   "codemirror_mode": {
    "name": "ipython",
    "version": 3
   },
   "file_extension": ".py",
   "mimetype": "text/x-python",
   "name": "python",
   "nbconvert_exporter": "python",
   "pygments_lexer": "ipython3",
   "version": "3.10.10"
  },
  "orig_nbformat": 4
 },
 "nbformat": 4,
 "nbformat_minor": 2
}
