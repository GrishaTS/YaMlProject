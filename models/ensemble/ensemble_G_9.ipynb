{
 "cells": [
  {
   "attachments": {},
   "cell_type": "markdown",
   "metadata": {},
   "source": [
    "# БУСТИНГ"
   ]
  },
  {
   "attachments": {},
   "cell_type": "markdown",
   "metadata": {},
   "source": [
    "Импорт необходимых библиотек"
   ]
  },
  {
   "cell_type": "code",
   "execution_count": 63,
   "metadata": {},
   "outputs": [],
   "source": [
    "import sys\n",
    "import pickle\n",
    "\n",
    "import numpy as np\n",
    "import pandas as pd\n",
    "import tensorflow as tf\n",
    "import tensorflow_addons as tfa\n",
    "from livelossplot import PlotLossesKeras\n",
    "\n",
    "sys.path.append('../../')\n",
    "\n",
    "from core.datasets import get_logit_ds"
   ]
  },
  {
   "attachments": {},
   "cell_type": "markdown",
   "metadata": {},
   "source": [
    "Скачиваем датасеты"
   ]
  },
  {
   "cell_type": "code",
   "execution_count": 64,
   "metadata": {},
   "outputs": [],
   "source": [
    "train_ds, val_ds = get_logit_ds(['_g_11', '_g_21', '_g_22', '_s_6'])\n",
    "val_ds_x = np.array([i[0] for i in val_ds.unbatch().as_numpy_iterator()])\n",
    "val_ds_y = np.array([i[1] for i in val_ds.unbatch().as_numpy_iterator()])"
   ]
  },
  {
   "cell_type": "code",
   "execution_count": 89,
   "metadata": {},
   "outputs": [
    {
     "name": "stdout",
     "output_type": "stream",
     "text": [
      "[[-13.4016485  -9.070877  -15.873512   -3.3980796]\n",
      " [ -3.5677557  -4.534551   -2.733246   -0.7604026]\n",
      " [ 20.116537    9.895212   24.19678    10.075061 ]\n",
      " [ -1.8975751 -11.410993   -7.6844463  -3.3488624]\n",
      " [ -7.8799424 -12.441488  -12.58649    -8.821644 ]\n",
      " [-19.667194  -23.070833  -29.640303  -11.96041  ]\n",
      " [-21.810843  -15.057429  -24.407597   -8.487006 ]\n",
      " [-23.126957  -13.401496  -19.197453   -9.492864 ]\n",
      " [-17.59122    -7.6941905 -13.042625   -3.925645 ]\n",
      " [-20.516356  -16.52446   -21.284039   -6.795985 ]]\n",
      "2\n"
     ]
    }
   ],
   "source": [
    "for i in train_ds.take(1):\n",
    "    print(np.array(i[0][0]))\n",
    "    print(int(i[1][0]))"
   ]
  },
  {
   "attachments": {},
   "cell_type": "markdown",
   "metadata": {},
   "source": [
    "Датасет формата:\n",
    "\n",
    "```python\n",
    "[[log_1_1, log_1_2, ..., log_1_n],\n",
    "...\n",
    "[log_m_1, log_m_2, ..., log_m_n]]\n",
    "```\n",
    "где log_i_k - логит модели `k` на картинку `i`\n"
   ]
  },
  {
   "attachments": {},
   "cell_type": "markdown",
   "metadata": {},
   "source": [
    "----\n",
    "Мысли о моделе:\n",
    "\n",
    "Я применяю свертку, размером 1, чтоб один фильтр включал в себя все логиты, отвечающие за 1 цифру."
   ]
  },
  {
   "cell_type": "code",
   "execution_count": 66,
   "metadata": {},
   "outputs": [
    {
     "name": "stdout",
     "output_type": "stream",
     "text": [
      "Model: \"sequential_4\"\n",
      "_________________________________________________________________\n",
      " Layer (type)                Output Shape              Param #   \n",
      "=================================================================\n",
      " conv1d_4 (Conv1D)           (100, 10, 128)            640       \n",
      "                                                                 \n",
      " flatten_2 (Flatten)         (100, 1280)               0         \n",
      "                                                                 \n",
      " dense_16 (Dense)            (100, 10)                 12810     \n",
      "                                                                 \n",
      "=================================================================\n",
      "Total params: 13,450\n",
      "Trainable params: 13,450\n",
      "Non-trainable params: 0\n",
      "_________________________________________________________________\n"
     ]
    }
   ],
   "source": [
    "meta_model = tf.keras.Sequential([\n",
    "    tf.keras.layers.Input((10, 4), 100),\n",
    "    tf.keras.layers.Conv1D(128, 1),\n",
    "    tf.keras.layers.Flatten(),\n",
    "    tf.keras.layers.Dense(10),\n",
    "    tf.keras.layers.Dense(10),\n",
    "])\n",
    "meta_model.summary()"
   ]
  },
  {
   "cell_type": "code",
   "execution_count": 67,
   "metadata": {},
   "outputs": [],
   "source": [
    "num_model = '_G_9'"
   ]
  },
  {
   "attachments": {},
   "cell_type": "markdown",
   "metadata": {},
   "source": [
    "Чекпоинты"
   ]
  },
  {
   "cell_type": "code",
   "execution_count": 68,
   "metadata": {},
   "outputs": [],
   "source": [
    "metrics = ['accuracy']\n",
    "callbacks = [\n",
    "    PlotLossesKeras(),\n",
    "    tf.keras.callbacks.ModelCheckpoint(\n",
    "        filepath=f'../checkpoints/ensemble{num_model}_accuracy.h5',\n",
    "        monitor='val_accuracy',\n",
    "        mode='max',\n",
    "        save_best_only=True,\n",
    "    ),\n",
    "    tf.keras.callbacks.ModelCheckpoint(\n",
    "        filepath=f'../checkpoints/ensemble{num_model}_loss.h5',\n",
    "        monitor='val_loss',\n",
    "        mode='min',\n",
    "        save_best_only=True,\n",
    "    ),\n",
    "    tfa.callbacks.AverageModelCheckpoint(\n",
    "        update_weights=False,\n",
    "        filepath=f'../checkpoints/ensemble{num_model}_avg_accuracy.h5',\n",
    "        monitor='val_accuracy',\n",
    "        mode='max',\n",
    "        save_best_only=True,\n",
    "    ),\n",
    "    tfa.callbacks.AverageModelCheckpoint(\n",
    "        update_weights=False,\n",
    "        filepath=f'../checkpoints/ensemble{num_model}_avg_loss.h5',\n",
    "        monitor='val_loss',\n",
    "        mode='min',\n",
    "        save_best_only=True,\n",
    "    )\n",
    "]"
   ]
  },
  {
   "attachments": {},
   "cell_type": "markdown",
   "metadata": {},
   "source": [
    "Компилирую модель"
   ]
  },
  {
   "cell_type": "code",
   "execution_count": 69,
   "metadata": {},
   "outputs": [],
   "source": [
    "meta_model.compile(\n",
    "    optimizer=tfa.optimizers.MovingAverage(tf.keras.optimizers.legacy.Adam()),\n",
    "    metrics=metrics,\n",
    "    loss=tf.keras.losses.SparseCategoricalCrossentropy(from_logits=True),\n",
    ")"
   ]
  },
  {
   "attachments": {},
   "cell_type": "markdown",
   "metadata": {},
   "source": [
    "Обучаю модель"
   ]
  },
  {
   "cell_type": "code",
   "execution_count": 70,
   "metadata": {},
   "outputs": [
    {
     "data": {
      "image/png": "[encoded data removed]",
      "text/plain": [
       "<Figure size 1200x800 with 2 Axes>"
      ]
     },
     "metadata": {},
     "output_type": "display_data"
    },
    {
     "name": "stdout",
     "output_type": "stream",
     "text": [
      "accuracy\n",
      "\ttraining         \t (min:    0.984, max:    0.998, cur:    0.998)\n",
      "\tvalidation       \t (min:    0.996, max:    0.998, cur:    0.998)\n",
      "Loss\n",
      "\ttraining         \t (min:    0.008, max:    0.079, cur:    0.008)\n",
      "\tvalidation       \t (min:    0.011, max:    0.016, cur:    0.015)\n",
      "465/465 [==============================] - 4s 8ms/step - loss: 0.0081 - accuracy: 0.9982 - val_loss: 0.0152 - val_accuracy: 0.9977\n"
     ]
    }
   ],
   "source": [
    "history = meta_model.fit(train_ds, validation_data=val_ds,\n",
    "          epochs=10, callbacks=callbacks, verbose=1)"
   ]
  },
  {
   "attachments": {},
   "cell_type": "markdown",
   "metadata": {},
   "source": [
    "Скачиваю все чекпоинты"
   ]
  },
  {
   "cell_type": "code",
   "execution_count": 71,
   "metadata": {},
   "outputs": [],
   "source": [
    "model_acc = tf.keras.models.load_model(f'../checkpoints/ensemble{num_model}_accuracy.h5')\n",
    "model_loss = tf.keras.models.load_model(f'../checkpoints/ensemble{num_model}_loss.h5')\n",
    "model_avg_acc = tf.keras.models.load_model(f'../checkpoints/ensemble{num_model}_avg_accuracy.h5')\n",
    "model_avg_loss = tf.keras.models.load_model(f'../checkpoints/ensemble{num_model}_avg_loss.h5')"
   ]
  },
  {
   "attachments": {},
   "cell_type": "markdown",
   "metadata": {},
   "source": [
    "Формирую ответы на валидационный датасет"
   ]
  },
  {
   "cell_type": "code",
   "execution_count": 72,
   "metadata": {},
   "outputs": [
    {
     "name": "stdout",
     "output_type": "stream",
     "text": [
      "110/110 [==============================] - 0s 3ms/step\n",
      "110/110 [==============================] - 1s 3ms/step\n",
      "110/110 [==============================] - 0s 3ms/step\n",
      "110/110 [==============================] - 0s 3ms/step\n"
     ]
    }
   ],
   "source": [
    "ans_val_accuracy = np.argmax(model_acc.predict(val_ds_x), axis=-1)\n",
    "ans_val_loss = np.argmax(model_loss.predict(val_ds_x), axis=-1)\n",
    "ans_val_avg_accuracy = np.argmax(model_avg_acc.predict(val_ds_x), axis=-1)\n",
    "ans_val_avg_loss = np.argmax(model_avg_loss.predict(val_ds_x), axis=-1)\n",
    "anss = [ans_val_accuracy, ans_val_loss, model_avg_acc, ans_val_avg_loss]"
   ]
  },
  {
   "cell_type": "code",
   "execution_count": 73,
   "metadata": {},
   "outputs": [
    {
     "name": "stdout",
     "output_type": "stream",
     "text": [
      "110/110 [==============================] - 0s 2ms/step\n"
     ]
    },
    {
     "data": {
      "text/plain": [
       "array([ 2.7820022,  7.653935 ,  6.5905604, 11.859014 ,  5.520579 ,\n",
       "       32.225967 ,  7.9488206, -1.2937067,  7.4968696,  3.978884 ],\n",
       "      dtype=float32)"
      ]
     },
     "execution_count": 73,
     "metadata": {},
     "output_type": "execute_result"
    }
   ],
   "source": [
    "model_acc.predict(val_ds_x)[0]"
   ]
  },
  {
   "cell_type": "code",
   "execution_count": 74,
   "metadata": {},
   "outputs": [],
   "source": [
    "for i in range(len(anss) - 1):\n",
    "    for j in range(i + 1, len(anss)):\n",
    "        if np.all(anss[i] == anss[j]):\n",
    "            print(f'чекпоинты {i + 1} и {j + 1} одинаковые')"
   ]
  },
  {
   "cell_type": "code",
   "execution_count": 75,
   "metadata": {},
   "outputs": [],
   "source": [
    "class MulticlassClassificationMetrics:\n",
    "    def __init__(self, y_true, y_pred):\n",
    "        self.y_true = np.array(y_true)\n",
    "        self.y_pred = np.array(y_pred)\n",
    "        self.matrix_error = self.get_matrix_error()\n",
    "\n",
    "    def get_matrix_error(self):\n",
    "        self.class_types = np.unique([self.y_true, self.y_pred])\n",
    "        TP, FN, FP, TN = [], [], [], []\n",
    "        for class_type in self.class_types:\n",
    "            TP.append(np.sum(np.logical_and(self.y_true == self.y_pred, self.y_true == class_type)))\n",
    "            FN.append(np.sum(np.logical_and(self.y_true == class_type, self.y_pred != class_type)))\n",
    "            FP.append(np.sum(np.logical_and(self.y_pred == class_type, self.y_true != class_type)))\n",
    "            TN.append(np.sum(np.logical_and(self.y_pred != class_type, self.y_true != class_type)))\n",
    "        return pd.DataFrame({\n",
    "            'class_type': self.class_types,\n",
    "            'TP': TP, 'TN': TN, 'FP': FP, 'FN': FN,\n",
    "        }).set_index('class_type')\n",
    "\n",
    "    def accuracy(self):\n",
    "        return np.sum(self.y_true == self.y_pred) / self.y_true.shape[0]\n",
    "\n",
    "    def precision(self, averaging='macro'):\n",
    "        if averaging == 'macro':\n",
    "            precisions = self.matrix_error['TP'] / (self.matrix_error['TP'] + self.matrix_error['FP'])\n",
    "            return np.mean(precisions.replace(np.nan, 0))\n",
    "        elif averaging == 'micro':\n",
    "            mean_val = self.matrix_error.mean()\n",
    "            return mean_val['TP'] / (mean_val['TP'] + mean_val['FP'])\n",
    "\n",
    "    def recall(self, averaging='macro'):\n",
    "        if averaging == 'macro':\n",
    "            recalls = self.matrix_error['TP'] / (self.matrix_error['TP'] + self.matrix_error['FN'])\n",
    "            return np.mean(recalls.replace(np.nan, 0))\n",
    "        elif averaging == 'micro':\n",
    "            mean_val = self.matrix_error.mean()\n",
    "            return mean_val['TP'] / (mean_val['TP'] + mean_val['FN'])\n",
    "\n",
    "    def f1_score(self, averaging='macro'):\n",
    "        if averaging == 'macro':\n",
    "            reverse_r = (self.matrix_error['TP'] + self.matrix_error['FN']) / self.matrix_error['TP']\n",
    "            reverse_p = (self.matrix_error['TP'] + self.matrix_error['FP']) / self.matrix_error['TP']\n",
    "            f1_scores = 2 / (reverse_r + reverse_p)\n",
    "            return np.mean(f1_scores.replace(np.nan, 0))\n",
    "        elif averaging == 'micro':\n",
    "            p = self.precision(averaging)\n",
    "            r = self.recall(averaging)\n",
    "            return 2 * p * r / (p + r)\n",
    "\n",
    "    def metrics(self, averaging='macro'):\n",
    "        return {\n",
    "            'accuracy': self.accuracy(),\n",
    "            'precision': self.precision(averaging),\n",
    "            'recall': self.recall(averaging),\n",
    "            'f1_score': self.f1_score(averaging),\n",
    "        }\n",
    "\n",
    "    def __str__(self):\n",
    "        headers = {\n",
    "            'selector': '*',\n",
    "            'props': 'background-color: darkgreen; color: white; font-size: 12pt;',\n",
    "        }\n",
    "        che_super_mega_puper_visualization_of_cell = {\n",
    "            'selector': 'td:hover',\n",
    "            'props': 'background-color: green; color: white;',\n",
    "        }\n",
    "        display(\n",
    "            self.matrix_error\n",
    "            .style\n",
    "            .set_table_styles([\n",
    "                headers,\n",
    "                che_super_mega_puper_visualization_of_cell,\n",
    "            ])\n",
    "            .set_properties(**{'background-color': 'lightgreen',\n",
    "                               'color': 'black', 'font-size': '12pt'})\n",
    "        )\n",
    "        return ''\n",
    "\n",
    "    def __repr__(self):\n",
    "        return (\n",
    "            f'MulticlassClassificationMetrics(class_types={self.class_types})'\n",
    "            .replace(\"'\", '').replace(',', ';'))"
   ]
  },
  {
   "cell_type": "code",
   "execution_count": 76,
   "metadata": {},
   "outputs": [
    {
     "data": {
      "text/html": [
       "<style type=\"text/css\">\n",
       "#T_bf061 * {\n",
       "  background-color: darkgreen;\n",
       "  color: white;\n",
       "  font-size: 12pt;\n",
       "}\n",
       "#T_bf061 td:hover {\n",
       "  background-color: green;\n",
       "  color: white;\n",
       "}\n",
       "#T_bf061_row0_col0, #T_bf061_row0_col1, #T_bf061_row0_col2, #T_bf061_row0_col3, #T_bf061_row1_col0, #T_bf061_row1_col1, #T_bf061_row1_col2, #T_bf061_row1_col3, #T_bf061_row2_col0, #T_bf061_row2_col1, #T_bf061_row2_col2, #T_bf061_row2_col3, #T_bf061_row3_col0, #T_bf061_row3_col1, #T_bf061_row3_col2, #T_bf061_row3_col3, #T_bf061_row4_col0, #T_bf061_row4_col1, #T_bf061_row4_col2, #T_bf061_row4_col3, #T_bf061_row5_col0, #T_bf061_row5_col1, #T_bf061_row5_col2, #T_bf061_row5_col3, #T_bf061_row6_col0, #T_bf061_row6_col1, #T_bf061_row6_col2, #T_bf061_row6_col3, #T_bf061_row7_col0, #T_bf061_row7_col1, #T_bf061_row7_col2, #T_bf061_row7_col3, #T_bf061_row8_col0, #T_bf061_row8_col1, #T_bf061_row8_col2, #T_bf061_row8_col3, #T_bf061_row9_col0, #T_bf061_row9_col1, #T_bf061_row9_col2, #T_bf061_row9_col3 {\n",
       "  background-color: lightgreen;\n",
       "  color: black;\n",
       "  font-size: 12pt;\n",
       "}\n",
       "</style>\n",
       "<table id=\"T_bf061\">\n",
       "  <thead>\n",
       "    <tr>\n",
       "      <th class=\"blank level0\" >&nbsp;</th>\n",
       "      <th id=\"T_bf061_level0_col0\" class=\"col_heading level0 col0\" >TP</th>\n",
       "      <th id=\"T_bf061_level0_col1\" class=\"col_heading level0 col1\" >TN</th>\n",
       "      <th id=\"T_bf061_level0_col2\" class=\"col_heading level0 col2\" >FP</th>\n",
       "      <th id=\"T_bf061_level0_col3\" class=\"col_heading level0 col3\" >FN</th>\n",
       "    </tr>\n",
       "    <tr>\n",
       "      <th class=\"index_name level0\" >class_type</th>\n",
       "      <th class=\"blank col0\" >&nbsp;</th>\n",
       "      <th class=\"blank col1\" >&nbsp;</th>\n",
       "      <th class=\"blank col2\" >&nbsp;</th>\n",
       "      <th class=\"blank col3\" >&nbsp;</th>\n",
       "    </tr>\n",
       "  </thead>\n",
       "  <tbody>\n",
       "    <tr>\n",
       "      <th id=\"T_bf061_level0_row0\" class=\"row_heading level0 row0\" >0</th>\n",
       "      <td id=\"T_bf061_row0_col0\" class=\"data row0 col0\" >228</td>\n",
       "      <td id=\"T_bf061_row0_col1\" class=\"data row0 col1\" >3273</td>\n",
       "      <td id=\"T_bf061_row0_col2\" class=\"data row0 col2\" >0</td>\n",
       "      <td id=\"T_bf061_row0_col3\" class=\"data row0 col3\" >0</td>\n",
       "    </tr>\n",
       "    <tr>\n",
       "      <th id=\"T_bf061_level0_row1\" class=\"row_heading level0 row1\" >1</th>\n",
       "      <td id=\"T_bf061_row1_col0\" class=\"data row1 col0\" >686</td>\n",
       "      <td id=\"T_bf061_row1_col1\" class=\"data row1 col1\" >2811</td>\n",
       "      <td id=\"T_bf061_row1_col2\" class=\"data row1 col2\" >1</td>\n",
       "      <td id=\"T_bf061_row1_col3\" class=\"data row1 col3\" >3</td>\n",
       "    </tr>\n",
       "    <tr>\n",
       "      <th id=\"T_bf061_level0_row2\" class=\"row_heading level0 row2\" >2</th>\n",
       "      <td id=\"T_bf061_row2_col0\" class=\"data row2 col0\" >502</td>\n",
       "      <td id=\"T_bf061_row2_col1\" class=\"data row2 col1\" >2998</td>\n",
       "      <td id=\"T_bf061_row2_col2\" class=\"data row2 col2\" >0</td>\n",
       "      <td id=\"T_bf061_row2_col3\" class=\"data row2 col3\" >1</td>\n",
       "    </tr>\n",
       "    <tr>\n",
       "      <th id=\"T_bf061_level0_row3\" class=\"row_heading level0 row3\" >3</th>\n",
       "      <td id=\"T_bf061_row3_col0\" class=\"data row3 col0\" >399</td>\n",
       "      <td id=\"T_bf061_row3_col1\" class=\"data row3 col1\" >3099</td>\n",
       "      <td id=\"T_bf061_row3_col2\" class=\"data row3 col2\" >3</td>\n",
       "      <td id=\"T_bf061_row3_col3\" class=\"data row3 col3\" >0</td>\n",
       "    </tr>\n",
       "    <tr>\n",
       "      <th id=\"T_bf061_level0_row4\" class=\"row_heading level0 row4\" >4</th>\n",
       "      <td id=\"T_bf061_row4_col0\" class=\"data row4 col0\" >355</td>\n",
       "      <td id=\"T_bf061_row4_col1\" class=\"data row4 col1\" >3145</td>\n",
       "      <td id=\"T_bf061_row4_col2\" class=\"data row4 col2\" >0</td>\n",
       "      <td id=\"T_bf061_row4_col3\" class=\"data row4 col3\" >1</td>\n",
       "    </tr>\n",
       "    <tr>\n",
       "      <th id=\"T_bf061_level0_row5\" class=\"row_heading level0 row5\" >5</th>\n",
       "      <td id=\"T_bf061_row5_col0\" class=\"data row5 col0\" >311</td>\n",
       "      <td id=\"T_bf061_row5_col1\" class=\"data row5 col1\" >3190</td>\n",
       "      <td id=\"T_bf061_row5_col2\" class=\"data row5 col2\" >0</td>\n",
       "      <td id=\"T_bf061_row5_col3\" class=\"data row5 col3\" >0</td>\n",
       "    </tr>\n",
       "    <tr>\n",
       "      <th id=\"T_bf061_level0_row6\" class=\"row_heading level0 row6\" >6</th>\n",
       "      <td id=\"T_bf061_row6_col0\" class=\"data row6 col0\" >276</td>\n",
       "      <td id=\"T_bf061_row6_col1\" class=\"data row6 col1\" >3223</td>\n",
       "      <td id=\"T_bf061_row6_col2\" class=\"data row6 col2\" >2</td>\n",
       "      <td id=\"T_bf061_row6_col3\" class=\"data row6 col3\" >0</td>\n",
       "    </tr>\n",
       "    <tr>\n",
       "      <th id=\"T_bf061_level0_row7\" class=\"row_heading level0 row7\" >7</th>\n",
       "      <td id=\"T_bf061_row7_col0\" class=\"data row7 col0\" >274</td>\n",
       "      <td id=\"T_bf061_row7_col1\" class=\"data row7 col1\" >3227</td>\n",
       "      <td id=\"T_bf061_row7_col2\" class=\"data row7 col2\" >0</td>\n",
       "      <td id=\"T_bf061_row7_col3\" class=\"data row7 col3\" >0</td>\n",
       "    </tr>\n",
       "    <tr>\n",
       "      <th id=\"T_bf061_level0_row8\" class=\"row_heading level0 row8\" >8</th>\n",
       "      <td id=\"T_bf061_row8_col0\" class=\"data row8 col0\" >246</td>\n",
       "      <td id=\"T_bf061_row8_col1\" class=\"data row8 col1\" >3255</td>\n",
       "      <td id=\"T_bf061_row8_col2\" class=\"data row8 col2\" >0</td>\n",
       "      <td id=\"T_bf061_row8_col3\" class=\"data row8 col3\" >0</td>\n",
       "    </tr>\n",
       "    <tr>\n",
       "      <th id=\"T_bf061_level0_row9\" class=\"row_heading level0 row9\" >9</th>\n",
       "      <td id=\"T_bf061_row9_col0\" class=\"data row9 col0\" >218</td>\n",
       "      <td id=\"T_bf061_row9_col1\" class=\"data row9 col1\" >3282</td>\n",
       "      <td id=\"T_bf061_row9_col2\" class=\"data row9 col2\" >0</td>\n",
       "      <td id=\"T_bf061_row9_col3\" class=\"data row9 col3\" >1</td>\n",
       "    </tr>\n",
       "  </tbody>\n",
       "</table>\n"
      ],
      "text/plain": [
       "<pandas.io.formats.style.Styler at 0x28f4c669930>"
      ]
     },
     "metadata": {},
     "output_type": "display_data"
    },
    {
     "name": "stdout",
     "output_type": "stream",
     "text": [
      "\n"
     ]
    },
    {
     "data": {
      "text/plain": [
       "{'accuracy': 0.998286203941731,\n",
       " 'precision': 0.9983887464752828,\n",
       " 'recall': 0.998628259319011,\n",
       " 'f1_score': 0.9985047772444533}"
      ]
     },
     "execution_count": 76,
     "metadata": {},
     "output_type": "execute_result"
    }
   ],
   "source": [
    "metrics = MulticlassClassificationMetrics(val_ds_y, ans_val_accuracy)\n",
    "print(metrics)\n",
    "metrics.metrics()"
   ]
  },
  {
   "cell_type": "code",
   "execution_count": 77,
   "metadata": {},
   "outputs": [
    {
     "data": {
      "text/html": [
       "<style type=\"text/css\">\n",
       "#T_ed62e * {\n",
       "  background-color: darkgreen;\n",
       "  color: white;\n",
       "  font-size: 12pt;\n",
       "}\n",
       "#T_ed62e td:hover {\n",
       "  background-color: green;\n",
       "  color: white;\n",
       "}\n",
       "#T_ed62e_row0_col0, #T_ed62e_row0_col1, #T_ed62e_row0_col2, #T_ed62e_row0_col3, #T_ed62e_row1_col0, #T_ed62e_row1_col1, #T_ed62e_row1_col2, #T_ed62e_row1_col3, #T_ed62e_row2_col0, #T_ed62e_row2_col1, #T_ed62e_row2_col2, #T_ed62e_row2_col3, #T_ed62e_row3_col0, #T_ed62e_row3_col1, #T_ed62e_row3_col2, #T_ed62e_row3_col3, #T_ed62e_row4_col0, #T_ed62e_row4_col1, #T_ed62e_row4_col2, #T_ed62e_row4_col3, #T_ed62e_row5_col0, #T_ed62e_row5_col1, #T_ed62e_row5_col2, #T_ed62e_row5_col3, #T_ed62e_row6_col0, #T_ed62e_row6_col1, #T_ed62e_row6_col2, #T_ed62e_row6_col3, #T_ed62e_row7_col0, #T_ed62e_row7_col1, #T_ed62e_row7_col2, #T_ed62e_row7_col3, #T_ed62e_row8_col0, #T_ed62e_row8_col1, #T_ed62e_row8_col2, #T_ed62e_row8_col3, #T_ed62e_row9_col0, #T_ed62e_row9_col1, #T_ed62e_row9_col2, #T_ed62e_row9_col3 {\n",
       "  background-color: lightgreen;\n",
       "  color: black;\n",
       "  font-size: 12pt;\n",
       "}\n",
       "</style>\n",
       "<table id=\"T_ed62e\">\n",
       "  <thead>\n",
       "    <tr>\n",
       "      <th class=\"blank level0\" >&nbsp;</th>\n",
       "      <th id=\"T_ed62e_level0_col0\" class=\"col_heading level0 col0\" >TP</th>\n",
       "      <th id=\"T_ed62e_level0_col1\" class=\"col_heading level0 col1\" >TN</th>\n",
       "      <th id=\"T_ed62e_level0_col2\" class=\"col_heading level0 col2\" >FP</th>\n",
       "      <th id=\"T_ed62e_level0_col3\" class=\"col_heading level0 col3\" >FN</th>\n",
       "    </tr>\n",
       "    <tr>\n",
       "      <th class=\"index_name level0\" >class_type</th>\n",
       "      <th class=\"blank col0\" >&nbsp;</th>\n",
       "      <th class=\"blank col1\" >&nbsp;</th>\n",
       "      <th class=\"blank col2\" >&nbsp;</th>\n",
       "      <th class=\"blank col3\" >&nbsp;</th>\n",
       "    </tr>\n",
       "  </thead>\n",
       "  <tbody>\n",
       "    <tr>\n",
       "      <th id=\"T_ed62e_level0_row0\" class=\"row_heading level0 row0\" >0</th>\n",
       "      <td id=\"T_ed62e_row0_col0\" class=\"data row0 col0\" >228</td>\n",
       "      <td id=\"T_ed62e_row0_col1\" class=\"data row0 col1\" >3273</td>\n",
       "      <td id=\"T_ed62e_row0_col2\" class=\"data row0 col2\" >0</td>\n",
       "      <td id=\"T_ed62e_row0_col3\" class=\"data row0 col3\" >0</td>\n",
       "    </tr>\n",
       "    <tr>\n",
       "      <th id=\"T_ed62e_level0_row1\" class=\"row_heading level0 row1\" >1</th>\n",
       "      <td id=\"T_ed62e_row1_col0\" class=\"data row1 col0\" >687</td>\n",
       "      <td id=\"T_ed62e_row1_col1\" class=\"data row1 col1\" >2810</td>\n",
       "      <td id=\"T_ed62e_row1_col2\" class=\"data row1 col2\" >2</td>\n",
       "      <td id=\"T_ed62e_row1_col3\" class=\"data row1 col3\" >2</td>\n",
       "    </tr>\n",
       "    <tr>\n",
       "      <th id=\"T_ed62e_level0_row2\" class=\"row_heading level0 row2\" >2</th>\n",
       "      <td id=\"T_ed62e_row2_col0\" class=\"data row2 col0\" >501</td>\n",
       "      <td id=\"T_ed62e_row2_col1\" class=\"data row2 col1\" >2998</td>\n",
       "      <td id=\"T_ed62e_row2_col2\" class=\"data row2 col2\" >0</td>\n",
       "      <td id=\"T_ed62e_row2_col3\" class=\"data row2 col3\" >2</td>\n",
       "    </tr>\n",
       "    <tr>\n",
       "      <th id=\"T_ed62e_level0_row3\" class=\"row_heading level0 row3\" >3</th>\n",
       "      <td id=\"T_ed62e_row3_col0\" class=\"data row3 col0\" >399</td>\n",
       "      <td id=\"T_ed62e_row3_col1\" class=\"data row3 col1\" >3100</td>\n",
       "      <td id=\"T_ed62e_row3_col2\" class=\"data row3 col2\" >2</td>\n",
       "      <td id=\"T_ed62e_row3_col3\" class=\"data row3 col3\" >0</td>\n",
       "    </tr>\n",
       "    <tr>\n",
       "      <th id=\"T_ed62e_level0_row4\" class=\"row_heading level0 row4\" >4</th>\n",
       "      <td id=\"T_ed62e_row4_col0\" class=\"data row4 col0\" >355</td>\n",
       "      <td id=\"T_ed62e_row4_col1\" class=\"data row4 col1\" >3145</td>\n",
       "      <td id=\"T_ed62e_row4_col2\" class=\"data row4 col2\" >0</td>\n",
       "      <td id=\"T_ed62e_row4_col3\" class=\"data row4 col3\" >1</td>\n",
       "    </tr>\n",
       "    <tr>\n",
       "      <th id=\"T_ed62e_level0_row5\" class=\"row_heading level0 row5\" >5</th>\n",
       "      <td id=\"T_ed62e_row5_col0\" class=\"data row5 col0\" >311</td>\n",
       "      <td id=\"T_ed62e_row5_col1\" class=\"data row5 col1\" >3190</td>\n",
       "      <td id=\"T_ed62e_row5_col2\" class=\"data row5 col2\" >0</td>\n",
       "      <td id=\"T_ed62e_row5_col3\" class=\"data row5 col3\" >0</td>\n",
       "    </tr>\n",
       "    <tr>\n",
       "      <th id=\"T_ed62e_level0_row6\" class=\"row_heading level0 row6\" >6</th>\n",
       "      <td id=\"T_ed62e_row6_col0\" class=\"data row6 col0\" >276</td>\n",
       "      <td id=\"T_ed62e_row6_col1\" class=\"data row6 col1\" >3223</td>\n",
       "      <td id=\"T_ed62e_row6_col2\" class=\"data row6 col2\" >2</td>\n",
       "      <td id=\"T_ed62e_row6_col3\" class=\"data row6 col3\" >0</td>\n",
       "    </tr>\n",
       "    <tr>\n",
       "      <th id=\"T_ed62e_level0_row7\" class=\"row_heading level0 row7\" >7</th>\n",
       "      <td id=\"T_ed62e_row7_col0\" class=\"data row7 col0\" >274</td>\n",
       "      <td id=\"T_ed62e_row7_col1\" class=\"data row7 col1\" >3227</td>\n",
       "      <td id=\"T_ed62e_row7_col2\" class=\"data row7 col2\" >0</td>\n",
       "      <td id=\"T_ed62e_row7_col3\" class=\"data row7 col3\" >0</td>\n",
       "    </tr>\n",
       "    <tr>\n",
       "      <th id=\"T_ed62e_level0_row8\" class=\"row_heading level0 row8\" >8</th>\n",
       "      <td id=\"T_ed62e_row8_col0\" class=\"data row8 col0\" >246</td>\n",
       "      <td id=\"T_ed62e_row8_col1\" class=\"data row8 col1\" >3255</td>\n",
       "      <td id=\"T_ed62e_row8_col2\" class=\"data row8 col2\" >0</td>\n",
       "      <td id=\"T_ed62e_row8_col3\" class=\"data row8 col3\" >0</td>\n",
       "    </tr>\n",
       "    <tr>\n",
       "      <th id=\"T_ed62e_level0_row9\" class=\"row_heading level0 row9\" >9</th>\n",
       "      <td id=\"T_ed62e_row9_col0\" class=\"data row9 col0\" >218</td>\n",
       "      <td id=\"T_ed62e_row9_col1\" class=\"data row9 col1\" >3282</td>\n",
       "      <td id=\"T_ed62e_row9_col2\" class=\"data row9 col2\" >0</td>\n",
       "      <td id=\"T_ed62e_row9_col3\" class=\"data row9 col3\" >1</td>\n",
       "    </tr>\n",
       "  </tbody>\n",
       "</table>\n"
      ],
      "text/plain": [
       "<pandas.io.formats.style.Styler at 0x28f4d474310>"
      ]
     },
     "metadata": {},
     "output_type": "display_data"
    },
    {
     "name": "stdout",
     "output_type": "stream",
     "text": [
      "\n"
     ]
    },
    {
     "data": {
      "text/plain": [
       "{'accuracy': 0.998286203941731,\n",
       " 'precision': 0.9984915466603874,\n",
       " 'recall': 0.9985745900429401,\n",
       " 'f1_score': 0.9985300302924152}"
      ]
     },
     "execution_count": 77,
     "metadata": {},
     "output_type": "execute_result"
    }
   ],
   "source": [
    "metrics = MulticlassClassificationMetrics(val_ds_y, ans_val_avg_accuracy)\n",
    "print(metrics)\n",
    "metrics.metrics()"
   ]
  },
  {
   "cell_type": "code",
   "execution_count": 78,
   "metadata": {},
   "outputs": [
    {
     "data": {
      "text/html": [
       "<style type=\"text/css\">\n",
       "#T_d4669 * {\n",
       "  background-color: darkgreen;\n",
       "  color: white;\n",
       "  font-size: 12pt;\n",
       "}\n",
       "#T_d4669 td:hover {\n",
       "  background-color: green;\n",
       "  color: white;\n",
       "}\n",
       "#T_d4669_row0_col0, #T_d4669_row0_col1, #T_d4669_row0_col2, #T_d4669_row0_col3, #T_d4669_row1_col0, #T_d4669_row1_col1, #T_d4669_row1_col2, #T_d4669_row1_col3, #T_d4669_row2_col0, #T_d4669_row2_col1, #T_d4669_row2_col2, #T_d4669_row2_col3, #T_d4669_row3_col0, #T_d4669_row3_col1, #T_d4669_row3_col2, #T_d4669_row3_col3, #T_d4669_row4_col0, #T_d4669_row4_col1, #T_d4669_row4_col2, #T_d4669_row4_col3, #T_d4669_row5_col0, #T_d4669_row5_col1, #T_d4669_row5_col2, #T_d4669_row5_col3, #T_d4669_row6_col0, #T_d4669_row6_col1, #T_d4669_row6_col2, #T_d4669_row6_col3, #T_d4669_row7_col0, #T_d4669_row7_col1, #T_d4669_row7_col2, #T_d4669_row7_col3, #T_d4669_row8_col0, #T_d4669_row8_col1, #T_d4669_row8_col2, #T_d4669_row8_col3, #T_d4669_row9_col0, #T_d4669_row9_col1, #T_d4669_row9_col2, #T_d4669_row9_col3 {\n",
       "  background-color: lightgreen;\n",
       "  color: black;\n",
       "  font-size: 12pt;\n",
       "}\n",
       "</style>\n",
       "<table id=\"T_d4669\">\n",
       "  <thead>\n",
       "    <tr>\n",
       "      <th class=\"blank level0\" >&nbsp;</th>\n",
       "      <th id=\"T_d4669_level0_col0\" class=\"col_heading level0 col0\" >TP</th>\n",
       "      <th id=\"T_d4669_level0_col1\" class=\"col_heading level0 col1\" >TN</th>\n",
       "      <th id=\"T_d4669_level0_col2\" class=\"col_heading level0 col2\" >FP</th>\n",
       "      <th id=\"T_d4669_level0_col3\" class=\"col_heading level0 col3\" >FN</th>\n",
       "    </tr>\n",
       "    <tr>\n",
       "      <th class=\"index_name level0\" >class_type</th>\n",
       "      <th class=\"blank col0\" >&nbsp;</th>\n",
       "      <th class=\"blank col1\" >&nbsp;</th>\n",
       "      <th class=\"blank col2\" >&nbsp;</th>\n",
       "      <th class=\"blank col3\" >&nbsp;</th>\n",
       "    </tr>\n",
       "  </thead>\n",
       "  <tbody>\n",
       "    <tr>\n",
       "      <th id=\"T_d4669_level0_row0\" class=\"row_heading level0 row0\" >0</th>\n",
       "      <td id=\"T_d4669_row0_col0\" class=\"data row0 col0\" >227</td>\n",
       "      <td id=\"T_d4669_row0_col1\" class=\"data row0 col1\" >3273</td>\n",
       "      <td id=\"T_d4669_row0_col2\" class=\"data row0 col2\" >0</td>\n",
       "      <td id=\"T_d4669_row0_col3\" class=\"data row0 col3\" >1</td>\n",
       "    </tr>\n",
       "    <tr>\n",
       "      <th id=\"T_d4669_level0_row1\" class=\"row_heading level0 row1\" >1</th>\n",
       "      <td id=\"T_d4669_row1_col0\" class=\"data row1 col0\" >684</td>\n",
       "      <td id=\"T_d4669_row1_col1\" class=\"data row1 col1\" >2811</td>\n",
       "      <td id=\"T_d4669_row1_col2\" class=\"data row1 col2\" >1</td>\n",
       "      <td id=\"T_d4669_row1_col3\" class=\"data row1 col3\" >5</td>\n",
       "    </tr>\n",
       "    <tr>\n",
       "      <th id=\"T_d4669_level0_row2\" class=\"row_heading level0 row2\" >2</th>\n",
       "      <td id=\"T_d4669_row2_col0\" class=\"data row2 col0\" >502</td>\n",
       "      <td id=\"T_d4669_row2_col1\" class=\"data row2 col1\" >2996</td>\n",
       "      <td id=\"T_d4669_row2_col2\" class=\"data row2 col2\" >2</td>\n",
       "      <td id=\"T_d4669_row2_col3\" class=\"data row2 col3\" >1</td>\n",
       "    </tr>\n",
       "    <tr>\n",
       "      <th id=\"T_d4669_level0_row3\" class=\"row_heading level0 row3\" >3</th>\n",
       "      <td id=\"T_d4669_row3_col0\" class=\"data row3 col0\" >399</td>\n",
       "      <td id=\"T_d4669_row3_col1\" class=\"data row3 col1\" >3099</td>\n",
       "      <td id=\"T_d4669_row3_col2\" class=\"data row3 col2\" >3</td>\n",
       "      <td id=\"T_d4669_row3_col3\" class=\"data row3 col3\" >0</td>\n",
       "    </tr>\n",
       "    <tr>\n",
       "      <th id=\"T_d4669_level0_row4\" class=\"row_heading level0 row4\" >4</th>\n",
       "      <td id=\"T_d4669_row4_col0\" class=\"data row4 col0\" >355</td>\n",
       "      <td id=\"T_d4669_row4_col1\" class=\"data row4 col1\" >3144</td>\n",
       "      <td id=\"T_d4669_row4_col2\" class=\"data row4 col2\" >1</td>\n",
       "      <td id=\"T_d4669_row4_col3\" class=\"data row4 col3\" >1</td>\n",
       "    </tr>\n",
       "    <tr>\n",
       "      <th id=\"T_d4669_level0_row5\" class=\"row_heading level0 row5\" >5</th>\n",
       "      <td id=\"T_d4669_row5_col0\" class=\"data row5 col0\" >311</td>\n",
       "      <td id=\"T_d4669_row5_col1\" class=\"data row5 col1\" >3190</td>\n",
       "      <td id=\"T_d4669_row5_col2\" class=\"data row5 col2\" >0</td>\n",
       "      <td id=\"T_d4669_row5_col3\" class=\"data row5 col3\" >0</td>\n",
       "    </tr>\n",
       "    <tr>\n",
       "      <th id=\"T_d4669_level0_row6\" class=\"row_heading level0 row6\" >6</th>\n",
       "      <td id=\"T_d4669_row6_col0\" class=\"data row6 col0\" >276</td>\n",
       "      <td id=\"T_d4669_row6_col1\" class=\"data row6 col1\" >3223</td>\n",
       "      <td id=\"T_d4669_row6_col2\" class=\"data row6 col2\" >2</td>\n",
       "      <td id=\"T_d4669_row6_col3\" class=\"data row6 col3\" >0</td>\n",
       "    </tr>\n",
       "    <tr>\n",
       "      <th id=\"T_d4669_level0_row7\" class=\"row_heading level0 row7\" >7</th>\n",
       "      <td id=\"T_d4669_row7_col0\" class=\"data row7 col0\" >274</td>\n",
       "      <td id=\"T_d4669_row7_col1\" class=\"data row7 col1\" >3227</td>\n",
       "      <td id=\"T_d4669_row7_col2\" class=\"data row7 col2\" >0</td>\n",
       "      <td id=\"T_d4669_row7_col3\" class=\"data row7 col3\" >0</td>\n",
       "    </tr>\n",
       "    <tr>\n",
       "      <th id=\"T_d4669_level0_row8\" class=\"row_heading level0 row8\" >8</th>\n",
       "      <td id=\"T_d4669_row8_col0\" class=\"data row8 col0\" >246</td>\n",
       "      <td id=\"T_d4669_row8_col1\" class=\"data row8 col1\" >3255</td>\n",
       "      <td id=\"T_d4669_row8_col2\" class=\"data row8 col2\" >0</td>\n",
       "      <td id=\"T_d4669_row8_col3\" class=\"data row8 col3\" >0</td>\n",
       "    </tr>\n",
       "    <tr>\n",
       "      <th id=\"T_d4669_level0_row9\" class=\"row_heading level0 row9\" >9</th>\n",
       "      <td id=\"T_d4669_row9_col0\" class=\"data row9 col0\" >218</td>\n",
       "      <td id=\"T_d4669_row9_col1\" class=\"data row9 col1\" >3282</td>\n",
       "      <td id=\"T_d4669_row9_col2\" class=\"data row9 col2\" >0</td>\n",
       "      <td id=\"T_d4669_row9_col3\" class=\"data row9 col3\" >1</td>\n",
       "    </tr>\n",
       "  </tbody>\n",
       "</table>\n"
      ],
      "text/plain": [
       "<pandas.io.formats.style.Styler at 0x28f4c138520>"
      ]
     },
     "metadata": {},
     "output_type": "display_data"
    },
    {
     "name": "stdout",
     "output_type": "stream",
     "text": [
      "\n"
     ]
    },
    {
     "data": {
      "text/plain": [
       "{'accuracy': 0.9974293059125964,\n",
       " 'precision': 0.9977105972081622,\n",
       " 'recall': 0.9978993870658088,\n",
       " 'f1_score': 0.9978003494658166}"
      ]
     },
     "execution_count": 78,
     "metadata": {},
     "output_type": "execute_result"
    }
   ],
   "source": [
    "metrics = MulticlassClassificationMetrics(val_ds_y, ans_val_loss)\n",
    "print(metrics)\n",
    "metrics.metrics()"
   ]
  },
  {
   "cell_type": "code",
   "execution_count": 79,
   "metadata": {},
   "outputs": [
    {
     "data": {
      "text/html": [
       "<style type=\"text/css\">\n",
       "#T_f9b80 * {\n",
       "  background-color: darkgreen;\n",
       "  color: white;\n",
       "  font-size: 12pt;\n",
       "}\n",
       "#T_f9b80 td:hover {\n",
       "  background-color: green;\n",
       "  color: white;\n",
       "}\n",
       "#T_f9b80_row0_col0, #T_f9b80_row0_col1, #T_f9b80_row0_col2, #T_f9b80_row0_col3, #T_f9b80_row1_col0, #T_f9b80_row1_col1, #T_f9b80_row1_col2, #T_f9b80_row1_col3, #T_f9b80_row2_col0, #T_f9b80_row2_col1, #T_f9b80_row2_col2, #T_f9b80_row2_col3, #T_f9b80_row3_col0, #T_f9b80_row3_col1, #T_f9b80_row3_col2, #T_f9b80_row3_col3, #T_f9b80_row4_col0, #T_f9b80_row4_col1, #T_f9b80_row4_col2, #T_f9b80_row4_col3, #T_f9b80_row5_col0, #T_f9b80_row5_col1, #T_f9b80_row5_col2, #T_f9b80_row5_col3, #T_f9b80_row6_col0, #T_f9b80_row6_col1, #T_f9b80_row6_col2, #T_f9b80_row6_col3, #T_f9b80_row7_col0, #T_f9b80_row7_col1, #T_f9b80_row7_col2, #T_f9b80_row7_col3, #T_f9b80_row8_col0, #T_f9b80_row8_col1, #T_f9b80_row8_col2, #T_f9b80_row8_col3, #T_f9b80_row9_col0, #T_f9b80_row9_col1, #T_f9b80_row9_col2, #T_f9b80_row9_col3 {\n",
       "  background-color: lightgreen;\n",
       "  color: black;\n",
       "  font-size: 12pt;\n",
       "}\n",
       "</style>\n",
       "<table id=\"T_f9b80\">\n",
       "  <thead>\n",
       "    <tr>\n",
       "      <th class=\"blank level0\" >&nbsp;</th>\n",
       "      <th id=\"T_f9b80_level0_col0\" class=\"col_heading level0 col0\" >TP</th>\n",
       "      <th id=\"T_f9b80_level0_col1\" class=\"col_heading level0 col1\" >TN</th>\n",
       "      <th id=\"T_f9b80_level0_col2\" class=\"col_heading level0 col2\" >FP</th>\n",
       "      <th id=\"T_f9b80_level0_col3\" class=\"col_heading level0 col3\" >FN</th>\n",
       "    </tr>\n",
       "    <tr>\n",
       "      <th class=\"index_name level0\" >class_type</th>\n",
       "      <th class=\"blank col0\" >&nbsp;</th>\n",
       "      <th class=\"blank col1\" >&nbsp;</th>\n",
       "      <th class=\"blank col2\" >&nbsp;</th>\n",
       "      <th class=\"blank col3\" >&nbsp;</th>\n",
       "    </tr>\n",
       "  </thead>\n",
       "  <tbody>\n",
       "    <tr>\n",
       "      <th id=\"T_f9b80_level0_row0\" class=\"row_heading level0 row0\" >0</th>\n",
       "      <td id=\"T_f9b80_row0_col0\" class=\"data row0 col0\" >228</td>\n",
       "      <td id=\"T_f9b80_row0_col1\" class=\"data row0 col1\" >3273</td>\n",
       "      <td id=\"T_f9b80_row0_col2\" class=\"data row0 col2\" >0</td>\n",
       "      <td id=\"T_f9b80_row0_col3\" class=\"data row0 col3\" >0</td>\n",
       "    </tr>\n",
       "    <tr>\n",
       "      <th id=\"T_f9b80_level0_row1\" class=\"row_heading level0 row1\" >1</th>\n",
       "      <td id=\"T_f9b80_row1_col0\" class=\"data row1 col0\" >687</td>\n",
       "      <td id=\"T_f9b80_row1_col1\" class=\"data row1 col1\" >2810</td>\n",
       "      <td id=\"T_f9b80_row1_col2\" class=\"data row1 col2\" >2</td>\n",
       "      <td id=\"T_f9b80_row1_col3\" class=\"data row1 col3\" >2</td>\n",
       "    </tr>\n",
       "    <tr>\n",
       "      <th id=\"T_f9b80_level0_row2\" class=\"row_heading level0 row2\" >2</th>\n",
       "      <td id=\"T_f9b80_row2_col0\" class=\"data row2 col0\" >501</td>\n",
       "      <td id=\"T_f9b80_row2_col1\" class=\"data row2 col1\" >2998</td>\n",
       "      <td id=\"T_f9b80_row2_col2\" class=\"data row2 col2\" >0</td>\n",
       "      <td id=\"T_f9b80_row2_col3\" class=\"data row2 col3\" >2</td>\n",
       "    </tr>\n",
       "    <tr>\n",
       "      <th id=\"T_f9b80_level0_row3\" class=\"row_heading level0 row3\" >3</th>\n",
       "      <td id=\"T_f9b80_row3_col0\" class=\"data row3 col0\" >399</td>\n",
       "      <td id=\"T_f9b80_row3_col1\" class=\"data row3 col1\" >3100</td>\n",
       "      <td id=\"T_f9b80_row3_col2\" class=\"data row3 col2\" >2</td>\n",
       "      <td id=\"T_f9b80_row3_col3\" class=\"data row3 col3\" >0</td>\n",
       "    </tr>\n",
       "    <tr>\n",
       "      <th id=\"T_f9b80_level0_row4\" class=\"row_heading level0 row4\" >4</th>\n",
       "      <td id=\"T_f9b80_row4_col0\" class=\"data row4 col0\" >355</td>\n",
       "      <td id=\"T_f9b80_row4_col1\" class=\"data row4 col1\" >3145</td>\n",
       "      <td id=\"T_f9b80_row4_col2\" class=\"data row4 col2\" >0</td>\n",
       "      <td id=\"T_f9b80_row4_col3\" class=\"data row4 col3\" >1</td>\n",
       "    </tr>\n",
       "    <tr>\n",
       "      <th id=\"T_f9b80_level0_row5\" class=\"row_heading level0 row5\" >5</th>\n",
       "      <td id=\"T_f9b80_row5_col0\" class=\"data row5 col0\" >311</td>\n",
       "      <td id=\"T_f9b80_row5_col1\" class=\"data row5 col1\" >3190</td>\n",
       "      <td id=\"T_f9b80_row5_col2\" class=\"data row5 col2\" >0</td>\n",
       "      <td id=\"T_f9b80_row5_col3\" class=\"data row5 col3\" >0</td>\n",
       "    </tr>\n",
       "    <tr>\n",
       "      <th id=\"T_f9b80_level0_row6\" class=\"row_heading level0 row6\" >6</th>\n",
       "      <td id=\"T_f9b80_row6_col0\" class=\"data row6 col0\" >276</td>\n",
       "      <td id=\"T_f9b80_row6_col1\" class=\"data row6 col1\" >3223</td>\n",
       "      <td id=\"T_f9b80_row6_col2\" class=\"data row6 col2\" >2</td>\n",
       "      <td id=\"T_f9b80_row6_col3\" class=\"data row6 col3\" >0</td>\n",
       "    </tr>\n",
       "    <tr>\n",
       "      <th id=\"T_f9b80_level0_row7\" class=\"row_heading level0 row7\" >7</th>\n",
       "      <td id=\"T_f9b80_row7_col0\" class=\"data row7 col0\" >274</td>\n",
       "      <td id=\"T_f9b80_row7_col1\" class=\"data row7 col1\" >3227</td>\n",
       "      <td id=\"T_f9b80_row7_col2\" class=\"data row7 col2\" >0</td>\n",
       "      <td id=\"T_f9b80_row7_col3\" class=\"data row7 col3\" >0</td>\n",
       "    </tr>\n",
       "    <tr>\n",
       "      <th id=\"T_f9b80_level0_row8\" class=\"row_heading level0 row8\" >8</th>\n",
       "      <td id=\"T_f9b80_row8_col0\" class=\"data row8 col0\" >246</td>\n",
       "      <td id=\"T_f9b80_row8_col1\" class=\"data row8 col1\" >3255</td>\n",
       "      <td id=\"T_f9b80_row8_col2\" class=\"data row8 col2\" >0</td>\n",
       "      <td id=\"T_f9b80_row8_col3\" class=\"data row8 col3\" >0</td>\n",
       "    </tr>\n",
       "    <tr>\n",
       "      <th id=\"T_f9b80_level0_row9\" class=\"row_heading level0 row9\" >9</th>\n",
       "      <td id=\"T_f9b80_row9_col0\" class=\"data row9 col0\" >218</td>\n",
       "      <td id=\"T_f9b80_row9_col1\" class=\"data row9 col1\" >3282</td>\n",
       "      <td id=\"T_f9b80_row9_col2\" class=\"data row9 col2\" >0</td>\n",
       "      <td id=\"T_f9b80_row9_col3\" class=\"data row9 col3\" >1</td>\n",
       "    </tr>\n",
       "  </tbody>\n",
       "</table>\n"
      ],
      "text/plain": [
       "<pandas.io.formats.style.Styler at 0x28f4c668d90>"
      ]
     },
     "metadata": {},
     "output_type": "display_data"
    },
    {
     "name": "stdout",
     "output_type": "stream",
     "text": [
      "\n"
     ]
    },
    {
     "data": {
      "text/plain": [
       "{'accuracy': 0.998286203941731,\n",
       " 'precision': 0.9984915466603874,\n",
       " 'recall': 0.9985745900429401,\n",
       " 'f1_score': 0.9985300302924152}"
      ]
     },
     "execution_count": 79,
     "metadata": {},
     "output_type": "execute_result"
    }
   ],
   "source": [
    "metrics = MulticlassClassificationMetrics(val_ds_y, ans_val_avg_loss)\n",
    "print(metrics)\n",
    "metrics.metrics()"
   ]
  },
  {
   "attachments": {},
   "cell_type": "markdown",
   "metadata": {},
   "source": [
    "Метрики на тестовых данных примерно 0.95\n",
    "\n",
    "Надо больше экспериметов"
   ]
  },
  {
   "cell_type": "markdown",
   "metadata": {},
   "source": []
  }
 ],
 "metadata": {
  "kernelspec": {
   "display_name": "Python 3",
   "language": "python",
   "name": "python3"
  },
  "language_info": {
   "codemirror_mode": {
    "name": "ipython",
    "version": 3
   },
   "file_extension": ".py",
   "mimetype": "text/x-python",
   "name": "python",
   "nbconvert_exporter": "python",
   "pygments_lexer": "ipython3",
   "version": "3.10.10"
  },
  "orig_nbformat": 4
 },
 "nbformat": 4,
 "nbformat_minor": 2
}
