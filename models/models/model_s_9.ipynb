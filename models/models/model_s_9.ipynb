{
 "cells": [
  {
   "cell_type": "markdown",
   "metadata": {
    "id": "r2yiHhUx-S72"
   },
   "source": [
    "# MobileNetV2(2nd version)"
   ]
  },
  {
   "cell_type": "code",
   "source": [
    "from google.colab import drive\n",
    "\n",
    "drive.mount('/content/drive')"
   ],
   "metadata": {
    "colab": {
     "base_uri": "https://localhost:8080/"
    },
    "id": "QxaNXFTYAcw8",
    "executionInfo": {
     "status": "ok",
     "timestamp": 1681664389229,
     "user_tz": -180,
     "elapsed": 23339,
     "user": {
      "displayName": "Гриша Безруков",
      "userId": "02717934454974586898"
     }
    },
    "outputId": "7b8186db-34cf-4314-a218-75d6ec0a511f"
   },
   "execution_count": 3,
   "outputs": [
    {
     "output_type": "stream",
     "name": "stdout",
     "text": [
      "Mounted at /content/drive\n"
     ]
    }
   ]
  },
  {
   "cell_type": "markdown",
   "metadata": {
    "id": "svYRwNDL-S75"
   },
   "source": [
    "#### Импорт необходимых библиотек"
   ]
  },
  {
   "cell_type": "code",
   "execution_count": 1,
   "metadata": {
    "colab": {
     "base_uri": "https://localhost:8080/"
    },
    "executionInfo": {
     "elapsed": 23345,
     "status": "ok",
     "timestamp": 1681664239228,
     "user": {
      "displayName": "Гриша Безруков",
      "userId": "02717934454974586898"
     },
     "user_tz": -180
    },
    "id": "Zq7rWgSDecBY",
    "outputId": "7398dd34-6dc9-404f-c32b-b5d99e21bf83"
   },
   "outputs": [
    {
     "output_type": "stream",
     "name": "stdout",
     "text": [
      "Looking in indexes: https://pypi.org/simple, https://us-python.pkg.dev/colab-wheels/public/simple/\n",
      "Collecting tensorflow-addons\n",
      "  Downloading tensorflow_addons-0.20.0-cp39-cp39-manylinux_2_17_x86_64.manylinux2014_x86_64.whl (591 kB)\n",
      "\u001B[2K     \u001B[90m━━━━━━━━━━━━━━━━━━━━━━━━━━━━━━━━━━━━━━━\u001B[0m \u001B[32m591.0/591.0 kB\u001B[0m \u001B[31m9.9 MB/s\u001B[0m eta \u001B[36m0:00:00\u001B[0m\n",
      "\u001B[?25hRequirement already satisfied: packaging in /usr/local/lib/python3.9/dist-packages (from tensorflow-addons) (23.0)\n",
      "Collecting typeguard<3.0.0,>=2.7\n",
      "  Downloading typeguard-2.13.3-py3-none-any.whl (17 kB)\n",
      "Installing collected packages: typeguard, tensorflow-addons\n",
      "Successfully installed tensorflow-addons-0.20.0 typeguard-2.13.3\n",
      "Looking in indexes: https://pypi.org/simple, https://us-python.pkg.dev/colab-wheels/public/simple/\n",
      "Collecting livelossplot\n",
      "  Downloading livelossplot-0.5.5-py3-none-any.whl (22 kB)\n",
      "Requirement already satisfied: bokeh in /usr/local/lib/python3.9/dist-packages (from livelossplot) (2.4.3)\n",
      "Requirement already satisfied: matplotlib in /usr/local/lib/python3.9/dist-packages (from livelossplot) (3.7.1)\n",
      "Requirement already satisfied: Jinja2>=2.9 in /usr/local/lib/python3.9/dist-packages (from bokeh->livelossplot) (3.1.2)\n",
      "Requirement already satisfied: numpy>=1.11.3 in /usr/local/lib/python3.9/dist-packages (from bokeh->livelossplot) (1.22.4)\n",
      "Requirement already satisfied: pillow>=7.1.0 in /usr/local/lib/python3.9/dist-packages (from bokeh->livelossplot) (8.4.0)\n",
      "Requirement already satisfied: PyYAML>=3.10 in /usr/local/lib/python3.9/dist-packages (from bokeh->livelossplot) (6.0)\n",
      "Requirement already satisfied: packaging>=16.8 in /usr/local/lib/python3.9/dist-packages (from bokeh->livelossplot) (23.0)\n",
      "Requirement already satisfied: typing-extensions>=3.10.0 in /usr/local/lib/python3.9/dist-packages (from bokeh->livelossplot) (4.5.0)\n",
      "Requirement already satisfied: tornado>=5.1 in /usr/local/lib/python3.9/dist-packages (from bokeh->livelossplot) (6.2)\n",
      "Requirement already satisfied: importlib-resources>=3.2.0 in /usr/local/lib/python3.9/dist-packages (from matplotlib->livelossplot) (5.12.0)\n",
      "Requirement already satisfied: python-dateutil>=2.7 in /usr/local/lib/python3.9/dist-packages (from matplotlib->livelossplot) (2.8.2)\n",
      "Requirement already satisfied: fonttools>=4.22.0 in /usr/local/lib/python3.9/dist-packages (from matplotlib->livelossplot) (4.39.3)\n",
      "Requirement already satisfied: kiwisolver>=1.0.1 in /usr/local/lib/python3.9/dist-packages (from matplotlib->livelossplot) (1.4.4)\n",
      "Requirement already satisfied: contourpy>=1.0.1 in /usr/local/lib/python3.9/dist-packages (from matplotlib->livelossplot) (1.0.7)\n",
      "Requirement already satisfied: cycler>=0.10 in /usr/local/lib/python3.9/dist-packages (from matplotlib->livelossplot) (0.11.0)\n",
      "Requirement already satisfied: pyparsing>=2.3.1 in /usr/local/lib/python3.9/dist-packages (from matplotlib->livelossplot) (3.0.9)\n",
      "Requirement already satisfied: zipp>=3.1.0 in /usr/local/lib/python3.9/dist-packages (from importlib-resources>=3.2.0->matplotlib->livelossplot) (3.15.0)\n",
      "Requirement already satisfied: MarkupSafe>=2.0 in /usr/local/lib/python3.9/dist-packages (from Jinja2>=2.9->bokeh->livelossplot) (2.1.2)\n",
      "Requirement already satisfied: six>=1.5 in /usr/local/lib/python3.9/dist-packages (from python-dateutil>=2.7->matplotlib->livelossplot) (1.16.0)\n",
      "Installing collected packages: livelossplot\n",
      "Successfully installed livelossplot-0.5.5\n"
     ]
    }
   ],
   "source": [
    "!pip install tensorflow-addons\n",
    "!pip install livelossplot"
   ]
  },
  {
   "cell_type": "code",
   "execution_count": 1,
   "metadata": {
    "colab": {
     "base_uri": "https://localhost:8080/"
    },
    "executionInfo": {
     "elapsed": 7,
     "status": "ok",
     "timestamp": 1681664472194,
     "user": {
      "displayName": "Гриша Безруков",
      "userId": "02717934454974586898"
     },
     "user_tz": -180
    },
    "id": "yyTOIOizfuJ-",
    "outputId": "501f87f2-0a98-49a7-cb1e-accf322341ef"
   },
   "outputs": [
    {
     "output_type": "stream",
     "name": "stdout",
     "text": [
      "/content/drive/MyDrive/YaMlProject/models/models\n"
     ]
    }
   ],
   "source": [
    "% cd drive / MyDrive / YaMlProject / models / models"
   ]
  },
  {
   "cell_type": "code",
   "execution_count": 1,
   "metadata": {
    "colab": {
     "base_uri": "https://localhost:8080/"
    },
    "executionInfo": {
     "elapsed": 8895,
     "status": "ok",
     "timestamp": 1681664482870,
     "user": {
      "displayName": "Гриша Безруков",
      "userId": "02717934454974586898"
     },
     "user_tz": -180
    },
    "id": "nYflAO2U-S76",
    "outputId": "22dc7585-5416-487f-cbdb-4586be14f3fd"
   },
   "outputs": [
    {
     "name": "stderr",
     "output_type": "stream",
     "text": [
      "C:\\Users\\Mihail\\PycharmProjects\\YaMlProject\\venv\\lib\\site-packages\\tensorflow_addons\\utils\\tfa_eol_msg.py:23: UserWarning: \n",
      "\n",
      "TensorFlow Addons (TFA) has ended development and introduction of new features.\n",
      "TFA has entered a minimal maintenance and release mode until a planned end of life in May 2024.\n",
      "Please modify downstream libraries to take dependencies from other repositories in our TensorFlow community (e.g. Keras, Keras-CV, and Keras-NLP). \n",
      "\n",
      "For more information see: https://github.com/tensorflow/addons/issues/2807 \n",
      "\n",
      "  warnings.warn(\n"
     ]
    }
   ],
   "source": [
    "import sys\n",
    "\n",
    "import matplotlib.pyplot as plt\n",
    "import numpy as np\n",
    "import pandas as pd\n",
    "import seaborn\n",
    "import tensorflow as tf\n",
    "import tensorflow_addons as tfa\n",
    "import torchvision as tv\n",
    "from PIL import Image\n",
    "from livelossplot import PlotLossesKeras\n",
    "from sklearn.metrics import confusion_matrix\n",
    "\n",
    "sys.path.append('../../')\n",
    "\n",
    "from core.datasets import get_ds\n",
    "from core.make_answer import make_ans_file"
   ]
  },
  {
   "cell_type": "markdown",
   "metadata": {
    "id": "NR69MtS_-S77"
   },
   "source": [
    "#### Формируем аугментацию."
   ]
  },
  {
   "cell_type": "markdown",
   "metadata": {
    "id": "-2ghBgor1hzO"
   },
   "source": [
    "##### Вариант 1.\n",
    "\n",
    "- Пишите аугментацию. Объект класса tv.transforms.Compose или tv.transforms.{аугментация}"
   ]
  },
  {
   "cell_type": "code",
   "execution_count": 2,
   "metadata": {
    "executionInfo": {
     "elapsed": 6,
     "status": "ok",
     "timestamp": 1681664493460,
     "user": {
      "displayName": "Гриша Безруков",
      "userId": "02717934454974586898"
     },
     "user_tz": -180
    },
    "id": "ERpTFZ21-S77"
   },
   "outputs": [],
   "source": [
    "transformer = tv.transforms.Compose([\n",
    "    tv.transforms.ColorJitter(brightness=.2, hue=0.2, contrast=0.5),\n",
    "    tv.transforms.RandomAffine(degrees=(-12, 12), translate=(0, 0.1), scale=(0.85, 1)),\n",
    "    tv.transforms.RandomPerspective(distortion_scale=0.2, p=0.7),\n",
    "])"
   ]
  },
  {
   "cell_type": "markdown",
   "metadata": {
    "id": "T2zKYi1p-S77"
   },
   "source": [
    "#### Создаем датасеты\n",
    "```python\n",
    "get_ds(\n",
    "    file_train, `Путь к трейновому датасету`\n",
    "    file_test, `Путь к тестовому датасету`\n",
    "    transform=None,  `Аугументация`\n",
    "    batch_size=512,  `Размер батча`\n",
    "    one_hot=False,  `Формат ответов one_hot_encoding или нет`\n",
    "    val_size=0.03,  `Размер валидационного датасета, относительно data_train`\n",
    "    back=1,  `На сколько уровней в директории надо подняться наверх, чтобы дойти до корневой`\n",
    ")\n",
    "```"
   ]
  },
  {
   "cell_type": "markdown",
   "metadata": {
    "id": "QYEdAqtW1hzW"
   },
   "source": [
    "Позже мы будем делать ансамбли и похожие эвристики, поэтому всегда делайте `one_hot=True`"
   ]
  },
  {
   "cell_type": "code",
   "execution_count": 3,
   "outputs": [],
   "source": [
    "train_ds, val_ds, test_ds = get_ds('smote_data_train_7000', 'repaired_data_test', transform=transformer,\n",
    "                                   one_hot=True, back=2, batch_size=100)"
   ],
   "metadata": {
    "id": "1Mpb1H6PaXUC",
    "executionInfo": {
     "status": "ok",
     "timestamp": 1681664566764,
     "user_tz": -180,
     "elapsed": 31843,
     "user": {
      "displayName": "Гриша Безруков",
      "userId": "02717934454974586898"
     }
    }
   }
  },
  {
   "cell_type": "markdown",
   "metadata": {
    "id": "eOY8forB1hza"
   },
   "source": [
    "Для дальнейшей проверки метрик разделяем валидационный датасет на x и y"
   ]
  },
  {
   "cell_type": "code",
   "execution_count": 4,
   "metadata": {
    "executionInfo": {
     "elapsed": 3522,
     "status": "ok",
     "timestamp": 1681664570253,
     "user": {
      "displayName": "Гриша Безруков",
      "userId": "02717934454974586898"
     },
     "user_tz": -180
    },
    "id": "cXVwzb401hzb"
   },
   "outputs": [],
   "source": [
    "val_ds_x = np.array([i[0] for i in val_ds.unbatch().as_numpy_iterator()])\n",
    "val_ds_y = np.array([i[1] for i in val_ds.unbatch().as_numpy_iterator()])"
   ]
  },
  {
   "cell_type": "markdown",
   "metadata": {
    "id": "_Vcj5spc1hzc"
   },
   "source": [
    "Смотрим на получившуюся агументацию."
   ]
  },
  {
   "cell_type": "code",
   "execution_count": 9,
   "metadata": {
    "colab": {
     "base_uri": "https://localhost:8080/",
     "height": 1000
    },
    "executionInfo": {
     "elapsed": 2031,
     "status": "ok",
     "timestamp": 1681664572204,
     "user": {
      "displayName": "Гриша Безруков",
      "userId": "02717934454974586898"
     },
     "user_tz": -180
    },
    "id": "3ygOCG_F1hzc",
    "outputId": "bd1f92da-0a4a-4f5b-8c03-ccf242f156ea"
   },
   "outputs": [
    {
     "output_type": "display_data",
     "data": {
      "text/plain": [
       "<Figure size 1200x1500 with 20 Axes>"
      ],
      "image/png": "[encoded data removed]"
     },
     "metadata": {}
    }
   ],
   "source": [
    "plt.figure(figsize=(12, 15))\n",
    "train_ds_visualization = train_ds[0]\n",
    "for i in range(20):\n",
    "    plt.subplot(5, 4, i + 1)\n",
    "    img = np.array(Image.fromarray((train_ds_visualization[0][i] * 255).astype(np.uint8), 'RGB'))\n",
    "    plt.imshow(img / 255, cmap=plt.cm.binary)\n",
    "    plt.title(np.argmax(train_ds_visualization[1][i]))\n",
    "    plt.axis('off')\n",
    "plt.show()"
   ]
  },
  {
   "cell_type": "code",
   "execution_count": 10,
   "metadata": {
    "id": "6y18NiXlaXUD",
    "outputId": "b755845a-3354-49d7-e9da-aa5958024e48",
    "colab": {
     "base_uri": "https://localhost:8080/"
    },
    "executionInfo": {
     "status": "ok",
     "timestamp": 1681664583618,
     "user_tz": -180,
     "elapsed": 390,
     "user": {
      "displayName": "Гриша Безруков",
      "userId": "02717934454974586898"
     }
    }
   },
   "outputs": [
    {
     "output_type": "execute_result",
     "data": {
      "text/plain": [
       "array([[0., 0., 0., 1., 0., 0., 0., 0., 0., 0.],\n",
       "       [0., 0., 0., 0., 0., 0., 0., 0., 1., 0.],\n",
       "       [0., 0., 0., 0., 0., 0., 1., 0., 0., 0.],\n",
       "       [0., 0., 0., 0., 1., 0., 0., 0., 0., 0.],\n",
       "       [0., 0., 0., 0., 0., 0., 0., 0., 0., 1.],\n",
       "       [0., 0., 0., 0., 1., 0., 0., 0., 0., 0.],\n",
       "       [0., 0., 0., 0., 0., 0., 0., 0., 1., 0.],\n",
       "       [0., 0., 0., 1., 0., 0., 0., 0., 0., 0.],\n",
       "       [0., 0., 1., 0., 0., 0., 0., 0., 0., 0.],\n",
       "       [0., 0., 0., 0., 0., 1., 0., 0., 0., 0.],\n",
       "       [0., 0., 0., 0., 0., 0., 0., 0., 0., 1.],\n",
       "       [0., 0., 1., 0., 0., 0., 0., 0., 0., 0.],\n",
       "       [0., 0., 0., 0., 0., 1., 0., 0., 0., 0.],\n",
       "       [0., 0., 0., 0., 0., 0., 0., 0., 1., 0.],\n",
       "       [0., 0., 0., 0., 0., 0., 0., 1., 0., 0.],\n",
       "       [0., 0., 0., 0., 0., 0., 0., 1., 0., 0.],\n",
       "       [0., 0., 0., 0., 0., 0., 1., 0., 0., 0.],\n",
       "       [0., 0., 0., 0., 0., 0., 0., 1., 0., 0.],\n",
       "       [1., 0., 0., 0., 0., 0., 0., 0., 0., 0.],\n",
       "       [0., 0., 0., 0., 1., 0., 0., 0., 0., 0.],\n",
       "       [0., 0., 0., 0., 0., 0., 0., 0., 1., 0.],\n",
       "       [0., 0., 0., 0., 0., 0., 0., 0., 0., 1.],\n",
       "       [0., 0., 1., 0., 0., 0., 0., 0., 0., 0.],\n",
       "       [0., 0., 0., 0., 0., 0., 1., 0., 0., 0.],\n",
       "       [0., 0., 0., 1., 0., 0., 0., 0., 0., 0.],\n",
       "       [1., 0., 0., 0., 0., 0., 0., 0., 0., 0.],\n",
       "       [1., 0., 0., 0., 0., 0., 0., 0., 0., 0.],\n",
       "       [0., 0., 0., 0., 0., 0., 1., 0., 0., 0.],\n",
       "       [0., 0., 0., 0., 0., 1., 0., 0., 0., 0.],\n",
       "       [0., 0., 0., 0., 0., 1., 0., 0., 0., 0.],\n",
       "       [0., 0., 0., 0., 0., 0., 0., 0., 1., 0.],\n",
       "       [0., 0., 0., 0., 0., 0., 0., 0., 1., 0.],\n",
       "       [1., 0., 0., 0., 0., 0., 0., 0., 0., 0.],\n",
       "       [0., 0., 0., 0., 0., 0., 1., 0., 0., 0.],\n",
       "       [0., 0., 0., 0., 0., 0., 0., 1., 0., 0.],\n",
       "       [0., 0., 0., 0., 0., 0., 0., 0., 1., 0.],\n",
       "       [0., 0., 0., 0., 0., 1., 0., 0., 0., 0.],\n",
       "       [0., 1., 0., 0., 0., 0., 0., 0., 0., 0.],\n",
       "       [0., 0., 0., 1., 0., 0., 0., 0., 0., 0.],\n",
       "       [0., 1., 0., 0., 0., 0., 0., 0., 0., 0.],\n",
       "       [1., 0., 0., 0., 0., 0., 0., 0., 0., 0.],\n",
       "       [0., 0., 0., 0., 1., 0., 0., 0., 0., 0.],\n",
       "       [0., 0., 0., 0., 0., 0., 0., 0., 0., 1.],\n",
       "       [0., 0., 0., 1., 0., 0., 0., 0., 0., 0.],\n",
       "       [0., 1., 0., 0., 0., 0., 0., 0., 0., 0.],\n",
       "       [0., 1., 0., 0., 0., 0., 0., 0., 0., 0.],\n",
       "       [0., 0., 0., 1., 0., 0., 0., 0., 0., 0.],\n",
       "       [0., 0., 1., 0., 0., 0., 0., 0., 0., 0.],\n",
       "       [0., 0., 1., 0., 0., 0., 0., 0., 0., 0.],\n",
       "       [0., 0., 0., 0., 0., 1., 0., 0., 0., 0.],\n",
       "       [0., 0., 0., 0., 0., 0., 0., 0., 0., 1.],\n",
       "       [0., 0., 0., 0., 0., 0., 0., 1., 0., 0.],\n",
       "       [0., 0., 0., 0., 0., 1., 0., 0., 0., 0.],\n",
       "       [0., 1., 0., 0., 0., 0., 0., 0., 0., 0.],\n",
       "       [0., 0., 0., 0., 1., 0., 0., 0., 0., 0.],\n",
       "       [0., 0., 0., 0., 0., 0., 0., 0., 0., 1.],\n",
       "       [0., 0., 0., 0., 1., 0., 0., 0., 0., 0.],\n",
       "       [0., 0., 0., 0., 0., 0., 0., 1., 0., 0.],\n",
       "       [0., 0., 0., 0., 0., 0., 0., 1., 0., 0.],\n",
       "       [0., 0., 0., 0., 0., 0., 1., 0., 0., 0.],\n",
       "       [1., 0., 0., 0., 0., 0., 0., 0., 0., 0.],\n",
       "       [0., 0., 0., 0., 0., 0., 0., 0., 0., 1.],\n",
       "       [0., 0., 0., 0., 1., 0., 0., 0., 0., 0.],\n",
       "       [0., 0., 0., 0., 0., 0., 0., 1., 0., 0.],\n",
       "       [0., 0., 0., 1., 0., 0., 0., 0., 0., 0.],\n",
       "       [0., 0., 0., 0., 0., 1., 0., 0., 0., 0.],\n",
       "       [0., 0., 0., 0., 1., 0., 0., 0., 0., 0.],\n",
       "       [0., 0., 0., 0., 0., 0., 0., 1., 0., 0.],\n",
       "       [0., 0., 0., 0., 0., 0., 1., 0., 0., 0.],\n",
       "       [1., 0., 0., 0., 0., 0., 0., 0., 0., 0.],\n",
       "       [0., 0., 0., 0., 0., 0., 1., 0., 0., 0.],\n",
       "       [0., 0., 1., 0., 0., 0., 0., 0., 0., 0.],\n",
       "       [0., 0., 0., 0., 0., 0., 1., 0., 0., 0.],\n",
       "       [0., 0., 0., 0., 1., 0., 0., 0., 0., 0.],\n",
       "       [0., 0., 0., 0., 0., 0., 1., 0., 0., 0.],\n",
       "       [0., 0., 0., 1., 0., 0., 0., 0., 0., 0.],\n",
       "       [1., 0., 0., 0., 0., 0., 0., 0., 0., 0.],\n",
       "       [0., 0., 0., 0., 1., 0., 0., 0., 0., 0.],\n",
       "       [0., 1., 0., 0., 0., 0., 0., 0., 0., 0.],\n",
       "       [0., 0., 0., 1., 0., 0., 0., 0., 0., 0.],\n",
       "       [0., 0., 0., 1., 0., 0., 0., 0., 0., 0.],\n",
       "       [0., 0., 0., 0., 0., 0., 0., 1., 0., 0.],\n",
       "       [1., 0., 0., 0., 0., 0., 0., 0., 0., 0.],\n",
       "       [1., 0., 0., 0., 0., 0., 0., 0., 0., 0.],\n",
       "       [0., 1., 0., 0., 0., 0., 0., 0., 0., 0.],\n",
       "       [0., 0., 0., 0., 1., 0., 0., 0., 0., 0.],\n",
       "       [0., 0., 0., 0., 1., 0., 0., 0., 0., 0.],\n",
       "       [0., 0., 0., 0., 0., 0., 0., 1., 0., 0.],\n",
       "       [0., 0., 0., 0., 0., 1., 0., 0., 0., 0.],\n",
       "       [0., 1., 0., 0., 0., 0., 0., 0., 0., 0.],\n",
       "       [0., 0., 0., 0., 0., 0., 0., 0., 0., 1.],\n",
       "       [0., 0., 0., 0., 0., 0., 0., 0., 1., 0.],\n",
       "       [0., 0., 0., 0., 0., 1., 0., 0., 0., 0.],\n",
       "       [1., 0., 0., 0., 0., 0., 0., 0., 0., 0.],\n",
       "       [1., 0., 0., 0., 0., 0., 0., 0., 0., 0.],\n",
       "       [0., 0., 0., 0., 0., 1., 0., 0., 0., 0.],\n",
       "       [0., 0., 0., 0., 0., 1., 0., 0., 0., 0.],\n",
       "       [0., 0., 0., 1., 0., 0., 0., 0., 0., 0.],\n",
       "       [0., 0., 0., 0., 1., 0., 0., 0., 0., 0.],\n",
       "       [1., 0., 0., 0., 0., 0., 0., 0., 0., 0.]], dtype=float32)"
      ]
     },
     "metadata": {},
     "execution_count": 10
    }
   ],
   "source": [
    "train_ds_visualization[1]"
   ]
  },
  {
   "cell_type": "markdown",
   "metadata": {
    "id": "DXxkKTtS-S78"
   },
   "source": [
    "#### Пишем модель\n",
    "\n",
    "Про свертки и пуллинги написано у Гриши, про skip-connection написано у Миши\n",
    "\n",
    "Для правильного использования ансамблирования, в финальном слое не пишем функцию активации. Подробнее написано у Дениса."
   ]
  },
  {
   "cell_type": "code",
   "execution_count": 11,
   "metadata": {
    "colab": {
     "base_uri": "https://localhost:8080/"
    },
    "executionInfo": {
     "elapsed": 4451,
     "status": "ok",
     "timestamp": 1681664598858,
     "user": {
      "displayName": "Гриша Безруков",
      "userId": "02717934454974586898"
     },
     "user_tz": -180
    },
    "id": "sf6H9-ZM-S79",
    "outputId": "ed5fc491-dc3c-4d5b-80d5-a28f17ebb941"
   },
   "outputs": [
    {
     "name": "stdout",
     "output_type": "stream",
     "text": [
      "Model: \"sequential_5\"\n",
      "_________________________________________________________________\n",
      " Layer (type)                Output Shape              Param #   \n",
      "=================================================================\n",
      " conv2d_20 (Conv2D)          (64, 30, 30, 32)          896       \n",
      "                                                                 \n",
      " dropout_11 (Dropout)        (64, 30, 30, 32)          0         \n",
      "                                                                 \n",
      " conv2d_21 (Conv2D)          (64, 28, 28, 32)          9248      \n",
      "                                                                 \n",
      " batch_normalization_6 (Batc  (64, 28, 28, 32)         128       \n",
      " hNormalization)                                                 \n",
      "                                                                 \n",
      " max_pooling2d_5 (MaxPooling  (64, 14, 14, 32)         0         \n",
      " 2D)                                                             \n",
      "                                                                 \n",
      " conv2d_22 (Conv2D)          (64, 12, 12, 64)          18496     \n",
      "                                                                 \n",
      " conv2d_23 (Conv2D)          (64, 10, 10, 128)         73856     \n",
      "                                                                 \n",
      " batch_normalization_7 (Batc  (64, 10, 10, 128)        512       \n",
      " hNormalization)                                                 \n",
      "                                                                 \n",
      " dropout_12 (Dropout)        (64, 10, 10, 128)         0         \n",
      "                                                                 \n",
      " average_pooling2d_5 (Averag  (64, 5, 5, 128)          0         \n",
      " ePooling2D)                                                     \n",
      "                                                                 \n",
      " flatten_5 (Flatten)         (64, 3200)                0         \n",
      "                                                                 \n",
      " dense_15 (Dense)            (64, 64)                  204864    \n",
      "                                                                 \n",
      " dropout_13 (Dropout)        (64, 64)                  0         \n",
      "                                                                 \n",
      " dense_16 (Dense)            (64, 32)                  2080      \n",
      "                                                                 \n",
      " dense_17 (Dense)            (64, 10)                  330       \n",
      "                                                                 \n",
      "=================================================================\n",
      "Total params: 310,410\n",
      "Trainable params: 310,090\n",
      "Non-trainable params: 320\n",
      "_________________________________________________________________\n"
     ]
    }
   ],
   "source": [
    "model = tf.keras.Sequential([\n",
    "    tf.keras.Input(shape=(32, 32, 3), batch_size=64),\n",
    "    tf.keras.layers.Conv2D(32, (3, 3), activation='relu'),\n",
    "    tf.keras.layers.Dropout(0.2),\n",
    "    tf.keras.layers.Conv2D(32, (3, 3), activation='relu'),\n",
    "    tf.keras.layers.BatchNormalization(),\n",
    "    tf.keras.layers.MaxPooling2D((2, 2)),\n",
    "    tf.keras.layers.Conv2D(64, (3, 3), activation='relu'),\n",
    "    tf.keras.layers.Conv2D(128, (3, 3), activation='relu'),\n",
    "    tf.keras.layers.BatchNormalization(),\n",
    "    tf.keras.layers.Dropout(0.2),\n",
    "    tf.keras.layers.AveragePooling2D((2, 2)),\n",
    "    tf.keras.layers.Flatten(),\n",
    "    tf.keras.layers.Dense(64, activation='relu'),\n",
    "    tf.keras.layers.Dropout(0.2),\n",
    "    tf.keras.layers.Dense(32, activation='relu'),\n",
    "    tf.keras.layers.Dense(10)\n",
    "])\n",
    "model.summary()"
   ]
  },
  {
   "cell_type": "code",
   "execution_count": 12,
   "outputs": [],
   "source": [
    "num_model = '_s_9'"
   ],
   "metadata": {
    "id": "ocoMslua_sGe",
    "executionInfo": {
     "status": "ok",
     "timestamp": 1681664699487,
     "user_tz": -180,
     "elapsed": 3784,
     "user": {
      "displayName": "Гриша Безруков",
      "userId": "02717934454974586898"
     }
    }
   }
  },
  {
   "cell_type": "markdown",
   "metadata": {
    "id": "sOWsT-ag1hzh"
   },
   "source": [
    "#### Создаем чекпоинты (всем уже рассказал)\n",
    "- Если лень, то просто копипаст того, что я написал ниже. НЕ ЗАБЫВАЕМ МЕНЯТЬ ПЕРЕМЕННУЮ `num_model`!!!"
   ]
  },
  {
   "cell_type": "code",
   "execution_count": 13,
   "metadata": {
    "executionInfo": {
     "elapsed": 220,
     "status": "ok",
     "timestamp": 1681664712846,
     "user": {
      "displayName": "Гриша Безруков",
      "userId": "02717934454974586898"
     },
     "user_tz": -180
    },
    "id": "3uG2pykA1hzh"
   },
   "outputs": [],
   "source": [
    "metrics = ['categorical_accuracy',\n",
    "           tfa.metrics.F1Score(num_classes=10, average='macro', name='f1_score')]\n",
    "callbacks = [\n",
    "    PlotLossesKeras(),\n",
    "    tf.keras.callbacks.ModelCheckpoint(\n",
    "        filepath=f'../checkpoints/model{num_model}_categorical_accuracy.h5',\n",
    "        monitor='val_categorical_accuracy',\n",
    "        mode='max',\n",
    "        save_best_only=True,\n",
    "    ),\n",
    "    tf.keras.callbacks.ModelCheckpoint(\n",
    "        filepath=f'../checkpoints/model{num_model}_loss.h5',\n",
    "        monitor='val_loss',\n",
    "        mode='min',\n",
    "        save_best_only=True,\n",
    "    ),\n",
    "    tf.keras.callbacks.ModelCheckpoint(\n",
    "        filepath=f'../checkpoints/model{num_model}_f1_score.h5',\n",
    "        monitor='val_f1_score',\n",
    "        mode='max',\n",
    "        save_best_only=True,\n",
    "    ),\n",
    "\n",
    "    tfa.callbacks.AverageModelCheckpoint(\n",
    "        update_weights=False,\n",
    "        filepath=f'../checkpoints/model{num_model}_avg_categorical_accuracy.h5',\n",
    "        monitor='val_categorical_accuracy',\n",
    "        mode='max',\n",
    "        save_best_only=True,\n",
    "    ),\n",
    "    tfa.callbacks.AverageModelCheckpoint(\n",
    "        update_weights=False,\n",
    "        filepath=f'../checkpoints/model{num_model}_avg_loss.h5',\n",
    "        monitor='val_loss',\n",
    "        mode='min',\n",
    "        save_best_only=True,\n",
    "    ),\n",
    "    tfa.callbacks.AverageModelCheckpoint(\n",
    "        update_weights=False,\n",
    "        filepath=f'../checkpoints/model{num_model}_avg_f1_score.h5',\n",
    "        monitor='val_f1_score',\n",
    "        mode='max',\n",
    "        save_best_only=True,\n",
    "    )\n",
    "]"
   ]
  },
  {
   "cell_type": "markdown",
   "metadata": {
    "id": "wzTRYrou-S79"
   },
   "source": [
    "#### Компиляция модели\n",
    "- Если будете что то менять, то только оптимизатор. Про оптимизаторы написано у Лизы."
   ]
  },
  {
   "cell_type": "code",
   "execution_count": 14,
   "metadata": {
    "executionInfo": {
     "elapsed": 6,
     "status": "ok",
     "timestamp": 1681664717986,
     "user": {
      "displayName": "Гриша Безруков",
      "userId": "02717934454974586898"
     },
     "user_tz": -180
    },
    "id": "yBYZOVgK-S7-"
   },
   "outputs": [],
   "source": [
    "model.compile(\n",
    "    optimizer=tfa.optimizers.MovingAverage(tf.keras.optimizers.legacy.Adam(0.0016, decay=5e-5)),\n",
    "    metrics=metrics,\n",
    "    loss=tf.keras.losses.CategoricalCrossentropy(from_logits=True),\n",
    ")"
   ]
  },
  {
   "cell_type": "code",
   "execution_count": null,
   "metadata": {
    "colab": {
     "base_uri": "https://localhost:8080/"
    },
    "executionInfo": {
     "elapsed": 25173,
     "status": "ok",
     "timestamp": 1681649702082,
     "user": {
      "displayName": "Михаил Глазов",
      "userId": "14831628976106288763"
     },
     "user_tz": -180
    },
    "id": "jWAAXsxKfEWp",
    "outputId": "a7475263-2e3a-48fd-a19a-a1835783cafe"
   },
   "outputs": [
    {
     "output_type": "stream",
     "name": "stdout",
     "text": [
      "Mounted at /content/drive\n"
     ]
    }
   ],
   "source": [
    "from google.colab import drive\n",
    "\n",
    "drive.mount('/content/drive')"
   ]
  },
  {
   "cell_type": "markdown",
   "metadata": {
    "id": "Ne9pPgJI-S7-"
   },
   "source": [
    "#### Обучаем модель"
   ]
  },
  {
   "cell_type": "code",
   "execution_count": 15,
   "metadata": {
    "colab": {
     "base_uri": "https://localhost:8080/",
     "height": 1000
    },
    "id": "mbiNiTlx-S7_",
    "outputId": "10cbb880-29d0-447e-fdd0-921baa5a7121",
    "executionInfo": {
     "status": "error",
     "timestamp": 1681668299121,
     "user_tz": -180,
     "elapsed": 1504505,
     "user": {
      "displayName": "Гриша Безруков",
      "userId": "02717934454974586898"
     }
    }
   },
   "outputs": [
    {
     "data": {
      "text/plain": "<Figure size 1200x1200 with 4 Axes>",
      "image/png": "[encoded data removed]"
     },
     "metadata": {},
     "output_type": "display_data"
    },
    {
     "name": "stdout",
     "output_type": "stream",
     "text": [
      "categorical_accuracy\n",
      "\ttraining         \t (min:    0.573, max:    0.807, cur:    0.807)\n",
      "\tvalidation       \t (min:    0.876, max:    0.886, cur:    0.886)\n",
      "f1_score\n",
      "\ttraining         \t (min:    0.572, max:    0.806, cur:    0.806)\n",
      "\tvalidation       \t (min:    0.876, max:    0.885, cur:    0.885)\n",
      "Loss\n",
      "\ttraining         \t (min:    0.612, max:    1.249, cur:    0.612)\n",
      "\tvalidation       \t (min:    0.375, max:    0.410, cur:    0.375)\n",
      "651/651 [==============================] - 171s 263ms/step - loss: 0.6124 - categorical_accuracy: 0.8065 - f1_score: 0.8063 - val_loss: 0.3750 - val_categorical_accuracy: 0.8855 - val_f1_score: 0.8851\n",
      "Epoch 3/100\n",
      " 98/651 [===>..........................] - ETA: 2:29 - loss: 0.5277 - categorical_accuracy: 0.8338 - f1_score: 0.8334"
     ]
    },
    {
     "name": "stderr",
     "output_type": "stream",
     "text": [
      "\n",
      "KeyboardInterrupt\n",
      "\n"
     ]
    }
   ],
   "source": [
    "history = model.fit(train_ds, validation_data=val_ds,\n",
    "                    epochs=100, callbacks=callbacks, verbose=1)"
   ]
  },
  {
   "cell_type": "markdown",
   "metadata": {
    "id": "luv78DSO-S7_"
   },
   "source": [
    "Подгружаем все чекпоинты"
   ]
  },
  {
   "cell_type": "code",
   "execution_count": 4,
   "metadata": {
    "id": "g264umVz1hzv",
    "executionInfo": {
     "status": "ok",
     "timestamp": 1681668343491,
     "user_tz": -180,
     "elapsed": 34285,
     "user": {
      "displayName": "Гриша Безруков",
      "userId": "02717934454974586898"
     }
    }
   },
   "outputs": [],
   "source": [
    "model_categorical_acc = tf.keras.models.load_model(f'../checkpoints/model{num_model}_categorical_accuracy.h5')\n",
    "model_f1_score = tf.keras.models.load_model(f'../checkpoints/model{num_model}_f1_score.h5')\n",
    "model_loss = tf.keras.models.load_model(f'../checkpoints/model{num_model}_loss.h5')\n",
    "model_avg_categorical_acc = tf.keras.models.load_model(f'../checkpoints/model{num_model}_avg_categorical_accuracy.h5')\n",
    "model_avg_f1_score = tf.keras.models.load_model(f'../checkpoints/model{num_model}_avg_f1_score.h5')\n",
    "model_avg_loss = tf.keras.models.load_model(f'../checkpoints/model{num_model}_avg_loss.h5')"
   ]
  },
  {
   "cell_type": "markdown",
   "metadata": {
    "id": "r7i-3GRn-S7_"
   },
   "source": [
    "У нас поличилось три чекпоинта (три модели). Ниже указан код для получения ответов для всех чекпоинтов по валидационному датасету."
   ]
  },
  {
   "cell_type": "code",
   "execution_count": 5,
   "metadata": {
    "id": "u-cKSLLm1hzx",
    "colab": {
     "base_uri": "https://localhost:8080/"
    },
    "executionInfo": {
     "status": "ok",
     "timestamp": 1681668374879,
     "user_tz": -180,
     "elapsed": 31431,
     "user": {
      "displayName": "Гриша Безруков",
      "userId": "02717934454974586898"
     }
    },
    "outputId": "dbf16b64-78f2-470b-c75b-842fefbd2be1"
   },
   "outputs": [
    {
     "ename": "NameError",
     "evalue": "name 'val_ds_x' is not defined",
     "output_type": "error",
     "traceback": [
      "\u001B[1;31m---------------------------------------------------------------------------\u001B[0m",
      "\u001B[1;31mNameError\u001B[0m                                 Traceback (most recent call last)",
      "Cell \u001B[1;32mIn[5], line 1\u001B[0m\n\u001B[1;32m----> 1\u001B[0m ans_val_categorical_accuracy \u001B[38;5;241m=\u001B[39m make_ans_file(model_categorical_acc, \u001B[43mval_ds_x\u001B[49m)\n\u001B[0;32m      2\u001B[0m ans_val_f1_score \u001B[38;5;241m=\u001B[39m make_ans_file(model_f1_score, val_ds_x)\n\u001B[0;32m      3\u001B[0m ans_val_loss \u001B[38;5;241m=\u001B[39m make_ans_file(model_loss, val_ds_x)\n",
      "\u001B[1;31mNameError\u001B[0m: name 'val_ds_x' is not defined"
     ]
    }
   ],
   "source": [
    "ans_val_categorical_accuracy = make_ans_file(model_categorical_acc, val_ds_x)\n",
    "ans_val_f1_score = make_ans_file(model_f1_score, val_ds_x)\n",
    "ans_val_loss = make_ans_file(model_loss, val_ds_x)\n",
    "ans_val_avg_categorical_accuracy = make_ans_file(model_avg_categorical_acc, val_ds_x)\n",
    "ans_val_avg_f1_score = make_ans_file(model_avg_f1_score, val_ds_x)\n",
    "ans_val_avg_loss = make_ans_file(model_avg_loss, val_ds_x)\n",
    "anss = [ans_val_categorical_accuracy, ans_val_f1_score, ans_val_loss, ans_val_avg_categorical_accuracy,\n",
    "        ans_val_avg_f1_score, ans_val_avg_loss]"
   ]
  },
  {
   "cell_type": "markdown",
   "metadata": {
    "id": "az3iBS0W1hzx"
   },
   "source": [
    "Формируем валидационные ответы."
   ]
  },
  {
   "cell_type": "code",
   "execution_count": 19,
   "metadata": {
    "id": "OpY_REt31hzy",
    "executionInfo": {
     "status": "ok",
     "timestamp": 1681668374886,
     "user_tz": -180,
     "elapsed": 59,
     "user": {
      "displayName": "Гриша Безруков",
      "userId": "02717934454974586898"
     }
    }
   },
   "outputs": [],
   "source": [
    "val_ds_y = np.argmax(val_ds_y, axis=1)"
   ]
  },
  {
   "cell_type": "markdown",
   "metadata": {
    "id": "sqmvqg641hzy"
   },
   "source": [
    "Сравниваем валидационные предикты каждого чекпоинта"
   ]
  },
  {
   "cell_type": "code",
   "execution_count": 20,
   "metadata": {
    "id": "swFdpR3O1hzz",
    "colab": {
     "base_uri": "https://localhost:8080/"
    },
    "executionInfo": {
     "status": "ok",
     "timestamp": 1681668374887,
     "user_tz": -180,
     "elapsed": 58,
     "user": {
      "displayName": "Гриша Безруков",
      "userId": "02717934454974586898"
     }
    },
    "outputId": "9e6aaed2-f981-4584-a5a1-b7198374ea84"
   },
   "outputs": [
    {
     "output_type": "stream",
     "name": "stdout",
     "text": [
      "чекпоинты 1 и 2 одинаковые\n",
      "чекпоинты 1 и 3 одинаковые\n",
      "чекпоинты 2 и 3 одинаковые\n",
      "чекпоинты 4 и 5 одинаковые\n",
      "чекпоинты 4 и 6 одинаковые\n",
      "чекпоинты 5 и 6 одинаковые\n"
     ]
    }
   ],
   "source": [
    "for i in range(len(anss) - 1):\n",
    "    for j in range(i + 1, len(anss)):\n",
    "        if np.all(anss[i] == anss[j]):\n",
    "            print(f'чекпоинты {i + 1} и {j + 1} одинаковые')"
   ]
  },
  {
   "cell_type": "markdown",
   "metadata": {
    "id": "CzRxY2Y71hz0"
   },
   "source": [
    "`Все ответы разные, значит чекпоинты сохранили модель на разных эпохах. Если ответы будут одинковые, то вывод о чекпоинте делать не надо.`"
   ]
  },
  {
   "cell_type": "markdown",
   "metadata": {
    "id": "L9eNtr1L1hz1"
   },
   "source": [
    "- Денис пишет ансамблинг моделей. Когда он допишет, мы применим это для формирования ответа по трем получившимся моделям. То есть, если все чекпоинты разные, то мы будем делать средний ответ по трем предиктам."
   ]
  },
  {
   "cell_type": "markdown",
   "metadata": {
    "id": "XRNa8eAd1hz8"
   },
   "source": [
    "В конце смотрим на метрики и делаем выводы о том, чем хороша эта модель. Какие классы она угадывает лучше/худше всего. Дописываем какую метрику показал kaggle."
   ]
  },
  {
   "cell_type": "code",
   "execution_count": 21,
   "metadata": {
    "id": "Op5vVeQp1hz9",
    "executionInfo": {
     "status": "ok",
     "timestamp": 1681668374888,
     "user_tz": -180,
     "elapsed": 54,
     "user": {
      "displayName": "Гриша Безруков",
      "userId": "02717934454974586898"
     }
    }
   },
   "outputs": [],
   "source": [
    "class MulticlassClassificationMetrics:\n",
    "    def __init__(self, y_true, y_pred):\n",
    "        self.y_true = np.array(y_true)\n",
    "        self.y_pred = np.array(y_pred)\n",
    "        self.matrix_error = self.get_matrix_error()\n",
    "\n",
    "    def get_matrix_error(self):\n",
    "        self.class_types = np.unique([self.y_true, self.y_pred])\n",
    "        TP, FN, FP, TN = [], [], [], []\n",
    "        for class_type in self.class_types:\n",
    "            TP.append(np.sum(np.logical_and(self.y_true == self.y_pred, self.y_true == class_type)))\n",
    "            FN.append(np.sum(np.logical_and(self.y_true == class_type, self.y_pred != class_type)))\n",
    "            FP.append(np.sum(np.logical_and(self.y_pred == class_type, self.y_true != class_type)))\n",
    "            TN.append(np.sum(np.logical_and(self.y_pred != class_type, self.y_true != class_type)))\n",
    "        return pd.DataFrame({\n",
    "            'class_type': self.class_types,\n",
    "            'TP': TP, 'TN': TN, 'FP': FP, 'FN': FN,\n",
    "        }).set_index('class_type')\n",
    "\n",
    "    def accuracy(self):\n",
    "        return np.sum(self.y_true == self.y_pred) / self.y_true.shape[0]\n",
    "\n",
    "    def precision(self, averaging='macro'):\n",
    "        if averaging == 'macro':\n",
    "            precisions = self.matrix_error['TP'] / (self.matrix_error['TP'] + self.matrix_error['FP'])\n",
    "            return np.mean(precisions.replace(np.nan, 0))\n",
    "        elif averaging == 'micro':\n",
    "            mean_val = self.matrix_error.mean()\n",
    "            return mean_val['TP'] / (mean_val['TP'] + mean_val['FP'])\n",
    "\n",
    "    def recall(self, averaging='macro'):\n",
    "        if averaging == 'macro':\n",
    "            recalls = self.matrix_error['TP'] / (self.matrix_error['TP'] + self.matrix_error['FN'])\n",
    "            return np.mean(recalls.replace(np.nan, 0))\n",
    "        elif averaging == 'micro':\n",
    "            mean_val = self.matrix_error.mean()\n",
    "            return mean_val['TP'] / (mean_val['TP'] + mean_val['FN'])\n",
    "\n",
    "    def f1_score(self, averaging='macro'):\n",
    "        if averaging == 'macro':\n",
    "            reverse_r = (self.matrix_error['TP'] + self.matrix_error['FN']) / self.matrix_error['TP']\n",
    "            reverse_p = (self.matrix_error['TP'] + self.matrix_error['FP']) / self.matrix_error['TP']\n",
    "            f1_scores = 2 / (reverse_r + reverse_p)\n",
    "            return np.mean(f1_scores.replace(np.nan, 0))\n",
    "        elif averaging == 'micro':\n",
    "            p = self.precision(averaging)\n",
    "            r = self.recall(averaging)\n",
    "            return 2 * p * r / (p + r)\n",
    "\n",
    "    def metrics(self, averaging='macro'):\n",
    "        return {\n",
    "            'accuracy': self.accuracy(),\n",
    "            'precision': self.precision(averaging),\n",
    "            'recall': self.recall(averaging),\n",
    "            'f1_score': self.f1_score(averaging),\n",
    "        }\n",
    "\n",
    "    def __str__(self):\n",
    "        headers = {\n",
    "            'selector': '*',\n",
    "            'props': 'background-color: darkgreen; color: white; font-size: 12pt;',\n",
    "        }\n",
    "        che_super_mega_puper_visualization_of_cell = {\n",
    "            'selector': 'td:hover',\n",
    "            'props': 'background-color: green; color: white;',\n",
    "        }\n",
    "        display(\n",
    "            self.matrix_error\n",
    "            .style\n",
    "            .set_table_styles([\n",
    "                headers,\n",
    "                che_super_mega_puper_visualization_of_cell,\n",
    "            ])\n",
    "            .set_properties(**{'background-color': 'lightgreen',\n",
    "                               'color': 'black', 'font-size': '12pt'})\n",
    "        )\n",
    "        return ''\n",
    "\n",
    "    def __repr__(self):\n",
    "        return (\n",
    "            f'MulticlassClassificationMetrics(class_types={self.class_types})'\n",
    "            .replace(\"'\", '').replace(',', ';'))"
   ]
  },
  {
   "cell_type": "markdown",
   "metadata": {
    "id": "uhWptjbN1hz_"
   },
   "source": [
    "### Accuracy чекпоинт"
   ]
  },
  {
   "cell_type": "code",
   "execution_count": 23,
   "metadata": {
    "colab": {
     "base_uri": "https://localhost:8080/",
     "height": 535
    },
    "executionInfo": {
     "elapsed": 561,
     "status": "ok",
     "timestamp": 1681668391073,
     "user": {
      "displayName": "Гриша Безруков",
      "userId": "02717934454974586898"
     },
     "user_tz": -180
    },
    "id": "h_X5LFRj1h0A",
    "outputId": "84f4423d-ffe3-4e97-c257-aa45e90b7db5"
   },
   "outputs": [
    {
     "output_type": "display_data",
     "data": {
      "text/plain": [
       "<pandas.io.formats.style.Styler at 0x7fe7e40bdeb0>"
      ],
      "text/html": [
       "<style type=\"text/css\">\n",
       "#T_17f89 * {\n",
       "  background-color: darkgreen;\n",
       "  color: white;\n",
       "  font-size: 12pt;\n",
       "}\n",
       "#T_17f89 td:hover {\n",
       "  background-color: green;\n",
       "  color: white;\n",
       "}\n",
       "#T_17f89_row0_col0, #T_17f89_row0_col1, #T_17f89_row0_col2, #T_17f89_row0_col3, #T_17f89_row1_col0, #T_17f89_row1_col1, #T_17f89_row1_col2, #T_17f89_row1_col3, #T_17f89_row2_col0, #T_17f89_row2_col1, #T_17f89_row2_col2, #T_17f89_row2_col3, #T_17f89_row3_col0, #T_17f89_row3_col1, #T_17f89_row3_col2, #T_17f89_row3_col3, #T_17f89_row4_col0, #T_17f89_row4_col1, #T_17f89_row4_col2, #T_17f89_row4_col3, #T_17f89_row5_col0, #T_17f89_row5_col1, #T_17f89_row5_col2, #T_17f89_row5_col3, #T_17f89_row6_col0, #T_17f89_row6_col1, #T_17f89_row6_col2, #T_17f89_row6_col3, #T_17f89_row7_col0, #T_17f89_row7_col1, #T_17f89_row7_col2, #T_17f89_row7_col3, #T_17f89_row8_col0, #T_17f89_row8_col1, #T_17f89_row8_col2, #T_17f89_row8_col3, #T_17f89_row9_col0, #T_17f89_row9_col1, #T_17f89_row9_col2, #T_17f89_row9_col3 {\n",
       "  background-color: lightgreen;\n",
       "  color: black;\n",
       "  font-size: 12pt;\n",
       "}\n",
       "</style>\n",
       "<table id=\"T_17f89\" class=\"dataframe\">\n",
       "  <thead>\n",
       "    <tr>\n",
       "      <th class=\"blank level0\" >&nbsp;</th>\n",
       "      <th id=\"T_17f89_level0_col0\" class=\"col_heading level0 col0\" >TP</th>\n",
       "      <th id=\"T_17f89_level0_col1\" class=\"col_heading level0 col1\" >TN</th>\n",
       "      <th id=\"T_17f89_level0_col2\" class=\"col_heading level0 col2\" >FP</th>\n",
       "      <th id=\"T_17f89_level0_col3\" class=\"col_heading level0 col3\" >FN</th>\n",
       "    </tr>\n",
       "    <tr>\n",
       "      <th class=\"index_name level0\" >class_type</th>\n",
       "      <th class=\"blank col0\" >&nbsp;</th>\n",
       "      <th class=\"blank col1\" >&nbsp;</th>\n",
       "      <th class=\"blank col2\" >&nbsp;</th>\n",
       "      <th class=\"blank col3\" >&nbsp;</th>\n",
       "    </tr>\n",
       "  </thead>\n",
       "  <tbody>\n",
       "    <tr>\n",
       "      <th id=\"T_17f89_level0_row0\" class=\"row_heading level0 row0\" >0</th>\n",
       "      <td id=\"T_17f89_row0_col0\" class=\"data row0 col0\" >495</td>\n",
       "      <td id=\"T_17f89_row0_col1\" class=\"data row0 col1\" >4390</td>\n",
       "      <td id=\"T_17f89_row0_col2\" class=\"data row0 col2\" >12</td>\n",
       "      <td id=\"T_17f89_row0_col3\" class=\"data row0 col3\" >4</td>\n",
       "    </tr>\n",
       "    <tr>\n",
       "      <th id=\"T_17f89_level0_row1\" class=\"row_heading level0 row1\" >1</th>\n",
       "      <td id=\"T_17f89_row1_col0\" class=\"data row1 col0\" >471</td>\n",
       "      <td id=\"T_17f89_row1_col1\" class=\"data row1 col1\" >4396</td>\n",
       "      <td id=\"T_17f89_row1_col2\" class=\"data row1 col2\" >25</td>\n",
       "      <td id=\"T_17f89_row1_col3\" class=\"data row1 col3\" >9</td>\n",
       "    </tr>\n",
       "    <tr>\n",
       "      <th id=\"T_17f89_level0_row2\" class=\"row_heading level0 row2\" >2</th>\n",
       "      <td id=\"T_17f89_row2_col0\" class=\"data row2 col0\" >499</td>\n",
       "      <td id=\"T_17f89_row2_col1\" class=\"data row2 col1\" >4381</td>\n",
       "      <td id=\"T_17f89_row2_col2\" class=\"data row2 col2\" >16</td>\n",
       "      <td id=\"T_17f89_row2_col3\" class=\"data row2 col3\" >5</td>\n",
       "    </tr>\n",
       "    <tr>\n",
       "      <th id=\"T_17f89_level0_row3\" class=\"row_heading level0 row3\" >3</th>\n",
       "      <td id=\"T_17f89_row3_col0\" class=\"data row3 col0\" >495</td>\n",
       "      <td id=\"T_17f89_row3_col1\" class=\"data row3 col1\" >4379</td>\n",
       "      <td id=\"T_17f89_row3_col2\" class=\"data row3 col2\" >17</td>\n",
       "      <td id=\"T_17f89_row3_col3\" class=\"data row3 col3\" >10</td>\n",
       "    </tr>\n",
       "    <tr>\n",
       "      <th id=\"T_17f89_level0_row4\" class=\"row_heading level0 row4\" >4</th>\n",
       "      <td id=\"T_17f89_row4_col0\" class=\"data row4 col0\" >505</td>\n",
       "      <td id=\"T_17f89_row4_col1\" class=\"data row4 col1\" >4381</td>\n",
       "      <td id=\"T_17f89_row4_col2\" class=\"data row4 col2\" >10</td>\n",
       "      <td id=\"T_17f89_row4_col3\" class=\"data row4 col3\" >5</td>\n",
       "    </tr>\n",
       "    <tr>\n",
       "      <th id=\"T_17f89_level0_row5\" class=\"row_heading level0 row5\" >5</th>\n",
       "      <td id=\"T_17f89_row5_col0\" class=\"data row5 col0\" >472</td>\n",
       "      <td id=\"T_17f89_row5_col1\" class=\"data row5 col1\" >4405</td>\n",
       "      <td id=\"T_17f89_row5_col2\" class=\"data row5 col2\" >10</td>\n",
       "      <td id=\"T_17f89_row5_col3\" class=\"data row5 col3\" >14</td>\n",
       "    </tr>\n",
       "    <tr>\n",
       "      <th id=\"T_17f89_level0_row6\" class=\"row_heading level0 row6\" >6</th>\n",
       "      <td id=\"T_17f89_row6_col0\" class=\"data row6 col0\" >474</td>\n",
       "      <td id=\"T_17f89_row6_col1\" class=\"data row6 col1\" >4401</td>\n",
       "      <td id=\"T_17f89_row6_col2\" class=\"data row6 col2\" >9</td>\n",
       "      <td id=\"T_17f89_row6_col3\" class=\"data row6 col3\" >17</td>\n",
       "    </tr>\n",
       "    <tr>\n",
       "      <th id=\"T_17f89_level0_row7\" class=\"row_heading level0 row7\" >7</th>\n",
       "      <td id=\"T_17f89_row7_col0\" class=\"data row7 col0\" >469</td>\n",
       "      <td id=\"T_17f89_row7_col1\" class=\"data row7 col1\" >4406</td>\n",
       "      <td id=\"T_17f89_row7_col2\" class=\"data row7 col2\" >5</td>\n",
       "      <td id=\"T_17f89_row7_col3\" class=\"data row7 col3\" >21</td>\n",
       "    </tr>\n",
       "    <tr>\n",
       "      <th id=\"T_17f89_level0_row8\" class=\"row_heading level0 row8\" >8</th>\n",
       "      <td id=\"T_17f89_row8_col0\" class=\"data row8 col0\" >442</td>\n",
       "      <td id=\"T_17f89_row8_col1\" class=\"data row8 col1\" >4439</td>\n",
       "      <td id=\"T_17f89_row8_col2\" class=\"data row8 col2\" >5</td>\n",
       "      <td id=\"T_17f89_row8_col3\" class=\"data row8 col3\" >15</td>\n",
       "    </tr>\n",
       "    <tr>\n",
       "      <th id=\"T_17f89_level0_row9\" class=\"row_heading level0 row9\" >9</th>\n",
       "      <td id=\"T_17f89_row9_col0\" class=\"data row9 col0\" >468</td>\n",
       "      <td id=\"T_17f89_row9_col1\" class=\"data row9 col1\" >4420</td>\n",
       "      <td id=\"T_17f89_row9_col2\" class=\"data row9 col2\" >2</td>\n",
       "      <td id=\"T_17f89_row9_col3\" class=\"data row9 col3\" >11</td>\n",
       "    </tr>\n",
       "  </tbody>\n",
       "</table>\n"
      ]
     },
     "metadata": {}
    },
    {
     "output_type": "stream",
     "name": "stdout",
     "text": [
      "\n"
     ]
    },
    {
     "output_type": "execute_result",
     "data": {
      "text/plain": [
       "{'accuracy': 0.9773515609059376,\n",
       " 'precision': 0.9776869620225307,\n",
       " 'recall': 0.977163321960053,\n",
       " 'f1_score': 0.9773187191403638}"
      ]
     },
     "metadata": {},
     "execution_count": 23
    }
   ],
   "source": [
    "metrics = MulticlassClassificationMetrics(val_ds_y, ans_val_categorical_accuracy)\n",
    "print(metrics)\n",
    "metrics.metrics()"
   ]
  },
  {
   "cell_type": "markdown",
   "metadata": {
    "id": "7VAzf7n0dECw"
   },
   "source": [
    "### Loss чекпоинт"
   ]
  },
  {
   "cell_type": "code",
   "execution_count": 24,
   "metadata": {
    "colab": {
     "base_uri": "https://localhost:8080/",
     "height": 535
    },
    "executionInfo": {
     "elapsed": 1478,
     "status": "ok",
     "timestamp": 1681668401306,
     "user": {
      "displayName": "Гриша Безруков",
      "userId": "02717934454974586898"
     },
     "user_tz": -180
    },
    "id": "uzHyXblNdECw",
    "outputId": "c3a541e6-daff-476a-cb20-213fe9958fd3"
   },
   "outputs": [
    {
     "output_type": "display_data",
     "data": {
      "text/plain": [
       "<pandas.io.formats.style.Styler at 0x7fe7e40bdf10>"
      ],
      "text/html": [
       "<style type=\"text/css\">\n",
       "#T_204aa * {\n",
       "  background-color: darkgreen;\n",
       "  color: white;\n",
       "  font-size: 12pt;\n",
       "}\n",
       "#T_204aa td:hover {\n",
       "  background-color: green;\n",
       "  color: white;\n",
       "}\n",
       "#T_204aa_row0_col0, #T_204aa_row0_col1, #T_204aa_row0_col2, #T_204aa_row0_col3, #T_204aa_row1_col0, #T_204aa_row1_col1, #T_204aa_row1_col2, #T_204aa_row1_col3, #T_204aa_row2_col0, #T_204aa_row2_col1, #T_204aa_row2_col2, #T_204aa_row2_col3, #T_204aa_row3_col0, #T_204aa_row3_col1, #T_204aa_row3_col2, #T_204aa_row3_col3, #T_204aa_row4_col0, #T_204aa_row4_col1, #T_204aa_row4_col2, #T_204aa_row4_col3, #T_204aa_row5_col0, #T_204aa_row5_col1, #T_204aa_row5_col2, #T_204aa_row5_col3, #T_204aa_row6_col0, #T_204aa_row6_col1, #T_204aa_row6_col2, #T_204aa_row6_col3, #T_204aa_row7_col0, #T_204aa_row7_col1, #T_204aa_row7_col2, #T_204aa_row7_col3, #T_204aa_row8_col0, #T_204aa_row8_col1, #T_204aa_row8_col2, #T_204aa_row8_col3, #T_204aa_row9_col0, #T_204aa_row9_col1, #T_204aa_row9_col2, #T_204aa_row9_col3 {\n",
       "  background-color: lightgreen;\n",
       "  color: black;\n",
       "  font-size: 12pt;\n",
       "}\n",
       "</style>\n",
       "<table id=\"T_204aa\" class=\"dataframe\">\n",
       "  <thead>\n",
       "    <tr>\n",
       "      <th class=\"blank level0\" >&nbsp;</th>\n",
       "      <th id=\"T_204aa_level0_col0\" class=\"col_heading level0 col0\" >TP</th>\n",
       "      <th id=\"T_204aa_level0_col1\" class=\"col_heading level0 col1\" >TN</th>\n",
       "      <th id=\"T_204aa_level0_col2\" class=\"col_heading level0 col2\" >FP</th>\n",
       "      <th id=\"T_204aa_level0_col3\" class=\"col_heading level0 col3\" >FN</th>\n",
       "    </tr>\n",
       "    <tr>\n",
       "      <th class=\"index_name level0\" >class_type</th>\n",
       "      <th class=\"blank col0\" >&nbsp;</th>\n",
       "      <th class=\"blank col1\" >&nbsp;</th>\n",
       "      <th class=\"blank col2\" >&nbsp;</th>\n",
       "      <th class=\"blank col3\" >&nbsp;</th>\n",
       "    </tr>\n",
       "  </thead>\n",
       "  <tbody>\n",
       "    <tr>\n",
       "      <th id=\"T_204aa_level0_row0\" class=\"row_heading level0 row0\" >0</th>\n",
       "      <td id=\"T_204aa_row0_col0\" class=\"data row0 col0\" >495</td>\n",
       "      <td id=\"T_204aa_row0_col1\" class=\"data row0 col1\" >4390</td>\n",
       "      <td id=\"T_204aa_row0_col2\" class=\"data row0 col2\" >12</td>\n",
       "      <td id=\"T_204aa_row0_col3\" class=\"data row0 col3\" >4</td>\n",
       "    </tr>\n",
       "    <tr>\n",
       "      <th id=\"T_204aa_level0_row1\" class=\"row_heading level0 row1\" >1</th>\n",
       "      <td id=\"T_204aa_row1_col0\" class=\"data row1 col0\" >471</td>\n",
       "      <td id=\"T_204aa_row1_col1\" class=\"data row1 col1\" >4396</td>\n",
       "      <td id=\"T_204aa_row1_col2\" class=\"data row1 col2\" >25</td>\n",
       "      <td id=\"T_204aa_row1_col3\" class=\"data row1 col3\" >9</td>\n",
       "    </tr>\n",
       "    <tr>\n",
       "      <th id=\"T_204aa_level0_row2\" class=\"row_heading level0 row2\" >2</th>\n",
       "      <td id=\"T_204aa_row2_col0\" class=\"data row2 col0\" >499</td>\n",
       "      <td id=\"T_204aa_row2_col1\" class=\"data row2 col1\" >4381</td>\n",
       "      <td id=\"T_204aa_row2_col2\" class=\"data row2 col2\" >16</td>\n",
       "      <td id=\"T_204aa_row2_col3\" class=\"data row2 col3\" >5</td>\n",
       "    </tr>\n",
       "    <tr>\n",
       "      <th id=\"T_204aa_level0_row3\" class=\"row_heading level0 row3\" >3</th>\n",
       "      <td id=\"T_204aa_row3_col0\" class=\"data row3 col0\" >495</td>\n",
       "      <td id=\"T_204aa_row3_col1\" class=\"data row3 col1\" >4379</td>\n",
       "      <td id=\"T_204aa_row3_col2\" class=\"data row3 col2\" >17</td>\n",
       "      <td id=\"T_204aa_row3_col3\" class=\"data row3 col3\" >10</td>\n",
       "    </tr>\n",
       "    <tr>\n",
       "      <th id=\"T_204aa_level0_row4\" class=\"row_heading level0 row4\" >4</th>\n",
       "      <td id=\"T_204aa_row4_col0\" class=\"data row4 col0\" >505</td>\n",
       "      <td id=\"T_204aa_row4_col1\" class=\"data row4 col1\" >4381</td>\n",
       "      <td id=\"T_204aa_row4_col2\" class=\"data row4 col2\" >10</td>\n",
       "      <td id=\"T_204aa_row4_col3\" class=\"data row4 col3\" >5</td>\n",
       "    </tr>\n",
       "    <tr>\n",
       "      <th id=\"T_204aa_level0_row5\" class=\"row_heading level0 row5\" >5</th>\n",
       "      <td id=\"T_204aa_row5_col0\" class=\"data row5 col0\" >472</td>\n",
       "      <td id=\"T_204aa_row5_col1\" class=\"data row5 col1\" >4405</td>\n",
       "      <td id=\"T_204aa_row5_col2\" class=\"data row5 col2\" >10</td>\n",
       "      <td id=\"T_204aa_row5_col3\" class=\"data row5 col3\" >14</td>\n",
       "    </tr>\n",
       "    <tr>\n",
       "      <th id=\"T_204aa_level0_row6\" class=\"row_heading level0 row6\" >6</th>\n",
       "      <td id=\"T_204aa_row6_col0\" class=\"data row6 col0\" >474</td>\n",
       "      <td id=\"T_204aa_row6_col1\" class=\"data row6 col1\" >4401</td>\n",
       "      <td id=\"T_204aa_row6_col2\" class=\"data row6 col2\" >9</td>\n",
       "      <td id=\"T_204aa_row6_col3\" class=\"data row6 col3\" >17</td>\n",
       "    </tr>\n",
       "    <tr>\n",
       "      <th id=\"T_204aa_level0_row7\" class=\"row_heading level0 row7\" >7</th>\n",
       "      <td id=\"T_204aa_row7_col0\" class=\"data row7 col0\" >469</td>\n",
       "      <td id=\"T_204aa_row7_col1\" class=\"data row7 col1\" >4406</td>\n",
       "      <td id=\"T_204aa_row7_col2\" class=\"data row7 col2\" >5</td>\n",
       "      <td id=\"T_204aa_row7_col3\" class=\"data row7 col3\" >21</td>\n",
       "    </tr>\n",
       "    <tr>\n",
       "      <th id=\"T_204aa_level0_row8\" class=\"row_heading level0 row8\" >8</th>\n",
       "      <td id=\"T_204aa_row8_col0\" class=\"data row8 col0\" >442</td>\n",
       "      <td id=\"T_204aa_row8_col1\" class=\"data row8 col1\" >4439</td>\n",
       "      <td id=\"T_204aa_row8_col2\" class=\"data row8 col2\" >5</td>\n",
       "      <td id=\"T_204aa_row8_col3\" class=\"data row8 col3\" >15</td>\n",
       "    </tr>\n",
       "    <tr>\n",
       "      <th id=\"T_204aa_level0_row9\" class=\"row_heading level0 row9\" >9</th>\n",
       "      <td id=\"T_204aa_row9_col0\" class=\"data row9 col0\" >468</td>\n",
       "      <td id=\"T_204aa_row9_col1\" class=\"data row9 col1\" >4420</td>\n",
       "      <td id=\"T_204aa_row9_col2\" class=\"data row9 col2\" >2</td>\n",
       "      <td id=\"T_204aa_row9_col3\" class=\"data row9 col3\" >11</td>\n",
       "    </tr>\n",
       "  </tbody>\n",
       "</table>\n"
      ]
     },
     "metadata": {}
    },
    {
     "output_type": "stream",
     "name": "stdout",
     "text": [
      "\n"
     ]
    },
    {
     "output_type": "execute_result",
     "data": {
      "text/plain": [
       "{'accuracy': 0.9773515609059376,\n",
       " 'precision': 0.9776869620225307,\n",
       " 'recall': 0.977163321960053,\n",
       " 'f1_score': 0.9773187191403638}"
      ]
     },
     "metadata": {},
     "execution_count": 24
    }
   ],
   "source": [
    "metrics = MulticlassClassificationMetrics(val_ds_y, ans_val_loss)\n",
    "print(metrics)\n",
    "metrics.metrics()"
   ]
  },
  {
   "cell_type": "markdown",
   "metadata": {
    "id": "A8jwTaCNdECx"
   },
   "source": [
    "### F1-score чекпоинт"
   ]
  },
  {
   "cell_type": "code",
   "execution_count": 25,
   "metadata": {
    "colab": {
     "base_uri": "https://localhost:8080/",
     "height": 535
    },
    "executionInfo": {
     "elapsed": 14,
     "status": "ok",
     "timestamp": 1681668401650,
     "user": {
      "displayName": "Гриша Безруков",
      "userId": "02717934454974586898"
     },
     "user_tz": -180
    },
    "id": "_OupAVHFdECx",
    "outputId": "0c5cc3ad-4295-458d-f05b-44b112e5c772"
   },
   "outputs": [
    {
     "output_type": "display_data",
     "data": {
      "text/plain": [
       "<pandas.io.formats.style.Styler at 0x7fe7e40bde20>"
      ],
      "text/html": [
       "<style type=\"text/css\">\n",
       "#T_cd677 * {\n",
       "  background-color: darkgreen;\n",
       "  color: white;\n",
       "  font-size: 12pt;\n",
       "}\n",
       "#T_cd677 td:hover {\n",
       "  background-color: green;\n",
       "  color: white;\n",
       "}\n",
       "#T_cd677_row0_col0, #T_cd677_row0_col1, #T_cd677_row0_col2, #T_cd677_row0_col3, #T_cd677_row1_col0, #T_cd677_row1_col1, #T_cd677_row1_col2, #T_cd677_row1_col3, #T_cd677_row2_col0, #T_cd677_row2_col1, #T_cd677_row2_col2, #T_cd677_row2_col3, #T_cd677_row3_col0, #T_cd677_row3_col1, #T_cd677_row3_col2, #T_cd677_row3_col3, #T_cd677_row4_col0, #T_cd677_row4_col1, #T_cd677_row4_col2, #T_cd677_row4_col3, #T_cd677_row5_col0, #T_cd677_row5_col1, #T_cd677_row5_col2, #T_cd677_row5_col3, #T_cd677_row6_col0, #T_cd677_row6_col1, #T_cd677_row6_col2, #T_cd677_row6_col3, #T_cd677_row7_col0, #T_cd677_row7_col1, #T_cd677_row7_col2, #T_cd677_row7_col3, #T_cd677_row8_col0, #T_cd677_row8_col1, #T_cd677_row8_col2, #T_cd677_row8_col3, #T_cd677_row9_col0, #T_cd677_row9_col1, #T_cd677_row9_col2, #T_cd677_row9_col3 {\n",
       "  background-color: lightgreen;\n",
       "  color: black;\n",
       "  font-size: 12pt;\n",
       "}\n",
       "</style>\n",
       "<table id=\"T_cd677\" class=\"dataframe\">\n",
       "  <thead>\n",
       "    <tr>\n",
       "      <th class=\"blank level0\" >&nbsp;</th>\n",
       "      <th id=\"T_cd677_level0_col0\" class=\"col_heading level0 col0\" >TP</th>\n",
       "      <th id=\"T_cd677_level0_col1\" class=\"col_heading level0 col1\" >TN</th>\n",
       "      <th id=\"T_cd677_level0_col2\" class=\"col_heading level0 col2\" >FP</th>\n",
       "      <th id=\"T_cd677_level0_col3\" class=\"col_heading level0 col3\" >FN</th>\n",
       "    </tr>\n",
       "    <tr>\n",
       "      <th class=\"index_name level0\" >class_type</th>\n",
       "      <th class=\"blank col0\" >&nbsp;</th>\n",
       "      <th class=\"blank col1\" >&nbsp;</th>\n",
       "      <th class=\"blank col2\" >&nbsp;</th>\n",
       "      <th class=\"blank col3\" >&nbsp;</th>\n",
       "    </tr>\n",
       "  </thead>\n",
       "  <tbody>\n",
       "    <tr>\n",
       "      <th id=\"T_cd677_level0_row0\" class=\"row_heading level0 row0\" >0</th>\n",
       "      <td id=\"T_cd677_row0_col0\" class=\"data row0 col0\" >495</td>\n",
       "      <td id=\"T_cd677_row0_col1\" class=\"data row0 col1\" >4390</td>\n",
       "      <td id=\"T_cd677_row0_col2\" class=\"data row0 col2\" >12</td>\n",
       "      <td id=\"T_cd677_row0_col3\" class=\"data row0 col3\" >4</td>\n",
       "    </tr>\n",
       "    <tr>\n",
       "      <th id=\"T_cd677_level0_row1\" class=\"row_heading level0 row1\" >1</th>\n",
       "      <td id=\"T_cd677_row1_col0\" class=\"data row1 col0\" >471</td>\n",
       "      <td id=\"T_cd677_row1_col1\" class=\"data row1 col1\" >4396</td>\n",
       "      <td id=\"T_cd677_row1_col2\" class=\"data row1 col2\" >25</td>\n",
       "      <td id=\"T_cd677_row1_col3\" class=\"data row1 col3\" >9</td>\n",
       "    </tr>\n",
       "    <tr>\n",
       "      <th id=\"T_cd677_level0_row2\" class=\"row_heading level0 row2\" >2</th>\n",
       "      <td id=\"T_cd677_row2_col0\" class=\"data row2 col0\" >499</td>\n",
       "      <td id=\"T_cd677_row2_col1\" class=\"data row2 col1\" >4381</td>\n",
       "      <td id=\"T_cd677_row2_col2\" class=\"data row2 col2\" >16</td>\n",
       "      <td id=\"T_cd677_row2_col3\" class=\"data row2 col3\" >5</td>\n",
       "    </tr>\n",
       "    <tr>\n",
       "      <th id=\"T_cd677_level0_row3\" class=\"row_heading level0 row3\" >3</th>\n",
       "      <td id=\"T_cd677_row3_col0\" class=\"data row3 col0\" >495</td>\n",
       "      <td id=\"T_cd677_row3_col1\" class=\"data row3 col1\" >4379</td>\n",
       "      <td id=\"T_cd677_row3_col2\" class=\"data row3 col2\" >17</td>\n",
       "      <td id=\"T_cd677_row3_col3\" class=\"data row3 col3\" >10</td>\n",
       "    </tr>\n",
       "    <tr>\n",
       "      <th id=\"T_cd677_level0_row4\" class=\"row_heading level0 row4\" >4</th>\n",
       "      <td id=\"T_cd677_row4_col0\" class=\"data row4 col0\" >505</td>\n",
       "      <td id=\"T_cd677_row4_col1\" class=\"data row4 col1\" >4381</td>\n",
       "      <td id=\"T_cd677_row4_col2\" class=\"data row4 col2\" >10</td>\n",
       "      <td id=\"T_cd677_row4_col3\" class=\"data row4 col3\" >5</td>\n",
       "    </tr>\n",
       "    <tr>\n",
       "      <th id=\"T_cd677_level0_row5\" class=\"row_heading level0 row5\" >5</th>\n",
       "      <td id=\"T_cd677_row5_col0\" class=\"data row5 col0\" >472</td>\n",
       "      <td id=\"T_cd677_row5_col1\" class=\"data row5 col1\" >4405</td>\n",
       "      <td id=\"T_cd677_row5_col2\" class=\"data row5 col2\" >10</td>\n",
       "      <td id=\"T_cd677_row5_col3\" class=\"data row5 col3\" >14</td>\n",
       "    </tr>\n",
       "    <tr>\n",
       "      <th id=\"T_cd677_level0_row6\" class=\"row_heading level0 row6\" >6</th>\n",
       "      <td id=\"T_cd677_row6_col0\" class=\"data row6 col0\" >474</td>\n",
       "      <td id=\"T_cd677_row6_col1\" class=\"data row6 col1\" >4401</td>\n",
       "      <td id=\"T_cd677_row6_col2\" class=\"data row6 col2\" >9</td>\n",
       "      <td id=\"T_cd677_row6_col3\" class=\"data row6 col3\" >17</td>\n",
       "    </tr>\n",
       "    <tr>\n",
       "      <th id=\"T_cd677_level0_row7\" class=\"row_heading level0 row7\" >7</th>\n",
       "      <td id=\"T_cd677_row7_col0\" class=\"data row7 col0\" >469</td>\n",
       "      <td id=\"T_cd677_row7_col1\" class=\"data row7 col1\" >4406</td>\n",
       "      <td id=\"T_cd677_row7_col2\" class=\"data row7 col2\" >5</td>\n",
       "      <td id=\"T_cd677_row7_col3\" class=\"data row7 col3\" >21</td>\n",
       "    </tr>\n",
       "    <tr>\n",
       "      <th id=\"T_cd677_level0_row8\" class=\"row_heading level0 row8\" >8</th>\n",
       "      <td id=\"T_cd677_row8_col0\" class=\"data row8 col0\" >442</td>\n",
       "      <td id=\"T_cd677_row8_col1\" class=\"data row8 col1\" >4439</td>\n",
       "      <td id=\"T_cd677_row8_col2\" class=\"data row8 col2\" >5</td>\n",
       "      <td id=\"T_cd677_row8_col3\" class=\"data row8 col3\" >15</td>\n",
       "    </tr>\n",
       "    <tr>\n",
       "      <th id=\"T_cd677_level0_row9\" class=\"row_heading level0 row9\" >9</th>\n",
       "      <td id=\"T_cd677_row9_col0\" class=\"data row9 col0\" >468</td>\n",
       "      <td id=\"T_cd677_row9_col1\" class=\"data row9 col1\" >4420</td>\n",
       "      <td id=\"T_cd677_row9_col2\" class=\"data row9 col2\" >2</td>\n",
       "      <td id=\"T_cd677_row9_col3\" class=\"data row9 col3\" >11</td>\n",
       "    </tr>\n",
       "  </tbody>\n",
       "</table>\n"
      ]
     },
     "metadata": {}
    },
    {
     "output_type": "stream",
     "name": "stdout",
     "text": [
      "\n"
     ]
    },
    {
     "output_type": "execute_result",
     "data": {
      "text/plain": [
       "{'accuracy': 0.9773515609059376,\n",
       " 'precision': 0.9776869620225307,\n",
       " 'recall': 0.977163321960053,\n",
       " 'f1_score': 0.9773187191403638}"
      ]
     },
     "metadata": {},
     "execution_count": 25
    }
   ],
   "source": [
    "metrics = MulticlassClassificationMetrics(val_ds_y, ans_val_f1_score)\n",
    "print(metrics)\n",
    "metrics.metrics()"
   ]
  },
  {
   "cell_type": "markdown",
   "metadata": {
    "id": "-RomA9mSnbEX"
   },
   "source": [
    "### Среднее скользящее по accuracy чекпоинт"
   ]
  },
  {
   "cell_type": "code",
   "execution_count": 26,
   "metadata": {
    "colab": {
     "base_uri": "https://localhost:8080/",
     "height": 535
    },
    "executionInfo": {
     "elapsed": 29,
     "status": "ok",
     "timestamp": 1681668402320,
     "user": {
      "displayName": "Гриша Безруков",
      "userId": "02717934454974586898"
     },
     "user_tz": -180
    },
    "id": "FbPidiv_nzkj",
    "outputId": "ae66c4d5-d48d-4592-e85f-7e64a8e3ee3b"
   },
   "outputs": [
    {
     "output_type": "display_data",
     "data": {
      "text/plain": [
       "<pandas.io.formats.style.Styler at 0x7fe7d4706e20>"
      ],
      "text/html": [
       "<style type=\"text/css\">\n",
       "#T_fc0f2 * {\n",
       "  background-color: darkgreen;\n",
       "  color: white;\n",
       "  font-size: 12pt;\n",
       "}\n",
       "#T_fc0f2 td:hover {\n",
       "  background-color: green;\n",
       "  color: white;\n",
       "}\n",
       "#T_fc0f2_row0_col0, #T_fc0f2_row0_col1, #T_fc0f2_row0_col2, #T_fc0f2_row0_col3, #T_fc0f2_row1_col0, #T_fc0f2_row1_col1, #T_fc0f2_row1_col2, #T_fc0f2_row1_col3, #T_fc0f2_row2_col0, #T_fc0f2_row2_col1, #T_fc0f2_row2_col2, #T_fc0f2_row2_col3, #T_fc0f2_row3_col0, #T_fc0f2_row3_col1, #T_fc0f2_row3_col2, #T_fc0f2_row3_col3, #T_fc0f2_row4_col0, #T_fc0f2_row4_col1, #T_fc0f2_row4_col2, #T_fc0f2_row4_col3, #T_fc0f2_row5_col0, #T_fc0f2_row5_col1, #T_fc0f2_row5_col2, #T_fc0f2_row5_col3, #T_fc0f2_row6_col0, #T_fc0f2_row6_col1, #T_fc0f2_row6_col2, #T_fc0f2_row6_col3, #T_fc0f2_row7_col0, #T_fc0f2_row7_col1, #T_fc0f2_row7_col2, #T_fc0f2_row7_col3, #T_fc0f2_row8_col0, #T_fc0f2_row8_col1, #T_fc0f2_row8_col2, #T_fc0f2_row8_col3, #T_fc0f2_row9_col0, #T_fc0f2_row9_col1, #T_fc0f2_row9_col2, #T_fc0f2_row9_col3 {\n",
       "  background-color: lightgreen;\n",
       "  color: black;\n",
       "  font-size: 12pt;\n",
       "}\n",
       "</style>\n",
       "<table id=\"T_fc0f2\" class=\"dataframe\">\n",
       "  <thead>\n",
       "    <tr>\n",
       "      <th class=\"blank level0\" >&nbsp;</th>\n",
       "      <th id=\"T_fc0f2_level0_col0\" class=\"col_heading level0 col0\" >TP</th>\n",
       "      <th id=\"T_fc0f2_level0_col1\" class=\"col_heading level0 col1\" >TN</th>\n",
       "      <th id=\"T_fc0f2_level0_col2\" class=\"col_heading level0 col2\" >FP</th>\n",
       "      <th id=\"T_fc0f2_level0_col3\" class=\"col_heading level0 col3\" >FN</th>\n",
       "    </tr>\n",
       "    <tr>\n",
       "      <th class=\"index_name level0\" >class_type</th>\n",
       "      <th class=\"blank col0\" >&nbsp;</th>\n",
       "      <th class=\"blank col1\" >&nbsp;</th>\n",
       "      <th class=\"blank col2\" >&nbsp;</th>\n",
       "      <th class=\"blank col3\" >&nbsp;</th>\n",
       "    </tr>\n",
       "  </thead>\n",
       "  <tbody>\n",
       "    <tr>\n",
       "      <th id=\"T_fc0f2_level0_row0\" class=\"row_heading level0 row0\" >0</th>\n",
       "      <td id=\"T_fc0f2_row0_col0\" class=\"data row0 col0\" >494</td>\n",
       "      <td id=\"T_fc0f2_row0_col1\" class=\"data row0 col1\" >4398</td>\n",
       "      <td id=\"T_fc0f2_row0_col2\" class=\"data row0 col2\" >4</td>\n",
       "      <td id=\"T_fc0f2_row0_col3\" class=\"data row0 col3\" >5</td>\n",
       "    </tr>\n",
       "    <tr>\n",
       "      <th id=\"T_fc0f2_level0_row1\" class=\"row_heading level0 row1\" >1</th>\n",
       "      <td id=\"T_fc0f2_row1_col0\" class=\"data row1 col0\" >470</td>\n",
       "      <td id=\"T_fc0f2_row1_col1\" class=\"data row1 col1\" >4409</td>\n",
       "      <td id=\"T_fc0f2_row1_col2\" class=\"data row1 col2\" >12</td>\n",
       "      <td id=\"T_fc0f2_row1_col3\" class=\"data row1 col3\" >10</td>\n",
       "    </tr>\n",
       "    <tr>\n",
       "      <th id=\"T_fc0f2_level0_row2\" class=\"row_heading level0 row2\" >2</th>\n",
       "      <td id=\"T_fc0f2_row2_col0\" class=\"data row2 col0\" >499</td>\n",
       "      <td id=\"T_fc0f2_row2_col1\" class=\"data row2 col1\" >4390</td>\n",
       "      <td id=\"T_fc0f2_row2_col2\" class=\"data row2 col2\" >7</td>\n",
       "      <td id=\"T_fc0f2_row2_col3\" class=\"data row2 col3\" >5</td>\n",
       "    </tr>\n",
       "    <tr>\n",
       "      <th id=\"T_fc0f2_level0_row3\" class=\"row_heading level0 row3\" >3</th>\n",
       "      <td id=\"T_fc0f2_row3_col0\" class=\"data row3 col0\" >493</td>\n",
       "      <td id=\"T_fc0f2_row3_col1\" class=\"data row3 col1\" >4388</td>\n",
       "      <td id=\"T_fc0f2_row3_col2\" class=\"data row3 col2\" >8</td>\n",
       "      <td id=\"T_fc0f2_row3_col3\" class=\"data row3 col3\" >12</td>\n",
       "    </tr>\n",
       "    <tr>\n",
       "      <th id=\"T_fc0f2_level0_row4\" class=\"row_heading level0 row4\" >4</th>\n",
       "      <td id=\"T_fc0f2_row4_col0\" class=\"data row4 col0\" >507</td>\n",
       "      <td id=\"T_fc0f2_row4_col1\" class=\"data row4 col1\" >4386</td>\n",
       "      <td id=\"T_fc0f2_row4_col2\" class=\"data row4 col2\" >5</td>\n",
       "      <td id=\"T_fc0f2_row4_col3\" class=\"data row4 col3\" >3</td>\n",
       "    </tr>\n",
       "    <tr>\n",
       "      <th id=\"T_fc0f2_level0_row5\" class=\"row_heading level0 row5\" >5</th>\n",
       "      <td id=\"T_fc0f2_row5_col0\" class=\"data row5 col0\" >478</td>\n",
       "      <td id=\"T_fc0f2_row5_col1\" class=\"data row5 col1\" >4404</td>\n",
       "      <td id=\"T_fc0f2_row5_col2\" class=\"data row5 col2\" >11</td>\n",
       "      <td id=\"T_fc0f2_row5_col3\" class=\"data row5 col3\" >8</td>\n",
       "    </tr>\n",
       "    <tr>\n",
       "      <th id=\"T_fc0f2_level0_row6\" class=\"row_heading level0 row6\" >6</th>\n",
       "      <td id=\"T_fc0f2_row6_col0\" class=\"data row6 col0\" >483</td>\n",
       "      <td id=\"T_fc0f2_row6_col1\" class=\"data row6 col1\" >4399</td>\n",
       "      <td id=\"T_fc0f2_row6_col2\" class=\"data row6 col2\" >11</td>\n",
       "      <td id=\"T_fc0f2_row6_col3\" class=\"data row6 col3\" >8</td>\n",
       "    </tr>\n",
       "    <tr>\n",
       "      <th id=\"T_fc0f2_level0_row7\" class=\"row_heading level0 row7\" >7</th>\n",
       "      <td id=\"T_fc0f2_row7_col0\" class=\"data row7 col0\" >482</td>\n",
       "      <td id=\"T_fc0f2_row7_col1\" class=\"data row7 col1\" >4405</td>\n",
       "      <td id=\"T_fc0f2_row7_col2\" class=\"data row7 col2\" >6</td>\n",
       "      <td id=\"T_fc0f2_row7_col3\" class=\"data row7 col3\" >8</td>\n",
       "    </tr>\n",
       "    <tr>\n",
       "      <th id=\"T_fc0f2_level0_row8\" class=\"row_heading level0 row8\" >8</th>\n",
       "      <td id=\"T_fc0f2_row8_col0\" class=\"data row8 col0\" >444</td>\n",
       "      <td id=\"T_fc0f2_row8_col1\" class=\"data row8 col1\" >4438</td>\n",
       "      <td id=\"T_fc0f2_row8_col2\" class=\"data row8 col2\" >6</td>\n",
       "      <td id=\"T_fc0f2_row8_col3\" class=\"data row8 col3\" >13</td>\n",
       "    </tr>\n",
       "    <tr>\n",
       "      <th id=\"T_fc0f2_level0_row9\" class=\"row_heading level0 row9\" >9</th>\n",
       "      <td id=\"T_fc0f2_row9_col0\" class=\"data row9 col0\" >476</td>\n",
       "      <td id=\"T_fc0f2_row9_col1\" class=\"data row9 col1\" >4417</td>\n",
       "      <td id=\"T_fc0f2_row9_col2\" class=\"data row9 col2\" >5</td>\n",
       "      <td id=\"T_fc0f2_row9_col3\" class=\"data row9 col3\" >3</td>\n",
       "    </tr>\n",
       "  </tbody>\n",
       "</table>\n"
      ]
     },
     "metadata": {}
    },
    {
     "output_type": "stream",
     "name": "stdout",
     "text": [
      "\n"
     ]
    },
    {
     "output_type": "execute_result",
     "data": {
      "text/plain": [
       "{'accuracy': 0.98469700061212,\n",
       " 'precision': 0.9846718405259809,\n",
       " 'recall': 0.984579110998921,\n",
       " 'f1_score': 0.9846141241249693}"
      ]
     },
     "metadata": {},
     "execution_count": 26
    }
   ],
   "source": [
    "metrics = MulticlassClassificationMetrics(val_ds_y, ans_val_avg_categorical_accuracy)\n",
    "print(metrics)\n",
    "metrics.metrics()"
   ]
  },
  {
   "cell_type": "markdown",
   "metadata": {
    "id": "n3XxFZkGoJRz"
   },
   "source": [
    "### Скользящее среднее по F1-score чекпоинт"
   ]
  },
  {
   "cell_type": "code",
   "execution_count": 27,
   "metadata": {
    "colab": {
     "base_uri": "https://localhost:8080/",
     "height": 535
    },
    "executionInfo": {
     "elapsed": 25,
     "status": "ok",
     "timestamp": 1681668402321,
     "user": {
      "displayName": "Гриша Безруков",
      "userId": "02717934454974586898"
     },
     "user_tz": -180
    },
    "id": "VfiFu2NkoKUT",
    "outputId": "680c1d47-e2e6-45a2-a105-51f18c76b41c"
   },
   "outputs": [
    {
     "output_type": "display_data",
     "data": {
      "text/plain": [
       "<pandas.io.formats.style.Styler at 0x7fe7e40a4220>"
      ],
      "text/html": [
       "<style type=\"text/css\">\n",
       "#T_e8085 * {\n",
       "  background-color: darkgreen;\n",
       "  color: white;\n",
       "  font-size: 12pt;\n",
       "}\n",
       "#T_e8085 td:hover {\n",
       "  background-color: green;\n",
       "  color: white;\n",
       "}\n",
       "#T_e8085_row0_col0, #T_e8085_row0_col1, #T_e8085_row0_col2, #T_e8085_row0_col3, #T_e8085_row1_col0, #T_e8085_row1_col1, #T_e8085_row1_col2, #T_e8085_row1_col3, #T_e8085_row2_col0, #T_e8085_row2_col1, #T_e8085_row2_col2, #T_e8085_row2_col3, #T_e8085_row3_col0, #T_e8085_row3_col1, #T_e8085_row3_col2, #T_e8085_row3_col3, #T_e8085_row4_col0, #T_e8085_row4_col1, #T_e8085_row4_col2, #T_e8085_row4_col3, #T_e8085_row5_col0, #T_e8085_row5_col1, #T_e8085_row5_col2, #T_e8085_row5_col3, #T_e8085_row6_col0, #T_e8085_row6_col1, #T_e8085_row6_col2, #T_e8085_row6_col3, #T_e8085_row7_col0, #T_e8085_row7_col1, #T_e8085_row7_col2, #T_e8085_row7_col3, #T_e8085_row8_col0, #T_e8085_row8_col1, #T_e8085_row8_col2, #T_e8085_row8_col3, #T_e8085_row9_col0, #T_e8085_row9_col1, #T_e8085_row9_col2, #T_e8085_row9_col3 {\n",
       "  background-color: lightgreen;\n",
       "  color: black;\n",
       "  font-size: 12pt;\n",
       "}\n",
       "</style>\n",
       "<table id=\"T_e8085\" class=\"dataframe\">\n",
       "  <thead>\n",
       "    <tr>\n",
       "      <th class=\"blank level0\" >&nbsp;</th>\n",
       "      <th id=\"T_e8085_level0_col0\" class=\"col_heading level0 col0\" >TP</th>\n",
       "      <th id=\"T_e8085_level0_col1\" class=\"col_heading level0 col1\" >TN</th>\n",
       "      <th id=\"T_e8085_level0_col2\" class=\"col_heading level0 col2\" >FP</th>\n",
       "      <th id=\"T_e8085_level0_col3\" class=\"col_heading level0 col3\" >FN</th>\n",
       "    </tr>\n",
       "    <tr>\n",
       "      <th class=\"index_name level0\" >class_type</th>\n",
       "      <th class=\"blank col0\" >&nbsp;</th>\n",
       "      <th class=\"blank col1\" >&nbsp;</th>\n",
       "      <th class=\"blank col2\" >&nbsp;</th>\n",
       "      <th class=\"blank col3\" >&nbsp;</th>\n",
       "    </tr>\n",
       "  </thead>\n",
       "  <tbody>\n",
       "    <tr>\n",
       "      <th id=\"T_e8085_level0_row0\" class=\"row_heading level0 row0\" >0</th>\n",
       "      <td id=\"T_e8085_row0_col0\" class=\"data row0 col0\" >494</td>\n",
       "      <td id=\"T_e8085_row0_col1\" class=\"data row0 col1\" >4398</td>\n",
       "      <td id=\"T_e8085_row0_col2\" class=\"data row0 col2\" >4</td>\n",
       "      <td id=\"T_e8085_row0_col3\" class=\"data row0 col3\" >5</td>\n",
       "    </tr>\n",
       "    <tr>\n",
       "      <th id=\"T_e8085_level0_row1\" class=\"row_heading level0 row1\" >1</th>\n",
       "      <td id=\"T_e8085_row1_col0\" class=\"data row1 col0\" >470</td>\n",
       "      <td id=\"T_e8085_row1_col1\" class=\"data row1 col1\" >4409</td>\n",
       "      <td id=\"T_e8085_row1_col2\" class=\"data row1 col2\" >12</td>\n",
       "      <td id=\"T_e8085_row1_col3\" class=\"data row1 col3\" >10</td>\n",
       "    </tr>\n",
       "    <tr>\n",
       "      <th id=\"T_e8085_level0_row2\" class=\"row_heading level0 row2\" >2</th>\n",
       "      <td id=\"T_e8085_row2_col0\" class=\"data row2 col0\" >499</td>\n",
       "      <td id=\"T_e8085_row2_col1\" class=\"data row2 col1\" >4390</td>\n",
       "      <td id=\"T_e8085_row2_col2\" class=\"data row2 col2\" >7</td>\n",
       "      <td id=\"T_e8085_row2_col3\" class=\"data row2 col3\" >5</td>\n",
       "    </tr>\n",
       "    <tr>\n",
       "      <th id=\"T_e8085_level0_row3\" class=\"row_heading level0 row3\" >3</th>\n",
       "      <td id=\"T_e8085_row3_col0\" class=\"data row3 col0\" >493</td>\n",
       "      <td id=\"T_e8085_row3_col1\" class=\"data row3 col1\" >4388</td>\n",
       "      <td id=\"T_e8085_row3_col2\" class=\"data row3 col2\" >8</td>\n",
       "      <td id=\"T_e8085_row3_col3\" class=\"data row3 col3\" >12</td>\n",
       "    </tr>\n",
       "    <tr>\n",
       "      <th id=\"T_e8085_level0_row4\" class=\"row_heading level0 row4\" >4</th>\n",
       "      <td id=\"T_e8085_row4_col0\" class=\"data row4 col0\" >507</td>\n",
       "      <td id=\"T_e8085_row4_col1\" class=\"data row4 col1\" >4386</td>\n",
       "      <td id=\"T_e8085_row4_col2\" class=\"data row4 col2\" >5</td>\n",
       "      <td id=\"T_e8085_row4_col3\" class=\"data row4 col3\" >3</td>\n",
       "    </tr>\n",
       "    <tr>\n",
       "      <th id=\"T_e8085_level0_row5\" class=\"row_heading level0 row5\" >5</th>\n",
       "      <td id=\"T_e8085_row5_col0\" class=\"data row5 col0\" >478</td>\n",
       "      <td id=\"T_e8085_row5_col1\" class=\"data row5 col1\" >4404</td>\n",
       "      <td id=\"T_e8085_row5_col2\" class=\"data row5 col2\" >11</td>\n",
       "      <td id=\"T_e8085_row5_col3\" class=\"data row5 col3\" >8</td>\n",
       "    </tr>\n",
       "    <tr>\n",
       "      <th id=\"T_e8085_level0_row6\" class=\"row_heading level0 row6\" >6</th>\n",
       "      <td id=\"T_e8085_row6_col0\" class=\"data row6 col0\" >483</td>\n",
       "      <td id=\"T_e8085_row6_col1\" class=\"data row6 col1\" >4399</td>\n",
       "      <td id=\"T_e8085_row6_col2\" class=\"data row6 col2\" >11</td>\n",
       "      <td id=\"T_e8085_row6_col3\" class=\"data row6 col3\" >8</td>\n",
       "    </tr>\n",
       "    <tr>\n",
       "      <th id=\"T_e8085_level0_row7\" class=\"row_heading level0 row7\" >7</th>\n",
       "      <td id=\"T_e8085_row7_col0\" class=\"data row7 col0\" >482</td>\n",
       "      <td id=\"T_e8085_row7_col1\" class=\"data row7 col1\" >4405</td>\n",
       "      <td id=\"T_e8085_row7_col2\" class=\"data row7 col2\" >6</td>\n",
       "      <td id=\"T_e8085_row7_col3\" class=\"data row7 col3\" >8</td>\n",
       "    </tr>\n",
       "    <tr>\n",
       "      <th id=\"T_e8085_level0_row8\" class=\"row_heading level0 row8\" >8</th>\n",
       "      <td id=\"T_e8085_row8_col0\" class=\"data row8 col0\" >444</td>\n",
       "      <td id=\"T_e8085_row8_col1\" class=\"data row8 col1\" >4438</td>\n",
       "      <td id=\"T_e8085_row8_col2\" class=\"data row8 col2\" >6</td>\n",
       "      <td id=\"T_e8085_row8_col3\" class=\"data row8 col3\" >13</td>\n",
       "    </tr>\n",
       "    <tr>\n",
       "      <th id=\"T_e8085_level0_row9\" class=\"row_heading level0 row9\" >9</th>\n",
       "      <td id=\"T_e8085_row9_col0\" class=\"data row9 col0\" >476</td>\n",
       "      <td id=\"T_e8085_row9_col1\" class=\"data row9 col1\" >4417</td>\n",
       "      <td id=\"T_e8085_row9_col2\" class=\"data row9 col2\" >5</td>\n",
       "      <td id=\"T_e8085_row9_col3\" class=\"data row9 col3\" >3</td>\n",
       "    </tr>\n",
       "  </tbody>\n",
       "</table>\n"
      ]
     },
     "metadata": {}
    },
    {
     "output_type": "stream",
     "name": "stdout",
     "text": [
      "\n"
     ]
    },
    {
     "output_type": "execute_result",
     "data": {
      "text/plain": [
       "{'accuracy': 0.98469700061212,\n",
       " 'precision': 0.9846718405259809,\n",
       " 'recall': 0.984579110998921,\n",
       " 'f1_score': 0.9846141241249693}"
      ]
     },
     "metadata": {},
     "execution_count": 27
    }
   ],
   "source": [
    "metrics = MulticlassClassificationMetrics(val_ds_y, ans_val_avg_f1_score)\n",
    "print(metrics)\n",
    "metrics.metrics()"
   ]
  },
  {
   "cell_type": "markdown",
   "metadata": {
    "id": "GgRLnsAVoL8j"
   },
   "source": [
    "### Скользящее среднее по Loss чекпоинт"
   ]
  },
  {
   "cell_type": "code",
   "execution_count": 28,
   "metadata": {
    "colab": {
     "base_uri": "https://localhost:8080/",
     "height": 535
    },
    "executionInfo": {
     "elapsed": 533,
     "status": "ok",
     "timestamp": 1681668449019,
     "user": {
      "displayName": "Гриша Безруков",
      "userId": "02717934454974586898"
     },
     "user_tz": -180
    },
    "id": "EzhQuXaMoSjz",
    "outputId": "97d497f1-797b-493c-ed1d-eb112f072a90"
   },
   "outputs": [
    {
     "output_type": "display_data",
     "data": {
      "text/plain": [
       "<pandas.io.formats.style.Styler at 0x7fe7e41addf0>"
      ],
      "text/html": [
       "<style type=\"text/css\">\n",
       "#T_b4844 * {\n",
       "  background-color: darkgreen;\n",
       "  color: white;\n",
       "  font-size: 12pt;\n",
       "}\n",
       "#T_b4844 td:hover {\n",
       "  background-color: green;\n",
       "  color: white;\n",
       "}\n",
       "#T_b4844_row0_col0, #T_b4844_row0_col1, #T_b4844_row0_col2, #T_b4844_row0_col3, #T_b4844_row1_col0, #T_b4844_row1_col1, #T_b4844_row1_col2, #T_b4844_row1_col3, #T_b4844_row2_col0, #T_b4844_row2_col1, #T_b4844_row2_col2, #T_b4844_row2_col3, #T_b4844_row3_col0, #T_b4844_row3_col1, #T_b4844_row3_col2, #T_b4844_row3_col3, #T_b4844_row4_col0, #T_b4844_row4_col1, #T_b4844_row4_col2, #T_b4844_row4_col3, #T_b4844_row5_col0, #T_b4844_row5_col1, #T_b4844_row5_col2, #T_b4844_row5_col3, #T_b4844_row6_col0, #T_b4844_row6_col1, #T_b4844_row6_col2, #T_b4844_row6_col3, #T_b4844_row7_col0, #T_b4844_row7_col1, #T_b4844_row7_col2, #T_b4844_row7_col3, #T_b4844_row8_col0, #T_b4844_row8_col1, #T_b4844_row8_col2, #T_b4844_row8_col3, #T_b4844_row9_col0, #T_b4844_row9_col1, #T_b4844_row9_col2, #T_b4844_row9_col3 {\n",
       "  background-color: lightgreen;\n",
       "  color: black;\n",
       "  font-size: 12pt;\n",
       "}\n",
       "</style>\n",
       "<table id=\"T_b4844\" class=\"dataframe\">\n",
       "  <thead>\n",
       "    <tr>\n",
       "      <th class=\"blank level0\" >&nbsp;</th>\n",
       "      <th id=\"T_b4844_level0_col0\" class=\"col_heading level0 col0\" >TP</th>\n",
       "      <th id=\"T_b4844_level0_col1\" class=\"col_heading level0 col1\" >TN</th>\n",
       "      <th id=\"T_b4844_level0_col2\" class=\"col_heading level0 col2\" >FP</th>\n",
       "      <th id=\"T_b4844_level0_col3\" class=\"col_heading level0 col3\" >FN</th>\n",
       "    </tr>\n",
       "    <tr>\n",
       "      <th class=\"index_name level0\" >class_type</th>\n",
       "      <th class=\"blank col0\" >&nbsp;</th>\n",
       "      <th class=\"blank col1\" >&nbsp;</th>\n",
       "      <th class=\"blank col2\" >&nbsp;</th>\n",
       "      <th class=\"blank col3\" >&nbsp;</th>\n",
       "    </tr>\n",
       "  </thead>\n",
       "  <tbody>\n",
       "    <tr>\n",
       "      <th id=\"T_b4844_level0_row0\" class=\"row_heading level0 row0\" >0</th>\n",
       "      <td id=\"T_b4844_row0_col0\" class=\"data row0 col0\" >494</td>\n",
       "      <td id=\"T_b4844_row0_col1\" class=\"data row0 col1\" >4398</td>\n",
       "      <td id=\"T_b4844_row0_col2\" class=\"data row0 col2\" >4</td>\n",
       "      <td id=\"T_b4844_row0_col3\" class=\"data row0 col3\" >5</td>\n",
       "    </tr>\n",
       "    <tr>\n",
       "      <th id=\"T_b4844_level0_row1\" class=\"row_heading level0 row1\" >1</th>\n",
       "      <td id=\"T_b4844_row1_col0\" class=\"data row1 col0\" >470</td>\n",
       "      <td id=\"T_b4844_row1_col1\" class=\"data row1 col1\" >4409</td>\n",
       "      <td id=\"T_b4844_row1_col2\" class=\"data row1 col2\" >12</td>\n",
       "      <td id=\"T_b4844_row1_col3\" class=\"data row1 col3\" >10</td>\n",
       "    </tr>\n",
       "    <tr>\n",
       "      <th id=\"T_b4844_level0_row2\" class=\"row_heading level0 row2\" >2</th>\n",
       "      <td id=\"T_b4844_row2_col0\" class=\"data row2 col0\" >499</td>\n",
       "      <td id=\"T_b4844_row2_col1\" class=\"data row2 col1\" >4390</td>\n",
       "      <td id=\"T_b4844_row2_col2\" class=\"data row2 col2\" >7</td>\n",
       "      <td id=\"T_b4844_row2_col3\" class=\"data row2 col3\" >5</td>\n",
       "    </tr>\n",
       "    <tr>\n",
       "      <th id=\"T_b4844_level0_row3\" class=\"row_heading level0 row3\" >3</th>\n",
       "      <td id=\"T_b4844_row3_col0\" class=\"data row3 col0\" >493</td>\n",
       "      <td id=\"T_b4844_row3_col1\" class=\"data row3 col1\" >4388</td>\n",
       "      <td id=\"T_b4844_row3_col2\" class=\"data row3 col2\" >8</td>\n",
       "      <td id=\"T_b4844_row3_col3\" class=\"data row3 col3\" >12</td>\n",
       "    </tr>\n",
       "    <tr>\n",
       "      <th id=\"T_b4844_level0_row4\" class=\"row_heading level0 row4\" >4</th>\n",
       "      <td id=\"T_b4844_row4_col0\" class=\"data row4 col0\" >507</td>\n",
       "      <td id=\"T_b4844_row4_col1\" class=\"data row4 col1\" >4386</td>\n",
       "      <td id=\"T_b4844_row4_col2\" class=\"data row4 col2\" >5</td>\n",
       "      <td id=\"T_b4844_row4_col3\" class=\"data row4 col3\" >3</td>\n",
       "    </tr>\n",
       "    <tr>\n",
       "      <th id=\"T_b4844_level0_row5\" class=\"row_heading level0 row5\" >5</th>\n",
       "      <td id=\"T_b4844_row5_col0\" class=\"data row5 col0\" >478</td>\n",
       "      <td id=\"T_b4844_row5_col1\" class=\"data row5 col1\" >4404</td>\n",
       "      <td id=\"T_b4844_row5_col2\" class=\"data row5 col2\" >11</td>\n",
       "      <td id=\"T_b4844_row5_col3\" class=\"data row5 col3\" >8</td>\n",
       "    </tr>\n",
       "    <tr>\n",
       "      <th id=\"T_b4844_level0_row6\" class=\"row_heading level0 row6\" >6</th>\n",
       "      <td id=\"T_b4844_row6_col0\" class=\"data row6 col0\" >483</td>\n",
       "      <td id=\"T_b4844_row6_col1\" class=\"data row6 col1\" >4399</td>\n",
       "      <td id=\"T_b4844_row6_col2\" class=\"data row6 col2\" >11</td>\n",
       "      <td id=\"T_b4844_row6_col3\" class=\"data row6 col3\" >8</td>\n",
       "    </tr>\n",
       "    <tr>\n",
       "      <th id=\"T_b4844_level0_row7\" class=\"row_heading level0 row7\" >7</th>\n",
       "      <td id=\"T_b4844_row7_col0\" class=\"data row7 col0\" >482</td>\n",
       "      <td id=\"T_b4844_row7_col1\" class=\"data row7 col1\" >4405</td>\n",
       "      <td id=\"T_b4844_row7_col2\" class=\"data row7 col2\" >6</td>\n",
       "      <td id=\"T_b4844_row7_col3\" class=\"data row7 col3\" >8</td>\n",
       "    </tr>\n",
       "    <tr>\n",
       "      <th id=\"T_b4844_level0_row8\" class=\"row_heading level0 row8\" >8</th>\n",
       "      <td id=\"T_b4844_row8_col0\" class=\"data row8 col0\" >444</td>\n",
       "      <td id=\"T_b4844_row8_col1\" class=\"data row8 col1\" >4438</td>\n",
       "      <td id=\"T_b4844_row8_col2\" class=\"data row8 col2\" >6</td>\n",
       "      <td id=\"T_b4844_row8_col3\" class=\"data row8 col3\" >13</td>\n",
       "    </tr>\n",
       "    <tr>\n",
       "      <th id=\"T_b4844_level0_row9\" class=\"row_heading level0 row9\" >9</th>\n",
       "      <td id=\"T_b4844_row9_col0\" class=\"data row9 col0\" >476</td>\n",
       "      <td id=\"T_b4844_row9_col1\" class=\"data row9 col1\" >4417</td>\n",
       "      <td id=\"T_b4844_row9_col2\" class=\"data row9 col2\" >5</td>\n",
       "      <td id=\"T_b4844_row9_col3\" class=\"data row9 col3\" >3</td>\n",
       "    </tr>\n",
       "  </tbody>\n",
       "</table>\n"
      ]
     },
     "metadata": {}
    },
    {
     "output_type": "stream",
     "name": "stdout",
     "text": [
      "\n"
     ]
    },
    {
     "output_type": "execute_result",
     "data": {
      "text/plain": [
       "{'accuracy': 0.98469700061212,\n",
       " 'precision': 0.9846718405259809,\n",
       " 'recall': 0.984579110998921,\n",
       " 'f1_score': 0.9846141241249693}"
      ]
     },
     "metadata": {},
     "execution_count": 28
    }
   ],
   "source": [
    "metrics = MulticlassClassificationMetrics(val_ds_y, ans_val_avg_loss)\n",
    "print(metrics)\n",
    "metrics.metrics()"
   ]
  },
  {
   "cell_type": "code",
   "execution_count": 29,
   "metadata": {
    "id": "-nsgQPqDaXUL",
    "outputId": "6e554deb-f091-4ab6-df71-cb88fd507990",
    "colab": {
     "base_uri": "https://localhost:8080/",
     "height": 1000
    },
    "executionInfo": {
     "status": "ok",
     "timestamp": 1681668458871,
     "user_tz": -180,
     "elapsed": 1551,
     "user": {
      "displayName": "Гриша Безруков",
      "userId": "02717934454974586898"
     }
    }
   },
   "outputs": [
    {
     "output_type": "display_data",
     "data": {
      "text/plain": [
       "<Figure size 1400x1200 with 2 Axes>"
      ],
      "image/png": "[encoded data removed]"
     },
     "metadata": {}
    }
   ],
   "source": [
    "matrix = confusion_matrix(val_ds_y, ans_val_avg_categorical_accuracy)\n",
    "\n",
    "fig, ax = plt.subplots(figsize=(14, 12))\n",
    "seaborn.heatmap(matrix, annot=True, cmap='Greens', fmt='d', ax=ax)\n",
    "plt.title('Confusion Matrix for training dataset')\n",
    "plt.xlabel('Predicted label')\n",
    "plt.ylabel('True label')\n",
    "plt.show()"
   ]
  },
  {
   "cell_type": "markdown",
   "metadata": {
    "id": "ZCxq9l4W1h0D"
   },
   "source": [
    "- Сохраняем ответы."
   ]
  },
  {
   "cell_type": "code",
   "execution_count": 10,
   "metadata": {
    "id": "bQvnLPPp1h0D",
    "colab": {
     "base_uri": "https://localhost:8080/"
    },
    "executionInfo": {
     "status": "ok",
     "timestamp": 1681668539675,
     "user_tz": -180,
     "elapsed": 46996,
     "user": {
      "displayName": "Гриша Безруков",
      "userId": "02717934454974586898"
     }
    },
    "outputId": "4982eb93-830b-4a14-ec6f-d7ab416e6cc2"
   },
   "outputs": [
    {
     "name": "stdout",
     "output_type": "stream",
     "text": [
      "782/782 [==============================] - 428s 544ms/step\n"
     ]
    }
   ],
   "source": [
    "ans_test_categorical_accuracy = make_ans_file(model_categorical_acc, test_ds,\n",
    "                                              f'../answers/model{num_model}_categorical_accuracy.csv')\n",
    "ans_test_avg_categorical_accuracy = make_ans_file(model_avg_categorical_acc, test_ds,\n",
    "                                                  f'../answers/model{num_model}_avg_categorical_accuracy.csv')"
   ]
  },
  {
   "cell_type": "markdown",
   "metadata": {
    "id": "zEJYFGnE1h0E"
   },
   "source": [
    "Проверяем ответы (одинаковые они или нет), чтоб не терять кол-во отправок ответов на kaggle в день."
   ]
  },
  {
   "cell_type": "code",
   "execution_count": 32,
   "metadata": {
    "id": "hf3v3GDL1h0N",
    "colab": {
     "base_uri": "https://localhost:8080/"
    },
    "executionInfo": {
     "status": "ok",
     "timestamp": 1681668539677,
     "user_tz": -180,
     "elapsed": 106,
     "user": {
      "displayName": "Гриша Безруков",
      "userId": "02717934454974586898"
     }
    },
    "outputId": "10167afe-7738-49d9-f407-7d45b7c549bc"
   },
   "outputs": [
    {
     "output_type": "stream",
     "name": "stdout",
     "text": [
      "чекпоинты 1 и 2 одинаковые\n",
      "чекпоинты 1 и 3 одинаковые\n",
      "чекпоинты 2 и 3 одинаковые\n",
      "чекпоинты 4 и 5 одинаковые\n",
      "чекпоинты 4 и 6 одинаковые\n",
      "чекпоинты 5 и 6 одинаковые\n"
     ]
    }
   ],
   "source": [
    "for i in range(len(anss) - 1):\n",
    "    for j in range(i + 1, len(anss)):\n",
    "        if np.all(anss[i] == anss[j]):\n",
    "            print(f'чекпоинты {i + 1} и {j + 1} одинаковые')"
   ]
  },
  {
   "cell_type": "markdown",
   "metadata": {
    "id": "Oqwfnt9ydECy"
   },
   "source": [
    "- Accuracy чекпоинт: 0.93493\n",
    "- Loss чекпоинт: 0.92866"
   ]
  }
 ],
 "metadata": {
  "accelerator": "GPU",
  "colab": {
   "provenance": [],
   "gpuType": "T4"
  },
  "gpuClass": "standard",
  "kernelspec": {
   "display_name": "Python 3",
   "language": "python",
   "name": "python3"
  },
  "language_info": {
   "codemirror_mode": {
    "name": "ipython",
    "version": 3
   },
   "file_extension": ".py",
   "mimetype": "text/x-python",
   "name": "python",
   "nbconvert_exporter": "python",
   "pygments_lexer": "ipython3",
   "version": "3.10.10"
  },
  "orig_nbformat": 4
 },
 "nbformat": 4,
 "nbformat_minor": 0
}
