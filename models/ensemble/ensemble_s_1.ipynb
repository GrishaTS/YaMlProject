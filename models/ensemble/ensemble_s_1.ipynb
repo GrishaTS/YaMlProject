{
 "cells": [
  {
   "cell_type": "code",
   "execution_count": 1,
   "metadata": {},
   "outputs": [],
   "source": [
    "import pickle\n",
    "import numpy as np\n",
    "import pandas as pd"
   ]
  },
  {
   "cell_type": "code",
   "execution_count": 38,
   "metadata": {},
   "outputs": [],
   "source": [
    "pred_g21 = pickle.load(open('../checkpoint_answers/model_g_21_avg_categorical_accuracy.h5', 'rb'))\n",
    "pred_g22 = pickle.load(open('../checkpoint_answers/model_g_22_avg_categorical_accuracy.h5', 'rb'))\n",
    "pred_s6 = pickle.load(open('../checkpoint_answers/model_s_6_avg_categorical_accuracy.h5', 'rb'))\n",
    "pred_g11 = pickle.load(open('../checkpoint_answers/model_g_11_avg_categorical_accuracy.h5', 'rb'))\n",
    "pred_s9 = pickle.load(open('../checkpoint_answers/model_s_9_avg_categorical_accuracy.h5', 'rb'))\n",
    "pred_s1 = pickle.load(open('../checkpoint_answers/model_s_smote_avg_categorical_accuracy.h5', 'rb'))\n",
    "pred_s5 = pickle.load(open('../checkpoint_answers/model_s_5_avg_categorical_accuracy.h5', 'rb'))"
   ]
  },
  {
   "cell_type": "code",
   "execution_count": 44,
   "metadata": {},
   "outputs": [],
   "source": [
    "ans = np.argmax(pred_g21 + pred_g22 + pred_s6 + pred_g11 + pred_s9 + pred_s1 + pred_s5, axis=-1)\n",
    "ans = np.argmax(pred_g21 + pred_g22 + pred_s6 + pred_g11 + pred_s5, axis=-1)"
   ]
  },
  {
   "cell_type": "code",
   "execution_count": 45,
   "metadata": {},
   "outputs": [],
   "source": [
    "ensemble_model_name = 'ensemble_s_1_4'\n",
    "ans = pd.DataFrame({'Id': np.arange(ans.shape[0]), 'Category': ans})\n",
    "ans.to_csv(f'../answers/{ensemble_model_name}.csv', index=False)"
   ]
  }
 ],
 "metadata": {
  "kernelspec": {
   "display_name": "Python 3",
   "language": "python",
   "name": "python3"
  },
  "language_info": {
   "codemirror_mode": {
    "name": "ipython",
    "version": 3
   },
   "file_extension": ".py",
   "mimetype": "text/x-python",
   "name": "python",
   "nbconvert_exporter": "python",
   "pygments_lexer": "ipython3",
   "version": "3.10.10"
  },
  "orig_nbformat": 4
 },
 "nbformat": 4,
 "nbformat_minor": 2
}
