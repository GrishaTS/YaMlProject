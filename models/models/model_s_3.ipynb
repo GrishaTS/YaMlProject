{
 "cells": [
  {
   "cell_type": "markdown",
   "metadata": {
    "id": "r2yiHhUx-S72"
   },
   "source": [
    "# Модель-пример с обновлённым датасетом(OverSampling)"
   ]
  },
  {
   "cell_type": "markdown",
   "metadata": {
    "id": "svYRwNDL-S75"
   },
   "source": [
    "#### Импорт необходимых библиотек"
   ]
  },
  {
   "cell_type": "code",
   "source": [
    "!pip install tensorflow-addons\n",
    "!pip install livelossplot"
   ],
   "metadata": {
    "colab": {
     "base_uri": "https://localhost:8080/"
    },
    "id": "Zq7rWgSDecBY",
    "executionInfo": {
     "status": "ok",
     "timestamp": 1681236348708,
     "user_tz": -180,
     "elapsed": 10183,
     "user": {
      "displayName": "Михаил Глазов",
      "userId": "14831628976106288763"
     }
    },
    "outputId": "9183dd17-7af3-4f7b-e27d-9784573c7def"
   },
   "execution_count": 3,
   "outputs": [
    {
     "output_type": "stream",
     "name": "stdout",
     "text": [
      "Looking in indexes: https://pypi.org/simple, https://us-python.pkg.dev/colab-wheels/public/simple/\n",
      "Collecting tensorflow-addons\n",
      "  Downloading tensorflow_addons-0.20.0-cp39-cp39-manylinux_2_17_x86_64.manylinux2014_x86_64.whl (591 kB)\n",
      "\u001B[2K     \u001B[90m━━━━━━━━━━━━━━━━━━━━━━━━━━━━━━━━━━━━━━\u001B[0m \u001B[32m591.0/591.0 kB\u001B[0m \u001B[31m22.8 MB/s\u001B[0m eta \u001B[36m0:00:00\u001B[0m\n",
      "\u001B[?25hRequirement already satisfied: packaging in /usr/local/lib/python3.9/dist-packages (from tensorflow-addons) (23.0)\n",
      "Collecting typeguard<3.0.0,>=2.7\n",
      "  Downloading typeguard-2.13.3-py3-none-any.whl (17 kB)\n",
      "Installing collected packages: typeguard, tensorflow-addons\n",
      "Successfully installed tensorflow-addons-0.20.0 typeguard-2.13.3\n",
      "Looking in indexes: https://pypi.org/simple, https://us-python.pkg.dev/colab-wheels/public/simple/\n",
      "Collecting livelossplot\n",
      "  Downloading livelossplot-0.5.5-py3-none-any.whl (22 kB)\n",
      "Requirement already satisfied: bokeh in /usr/local/lib/python3.9/dist-packages (from livelossplot) (2.4.3)\n",
      "Requirement already satisfied: matplotlib in /usr/local/lib/python3.9/dist-packages (from livelossplot) (3.7.1)\n",
      "Requirement already satisfied: packaging>=16.8 in /usr/local/lib/python3.9/dist-packages (from bokeh->livelossplot) (23.0)\n",
      "Requirement already satisfied: tornado>=5.1 in /usr/local/lib/python3.9/dist-packages (from bokeh->livelossplot) (6.2)\n",
      "Requirement already satisfied: pillow>=7.1.0 in /usr/local/lib/python3.9/dist-packages (from bokeh->livelossplot) (8.4.0)\n",
      "Requirement already satisfied: Jinja2>=2.9 in /usr/local/lib/python3.9/dist-packages (from bokeh->livelossplot) (3.1.2)\n",
      "Requirement already satisfied: typing-extensions>=3.10.0 in /usr/local/lib/python3.9/dist-packages (from bokeh->livelossplot) (4.5.0)\n",
      "Requirement already satisfied: PyYAML>=3.10 in /usr/local/lib/python3.9/dist-packages (from bokeh->livelossplot) (6.0)\n",
      "Requirement already satisfied: numpy>=1.11.3 in /usr/local/lib/python3.9/dist-packages (from bokeh->livelossplot) (1.22.4)\n",
      "Requirement already satisfied: fonttools>=4.22.0 in /usr/local/lib/python3.9/dist-packages (from matplotlib->livelossplot) (4.39.3)\n",
      "Requirement already satisfied: python-dateutil>=2.7 in /usr/local/lib/python3.9/dist-packages (from matplotlib->livelossplot) (2.8.2)\n",
      "Requirement already satisfied: cycler>=0.10 in /usr/local/lib/python3.9/dist-packages (from matplotlib->livelossplot) (0.11.0)\n",
      "Requirement already satisfied: kiwisolver>=1.0.1 in /usr/local/lib/python3.9/dist-packages (from matplotlib->livelossplot) (1.4.4)\n",
      "Requirement already satisfied: pyparsing>=2.3.1 in /usr/local/lib/python3.9/dist-packages (from matplotlib->livelossplot) (3.0.9)\n",
      "Requirement already satisfied: contourpy>=1.0.1 in /usr/local/lib/python3.9/dist-packages (from matplotlib->livelossplot) (1.0.7)\n",
      "Requirement already satisfied: importlib-resources>=3.2.0 in /usr/local/lib/python3.9/dist-packages (from matplotlib->livelossplot) (5.12.0)\n",
      "Requirement already satisfied: zipp>=3.1.0 in /usr/local/lib/python3.9/dist-packages (from importlib-resources>=3.2.0->matplotlib->livelossplot) (3.15.0)\n",
      "Requirement already satisfied: MarkupSafe>=2.0 in /usr/local/lib/python3.9/dist-packages (from Jinja2>=2.9->bokeh->livelossplot) (2.1.2)\n",
      "Requirement already satisfied: six>=1.5 in /usr/local/lib/python3.9/dist-packages (from python-dateutil>=2.7->matplotlib->livelossplot) (1.16.0)\n",
      "Installing collected packages: livelossplot\n",
      "Successfully installed livelossplot-0.5.5\n"
     ]
    }
   ]
  },
  {
   "cell_type": "code",
   "source": [
    "%cd drive/MyDrive/project/YaMlProject/"
   ],
   "metadata": {
    "colab": {
     "base_uri": "https://localhost:8080/"
    },
    "id": "yyTOIOizfuJ-",
    "executionInfo": {
     "status": "ok",
     "timestamp": 1681236431104,
     "user_tz": -180,
     "elapsed": 901,
     "user": {
      "displayName": "Михаил Глазов",
      "userId": "14831628976106288763"
     }
    },
    "outputId": "ba088d58-099c-4a84-8d94-7efadcf91140"
   },
   "execution_count": 4,
   "outputs": [
    {
     "output_type": "stream",
     "name": "stdout",
     "text": [
      "/content/drive/MyDrive/project/YaMlProject\n"
     ]
    }
   ]
  },
  {
   "cell_type": "code",
   "execution_count": 1,
   "metadata": {
    "id": "nYflAO2U-S76",
    "outputId": "ba3c64a4-62fb-48c5-fe08-59cc752b1b79",
    "colab": {
     "base_uri": "https://localhost:8080/"
    },
    "executionInfo": {
     "status": "ok",
     "timestamp": 1681236480847,
     "user_tz": -180,
     "elapsed": 3032,
     "user": {
      "displayName": "Михаил Глазов",
      "userId": "14831628976106288763"
     }
    }
   },
   "outputs": [
    {
     "name": "stderr",
     "output_type": "stream",
     "text": [
      "C:\\Users\\Mihail\\PycharmProjects\\YaMlProject\\venv\\lib\\site-packages\\tensorflow_addons\\utils\\tfa_eol_msg.py:23: UserWarning: \n",
      "\n",
      "TensorFlow Addons (TFA) has ended development and introduction of new features.\n",
      "TFA has entered a minimal maintenance and release mode until a planned end of life in May 2024.\n",
      "Please modify downstream libraries to take dependencies from other repositories in our TensorFlow community (e.g. Keras, Keras-CV, and Keras-NLP). \n",
      "\n",
      "For more information see: https://github.com/tensorflow/addons/issues/2807 \n",
      "\n",
      "  warnings.warn(\n"
     ]
    }
   ],
   "source": [
    "import sys\n",
    "\n",
    "import numpy as np\n",
    "import pandas as pd\n",
    "from PIL import Image\n",
    "import tensorflow as tf\n",
    "import torchvision as tv\n",
    "import matplotlib.pyplot as plt\n",
    "import tensorflow_addons as tfa\n",
    "from livelossplot import PlotLossesKeras\n",
    "\n",
    "# sys.path.append('../../')\n",
    "\n",
    "from core.datasets import get_ds\n",
    "from core.make_answer import make_ans_file"
   ]
  },
  {
   "cell_type": "markdown",
   "metadata": {
    "id": "NR69MtS_-S77"
   },
   "source": [
    "#### Формируем аугментацию."
   ]
  },
  {
   "cell_type": "markdown",
   "metadata": {
    "id": "-2ghBgor1hzO"
   },
   "source": [
    "##### Вариант 1.\n",
    "\n",
    "- Пишите аугментацию. Объект класса tv.transforms.Compose или tv.transforms.{аугментация}"
   ]
  },
  {
   "cell_type": "code",
   "execution_count": 2,
   "metadata": {
    "id": "ERpTFZ21-S77",
    "executionInfo": {
     "status": "ok",
     "timestamp": 1681236488416,
     "user_tz": -180,
     "elapsed": 2,
     "user": {
      "displayName": "Михаил Глазов",
      "userId": "14831628976106288763"
     }
    }
   },
   "outputs": [],
   "source": [
    "transformer = tv.transforms.Compose([\n",
    "    tv.transforms.ColorJitter(brightness=.2, hue=0.2, contrast=0.5),\n",
    "    tv.transforms.RandomAffine(degrees=(-10, 10), translate=(0, 0.1), scale=(0.85, 1)),\n",
    "    tv.transforms.RandomPerspective(distortion_scale=0.2, p=0.7),\n",
    "])"
   ]
  },
  {
   "cell_type": "markdown",
   "metadata": {
    "id": "xuctcDGb1hzQ"
   },
   "source": [
    "##### Вариант 2. (Лиза добавила крутую возможность)\n",
    "- Пишите несколько агументаций как из варианта два\n",
    "- Все их записываете в список\n",
    "\n",
    "Получается так, что для каждого изображения применяется рандомный вариант аугментации, из вами написанных.\n",
    "\n",
    "Зачем это сделано: Есть некоторые варианты агументации, в которых нет параметра вероятности. Получается так, что Grayscale делает весь трейновый датасет черно-белым, а валидационный и тестовый все такие же разноцветные. То есть в этом случае мы модель не знает, что картинки разноцветные.\n",
    "\n",
    "`Про варианты агументации и подбор параметров написано в notebooks/skewbek/Augmentation. Всем ознакомиться. (Можно просто делать копипаст комбинаций оттуда)`"
   ]
  },
  {
   "cell_type": "code",
   "execution_count": null,
   "metadata": {
    "id": "AZAsUvzk1hzS"
   },
   "outputs": [],
   "source": [
    "# transformer1 = tv.transforms.Compose([\n",
    "#     tv.transforms.RandomInvert(p=0.4),\n",
    "#     tv.transforms.RandomPerspective(distortion_scale=0.2, p=0.4),\n",
    "# ])\n",
    "# transformer2 = tv.transforms.Compose([\n",
    "#     tv.transforms.RandomPosterize(bits=6, p=0.4),\n",
    "#     tv.transforms.ColorJitter(brightness=.2, hue=0.2, contrast=0.5),\n",
    "#     tv.transforms.RandomAffine(degrees=(-15, 15), translate=(0, 0.1), scale=(0.85, 1)),\n",
    "# ])\n",
    "# transformer3 = tv.transforms.Compose([\n",
    "#     tv.transforms.ColorJitter(brightness=.2, hue=0.2, contrast=0.5),\n",
    "#     tv.transforms.RandomAffine(degrees=(-15, 15), translate=(0, 0.1), scale=(0.85, 1)),\n",
    "#     tv.transforms.RandomPerspective(distortion_scale=0.2, p=0.4),\n",
    "# ])\n",
    "# transformer = [transformer1, transformer2, transformer3]"
   ]
  },
  {
   "cell_type": "markdown",
   "metadata": {
    "id": "T2zKYi1p-S77"
   },
   "source": [
    "#### Создаем датасеты\n",
    "```python\n",
    "get_ds(\n",
    "    file_train, `Путь к трейновому датасету`\n",
    "    file_test, `Путь к тестовому датасету`\n",
    "    transform=None,  `Аугументация`\n",
    "    batch_size=512,  `Размер батча`\n",
    "    one_hot=False,  `Формат ответов one_hot_encoding или нет`\n",
    "    val_size=0.03,  `Размер валидационного датасета, относительно data_train`\n",
    "    back=1,  `На сколько уровней в директории надо подняться наверх, чтобы дойти до корневой`\n",
    ")\n",
    "```"
   ]
  },
  {
   "cell_type": "markdown",
   "metadata": {
    "id": "QYEdAqtW1hzW"
   },
   "source": [
    "Позже мы будем делать ансамбли и похожие эвристики, поэтому всегда делайте `one_hot=True`"
   ]
  },
  {
   "cell_type": "code",
   "execution_count": 11,
   "metadata": {
    "id": "b7Qx9WqK-S78",
    "executionInfo": {
     "status": "ok",
     "timestamp": 1681236542651,
     "user_tz": -180,
     "elapsed": 35782,
     "user": {
      "displayName": "Михаил Глазов",
      "userId": "14831628976106288763"
     }
    }
   },
   "outputs": [],
   "source": [
    "train_ds, val_ds, test_ds = get_ds('smote_data_train_9650', 'repaired_data_test', transform=transformer, one_hot=True, back=2)"
   ]
  },
  {
   "cell_type": "markdown",
   "metadata": {
    "id": "eOY8forB1hza"
   },
   "source": [
    "Для дальнейшей проверки метрик разделяем валидационный датасет на x и y"
   ]
  },
  {
   "cell_type": "code",
   "execution_count": 15,
   "metadata": {
    "id": "cXVwzb401hzb",
    "executionInfo": {
     "status": "ok",
     "timestamp": 1681236555684,
     "user_tz": -180,
     "elapsed": 4277,
     "user": {
      "displayName": "Михаил Глазов",
      "userId": "14831628976106288763"
     }
    }
   },
   "outputs": [],
   "source": [
    "val_ds_x = np.array([i[0] for i in val_ds.unbatch().as_numpy_iterator()])\n",
    "val_ds_y = np.array([i[1] for i in val_ds.unbatch().as_numpy_iterator()])"
   ]
  },
  {
   "cell_type": "markdown",
   "metadata": {
    "id": "_Vcj5spc1hzc"
   },
   "source": [
    "Смотрим на получившуюся агументацию."
   ]
  },
  {
   "cell_type": "code",
   "execution_count": 10,
   "metadata": {
    "id": "3ygOCG_F1hzc",
    "outputId": "07a8d3ad-f870-4669-de97-89f15eae6d48",
    "colab": {
     "base_uri": "https://localhost:8080/",
     "height": 1000
    },
    "executionInfo": {
     "status": "ok",
     "timestamp": 1681236562499,
     "user_tz": -180,
     "elapsed": 3020,
     "user": {
      "displayName": "Михаил Глазов",
      "userId": "14831628976106288763"
     }
    }
   },
   "outputs": [
    {
     "output_type": "display_data",
     "data": {
      "text/plain": [
       "<Figure size 1200x1500 with 20 Axes>"
      ],
      "image/png": "[encoded data removed]"
     },
     "metadata": {}
    }
   ],
   "source": [
    "plt.figure(figsize=(12, 15))\n",
    "train_ds_visualization = train_ds[0]\n",
    "for i in range(20):\n",
    "    plt.subplot(5, 4, i + 1)\n",
    "    img = np.array(Image.fromarray((train_ds_visualization[0][i] * 255).astype(np.uint8), 'RGB'))\n",
    "    plt.imshow(img / 255, cmap=plt.cm.binary)\n",
    "    plt.title(np.argmax(train_ds_visualization[1][i]))\n",
    "    plt.axis('off')\n",
    "plt.show()"
   ]
  },
  {
   "cell_type": "markdown",
   "metadata": {
    "id": "DXxkKTtS-S78"
   },
   "source": [
    "#### Пишем модель\n",
    "\n",
    "Про свертки и пуллинги написано у Гриши, про skip-connection написано у Миши\n",
    "\n",
    "Для правильного использования ансамблирования, в финальном слое не пишем функцию активации. Подробнее написано у Дениса."
   ]
  },
  {
   "cell_type": "code",
   "execution_count": 7,
   "metadata": {
    "id": "sf6H9-ZM-S79",
    "outputId": "53b56ffe-c791-4e8b-b2dd-28e3ccd09eb2",
    "colab": {
     "base_uri": "https://localhost:8080/"
    },
    "executionInfo": {
     "status": "ok",
     "timestamp": 1681236572487,
     "user_tz": -180,
     "elapsed": 719,
     "user": {
      "displayName": "Михаил Глазов",
      "userId": "14831628976106288763"
     }
    }
   },
   "outputs": [
    {
     "name": "stdout",
     "output_type": "stream",
     "text": [
      "Model: \"sequential_3\"\n",
      "_________________________________________________________________\n",
      " Layer (type)                Output Shape              Param #   \n",
      "=================================================================\n",
      " conv2d_9 (Conv2D)           (64, 30, 30, 32)          896       \n",
      "                                                                 \n",
      " conv2d_10 (Conv2D)          (64, 28, 28, 64)          18496     \n",
      "                                                                 \n",
      " batch_normalization_3 (Batc  (64, 28, 28, 64)         256       \n",
      " hNormalization)                                                 \n",
      "                                                                 \n",
      " average_pooling2d_6 (Averag  (64, 14, 14, 64)         0         \n",
      " ePooling2D)                                                     \n",
      "                                                                 \n",
      " conv2d_11 (Conv2D)          (64, 12, 12, 256)         147712    \n",
      "                                                                 \n",
      " average_pooling2d_7 (Averag  (64, 6, 6, 256)          0         \n",
      " ePooling2D)                                                     \n",
      "                                                                 \n",
      " flatten_3 (Flatten)         (64, 9216)                0         \n",
      "                                                                 \n",
      " dense_9 (Dense)             (64, 128)                 1179776   \n",
      "                                                                 \n",
      " dropout_3 (Dropout)         (64, 128)                 0         \n",
      "                                                                 \n",
      " dense_10 (Dense)            (64, 64)                  8256      \n",
      "                                                                 \n",
      " dense_11 (Dense)            (64, 10)                  650       \n",
      "                                                                 \n",
      "=================================================================\n",
      "Total params: 1,356,042\n",
      "Trainable params: 1,355,914\n",
      "Non-trainable params: 128\n",
      "_________________________________________________________________\n"
     ]
    }
   ],
   "source": [
    "model = tf.keras.Sequential([\n",
    "    tf.keras.Input(shape=(32, 32, 3), batch_size=64),\n",
    "    tf.keras.layers.Conv2D(32, (3, 3), activation='relu'),\n",
    "    tf.keras.layers.Conv2D(64, (3, 3), activation='relu'),\n",
    "    tf.keras.layers.BatchNormalization(),\n",
    "    tf.keras.layers.AveragePooling2D((2, 2)),\n",
    "    tf.keras.layers.Conv2D(256, (3, 3), activation='relu'),\n",
    "    tf.keras.layers.AveragePooling2D((2, 2)),\n",
    "    tf.keras.layers.Flatten(),\n",
    "    tf.keras.layers.Dense(128, activation='relu'),\n",
    "    tf.keras.layers.Dropout(0,2),\n",
    "    tf.keras.layers.Dense(64, activation='relu'),\n",
    "    tf.keras.layers.Dense(10),\n",
    "])\n",
    "model.summary()"
   ]
  },
  {
   "cell_type": "markdown",
   "metadata": {
    "id": "sOWsT-ag1hzh"
   },
   "source": [
    "#### Создаем чекпоинты (всем уже рассказал)\n",
    "- Если лень, то просто копипаст того, что я написал ниже. НЕ ЗАБЫВАЕМ МЕНЯТЬ ПЕРЕМЕННУЮ `num_model`!!!"
   ]
  },
  {
   "cell_type": "code",
   "execution_count": 8,
   "metadata": {
    "id": "3uG2pykA1hzh",
    "executionInfo": {
     "status": "ok",
     "timestamp": 1681236577748,
     "user_tz": -180,
     "elapsed": 307,
     "user": {
      "displayName": "Михаил Глазов",
      "userId": "14831628976106288763"
     }
    }
   },
   "outputs": [],
   "source": [
    "metrics = ['categorical_accuracy',\n",
    "           tfa.metrics.F1Score(num_classes=10, average='macro', name='f1_score')]\n",
    "num_model = '_s_3'\n",
    "callbacks = [\n",
    "    PlotLossesKeras(),\n",
    "    tf.keras.callbacks.ModelCheckpoint(\n",
    "        filepath=f'../checkpoints/model{num_model}_categorical_accuracy.h5',\n",
    "        monitor='val_categorical_accuracy',\n",
    "        mode='max',\n",
    "        save_best_only=True,\n",
    "    ),\n",
    "    tf.keras.callbacks.ModelCheckpoint(\n",
    "        filepath=f'../checkpoints/model{num_model}_loss.h5',\n",
    "        monitor='val_loss',\n",
    "        mode='min',\n",
    "        save_best_only=True,\n",
    "    ),\n",
    "    tf.keras.callbacks.ModelCheckpoint(\n",
    "        filepath=f'../checkpoints/model{num_model}_f1_score.h5',\n",
    "        monitor='val_f1_score',\n",
    "        mode='max',\n",
    "        save_best_only=True,\n",
    "    ),\n",
    "\n",
    "    tfa.callbacks.AverageModelCheckpoint(\n",
    "        update_weights=False,\n",
    "        filepath=f'../checkpoints/model{num_model}_avg_categorical_accuracy.h5',\n",
    "        monitor='val_categorical_accuracy',\n",
    "        mode='max',\n",
    "        save_best_only=True,\n",
    "    ),\n",
    "    tfa.callbacks.AverageModelCheckpoint(\n",
    "        update_weights=False,\n",
    "        filepath=f'../checkpoints/model{num_model}_avg_loss.h5',\n",
    "        monitor='val_loss',\n",
    "        mode='min',\n",
    "        save_best_only=True,\n",
    "    ),\n",
    "    tfa.callbacks.AverageModelCheckpoint(\n",
    "        update_weights=False,\n",
    "        filepath=f'../checkpoints/model{num_model}_avg_f1_score.h5',\n",
    "        monitor='val_f1_score',\n",
    "        mode='max',\n",
    "        save_best_only=True,\n",
    "    )\n",
    "]"
   ]
  },
  {
   "cell_type": "markdown",
   "metadata": {
    "id": "wzTRYrou-S79"
   },
   "source": [
    "#### Компиляция модели\n",
    "- Если будете что то менять, то только оптимизатор. Про оптимизаторы написано у Лизы."
   ]
  },
  {
   "cell_type": "code",
   "execution_count": 9,
   "metadata": {
    "id": "yBYZOVgK-S7-",
    "executionInfo": {
     "status": "ok",
     "timestamp": 1681236585986,
     "user_tz": -180,
     "elapsed": 312,
     "user": {
      "displayName": "Михаил Глазов",
      "userId": "14831628976106288763"
     }
    }
   },
   "outputs": [],
   "source": [
    "model.compile(\n",
    "    optimizer=tfa.optimizers.MovingAverage(tf.keras.optimizers.legacy.Adam()),\n",
    "    metrics=metrics,\n",
    "    loss=tf.keras.losses.CategoricalCrossentropy(from_logits=True),\n",
    ")"
   ]
  },
  {
   "cell_type": "code",
   "source": [
    "from google.colab import drive\n",
    "drive.mount('/content/drive')"
   ],
   "metadata": {
    "colab": {
     "base_uri": "https://localhost:8080/"
    },
    "id": "jWAAXsxKfEWp",
    "executionInfo": {
     "status": "ok",
     "timestamp": 1681236208271,
     "user_tz": -180,
     "elapsed": 20482,
     "user": {
      "displayName": "Михаил Глазов",
      "userId": "14831628976106288763"
     }
    },
    "outputId": "b5633013-3ad7-4870-f719-d8aa59a0c010"
   },
   "execution_count": 2,
   "outputs": [
    {
     "output_type": "stream",
     "name": "stdout",
     "text": [
      "Mounted at /content/drive\n"
     ]
    }
   ]
  },
  {
   "cell_type": "markdown",
   "metadata": {
    "id": "Ne9pPgJI-S7-"
   },
   "source": [
    "#### Обучаем модель"
   ]
  },
  {
   "cell_type": "code",
   "execution_count": 12,
   "metadata": {
    "colab": {
     "base_uri": "https://localhost:8080/",
     "height": 1000
    },
    "executionInfo": {
     "elapsed": 11575266,
     "status": "ok",
     "timestamp": 1681248165735,
     "user": {
      "displayName": "Михаил Глазов",
      "userId": "14831628976106288763"
     },
     "user_tz": -180
    },
    "id": "mbiNiTlx-S7_",
    "outputId": "6c41c3d0-8325-4c1b-a5a2-a09e15c6aeff"
   },
   "outputs": [
    {
     "data": {
      "text/plain": "<Figure size 1200x1200 with 4 Axes>",
      "image/png": "[encoded data removed]"
     },
     "metadata": {},
     "output_type": "display_data"
    },
    {
     "name": "stdout",
     "output_type": "stream",
     "text": [
      "categorical_accuracy\n",
      "\ttraining         \t (min:    0.599, max:    0.984, cur:    0.984)\n",
      "\tvalidation       \t (min:    0.775, max:    0.976, cur:    0.968)\n",
      "f1_score\n",
      "\ttraining         \t (min:    0.599, max:    0.984, cur:    0.984)\n",
      "\tvalidation       \t (min:    0.772, max:    0.976, cur:    0.968)\n",
      "Loss\n",
      "\ttraining         \t (min:    0.051, max:    1.209, cur:    0.051)\n",
      "\tvalidation       \t (min:    0.120, max:    2.114, cur:    0.143)\n",
      "176/176 [==============================] - 238s 1s/step - loss: 0.0507 - categorical_accuracy: 0.9841 - f1_score: 0.9841 - val_loss: 0.1429 - val_categorical_accuracy: 0.9685 - val_f1_score: 0.9685\n"
     ]
    },
    {
     "data": {
      "text/plain": "<keras.callbacks.History at 0x1927b72e110>"
     },
     "execution_count": 12,
     "metadata": {},
     "output_type": "execute_result"
    }
   ],
   "source": [
    "model.fit(train_ds, validation_data=val_ds,\n",
    "            epochs=100, callbacks=callbacks, verbose=1)"
   ]
  },
  {
   "cell_type": "markdown",
   "metadata": {
    "id": "luv78DSO-S7_"
   },
   "source": [
    "Подгружаем все чекпоинты"
   ]
  },
  {
   "cell_type": "code",
   "execution_count": 13,
   "metadata": {
    "id": "g264umVz1hzv",
    "executionInfo": {
     "status": "ok",
     "timestamp": 1681248179608,
     "user_tz": -180,
     "elapsed": 12305,
     "user": {
      "displayName": "Михаил Глазов",
      "userId": "14831628976106288763"
     }
    }
   },
   "outputs": [],
   "source": [
    "model_categorical_acc = tf.keras.models.load_model(f'../checkpoints/model{num_model}_categorical_accuracy.h5')\n",
    "model_f1_score = tf.keras.models.load_model(f'../checkpoints/model{num_model}_f1_score.h5')\n",
    "model_loss = tf.keras.models.load_model(f'../checkpoints/model{num_model}_loss.h5')\n",
    "model_avg_categorical_acc = tf.keras.models.load_model(f'../checkpoints/model{num_model}_avg_categorical_accuracy.h5')\n",
    "model_avg_f1_score = tf.keras.models.load_model(f'../checkpoints/model{num_model}_avg_f1_score.h5')\n",
    "model_avg_loss = tf.keras.models.load_model(f'../checkpoints/model{num_model}_avg_loss.h5')"
   ]
  },
  {
   "cell_type": "markdown",
   "metadata": {
    "id": "r7i-3GRn-S7_"
   },
   "source": [
    "У нас поличилось три чекпоинта (три модели). Ниже указан код для получения ответов для всех чекпоинтов по валидационному датасету."
   ]
  },
  {
   "cell_type": "code",
   "execution_count": 16,
   "metadata": {
    "id": "u-cKSLLm1hzx",
    "executionInfo": {
     "status": "ok",
     "timestamp": 1681248209083,
     "user_tz": -180,
     "elapsed": 6702,
     "user": {
      "displayName": "Михаил Глазов",
      "userId": "14831628976106288763"
     }
    }
   },
   "outputs": [],
   "source": [
    "ans_val_categorical_accuracy = make_ans_file(model_categorical_acc, val_ds_x)\n",
    "ans_val_f1_score = make_ans_file(model_f1_score, val_ds_x)\n",
    "ans_val_loss = make_ans_file(model_loss, val_ds_x)\n",
    "ans_val_avg_categorical_accuracy = make_ans_file(model_avg_categorical_acc, val_ds_x)\n",
    "ans_val_avg_f1_score = make_ans_file(model_avg_f1_score, val_ds_x)\n",
    "ans_val_avg_loss = make_ans_file(model_avg_loss, val_ds_x)\n",
    "anss = [ans_val_categorical_accuracy, ans_val_f1_score, ans_val_loss, ans_val_avg_categorical_accuracy, ans_val_avg_f1_score, ans_val_avg_loss]"
   ]
  },
  {
   "cell_type": "markdown",
   "metadata": {
    "id": "az3iBS0W1hzx"
   },
   "source": [
    "Формируем валидационные ответы."
   ]
  },
  {
   "cell_type": "code",
   "execution_count": 17,
   "metadata": {
    "id": "OpY_REt31hzy",
    "executionInfo": {
     "status": "ok",
     "timestamp": 1681248341655,
     "user_tz": -180,
     "elapsed": 838,
     "user": {
      "displayName": "Михаил Глазов",
      "userId": "14831628976106288763"
     }
    }
   },
   "outputs": [],
   "source": [
    "val_ds_y = np.argmax(val_ds_y, axis=1)"
   ]
  },
  {
   "cell_type": "markdown",
   "metadata": {
    "id": "sqmvqg641hzy"
   },
   "source": [
    "Сравниваем валидационные предикты каждого чекпоинта"
   ]
  },
  {
   "cell_type": "code",
   "execution_count": 18,
   "metadata": {
    "id": "swFdpR3O1hzz",
    "outputId": "1f9ca82b-18ec-4792-fc88-32e9af65f50b",
    "colab": {
     "base_uri": "https://localhost:8080/"
    },
    "executionInfo": {
     "status": "ok",
     "timestamp": 1681248344845,
     "user_tz": -180,
     "elapsed": 316,
     "user": {
      "displayName": "Михаил Глазов",
      "userId": "14831628976106288763"
     }
    }
   },
   "outputs": [
    {
     "name": "stdout",
     "output_type": "stream",
     "text": [
      "чекпоинты 1 и 2 одинаковые\n",
      "чекпоинты 4 и 5 одинаковые\n"
     ]
    }
   ],
   "source": [
    "for i in range(len(anss) - 1):\n",
    "    for j in range(i + 1, len(anss)):\n",
    "        if np.all(anss[i] == anss[j]):\n",
    "            print(f'чекпоинты {i + 1} и {j + 1} одинаковые')"
   ]
  },
  {
   "cell_type": "markdown",
   "metadata": {
    "id": "CzRxY2Y71hz0"
   },
   "source": [
    "`Все ответы разные, значит чекпоинты сохранили модель на разных эпохах. Если ответы будут одинковые, то вывод о чекпоинте делать не надо.`"
   ]
  },
  {
   "cell_type": "markdown",
   "metadata": {
    "id": "L9eNtr1L1hz1"
   },
   "source": [
    "- Денис пишет ансамблинг моделей. Когда он допишет, мы применим это для формирования ответа по трем получившимся моделям. То есть, если все чекпоинты разные, то мы будем делать средний ответ по трем предиктам."
   ]
  },
  {
   "cell_type": "markdown",
   "metadata": {
    "id": "XRNa8eAd1hz8"
   },
   "source": [
    "В конце смотрим на метрики и делаем выводы о том, чем хороша эта модель. Какие классы она угадывает лучше/худше всего. Дописываем какую метрику показал kaggle."
   ]
  },
  {
   "cell_type": "code",
   "execution_count": 19,
   "metadata": {
    "id": "Op5vVeQp1hz9",
    "executionInfo": {
     "status": "ok",
     "timestamp": 1681248351237,
     "user_tz": -180,
     "elapsed": 488,
     "user": {
      "displayName": "Михаил Глазов",
      "userId": "14831628976106288763"
     }
    }
   },
   "outputs": [],
   "source": [
    "class MulticlassClassificationMetrics:\n",
    "    def __init__(self, y_true, y_pred):\n",
    "        self.y_true = np.array(y_true)\n",
    "        self.y_pred = np.array(y_pred)\n",
    "        self.matrix_error = self.get_matrix_error()\n",
    "\n",
    "    def get_matrix_error(self):\n",
    "        self.class_types = np.unique([self.y_true, self.y_pred])\n",
    "        TP, FN, FP, TN = [], [], [], []\n",
    "        for class_type in self.class_types:\n",
    "            TP.append(np.sum(np.logical_and(self.y_true == self.y_pred, self.y_true == class_type)))\n",
    "            FN.append(np.sum(np.logical_and(self.y_true == class_type, self.y_pred != class_type)))\n",
    "            FP.append(np.sum(np.logical_and(self.y_pred == class_type, self.y_true != class_type)))\n",
    "            TN.append(np.sum(np.logical_and(self.y_pred != class_type, self.y_true != class_type)))\n",
    "        return pd.DataFrame({\n",
    "            'class_type': self.class_types,\n",
    "            'TP': TP, 'TN': TN, 'FP': FP, 'FN': FN,\n",
    "        }).set_index('class_type')\n",
    "\n",
    "    def accuracy(self):\n",
    "        return np.sum(self.y_true == self.y_pred) / self.y_true.shape[0]\n",
    "\n",
    "    def precision(self, averaging='macro'):\n",
    "        if averaging == 'macro':\n",
    "            precisions = self.matrix_error['TP'] / (self.matrix_error['TP'] + self.matrix_error['FP'])\n",
    "            return np.mean(precisions.replace(np.nan, 0))\n",
    "        elif averaging == 'micro':\n",
    "            mean_val = self.matrix_error.mean()\n",
    "            return mean_val['TP'] / (mean_val['TP'] + mean_val['FP'])\n",
    "\n",
    "    def recall(self, averaging='macro'):\n",
    "        if averaging == 'macro':\n",
    "            recalls = self.matrix_error['TP'] / (self.matrix_error['TP'] + self.matrix_error['FN'])\n",
    "            return np.mean(recalls.replace(np.nan, 0))\n",
    "        elif averaging == 'micro':\n",
    "            mean_val = self.matrix_error.mean()\n",
    "            return mean_val['TP'] / (mean_val['TP'] + mean_val['FN'])\n",
    "\n",
    "    def f1_score(self, averaging='macro'):\n",
    "        if averaging == 'macro':\n",
    "            reverse_r = (self.matrix_error['TP'] + self.matrix_error['FN']) / self.matrix_error['TP']\n",
    "            reverse_p = (self.matrix_error['TP'] + self.matrix_error['FP']) / self.matrix_error['TP']\n",
    "            f1_scores = 2 / (reverse_r + reverse_p)\n",
    "            return np.mean(f1_scores.replace(np.nan, 0))\n",
    "        elif averaging == 'micro':\n",
    "            p = self.precision(averaging)\n",
    "            r = self.recall(averaging)\n",
    "            return 2 * p * r / (p + r)\n",
    "\n",
    "    def metrics(self, averaging='macro'):\n",
    "        return {\n",
    "            'accuracy': self.accuracy(),\n",
    "            'precision': self.precision(averaging),\n",
    "            'recall': self.recall(averaging),\n",
    "            'f1_score': self.f1_score(averaging),\n",
    "        }\n",
    "\n",
    "    def __str__(self):\n",
    "        headers = {\n",
    "            'selector': '*',\n",
    "            'props': 'background-color: darkgreen; color: white; font-size: 12pt;',\n",
    "        }\n",
    "        che_super_mega_puper_visualization_of_cell = { \n",
    "            'selector': 'td:hover',\n",
    "            'props': 'background-color: green; color: white;',\n",
    "        }\n",
    "        display(\n",
    "            self.matrix_error\n",
    "            .style\n",
    "            .set_table_styles([\n",
    "                headers,\n",
    "                che_super_mega_puper_visualization_of_cell,\n",
    "            ])\n",
    "            .set_properties(**{'background-color': 'lightgreen',\n",
    "                           'color': 'black', 'font-size': '12pt'})\n",
    "        )\n",
    "        return ''\n",
    "\n",
    "    def __repr__(self):\n",
    "        return (\n",
    "            f'MulticlassClassificationMetrics(class_types={self.class_types})'\n",
    "            .replace(\"'\", '').replace(',', ';'))"
   ]
  },
  {
   "cell_type": "code",
   "execution_count": 20,
   "metadata": {
    "id": "mQbTtJFKdECv",
    "outputId": "ae0c2dcb-1bde-4703-93ea-c43a1da288cb",
    "colab": {
     "base_uri": "https://localhost:8080/",
     "height": 783
    },
    "executionInfo": {
     "status": "error",
     "timestamp": 1681248356051,
     "user_tz": -180,
     "elapsed": 440,
     "user": {
      "displayName": "Михаил Глазов",
      "userId": "14831628976106288763"
     }
    }
   },
   "outputs": [
    {
     "output_type": "stream",
     "name": "stderr",
     "text": [
      "/usr/local/lib/python3.9/dist-packages/matplotlib/cbook/__init__.py:1399: VisibleDeprecationWarning: Creating an ndarray from ragged nested sequences (which is a list-or-tuple of lists-or-tuples-or ndarrays with different lengths or shapes) is deprecated. If you meant to do this, you must specify 'dtype=object' when creating the ndarray.\n",
      "  xi = np.asanyarray(xi)\n"
     ]
    },
    {
     "output_type": "error",
     "ename": "ValueError",
     "evalue": "ignored",
     "traceback": [
      "\u001B[0;31m---------------------------------------------------------------------------\u001B[0m",
      "\u001B[0;31mValueError\u001B[0m                                Traceback (most recent call last)",
      "\u001B[0;32m<ipython-input-20-971d25ffe7cf>\u001B[0m in \u001B[0;36m<cell line: 1>\u001B[0;34m()\u001B[0m\n\u001B[0;32m----> 1\u001B[0;31m \u001B[0mplt\u001B[0m\u001B[0;34m.\u001B[0m\u001B[0mhist\u001B[0m\u001B[0;34m(\u001B[0m\u001B[0mval_ds\u001B[0m\u001B[0;34m)\u001B[0m\u001B[0;34m\u001B[0m\u001B[0;34m\u001B[0m\u001B[0m\n\u001B[0m",
      "\u001B[0;32m/usr/local/lib/python3.9/dist-packages/matplotlib/pyplot.py\u001B[0m in \u001B[0;36mhist\u001B[0;34m(x, bins, range, density, weights, cumulative, bottom, histtype, align, orientation, rwidth, log, color, label, stacked, data, **kwargs)\u001B[0m\n\u001B[1;32m   2643\u001B[0m         \u001B[0morientation\u001B[0m\u001B[0;34m=\u001B[0m\u001B[0;34m'vertical'\u001B[0m\u001B[0;34m,\u001B[0m \u001B[0mrwidth\u001B[0m\u001B[0;34m=\u001B[0m\u001B[0;32mNone\u001B[0m\u001B[0;34m,\u001B[0m \u001B[0mlog\u001B[0m\u001B[0;34m=\u001B[0m\u001B[0;32mFalse\u001B[0m\u001B[0;34m,\u001B[0m \u001B[0mcolor\u001B[0m\u001B[0;34m=\u001B[0m\u001B[0;32mNone\u001B[0m\u001B[0;34m,\u001B[0m\u001B[0;34m\u001B[0m\u001B[0;34m\u001B[0m\u001B[0m\n\u001B[1;32m   2644\u001B[0m         label=None, stacked=False, *, data=None, **kwargs):\n\u001B[0;32m-> 2645\u001B[0;31m     return gca().hist(\n\u001B[0m\u001B[1;32m   2646\u001B[0m         \u001B[0mx\u001B[0m\u001B[0;34m,\u001B[0m \u001B[0mbins\u001B[0m\u001B[0;34m=\u001B[0m\u001B[0mbins\u001B[0m\u001B[0;34m,\u001B[0m \u001B[0mrange\u001B[0m\u001B[0;34m=\u001B[0m\u001B[0mrange\u001B[0m\u001B[0;34m,\u001B[0m \u001B[0mdensity\u001B[0m\u001B[0;34m=\u001B[0m\u001B[0mdensity\u001B[0m\u001B[0;34m,\u001B[0m \u001B[0mweights\u001B[0m\u001B[0;34m=\u001B[0m\u001B[0mweights\u001B[0m\u001B[0;34m,\u001B[0m\u001B[0;34m\u001B[0m\u001B[0;34m\u001B[0m\u001B[0m\n\u001B[1;32m   2647\u001B[0m         \u001B[0mcumulative\u001B[0m\u001B[0;34m=\u001B[0m\u001B[0mcumulative\u001B[0m\u001B[0;34m,\u001B[0m \u001B[0mbottom\u001B[0m\u001B[0;34m=\u001B[0m\u001B[0mbottom\u001B[0m\u001B[0;34m,\u001B[0m \u001B[0mhisttype\u001B[0m\u001B[0;34m=\u001B[0m\u001B[0mhisttype\u001B[0m\u001B[0;34m,\u001B[0m\u001B[0;34m\u001B[0m\u001B[0;34m\u001B[0m\u001B[0m\n",
      "\u001B[0;32m/usr/local/lib/python3.9/dist-packages/matplotlib/__init__.py\u001B[0m in \u001B[0;36minner\u001B[0;34m(ax, data, *args, **kwargs)\u001B[0m\n\u001B[1;32m   1440\u001B[0m     \u001B[0;32mdef\u001B[0m \u001B[0minner\u001B[0m\u001B[0;34m(\u001B[0m\u001B[0max\u001B[0m\u001B[0;34m,\u001B[0m \u001B[0;34m*\u001B[0m\u001B[0margs\u001B[0m\u001B[0;34m,\u001B[0m \u001B[0mdata\u001B[0m\u001B[0;34m=\u001B[0m\u001B[0;32mNone\u001B[0m\u001B[0;34m,\u001B[0m \u001B[0;34m**\u001B[0m\u001B[0mkwargs\u001B[0m\u001B[0;34m)\u001B[0m\u001B[0;34m:\u001B[0m\u001B[0;34m\u001B[0m\u001B[0;34m\u001B[0m\u001B[0m\n\u001B[1;32m   1441\u001B[0m         \u001B[0;32mif\u001B[0m \u001B[0mdata\u001B[0m \u001B[0;32mis\u001B[0m \u001B[0;32mNone\u001B[0m\u001B[0;34m:\u001B[0m\u001B[0;34m\u001B[0m\u001B[0;34m\u001B[0m\u001B[0m\n\u001B[0;32m-> 1442\u001B[0;31m             \u001B[0;32mreturn\u001B[0m \u001B[0mfunc\u001B[0m\u001B[0;34m(\u001B[0m\u001B[0max\u001B[0m\u001B[0;34m,\u001B[0m \u001B[0;34m*\u001B[0m\u001B[0mmap\u001B[0m\u001B[0;34m(\u001B[0m\u001B[0msanitize_sequence\u001B[0m\u001B[0;34m,\u001B[0m \u001B[0margs\u001B[0m\u001B[0;34m)\u001B[0m\u001B[0;34m,\u001B[0m \u001B[0;34m**\u001B[0m\u001B[0mkwargs\u001B[0m\u001B[0;34m)\u001B[0m\u001B[0;34m\u001B[0m\u001B[0;34m\u001B[0m\u001B[0m\n\u001B[0m\u001B[1;32m   1443\u001B[0m \u001B[0;34m\u001B[0m\u001B[0m\n\u001B[1;32m   1444\u001B[0m         \u001B[0mbound\u001B[0m \u001B[0;34m=\u001B[0m \u001B[0mnew_sig\u001B[0m\u001B[0;34m.\u001B[0m\u001B[0mbind\u001B[0m\u001B[0;34m(\u001B[0m\u001B[0max\u001B[0m\u001B[0;34m,\u001B[0m \u001B[0;34m*\u001B[0m\u001B[0margs\u001B[0m\u001B[0;34m,\u001B[0m \u001B[0;34m**\u001B[0m\u001B[0mkwargs\u001B[0m\u001B[0;34m)\u001B[0m\u001B[0;34m\u001B[0m\u001B[0;34m\u001B[0m\u001B[0m\n",
      "\u001B[0;32m/usr/local/lib/python3.9/dist-packages/matplotlib/axes/_axes.py\u001B[0m in \u001B[0;36mhist\u001B[0;34m(self, x, bins, range, density, weights, cumulative, bottom, histtype, align, orientation, rwidth, log, color, label, stacked, **kwargs)\u001B[0m\n\u001B[1;32m   6701\u001B[0m \u001B[0;34m\u001B[0m\u001B[0m\n\u001B[1;32m   6702\u001B[0m         \u001B[0;31m# Massage 'x' for processing.\u001B[0m\u001B[0;34m\u001B[0m\u001B[0;34m\u001B[0m\u001B[0m\n\u001B[0;32m-> 6703\u001B[0;31m         \u001B[0mx\u001B[0m \u001B[0;34m=\u001B[0m \u001B[0mcbook\u001B[0m\u001B[0;34m.\u001B[0m\u001B[0m_reshape_2D\u001B[0m\u001B[0;34m(\u001B[0m\u001B[0mx\u001B[0m\u001B[0;34m,\u001B[0m \u001B[0;34m'x'\u001B[0m\u001B[0;34m)\u001B[0m\u001B[0;34m\u001B[0m\u001B[0;34m\u001B[0m\u001B[0m\n\u001B[0m\u001B[1;32m   6704\u001B[0m         \u001B[0mnx\u001B[0m \u001B[0;34m=\u001B[0m \u001B[0mlen\u001B[0m\u001B[0;34m(\u001B[0m\u001B[0mx\u001B[0m\u001B[0;34m)\u001B[0m  \u001B[0;31m# number of datasets\u001B[0m\u001B[0;34m\u001B[0m\u001B[0;34m\u001B[0m\u001B[0m\n\u001B[1;32m   6705\u001B[0m \u001B[0;34m\u001B[0m\u001B[0m\n",
      "\u001B[0;32m/usr/local/lib/python3.9/dist-packages/matplotlib/cbook/__init__.py\u001B[0m in \u001B[0;36m_reshape_2D\u001B[0;34m(X, name)\u001B[0m\n\u001B[1;32m   1397\u001B[0m             \u001B[0;32melse\u001B[0m\u001B[0;34m:\u001B[0m\u001B[0;34m\u001B[0m\u001B[0;34m\u001B[0m\u001B[0m\n\u001B[1;32m   1398\u001B[0m                 \u001B[0mis_1d\u001B[0m \u001B[0;34m=\u001B[0m \u001B[0;32mFalse\u001B[0m\u001B[0;34m\u001B[0m\u001B[0;34m\u001B[0m\u001B[0m\n\u001B[0;32m-> 1399\u001B[0;31m         \u001B[0mxi\u001B[0m \u001B[0;34m=\u001B[0m \u001B[0mnp\u001B[0m\u001B[0;34m.\u001B[0m\u001B[0masanyarray\u001B[0m\u001B[0;34m(\u001B[0m\u001B[0mxi\u001B[0m\u001B[0;34m)\u001B[0m\u001B[0;34m\u001B[0m\u001B[0;34m\u001B[0m\u001B[0m\n\u001B[0m\u001B[1;32m   1400\u001B[0m         \u001B[0mnd\u001B[0m \u001B[0;34m=\u001B[0m \u001B[0mnp\u001B[0m\u001B[0;34m.\u001B[0m\u001B[0mndim\u001B[0m\u001B[0;34m(\u001B[0m\u001B[0mxi\u001B[0m\u001B[0;34m)\u001B[0m\u001B[0;34m\u001B[0m\u001B[0;34m\u001B[0m\u001B[0m\n\u001B[1;32m   1401\u001B[0m         \u001B[0;32mif\u001B[0m \u001B[0mnd\u001B[0m \u001B[0;34m>\u001B[0m \u001B[0;36m1\u001B[0m\u001B[0;34m:\u001B[0m\u001B[0;34m\u001B[0m\u001B[0;34m\u001B[0m\u001B[0m\n",
      "\u001B[0;31mValueError\u001B[0m: could not broadcast input array from shape (512,32,32,3) into shape (512,)"
     ]
    },
    {
     "output_type": "display_data",
     "data": {
      "text/plain": [
       "<Figure size 640x480 with 1 Axes>"
      ],
      "image/png": "[encoded data removed]"
     },
     "metadata": {}
    }
   ],
   "source": [
    "plt.hist(val_ds)"
   ]
  },
  {
   "cell_type": "markdown",
   "metadata": {
    "id": "uhWptjbN1hz_"
   },
   "source": [
    "### Accuracy чекпоинт"
   ]
  },
  {
   "cell_type": "code",
   "execution_count": 20,
   "metadata": {
    "id": "h_X5LFRj1h0A",
    "outputId": "81f524f7-ccb2-4b09-e7b7-25a8b3399c74",
    "colab": {
     "base_uri": "https://localhost:8080/",
     "height": 535
    },
    "executionInfo": {
     "status": "ok",
     "timestamp": 1681248359716,
     "user_tz": -180,
     "elapsed": 11,
     "user": {
      "displayName": "Михаил Глазов",
      "userId": "14831628976106288763"
     }
    }
   },
   "outputs": [
    {
     "data": {
      "text/plain": "<pandas.io.formats.style.Styler at 0x1927b726c50>",
      "text/html": "<style type=\"text/css\">\n#T_8d2cc * {\n  background-color: darkgreen;\n  color: white;\n  font-size: 12pt;\n}\n#T_8d2cc td:hover {\n  background-color: green;\n  color: white;\n}\n#T_8d2cc_row0_col0, #T_8d2cc_row0_col1, #T_8d2cc_row0_col2, #T_8d2cc_row0_col3, #T_8d2cc_row1_col0, #T_8d2cc_row1_col1, #T_8d2cc_row1_col2, #T_8d2cc_row1_col3, #T_8d2cc_row2_col0, #T_8d2cc_row2_col1, #T_8d2cc_row2_col2, #T_8d2cc_row2_col3, #T_8d2cc_row3_col0, #T_8d2cc_row3_col1, #T_8d2cc_row3_col2, #T_8d2cc_row3_col3, #T_8d2cc_row4_col0, #T_8d2cc_row4_col1, #T_8d2cc_row4_col2, #T_8d2cc_row4_col3, #T_8d2cc_row5_col0, #T_8d2cc_row5_col1, #T_8d2cc_row5_col2, #T_8d2cc_row5_col3, #T_8d2cc_row6_col0, #T_8d2cc_row6_col1, #T_8d2cc_row6_col2, #T_8d2cc_row6_col3, #T_8d2cc_row7_col0, #T_8d2cc_row7_col1, #T_8d2cc_row7_col2, #T_8d2cc_row7_col3, #T_8d2cc_row8_col0, #T_8d2cc_row8_col1, #T_8d2cc_row8_col2, #T_8d2cc_row8_col3, #T_8d2cc_row9_col0, #T_8d2cc_row9_col1, #T_8d2cc_row9_col2, #T_8d2cc_row9_col3 {\n  background-color: lightgreen;\n  color: black;\n  font-size: 12pt;\n}\n</style>\n<table id=\"T_8d2cc\">\n  <thead>\n    <tr>\n      <th class=\"blank level0\" >&nbsp;</th>\n      <th id=\"T_8d2cc_level0_col0\" class=\"col_heading level0 col0\" >TP</th>\n      <th id=\"T_8d2cc_level0_col1\" class=\"col_heading level0 col1\" >TN</th>\n      <th id=\"T_8d2cc_level0_col2\" class=\"col_heading level0 col2\" >FP</th>\n      <th id=\"T_8d2cc_level0_col3\" class=\"col_heading level0 col3\" >FN</th>\n    </tr>\n    <tr>\n      <th class=\"index_name level0\" >class_type</th>\n      <th class=\"blank col0\" >&nbsp;</th>\n      <th class=\"blank col1\" >&nbsp;</th>\n      <th class=\"blank col2\" >&nbsp;</th>\n      <th class=\"blank col3\" >&nbsp;</th>\n    </tr>\n  </thead>\n  <tbody>\n    <tr>\n      <th id=\"T_8d2cc_level0_row0\" class=\"row_heading level0 row0\" >0</th>\n      <td id=\"T_8d2cc_row0_col0\" class=\"data row0 col0\" >670</td>\n      <td id=\"T_8d2cc_row0_col1\" class=\"data row0 col1\" >6063</td>\n      <td id=\"T_8d2cc_row0_col2\" class=\"data row0 col2\" >12</td>\n      <td id=\"T_8d2cc_row0_col3\" class=\"data row0 col3\" >11</td>\n    </tr>\n    <tr>\n      <th id=\"T_8d2cc_level0_row1\" class=\"row_heading level0 row1\" >1</th>\n      <td id=\"T_8d2cc_row1_col0\" class=\"data row1 col0\" >628</td>\n      <td id=\"T_8d2cc_row1_col1\" class=\"data row1 col1\" >6078</td>\n      <td id=\"T_8d2cc_row1_col2\" class=\"data row1 col2\" >25</td>\n      <td id=\"T_8d2cc_row1_col3\" class=\"data row1 col3\" >25</td>\n    </tr>\n    <tr>\n      <th id=\"T_8d2cc_level0_row2\" class=\"row_heading level0 row2\" >2</th>\n      <td id=\"T_8d2cc_row2_col0\" class=\"data row2 col0\" >659</td>\n      <td id=\"T_8d2cc_row2_col1\" class=\"data row2 col1\" >6064</td>\n      <td id=\"T_8d2cc_row2_col2\" class=\"data row2 col2\" >22</td>\n      <td id=\"T_8d2cc_row2_col3\" class=\"data row2 col3\" >11</td>\n    </tr>\n    <tr>\n      <th id=\"T_8d2cc_level0_row3\" class=\"row_heading level0 row3\" >3</th>\n      <td id=\"T_8d2cc_row3_col0\" class=\"data row3 col0\" >659</td>\n      <td id=\"T_8d2cc_row3_col1\" class=\"data row3 col1\" >6050</td>\n      <td id=\"T_8d2cc_row3_col2\" class=\"data row3 col2\" >17</td>\n      <td id=\"T_8d2cc_row3_col3\" class=\"data row3 col3\" >30</td>\n    </tr>\n    <tr>\n      <th id=\"T_8d2cc_level0_row4\" class=\"row_heading level0 row4\" >4</th>\n      <td id=\"T_8d2cc_row4_col0\" class=\"data row4 col0\" >644</td>\n      <td id=\"T_8d2cc_row4_col1\" class=\"data row4 col1\" >6091</td>\n      <td id=\"T_8d2cc_row4_col2\" class=\"data row4 col2\" >8</td>\n      <td id=\"T_8d2cc_row4_col3\" class=\"data row4 col3\" >13</td>\n    </tr>\n    <tr>\n      <th id=\"T_8d2cc_level0_row5\" class=\"row_heading level0 row5\" >5</th>\n      <td id=\"T_8d2cc_row5_col0\" class=\"data row5 col0\" >658</td>\n      <td id=\"T_8d2cc_row5_col1\" class=\"data row5 col1\" >6063</td>\n      <td id=\"T_8d2cc_row5_col2\" class=\"data row5 col2\" >8</td>\n      <td id=\"T_8d2cc_row5_col3\" class=\"data row5 col3\" >27</td>\n    </tr>\n    <tr>\n      <th id=\"T_8d2cc_level0_row6\" class=\"row_heading level0 row6\" >6</th>\n      <td id=\"T_8d2cc_row6_col0\" class=\"data row6 col0\" >638</td>\n      <td id=\"T_8d2cc_row6_col1\" class=\"data row6 col1\" >6087</td>\n      <td id=\"T_8d2cc_row6_col2\" class=\"data row6 col2\" >24</td>\n      <td id=\"T_8d2cc_row6_col3\" class=\"data row6 col3\" >7</td>\n    </tr>\n    <tr>\n      <th id=\"T_8d2cc_level0_row7\" class=\"row_heading level0 row7\" >7</th>\n      <td id=\"T_8d2cc_row7_col0\" class=\"data row7 col0\" >682</td>\n      <td id=\"T_8d2cc_row7_col1\" class=\"data row7 col1\" >6055</td>\n      <td id=\"T_8d2cc_row7_col2\" class=\"data row7 col2\" >9</td>\n      <td id=\"T_8d2cc_row7_col3\" class=\"data row7 col3\" >10</td>\n    </tr>\n    <tr>\n      <th id=\"T_8d2cc_level0_row8\" class=\"row_heading level0 row8\" >8</th>\n      <td id=\"T_8d2cc_row8_col0\" class=\"data row8 col0\" >660</td>\n      <td id=\"T_8d2cc_row8_col1\" class=\"data row8 col1\" >6061</td>\n      <td id=\"T_8d2cc_row8_col2\" class=\"data row8 col2\" >23</td>\n      <td id=\"T_8d2cc_row8_col3\" class=\"data row8 col3\" >12</td>\n    </tr>\n    <tr>\n      <th id=\"T_8d2cc_level0_row9\" class=\"row_heading level0 row9\" >9</th>\n      <td id=\"T_8d2cc_row9_col0\" class=\"data row9 col0\" >695</td>\n      <td id=\"T_8d2cc_row9_col1\" class=\"data row9 col1\" >6029</td>\n      <td id=\"T_8d2cc_row9_col2\" class=\"data row9 col2\" >15</td>\n      <td id=\"T_8d2cc_row9_col3\" class=\"data row9 col3\" >17</td>\n    </tr>\n  </tbody>\n</table>\n"
     },
     "metadata": {},
     "output_type": "display_data"
    },
    {
     "name": "stdout",
     "output_type": "stream",
     "text": [
      "\n"
     ]
    },
    {
     "data": {
      "text/plain": "{'accuracy': 0.9758732978093546,\n 'precision': 0.975830443761429,\n 'recall': 0.9759363073285364,\n 'f1_score': 0.9758242053728801}"
     },
     "execution_count": 20,
     "metadata": {},
     "output_type": "execute_result"
    }
   ],
   "source": [
    "metrics = MulticlassClassificationMetrics(val_ds_y, ans_val_categorical_accuracy)\n",
    "print(metrics)\n",
    "metrics.metrics()"
   ]
  },
  {
   "cell_type": "markdown",
   "metadata": {
    "id": "HDRKSDRq1h0B"
   },
   "source": [
    "- $FP_1=15$. То есть, модель предсказала 15 раз 1, когда на самом деле там была не 1. Наверное модель плохо различает 1 и 7.\n",
    "- $FN_1=15$. То есть, модель 15 раз ошиблась, когда угадывала 1.\n",
    "\n",
    "Метрики более менее хоршие. Переобучения нет. Ставить модель на больше эпох нет смысла, потому что последние 50 эпох модель практически не меняла веса.\n",
    "\n",
    "`Это не шаблон!!! Писать надо как сами посчитаете`"
   ]
  },
  {
   "cell_type": "markdown",
   "metadata": {
    "id": "7VAzf7n0dECw"
   },
   "source": [
    "### Loss чекпоинт"
   ]
  },
  {
   "cell_type": "code",
   "execution_count": 21,
   "metadata": {
    "id": "uzHyXblNdECw",
    "outputId": "8a6d3df1-b81c-462a-b32b-b929d2fa1e6a",
    "colab": {
     "base_uri": "https://localhost:8080/",
     "height": 535
    },
    "executionInfo": {
     "status": "ok",
     "timestamp": 1681248365639,
     "user_tz": -180,
     "elapsed": 5,
     "user": {
      "displayName": "Михаил Глазов",
      "userId": "14831628976106288763"
     }
    }
   },
   "outputs": [
    {
     "data": {
      "text/plain": "<pandas.io.formats.style.Styler at 0x1927cfd38b0>",
      "text/html": "<style type=\"text/css\">\n#T_9964c * {\n  background-color: darkgreen;\n  color: white;\n  font-size: 12pt;\n}\n#T_9964c td:hover {\n  background-color: green;\n  color: white;\n}\n#T_9964c_row0_col0, #T_9964c_row0_col1, #T_9964c_row0_col2, #T_9964c_row0_col3, #T_9964c_row1_col0, #T_9964c_row1_col1, #T_9964c_row1_col2, #T_9964c_row1_col3, #T_9964c_row2_col0, #T_9964c_row2_col1, #T_9964c_row2_col2, #T_9964c_row2_col3, #T_9964c_row3_col0, #T_9964c_row3_col1, #T_9964c_row3_col2, #T_9964c_row3_col3, #T_9964c_row4_col0, #T_9964c_row4_col1, #T_9964c_row4_col2, #T_9964c_row4_col3, #T_9964c_row5_col0, #T_9964c_row5_col1, #T_9964c_row5_col2, #T_9964c_row5_col3, #T_9964c_row6_col0, #T_9964c_row6_col1, #T_9964c_row6_col2, #T_9964c_row6_col3, #T_9964c_row7_col0, #T_9964c_row7_col1, #T_9964c_row7_col2, #T_9964c_row7_col3, #T_9964c_row8_col0, #T_9964c_row8_col1, #T_9964c_row8_col2, #T_9964c_row8_col3, #T_9964c_row9_col0, #T_9964c_row9_col1, #T_9964c_row9_col2, #T_9964c_row9_col3 {\n  background-color: lightgreen;\n  color: black;\n  font-size: 12pt;\n}\n</style>\n<table id=\"T_9964c\">\n  <thead>\n    <tr>\n      <th class=\"blank level0\" >&nbsp;</th>\n      <th id=\"T_9964c_level0_col0\" class=\"col_heading level0 col0\" >TP</th>\n      <th id=\"T_9964c_level0_col1\" class=\"col_heading level0 col1\" >TN</th>\n      <th id=\"T_9964c_level0_col2\" class=\"col_heading level0 col2\" >FP</th>\n      <th id=\"T_9964c_level0_col3\" class=\"col_heading level0 col3\" >FN</th>\n    </tr>\n    <tr>\n      <th class=\"index_name level0\" >class_type</th>\n      <th class=\"blank col0\" >&nbsp;</th>\n      <th class=\"blank col1\" >&nbsp;</th>\n      <th class=\"blank col2\" >&nbsp;</th>\n      <th class=\"blank col3\" >&nbsp;</th>\n    </tr>\n  </thead>\n  <tbody>\n    <tr>\n      <th id=\"T_9964c_level0_row0\" class=\"row_heading level0 row0\" >0</th>\n      <td id=\"T_9964c_row0_col0\" class=\"data row0 col0\" >664</td>\n      <td id=\"T_9964c_row0_col1\" class=\"data row0 col1\" >6064</td>\n      <td id=\"T_9964c_row0_col2\" class=\"data row0 col2\" >11</td>\n      <td id=\"T_9964c_row0_col3\" class=\"data row0 col3\" >17</td>\n    </tr>\n    <tr>\n      <th id=\"T_9964c_level0_row1\" class=\"row_heading level0 row1\" >1</th>\n      <td id=\"T_9964c_row1_col0\" class=\"data row1 col0\" >611</td>\n      <td id=\"T_9964c_row1_col1\" class=\"data row1 col1\" >6088</td>\n      <td id=\"T_9964c_row1_col2\" class=\"data row1 col2\" >15</td>\n      <td id=\"T_9964c_row1_col3\" class=\"data row1 col3\" >42</td>\n    </tr>\n    <tr>\n      <th id=\"T_9964c_level0_row2\" class=\"row_heading level0 row2\" >2</th>\n      <td id=\"T_9964c_row2_col0\" class=\"data row2 col0\" >660</td>\n      <td id=\"T_9964c_row2_col1\" class=\"data row2 col1\" >6051</td>\n      <td id=\"T_9964c_row2_col2\" class=\"data row2 col2\" >35</td>\n      <td id=\"T_9964c_row2_col3\" class=\"data row2 col3\" >10</td>\n    </tr>\n    <tr>\n      <th id=\"T_9964c_level0_row3\" class=\"row_heading level0 row3\" >3</th>\n      <td id=\"T_9964c_row3_col0\" class=\"data row3 col0\" >662</td>\n      <td id=\"T_9964c_row3_col1\" class=\"data row3 col1\" >6029</td>\n      <td id=\"T_9964c_row3_col2\" class=\"data row3 col2\" >38</td>\n      <td id=\"T_9964c_row3_col3\" class=\"data row3 col3\" >27</td>\n    </tr>\n    <tr>\n      <th id=\"T_9964c_level0_row4\" class=\"row_heading level0 row4\" >4</th>\n      <td id=\"T_9964c_row4_col0\" class=\"data row4 col0\" >643</td>\n      <td id=\"T_9964c_row4_col1\" class=\"data row4 col1\" >6090</td>\n      <td id=\"T_9964c_row4_col2\" class=\"data row4 col2\" >9</td>\n      <td id=\"T_9964c_row4_col3\" class=\"data row4 col3\" >14</td>\n    </tr>\n    <tr>\n      <th id=\"T_9964c_level0_row5\" class=\"row_heading level0 row5\" >5</th>\n      <td id=\"T_9964c_row5_col0\" class=\"data row5 col0\" >663</td>\n      <td id=\"T_9964c_row5_col1\" class=\"data row5 col1\" >6043</td>\n      <td id=\"T_9964c_row5_col2\" class=\"data row5 col2\" >28</td>\n      <td id=\"T_9964c_row5_col3\" class=\"data row5 col3\" >22</td>\n    </tr>\n    <tr>\n      <th id=\"T_9964c_level0_row6\" class=\"row_heading level0 row6\" >6</th>\n      <td id=\"T_9964c_row6_col0\" class=\"data row6 col0\" >624</td>\n      <td id=\"T_9964c_row6_col1\" class=\"data row6 col1\" >6096</td>\n      <td id=\"T_9964c_row6_col2\" class=\"data row6 col2\" >15</td>\n      <td id=\"T_9964c_row6_col3\" class=\"data row6 col3\" >21</td>\n    </tr>\n    <tr>\n      <th id=\"T_9964c_level0_row7\" class=\"row_heading level0 row7\" >7</th>\n      <td id=\"T_9964c_row7_col0\" class=\"data row7 col0\" >679</td>\n      <td id=\"T_9964c_row7_col1\" class=\"data row7 col1\" >6049</td>\n      <td id=\"T_9964c_row7_col2\" class=\"data row7 col2\" >15</td>\n      <td id=\"T_9964c_row7_col3\" class=\"data row7 col3\" >13</td>\n    </tr>\n    <tr>\n      <th id=\"T_9964c_level0_row8\" class=\"row_heading level0 row8\" >8</th>\n      <td id=\"T_9964c_row8_col0\" class=\"data row8 col0\" >655</td>\n      <td id=\"T_9964c_row8_col1\" class=\"data row8 col1\" >6060</td>\n      <td id=\"T_9964c_row8_col2\" class=\"data row8 col2\" >24</td>\n      <td id=\"T_9964c_row8_col3\" class=\"data row8 col3\" >17</td>\n    </tr>\n    <tr>\n      <th id=\"T_9964c_level0_row9\" class=\"row_heading level0 row9\" >9</th>\n      <td id=\"T_9964c_row9_col0\" class=\"data row9 col0\" >694</td>\n      <td id=\"T_9964c_row9_col1\" class=\"data row9 col1\" >6033</td>\n      <td id=\"T_9964c_row9_col2\" class=\"data row9 col2\" >11</td>\n      <td id=\"T_9964c_row9_col3\" class=\"data row9 col3\" >18</td>\n    </tr>\n  </tbody>\n</table>\n"
     },
     "metadata": {},
     "output_type": "display_data"
    },
    {
     "name": "stdout",
     "output_type": "stream",
     "text": [
      "\n"
     ]
    },
    {
     "data": {
      "text/plain": "{'accuracy': 0.9702486678507993,\n 'precision': 0.9704735005445301,\n 'recall': 0.9701257026695759,\n 'f1_score': 0.9702060735419545}"
     },
     "execution_count": 21,
     "metadata": {},
     "output_type": "execute_result"
    }
   ],
   "source": [
    "metrics = MulticlassClassificationMetrics(val_ds_y, ans_val_loss)\n",
    "print(metrics)\n",
    "metrics.metrics()"
   ]
  },
  {
   "cell_type": "markdown",
   "metadata": {
    "id": "nJA6OLqRdECx"
   },
   "source": [
    "- $FN_1=28$.\n",
    "- $FP_1=19$.\n",
    "- $FP_2=18$.\n",
    "- $FP_3=18$.\n",
    "- $FN_3=16$.\n",
    "- $FN_8=15$.\n",
    "\n",
    "Модель очень плохо справляется с единицами. Так же можно сказать что 2 и 3 модель часто угадывает ложно.\n",
    "\n",
    "Метрики хуже, чем у accuracy чекпоинта. Но все равно посмотрим, что скажут метрики kaggle."
   ]
  },
  {
   "cell_type": "markdown",
   "metadata": {
    "id": "A8jwTaCNdECx"
   },
   "source": [
    "### F1-score чекпоинт"
   ]
  },
  {
   "cell_type": "code",
   "execution_count": 22,
   "metadata": {
    "id": "_OupAVHFdECx",
    "outputId": "2c8c2571-c87d-41ff-d7ca-e5fb0db6ce1a",
    "colab": {
     "base_uri": "https://localhost:8080/",
     "height": 535
    },
    "executionInfo": {
     "status": "ok",
     "timestamp": 1681248371099,
     "user_tz": -180,
     "elapsed": 6,
     "user": {
      "displayName": "Михаил Глазов",
      "userId": "14831628976106288763"
     }
    }
   },
   "outputs": [
    {
     "data": {
      "text/plain": "<pandas.io.formats.style.Styler at 0x1927b7276a0>",
      "text/html": "<style type=\"text/css\">\n#T_06bdb * {\n  background-color: darkgreen;\n  color: white;\n  font-size: 12pt;\n}\n#T_06bdb td:hover {\n  background-color: green;\n  color: white;\n}\n#T_06bdb_row0_col0, #T_06bdb_row0_col1, #T_06bdb_row0_col2, #T_06bdb_row0_col3, #T_06bdb_row1_col0, #T_06bdb_row1_col1, #T_06bdb_row1_col2, #T_06bdb_row1_col3, #T_06bdb_row2_col0, #T_06bdb_row2_col1, #T_06bdb_row2_col2, #T_06bdb_row2_col3, #T_06bdb_row3_col0, #T_06bdb_row3_col1, #T_06bdb_row3_col2, #T_06bdb_row3_col3, #T_06bdb_row4_col0, #T_06bdb_row4_col1, #T_06bdb_row4_col2, #T_06bdb_row4_col3, #T_06bdb_row5_col0, #T_06bdb_row5_col1, #T_06bdb_row5_col2, #T_06bdb_row5_col3, #T_06bdb_row6_col0, #T_06bdb_row6_col1, #T_06bdb_row6_col2, #T_06bdb_row6_col3, #T_06bdb_row7_col0, #T_06bdb_row7_col1, #T_06bdb_row7_col2, #T_06bdb_row7_col3, #T_06bdb_row8_col0, #T_06bdb_row8_col1, #T_06bdb_row8_col2, #T_06bdb_row8_col3, #T_06bdb_row9_col0, #T_06bdb_row9_col1, #T_06bdb_row9_col2, #T_06bdb_row9_col3 {\n  background-color: lightgreen;\n  color: black;\n  font-size: 12pt;\n}\n</style>\n<table id=\"T_06bdb\">\n  <thead>\n    <tr>\n      <th class=\"blank level0\" >&nbsp;</th>\n      <th id=\"T_06bdb_level0_col0\" class=\"col_heading level0 col0\" >TP</th>\n      <th id=\"T_06bdb_level0_col1\" class=\"col_heading level0 col1\" >TN</th>\n      <th id=\"T_06bdb_level0_col2\" class=\"col_heading level0 col2\" >FP</th>\n      <th id=\"T_06bdb_level0_col3\" class=\"col_heading level0 col3\" >FN</th>\n    </tr>\n    <tr>\n      <th class=\"index_name level0\" >class_type</th>\n      <th class=\"blank col0\" >&nbsp;</th>\n      <th class=\"blank col1\" >&nbsp;</th>\n      <th class=\"blank col2\" >&nbsp;</th>\n      <th class=\"blank col3\" >&nbsp;</th>\n    </tr>\n  </thead>\n  <tbody>\n    <tr>\n      <th id=\"T_06bdb_level0_row0\" class=\"row_heading level0 row0\" >0</th>\n      <td id=\"T_06bdb_row0_col0\" class=\"data row0 col0\" >670</td>\n      <td id=\"T_06bdb_row0_col1\" class=\"data row0 col1\" >6063</td>\n      <td id=\"T_06bdb_row0_col2\" class=\"data row0 col2\" >12</td>\n      <td id=\"T_06bdb_row0_col3\" class=\"data row0 col3\" >11</td>\n    </tr>\n    <tr>\n      <th id=\"T_06bdb_level0_row1\" class=\"row_heading level0 row1\" >1</th>\n      <td id=\"T_06bdb_row1_col0\" class=\"data row1 col0\" >628</td>\n      <td id=\"T_06bdb_row1_col1\" class=\"data row1 col1\" >6078</td>\n      <td id=\"T_06bdb_row1_col2\" class=\"data row1 col2\" >25</td>\n      <td id=\"T_06bdb_row1_col3\" class=\"data row1 col3\" >25</td>\n    </tr>\n    <tr>\n      <th id=\"T_06bdb_level0_row2\" class=\"row_heading level0 row2\" >2</th>\n      <td id=\"T_06bdb_row2_col0\" class=\"data row2 col0\" >659</td>\n      <td id=\"T_06bdb_row2_col1\" class=\"data row2 col1\" >6064</td>\n      <td id=\"T_06bdb_row2_col2\" class=\"data row2 col2\" >22</td>\n      <td id=\"T_06bdb_row2_col3\" class=\"data row2 col3\" >11</td>\n    </tr>\n    <tr>\n      <th id=\"T_06bdb_level0_row3\" class=\"row_heading level0 row3\" >3</th>\n      <td id=\"T_06bdb_row3_col0\" class=\"data row3 col0\" >659</td>\n      <td id=\"T_06bdb_row3_col1\" class=\"data row3 col1\" >6050</td>\n      <td id=\"T_06bdb_row3_col2\" class=\"data row3 col2\" >17</td>\n      <td id=\"T_06bdb_row3_col3\" class=\"data row3 col3\" >30</td>\n    </tr>\n    <tr>\n      <th id=\"T_06bdb_level0_row4\" class=\"row_heading level0 row4\" >4</th>\n      <td id=\"T_06bdb_row4_col0\" class=\"data row4 col0\" >644</td>\n      <td id=\"T_06bdb_row4_col1\" class=\"data row4 col1\" >6091</td>\n      <td id=\"T_06bdb_row4_col2\" class=\"data row4 col2\" >8</td>\n      <td id=\"T_06bdb_row4_col3\" class=\"data row4 col3\" >13</td>\n    </tr>\n    <tr>\n      <th id=\"T_06bdb_level0_row5\" class=\"row_heading level0 row5\" >5</th>\n      <td id=\"T_06bdb_row5_col0\" class=\"data row5 col0\" >658</td>\n      <td id=\"T_06bdb_row5_col1\" class=\"data row5 col1\" >6063</td>\n      <td id=\"T_06bdb_row5_col2\" class=\"data row5 col2\" >8</td>\n      <td id=\"T_06bdb_row5_col3\" class=\"data row5 col3\" >27</td>\n    </tr>\n    <tr>\n      <th id=\"T_06bdb_level0_row6\" class=\"row_heading level0 row6\" >6</th>\n      <td id=\"T_06bdb_row6_col0\" class=\"data row6 col0\" >638</td>\n      <td id=\"T_06bdb_row6_col1\" class=\"data row6 col1\" >6087</td>\n      <td id=\"T_06bdb_row6_col2\" class=\"data row6 col2\" >24</td>\n      <td id=\"T_06bdb_row6_col3\" class=\"data row6 col3\" >7</td>\n    </tr>\n    <tr>\n      <th id=\"T_06bdb_level0_row7\" class=\"row_heading level0 row7\" >7</th>\n      <td id=\"T_06bdb_row7_col0\" class=\"data row7 col0\" >682</td>\n      <td id=\"T_06bdb_row7_col1\" class=\"data row7 col1\" >6055</td>\n      <td id=\"T_06bdb_row7_col2\" class=\"data row7 col2\" >9</td>\n      <td id=\"T_06bdb_row7_col3\" class=\"data row7 col3\" >10</td>\n    </tr>\n    <tr>\n      <th id=\"T_06bdb_level0_row8\" class=\"row_heading level0 row8\" >8</th>\n      <td id=\"T_06bdb_row8_col0\" class=\"data row8 col0\" >660</td>\n      <td id=\"T_06bdb_row8_col1\" class=\"data row8 col1\" >6061</td>\n      <td id=\"T_06bdb_row8_col2\" class=\"data row8 col2\" >23</td>\n      <td id=\"T_06bdb_row8_col3\" class=\"data row8 col3\" >12</td>\n    </tr>\n    <tr>\n      <th id=\"T_06bdb_level0_row9\" class=\"row_heading level0 row9\" >9</th>\n      <td id=\"T_06bdb_row9_col0\" class=\"data row9 col0\" >695</td>\n      <td id=\"T_06bdb_row9_col1\" class=\"data row9 col1\" >6029</td>\n      <td id=\"T_06bdb_row9_col2\" class=\"data row9 col2\" >15</td>\n      <td id=\"T_06bdb_row9_col3\" class=\"data row9 col3\" >17</td>\n    </tr>\n  </tbody>\n</table>\n"
     },
     "metadata": {},
     "output_type": "display_data"
    },
    {
     "name": "stdout",
     "output_type": "stream",
     "text": [
      "\n"
     ]
    },
    {
     "data": {
      "text/plain": "{'accuracy': 0.9758732978093546,\n 'precision': 0.975830443761429,\n 'recall': 0.9759363073285364,\n 'f1_score': 0.9758242053728801}"
     },
     "execution_count": 22,
     "metadata": {},
     "output_type": "execute_result"
    }
   ],
   "source": [
    "metrics = MulticlassClassificationMetrics(val_ds_y, ans_val_f1_score)\n",
    "print(metrics)\n",
    "metrics.metrics()"
   ]
  },
  {
   "cell_type": "markdown",
   "metadata": {
    "id": "-zzPcbmSdECx"
   },
   "source": [
    "- $FN_1=19$.\n",
    "- $FP_2=19$.\n",
    "\n",
    "Модель плохо справляется с единицами и двойками.\n",
    "\n",
    "Метрики неплохие."
   ]
  },
  {
   "cell_type": "markdown",
   "source": [
    "### Среднее скользящее по accuracy чекпоинт"
   ],
   "metadata": {
    "id": "-RomA9mSnbEX"
   }
  },
  {
   "cell_type": "code",
   "source": [
    "metrics = MulticlassClassificationMetrics(val_ds_y, ans_val_avg_categorical_accuracy)\n",
    "print(metrics)\n",
    "metrics.metrics()"
   ],
   "metadata": {
    "colab": {
     "base_uri": "https://localhost:8080/",
     "height": 535
    },
    "id": "FbPidiv_nzkj",
    "executionInfo": {
     "status": "ok",
     "timestamp": 1681248377191,
     "user_tz": -180,
     "elapsed": 444,
     "user": {
      "displayName": "Михаил Глазов",
      "userId": "14831628976106288763"
     }
    },
    "outputId": "abbba389-7a88-4a29-cb41-85d647743fa6"
   },
   "execution_count": 23,
   "outputs": [
    {
     "data": {
      "text/plain": "<pandas.io.formats.style.Styler at 0x1927cfd0a60>",
      "text/html": "<style type=\"text/css\">\n#T_bd619 * {\n  background-color: darkgreen;\n  color: white;\n  font-size: 12pt;\n}\n#T_bd619 td:hover {\n  background-color: green;\n  color: white;\n}\n#T_bd619_row0_col0, #T_bd619_row0_col1, #T_bd619_row0_col2, #T_bd619_row0_col3, #T_bd619_row1_col0, #T_bd619_row1_col1, #T_bd619_row1_col2, #T_bd619_row1_col3, #T_bd619_row2_col0, #T_bd619_row2_col1, #T_bd619_row2_col2, #T_bd619_row2_col3, #T_bd619_row3_col0, #T_bd619_row3_col1, #T_bd619_row3_col2, #T_bd619_row3_col3, #T_bd619_row4_col0, #T_bd619_row4_col1, #T_bd619_row4_col2, #T_bd619_row4_col3, #T_bd619_row5_col0, #T_bd619_row5_col1, #T_bd619_row5_col2, #T_bd619_row5_col3, #T_bd619_row6_col0, #T_bd619_row6_col1, #T_bd619_row6_col2, #T_bd619_row6_col3, #T_bd619_row7_col0, #T_bd619_row7_col1, #T_bd619_row7_col2, #T_bd619_row7_col3, #T_bd619_row8_col0, #T_bd619_row8_col1, #T_bd619_row8_col2, #T_bd619_row8_col3, #T_bd619_row9_col0, #T_bd619_row9_col1, #T_bd619_row9_col2, #T_bd619_row9_col3 {\n  background-color: lightgreen;\n  color: black;\n  font-size: 12pt;\n}\n</style>\n<table id=\"T_bd619\">\n  <thead>\n    <tr>\n      <th class=\"blank level0\" >&nbsp;</th>\n      <th id=\"T_bd619_level0_col0\" class=\"col_heading level0 col0\" >TP</th>\n      <th id=\"T_bd619_level0_col1\" class=\"col_heading level0 col1\" >TN</th>\n      <th id=\"T_bd619_level0_col2\" class=\"col_heading level0 col2\" >FP</th>\n      <th id=\"T_bd619_level0_col3\" class=\"col_heading level0 col3\" >FN</th>\n    </tr>\n    <tr>\n      <th class=\"index_name level0\" >class_type</th>\n      <th class=\"blank col0\" >&nbsp;</th>\n      <th class=\"blank col1\" >&nbsp;</th>\n      <th class=\"blank col2\" >&nbsp;</th>\n      <th class=\"blank col3\" >&nbsp;</th>\n    </tr>\n  </thead>\n  <tbody>\n    <tr>\n      <th id=\"T_bd619_level0_row0\" class=\"row_heading level0 row0\" >0</th>\n      <td id=\"T_bd619_row0_col0\" class=\"data row0 col0\" >670</td>\n      <td id=\"T_bd619_row0_col1\" class=\"data row0 col1\" >6067</td>\n      <td id=\"T_bd619_row0_col2\" class=\"data row0 col2\" >8</td>\n      <td id=\"T_bd619_row0_col3\" class=\"data row0 col3\" >11</td>\n    </tr>\n    <tr>\n      <th id=\"T_bd619_level0_row1\" class=\"row_heading level0 row1\" >1</th>\n      <td id=\"T_bd619_row1_col0\" class=\"data row1 col0\" >631</td>\n      <td id=\"T_bd619_row1_col1\" class=\"data row1 col1\" >6083</td>\n      <td id=\"T_bd619_row1_col2\" class=\"data row1 col2\" >20</td>\n      <td id=\"T_bd619_row1_col3\" class=\"data row1 col3\" >22</td>\n    </tr>\n    <tr>\n      <th id=\"T_bd619_level0_row2\" class=\"row_heading level0 row2\" >2</th>\n      <td id=\"T_bd619_row2_col0\" class=\"data row2 col0\" >656</td>\n      <td id=\"T_bd619_row2_col1\" class=\"data row2 col1\" >6071</td>\n      <td id=\"T_bd619_row2_col2\" class=\"data row2 col2\" >15</td>\n      <td id=\"T_bd619_row2_col3\" class=\"data row2 col3\" >14</td>\n    </tr>\n    <tr>\n      <th id=\"T_bd619_level0_row3\" class=\"row_heading level0 row3\" >3</th>\n      <td id=\"T_bd619_row3_col0\" class=\"data row3 col0\" >658</td>\n      <td id=\"T_bd619_row3_col1\" class=\"data row3 col1\" >6044</td>\n      <td id=\"T_bd619_row3_col2\" class=\"data row3 col2\" >23</td>\n      <td id=\"T_bd619_row3_col3\" class=\"data row3 col3\" >31</td>\n    </tr>\n    <tr>\n      <th id=\"T_bd619_level0_row4\" class=\"row_heading level0 row4\" >4</th>\n      <td id=\"T_bd619_row4_col0\" class=\"data row4 col0\" >645</td>\n      <td id=\"T_bd619_row4_col1\" class=\"data row4 col1\" >6084</td>\n      <td id=\"T_bd619_row4_col2\" class=\"data row4 col2\" >15</td>\n      <td id=\"T_bd619_row4_col3\" class=\"data row4 col3\" >12</td>\n    </tr>\n    <tr>\n      <th id=\"T_bd619_level0_row5\" class=\"row_heading level0 row5\" >5</th>\n      <td id=\"T_bd619_row5_col0\" class=\"data row5 col0\" >666</td>\n      <td id=\"T_bd619_row5_col1\" class=\"data row5 col1\" >6058</td>\n      <td id=\"T_bd619_row5_col2\" class=\"data row5 col2\" >13</td>\n      <td id=\"T_bd619_row5_col3\" class=\"data row5 col3\" >19</td>\n    </tr>\n    <tr>\n      <th id=\"T_bd619_level0_row6\" class=\"row_heading level0 row6\" >6</th>\n      <td id=\"T_bd619_row6_col0\" class=\"data row6 col0\" >638</td>\n      <td id=\"T_bd619_row6_col1\" class=\"data row6 col1\" >6095</td>\n      <td id=\"T_bd619_row6_col2\" class=\"data row6 col2\" >16</td>\n      <td id=\"T_bd619_row6_col3\" class=\"data row6 col3\" >7</td>\n    </tr>\n    <tr>\n      <th id=\"T_bd619_level0_row7\" class=\"row_heading level0 row7\" >7</th>\n      <td id=\"T_bd619_row7_col0\" class=\"data row7 col0\" >681</td>\n      <td id=\"T_bd619_row7_col1\" class=\"data row7 col1\" >6052</td>\n      <td id=\"T_bd619_row7_col2\" class=\"data row7 col2\" >12</td>\n      <td id=\"T_bd619_row7_col3\" class=\"data row7 col3\" >11</td>\n    </tr>\n    <tr>\n      <th id=\"T_bd619_level0_row8\" class=\"row_heading level0 row8\" >8</th>\n      <td id=\"T_bd619_row8_col0\" class=\"data row8 col0\" >661</td>\n      <td id=\"T_bd619_row8_col1\" class=\"data row8 col1\" >6064</td>\n      <td id=\"T_bd619_row8_col2\" class=\"data row8 col2\" >20</td>\n      <td id=\"T_bd619_row8_col3\" class=\"data row8 col3\" >11</td>\n    </tr>\n    <tr>\n      <th id=\"T_bd619_level0_row9\" class=\"row_heading level0 row9\" >9</th>\n      <td id=\"T_bd619_row9_col0\" class=\"data row9 col0\" >698</td>\n      <td id=\"T_bd619_row9_col1\" class=\"data row9 col1\" >6034</td>\n      <td id=\"T_bd619_row9_col2\" class=\"data row9 col2\" >10</td>\n      <td id=\"T_bd619_row9_col3\" class=\"data row9 col3\" >14</td>\n    </tr>\n  </tbody>\n</table>\n"
     },
     "metadata": {},
     "output_type": "display_data"
    },
    {
     "name": "stdout",
     "output_type": "stream",
     "text": [
      "\n"
     ]
    },
    {
     "data": {
      "text/plain": "{'accuracy': 0.9775014801657785,\n 'precision': 0.9774203273403206,\n 'recall': 0.9775485657050605,\n 'f1_score': 0.9774681400771211}"
     },
     "execution_count": 23,
     "metadata": {},
     "output_type": "execute_result"
    }
   ]
  },
  {
   "cell_type": "markdown",
   "source": [
    "### Скользящее среднее по F1-score чекпоинт"
   ],
   "metadata": {
    "id": "n3XxFZkGoJRz"
   }
  },
  {
   "cell_type": "code",
   "source": [
    "metrics = MulticlassClassificationMetrics(val_ds_y, ans_val_avg_f1_score)\n",
    "print(metrics)\n",
    "metrics.metrics()"
   ],
   "metadata": {
    "colab": {
     "base_uri": "https://localhost:8080/",
     "height": 535
    },
    "id": "VfiFu2NkoKUT",
    "executionInfo": {
     "status": "ok",
     "timestamp": 1681248380279,
     "user_tz": -180,
     "elapsed": 5,
     "user": {
      "displayName": "Михаил Глазов",
      "userId": "14831628976106288763"
     }
    },
    "outputId": "60c496b6-a803-48ba-e6d2-0e552b08fd59"
   },
   "execution_count": 24,
   "outputs": [
    {
     "data": {
      "text/plain": "<pandas.io.formats.style.Styler at 0x192844893c0>",
      "text/html": "<style type=\"text/css\">\n#T_c703a * {\n  background-color: darkgreen;\n  color: white;\n  font-size: 12pt;\n}\n#T_c703a td:hover {\n  background-color: green;\n  color: white;\n}\n#T_c703a_row0_col0, #T_c703a_row0_col1, #T_c703a_row0_col2, #T_c703a_row0_col3, #T_c703a_row1_col0, #T_c703a_row1_col1, #T_c703a_row1_col2, #T_c703a_row1_col3, #T_c703a_row2_col0, #T_c703a_row2_col1, #T_c703a_row2_col2, #T_c703a_row2_col3, #T_c703a_row3_col0, #T_c703a_row3_col1, #T_c703a_row3_col2, #T_c703a_row3_col3, #T_c703a_row4_col0, #T_c703a_row4_col1, #T_c703a_row4_col2, #T_c703a_row4_col3, #T_c703a_row5_col0, #T_c703a_row5_col1, #T_c703a_row5_col2, #T_c703a_row5_col3, #T_c703a_row6_col0, #T_c703a_row6_col1, #T_c703a_row6_col2, #T_c703a_row6_col3, #T_c703a_row7_col0, #T_c703a_row7_col1, #T_c703a_row7_col2, #T_c703a_row7_col3, #T_c703a_row8_col0, #T_c703a_row8_col1, #T_c703a_row8_col2, #T_c703a_row8_col3, #T_c703a_row9_col0, #T_c703a_row9_col1, #T_c703a_row9_col2, #T_c703a_row9_col3 {\n  background-color: lightgreen;\n  color: black;\n  font-size: 12pt;\n}\n</style>\n<table id=\"T_c703a\">\n  <thead>\n    <tr>\n      <th class=\"blank level0\" >&nbsp;</th>\n      <th id=\"T_c703a_level0_col0\" class=\"col_heading level0 col0\" >TP</th>\n      <th id=\"T_c703a_level0_col1\" class=\"col_heading level0 col1\" >TN</th>\n      <th id=\"T_c703a_level0_col2\" class=\"col_heading level0 col2\" >FP</th>\n      <th id=\"T_c703a_level0_col3\" class=\"col_heading level0 col3\" >FN</th>\n    </tr>\n    <tr>\n      <th class=\"index_name level0\" >class_type</th>\n      <th class=\"blank col0\" >&nbsp;</th>\n      <th class=\"blank col1\" >&nbsp;</th>\n      <th class=\"blank col2\" >&nbsp;</th>\n      <th class=\"blank col3\" >&nbsp;</th>\n    </tr>\n  </thead>\n  <tbody>\n    <tr>\n      <th id=\"T_c703a_level0_row0\" class=\"row_heading level0 row0\" >0</th>\n      <td id=\"T_c703a_row0_col0\" class=\"data row0 col0\" >670</td>\n      <td id=\"T_c703a_row0_col1\" class=\"data row0 col1\" >6067</td>\n      <td id=\"T_c703a_row0_col2\" class=\"data row0 col2\" >8</td>\n      <td id=\"T_c703a_row0_col3\" class=\"data row0 col3\" >11</td>\n    </tr>\n    <tr>\n      <th id=\"T_c703a_level0_row1\" class=\"row_heading level0 row1\" >1</th>\n      <td id=\"T_c703a_row1_col0\" class=\"data row1 col0\" >631</td>\n      <td id=\"T_c703a_row1_col1\" class=\"data row1 col1\" >6083</td>\n      <td id=\"T_c703a_row1_col2\" class=\"data row1 col2\" >20</td>\n      <td id=\"T_c703a_row1_col3\" class=\"data row1 col3\" >22</td>\n    </tr>\n    <tr>\n      <th id=\"T_c703a_level0_row2\" class=\"row_heading level0 row2\" >2</th>\n      <td id=\"T_c703a_row2_col0\" class=\"data row2 col0\" >656</td>\n      <td id=\"T_c703a_row2_col1\" class=\"data row2 col1\" >6071</td>\n      <td id=\"T_c703a_row2_col2\" class=\"data row2 col2\" >15</td>\n      <td id=\"T_c703a_row2_col3\" class=\"data row2 col3\" >14</td>\n    </tr>\n    <tr>\n      <th id=\"T_c703a_level0_row3\" class=\"row_heading level0 row3\" >3</th>\n      <td id=\"T_c703a_row3_col0\" class=\"data row3 col0\" >658</td>\n      <td id=\"T_c703a_row3_col1\" class=\"data row3 col1\" >6044</td>\n      <td id=\"T_c703a_row3_col2\" class=\"data row3 col2\" >23</td>\n      <td id=\"T_c703a_row3_col3\" class=\"data row3 col3\" >31</td>\n    </tr>\n    <tr>\n      <th id=\"T_c703a_level0_row4\" class=\"row_heading level0 row4\" >4</th>\n      <td id=\"T_c703a_row4_col0\" class=\"data row4 col0\" >645</td>\n      <td id=\"T_c703a_row4_col1\" class=\"data row4 col1\" >6084</td>\n      <td id=\"T_c703a_row4_col2\" class=\"data row4 col2\" >15</td>\n      <td id=\"T_c703a_row4_col3\" class=\"data row4 col3\" >12</td>\n    </tr>\n    <tr>\n      <th id=\"T_c703a_level0_row5\" class=\"row_heading level0 row5\" >5</th>\n      <td id=\"T_c703a_row5_col0\" class=\"data row5 col0\" >666</td>\n      <td id=\"T_c703a_row5_col1\" class=\"data row5 col1\" >6058</td>\n      <td id=\"T_c703a_row5_col2\" class=\"data row5 col2\" >13</td>\n      <td id=\"T_c703a_row5_col3\" class=\"data row5 col3\" >19</td>\n    </tr>\n    <tr>\n      <th id=\"T_c703a_level0_row6\" class=\"row_heading level0 row6\" >6</th>\n      <td id=\"T_c703a_row6_col0\" class=\"data row6 col0\" >638</td>\n      <td id=\"T_c703a_row6_col1\" class=\"data row6 col1\" >6095</td>\n      <td id=\"T_c703a_row6_col2\" class=\"data row6 col2\" >16</td>\n      <td id=\"T_c703a_row6_col3\" class=\"data row6 col3\" >7</td>\n    </tr>\n    <tr>\n      <th id=\"T_c703a_level0_row7\" class=\"row_heading level0 row7\" >7</th>\n      <td id=\"T_c703a_row7_col0\" class=\"data row7 col0\" >681</td>\n      <td id=\"T_c703a_row7_col1\" class=\"data row7 col1\" >6052</td>\n      <td id=\"T_c703a_row7_col2\" class=\"data row7 col2\" >12</td>\n      <td id=\"T_c703a_row7_col3\" class=\"data row7 col3\" >11</td>\n    </tr>\n    <tr>\n      <th id=\"T_c703a_level0_row8\" class=\"row_heading level0 row8\" >8</th>\n      <td id=\"T_c703a_row8_col0\" class=\"data row8 col0\" >661</td>\n      <td id=\"T_c703a_row8_col1\" class=\"data row8 col1\" >6064</td>\n      <td id=\"T_c703a_row8_col2\" class=\"data row8 col2\" >20</td>\n      <td id=\"T_c703a_row8_col3\" class=\"data row8 col3\" >11</td>\n    </tr>\n    <tr>\n      <th id=\"T_c703a_level0_row9\" class=\"row_heading level0 row9\" >9</th>\n      <td id=\"T_c703a_row9_col0\" class=\"data row9 col0\" >698</td>\n      <td id=\"T_c703a_row9_col1\" class=\"data row9 col1\" >6034</td>\n      <td id=\"T_c703a_row9_col2\" class=\"data row9 col2\" >10</td>\n      <td id=\"T_c703a_row9_col3\" class=\"data row9 col3\" >14</td>\n    </tr>\n  </tbody>\n</table>\n"
     },
     "metadata": {},
     "output_type": "display_data"
    },
    {
     "name": "stdout",
     "output_type": "stream",
     "text": [
      "\n"
     ]
    },
    {
     "data": {
      "text/plain": "{'accuracy': 0.9775014801657785,\n 'precision': 0.9774203273403206,\n 'recall': 0.9775485657050605,\n 'f1_score': 0.9774681400771211}"
     },
     "execution_count": 24,
     "metadata": {},
     "output_type": "execute_result"
    }
   ]
  },
  {
   "cell_type": "markdown",
   "source": [
    "### Скользящее среднее по Loss чекпоинт"
   ],
   "metadata": {
    "id": "GgRLnsAVoL8j"
   }
  },
  {
   "cell_type": "code",
   "source": [
    "metrics = MulticlassClassificationMetrics(val_ds_y, ans_val_avg_loss)\n",
    "print(metrics)\n",
    "metrics.metrics()"
   ],
   "metadata": {
    "colab": {
     "base_uri": "https://localhost:8080/",
     "height": 535
    },
    "id": "EzhQuXaMoSjz",
    "executionInfo": {
     "status": "ok",
     "timestamp": 1681248381520,
     "user_tz": -180,
     "elapsed": 8,
     "user": {
      "displayName": "Михаил Глазов",
      "userId": "14831628976106288763"
     }
    },
    "outputId": "eb61b285-9763-4da3-8781-7e369b514070"
   },
   "execution_count": 25,
   "outputs": [
    {
     "data": {
      "text/plain": "<pandas.io.formats.style.Styler at 0x19284488d30>",
      "text/html": "<style type=\"text/css\">\n#T_7989e * {\n  background-color: darkgreen;\n  color: white;\n  font-size: 12pt;\n}\n#T_7989e td:hover {\n  background-color: green;\n  color: white;\n}\n#T_7989e_row0_col0, #T_7989e_row0_col1, #T_7989e_row0_col2, #T_7989e_row0_col3, #T_7989e_row1_col0, #T_7989e_row1_col1, #T_7989e_row1_col2, #T_7989e_row1_col3, #T_7989e_row2_col0, #T_7989e_row2_col1, #T_7989e_row2_col2, #T_7989e_row2_col3, #T_7989e_row3_col0, #T_7989e_row3_col1, #T_7989e_row3_col2, #T_7989e_row3_col3, #T_7989e_row4_col0, #T_7989e_row4_col1, #T_7989e_row4_col2, #T_7989e_row4_col3, #T_7989e_row5_col0, #T_7989e_row5_col1, #T_7989e_row5_col2, #T_7989e_row5_col3, #T_7989e_row6_col0, #T_7989e_row6_col1, #T_7989e_row6_col2, #T_7989e_row6_col3, #T_7989e_row7_col0, #T_7989e_row7_col1, #T_7989e_row7_col2, #T_7989e_row7_col3, #T_7989e_row8_col0, #T_7989e_row8_col1, #T_7989e_row8_col2, #T_7989e_row8_col3, #T_7989e_row9_col0, #T_7989e_row9_col1, #T_7989e_row9_col2, #T_7989e_row9_col3 {\n  background-color: lightgreen;\n  color: black;\n  font-size: 12pt;\n}\n</style>\n<table id=\"T_7989e\">\n  <thead>\n    <tr>\n      <th class=\"blank level0\" >&nbsp;</th>\n      <th id=\"T_7989e_level0_col0\" class=\"col_heading level0 col0\" >TP</th>\n      <th id=\"T_7989e_level0_col1\" class=\"col_heading level0 col1\" >TN</th>\n      <th id=\"T_7989e_level0_col2\" class=\"col_heading level0 col2\" >FP</th>\n      <th id=\"T_7989e_level0_col3\" class=\"col_heading level0 col3\" >FN</th>\n    </tr>\n    <tr>\n      <th class=\"index_name level0\" >class_type</th>\n      <th class=\"blank col0\" >&nbsp;</th>\n      <th class=\"blank col1\" >&nbsp;</th>\n      <th class=\"blank col2\" >&nbsp;</th>\n      <th class=\"blank col3\" >&nbsp;</th>\n    </tr>\n  </thead>\n  <tbody>\n    <tr>\n      <th id=\"T_7989e_level0_row0\" class=\"row_heading level0 row0\" >0</th>\n      <td id=\"T_7989e_row0_col0\" class=\"data row0 col0\" >670</td>\n      <td id=\"T_7989e_row0_col1\" class=\"data row0 col1\" >6067</td>\n      <td id=\"T_7989e_row0_col2\" class=\"data row0 col2\" >8</td>\n      <td id=\"T_7989e_row0_col3\" class=\"data row0 col3\" >11</td>\n    </tr>\n    <tr>\n      <th id=\"T_7989e_level0_row1\" class=\"row_heading level0 row1\" >1</th>\n      <td id=\"T_7989e_row1_col0\" class=\"data row1 col0\" >627</td>\n      <td id=\"T_7989e_row1_col1\" class=\"data row1 col1\" >6081</td>\n      <td id=\"T_7989e_row1_col2\" class=\"data row1 col2\" >22</td>\n      <td id=\"T_7989e_row1_col3\" class=\"data row1 col3\" >26</td>\n    </tr>\n    <tr>\n      <th id=\"T_7989e_level0_row2\" class=\"row_heading level0 row2\" >2</th>\n      <td id=\"T_7989e_row2_col0\" class=\"data row2 col0\" >658</td>\n      <td id=\"T_7989e_row2_col1\" class=\"data row2 col1\" >6072</td>\n      <td id=\"T_7989e_row2_col2\" class=\"data row2 col2\" >14</td>\n      <td id=\"T_7989e_row2_col3\" class=\"data row2 col3\" >12</td>\n    </tr>\n    <tr>\n      <th id=\"T_7989e_level0_row3\" class=\"row_heading level0 row3\" >3</th>\n      <td id=\"T_7989e_row3_col0\" class=\"data row3 col0\" >663</td>\n      <td id=\"T_7989e_row3_col1\" class=\"data row3 col1\" >6044</td>\n      <td id=\"T_7989e_row3_col2\" class=\"data row3 col2\" >23</td>\n      <td id=\"T_7989e_row3_col3\" class=\"data row3 col3\" >26</td>\n    </tr>\n    <tr>\n      <th id=\"T_7989e_level0_row4\" class=\"row_heading level0 row4\" >4</th>\n      <td id=\"T_7989e_row4_col0\" class=\"data row4 col0\" >648</td>\n      <td id=\"T_7989e_row4_col1\" class=\"data row4 col1\" >6084</td>\n      <td id=\"T_7989e_row4_col2\" class=\"data row4 col2\" >15</td>\n      <td id=\"T_7989e_row4_col3\" class=\"data row4 col3\" >9</td>\n    </tr>\n    <tr>\n      <th id=\"T_7989e_level0_row5\" class=\"row_heading level0 row5\" >5</th>\n      <td id=\"T_7989e_row5_col0\" class=\"data row5 col0\" >665</td>\n      <td id=\"T_7989e_row5_col1\" class=\"data row5 col1\" >6055</td>\n      <td id=\"T_7989e_row5_col2\" class=\"data row5 col2\" >16</td>\n      <td id=\"T_7989e_row5_col3\" class=\"data row5 col3\" >20</td>\n    </tr>\n    <tr>\n      <th id=\"T_7989e_level0_row6\" class=\"row_heading level0 row6\" >6</th>\n      <td id=\"T_7989e_row6_col0\" class=\"data row6 col0\" >636</td>\n      <td id=\"T_7989e_row6_col1\" class=\"data row6 col1\" >6098</td>\n      <td id=\"T_7989e_row6_col2\" class=\"data row6 col2\" >13</td>\n      <td id=\"T_7989e_row6_col3\" class=\"data row6 col3\" >9</td>\n    </tr>\n    <tr>\n      <th id=\"T_7989e_level0_row7\" class=\"row_heading level0 row7\" >7</th>\n      <td id=\"T_7989e_row7_col0\" class=\"data row7 col0\" >678</td>\n      <td id=\"T_7989e_row7_col1\" class=\"data row7 col1\" >6052</td>\n      <td id=\"T_7989e_row7_col2\" class=\"data row7 col2\" >12</td>\n      <td id=\"T_7989e_row7_col3\" class=\"data row7 col3\" >14</td>\n    </tr>\n    <tr>\n      <th id=\"T_7989e_level0_row8\" class=\"row_heading level0 row8\" >8</th>\n      <td id=\"T_7989e_row8_col0\" class=\"data row8 col0\" >660</td>\n      <td id=\"T_7989e_row8_col1\" class=\"data row8 col1\" >6069</td>\n      <td id=\"T_7989e_row8_col2\" class=\"data row8 col2\" >15</td>\n      <td id=\"T_7989e_row8_col3\" class=\"data row8 col3\" >12</td>\n    </tr>\n    <tr>\n      <th id=\"T_7989e_level0_row9\" class=\"row_heading level0 row9\" >9</th>\n      <td id=\"T_7989e_row9_col0\" class=\"data row9 col0\" >700</td>\n      <td id=\"T_7989e_row9_col1\" class=\"data row9 col1\" >6031</td>\n      <td id=\"T_7989e_row9_col2\" class=\"data row9 col2\" >13</td>\n      <td id=\"T_7989e_row9_col3\" class=\"data row9 col3\" >12</td>\n    </tr>\n  </tbody>\n</table>\n"
     },
     "metadata": {},
     "output_type": "display_data"
    },
    {
     "name": "stdout",
     "output_type": "stream",
     "text": [
      "\n"
     ]
    },
    {
     "data": {
      "text/plain": "{'accuracy': 0.9776494967436353,\n 'precision': 0.9775944797585646,\n 'recall': 0.977659326570184,\n 'f1_score': 0.9776202940003177}"
     },
     "execution_count": 25,
     "metadata": {},
     "output_type": "execute_result"
    }
   ]
  },
  {
   "cell_type": "markdown",
   "metadata": {
    "id": "ZCxq9l4W1h0D"
   },
   "source": [
    "- Сохраняем ответы."
   ]
  },
  {
   "cell_type": "code",
   "execution_count": 28,
   "metadata": {
    "id": "bQvnLPPp1h0D",
    "executionInfo": {
     "status": "ok",
     "timestamp": 1681248832473,
     "user_tz": -180,
     "elapsed": 20927,
     "user": {
      "displayName": "Михаил Глазов",
      "userId": "14831628976106288763"
     }
    }
   },
   "outputs": [],
   "source": [
    "# ans_test_categorical_accuracy = make_ans_file(model_categorical_acc, test_ds, f'./models/answers/model{num_model}_categorical_accuracy.csv')\n",
    "# ans_test_f1_score = make_ans_file(model_f1_score, test_ds, f'./models/answers/model{num_model}_f1_score.csv')\n",
    "# ans_test_loss = make_ans_file(model_loss, test_ds, f'./models/answers/model{num_model}_loss.csv')\n",
    "# ans_test_avg_categorical_accuracy = make_ans_file(model_avg_categorical_acc, test_ds, f'./models/answers/model{num_model}_avg_categorical_accuracy.csv')\n",
    "# ans_test_avg_f1_score = make_ans_file(model_avg_f1_score, test_ds, f'./models/answers/model{num_model}_avg_f1_score.csv')\n",
    "# ans_test_avg_loss = make_ans_file(model_avg_loss, test_ds, f'./models/answers/model{num_model}_avg_loss.csv')\n",
    "\n",
    "\n",
    "ans_test_categorical_accuracy = make_ans_file(model_categorical_acc, test_ds, f'../answers/model{num_model}_categorical_accuracy.csv')\n",
    "# ans_test_f1_score = make_ans_file(model_f1_score, test_ds, f'../answers/model{num_model}_f1_score.csv')\n",
    "ans_test_loss = make_ans_file(model_loss, test_ds, f'../answers/model{num_model}_loss.csv')\n",
    "ans_test_avg_categorical_accuracy = make_ans_file(model_avg_categorical_acc, test_ds, f'../answers/model{num_model}_avg_categorical_accuracy.csv')\n",
    "# ans_test_avg_f1_score = make_ans_file(model_avg_f1_score, test_ds, f'../answers/model{num_model}_avg_f1_score.csv')\n",
    "ans_test_avg_loss = make_ans_file(model_avg_loss, test_ds, f'../answers/model{num_model}_avg_loss.csv')"
   ]
  },
  {
   "cell_type": "markdown",
   "metadata": {
    "id": "zEJYFGnE1h0E"
   },
   "source": [
    "Проверяем ответы (одинаковые они или нет), чтоб не терять кол-во отправок ответов на kaggle в день."
   ]
  },
  {
   "cell_type": "code",
   "execution_count": 29,
   "metadata": {
    "id": "hf3v3GDL1h0N",
    "outputId": "aa27e227-00ca-47c2-8b1a-dd6d4d9c6203",
    "colab": {
     "base_uri": "https://localhost:8080/"
    },
    "executionInfo": {
     "status": "ok",
     "timestamp": 1681248837597,
     "user_tz": -180,
     "elapsed": 3,
     "user": {
      "displayName": "Михаил Глазов",
      "userId": "14831628976106288763"
     }
    }
   },
   "outputs": [
    {
     "name": "stdout",
     "output_type": "stream",
     "text": [
      "чекпоинты 1 и 2 одинаковые\n",
      "чекпоинты 4 и 5 одинаковые\n"
     ]
    }
   ],
   "source": [
    "for i in range(len(anss) - 1):\n",
    "    for j in range(i + 1, len(anss)):\n",
    "        if np.all(anss[i] == anss[j]):\n",
    "            print(f'чекпоинты {i + 1} и {j + 1} одинаковые')"
   ]
  },
  {
   "cell_type": "markdown",
   "metadata": {
    "id": "sroqKcdL1h0O"
   },
   "source": [
    "Все ответы разные, поэтому отправляем все на kaggle"
   ]
  },
  {
   "cell_type": "markdown",
   "metadata": {
    "id": "Oqwfnt9ydECy"
   },
   "source": [
    "- Accuracy чекпоинт: 0.93493\n",
    "- Loss чекпоинт: 0.92866"
   ]
  }
 ],
 "metadata": {
  "colab": {
   "provenance": []
  },
  "kernelspec": {
   "display_name": "Python 3",
   "language": "python",
   "name": "python3"
  },
  "language_info": {
   "codemirror_mode": {
    "name": "ipython",
    "version": 3
   },
   "file_extension": ".py",
   "mimetype": "text/x-python",
   "name": "python",
   "nbconvert_exporter": "python",
   "pygments_lexer": "ipython3",
   "version": "3.10.10"
  },
  "orig_nbformat": 4,
  "accelerator": "GPU",
  "gpuClass": "standard"
 },
 "nbformat": 4,
 "nbformat_minor": 0
}
