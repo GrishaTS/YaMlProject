{
 "cells": [
  {
   "cell_type": "code",
   "execution_count": 88,
   "metadata": {},
   "outputs": [],
   "source": [
    "import pickle\n",
    "import numpy as np\n",
    "import pandas as pd"
   ]
  },
  {
   "cell_type": "code",
   "execution_count": 89,
   "metadata": {},
   "outputs": [],
   "source": [
    "pred_s6 = pickle.load(open('../checkpoint_answers/model_s_6_avg_f1_score.h5', 'rb'))\n",
    "pred_g11 = pickle.load(open('../checkpoint_answers/model_g_11_avg_f1_score.h5', 'rb'))"
   ]
  },
  {
   "cell_type": "code",
   "execution_count": 90,
   "metadata": {},
   "outputs": [
    {
     "data": {
      "text/plain": [
       "(25000, 10)"
      ]
     },
     "execution_count": 90,
     "metadata": {},
     "output_type": "execute_result"
    }
   ],
   "source": [
    "ovas = []\n",
    "for i in ['zero', 'one', 'two', 'three', 'four', 'five', 'six', 'seven', 'eight', 'nine']:\n",
    "    ovas.append(pickle.load(open(f'../checkpoint_answers/model_{i}_avg_categorical_accuracy.h5', 'rb')))\n",
    "ovas = np.column_stack(ovas)\n",
    "ovas.shape"
   ]
  },
  {
   "cell_type": "code",
   "execution_count": 91,
   "metadata": {},
   "outputs": [],
   "source": [
    "ans = (pred_s6 + pred_g11) / 2"
   ]
  },
  {
   "cell_type": "code",
   "execution_count": 92,
   "metadata": {},
   "outputs": [],
   "source": [
    "# ensemble_model_name = 'ensemble_g_7_all'\n",
    "# ans = pd.DataFrame({'Id': np.arange(ans.shape[0]), 'Category': ans})\n",
    "# ans.to_csv(f'../answers/{ensemble_model_name}.csv', index=False)"
   ]
  },
  {
   "cell_type": "code",
   "execution_count": 93,
   "metadata": {},
   "outputs": [],
   "source": [
    "for i in range(10):\n",
    "    ans1 = ans.copy()\n",
    "    ans1[:, i] = ovas[:, i]\n",
    "    ans1 = np.argmax(ans1, axis=-1)\n",
    "    ensemble_model_name = f'ensemble_g_7_{i}'\n",
    "    ans_file = pd.DataFrame({'Id': np.arange(ans1.shape[0]), 'Category': ans1})\n",
    "    ans_file.to_csv(f'../answers/{ensemble_model_name}.csv', index=False)"
   ]
  },
  {
   "cell_type": "code",
   "execution_count": 94,
   "metadata": {},
   "outputs": [],
   "source": [
    "def f(x):\n",
    "    return sorted(map(lambda x: (x[1], x[0]), filter(lambda x: x[1] > 0, enumerate(x))), key=lambda x: x[1], reverse=True)"
   ]
  },
  {
   "cell_type": "code",
   "execution_count": 95,
   "metadata": {},
   "outputs": [
    {
     "data": {
      "text/plain": [
       "(array([ -7.1405587,  -6.112155 ,  -7.0942984,  -2.157643 , -11.490736 ,\n",
       "          9.057835 ,  -5.695767 ,  -4.30681  , -10.373303 ,  -2.5170908],\n",
       "       dtype=float32),\n",
       " array([-16.372932 , -13.989403 , -12.656205 ,  -0.1026834, -15.647539 ,\n",
       "         14.554334 , -13.3617325,  -8.468777 , -20.558369 ,  -7.6444073],\n",
       "       dtype=float32),\n",
       " array([-16.092613, -30.111294, -19.372639, -17.52673 , -20.258436,\n",
       "         17.768173, -12.715565, -15.55067 , -22.144842, -16.646185],\n",
       "       dtype=float32))"
      ]
     },
     "execution_count": 95,
     "metadata": {},
     "output_type": "execute_result"
    }
   ],
   "source": [
    "pred_s6[0], pred_g11[0], ovas[0]"
   ]
  },
  {
   "cell_type": "code",
   "execution_count": 96,
   "metadata": {},
   "outputs": [],
   "source": [
    "ans = np.argmax(np.max(np.dstack([pred_s6, pred_g11, ovas]), axis=-1), axis=-1)"
   ]
  },
  {
   "cell_type": "code",
   "execution_count": 97,
   "metadata": {},
   "outputs": [
    {
     "data": {
      "text/plain": [
       "array([5, 4, 1, ..., 0, 9, 2], dtype=int64)"
      ]
     },
     "execution_count": 97,
     "metadata": {},
     "output_type": "execute_result"
    }
   ],
   "source": [
    "ans"
   ]
  },
  {
   "cell_type": "code",
   "execution_count": 98,
   "metadata": {},
   "outputs": [],
   "source": [
    "ensemble_model_name = 'ensemble_g_7_sem5_test'\n",
    "ans = pd.DataFrame({'Id': np.arange(ans.shape[0]), 'Category': ans})\n",
    "ans.to_csv(f'../answers/{ensemble_model_name}.csv', index=False)"
   ]
  },
  {
   "cell_type": "code",
   "execution_count": null,
   "metadata": {},
   "outputs": [],
   "source": []
  }
 ],
 "metadata": {
  "kernelspec": {
   "display_name": "Python 3",
   "language": "python",
   "name": "python3"
  },
  "language_info": {
   "codemirror_mode": {
    "name": "ipython",
    "version": 3
   },
   "file_extension": ".py",
   "mimetype": "text/x-python",
   "name": "python",
   "nbconvert_exporter": "python",
   "pygments_lexer": "ipython3",
   "version": "3.10.10"
  },
  "orig_nbformat": 4
 },
 "nbformat": 4,
 "nbformat_minor": 2
}
