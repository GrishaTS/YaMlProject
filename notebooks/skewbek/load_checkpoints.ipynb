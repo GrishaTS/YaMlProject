{
 "cells": [
  {
   "cell_type": "markdown",
   "source": [
    "Перебор всех чекпоинтов"
   ],
   "metadata": {
    "collapsed": false
   }
  },
  {
   "cell_type": "code",
   "execution_count": 11,
   "metadata": {
    "collapsed": true
   },
   "outputs": [],
   "source": [
    "import os\n",
    "import pickle\n",
    "\n",
    "from core.datasets import open_f\n",
    "import tensorflow as tf"
   ]
  },
  {
   "cell_type": "markdown",
   "source": [
    "скачивание тестового датасета"
   ],
   "metadata": {
    "collapsed": false
   }
  },
  {
   "cell_type": "code",
   "execution_count": 5,
   "outputs": [],
   "source": [
    "data_test = open_f('repaired_data_test', back=2)\n",
    "test_ds = data_test['images'] / 255."
   ],
   "metadata": {
    "collapsed": false
   }
  },
  {
   "cell_type": "code",
   "execution_count": 20,
   "outputs": [
    {
     "name": "stdout",
     "output_type": "stream",
     "text": [
      "..\\..\\models\\checkpoints\\model4_categorical_accuracy.h5\n",
      "782/782 [==============================] - 19s 24ms/step\n",
      "..\\..\\models\\checkpoints\\model4_f1_score.h5\n",
      "782/782 [==============================] - 20s 25ms/step\n",
      "..\\..\\models\\checkpoints\\model4_loss.h5\n",
      "782/782 [==============================] - 20s 25ms/step\n",
      "..\\..\\models\\checkpoints\\model_C_EN_1_categorical_accuracy.h5\n",
      "782/782 [==============================] - 25s 32ms/step\n",
      "..\\..\\models\\checkpoints\\model_C_EN_1_f1_score.h5\n",
      "782/782 [==============================] - 25s 32ms/step\n",
      "..\\..\\models\\checkpoints\\model_C_EN_1_loss.h5\n",
      "782/782 [==============================] - 26s 33ms/step\n",
      "..\\..\\models\\checkpoints\\model_eight_avg_categorical_accuracy.h5\n",
      "782/782 [==============================] - 67s 85ms/step\n",
      "..\\..\\models\\checkpoints\\model_eight_avg_loss.h5\n",
      "782/782 [==============================] - 71s 90ms/step\n",
      "..\\..\\models\\checkpoints\\model_eight_categorical_accuracy.h5\n",
      "782/782 [==============================] - 71s 91ms/step\n",
      "..\\..\\models\\checkpoints\\model_eight_loss.h5\n",
      "782/782 [==============================] - 77s 98ms/step\n",
      "..\\..\\models\\checkpoints\\model_five_avg_categorical_accuracy.h5\n",
      "149/782 [====>.........................] - ETA: 59s"
     ]
    },
    {
     "name": "stderr",
     "output_type": "stream",
     "text": [
      "\n",
      "KeyboardInterrupt\n",
      "\n"
     ]
    }
   ],
   "source": [
    "directory = '..\\..\\models\\checkpoints'\n",
    "\n",
    "for model_name in os.scandir(directory):\n",
    "    answer_name = model_name.path.split('\\\\')[-1]\n",
    "\n",
    "    if not os.path.exists(f'../../models/checkpoint_answers/{answer_name}'):\n",
    "        print(model_name.path)\n",
    "        model = tf.keras.models.load_model(model_name.path, compile=False)\n",
    "\n",
    "        predict = model.predict(test_ds)\n",
    "\n",
    "        pickle.dump(predict, open(f'../../models/checkpoint_answers/{answer_name}', 'wb'), protocol=pickle.HIGHEST_PROTOCOL)\n",
    "    else:\n",
    "        print(f'{model_name.path} already downloaded')\n"
   ],
   "metadata": {
    "collapsed": false
   }
  }
 ],
 "metadata": {
  "kernelspec": {
   "display_name": "Python 3",
   "language": "python",
   "name": "python3"
  },
  "language_info": {
   "codemirror_mode": {
    "name": "ipython",
    "version": 2
   },
   "file_extension": ".py",
   "mimetype": "text/x-python",
   "name": "python",
   "nbconvert_exporter": "python",
   "pygments_lexer": "ipython2",
   "version": "2.7.6"
  }
 },
 "nbformat": 4,
 "nbformat_minor": 0
}
