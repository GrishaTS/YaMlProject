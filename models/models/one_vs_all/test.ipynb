{
 "cells": [
  {
   "attachments": {},
   "cell_type": "markdown",
   "metadata": {},
   "source": [
    "# Проверка работоспособности.\n",
    "\n",
    "Я написал 10 моделей one vs all для каждого класса.\n",
    "\n",
    "Сейчас мы попробуем из всех них составить единый файл с ответам и закинуть на kaggle."
   ]
  },
  {
   "attachments": {},
   "cell_type": "markdown",
   "metadata": {},
   "source": [
    "импорт необходимых библиотек"
   ]
  },
  {
   "cell_type": "code",
   "execution_count": 1,
   "metadata": {},
   "outputs": [
    {
     "name": "stderr",
     "output_type": "stream",
     "text": [
      "c:\\Users\\Mi\\Desktop\\ML\\.conda\\lib\\site-packages\\tensorflow_addons\\utils\\tfa_eol_msg.py:23: UserWarning: \n",
      "\n",
      "TensorFlow Addons (TFA) has ended development and introduction of new features.\n",
      "TFA has entered a minimal maintenance and release mode until a planned end of life in May 2024.\n",
      "Please modify downstream libraries to take dependencies from other repositories in our TensorFlow community (e.g. Keras, Keras-CV, and Keras-NLP). \n",
      "\n",
      "For more information see: https://github.com/tensorflow/addons/issues/2807 \n",
      "\n",
      "  warnings.warn(\n"
     ]
    }
   ],
   "source": [
    "import sys\n",
    "\n",
    "import pandas as pd\n",
    "import numpy as np\n",
    "import tensorflow as tf\n",
    "import tensorflow_addons as tfa\n",
    "\n",
    "sys.path.append('../../../')\n",
    "\n",
    "from core.datasets import open_f"
   ]
  },
  {
   "attachments": {},
   "cell_type": "markdown",
   "metadata": {},
   "source": [
    "Скачиваем тестовый датасет"
   ]
  },
  {
   "cell_type": "code",
   "execution_count": 2,
   "metadata": {},
   "outputs": [],
   "source": [
    "test_ds = open_f('repaired_data_test', back=3)['images'] / 255"
   ]
  },
  {
   "attachments": {},
   "cell_type": "markdown",
   "metadata": {},
   "source": [
    "# Рассмотрим все avg acc чекпоинты "
   ]
  },
  {
   "cell_type": "code",
   "execution_count": 3,
   "metadata": {},
   "outputs": [],
   "source": [
    "nums = ['zero', 'one', 'two', 'three', 'four', 'five', 'six', 'seven', 'eight', 'nine']\n",
    "models = []\n",
    "for i in nums:\n",
    "    models.append(tf.keras.models.load_model(f'../../checkpoints/model_{i}_avg_categorical_accuracy.h5'))"
   ]
  },
  {
   "cell_type": "code",
   "execution_count": 4,
   "metadata": {},
   "outputs": [
    {
     "name": "stdout",
     "output_type": "stream",
     "text": [
      "782/782 [==============================] - 150s 191ms/step\n",
      "782/782 [==============================] - 147s 187ms/step\n",
      "782/782 [==============================] - 145s 184ms/step\n",
      "782/782 [==============================] - 145s 185ms/step\n",
      "782/782 [==============================] - 145s 184ms/step\n",
      "782/782 [==============================] - 145s 184ms/step\n",
      "782/782 [==============================] - 144s 184ms/step\n",
      "782/782 [==============================] - 165s 211ms/step\n",
      "782/782 [==============================] - 175s 223ms/step\n",
      "782/782 [==============================] - 153s 195ms/step\n"
     ]
    }
   ],
   "source": [
    "ans = None\n",
    "for i in models:\n",
    "    pred = i.predict(test_ds).ravel()\n",
    "    if type(ans) is type(None):\n",
    "        ans = pred\n",
    "    else:\n",
    "        ans = np.column_stack((ans, pred))"
   ]
  },
  {
   "cell_type": "code",
   "execution_count": 5,
   "metadata": {},
   "outputs": [],
   "source": [
    "full_ans = np.argmax(ans, axis=-1)"
   ]
  },
  {
   "cell_type": "code",
   "execution_count": 6,
   "metadata": {},
   "outputs": [],
   "source": [
    "file_ans = pd.DataFrame({'Id': np.arange(full_ans.shape[0]), 'Category': full_ans})\n",
    "file_ans.to_csv('../../answers/one_vs_all_avg_acc.csv', index=False)"
   ]
  },
  {
   "attachments": {},
   "cell_type": "markdown",
   "metadata": {},
   "source": [
    "# Сперва рассмотрим все acc чекпоинты "
   ]
  },
  {
   "cell_type": "code",
   "execution_count": 7,
   "metadata": {},
   "outputs": [],
   "source": [
    "nums = ['zero', 'one', 'two', 'three', 'four', 'five', 'six', 'seven', 'eight', 'nine']\n",
    "models = []\n",
    "for i in nums:\n",
    "    models.append(tf.keras.models.load_model(f'../../checkpoints/model_{i}_categorical_accuracy.h5'))"
   ]
  },
  {
   "cell_type": "code",
   "execution_count": 8,
   "metadata": {},
   "outputs": [
    {
     "name": "stdout",
     "output_type": "stream",
     "text": [
      "782/782 [==============================] - 170s 216ms/step\n",
      "782/782 [==============================] - 146s 185ms/step\n",
      "782/782 [==============================] - 192s 244ms/step\n",
      "782/782 [==============================] - 204s 259ms/step\n",
      "782/782 [==============================] - 180s 230ms/step\n",
      "782/782 [==============================] - 189s 240ms/step\n",
      "782/782 [==============================] - 178s 226ms/step\n",
      "782/782 [==============================] - 174s 221ms/step\n",
      "782/782 [==============================] - 171s 218ms/step\n",
      "782/782 [==============================] - 183s 233ms/step\n"
     ]
    }
   ],
   "source": [
    "ans = None\n",
    "for i in models:\n",
    "    pred = i.predict(test_ds).ravel()\n",
    "    if type(ans) is type(None):\n",
    "        ans = pred\n",
    "    else:\n",
    "        ans = np.column_stack((ans, pred))"
   ]
  },
  {
   "cell_type": "code",
   "execution_count": 9,
   "metadata": {},
   "outputs": [],
   "source": [
    "full_ans = np.argmax(ans, axis=-1)"
   ]
  },
  {
   "cell_type": "code",
   "execution_count": 10,
   "metadata": {},
   "outputs": [],
   "source": [
    "import pandas as pd\n",
    "file_ans = pd.DataFrame({'Id': np.arange(full_ans.shape[0]), 'Category': full_ans})\n",
    "file_ans.to_csv('../../answers/one_vs_all_acc.csv', index=False)"
   ]
  },
  {
   "attachments": {},
   "cell_type": "markdown",
   "metadata": {},
   "source": [
    "# Рассмотрим все avg loss чекпоинты "
   ]
  },
  {
   "cell_type": "code",
   "execution_count": 11,
   "metadata": {},
   "outputs": [],
   "source": [
    "nums = ['zero', 'one', 'two', 'three', 'four', 'five', 'six', 'seven', 'eight', 'nine']\n",
    "models = []\n",
    "for i in nums:\n",
    "    models.append(tf.keras.models.load_model(f'../../checkpoints/model_{i}_avg_loss.h5'))"
   ]
  },
  {
   "cell_type": "code",
   "execution_count": 12,
   "metadata": {},
   "outputs": [
    {
     "name": "stdout",
     "output_type": "stream",
     "text": [
      "782/782 [==============================] - 156s 198ms/step\n",
      "782/782 [==============================] - 151s 192ms/step\n",
      "782/782 [==============================] - 150s 191ms/step\n",
      "782/782 [==============================] - 153s 195ms/step\n",
      "782/782 [==============================] - 149s 190ms/step\n",
      "782/782 [==============================] - 149s 189ms/step\n",
      "782/782 [==============================] - 149s 189ms/step\n",
      "782/782 [==============================] - 149s 190ms/step\n",
      "782/782 [==============================] - 151s 192ms/step\n",
      "782/782 [==============================] - 150s 190ms/step\n"
     ]
    }
   ],
   "source": [
    "ans = None\n",
    "for i in models:\n",
    "    pred = i.predict(test_ds).ravel()\n",
    "    if type(ans) is type(None):\n",
    "        ans = pred\n",
    "    else:\n",
    "        ans = np.column_stack((ans, pred))"
   ]
  },
  {
   "cell_type": "code",
   "execution_count": 13,
   "metadata": {},
   "outputs": [],
   "source": [
    "full_ans = np.argmax(ans, axis=-1)"
   ]
  },
  {
   "cell_type": "code",
   "execution_count": 14,
   "metadata": {},
   "outputs": [],
   "source": [
    "file_ans = pd.DataFrame({'Id': np.arange(full_ans.shape[0]), 'Category': full_ans})\n",
    "file_ans.to_csv('../../answers/one_vs_all_avg_loss.csv', index=False)"
   ]
  },
  {
   "attachments": {},
   "cell_type": "markdown",
   "metadata": {},
   "source": [
    "# Рассмотрим все loss чекпоинты"
   ]
  },
  {
   "cell_type": "code",
   "execution_count": 15,
   "metadata": {},
   "outputs": [],
   "source": [
    "nums = ['zero', 'one', 'two', 'three', 'four', 'five', 'six', 'seven', 'eight', 'nine']\n",
    "models = []\n",
    "for i in nums:\n",
    "    models.append(tf.keras.models.load_model(f'../../checkpoints/model_{i}_loss.h5'))"
   ]
  },
  {
   "cell_type": "code",
   "execution_count": 16,
   "metadata": {},
   "outputs": [
    {
     "name": "stdout",
     "output_type": "stream",
     "text": [
      "782/782 [==============================] - 150s 191ms/step\n",
      "782/782 [==============================] - 151s 192ms/step\n",
      "782/782 [==============================] - 151s 192ms/step\n",
      "782/782 [==============================] - 151s 192ms/step\n",
      "782/782 [==============================] - 154s 196ms/step\n",
      "782/782 [==============================] - 152s 194ms/step\n",
      "782/782 [==============================] - 151s 192ms/step\n",
      "782/782 [==============================] - 151s 193ms/step\n",
      "782/782 [==============================] - 151s 192ms/step\n",
      "782/782 [==============================] - 152s 193ms/step\n"
     ]
    }
   ],
   "source": [
    "ans = None\n",
    "for i in models:\n",
    "    pred = i.predict(test_ds).ravel()\n",
    "    if type(ans) is type(None):\n",
    "        ans = pred\n",
    "    else:\n",
    "        ans = np.column_stack((ans, pred))"
   ]
  },
  {
   "cell_type": "code",
   "execution_count": 17,
   "metadata": {},
   "outputs": [],
   "source": [
    "full_ans = np.argmax(ans, axis=-1)"
   ]
  },
  {
   "cell_type": "code",
   "execution_count": 18,
   "metadata": {},
   "outputs": [],
   "source": [
    "file_ans = pd.DataFrame({'Id': np.arange(full_ans.shape[0]), 'Category': full_ans})\n",
    "file_ans.to_csv('../../answers/one_vs_all_loss.csv', index=False)"
   ]
  }
 ],
 "metadata": {
  "kernelspec": {
   "display_name": "Python 3",
   "language": "python",
   "name": "python3"
  },
  "language_info": {
   "codemirror_mode": {
    "name": "ipython",
    "version": 3
   },
   "file_extension": ".py",
   "mimetype": "text/x-python",
   "name": "python",
   "nbconvert_exporter": "python",
   "pygments_lexer": "ipython3",
   "version": "3.10.10"
  },
  "orig_nbformat": 4
 },
 "nbformat": 4,
 "nbformat_minor": 2
}
