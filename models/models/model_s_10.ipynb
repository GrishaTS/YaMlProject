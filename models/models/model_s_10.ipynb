{
 "cells": [
  {
   "cell_type": "markdown",
   "metadata": {
    "id": "r2yiHhUx-S72"
   },
   "source": [
    "# Linear model (failed)"
   ]
  },
  {
   "cell_type": "code",
   "source": [
    "from google.colab import drive\n",
    "\n",
    "drive.mount('/content/drive')"
   ],
   "metadata": {
    "colab": {
     "base_uri": "https://localhost:8080/"
    },
    "id": "QxaNXFTYAcw8",
    "executionInfo": {
     "status": "ok",
     "timestamp": 1681664389229,
     "user_tz": -180,
     "elapsed": 23339,
     "user": {
      "displayName": "Гриша Безруков",
      "userId": "02717934454974586898"
     }
    },
    "outputId": "7b8186db-34cf-4314-a218-75d6ec0a511f"
   },
   "execution_count": 3,
   "outputs": [
    {
     "output_type": "stream",
     "name": "stdout",
     "text": [
      "Mounted at /content/drive\n"
     ]
    }
   ]
  },
  {
   "cell_type": "markdown",
   "metadata": {
    "id": "svYRwNDL-S75"
   },
   "source": [
    "#### Импорт необходимых библиотек"
   ]
  },
  {
   "cell_type": "code",
   "execution_count": 1,
   "metadata": {
    "colab": {
     "base_uri": "https://localhost:8080/"
    },
    "executionInfo": {
     "elapsed": 23345,
     "status": "ok",
     "timestamp": 1681664239228,
     "user": {
      "displayName": "Гриша Безруков",
      "userId": "02717934454974586898"
     },
     "user_tz": -180
    },
    "id": "Zq7rWgSDecBY",
    "outputId": "7398dd34-6dc9-404f-c32b-b5d99e21bf83"
   },
   "outputs": [
    {
     "output_type": "stream",
     "name": "stdout",
     "text": [
      "Looking in indexes: https://pypi.org/simple, https://us-python.pkg.dev/colab-wheels/public/simple/\n",
      "Collecting tensorflow-addons\n",
      "  Downloading tensorflow_addons-0.20.0-cp39-cp39-manylinux_2_17_x86_64.manylinux2014_x86_64.whl (591 kB)\n",
      "\u001B[2K     \u001B[90m━━━━━━━━━━━━━━━━━━━━━━━━━━━━━━━━━━━━━━━\u001B[0m \u001B[32m591.0/591.0 kB\u001B[0m \u001B[31m9.9 MB/s\u001B[0m eta \u001B[36m0:00:00\u001B[0m\n",
      "\u001B[?25hRequirement already satisfied: packaging in /usr/local/lib/python3.9/dist-packages (from tensorflow-addons) (23.0)\n",
      "Collecting typeguard<3.0.0,>=2.7\n",
      "  Downloading typeguard-2.13.3-py3-none-any.whl (17 kB)\n",
      "Installing collected packages: typeguard, tensorflow-addons\n",
      "Successfully installed tensorflow-addons-0.20.0 typeguard-2.13.3\n",
      "Looking in indexes: https://pypi.org/simple, https://us-python.pkg.dev/colab-wheels/public/simple/\n",
      "Collecting livelossplot\n",
      "  Downloading livelossplot-0.5.5-py3-none-any.whl (22 kB)\n",
      "Requirement already satisfied: bokeh in /usr/local/lib/python3.9/dist-packages (from livelossplot) (2.4.3)\n",
      "Requirement already satisfied: matplotlib in /usr/local/lib/python3.9/dist-packages (from livelossplot) (3.7.1)\n",
      "Requirement already satisfied: Jinja2>=2.9 in /usr/local/lib/python3.9/dist-packages (from bokeh->livelossplot) (3.1.2)\n",
      "Requirement already satisfied: numpy>=1.11.3 in /usr/local/lib/python3.9/dist-packages (from bokeh->livelossplot) (1.22.4)\n",
      "Requirement already satisfied: pillow>=7.1.0 in /usr/local/lib/python3.9/dist-packages (from bokeh->livelossplot) (8.4.0)\n",
      "Requirement already satisfied: PyYAML>=3.10 in /usr/local/lib/python3.9/dist-packages (from bokeh->livelossplot) (6.0)\n",
      "Requirement already satisfied: packaging>=16.8 in /usr/local/lib/python3.9/dist-packages (from bokeh->livelossplot) (23.0)\n",
      "Requirement already satisfied: typing-extensions>=3.10.0 in /usr/local/lib/python3.9/dist-packages (from bokeh->livelossplot) (4.5.0)\n",
      "Requirement already satisfied: tornado>=5.1 in /usr/local/lib/python3.9/dist-packages (from bokeh->livelossplot) (6.2)\n",
      "Requirement already satisfied: importlib-resources>=3.2.0 in /usr/local/lib/python3.9/dist-packages (from matplotlib->livelossplot) (5.12.0)\n",
      "Requirement already satisfied: python-dateutil>=2.7 in /usr/local/lib/python3.9/dist-packages (from matplotlib->livelossplot) (2.8.2)\n",
      "Requirement already satisfied: fonttools>=4.22.0 in /usr/local/lib/python3.9/dist-packages (from matplotlib->livelossplot) (4.39.3)\n",
      "Requirement already satisfied: kiwisolver>=1.0.1 in /usr/local/lib/python3.9/dist-packages (from matplotlib->livelossplot) (1.4.4)\n",
      "Requirement already satisfied: contourpy>=1.0.1 in /usr/local/lib/python3.9/dist-packages (from matplotlib->livelossplot) (1.0.7)\n",
      "Requirement already satisfied: cycler>=0.10 in /usr/local/lib/python3.9/dist-packages (from matplotlib->livelossplot) (0.11.0)\n",
      "Requirement already satisfied: pyparsing>=2.3.1 in /usr/local/lib/python3.9/dist-packages (from matplotlib->livelossplot) (3.0.9)\n",
      "Requirement already satisfied: zipp>=3.1.0 in /usr/local/lib/python3.9/dist-packages (from importlib-resources>=3.2.0->matplotlib->livelossplot) (3.15.0)\n",
      "Requirement already satisfied: MarkupSafe>=2.0 in /usr/local/lib/python3.9/dist-packages (from Jinja2>=2.9->bokeh->livelossplot) (2.1.2)\n",
      "Requirement already satisfied: six>=1.5 in /usr/local/lib/python3.9/dist-packages (from python-dateutil>=2.7->matplotlib->livelossplot) (1.16.0)\n",
      "Installing collected packages: livelossplot\n",
      "Successfully installed livelossplot-0.5.5\n"
     ]
    }
   ],
   "source": [
    "!pip install tensorflow-addons\n",
    "!pip install livelossplot"
   ]
  },
  {
   "cell_type": "code",
   "execution_count": 1,
   "metadata": {
    "colab": {
     "base_uri": "https://localhost:8080/"
    },
    "executionInfo": {
     "elapsed": 7,
     "status": "ok",
     "timestamp": 1681664472194,
     "user": {
      "displayName": "Гриша Безруков",
      "userId": "02717934454974586898"
     },
     "user_tz": -180
    },
    "id": "yyTOIOizfuJ-",
    "outputId": "501f87f2-0a98-49a7-cb1e-accf322341ef"
   },
   "outputs": [
    {
     "output_type": "stream",
     "name": "stdout",
     "text": [
      "/content/drive/MyDrive/YaMlProject/models/models\n"
     ]
    }
   ],
   "source": [
    "% cd drive / MyDrive / YaMlProject / models / models"
   ]
  },
  {
   "cell_type": "code",
   "execution_count": 1,
   "metadata": {
    "colab": {
     "base_uri": "https://localhost:8080/"
    },
    "executionInfo": {
     "elapsed": 8895,
     "status": "ok",
     "timestamp": 1681664482870,
     "user": {
      "displayName": "Гриша Безруков",
      "userId": "02717934454974586898"
     },
     "user_tz": -180
    },
    "id": "nYflAO2U-S76",
    "outputId": "22dc7585-5416-487f-cbdb-4586be14f3fd"
   },
   "outputs": [
    {
     "name": "stderr",
     "output_type": "stream",
     "text": [
      "C:\\Users\\Mihail\\PycharmProjects\\YaMlProject\\venv\\lib\\site-packages\\tensorflow_addons\\utils\\tfa_eol_msg.py:23: UserWarning: \n",
      "\n",
      "TensorFlow Addons (TFA) has ended development and introduction of new features.\n",
      "TFA has entered a minimal maintenance and release mode until a planned end of life in May 2024.\n",
      "Please modify downstream libraries to take dependencies from other repositories in our TensorFlow community (e.g. Keras, Keras-CV, and Keras-NLP). \n",
      "\n",
      "For more information see: https://github.com/tensorflow/addons/issues/2807 \n",
      "\n",
      "  warnings.warn(\n"
     ]
    }
   ],
   "source": [
    "import sys\n",
    "\n",
    "import matplotlib.pyplot as plt\n",
    "import numpy as np\n",
    "import pandas as pd\n",
    "import seaborn\n",
    "import tensorflow as tf\n",
    "import tensorflow_addons as tfa\n",
    "import torchvision as tv\n",
    "from PIL import Image\n",
    "from livelossplot import PlotLossesKeras\n",
    "from sklearn.metrics import confusion_matrix\n",
    "\n",
    "sys.path.append('../../')\n",
    "\n",
    "from core.datasets import get_ds\n",
    "from core.make_answer import make_ans_file"
   ]
  },
  {
   "cell_type": "markdown",
   "metadata": {
    "id": "NR69MtS_-S77"
   },
   "source": [
    "#### Формируем аугментацию."
   ]
  },
  {
   "cell_type": "markdown",
   "metadata": {
    "id": "-2ghBgor1hzO"
   },
   "source": [
    "##### Вариант 1.\n",
    "\n",
    "- Пишите аугментацию. Объект класса tv.transforms.Compose или tv.transforms.{аугментация}"
   ]
  },
  {
   "cell_type": "code",
   "execution_count": 2,
   "metadata": {
    "executionInfo": {
     "elapsed": 6,
     "status": "ok",
     "timestamp": 1681664493460,
     "user": {
      "displayName": "Гриша Безруков",
      "userId": "02717934454974586898"
     },
     "user_tz": -180
    },
    "id": "ERpTFZ21-S77"
   },
   "outputs": [],
   "source": [
    "transformer = tv.transforms.Compose([\n",
    "    tv.transforms.ColorJitter(brightness=.2, hue=0.2, contrast=0.5),\n",
    "    tv.transforms.RandomAffine(degrees=(-12, 12), translate=(0, 0.1), scale=(0.85, 1)),\n",
    "    tv.transforms.RandomPerspective(distortion_scale=0.2, p=0.7),\n",
    "])"
   ]
  },
  {
   "cell_type": "markdown",
   "metadata": {
    "id": "T2zKYi1p-S77"
   },
   "source": [
    "#### Создаем датасеты\n",
    "```python\n",
    "get_ds(\n",
    "    file_train, `Путь к трейновому датасету`\n",
    "    file_test, `Путь к тестовому датасету`\n",
    "    transform=None,  `Аугументация`\n",
    "    batch_size=512,  `Размер батча`\n",
    "    one_hot=False,  `Формат ответов one_hot_encoding или нет`\n",
    "    val_size=0.03,  `Размер валидационного датасета, относительно data_train`\n",
    "    back=1,  `На сколько уровней в директории надо подняться наверх, чтобы дойти до корневой`\n",
    ")\n",
    "```"
   ]
  },
  {
   "cell_type": "markdown",
   "metadata": {
    "id": "QYEdAqtW1hzW"
   },
   "source": [
    "Позже мы будем делать ансамбли и похожие эвристики, поэтому всегда делайте `one_hot=True`"
   ]
  },
  {
   "cell_type": "code",
   "execution_count": 3,
   "outputs": [],
   "source": [
    "train_ds, val_ds, test_ds = get_ds('smote_data_train_7000', 'repaired_data_test', transform=transformer,\n",
    "                                   one_hot=True, back=2, batch_size=100)"
   ],
   "metadata": {
    "id": "1Mpb1H6PaXUC",
    "executionInfo": {
     "status": "ok",
     "timestamp": 1681664566764,
     "user_tz": -180,
     "elapsed": 31843,
     "user": {
      "displayName": "Гриша Безруков",
      "userId": "02717934454974586898"
     }
    }
   }
  },
  {
   "cell_type": "markdown",
   "metadata": {
    "id": "eOY8forB1hza"
   },
   "source": [
    "Для дальнейшей проверки метрик разделяем валидационный датасет на x и y"
   ]
  },
  {
   "cell_type": "code",
   "execution_count": 4,
   "metadata": {
    "executionInfo": {
     "elapsed": 3522,
     "status": "ok",
     "timestamp": 1681664570253,
     "user": {
      "displayName": "Гриша Безруков",
      "userId": "02717934454974586898"
     },
     "user_tz": -180
    },
    "id": "cXVwzb401hzb"
   },
   "outputs": [],
   "source": [
    "val_ds_x = np.array([i[0] for i in val_ds.unbatch().as_numpy_iterator()])\n",
    "val_ds_y = np.array([i[1] for i in val_ds.unbatch().as_numpy_iterator()])"
   ]
  },
  {
   "cell_type": "markdown",
   "metadata": {
    "id": "_Vcj5spc1hzc"
   },
   "source": [
    "Смотрим на получившуюся агументацию."
   ]
  },
  {
   "cell_type": "code",
   "execution_count": 9,
   "metadata": {
    "colab": {
     "base_uri": "https://localhost:8080/",
     "height": 1000
    },
    "executionInfo": {
     "elapsed": 2031,
     "status": "ok",
     "timestamp": 1681664572204,
     "user": {
      "displayName": "Гриша Безруков",
      "userId": "02717934454974586898"
     },
     "user_tz": -180
    },
    "id": "3ygOCG_F1hzc",
    "outputId": "bd1f92da-0a4a-4f5b-8c03-ccf242f156ea"
   },
   "outputs": [
    {
     "output_type": "display_data",
     "data": {
      "text/plain": [
       "<Figure size 1200x1500 with 20 Axes>"
      ],
      "image/png": "[encoded data removed]"
     },
     "metadata": {}
    }
   ],
   "source": [
    "plt.figure(figsize=(12, 15))\n",
    "train_ds_visualization = train_ds[0]\n",
    "for i in range(20):\n",
    "    plt.subplot(5, 4, i + 1)\n",
    "    img = np.array(Image.fromarray((train_ds_visualization[0][i] * 255).astype(np.uint8), 'RGB'))\n",
    "    plt.imshow(img / 255, cmap=plt.cm.binary)\n",
    "    plt.title(np.argmax(train_ds_visualization[1][i]))\n",
    "    plt.axis('off')\n",
    "plt.show()"
   ]
  },
  {
   "cell_type": "code",
   "execution_count": 10,
   "metadata": {
    "id": "6y18NiXlaXUD",
    "outputId": "b755845a-3354-49d7-e9da-aa5958024e48",
    "colab": {
     "base_uri": "https://localhost:8080/"
    },
    "executionInfo": {
     "status": "ok",
     "timestamp": 1681664583618,
     "user_tz": -180,
     "elapsed": 390,
     "user": {
      "displayName": "Гриша Безруков",
      "userId": "02717934454974586898"
     }
    }
   },
   "outputs": [
    {
     "output_type": "execute_result",
     "data": {
      "text/plain": [
       "array([[0., 0., 0., 1., 0., 0., 0., 0., 0., 0.],\n",
       "       [0., 0., 0., 0., 0., 0., 0., 0., 1., 0.],\n",
       "       [0., 0., 0., 0., 0., 0., 1., 0., 0., 0.],\n",
       "       [0., 0., 0., 0., 1., 0., 0., 0., 0., 0.],\n",
       "       [0., 0., 0., 0., 0., 0., 0., 0., 0., 1.],\n",
       "       [0., 0., 0., 0., 1., 0., 0., 0., 0., 0.],\n",
       "       [0., 0., 0., 0., 0., 0., 0., 0., 1., 0.],\n",
       "       [0., 0., 0., 1., 0., 0., 0., 0., 0., 0.],\n",
       "       [0., 0., 1., 0., 0., 0., 0., 0., 0., 0.],\n",
       "       [0., 0., 0., 0., 0., 1., 0., 0., 0., 0.],\n",
       "       [0., 0., 0., 0., 0., 0., 0., 0., 0., 1.],\n",
       "       [0., 0., 1., 0., 0., 0., 0., 0., 0., 0.],\n",
       "       [0., 0., 0., 0., 0., 1., 0., 0., 0., 0.],\n",
       "       [0., 0., 0., 0., 0., 0., 0., 0., 1., 0.],\n",
       "       [0., 0., 0., 0., 0., 0., 0., 1., 0., 0.],\n",
       "       [0., 0., 0., 0., 0., 0., 0., 1., 0., 0.],\n",
       "       [0., 0., 0., 0., 0., 0., 1., 0., 0., 0.],\n",
       "       [0., 0., 0., 0., 0., 0., 0., 1., 0., 0.],\n",
       "       [1., 0., 0., 0., 0., 0., 0., 0., 0., 0.],\n",
       "       [0., 0., 0., 0., 1., 0., 0., 0., 0., 0.],\n",
       "       [0., 0., 0., 0., 0., 0., 0., 0., 1., 0.],\n",
       "       [0., 0., 0., 0., 0., 0., 0., 0., 0., 1.],\n",
       "       [0., 0., 1., 0., 0., 0., 0., 0., 0., 0.],\n",
       "       [0., 0., 0., 0., 0., 0., 1., 0., 0., 0.],\n",
       "       [0., 0., 0., 1., 0., 0., 0., 0., 0., 0.],\n",
       "       [1., 0., 0., 0., 0., 0., 0., 0., 0., 0.],\n",
       "       [1., 0., 0., 0., 0., 0., 0., 0., 0., 0.],\n",
       "       [0., 0., 0., 0., 0., 0., 1., 0., 0., 0.],\n",
       "       [0., 0., 0., 0., 0., 1., 0., 0., 0., 0.],\n",
       "       [0., 0., 0., 0., 0., 1., 0., 0., 0., 0.],\n",
       "       [0., 0., 0., 0., 0., 0., 0., 0., 1., 0.],\n",
       "       [0., 0., 0., 0., 0., 0., 0., 0., 1., 0.],\n",
       "       [1., 0., 0., 0., 0., 0., 0., 0., 0., 0.],\n",
       "       [0., 0., 0., 0., 0., 0., 1., 0., 0., 0.],\n",
       "       [0., 0., 0., 0., 0., 0., 0., 1., 0., 0.],\n",
       "       [0., 0., 0., 0., 0., 0., 0., 0., 1., 0.],\n",
       "       [0., 0., 0., 0., 0., 1., 0., 0., 0., 0.],\n",
       "       [0., 1., 0., 0., 0., 0., 0., 0., 0., 0.],\n",
       "       [0., 0., 0., 1., 0., 0., 0., 0., 0., 0.],\n",
       "       [0., 1., 0., 0., 0., 0., 0., 0., 0., 0.],\n",
       "       [1., 0., 0., 0., 0., 0., 0., 0., 0., 0.],\n",
       "       [0., 0., 0., 0., 1., 0., 0., 0., 0., 0.],\n",
       "       [0., 0., 0., 0., 0., 0., 0., 0., 0., 1.],\n",
       "       [0., 0., 0., 1., 0., 0., 0., 0., 0., 0.],\n",
       "       [0., 1., 0., 0., 0., 0., 0., 0., 0., 0.],\n",
       "       [0., 1., 0., 0., 0., 0., 0., 0., 0., 0.],\n",
       "       [0., 0., 0., 1., 0., 0., 0., 0., 0., 0.],\n",
       "       [0., 0., 1., 0., 0., 0., 0., 0., 0., 0.],\n",
       "       [0., 0., 1., 0., 0., 0., 0., 0., 0., 0.],\n",
       "       [0., 0., 0., 0., 0., 1., 0., 0., 0., 0.],\n",
       "       [0., 0., 0., 0., 0., 0., 0., 0., 0., 1.],\n",
       "       [0., 0., 0., 0., 0., 0., 0., 1., 0., 0.],\n",
       "       [0., 0., 0., 0., 0., 1., 0., 0., 0., 0.],\n",
       "       [0., 1., 0., 0., 0., 0., 0., 0., 0., 0.],\n",
       "       [0., 0., 0., 0., 1., 0., 0., 0., 0., 0.],\n",
       "       [0., 0., 0., 0., 0., 0., 0., 0., 0., 1.],\n",
       "       [0., 0., 0., 0., 1., 0., 0., 0., 0., 0.],\n",
       "       [0., 0., 0., 0., 0., 0., 0., 1., 0., 0.],\n",
       "       [0., 0., 0., 0., 0., 0., 0., 1., 0., 0.],\n",
       "       [0., 0., 0., 0., 0., 0., 1., 0., 0., 0.],\n",
       "       [1., 0., 0., 0., 0., 0., 0., 0., 0., 0.],\n",
       "       [0., 0., 0., 0., 0., 0., 0., 0., 0., 1.],\n",
       "       [0., 0., 0., 0., 1., 0., 0., 0., 0., 0.],\n",
       "       [0., 0., 0., 0., 0., 0., 0., 1., 0., 0.],\n",
       "       [0., 0., 0., 1., 0., 0., 0., 0., 0., 0.],\n",
       "       [0., 0., 0., 0., 0., 1., 0., 0., 0., 0.],\n",
       "       [0., 0., 0., 0., 1., 0., 0., 0., 0., 0.],\n",
       "       [0., 0., 0., 0., 0., 0., 0., 1., 0., 0.],\n",
       "       [0., 0., 0., 0., 0., 0., 1., 0., 0., 0.],\n",
       "       [1., 0., 0., 0., 0., 0., 0., 0., 0., 0.],\n",
       "       [0., 0., 0., 0., 0., 0., 1., 0., 0., 0.],\n",
       "       [0., 0., 1., 0., 0., 0., 0., 0., 0., 0.],\n",
       "       [0., 0., 0., 0., 0., 0., 1., 0., 0., 0.],\n",
       "       [0., 0., 0., 0., 1., 0., 0., 0., 0., 0.],\n",
       "       [0., 0., 0., 0., 0., 0., 1., 0., 0., 0.],\n",
       "       [0., 0., 0., 1., 0., 0., 0., 0., 0., 0.],\n",
       "       [1., 0., 0., 0., 0., 0., 0., 0., 0., 0.],\n",
       "       [0., 0., 0., 0., 1., 0., 0., 0., 0., 0.],\n",
       "       [0., 1., 0., 0., 0., 0., 0., 0., 0., 0.],\n",
       "       [0., 0., 0., 1., 0., 0., 0., 0., 0., 0.],\n",
       "       [0., 0., 0., 1., 0., 0., 0., 0., 0., 0.],\n",
       "       [0., 0., 0., 0., 0., 0., 0., 1., 0., 0.],\n",
       "       [1., 0., 0., 0., 0., 0., 0., 0., 0., 0.],\n",
       "       [1., 0., 0., 0., 0., 0., 0., 0., 0., 0.],\n",
       "       [0., 1., 0., 0., 0., 0., 0., 0., 0., 0.],\n",
       "       [0., 0., 0., 0., 1., 0., 0., 0., 0., 0.],\n",
       "       [0., 0., 0., 0., 1., 0., 0., 0., 0., 0.],\n",
       "       [0., 0., 0., 0., 0., 0., 0., 1., 0., 0.],\n",
       "       [0., 0., 0., 0., 0., 1., 0., 0., 0., 0.],\n",
       "       [0., 1., 0., 0., 0., 0., 0., 0., 0., 0.],\n",
       "       [0., 0., 0., 0., 0., 0., 0., 0., 0., 1.],\n",
       "       [0., 0., 0., 0., 0., 0., 0., 0., 1., 0.],\n",
       "       [0., 0., 0., 0., 0., 1., 0., 0., 0., 0.],\n",
       "       [1., 0., 0., 0., 0., 0., 0., 0., 0., 0.],\n",
       "       [1., 0., 0., 0., 0., 0., 0., 0., 0., 0.],\n",
       "       [0., 0., 0., 0., 0., 1., 0., 0., 0., 0.],\n",
       "       [0., 0., 0., 0., 0., 1., 0., 0., 0., 0.],\n",
       "       [0., 0., 0., 1., 0., 0., 0., 0., 0., 0.],\n",
       "       [0., 0., 0., 0., 1., 0., 0., 0., 0., 0.],\n",
       "       [1., 0., 0., 0., 0., 0., 0., 0., 0., 0.]], dtype=float32)"
      ]
     },
     "metadata": {},
     "execution_count": 10
    }
   ],
   "source": [
    "train_ds_visualization[1]"
   ]
  },
  {
   "cell_type": "markdown",
   "metadata": {
    "id": "DXxkKTtS-S78"
   },
   "source": [
    "#### Пишем модель\n",
    "\n",
    "Про свертки и пуллинги написано у Гриши, про skip-connection написано у Миши\n",
    "\n",
    "Для правильного использования ансамблирования, в финальном слое не пишем функцию активации. Подробнее написано у Дениса."
   ]
  },
  {
   "cell_type": "code",
   "execution_count": 10,
   "metadata": {
    "colab": {
     "base_uri": "https://localhost:8080/"
    },
    "executionInfo": {
     "elapsed": 4451,
     "status": "ok",
     "timestamp": 1681664598858,
     "user": {
      "displayName": "Гриша Безруков",
      "userId": "02717934454974586898"
     },
     "user_tz": -180
    },
    "id": "sf6H9-ZM-S79",
    "outputId": "ed5fc491-dc3c-4d5b-80d5-a28f17ebb941"
   },
   "outputs": [
    {
     "name": "stdout",
     "output_type": "stream",
     "text": [
      "Model: \"sequential_5\"\n",
      "_________________________________________________________________\n",
      " Layer (type)                Output Shape              Param #   \n",
      "=================================================================\n",
      " conv2d_24 (Conv2D)          (100, 30, 30, 32)         896       \n",
      "                                                                 \n",
      " conv2d_25 (Conv2D)          (100, 28, 28, 32)         9248      \n",
      "                                                                 \n",
      " dropout_20 (Dropout)        (100, 28, 28, 32)         0         \n",
      "                                                                 \n",
      " conv2d_26 (Conv2D)          (100, 26, 26, 64)         18496     \n",
      "                                                                 \n",
      " conv2d_27 (Conv2D)          (100, 24, 24, 128)        73856     \n",
      "                                                                 \n",
      " dropout_21 (Dropout)        (100, 24, 24, 128)        0         \n",
      "                                                                 \n",
      " batch_normalization_10 (Bat  (100, 24, 24, 128)       512       \n",
      " chNormalization)                                                \n",
      "                                                                 \n",
      " average_pooling2d_7 (Averag  (100, 12, 12, 128)       0         \n",
      " ePooling2D)                                                     \n",
      "                                                                 \n",
      " conv2d_28 (Conv2D)          (100, 10, 10, 128)        147584    \n",
      "                                                                 \n",
      " batch_normalization_11 (Bat  (100, 10, 10, 128)       512       \n",
      " chNormalization)                                                \n",
      "                                                                 \n",
      " dropout_22 (Dropout)        (100, 10, 10, 128)        0         \n",
      "                                                                 \n",
      " global_average_pooling2d_5   (100, 128)               0         \n",
      " (GlobalAveragePooling2D)                                        \n",
      "                                                                 \n",
      " dropout_23 (Dropout)        (100, 128)                0         \n",
      "                                                                 \n",
      " dense_10 (Dense)            (100, 32)                 4128      \n",
      "                                                                 \n",
      " dense_11 (Dense)            (100, 10)                 330       \n",
      "                                                                 \n",
      "=================================================================\n",
      "Total params: 255,562\n",
      "Trainable params: 255,050\n",
      "Non-trainable params: 512\n",
      "_________________________________________________________________\n"
     ]
    }
   ],
   "source": [
    "model = tf.keras.Sequential([\n",
    "    tf.keras.Input(shape=(32, 32, 3), batch_size=100),\n",
    "    tf.keras.layers.Conv2D(32, (3, 3), activation='relu'),\n",
    "    tf.keras.layers.Conv2D(32, (3, 3), activation='relu'),\n",
    "    tf.keras.layers.Dropout(0.2),\n",
    "    tf.keras.layers.Conv2D(64, (3, 3), activation='relu'),\n",
    "    tf.keras.layers.Conv2D(128, (3, 3), activation='relu'),\n",
    "    tf.keras.layers.Dropout(0.2),\n",
    "    tf.keras.layers.BatchNormalization(),\n",
    "    tf.keras.layers.AveragePooling2D((2, 2)),\n",
    "    tf.keras.layers.Conv2D(128, (3, 3), activation='relu'),\n",
    "    tf.keras.layers.BatchNormalization(),\n",
    "    tf.keras.layers.Dropout(0.2),\n",
    "    tf.keras.layers.GlobalAvgPool2D(),\n",
    "    tf.keras.layers.Dropout(0.2),\n",
    "    tf.keras.layers.Dense(32, activation='relu'),\n",
    "    tf.keras.layers.Dense(10)\n",
    "])\n",
    "model.summary()"
   ]
  },
  {
   "cell_type": "code",
   "execution_count": 12,
   "outputs": [],
   "source": [
    "num_model = '_s_10'"
   ],
   "metadata": {
    "id": "ocoMslua_sGe",
    "executionInfo": {
     "status": "ok",
     "timestamp": 1681664699487,
     "user_tz": -180,
     "elapsed": 3784,
     "user": {
      "displayName": "Гриша Безруков",
      "userId": "02717934454974586898"
     }
    }
   }
  },
  {
   "cell_type": "markdown",
   "metadata": {
    "id": "sOWsT-ag1hzh"
   },
   "source": [
    "#### Создаем чекпоинты (всем уже рассказал)\n",
    "- Если лень, то просто копипаст того, что я написал ниже. НЕ ЗАБЫВАЕМ МЕНЯТЬ ПЕРЕМЕННУЮ `num_model`!!!"
   ]
  },
  {
   "cell_type": "code",
   "execution_count": 13,
   "metadata": {
    "executionInfo": {
     "elapsed": 220,
     "status": "ok",
     "timestamp": 1681664712846,
     "user": {
      "displayName": "Гриша Безруков",
      "userId": "02717934454974586898"
     },
     "user_tz": -180
    },
    "id": "3uG2pykA1hzh"
   },
   "outputs": [],
   "source": [
    "metrics = ['categorical_accuracy',\n",
    "           tfa.metrics.F1Score(num_classes=10, average='macro', name='f1_score')]\n",
    "callbacks = [\n",
    "    PlotLossesKeras(),\n",
    "    tf.keras.callbacks.ModelCheckpoint(\n",
    "        filepath=f'../checkpoints/model{num_model}_categorical_accuracy.h5',\n",
    "        monitor='val_categorical_accuracy',\n",
    "        mode='max',\n",
    "        save_best_only=True,\n",
    "    ),\n",
    "    tf.keras.callbacks.ModelCheckpoint(\n",
    "        filepath=f'../checkpoints/model{num_model}_loss.h5',\n",
    "        monitor='val_loss',\n",
    "        mode='min',\n",
    "        save_best_only=True,\n",
    "    ),\n",
    "    tf.keras.callbacks.ModelCheckpoint(\n",
    "        filepath=f'../checkpoints/model{num_model}_f1_score.h5',\n",
    "        monitor='val_f1_score',\n",
    "        mode='max',\n",
    "        save_best_only=True,\n",
    "    ),\n",
    "\n",
    "    tfa.callbacks.AverageModelCheckpoint(\n",
    "        update_weights=False,\n",
    "        filepath=f'../checkpoints/model{num_model}_avg_categorical_accuracy.h5',\n",
    "        monitor='val_categorical_accuracy',\n",
    "        mode='max',\n",
    "        save_best_only=True,\n",
    "    ),\n",
    "    tfa.callbacks.AverageModelCheckpoint(\n",
    "        update_weights=False,\n",
    "        filepath=f'../checkpoints/model{num_model}_avg_loss.h5',\n",
    "        monitor='val_loss',\n",
    "        mode='min',\n",
    "        save_best_only=True,\n",
    "    ),\n",
    "    tfa.callbacks.AverageModelCheckpoint(\n",
    "        update_weights=False,\n",
    "        filepath=f'../checkpoints/model{num_model}_avg_f1_score.h5',\n",
    "        monitor='val_f1_score',\n",
    "        mode='max',\n",
    "        save_best_only=True,\n",
    "    )\n",
    "]"
   ]
  },
  {
   "cell_type": "markdown",
   "metadata": {
    "id": "wzTRYrou-S79"
   },
   "source": [
    "#### Компиляция модели\n",
    "- Если будете что то менять, то только оптимизатор. Про оптимизаторы написано у Лизы."
   ]
  },
  {
   "cell_type": "code",
   "execution_count": 14,
   "metadata": {
    "executionInfo": {
     "elapsed": 6,
     "status": "ok",
     "timestamp": 1681664717986,
     "user": {
      "displayName": "Гриша Безруков",
      "userId": "02717934454974586898"
     },
     "user_tz": -180
    },
    "id": "yBYZOVgK-S7-"
   },
   "outputs": [],
   "source": [
    "model.compile(\n",
    "    optimizer=tfa.optimizers.MovingAverage(tf.keras.optimizers.legacy.Adam(0.0016, decay=5e-5)),\n",
    "    metrics=metrics,\n",
    "    loss=tf.keras.losses.CategoricalCrossentropy(from_logits=True),\n",
    ")"
   ]
  },
  {
   "cell_type": "code",
   "execution_count": null,
   "metadata": {
    "colab": {
     "base_uri": "https://localhost:8080/"
    },
    "executionInfo": {
     "elapsed": 25173,
     "status": "ok",
     "timestamp": 1681649702082,
     "user": {
      "displayName": "Михаил Глазов",
      "userId": "14831628976106288763"
     },
     "user_tz": -180
    },
    "id": "jWAAXsxKfEWp",
    "outputId": "a7475263-2e3a-48fd-a19a-a1835783cafe"
   },
   "outputs": [
    {
     "output_type": "stream",
     "name": "stdout",
     "text": [
      "Mounted at /content/drive\n"
     ]
    }
   ],
   "source": [
    "from google.colab import drive\n",
    "\n",
    "drive.mount('/content/drive')"
   ]
  },
  {
   "cell_type": "markdown",
   "metadata": {
    "id": "Ne9pPgJI-S7-"
   },
   "source": [
    "#### Обучаем модель"
   ]
  },
  {
   "cell_type": "code",
   "execution_count": 1,
   "metadata": {
    "colab": {
     "base_uri": "https://localhost:8080/",
     "height": 1000
    },
    "id": "mbiNiTlx-S7_",
    "outputId": "10cbb880-29d0-447e-fdd0-921baa5a7121",
    "executionInfo": {
     "status": "error",
     "timestamp": 1681668299121,
     "user_tz": -180,
     "elapsed": 1504505,
     "user": {
      "displayName": "Гриша Безруков",
      "userId": "02717934454974586898"
     }
    }
   },
   "outputs": [
    {
     "ename": "NameError",
     "evalue": "name 'model' is not defined",
     "output_type": "error",
     "traceback": [
      "\u001B[1;31m---------------------------------------------------------------------------\u001B[0m",
      "\u001B[1;31mNameError\u001B[0m                                 Traceback (most recent call last)",
      "Cell \u001B[1;32mIn[1], line 1\u001B[0m\n\u001B[1;32m----> 1\u001B[0m history \u001B[38;5;241m=\u001B[39m \u001B[43mmodel\u001B[49m\u001B[38;5;241m.\u001B[39mfit(train_ds, validation_data\u001B[38;5;241m=\u001B[39mval_ds,\n\u001B[0;32m      2\u001B[0m                     epochs\u001B[38;5;241m=\u001B[39m\u001B[38;5;241m100\u001B[39m, callbacks\u001B[38;5;241m=\u001B[39mcallbacks, verbose\u001B[38;5;241m=\u001B[39m\u001B[38;5;241m1\u001B[39m)\n",
      "\u001B[1;31mNameError\u001B[0m: name 'model' is not defined"
     ]
    }
   ],
   "source": [
    "history = model.fit(train_ds, validation_data=val_ds,\n",
    "                    epochs=100, callbacks=callbacks, verbose=1)"
   ]
  },
  {
   "cell_type": "markdown",
   "source": [
    "![-](data:image/png;base64,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)"
   ],
   "metadata": {
    "collapsed": false
   }
  },
  {
   "cell_type": "markdown",
   "metadata": {
    "id": "luv78DSO-S7_"
   },
   "source": [
    "Подгружаем все чекпоинты"
   ]
  },
  {
   "cell_type": "code",
   "execution_count": 4,
   "metadata": {
    "id": "g264umVz1hzv",
    "executionInfo": {
     "status": "ok",
     "timestamp": 1681668343491,
     "user_tz": -180,
     "elapsed": 34285,
     "user": {
      "displayName": "Гриша Безруков",
      "userId": "02717934454974586898"
     }
    }
   },
   "outputs": [],
   "source": [
    "model_categorical_acc = tf.keras.models.load_model(f'../checkpoints/model{num_model}_categorical_accuracy.h5')\n",
    "model_f1_score = tf.keras.models.load_model(f'../checkpoints/model{num_model}_f1_score.h5')\n",
    "model_loss = tf.keras.models.load_model(f'../checkpoints/model{num_model}_loss.h5')\n",
    "model_avg_categorical_acc = tf.keras.models.load_model(f'../checkpoints/model{num_model}_avg_categorical_accuracy.h5')\n",
    "model_avg_f1_score = tf.keras.models.load_model(f'../checkpoints/model{num_model}_avg_f1_score.h5')\n",
    "model_avg_loss = tf.keras.models.load_model(f'../checkpoints/model{num_model}_avg_loss.h5')"
   ]
  },
  {
   "cell_type": "markdown",
   "metadata": {
    "id": "r7i-3GRn-S7_"
   },
   "source": [
    "У нас поличилось три чекпоинта (три модели). Ниже указан код для получения ответов для всех чекпоинтов по валидационному датасету."
   ]
  },
  {
   "cell_type": "code",
   "execution_count": 5,
   "metadata": {
    "id": "u-cKSLLm1hzx",
    "colab": {
     "base_uri": "https://localhost:8080/"
    },
    "executionInfo": {
     "status": "ok",
     "timestamp": 1681668374879,
     "user_tz": -180,
     "elapsed": 31431,
     "user": {
      "displayName": "Гриша Безруков",
      "userId": "02717934454974586898"
     }
    },
    "outputId": "dbf16b64-78f2-470b-c75b-842fefbd2be1"
   },
   "outputs": [
    {
     "ename": "NameError",
     "evalue": "name 'val_ds_x' is not defined",
     "output_type": "error",
     "traceback": [
      "\u001B[1;31m---------------------------------------------------------------------------\u001B[0m",
      "\u001B[1;31mNameError\u001B[0m                                 Traceback (most recent call last)",
      "Cell \u001B[1;32mIn[5], line 1\u001B[0m\n\u001B[1;32m----> 1\u001B[0m ans_val_categorical_accuracy \u001B[38;5;241m=\u001B[39m make_ans_file(model_categorical_acc, \u001B[43mval_ds_x\u001B[49m)\n\u001B[0;32m      2\u001B[0m ans_val_f1_score \u001B[38;5;241m=\u001B[39m make_ans_file(model_f1_score, val_ds_x)\n\u001B[0;32m      3\u001B[0m ans_val_loss \u001B[38;5;241m=\u001B[39m make_ans_file(model_loss, val_ds_x)\n",
      "\u001B[1;31mNameError\u001B[0m: name 'val_ds_x' is not defined"
     ]
    }
   ],
   "source": [
    "ans_val_categorical_accuracy = make_ans_file(model_categorical_acc, val_ds_x)\n",
    "ans_val_f1_score = make_ans_file(model_f1_score, val_ds_x)\n",
    "ans_val_loss = make_ans_file(model_loss, val_ds_x)\n",
    "ans_val_avg_categorical_accuracy = make_ans_file(model_avg_categorical_acc, val_ds_x)\n",
    "ans_val_avg_f1_score = make_ans_file(model_avg_f1_score, val_ds_x)\n",
    "ans_val_avg_loss = make_ans_file(model_avg_loss, val_ds_x)\n",
    "anss = [ans_val_categorical_accuracy, ans_val_f1_score, ans_val_loss, ans_val_avg_categorical_accuracy,\n",
    "        ans_val_avg_f1_score, ans_val_avg_loss]"
   ]
  },
  {
   "cell_type": "markdown",
   "metadata": {
    "id": "az3iBS0W1hzx"
   },
   "source": [
    "Формируем валидационные ответы."
   ]
  },
  {
   "cell_type": "code",
   "execution_count": 19,
   "metadata": {
    "id": "OpY_REt31hzy",
    "executionInfo": {
     "status": "ok",
     "timestamp": 1681668374886,
     "user_tz": -180,
     "elapsed": 59,
     "user": {
      "displayName": "Гриша Безруков",
      "userId": "02717934454974586898"
     }
    }
   },
   "outputs": [],
   "source": [
    "val_ds_y = np.argmax(val_ds_y, axis=1)"
   ]
  },
  {
   "cell_type": "markdown",
   "metadata": {
    "id": "sqmvqg641hzy"
   },
   "source": [
    "Сравниваем валидационные предикты каждого чекпоинта"
   ]
  },
  {
   "cell_type": "code",
   "execution_count": 20,
   "metadata": {
    "id": "swFdpR3O1hzz",
    "colab": {
     "base_uri": "https://localhost:8080/"
    },
    "executionInfo": {
     "status": "ok",
     "timestamp": 1681668374887,
     "user_tz": -180,
     "elapsed": 58,
     "user": {
      "displayName": "Гриша Безруков",
      "userId": "02717934454974586898"
     }
    },
    "outputId": "9e6aaed2-f981-4584-a5a1-b7198374ea84"
   },
   "outputs": [
    {
     "output_type": "stream",
     "name": "stdout",
     "text": [
      "чекпоинты 1 и 2 одинаковые\n",
      "чекпоинты 1 и 3 одинаковые\n",
      "чекпоинты 2 и 3 одинаковые\n",
      "чекпоинты 4 и 5 одинаковые\n",
      "чекпоинты 4 и 6 одинаковые\n",
      "чекпоинты 5 и 6 одинаковые\n"
     ]
    }
   ],
   "source": [
    "for i in range(len(anss) - 1):\n",
    "    for j in range(i + 1, len(anss)):\n",
    "        if np.all(anss[i] == anss[j]):\n",
    "            print(f'чекпоинты {i + 1} и {j + 1} одинаковые')"
   ]
  },
  {
   "cell_type": "markdown",
   "metadata": {
    "id": "CzRxY2Y71hz0"
   },
   "source": [
    "`Все ответы разные, значит чекпоинты сохранили модель на разных эпохах. Если ответы будут одинковые, то вывод о чекпоинте делать не надо.`"
   ]
  },
  {
   "cell_type": "markdown",
   "metadata": {
    "id": "L9eNtr1L1hz1"
   },
   "source": [
    "- Денис пишет ансамблинг моделей. Когда он допишет, мы применим это для формирования ответа по трем получившимся моделям. То есть, если все чекпоинты разные, то мы будем делать средний ответ по трем предиктам."
   ]
  },
  {
   "cell_type": "markdown",
   "metadata": {
    "id": "XRNa8eAd1hz8"
   },
   "source": [
    "В конце смотрим на метрики и делаем выводы о том, чем хороша эта модель. Какие классы она угадывает лучше/худше всего. Дописываем какую метрику показал kaggle."
   ]
  },
  {
   "cell_type": "code",
   "execution_count": 21,
   "metadata": {
    "id": "Op5vVeQp1hz9",
    "executionInfo": {
     "status": "ok",
     "timestamp": 1681668374888,
     "user_tz": -180,
     "elapsed": 54,
     "user": {
      "displayName": "Гриша Безруков",
      "userId": "02717934454974586898"
     }
    }
   },
   "outputs": [],
   "source": [
    "class MulticlassClassificationMetrics:\n",
    "    def __init__(self, y_true, y_pred):\n",
    "        self.y_true = np.array(y_true)\n",
    "        self.y_pred = np.array(y_pred)\n",
    "        self.matrix_error = self.get_matrix_error()\n",
    "\n",
    "    def get_matrix_error(self):\n",
    "        self.class_types = np.unique([self.y_true, self.y_pred])\n",
    "        TP, FN, FP, TN = [], [], [], []\n",
    "        for class_type in self.class_types:\n",
    "            TP.append(np.sum(np.logical_and(self.y_true == self.y_pred, self.y_true == class_type)))\n",
    "            FN.append(np.sum(np.logical_and(self.y_true == class_type, self.y_pred != class_type)))\n",
    "            FP.append(np.sum(np.logical_and(self.y_pred == class_type, self.y_true != class_type)))\n",
    "            TN.append(np.sum(np.logical_and(self.y_pred != class_type, self.y_true != class_type)))\n",
    "        return pd.DataFrame({\n",
    "            'class_type': self.class_types,\n",
    "            'TP': TP, 'TN': TN, 'FP': FP, 'FN': FN,\n",
    "        }).set_index('class_type')\n",
    "\n",
    "    def accuracy(self):\n",
    "        return np.sum(self.y_true == self.y_pred) / self.y_true.shape[0]\n",
    "\n",
    "    def precision(self, averaging='macro'):\n",
    "        if averaging == 'macro':\n",
    "            precisions = self.matrix_error['TP'] / (self.matrix_error['TP'] + self.matrix_error['FP'])\n",
    "            return np.mean(precisions.replace(np.nan, 0))\n",
    "        elif averaging == 'micro':\n",
    "            mean_val = self.matrix_error.mean()\n",
    "            return mean_val['TP'] / (mean_val['TP'] + mean_val['FP'])\n",
    "\n",
    "    def recall(self, averaging='macro'):\n",
    "        if averaging == 'macro':\n",
    "            recalls = self.matrix_error['TP'] / (self.matrix_error['TP'] + self.matrix_error['FN'])\n",
    "            return np.mean(recalls.replace(np.nan, 0))\n",
    "        elif averaging == 'micro':\n",
    "            mean_val = self.matrix_error.mean()\n",
    "            return mean_val['TP'] / (mean_val['TP'] + mean_val['FN'])\n",
    "\n",
    "    def f1_score(self, averaging='macro'):\n",
    "        if averaging == 'macro':\n",
    "            reverse_r = (self.matrix_error['TP'] + self.matrix_error['FN']) / self.matrix_error['TP']\n",
    "            reverse_p = (self.matrix_error['TP'] + self.matrix_error['FP']) / self.matrix_error['TP']\n",
    "            f1_scores = 2 / (reverse_r + reverse_p)\n",
    "            return np.mean(f1_scores.replace(np.nan, 0))\n",
    "        elif averaging == 'micro':\n",
    "            p = self.precision(averaging)\n",
    "            r = self.recall(averaging)\n",
    "            return 2 * p * r / (p + r)\n",
    "\n",
    "    def metrics(self, averaging='macro'):\n",
    "        return {\n",
    "            'accuracy': self.accuracy(),\n",
    "            'precision': self.precision(averaging),\n",
    "            'recall': self.recall(averaging),\n",
    "            'f1_score': self.f1_score(averaging),\n",
    "        }\n",
    "\n",
    "    def __str__(self):\n",
    "        headers = {\n",
    "            'selector': '*',\n",
    "            'props': 'background-color: darkgreen; color: white; font-size: 12pt;',\n",
    "        }\n",
    "        che_super_mega_puper_visualization_of_cell = {\n",
    "            'selector': 'td:hover',\n",
    "            'props': 'background-color: green; color: white;',\n",
    "        }\n",
    "        display(\n",
    "            self.matrix_error\n",
    "            .style\n",
    "            .set_table_styles([\n",
    "                headers,\n",
    "                che_super_mega_puper_visualization_of_cell,\n",
    "            ])\n",
    "            .set_properties(**{'background-color': 'lightgreen',\n",
    "                               'color': 'black', 'font-size': '12pt'})\n",
    "        )\n",
    "        return ''\n",
    "\n",
    "    def __repr__(self):\n",
    "        return (\n",
    "            f'MulticlassClassificationMetrics(class_types={self.class_types})'\n",
    "            .replace(\"'\", '').replace(',', ';'))"
   ]
  },
  {
   "cell_type": "markdown",
   "metadata": {
    "id": "uhWptjbN1hz_"
   },
   "source": [
    "### Accuracy чекпоинт"
   ]
  },
  {
   "cell_type": "code",
   "execution_count": 23,
   "metadata": {
    "colab": {
     "base_uri": "https://localhost:8080/",
     "height": 535
    },
    "executionInfo": {
     "elapsed": 561,
     "status": "ok",
     "timestamp": 1681668391073,
     "user": {
      "displayName": "Гриша Безруков",
      "userId": "02717934454974586898"
     },
     "user_tz": -180
    },
    "id": "h_X5LFRj1h0A",
    "outputId": "84f4423d-ffe3-4e97-c257-aa45e90b7db5"
   },
   "outputs": [
    {
     "output_type": "display_data",
     "data": {
      "text/plain": [
       "<pandas.io.formats.style.Styler at 0x7fe7e40bdeb0>"
      ],
      "text/html": [
       "<style type=\"text/css\">\n",
       "#T_17f89 * {\n",
       "  background-color: darkgreen;\n",
       "  color: white;\n",
       "  font-size: 12pt;\n",
       "}\n",
       "#T_17f89 td:hover {\n",
       "  background-color: green;\n",
       "  color: white;\n",
       "}\n",
       "#T_17f89_row0_col0, #T_17f89_row0_col1, #T_17f89_row0_col2, #T_17f89_row0_col3, #T_17f89_row1_col0, #T_17f89_row1_col1, #T_17f89_row1_col2, #T_17f89_row1_col3, #T_17f89_row2_col0, #T_17f89_row2_col1, #T_17f89_row2_col2, #T_17f89_row2_col3, #T_17f89_row3_col0, #T_17f89_row3_col1, #T_17f89_row3_col2, #T_17f89_row3_col3, #T_17f89_row4_col0, #T_17f89_row4_col1, #T_17f89_row4_col2, #T_17f89_row4_col3, #T_17f89_row5_col0, #T_17f89_row5_col1, #T_17f89_row5_col2, #T_17f89_row5_col3, #T_17f89_row6_col0, #T_17f89_row6_col1, #T_17f89_row6_col2, #T_17f89_row6_col3, #T_17f89_row7_col0, #T_17f89_row7_col1, #T_17f89_row7_col2, #T_17f89_row7_col3, #T_17f89_row8_col0, #T_17f89_row8_col1, #T_17f89_row8_col2, #T_17f89_row8_col3, #T_17f89_row9_col0, #T_17f89_row9_col1, #T_17f89_row9_col2, #T_17f89_row9_col3 {\n",
       "  background-color: lightgreen;\n",
       "  color: black;\n",
       "  font-size: 12pt;\n",
       "}\n",
       "</style>\n",
       "<table id=\"T_17f89\" class=\"dataframe\">\n",
       "  <thead>\n",
       "    <tr>\n",
       "      <th class=\"blank level0\" >&nbsp;</th>\n",
       "      <th id=\"T_17f89_level0_col0\" class=\"col_heading level0 col0\" >TP</th>\n",
       "      <th id=\"T_17f89_level0_col1\" class=\"col_heading level0 col1\" >TN</th>\n",
       "      <th id=\"T_17f89_level0_col2\" class=\"col_heading level0 col2\" >FP</th>\n",
       "      <th id=\"T_17f89_level0_col3\" class=\"col_heading level0 col3\" >FN</th>\n",
       "    </tr>\n",
       "    <tr>\n",
       "      <th class=\"index_name level0\" >class_type</th>\n",
       "      <th class=\"blank col0\" >&nbsp;</th>\n",
       "      <th class=\"blank col1\" >&nbsp;</th>\n",
       "      <th class=\"blank col2\" >&nbsp;</th>\n",
       "      <th class=\"blank col3\" >&nbsp;</th>\n",
       "    </tr>\n",
       "  </thead>\n",
       "  <tbody>\n",
       "    <tr>\n",
       "      <th id=\"T_17f89_level0_row0\" class=\"row_heading level0 row0\" >0</th>\n",
       "      <td id=\"T_17f89_row0_col0\" class=\"data row0 col0\" >495</td>\n",
       "      <td id=\"T_17f89_row0_col1\" class=\"data row0 col1\" >4390</td>\n",
       "      <td id=\"T_17f89_row0_col2\" class=\"data row0 col2\" >12</td>\n",
       "      <td id=\"T_17f89_row0_col3\" class=\"data row0 col3\" >4</td>\n",
       "    </tr>\n",
       "    <tr>\n",
       "      <th id=\"T_17f89_level0_row1\" class=\"row_heading level0 row1\" >1</th>\n",
       "      <td id=\"T_17f89_row1_col0\" class=\"data row1 col0\" >471</td>\n",
       "      <td id=\"T_17f89_row1_col1\" class=\"data row1 col1\" >4396</td>\n",
       "      <td id=\"T_17f89_row1_col2\" class=\"data row1 col2\" >25</td>\n",
       "      <td id=\"T_17f89_row1_col3\" class=\"data row1 col3\" >9</td>\n",
       "    </tr>\n",
       "    <tr>\n",
       "      <th id=\"T_17f89_level0_row2\" class=\"row_heading level0 row2\" >2</th>\n",
       "      <td id=\"T_17f89_row2_col0\" class=\"data row2 col0\" >499</td>\n",
       "      <td id=\"T_17f89_row2_col1\" class=\"data row2 col1\" >4381</td>\n",
       "      <td id=\"T_17f89_row2_col2\" class=\"data row2 col2\" >16</td>\n",
       "      <td id=\"T_17f89_row2_col3\" class=\"data row2 col3\" >5</td>\n",
       "    </tr>\n",
       "    <tr>\n",
       "      <th id=\"T_17f89_level0_row3\" class=\"row_heading level0 row3\" >3</th>\n",
       "      <td id=\"T_17f89_row3_col0\" class=\"data row3 col0\" >495</td>\n",
       "      <td id=\"T_17f89_row3_col1\" class=\"data row3 col1\" >4379</td>\n",
       "      <td id=\"T_17f89_row3_col2\" class=\"data row3 col2\" >17</td>\n",
       "      <td id=\"T_17f89_row3_col3\" class=\"data row3 col3\" >10</td>\n",
       "    </tr>\n",
       "    <tr>\n",
       "      <th id=\"T_17f89_level0_row4\" class=\"row_heading level0 row4\" >4</th>\n",
       "      <td id=\"T_17f89_row4_col0\" class=\"data row4 col0\" >505</td>\n",
       "      <td id=\"T_17f89_row4_col1\" class=\"data row4 col1\" >4381</td>\n",
       "      <td id=\"T_17f89_row4_col2\" class=\"data row4 col2\" >10</td>\n",
       "      <td id=\"T_17f89_row4_col3\" class=\"data row4 col3\" >5</td>\n",
       "    </tr>\n",
       "    <tr>\n",
       "      <th id=\"T_17f89_level0_row5\" class=\"row_heading level0 row5\" >5</th>\n",
       "      <td id=\"T_17f89_row5_col0\" class=\"data row5 col0\" >472</td>\n",
       "      <td id=\"T_17f89_row5_col1\" class=\"data row5 col1\" >4405</td>\n",
       "      <td id=\"T_17f89_row5_col2\" class=\"data row5 col2\" >10</td>\n",
       "      <td id=\"T_17f89_row5_col3\" class=\"data row5 col3\" >14</td>\n",
       "    </tr>\n",
       "    <tr>\n",
       "      <th id=\"T_17f89_level0_row6\" class=\"row_heading level0 row6\" >6</th>\n",
       "      <td id=\"T_17f89_row6_col0\" class=\"data row6 col0\" >474</td>\n",
       "      <td id=\"T_17f89_row6_col1\" class=\"data row6 col1\" >4401</td>\n",
       "      <td id=\"T_17f89_row6_col2\" class=\"data row6 col2\" >9</td>\n",
       "      <td id=\"T_17f89_row6_col3\" class=\"data row6 col3\" >17</td>\n",
       "    </tr>\n",
       "    <tr>\n",
       "      <th id=\"T_17f89_level0_row7\" class=\"row_heading level0 row7\" >7</th>\n",
       "      <td id=\"T_17f89_row7_col0\" class=\"data row7 col0\" >469</td>\n",
       "      <td id=\"T_17f89_row7_col1\" class=\"data row7 col1\" >4406</td>\n",
       "      <td id=\"T_17f89_row7_col2\" class=\"data row7 col2\" >5</td>\n",
       "      <td id=\"T_17f89_row7_col3\" class=\"data row7 col3\" >21</td>\n",
       "    </tr>\n",
       "    <tr>\n",
       "      <th id=\"T_17f89_level0_row8\" class=\"row_heading level0 row8\" >8</th>\n",
       "      <td id=\"T_17f89_row8_col0\" class=\"data row8 col0\" >442</td>\n",
       "      <td id=\"T_17f89_row8_col1\" class=\"data row8 col1\" >4439</td>\n",
       "      <td id=\"T_17f89_row8_col2\" class=\"data row8 col2\" >5</td>\n",
       "      <td id=\"T_17f89_row8_col3\" class=\"data row8 col3\" >15</td>\n",
       "    </tr>\n",
       "    <tr>\n",
       "      <th id=\"T_17f89_level0_row9\" class=\"row_heading level0 row9\" >9</th>\n",
       "      <td id=\"T_17f89_row9_col0\" class=\"data row9 col0\" >468</td>\n",
       "      <td id=\"T_17f89_row9_col1\" class=\"data row9 col1\" >4420</td>\n",
       "      <td id=\"T_17f89_row9_col2\" class=\"data row9 col2\" >2</td>\n",
       "      <td id=\"T_17f89_row9_col3\" class=\"data row9 col3\" >11</td>\n",
       "    </tr>\n",
       "  </tbody>\n",
       "</table>\n"
      ]
     },
     "metadata": {}
    },
    {
     "output_type": "stream",
     "name": "stdout",
     "text": [
      "\n"
     ]
    },
    {
     "output_type": "execute_result",
     "data": {
      "text/plain": [
       "{'accuracy': 0.9773515609059376,\n",
       " 'precision': 0.9776869620225307,\n",
       " 'recall': 0.977163321960053,\n",
       " 'f1_score': 0.9773187191403638}"
      ]
     },
     "metadata": {},
     "execution_count": 23
    }
   ],
   "source": [
    "metrics = MulticlassClassificationMetrics(val_ds_y, ans_val_categorical_accuracy)\n",
    "print(metrics)\n",
    "metrics.metrics()"
   ]
  },
  {
   "cell_type": "markdown",
   "metadata": {
    "id": "7VAzf7n0dECw"
   },
   "source": [
    "### Loss чекпоинт"
   ]
  },
  {
   "cell_type": "code",
   "execution_count": 24,
   "metadata": {
    "colab": {
     "base_uri": "https://localhost:8080/",
     "height": 535
    },
    "executionInfo": {
     "elapsed": 1478,
     "status": "ok",
     "timestamp": 1681668401306,
     "user": {
      "displayName": "Гриша Безруков",
      "userId": "02717934454974586898"
     },
     "user_tz": -180
    },
    "id": "uzHyXblNdECw",
    "outputId": "c3a541e6-daff-476a-cb20-213fe9958fd3"
   },
   "outputs": [
    {
     "output_type": "display_data",
     "data": {
      "text/plain": [
       "<pandas.io.formats.style.Styler at 0x7fe7e40bdf10>"
      ],
      "text/html": [
       "<style type=\"text/css\">\n",
       "#T_204aa * {\n",
       "  background-color: darkgreen;\n",
       "  color: white;\n",
       "  font-size: 12pt;\n",
       "}\n",
       "#T_204aa td:hover {\n",
       "  background-color: green;\n",
       "  color: white;\n",
       "}\n",
       "#T_204aa_row0_col0, #T_204aa_row0_col1, #T_204aa_row0_col2, #T_204aa_row0_col3, #T_204aa_row1_col0, #T_204aa_row1_col1, #T_204aa_row1_col2, #T_204aa_row1_col3, #T_204aa_row2_col0, #T_204aa_row2_col1, #T_204aa_row2_col2, #T_204aa_row2_col3, #T_204aa_row3_col0, #T_204aa_row3_col1, #T_204aa_row3_col2, #T_204aa_row3_col3, #T_204aa_row4_col0, #T_204aa_row4_col1, #T_204aa_row4_col2, #T_204aa_row4_col3, #T_204aa_row5_col0, #T_204aa_row5_col1, #T_204aa_row5_col2, #T_204aa_row5_col3, #T_204aa_row6_col0, #T_204aa_row6_col1, #T_204aa_row6_col2, #T_204aa_row6_col3, #T_204aa_row7_col0, #T_204aa_row7_col1, #T_204aa_row7_col2, #T_204aa_row7_col3, #T_204aa_row8_col0, #T_204aa_row8_col1, #T_204aa_row8_col2, #T_204aa_row8_col3, #T_204aa_row9_col0, #T_204aa_row9_col1, #T_204aa_row9_col2, #T_204aa_row9_col3 {\n",
       "  background-color: lightgreen;\n",
       "  color: black;\n",
       "  font-size: 12pt;\n",
       "}\n",
       "</style>\n",
       "<table id=\"T_204aa\" class=\"dataframe\">\n",
       "  <thead>\n",
       "    <tr>\n",
       "      <th class=\"blank level0\" >&nbsp;</th>\n",
       "      <th id=\"T_204aa_level0_col0\" class=\"col_heading level0 col0\" >TP</th>\n",
       "      <th id=\"T_204aa_level0_col1\" class=\"col_heading level0 col1\" >TN</th>\n",
       "      <th id=\"T_204aa_level0_col2\" class=\"col_heading level0 col2\" >FP</th>\n",
       "      <th id=\"T_204aa_level0_col3\" class=\"col_heading level0 col3\" >FN</th>\n",
       "    </tr>\n",
       "    <tr>\n",
       "      <th class=\"index_name level0\" >class_type</th>\n",
       "      <th class=\"blank col0\" >&nbsp;</th>\n",
       "      <th class=\"blank col1\" >&nbsp;</th>\n",
       "      <th class=\"blank col2\" >&nbsp;</th>\n",
       "      <th class=\"blank col3\" >&nbsp;</th>\n",
       "    </tr>\n",
       "  </thead>\n",
       "  <tbody>\n",
       "    <tr>\n",
       "      <th id=\"T_204aa_level0_row0\" class=\"row_heading level0 row0\" >0</th>\n",
       "      <td id=\"T_204aa_row0_col0\" class=\"data row0 col0\" >495</td>\n",
       "      <td id=\"T_204aa_row0_col1\" class=\"data row0 col1\" >4390</td>\n",
       "      <td id=\"T_204aa_row0_col2\" class=\"data row0 col2\" >12</td>\n",
       "      <td id=\"T_204aa_row0_col3\" class=\"data row0 col3\" >4</td>\n",
       "    </tr>\n",
       "    <tr>\n",
       "      <th id=\"T_204aa_level0_row1\" class=\"row_heading level0 row1\" >1</th>\n",
       "      <td id=\"T_204aa_row1_col0\" class=\"data row1 col0\" >471</td>\n",
       "      <td id=\"T_204aa_row1_col1\" class=\"data row1 col1\" >4396</td>\n",
       "      <td id=\"T_204aa_row1_col2\" class=\"data row1 col2\" >25</td>\n",
       "      <td id=\"T_204aa_row1_col3\" class=\"data row1 col3\" >9</td>\n",
       "    </tr>\n",
       "    <tr>\n",
       "      <th id=\"T_204aa_level0_row2\" class=\"row_heading level0 row2\" >2</th>\n",
       "      <td id=\"T_204aa_row2_col0\" class=\"data row2 col0\" >499</td>\n",
       "      <td id=\"T_204aa_row2_col1\" class=\"data row2 col1\" >4381</td>\n",
       "      <td id=\"T_204aa_row2_col2\" class=\"data row2 col2\" >16</td>\n",
       "      <td id=\"T_204aa_row2_col3\" class=\"data row2 col3\" >5</td>\n",
       "    </tr>\n",
       "    <tr>\n",
       "      <th id=\"T_204aa_level0_row3\" class=\"row_heading level0 row3\" >3</th>\n",
       "      <td id=\"T_204aa_row3_col0\" class=\"data row3 col0\" >495</td>\n",
       "      <td id=\"T_204aa_row3_col1\" class=\"data row3 col1\" >4379</td>\n",
       "      <td id=\"T_204aa_row3_col2\" class=\"data row3 col2\" >17</td>\n",
       "      <td id=\"T_204aa_row3_col3\" class=\"data row3 col3\" >10</td>\n",
       "    </tr>\n",
       "    <tr>\n",
       "      <th id=\"T_204aa_level0_row4\" class=\"row_heading level0 row4\" >4</th>\n",
       "      <td id=\"T_204aa_row4_col0\" class=\"data row4 col0\" >505</td>\n",
       "      <td id=\"T_204aa_row4_col1\" class=\"data row4 col1\" >4381</td>\n",
       "      <td id=\"T_204aa_row4_col2\" class=\"data row4 col2\" >10</td>\n",
       "      <td id=\"T_204aa_row4_col3\" class=\"data row4 col3\" >5</td>\n",
       "    </tr>\n",
       "    <tr>\n",
       "      <th id=\"T_204aa_level0_row5\" class=\"row_heading level0 row5\" >5</th>\n",
       "      <td id=\"T_204aa_row5_col0\" class=\"data row5 col0\" >472</td>\n",
       "      <td id=\"T_204aa_row5_col1\" class=\"data row5 col1\" >4405</td>\n",
       "      <td id=\"T_204aa_row5_col2\" class=\"data row5 col2\" >10</td>\n",
       "      <td id=\"T_204aa_row5_col3\" class=\"data row5 col3\" >14</td>\n",
       "    </tr>\n",
       "    <tr>\n",
       "      <th id=\"T_204aa_level0_row6\" class=\"row_heading level0 row6\" >6</th>\n",
       "      <td id=\"T_204aa_row6_col0\" class=\"data row6 col0\" >474</td>\n",
       "      <td id=\"T_204aa_row6_col1\" class=\"data row6 col1\" >4401</td>\n",
       "      <td id=\"T_204aa_row6_col2\" class=\"data row6 col2\" >9</td>\n",
       "      <td id=\"T_204aa_row6_col3\" class=\"data row6 col3\" >17</td>\n",
       "    </tr>\n",
       "    <tr>\n",
       "      <th id=\"T_204aa_level0_row7\" class=\"row_heading level0 row7\" >7</th>\n",
       "      <td id=\"T_204aa_row7_col0\" class=\"data row7 col0\" >469</td>\n",
       "      <td id=\"T_204aa_row7_col1\" class=\"data row7 col1\" >4406</td>\n",
       "      <td id=\"T_204aa_row7_col2\" class=\"data row7 col2\" >5</td>\n",
       "      <td id=\"T_204aa_row7_col3\" class=\"data row7 col3\" >21</td>\n",
       "    </tr>\n",
       "    <tr>\n",
       "      <th id=\"T_204aa_level0_row8\" class=\"row_heading level0 row8\" >8</th>\n",
       "      <td id=\"T_204aa_row8_col0\" class=\"data row8 col0\" >442</td>\n",
       "      <td id=\"T_204aa_row8_col1\" class=\"data row8 col1\" >4439</td>\n",
       "      <td id=\"T_204aa_row8_col2\" class=\"data row8 col2\" >5</td>\n",
       "      <td id=\"T_204aa_row8_col3\" class=\"data row8 col3\" >15</td>\n",
       "    </tr>\n",
       "    <tr>\n",
       "      <th id=\"T_204aa_level0_row9\" class=\"row_heading level0 row9\" >9</th>\n",
       "      <td id=\"T_204aa_row9_col0\" class=\"data row9 col0\" >468</td>\n",
       "      <td id=\"T_204aa_row9_col1\" class=\"data row9 col1\" >4420</td>\n",
       "      <td id=\"T_204aa_row9_col2\" class=\"data row9 col2\" >2</td>\n",
       "      <td id=\"T_204aa_row9_col3\" class=\"data row9 col3\" >11</td>\n",
       "    </tr>\n",
       "  </tbody>\n",
       "</table>\n"
      ]
     },
     "metadata": {}
    },
    {
     "output_type": "stream",
     "name": "stdout",
     "text": [
      "\n"
     ]
    },
    {
     "output_type": "execute_result",
     "data": {
      "text/plain": [
       "{'accuracy': 0.9773515609059376,\n",
       " 'precision': 0.9776869620225307,\n",
       " 'recall': 0.977163321960053,\n",
       " 'f1_score': 0.9773187191403638}"
      ]
     },
     "metadata": {},
     "execution_count": 24
    }
   ],
   "source": [
    "metrics = MulticlassClassificationMetrics(val_ds_y, ans_val_loss)\n",
    "print(metrics)\n",
    "metrics.metrics()"
   ]
  },
  {
   "cell_type": "markdown",
   "metadata": {
    "id": "A8jwTaCNdECx"
   },
   "source": [
    "### F1-score чекпоинт"
   ]
  },
  {
   "cell_type": "code",
   "execution_count": 25,
   "metadata": {
    "colab": {
     "base_uri": "https://localhost:8080/",
     "height": 535
    },
    "executionInfo": {
     "elapsed": 14,
     "status": "ok",
     "timestamp": 1681668401650,
     "user": {
      "displayName": "Гриша Безруков",
      "userId": "02717934454974586898"
     },
     "user_tz": -180
    },
    "id": "_OupAVHFdECx",
    "outputId": "0c5cc3ad-4295-458d-f05b-44b112e5c772"
   },
   "outputs": [
    {
     "output_type": "display_data",
     "data": {
      "text/plain": [
       "<pandas.io.formats.style.Styler at 0x7fe7e40bde20>"
      ],
      "text/html": [
       "<style type=\"text/css\">\n",
       "#T_cd677 * {\n",
       "  background-color: darkgreen;\n",
       "  color: white;\n",
       "  font-size: 12pt;\n",
       "}\n",
       "#T_cd677 td:hover {\n",
       "  background-color: green;\n",
       "  color: white;\n",
       "}\n",
       "#T_cd677_row0_col0, #T_cd677_row0_col1, #T_cd677_row0_col2, #T_cd677_row0_col3, #T_cd677_row1_col0, #T_cd677_row1_col1, #T_cd677_row1_col2, #T_cd677_row1_col3, #T_cd677_row2_col0, #T_cd677_row2_col1, #T_cd677_row2_col2, #T_cd677_row2_col3, #T_cd677_row3_col0, #T_cd677_row3_col1, #T_cd677_row3_col2, #T_cd677_row3_col3, #T_cd677_row4_col0, #T_cd677_row4_col1, #T_cd677_row4_col2, #T_cd677_row4_col3, #T_cd677_row5_col0, #T_cd677_row5_col1, #T_cd677_row5_col2, #T_cd677_row5_col3, #T_cd677_row6_col0, #T_cd677_row6_col1, #T_cd677_row6_col2, #T_cd677_row6_col3, #T_cd677_row7_col0, #T_cd677_row7_col1, #T_cd677_row7_col2, #T_cd677_row7_col3, #T_cd677_row8_col0, #T_cd677_row8_col1, #T_cd677_row8_col2, #T_cd677_row8_col3, #T_cd677_row9_col0, #T_cd677_row9_col1, #T_cd677_row9_col2, #T_cd677_row9_col3 {\n",
       "  background-color: lightgreen;\n",
       "  color: black;\n",
       "  font-size: 12pt;\n",
       "}\n",
       "</style>\n",
       "<table id=\"T_cd677\" class=\"dataframe\">\n",
       "  <thead>\n",
       "    <tr>\n",
       "      <th class=\"blank level0\" >&nbsp;</th>\n",
       "      <th id=\"T_cd677_level0_col0\" class=\"col_heading level0 col0\" >TP</th>\n",
       "      <th id=\"T_cd677_level0_col1\" class=\"col_heading level0 col1\" >TN</th>\n",
       "      <th id=\"T_cd677_level0_col2\" class=\"col_heading level0 col2\" >FP</th>\n",
       "      <th id=\"T_cd677_level0_col3\" class=\"col_heading level0 col3\" >FN</th>\n",
       "    </tr>\n",
       "    <tr>\n",
       "      <th class=\"index_name level0\" >class_type</th>\n",
       "      <th class=\"blank col0\" >&nbsp;</th>\n",
       "      <th class=\"blank col1\" >&nbsp;</th>\n",
       "      <th class=\"blank col2\" >&nbsp;</th>\n",
       "      <th class=\"blank col3\" >&nbsp;</th>\n",
       "    </tr>\n",
       "  </thead>\n",
       "  <tbody>\n",
       "    <tr>\n",
       "      <th id=\"T_cd677_level0_row0\" class=\"row_heading level0 row0\" >0</th>\n",
       "      <td id=\"T_cd677_row0_col0\" class=\"data row0 col0\" >495</td>\n",
       "      <td id=\"T_cd677_row0_col1\" class=\"data row0 col1\" >4390</td>\n",
       "      <td id=\"T_cd677_row0_col2\" class=\"data row0 col2\" >12</td>\n",
       "      <td id=\"T_cd677_row0_col3\" class=\"data row0 col3\" >4</td>\n",
       "    </tr>\n",
       "    <tr>\n",
       "      <th id=\"T_cd677_level0_row1\" class=\"row_heading level0 row1\" >1</th>\n",
       "      <td id=\"T_cd677_row1_col0\" class=\"data row1 col0\" >471</td>\n",
       "      <td id=\"T_cd677_row1_col1\" class=\"data row1 col1\" >4396</td>\n",
       "      <td id=\"T_cd677_row1_col2\" class=\"data row1 col2\" >25</td>\n",
       "      <td id=\"T_cd677_row1_col3\" class=\"data row1 col3\" >9</td>\n",
       "    </tr>\n",
       "    <tr>\n",
       "      <th id=\"T_cd677_level0_row2\" class=\"row_heading level0 row2\" >2</th>\n",
       "      <td id=\"T_cd677_row2_col0\" class=\"data row2 col0\" >499</td>\n",
       "      <td id=\"T_cd677_row2_col1\" class=\"data row2 col1\" >4381</td>\n",
       "      <td id=\"T_cd677_row2_col2\" class=\"data row2 col2\" >16</td>\n",
       "      <td id=\"T_cd677_row2_col3\" class=\"data row2 col3\" >5</td>\n",
       "    </tr>\n",
       "    <tr>\n",
       "      <th id=\"T_cd677_level0_row3\" class=\"row_heading level0 row3\" >3</th>\n",
       "      <td id=\"T_cd677_row3_col0\" class=\"data row3 col0\" >495</td>\n",
       "      <td id=\"T_cd677_row3_col1\" class=\"data row3 col1\" >4379</td>\n",
       "      <td id=\"T_cd677_row3_col2\" class=\"data row3 col2\" >17</td>\n",
       "      <td id=\"T_cd677_row3_col3\" class=\"data row3 col3\" >10</td>\n",
       "    </tr>\n",
       "    <tr>\n",
       "      <th id=\"T_cd677_level0_row4\" class=\"row_heading level0 row4\" >4</th>\n",
       "      <td id=\"T_cd677_row4_col0\" class=\"data row4 col0\" >505</td>\n",
       "      <td id=\"T_cd677_row4_col1\" class=\"data row4 col1\" >4381</td>\n",
       "      <td id=\"T_cd677_row4_col2\" class=\"data row4 col2\" >10</td>\n",
       "      <td id=\"T_cd677_row4_col3\" class=\"data row4 col3\" >5</td>\n",
       "    </tr>\n",
       "    <tr>\n",
       "      <th id=\"T_cd677_level0_row5\" class=\"row_heading level0 row5\" >5</th>\n",
       "      <td id=\"T_cd677_row5_col0\" class=\"data row5 col0\" >472</td>\n",
       "      <td id=\"T_cd677_row5_col1\" class=\"data row5 col1\" >4405</td>\n",
       "      <td id=\"T_cd677_row5_col2\" class=\"data row5 col2\" >10</td>\n",
       "      <td id=\"T_cd677_row5_col3\" class=\"data row5 col3\" >14</td>\n",
       "    </tr>\n",
       "    <tr>\n",
       "      <th id=\"T_cd677_level0_row6\" class=\"row_heading level0 row6\" >6</th>\n",
       "      <td id=\"T_cd677_row6_col0\" class=\"data row6 col0\" >474</td>\n",
       "      <td id=\"T_cd677_row6_col1\" class=\"data row6 col1\" >4401</td>\n",
       "      <td id=\"T_cd677_row6_col2\" class=\"data row6 col2\" >9</td>\n",
       "      <td id=\"T_cd677_row6_col3\" class=\"data row6 col3\" >17</td>\n",
       "    </tr>\n",
       "    <tr>\n",
       "      <th id=\"T_cd677_level0_row7\" class=\"row_heading level0 row7\" >7</th>\n",
       "      <td id=\"T_cd677_row7_col0\" class=\"data row7 col0\" >469</td>\n",
       "      <td id=\"T_cd677_row7_col1\" class=\"data row7 col1\" >4406</td>\n",
       "      <td id=\"T_cd677_row7_col2\" class=\"data row7 col2\" >5</td>\n",
       "      <td id=\"T_cd677_row7_col3\" class=\"data row7 col3\" >21</td>\n",
       "    </tr>\n",
       "    <tr>\n",
       "      <th id=\"T_cd677_level0_row8\" class=\"row_heading level0 row8\" >8</th>\n",
       "      <td id=\"T_cd677_row8_col0\" class=\"data row8 col0\" >442</td>\n",
       "      <td id=\"T_cd677_row8_col1\" class=\"data row8 col1\" >4439</td>\n",
       "      <td id=\"T_cd677_row8_col2\" class=\"data row8 col2\" >5</td>\n",
       "      <td id=\"T_cd677_row8_col3\" class=\"data row8 col3\" >15</td>\n",
       "    </tr>\n",
       "    <tr>\n",
       "      <th id=\"T_cd677_level0_row9\" class=\"row_heading level0 row9\" >9</th>\n",
       "      <td id=\"T_cd677_row9_col0\" class=\"data row9 col0\" >468</td>\n",
       "      <td id=\"T_cd677_row9_col1\" class=\"data row9 col1\" >4420</td>\n",
       "      <td id=\"T_cd677_row9_col2\" class=\"data row9 col2\" >2</td>\n",
       "      <td id=\"T_cd677_row9_col3\" class=\"data row9 col3\" >11</td>\n",
       "    </tr>\n",
       "  </tbody>\n",
       "</table>\n"
      ]
     },
     "metadata": {}
    },
    {
     "output_type": "stream",
     "name": "stdout",
     "text": [
      "\n"
     ]
    },
    {
     "output_type": "execute_result",
     "data": {
      "text/plain": [
       "{'accuracy': 0.9773515609059376,\n",
       " 'precision': 0.9776869620225307,\n",
       " 'recall': 0.977163321960053,\n",
       " 'f1_score': 0.9773187191403638}"
      ]
     },
     "metadata": {},
     "execution_count": 25
    }
   ],
   "source": [
    "metrics = MulticlassClassificationMetrics(val_ds_y, ans_val_f1_score)\n",
    "print(metrics)\n",
    "metrics.metrics()"
   ]
  },
  {
   "cell_type": "markdown",
   "metadata": {
    "id": "-RomA9mSnbEX"
   },
   "source": [
    "### Среднее скользящее по accuracy чекпоинт"
   ]
  },
  {
   "cell_type": "code",
   "execution_count": 26,
   "metadata": {
    "colab": {
     "base_uri": "https://localhost:8080/",
     "height": 535
    },
    "executionInfo": {
     "elapsed": 29,
     "status": "ok",
     "timestamp": 1681668402320,
     "user": {
      "displayName": "Гриша Безруков",
      "userId": "02717934454974586898"
     },
     "user_tz": -180
    },
    "id": "FbPidiv_nzkj",
    "outputId": "ae66c4d5-d48d-4592-e85f-7e64a8e3ee3b"
   },
   "outputs": [
    {
     "output_type": "display_data",
     "data": {
      "text/plain": [
       "<pandas.io.formats.style.Styler at 0x7fe7d4706e20>"
      ],
      "text/html": [
       "<style type=\"text/css\">\n",
       "#T_fc0f2 * {\n",
       "  background-color: darkgreen;\n",
       "  color: white;\n",
       "  font-size: 12pt;\n",
       "}\n",
       "#T_fc0f2 td:hover {\n",
       "  background-color: green;\n",
       "  color: white;\n",
       "}\n",
       "#T_fc0f2_row0_col0, #T_fc0f2_row0_col1, #T_fc0f2_row0_col2, #T_fc0f2_row0_col3, #T_fc0f2_row1_col0, #T_fc0f2_row1_col1, #T_fc0f2_row1_col2, #T_fc0f2_row1_col3, #T_fc0f2_row2_col0, #T_fc0f2_row2_col1, #T_fc0f2_row2_col2, #T_fc0f2_row2_col3, #T_fc0f2_row3_col0, #T_fc0f2_row3_col1, #T_fc0f2_row3_col2, #T_fc0f2_row3_col3, #T_fc0f2_row4_col0, #T_fc0f2_row4_col1, #T_fc0f2_row4_col2, #T_fc0f2_row4_col3, #T_fc0f2_row5_col0, #T_fc0f2_row5_col1, #T_fc0f2_row5_col2, #T_fc0f2_row5_col3, #T_fc0f2_row6_col0, #T_fc0f2_row6_col1, #T_fc0f2_row6_col2, #T_fc0f2_row6_col3, #T_fc0f2_row7_col0, #T_fc0f2_row7_col1, #T_fc0f2_row7_col2, #T_fc0f2_row7_col3, #T_fc0f2_row8_col0, #T_fc0f2_row8_col1, #T_fc0f2_row8_col2, #T_fc0f2_row8_col3, #T_fc0f2_row9_col0, #T_fc0f2_row9_col1, #T_fc0f2_row9_col2, #T_fc0f2_row9_col3 {\n",
       "  background-color: lightgreen;\n",
       "  color: black;\n",
       "  font-size: 12pt;\n",
       "}\n",
       "</style>\n",
       "<table id=\"T_fc0f2\" class=\"dataframe\">\n",
       "  <thead>\n",
       "    <tr>\n",
       "      <th class=\"blank level0\" >&nbsp;</th>\n",
       "      <th id=\"T_fc0f2_level0_col0\" class=\"col_heading level0 col0\" >TP</th>\n",
       "      <th id=\"T_fc0f2_level0_col1\" class=\"col_heading level0 col1\" >TN</th>\n",
       "      <th id=\"T_fc0f2_level0_col2\" class=\"col_heading level0 col2\" >FP</th>\n",
       "      <th id=\"T_fc0f2_level0_col3\" class=\"col_heading level0 col3\" >FN</th>\n",
       "    </tr>\n",
       "    <tr>\n",
       "      <th class=\"index_name level0\" >class_type</th>\n",
       "      <th class=\"blank col0\" >&nbsp;</th>\n",
       "      <th class=\"blank col1\" >&nbsp;</th>\n",
       "      <th class=\"blank col2\" >&nbsp;</th>\n",
       "      <th class=\"blank col3\" >&nbsp;</th>\n",
       "    </tr>\n",
       "  </thead>\n",
       "  <tbody>\n",
       "    <tr>\n",
       "      <th id=\"T_fc0f2_level0_row0\" class=\"row_heading level0 row0\" >0</th>\n",
       "      <td id=\"T_fc0f2_row0_col0\" class=\"data row0 col0\" >494</td>\n",
       "      <td id=\"T_fc0f2_row0_col1\" class=\"data row0 col1\" >4398</td>\n",
       "      <td id=\"T_fc0f2_row0_col2\" class=\"data row0 col2\" >4</td>\n",
       "      <td id=\"T_fc0f2_row0_col3\" class=\"data row0 col3\" >5</td>\n",
       "    </tr>\n",
       "    <tr>\n",
       "      <th id=\"T_fc0f2_level0_row1\" class=\"row_heading level0 row1\" >1</th>\n",
       "      <td id=\"T_fc0f2_row1_col0\" class=\"data row1 col0\" >470</td>\n",
       "      <td id=\"T_fc0f2_row1_col1\" class=\"data row1 col1\" >4409</td>\n",
       "      <td id=\"T_fc0f2_row1_col2\" class=\"data row1 col2\" >12</td>\n",
       "      <td id=\"T_fc0f2_row1_col3\" class=\"data row1 col3\" >10</td>\n",
       "    </tr>\n",
       "    <tr>\n",
       "      <th id=\"T_fc0f2_level0_row2\" class=\"row_heading level0 row2\" >2</th>\n",
       "      <td id=\"T_fc0f2_row2_col0\" class=\"data row2 col0\" >499</td>\n",
       "      <td id=\"T_fc0f2_row2_col1\" class=\"data row2 col1\" >4390</td>\n",
       "      <td id=\"T_fc0f2_row2_col2\" class=\"data row2 col2\" >7</td>\n",
       "      <td id=\"T_fc0f2_row2_col3\" class=\"data row2 col3\" >5</td>\n",
       "    </tr>\n",
       "    <tr>\n",
       "      <th id=\"T_fc0f2_level0_row3\" class=\"row_heading level0 row3\" >3</th>\n",
       "      <td id=\"T_fc0f2_row3_col0\" class=\"data row3 col0\" >493</td>\n",
       "      <td id=\"T_fc0f2_row3_col1\" class=\"data row3 col1\" >4388</td>\n",
       "      <td id=\"T_fc0f2_row3_col2\" class=\"data row3 col2\" >8</td>\n",
       "      <td id=\"T_fc0f2_row3_col3\" class=\"data row3 col3\" >12</td>\n",
       "    </tr>\n",
       "    <tr>\n",
       "      <th id=\"T_fc0f2_level0_row4\" class=\"row_heading level0 row4\" >4</th>\n",
       "      <td id=\"T_fc0f2_row4_col0\" class=\"data row4 col0\" >507</td>\n",
       "      <td id=\"T_fc0f2_row4_col1\" class=\"data row4 col1\" >4386</td>\n",
       "      <td id=\"T_fc0f2_row4_col2\" class=\"data row4 col2\" >5</td>\n",
       "      <td id=\"T_fc0f2_row4_col3\" class=\"data row4 col3\" >3</td>\n",
       "    </tr>\n",
       "    <tr>\n",
       "      <th id=\"T_fc0f2_level0_row5\" class=\"row_heading level0 row5\" >5</th>\n",
       "      <td id=\"T_fc0f2_row5_col0\" class=\"data row5 col0\" >478</td>\n",
       "      <td id=\"T_fc0f2_row5_col1\" class=\"data row5 col1\" >4404</td>\n",
       "      <td id=\"T_fc0f2_row5_col2\" class=\"data row5 col2\" >11</td>\n",
       "      <td id=\"T_fc0f2_row5_col3\" class=\"data row5 col3\" >8</td>\n",
       "    </tr>\n",
       "    <tr>\n",
       "      <th id=\"T_fc0f2_level0_row6\" class=\"row_heading level0 row6\" >6</th>\n",
       "      <td id=\"T_fc0f2_row6_col0\" class=\"data row6 col0\" >483</td>\n",
       "      <td id=\"T_fc0f2_row6_col1\" class=\"data row6 col1\" >4399</td>\n",
       "      <td id=\"T_fc0f2_row6_col2\" class=\"data row6 col2\" >11</td>\n",
       "      <td id=\"T_fc0f2_row6_col3\" class=\"data row6 col3\" >8</td>\n",
       "    </tr>\n",
       "    <tr>\n",
       "      <th id=\"T_fc0f2_level0_row7\" class=\"row_heading level0 row7\" >7</th>\n",
       "      <td id=\"T_fc0f2_row7_col0\" class=\"data row7 col0\" >482</td>\n",
       "      <td id=\"T_fc0f2_row7_col1\" class=\"data row7 col1\" >4405</td>\n",
       "      <td id=\"T_fc0f2_row7_col2\" class=\"data row7 col2\" >6</td>\n",
       "      <td id=\"T_fc0f2_row7_col3\" class=\"data row7 col3\" >8</td>\n",
       "    </tr>\n",
       "    <tr>\n",
       "      <th id=\"T_fc0f2_level0_row8\" class=\"row_heading level0 row8\" >8</th>\n",
       "      <td id=\"T_fc0f2_row8_col0\" class=\"data row8 col0\" >444</td>\n",
       "      <td id=\"T_fc0f2_row8_col1\" class=\"data row8 col1\" >4438</td>\n",
       "      <td id=\"T_fc0f2_row8_col2\" class=\"data row8 col2\" >6</td>\n",
       "      <td id=\"T_fc0f2_row8_col3\" class=\"data row8 col3\" >13</td>\n",
       "    </tr>\n",
       "    <tr>\n",
       "      <th id=\"T_fc0f2_level0_row9\" class=\"row_heading level0 row9\" >9</th>\n",
       "      <td id=\"T_fc0f2_row9_col0\" class=\"data row9 col0\" >476</td>\n",
       "      <td id=\"T_fc0f2_row9_col1\" class=\"data row9 col1\" >4417</td>\n",
       "      <td id=\"T_fc0f2_row9_col2\" class=\"data row9 col2\" >5</td>\n",
       "      <td id=\"T_fc0f2_row9_col3\" class=\"data row9 col3\" >3</td>\n",
       "    </tr>\n",
       "  </tbody>\n",
       "</table>\n"
      ]
     },
     "metadata": {}
    },
    {
     "output_type": "stream",
     "name": "stdout",
     "text": [
      "\n"
     ]
    },
    {
     "output_type": "execute_result",
     "data": {
      "text/plain": [
       "{'accuracy': 0.98469700061212,\n",
       " 'precision': 0.9846718405259809,\n",
       " 'recall': 0.984579110998921,\n",
       " 'f1_score': 0.9846141241249693}"
      ]
     },
     "metadata": {},
     "execution_count": 26
    }
   ],
   "source": [
    "metrics = MulticlassClassificationMetrics(val_ds_y, ans_val_avg_categorical_accuracy)\n",
    "print(metrics)\n",
    "metrics.metrics()"
   ]
  },
  {
   "cell_type": "markdown",
   "metadata": {
    "id": "n3XxFZkGoJRz"
   },
   "source": [
    "### Скользящее среднее по F1-score чекпоинт"
   ]
  },
  {
   "cell_type": "code",
   "execution_count": 27,
   "metadata": {
    "colab": {
     "base_uri": "https://localhost:8080/",
     "height": 535
    },
    "executionInfo": {
     "elapsed": 25,
     "status": "ok",
     "timestamp": 1681668402321,
     "user": {
      "displayName": "Гриша Безруков",
      "userId": "02717934454974586898"
     },
     "user_tz": -180
    },
    "id": "VfiFu2NkoKUT",
    "outputId": "680c1d47-e2e6-45a2-a105-51f18c76b41c"
   },
   "outputs": [
    {
     "output_type": "display_data",
     "data": {
      "text/plain": [
       "<pandas.io.formats.style.Styler at 0x7fe7e40a4220>"
      ],
      "text/html": [
       "<style type=\"text/css\">\n",
       "#T_e8085 * {\n",
       "  background-color: darkgreen;\n",
       "  color: white;\n",
       "  font-size: 12pt;\n",
       "}\n",
       "#T_e8085 td:hover {\n",
       "  background-color: green;\n",
       "  color: white;\n",
       "}\n",
       "#T_e8085_row0_col0, #T_e8085_row0_col1, #T_e8085_row0_col2, #T_e8085_row0_col3, #T_e8085_row1_col0, #T_e8085_row1_col1, #T_e8085_row1_col2, #T_e8085_row1_col3, #T_e8085_row2_col0, #T_e8085_row2_col1, #T_e8085_row2_col2, #T_e8085_row2_col3, #T_e8085_row3_col0, #T_e8085_row3_col1, #T_e8085_row3_col2, #T_e8085_row3_col3, #T_e8085_row4_col0, #T_e8085_row4_col1, #T_e8085_row4_col2, #T_e8085_row4_col3, #T_e8085_row5_col0, #T_e8085_row5_col1, #T_e8085_row5_col2, #T_e8085_row5_col3, #T_e8085_row6_col0, #T_e8085_row6_col1, #T_e8085_row6_col2, #T_e8085_row6_col3, #T_e8085_row7_col0, #T_e8085_row7_col1, #T_e8085_row7_col2, #T_e8085_row7_col3, #T_e8085_row8_col0, #T_e8085_row8_col1, #T_e8085_row8_col2, #T_e8085_row8_col3, #T_e8085_row9_col0, #T_e8085_row9_col1, #T_e8085_row9_col2, #T_e8085_row9_col3 {\n",
       "  background-color: lightgreen;\n",
       "  color: black;\n",
       "  font-size: 12pt;\n",
       "}\n",
       "</style>\n",
       "<table id=\"T_e8085\" class=\"dataframe\">\n",
       "  <thead>\n",
       "    <tr>\n",
       "      <th class=\"blank level0\" >&nbsp;</th>\n",
       "      <th id=\"T_e8085_level0_col0\" class=\"col_heading level0 col0\" >TP</th>\n",
       "      <th id=\"T_e8085_level0_col1\" class=\"col_heading level0 col1\" >TN</th>\n",
       "      <th id=\"T_e8085_level0_col2\" class=\"col_heading level0 col2\" >FP</th>\n",
       "      <th id=\"T_e8085_level0_col3\" class=\"col_heading level0 col3\" >FN</th>\n",
       "    </tr>\n",
       "    <tr>\n",
       "      <th class=\"index_name level0\" >class_type</th>\n",
       "      <th class=\"blank col0\" >&nbsp;</th>\n",
       "      <th class=\"blank col1\" >&nbsp;</th>\n",
       "      <th class=\"blank col2\" >&nbsp;</th>\n",
       "      <th class=\"blank col3\" >&nbsp;</th>\n",
       "    </tr>\n",
       "  </thead>\n",
       "  <tbody>\n",
       "    <tr>\n",
       "      <th id=\"T_e8085_level0_row0\" class=\"row_heading level0 row0\" >0</th>\n",
       "      <td id=\"T_e8085_row0_col0\" class=\"data row0 col0\" >494</td>\n",
       "      <td id=\"T_e8085_row0_col1\" class=\"data row0 col1\" >4398</td>\n",
       "      <td id=\"T_e8085_row0_col2\" class=\"data row0 col2\" >4</td>\n",
       "      <td id=\"T_e8085_row0_col3\" class=\"data row0 col3\" >5</td>\n",
       "    </tr>\n",
       "    <tr>\n",
       "      <th id=\"T_e8085_level0_row1\" class=\"row_heading level0 row1\" >1</th>\n",
       "      <td id=\"T_e8085_row1_col0\" class=\"data row1 col0\" >470</td>\n",
       "      <td id=\"T_e8085_row1_col1\" class=\"data row1 col1\" >4409</td>\n",
       "      <td id=\"T_e8085_row1_col2\" class=\"data row1 col2\" >12</td>\n",
       "      <td id=\"T_e8085_row1_col3\" class=\"data row1 col3\" >10</td>\n",
       "    </tr>\n",
       "    <tr>\n",
       "      <th id=\"T_e8085_level0_row2\" class=\"row_heading level0 row2\" >2</th>\n",
       "      <td id=\"T_e8085_row2_col0\" class=\"data row2 col0\" >499</td>\n",
       "      <td id=\"T_e8085_row2_col1\" class=\"data row2 col1\" >4390</td>\n",
       "      <td id=\"T_e8085_row2_col2\" class=\"data row2 col2\" >7</td>\n",
       "      <td id=\"T_e8085_row2_col3\" class=\"data row2 col3\" >5</td>\n",
       "    </tr>\n",
       "    <tr>\n",
       "      <th id=\"T_e8085_level0_row3\" class=\"row_heading level0 row3\" >3</th>\n",
       "      <td id=\"T_e8085_row3_col0\" class=\"data row3 col0\" >493</td>\n",
       "      <td id=\"T_e8085_row3_col1\" class=\"data row3 col1\" >4388</td>\n",
       "      <td id=\"T_e8085_row3_col2\" class=\"data row3 col2\" >8</td>\n",
       "      <td id=\"T_e8085_row3_col3\" class=\"data row3 col3\" >12</td>\n",
       "    </tr>\n",
       "    <tr>\n",
       "      <th id=\"T_e8085_level0_row4\" class=\"row_heading level0 row4\" >4</th>\n",
       "      <td id=\"T_e8085_row4_col0\" class=\"data row4 col0\" >507</td>\n",
       "      <td id=\"T_e8085_row4_col1\" class=\"data row4 col1\" >4386</td>\n",
       "      <td id=\"T_e8085_row4_col2\" class=\"data row4 col2\" >5</td>\n",
       "      <td id=\"T_e8085_row4_col3\" class=\"data row4 col3\" >3</td>\n",
       "    </tr>\n",
       "    <tr>\n",
       "      <th id=\"T_e8085_level0_row5\" class=\"row_heading level0 row5\" >5</th>\n",
       "      <td id=\"T_e8085_row5_col0\" class=\"data row5 col0\" >478</td>\n",
       "      <td id=\"T_e8085_row5_col1\" class=\"data row5 col1\" >4404</td>\n",
       "      <td id=\"T_e8085_row5_col2\" class=\"data row5 col2\" >11</td>\n",
       "      <td id=\"T_e8085_row5_col3\" class=\"data row5 col3\" >8</td>\n",
       "    </tr>\n",
       "    <tr>\n",
       "      <th id=\"T_e8085_level0_row6\" class=\"row_heading level0 row6\" >6</th>\n",
       "      <td id=\"T_e8085_row6_col0\" class=\"data row6 col0\" >483</td>\n",
       "      <td id=\"T_e8085_row6_col1\" class=\"data row6 col1\" >4399</td>\n",
       "      <td id=\"T_e8085_row6_col2\" class=\"data row6 col2\" >11</td>\n",
       "      <td id=\"T_e8085_row6_col3\" class=\"data row6 col3\" >8</td>\n",
       "    </tr>\n",
       "    <tr>\n",
       "      <th id=\"T_e8085_level0_row7\" class=\"row_heading level0 row7\" >7</th>\n",
       "      <td id=\"T_e8085_row7_col0\" class=\"data row7 col0\" >482</td>\n",
       "      <td id=\"T_e8085_row7_col1\" class=\"data row7 col1\" >4405</td>\n",
       "      <td id=\"T_e8085_row7_col2\" class=\"data row7 col2\" >6</td>\n",
       "      <td id=\"T_e8085_row7_col3\" class=\"data row7 col3\" >8</td>\n",
       "    </tr>\n",
       "    <tr>\n",
       "      <th id=\"T_e8085_level0_row8\" class=\"row_heading level0 row8\" >8</th>\n",
       "      <td id=\"T_e8085_row8_col0\" class=\"data row8 col0\" >444</td>\n",
       "      <td id=\"T_e8085_row8_col1\" class=\"data row8 col1\" >4438</td>\n",
       "      <td id=\"T_e8085_row8_col2\" class=\"data row8 col2\" >6</td>\n",
       "      <td id=\"T_e8085_row8_col3\" class=\"data row8 col3\" >13</td>\n",
       "    </tr>\n",
       "    <tr>\n",
       "      <th id=\"T_e8085_level0_row9\" class=\"row_heading level0 row9\" >9</th>\n",
       "      <td id=\"T_e8085_row9_col0\" class=\"data row9 col0\" >476</td>\n",
       "      <td id=\"T_e8085_row9_col1\" class=\"data row9 col1\" >4417</td>\n",
       "      <td id=\"T_e8085_row9_col2\" class=\"data row9 col2\" >5</td>\n",
       "      <td id=\"T_e8085_row9_col3\" class=\"data row9 col3\" >3</td>\n",
       "    </tr>\n",
       "  </tbody>\n",
       "</table>\n"
      ]
     },
     "metadata": {}
    },
    {
     "output_type": "stream",
     "name": "stdout",
     "text": [
      "\n"
     ]
    },
    {
     "output_type": "execute_result",
     "data": {
      "text/plain": [
       "{'accuracy': 0.98469700061212,\n",
       " 'precision': 0.9846718405259809,\n",
       " 'recall': 0.984579110998921,\n",
       " 'f1_score': 0.9846141241249693}"
      ]
     },
     "metadata": {},
     "execution_count": 27
    }
   ],
   "source": [
    "metrics = MulticlassClassificationMetrics(val_ds_y, ans_val_avg_f1_score)\n",
    "print(metrics)\n",
    "metrics.metrics()"
   ]
  },
  {
   "cell_type": "markdown",
   "metadata": {
    "id": "GgRLnsAVoL8j"
   },
   "source": [
    "### Скользящее среднее по Loss чекпоинт"
   ]
  },
  {
   "cell_type": "code",
   "execution_count": 28,
   "metadata": {
    "colab": {
     "base_uri": "https://localhost:8080/",
     "height": 535
    },
    "executionInfo": {
     "elapsed": 533,
     "status": "ok",
     "timestamp": 1681668449019,
     "user": {
      "displayName": "Гриша Безруков",
      "userId": "02717934454974586898"
     },
     "user_tz": -180
    },
    "id": "EzhQuXaMoSjz",
    "outputId": "97d497f1-797b-493c-ed1d-eb112f072a90"
   },
   "outputs": [
    {
     "output_type": "display_data",
     "data": {
      "text/plain": [
       "<pandas.io.formats.style.Styler at 0x7fe7e41addf0>"
      ],
      "text/html": [
       "<style type=\"text/css\">\n",
       "#T_b4844 * {\n",
       "  background-color: darkgreen;\n",
       "  color: white;\n",
       "  font-size: 12pt;\n",
       "}\n",
       "#T_b4844 td:hover {\n",
       "  background-color: green;\n",
       "  color: white;\n",
       "}\n",
       "#T_b4844_row0_col0, #T_b4844_row0_col1, #T_b4844_row0_col2, #T_b4844_row0_col3, #T_b4844_row1_col0, #T_b4844_row1_col1, #T_b4844_row1_col2, #T_b4844_row1_col3, #T_b4844_row2_col0, #T_b4844_row2_col1, #T_b4844_row2_col2, #T_b4844_row2_col3, #T_b4844_row3_col0, #T_b4844_row3_col1, #T_b4844_row3_col2, #T_b4844_row3_col3, #T_b4844_row4_col0, #T_b4844_row4_col1, #T_b4844_row4_col2, #T_b4844_row4_col3, #T_b4844_row5_col0, #T_b4844_row5_col1, #T_b4844_row5_col2, #T_b4844_row5_col3, #T_b4844_row6_col0, #T_b4844_row6_col1, #T_b4844_row6_col2, #T_b4844_row6_col3, #T_b4844_row7_col0, #T_b4844_row7_col1, #T_b4844_row7_col2, #T_b4844_row7_col3, #T_b4844_row8_col0, #T_b4844_row8_col1, #T_b4844_row8_col2, #T_b4844_row8_col3, #T_b4844_row9_col0, #T_b4844_row9_col1, #T_b4844_row9_col2, #T_b4844_row9_col3 {\n",
       "  background-color: lightgreen;\n",
       "  color: black;\n",
       "  font-size: 12pt;\n",
       "}\n",
       "</style>\n",
       "<table id=\"T_b4844\" class=\"dataframe\">\n",
       "  <thead>\n",
       "    <tr>\n",
       "      <th class=\"blank level0\" >&nbsp;</th>\n",
       "      <th id=\"T_b4844_level0_col0\" class=\"col_heading level0 col0\" >TP</th>\n",
       "      <th id=\"T_b4844_level0_col1\" class=\"col_heading level0 col1\" >TN</th>\n",
       "      <th id=\"T_b4844_level0_col2\" class=\"col_heading level0 col2\" >FP</th>\n",
       "      <th id=\"T_b4844_level0_col3\" class=\"col_heading level0 col3\" >FN</th>\n",
       "    </tr>\n",
       "    <tr>\n",
       "      <th class=\"index_name level0\" >class_type</th>\n",
       "      <th class=\"blank col0\" >&nbsp;</th>\n",
       "      <th class=\"blank col1\" >&nbsp;</th>\n",
       "      <th class=\"blank col2\" >&nbsp;</th>\n",
       "      <th class=\"blank col3\" >&nbsp;</th>\n",
       "    </tr>\n",
       "  </thead>\n",
       "  <tbody>\n",
       "    <tr>\n",
       "      <th id=\"T_b4844_level0_row0\" class=\"row_heading level0 row0\" >0</th>\n",
       "      <td id=\"T_b4844_row0_col0\" class=\"data row0 col0\" >494</td>\n",
       "      <td id=\"T_b4844_row0_col1\" class=\"data row0 col1\" >4398</td>\n",
       "      <td id=\"T_b4844_row0_col2\" class=\"data row0 col2\" >4</td>\n",
       "      <td id=\"T_b4844_row0_col3\" class=\"data row0 col3\" >5</td>\n",
       "    </tr>\n",
       "    <tr>\n",
       "      <th id=\"T_b4844_level0_row1\" class=\"row_heading level0 row1\" >1</th>\n",
       "      <td id=\"T_b4844_row1_col0\" class=\"data row1 col0\" >470</td>\n",
       "      <td id=\"T_b4844_row1_col1\" class=\"data row1 col1\" >4409</td>\n",
       "      <td id=\"T_b4844_row1_col2\" class=\"data row1 col2\" >12</td>\n",
       "      <td id=\"T_b4844_row1_col3\" class=\"data row1 col3\" >10</td>\n",
       "    </tr>\n",
       "    <tr>\n",
       "      <th id=\"T_b4844_level0_row2\" class=\"row_heading level0 row2\" >2</th>\n",
       "      <td id=\"T_b4844_row2_col0\" class=\"data row2 col0\" >499</td>\n",
       "      <td id=\"T_b4844_row2_col1\" class=\"data row2 col1\" >4390</td>\n",
       "      <td id=\"T_b4844_row2_col2\" class=\"data row2 col2\" >7</td>\n",
       "      <td id=\"T_b4844_row2_col3\" class=\"data row2 col3\" >5</td>\n",
       "    </tr>\n",
       "    <tr>\n",
       "      <th id=\"T_b4844_level0_row3\" class=\"row_heading level0 row3\" >3</th>\n",
       "      <td id=\"T_b4844_row3_col0\" class=\"data row3 col0\" >493</td>\n",
       "      <td id=\"T_b4844_row3_col1\" class=\"data row3 col1\" >4388</td>\n",
       "      <td id=\"T_b4844_row3_col2\" class=\"data row3 col2\" >8</td>\n",
       "      <td id=\"T_b4844_row3_col3\" class=\"data row3 col3\" >12</td>\n",
       "    </tr>\n",
       "    <tr>\n",
       "      <th id=\"T_b4844_level0_row4\" class=\"row_heading level0 row4\" >4</th>\n",
       "      <td id=\"T_b4844_row4_col0\" class=\"data row4 col0\" >507</td>\n",
       "      <td id=\"T_b4844_row4_col1\" class=\"data row4 col1\" >4386</td>\n",
       "      <td id=\"T_b4844_row4_col2\" class=\"data row4 col2\" >5</td>\n",
       "      <td id=\"T_b4844_row4_col3\" class=\"data row4 col3\" >3</td>\n",
       "    </tr>\n",
       "    <tr>\n",
       "      <th id=\"T_b4844_level0_row5\" class=\"row_heading level0 row5\" >5</th>\n",
       "      <td id=\"T_b4844_row5_col0\" class=\"data row5 col0\" >478</td>\n",
       "      <td id=\"T_b4844_row5_col1\" class=\"data row5 col1\" >4404</td>\n",
       "      <td id=\"T_b4844_row5_col2\" class=\"data row5 col2\" >11</td>\n",
       "      <td id=\"T_b4844_row5_col3\" class=\"data row5 col3\" >8</td>\n",
       "    </tr>\n",
       "    <tr>\n",
       "      <th id=\"T_b4844_level0_row6\" class=\"row_heading level0 row6\" >6</th>\n",
       "      <td id=\"T_b4844_row6_col0\" class=\"data row6 col0\" >483</td>\n",
       "      <td id=\"T_b4844_row6_col1\" class=\"data row6 col1\" >4399</td>\n",
       "      <td id=\"T_b4844_row6_col2\" class=\"data row6 col2\" >11</td>\n",
       "      <td id=\"T_b4844_row6_col3\" class=\"data row6 col3\" >8</td>\n",
       "    </tr>\n",
       "    <tr>\n",
       "      <th id=\"T_b4844_level0_row7\" class=\"row_heading level0 row7\" >7</th>\n",
       "      <td id=\"T_b4844_row7_col0\" class=\"data row7 col0\" >482</td>\n",
       "      <td id=\"T_b4844_row7_col1\" class=\"data row7 col1\" >4405</td>\n",
       "      <td id=\"T_b4844_row7_col2\" class=\"data row7 col2\" >6</td>\n",
       "      <td id=\"T_b4844_row7_col3\" class=\"data row7 col3\" >8</td>\n",
       "    </tr>\n",
       "    <tr>\n",
       "      <th id=\"T_b4844_level0_row8\" class=\"row_heading level0 row8\" >8</th>\n",
       "      <td id=\"T_b4844_row8_col0\" class=\"data row8 col0\" >444</td>\n",
       "      <td id=\"T_b4844_row8_col1\" class=\"data row8 col1\" >4438</td>\n",
       "      <td id=\"T_b4844_row8_col2\" class=\"data row8 col2\" >6</td>\n",
       "      <td id=\"T_b4844_row8_col3\" class=\"data row8 col3\" >13</td>\n",
       "    </tr>\n",
       "    <tr>\n",
       "      <th id=\"T_b4844_level0_row9\" class=\"row_heading level0 row9\" >9</th>\n",
       "      <td id=\"T_b4844_row9_col0\" class=\"data row9 col0\" >476</td>\n",
       "      <td id=\"T_b4844_row9_col1\" class=\"data row9 col1\" >4417</td>\n",
       "      <td id=\"T_b4844_row9_col2\" class=\"data row9 col2\" >5</td>\n",
       "      <td id=\"T_b4844_row9_col3\" class=\"data row9 col3\" >3</td>\n",
       "    </tr>\n",
       "  </tbody>\n",
       "</table>\n"
      ]
     },
     "metadata": {}
    },
    {
     "output_type": "stream",
     "name": "stdout",
     "text": [
      "\n"
     ]
    },
    {
     "output_type": "execute_result",
     "data": {
      "text/plain": [
       "{'accuracy': 0.98469700061212,\n",
       " 'precision': 0.9846718405259809,\n",
       " 'recall': 0.984579110998921,\n",
       " 'f1_score': 0.9846141241249693}"
      ]
     },
     "metadata": {},
     "execution_count": 28
    }
   ],
   "source": [
    "metrics = MulticlassClassificationMetrics(val_ds_y, ans_val_avg_loss)\n",
    "print(metrics)\n",
    "metrics.metrics()"
   ]
  },
  {
   "cell_type": "code",
   "execution_count": 29,
   "metadata": {
    "id": "-nsgQPqDaXUL",
    "outputId": "6e554deb-f091-4ab6-df71-cb88fd507990",
    "colab": {
     "base_uri": "https://localhost:8080/",
     "height": 1000
    },
    "executionInfo": {
     "status": "ok",
     "timestamp": 1681668458871,
     "user_tz": -180,
     "elapsed": 1551,
     "user": {
      "displayName": "Гриша Безруков",
      "userId": "02717934454974586898"
     }
    }
   },
   "outputs": [
    {
     "output_type": "display_data",
     "data": {
      "text/plain": [
       "<Figure size 1400x1200 with 2 Axes>"
      ],
      "image/png": "[encoded data removed]"
     },
     "metadata": {}
    }
   ],
   "source": [
    "matrix = confusion_matrix(val_ds_y, ans_val_avg_categorical_accuracy)\n",
    "\n",
    "fig, ax = plt.subplots(figsize=(14, 12))\n",
    "seaborn.heatmap(matrix, annot=True, cmap='Greens', fmt='d', ax=ax)\n",
    "plt.title('Confusion Matrix for training dataset')\n",
    "plt.xlabel('Predicted label')\n",
    "plt.ylabel('True label')\n",
    "plt.show()"
   ]
  },
  {
   "cell_type": "markdown",
   "metadata": {
    "id": "ZCxq9l4W1h0D"
   },
   "source": [
    "- Сохраняем ответы."
   ]
  },
  {
   "cell_type": "code",
   "execution_count": 10,
   "metadata": {
    "id": "bQvnLPPp1h0D",
    "colab": {
     "base_uri": "https://localhost:8080/"
    },
    "executionInfo": {
     "status": "ok",
     "timestamp": 1681668539675,
     "user_tz": -180,
     "elapsed": 46996,
     "user": {
      "displayName": "Гриша Безруков",
      "userId": "02717934454974586898"
     }
    },
    "outputId": "4982eb93-830b-4a14-ec6f-d7ab416e6cc2"
   },
   "outputs": [
    {
     "name": "stdout",
     "output_type": "stream",
     "text": [
      "782/782 [==============================] - 428s 544ms/step\n"
     ]
    }
   ],
   "source": [
    "ans_test_categorical_accuracy = make_ans_file(model_categorical_acc, test_ds,\n",
    "                                              f'../answers/model{num_model}_categorical_accuracy.csv')\n",
    "ans_test_avg_categorical_accuracy = make_ans_file(model_avg_categorical_acc, test_ds,\n",
    "                                                  f'../answers/model{num_model}_avg_categorical_accuracy.csv')"
   ]
  },
  {
   "cell_type": "markdown",
   "metadata": {
    "id": "zEJYFGnE1h0E"
   },
   "source": [
    "Проверяем ответы (одинаковые они или нет), чтоб не терять кол-во отправок ответов на kaggle в день."
   ]
  },
  {
   "cell_type": "code",
   "execution_count": 32,
   "metadata": {
    "id": "hf3v3GDL1h0N",
    "colab": {
     "base_uri": "https://localhost:8080/"
    },
    "executionInfo": {
     "status": "ok",
     "timestamp": 1681668539677,
     "user_tz": -180,
     "elapsed": 106,
     "user": {
      "displayName": "Гриша Безруков",
      "userId": "02717934454974586898"
     }
    },
    "outputId": "10167afe-7738-49d9-f407-7d45b7c549bc"
   },
   "outputs": [
    {
     "output_type": "stream",
     "name": "stdout",
     "text": [
      "чекпоинты 1 и 2 одинаковые\n",
      "чекпоинты 1 и 3 одинаковые\n",
      "чекпоинты 2 и 3 одинаковые\n",
      "чекпоинты 4 и 5 одинаковые\n",
      "чекпоинты 4 и 6 одинаковые\n",
      "чекпоинты 5 и 6 одинаковые\n"
     ]
    }
   ],
   "source": [
    "for i in range(len(anss) - 1):\n",
    "    for j in range(i + 1, len(anss)):\n",
    "        if np.all(anss[i] == anss[j]):\n",
    "            print(f'чекпоинты {i + 1} и {j + 1} одинаковые')"
   ]
  },
  {
   "cell_type": "markdown",
   "metadata": {
    "id": "Oqwfnt9ydECy"
   },
   "source": [
    "- Accuracy чекпоинт: 0.93493\n",
    "- Loss чекпоинт: 0.92866"
   ]
  }
 ],
 "metadata": {
  "accelerator": "GPU",
  "colab": {
   "provenance": [],
   "gpuType": "T4"
  },
  "gpuClass": "standard",
  "kernelspec": {
   "display_name": "Python 3",
   "language": "python",
   "name": "python3"
  },
  "language_info": {
   "codemirror_mode": {
    "name": "ipython",
    "version": 3
   },
   "file_extension": ".py",
   "mimetype": "text/x-python",
   "name": "python",
   "nbconvert_exporter": "python",
   "pygments_lexer": "ipython3",
   "version": "3.10.10"
  },
  "orig_nbformat": 4
 },
 "nbformat": 4,
 "nbformat_minor": 0
}
