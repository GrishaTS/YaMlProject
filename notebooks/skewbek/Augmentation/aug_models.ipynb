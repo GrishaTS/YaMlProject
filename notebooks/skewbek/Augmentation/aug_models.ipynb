{
 "cells": [
  {
   "cell_type": "code",
   "execution_count": 1,
   "metadata": {
    "collapsed": true
   },
   "outputs": [],
   "source": [
    "import os\n",
    "\n",
    "import matplotlib.pyplot as plt\n",
    "from matplotlib.image import imread\n",
    "import torchvision as tv\n",
    "import numpy as np\n",
    "from PIL import Image\n",
    "\n",
    "from core.datasets import get_ds"
   ]
  },
  {
   "cell_type": "code",
   "execution_count": 2,
   "outputs": [
    {
     "name": "stdout",
     "output_type": "stream",
     "text": [
      "..\\..\\..\\data\\repaired_data_train\n",
      "..\\..\\..\\data\\repaired_data_test\n"
     ]
    },
    {
     "ename": "AttributeError",
     "evalue": "'list' object has no attribute 'shape'",
     "output_type": "error",
     "traceback": [
      "\u001B[1;31m---------------------------------------------------------------------------\u001B[0m",
      "\u001B[1;31mAttributeError\u001B[0m                            Traceback (most recent call last)",
      "Cell \u001B[1;32mIn[2], line 3\u001B[0m\n\u001B[0;32m      1\u001B[0m tr_empty \u001B[38;5;241m=\u001B[39m \u001B[38;5;28;01mNone\u001B[39;00m\n\u001B[1;32m----> 3\u001B[0m train_ds, val_ds, test_ds \u001B[38;5;241m=\u001B[39m \u001B[43mget_ds\u001B[49m\u001B[43m(\u001B[49m\u001B[43mtransform\u001B[49m\u001B[38;5;241;43m=\u001B[39;49m\u001B[43mtr_empty\u001B[49m\u001B[43m,\u001B[49m\u001B[43m \u001B[49m\u001B[43mback\u001B[49m\u001B[38;5;241;43m=\u001B[39;49m\u001B[38;5;241;43m3\u001B[39;49m\u001B[43m)\u001B[49m\n\u001B[0;32m      5\u001B[0m \u001B[38;5;28mprint\u001B[39m(train_ds[\u001B[38;5;241m0\u001B[39m])\n",
      "File \u001B[1;32m~\\PycharmProjects\\YaMlProject\\core\\datasets.py:54\u001B[0m, in \u001B[0;36mget_ds\u001B[1;34m(transform, batch_size, val_size, back)\u001B[0m\n\u001B[0;32m     48\u001B[0m data_test \u001B[38;5;241m=\u001B[39m open_f(\u001B[38;5;124m'\u001B[39m\u001B[38;5;124mrepaired_data_test\u001B[39m\u001B[38;5;124m'\u001B[39m, back)\n\u001B[0;32m     50\u001B[0m \u001B[38;5;66;03m# data_all['images'] = np.array(data_all['images'])\u001B[39;00m\n\u001B[0;32m     51\u001B[0m \u001B[38;5;66;03m# data_all['images'] = np.array(data_all['images'])\u001B[39;00m\n\u001B[1;32m---> 54\u001B[0m shuffle \u001B[38;5;241m=\u001B[39m np\u001B[38;5;241m.\u001B[39mrandom\u001B[38;5;241m.\u001B[39mpermutation(\u001B[43mdata_all\u001B[49m\u001B[43m[\u001B[49m\u001B[38;5;124;43m'\u001B[39;49m\u001B[38;5;124;43mimages\u001B[39;49m\u001B[38;5;124;43m'\u001B[39;49m\u001B[43m]\u001B[49m\u001B[38;5;241;43m.\u001B[39;49m\u001B[43mshape\u001B[49m[\u001B[38;5;241m0\u001B[39m])\n\u001B[0;32m     55\u001B[0m \u001B[38;5;66;03m# shuffle = np.random.permutation(len(data_all['images']))\u001B[39;00m\n\u001B[0;32m     56\u001B[0m train_images_full \u001B[38;5;241m=\u001B[39m data_all[\u001B[38;5;124m'\u001B[39m\u001B[38;5;124mimages\u001B[39m\u001B[38;5;124m'\u001B[39m][shuffle]\n",
      "\u001B[1;31mAttributeError\u001B[0m: 'list' object has no attribute 'shape'"
     ]
    }
   ],
   "source": [
    "tr_empty = None\n",
    "\n",
    "train_ds, val_ds, test_ds = get_ds(transform=tr_empty, back=3)\n",
    "\n",
    "print(train_ds[0])"
   ],
   "metadata": {
    "collapsed": false
   }
  }
 ],
 "metadata": {
  "kernelspec": {
   "display_name": "Python 3",
   "language": "python",
   "name": "python3"
  },
  "language_info": {
   "codemirror_mode": {
    "name": "ipython",
    "version": 2
   },
   "file_extension": ".py",
   "mimetype": "text/x-python",
   "name": "python",
   "nbconvert_exporter": "python",
   "pygments_lexer": "ipython2",
   "version": "2.7.6"
  }
 },
 "nbformat": 4,
 "nbformat_minor": 0
}
