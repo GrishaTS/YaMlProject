{
 "cells": [
  {
   "attachments": {},
   "cell_type": "markdown",
   "metadata": {},
   "source": [
    "# ResNet"
   ]
  },
  {
   "attachments": {},
   "cell_type": "markdown",
   "metadata": {},
   "source": [
    "Когда более глубокая сеть начинает сворачиваться, возникает проблема: с увеличением глубины сети точность сначала увеличивается, а затем быстро ухудшается. Снижение точности обучения показывает, что не все сети легко оптимизировать.\n",
    "\n"
   ]
  },
  {
   "attachments": {},
   "cell_type": "markdown",
   "metadata": {},
   "source": [
    "## Shortcut Connection"
   ]
  },
  {
   "attachments": {},
   "cell_type": "markdown",
   "metadata": {},
   "source": [
    "![-](data/shortcut-connection.png)"
   ]
  },
  {
   "attachments": {},
   "cell_type": "markdown",
   "metadata": {},
   "source": [
    "Соединения быстрого доступа пропускают один или несколько слоев и выполняют сопоставление идентификаторов. Их выходы добавляются к выходам stacked layers. \n",
    "\n",
    "Про такие соединения есть подробный разбор в `notebooks/skewbek/SkipConnection`"
   ]
  },
  {
   "attachments": {},
   "cell_type": "markdown",
   "metadata": {},
   "source": [
    "## Архитектура ResNet"
   ]
  },
  {
   "attachments": {},
   "cell_type": "markdown",
   "metadata": {},
   "source": [
    "![-](data/architecture.jpg)\n",
    "\n",
    "![-](data/architecture2.jpg)"
   ]
  },
  {
   "attachments": {},
   "cell_type": "markdown",
   "metadata": {},
   "source": [
    "Добавление быстрого соединения, которое превращает сеть в ее остаточную версию. Идентификационные быстрые соединения F(x{W}+x) могут использоваться непосредственно, когда вход и выход имеют одинаковые размерности (быстрые соединения сплошной линии на рис). Когда размерности увеличиваются (пунктирные линии на рис), он рассматривает два варианта:\n",
    "\n",
    "- Быстрое соединение выполняет сопоставление идентификаторов с дополнительными нулями, добавленными для увеличения размерности. Эта опция не вводит никаких дополнительных параметров.\n",
    "\n",
    "- Проекция быстрого соединения  в F(x{W}+x) используется для сопоставления размерностей (выполнено с помощью 1×1 сверток)."
   ]
  },
  {
   "attachments": {},
   "cell_type": "markdown",
   "metadata": {},
   "source": [
    "Такая архитектура совершила революцию в классификации изображения. Поэтому мы постараемся написать ResNet подобную модель. \n",
    "\n",
    "Чтобы понять какие изменения мы внесем в нашу модель, давайте выявим различия нашей задачи и задачи ResNet.\n",
    "\n",
    "- Классов у нас 10. А в ImageNet, датасет для которого был написан resnet, имеет 1000 классов\n",
    "- Наш датасет имеет размерность изображений (32, 32, 3). В ImageNet нет определенных разменостей, однако большинство картинок имеет примерно размер (500, 400, 3).\n",
    "\n",
    "Давайте напишем модель."
   ]
  },
  {
   "cell_type": "code",
   "execution_count": 1,
   "metadata": {},
   "outputs": [],
   "source": [
    "import sys\n",
    "\n",
    "import tensorflow as tf\n",
    "import torchvision as tv\n",
    "from livelossplot import PlotLossesKeras\n",
    "\n",
    "sys.path.append('../../../')\n",
    "\n",
    "from core.datasets import get_ds"
   ]
  },
  {
   "attachments": {},
   "cell_type": "markdown",
   "metadata": {},
   "source": [
    "Первый слой resnet это самая большая свертка в моделе и maxpool.\n",
    "\n",
    "![-](data/step1.jpg)"
   ]
  },
  {
   "cell_type": "code",
   "execution_count": 2,
   "metadata": {},
   "outputs": [],
   "source": [
    "inputs = tf.keras.Input(shape=(32, 32, 3), batch_size=512)\n",
    "x = tf.keras.layers.Conv2D(64, 5, activation='relu', padding='same')(inputs)\n",
    "block1 = tf.keras.layers.MaxPool2D(2)(x)"
   ]
  },
  {
   "cell_type": "code",
   "execution_count": 3,
   "metadata": {},
   "outputs": [
    {
     "data": {
      "text/plain": [
       "TensorShape([512, 16, 16, 64])"
      ]
     },
     "execution_count": 3,
     "metadata": {},
     "output_type": "execute_result"
    }
   ],
   "source": [
    "block1.shape"
   ]
  },
  {
   "attachments": {},
   "cell_type": "markdown",
   "metadata": {},
   "source": [
    "----\n",
    "Далее идет первый блок сверток\n",
    "\n",
    "- свертки размером (3, 3), кол-во фильтров 64\n",
    "\n",
    "![-](data/step2.jpg)"
   ]
  },
  {
   "cell_type": "code",
   "execution_count": 4,
   "metadata": {},
   "outputs": [],
   "source": [
    "\n",
    "x = tf.keras.layers.Conv2D(64, 3, activation='relu', padding='same')(block1)\n",
    "x = tf.keras.layers.Conv2D(64, 3, activation='relu', padding='same')(x)\n",
    "\n",
    "block2 = tf.keras.layers.add([block1, x])\n",
    "\n",
    "x = tf.keras.layers.Conv2D(64, 3, activation='relu', padding='same')(block2)\n",
    "x = tf.keras.layers.Conv2D(64, 3, activation='relu', padding='same')(x)\n",
    "\n",
    "block3 = tf.keras.layers.add([block2, x])"
   ]
  },
  {
   "cell_type": "code",
   "execution_count": 5,
   "metadata": {},
   "outputs": [
    {
     "data": {
      "text/plain": [
       "TensorShape([512, 16, 16, 64])"
      ]
     },
     "execution_count": 5,
     "metadata": {},
     "output_type": "execute_result"
    }
   ],
   "source": [
    "block3.shape"
   ]
  },
  {
   "attachments": {},
   "cell_type": "markdown",
   "metadata": {},
   "source": [
    "---\n",
    "Дальше идет уменьшее размерности изображения вдвое, в кол-во фильтров увеличивается вдвое\n",
    "\n",
    "![-](data/step3.jpg)"
   ]
  },
  {
   "cell_type": "code",
   "execution_count": 6,
   "metadata": {},
   "outputs": [],
   "source": [
    "\n",
    "x = tf.keras.layers.Conv2D(128, 3, strides=2, activation='relu', padding='same')(block3)\n",
    "x = tf.keras.layers.Conv2D(128, 3, activation='relu', padding='same')(x)\n",
    "\n",
    "block3_conv = tf.keras.layers.Conv2D(128, 1, strides=2, activation='relu')(block3)\n",
    "block4 = tf.keras.layers.add([x, block3_conv])\n",
    "\n",
    "x = tf.keras.layers.Conv2D(128, 3, activation='relu', padding='same')(block4)\n",
    "x = tf.keras.layers.Conv2D(128, 3, activation='relu', padding='same')(x)\n",
    "\n",
    "block5 = tf.keras.layers.add([block4, x])\n",
    "\n",
    "x = tf.keras.layers.Conv2D(128, 3, activation='relu', padding='same')(block5)\n",
    "x = tf.keras.layers.Conv2D(128, 3, activation='relu', padding='same')(x)\n",
    "\n",
    "block6 = tf.keras.layers.add([block5, x])"
   ]
  },
  {
   "cell_type": "code",
   "execution_count": 7,
   "metadata": {},
   "outputs": [
    {
     "data": {
      "text/plain": [
       "TensorShape([512, 8, 8, 128])"
      ]
     },
     "execution_count": 7,
     "metadata": {},
     "output_type": "execute_result"
    }
   ],
   "source": [
    "block6.shape"
   ]
  },
  {
   "attachments": {},
   "cell_type": "markdown",
   "metadata": {},
   "source": [
    "----\n",
    "У нас изображения сильно меньше чем у ImageNet, поэтому добавим третий, последний, блок сверток.\n",
    "Можно заметить, что в блоках, которые стоят по середине слоев больше, поэтому в последнем блоке сделаем столько же слоев, сколько и в первом."
   ]
  },
  {
   "cell_type": "code",
   "execution_count": 8,
   "metadata": {},
   "outputs": [],
   "source": [
    "\n",
    "x = tf.keras.layers.Conv2D(256, 3, strides=2, activation='relu', padding='same')(block6)\n",
    "x = tf.keras.layers.Conv2D(256, 3, activation='relu', padding='same')(x)\n",
    "\n",
    "block6_conv = tf.keras.layers.Conv2D(256, 1, strides=2, activation='relu')(block6)\n",
    "block7 = tf.keras.layers.add([x, block6_conv])\n",
    "\n",
    "x = tf.keras.layers.Conv2D(256, 3, activation='relu', padding='same')(block7)\n",
    "x = tf.keras.layers.Conv2D(256, 3, activation='relu', padding='same')(x)\n",
    "\n",
    "block8 = tf.keras.layers.add([block7, x])"
   ]
  },
  {
   "cell_type": "code",
   "execution_count": 9,
   "metadata": {},
   "outputs": [
    {
     "data": {
      "text/plain": [
       "TensorShape([512, 4, 4, 256])"
      ]
     },
     "execution_count": 9,
     "metadata": {},
     "output_type": "execute_result"
    }
   ],
   "source": [
    "block8.shape"
   ]
  },
  {
   "attachments": {},
   "cell_type": "markdown",
   "metadata": {},
   "source": [
    "----\n",
    "Осталось применить Global Average Pooling и добавить 10 выходных нейронов."
   ]
  },
  {
   "cell_type": "code",
   "execution_count": 10,
   "metadata": {},
   "outputs": [],
   "source": [
    "x = tf.keras.layers.GlobalAveragePooling2D()(block8)\n",
    "x = tf.keras.layers.Flatten()(block8)\n",
    "outputs = tf.keras.layers.Dense(10, 'softmax')(x)"
   ]
  },
  {
   "cell_type": "code",
   "execution_count": 11,
   "metadata": {},
   "outputs": [
    {
     "name": "stdout",
     "output_type": "stream",
     "text": [
      "Model: \"model\"\n",
      "__________________________________________________________________________________________________\n",
      " Layer (type)                   Output Shape         Param #     Connected to                     \n",
      "==================================================================================================\n",
      " input_1 (InputLayer)           [(512, 32, 32, 3)]   0           []                               \n",
      "                                                                                                  \n",
      " conv2d (Conv2D)                (512, 32, 32, 64)    4864        ['input_1[0][0]']                \n",
      "                                                                                                  \n",
      " max_pooling2d (MaxPooling2D)   (512, 16, 16, 64)    0           ['conv2d[0][0]']                 \n",
      "                                                                                                  \n",
      " conv2d_1 (Conv2D)              (512, 16, 16, 64)    36928       ['max_pooling2d[0][0]']          \n",
      "                                                                                                  \n",
      " conv2d_2 (Conv2D)              (512, 16, 16, 64)    36928       ['conv2d_1[0][0]']               \n",
      "                                                                                                  \n",
      " add (Add)                      (512, 16, 16, 64)    0           ['max_pooling2d[0][0]',          \n",
      "                                                                  'conv2d_2[0][0]']               \n",
      "                                                                                                  \n",
      " conv2d_3 (Conv2D)              (512, 16, 16, 64)    36928       ['add[0][0]']                    \n",
      "                                                                                                  \n",
      " conv2d_4 (Conv2D)              (512, 16, 16, 64)    36928       ['conv2d_3[0][0]']               \n",
      "                                                                                                  \n",
      " add_1 (Add)                    (512, 16, 16, 64)    0           ['add[0][0]',                    \n",
      "                                                                  'conv2d_4[0][0]']               \n",
      "                                                                                                  \n",
      " conv2d_5 (Conv2D)              (512, 8, 8, 128)     73856       ['add_1[0][0]']                  \n",
      "                                                                                                  \n",
      " conv2d_6 (Conv2D)              (512, 8, 8, 128)     147584      ['conv2d_5[0][0]']               \n",
      "                                                                                                  \n",
      " conv2d_7 (Conv2D)              (512, 8, 8, 128)     8320        ['add_1[0][0]']                  \n",
      "                                                                                                  \n",
      " add_2 (Add)                    (512, 8, 8, 128)     0           ['conv2d_6[0][0]',               \n",
      "                                                                  'conv2d_7[0][0]']               \n",
      "                                                                                                  \n",
      " conv2d_8 (Conv2D)              (512, 8, 8, 128)     147584      ['add_2[0][0]']                  \n",
      "                                                                                                  \n",
      " conv2d_9 (Conv2D)              (512, 8, 8, 128)     147584      ['conv2d_8[0][0]']               \n",
      "                                                                                                  \n",
      " add_3 (Add)                    (512, 8, 8, 128)     0           ['add_2[0][0]',                  \n",
      "                                                                  'conv2d_9[0][0]']               \n",
      "                                                                                                  \n",
      " conv2d_10 (Conv2D)             (512, 8, 8, 128)     147584      ['add_3[0][0]']                  \n",
      "                                                                                                  \n",
      " conv2d_11 (Conv2D)             (512, 8, 8, 128)     147584      ['conv2d_10[0][0]']              \n",
      "                                                                                                  \n",
      " add_4 (Add)                    (512, 8, 8, 128)     0           ['add_3[0][0]',                  \n",
      "                                                                  'conv2d_11[0][0]']              \n",
      "                                                                                                  \n",
      " conv2d_12 (Conv2D)             (512, 4, 4, 256)     295168      ['add_4[0][0]']                  \n",
      "                                                                                                  \n",
      " conv2d_13 (Conv2D)             (512, 4, 4, 256)     590080      ['conv2d_12[0][0]']              \n",
      "                                                                                                  \n",
      " conv2d_14 (Conv2D)             (512, 4, 4, 256)     33024       ['add_4[0][0]']                  \n",
      "                                                                                                  \n",
      " add_5 (Add)                    (512, 4, 4, 256)     0           ['conv2d_13[0][0]',              \n",
      "                                                                  'conv2d_14[0][0]']              \n",
      "                                                                                                  \n",
      " conv2d_15 (Conv2D)             (512, 4, 4, 256)     590080      ['add_5[0][0]']                  \n",
      "                                                                                                  \n",
      " conv2d_16 (Conv2D)             (512, 4, 4, 256)     590080      ['conv2d_15[0][0]']              \n",
      "                                                                                                  \n",
      " add_6 (Add)                    (512, 4, 4, 256)     0           ['add_5[0][0]',                  \n",
      "                                                                  'conv2d_16[0][0]']              \n",
      "                                                                                                  \n",
      " flatten (Flatten)              (512, 4096)          0           ['add_6[0][0]']                  \n",
      "                                                                                                  \n",
      " dense (Dense)                  (512, 10)            40970       ['flatten[0][0]']                \n",
      "                                                                                                  \n",
      "==================================================================================================\n",
      "Total params: 3,112,074\n",
      "Trainable params: 3,112,074\n",
      "Non-trainable params: 0\n",
      "__________________________________________________________________________________________________\n"
     ]
    }
   ],
   "source": [
    "model = tf.keras.Model(inputs, outputs)\n",
    "model.summary()"
   ]
  },
  {
   "cell_type": "code",
   "execution_count": 12,
   "metadata": {},
   "outputs": [],
   "source": [
    "jitter = tv.transforms.ColorJitter(brightness=.2, hue=0.2, contrast=0.5)\n",
    "perspective = tv.transforms.RandomPerspective(distortion_scale=0.2, p=0.4)\n",
    "affine = tv.transforms.RandomAffine(degrees=(-15, 15), translate=(0, 0.1), scale=(0.85, 1))\n",
    "transform = tv.transforms.Compose([\n",
    "    jitter,\n",
    "    affine,\n",
    "    perspective,\n",
    "])\n",
    "train_ds, val_ds, test_ds = get_ds('repaired_data_train', 'repaired_data_test', back=3, transform=transform)\n"
   ]
  },
  {
   "cell_type": "code",
   "execution_count": 13,
   "metadata": {},
   "outputs": [],
   "source": [
    "model.compile(optimizer='adam', metrics=['accuracy'],\n",
    "        loss=tf.keras.losses.SparseCategoricalCrossentropy())"
   ]
  },
  {
   "cell_type": "code",
   "execution_count": 14,
   "metadata": {},
   "outputs": [
    {
     "data": {
      "image/png": "[encoded data removed]",
      "text/plain": [
       "<Figure size 1200x800 with 2 Axes>"
      ]
     },
     "metadata": {},
     "output_type": "display_data"
    },
    {
     "name": "stdout",
     "output_type": "stream",
     "text": [
      "accuracy\n",
      "\ttraining         \t (min:    0.189, max:    0.946, cur:    0.946)\n",
      "\tvalidation       \t (min:    0.285, max:    0.948, cur:    0.938)\n",
      "Loss\n",
      "\ttraining         \t (min:    0.179, max:    2.276, cur:    0.179)\n",
      "\tvalidation       \t (min:    0.202, max:    2.017, cur:    0.208)\n",
      "95/95 [==============================] - 640s 7s/step - loss: 0.1786 - accuracy: 0.9463 - val_loss: 0.2083 - val_accuracy: 0.9380\n",
      "Epoch 27/100\n",
      "29/95 [========>.....................] - ETA: 7:47 - loss: 0.1694 - accuracy: 0.9469"
     ]
    }
   ],
   "source": [
    "model.fit(train_ds, validation_data=val_ds, epochs=100,\n",
    "          callbacks=[PlotLossesKeras()], verbose=1)"
   ]
  }
 ],
 "metadata": {
  "kernelspec": {
   "display_name": "Python 3",
   "language": "python",
   "name": "python3"
  },
  "language_info": {
   "codemirror_mode": {
    "name": "ipython",
    "version": 3
   },
   "file_extension": ".py",
   "mimetype": "text/x-python",
   "name": "python",
   "nbconvert_exporter": "python",
   "pygments_lexer": "ipython3",
   "version": "3.10.10"
  },
  "orig_nbformat": 4
 },
 "nbformat": 4,
 "nbformat_minor": 2
}
