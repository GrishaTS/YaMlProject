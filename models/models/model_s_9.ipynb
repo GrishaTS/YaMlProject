{
 "cells": [
  {
   "cell_type": "markdown",
   "metadata": {
    "id": "r2yiHhUx-S72"
   },
   "source": [
    "# Linear model (not failed)"
   ]
  },
  {
   "cell_type": "code",
   "execution_count": 3,
   "metadata": {
    "colab": {
     "base_uri": "https://localhost:8080/"
    },
    "executionInfo": {
     "elapsed": 23339,
     "status": "ok",
     "timestamp": 1681664389229,
     "user": {
      "displayName": "Гриша Безруков",
      "userId": "02717934454974586898"
     },
     "user_tz": -180
    },
    "id": "QxaNXFTYAcw8",
    "outputId": "7b8186db-34cf-4314-a218-75d6ec0a511f"
   },
   "outputs": [
    {
     "name": "stdout",
     "output_type": "stream",
     "text": [
      "Mounted at /content/drive\n"
     ]
    }
   ],
   "source": [
    "from google.colab import drive\n",
    "\n",
    "drive.mount('/content/drive')"
   ]
  },
  {
   "cell_type": "markdown",
   "metadata": {
    "id": "svYRwNDL-S75"
   },
   "source": [
    "#### Импорт необходимых библиотек"
   ]
  },
  {
   "cell_type": "code",
   "execution_count": 1,
   "metadata": {
    "colab": {
     "base_uri": "https://localhost:8080/"
    },
    "executionInfo": {
     "elapsed": 23345,
     "status": "ok",
     "timestamp": 1681664239228,
     "user": {
      "displayName": "Гриша Безруков",
      "userId": "02717934454974586898"
     },
     "user_tz": -180
    },
    "id": "Zq7rWgSDecBY",
    "outputId": "7398dd34-6dc9-404f-c32b-b5d99e21bf83"
   },
   "outputs": [
    {
     "name": "stdout",
     "output_type": "stream",
     "text": [
      "Looking in indexes: https://pypi.org/simple, https://us-python.pkg.dev/colab-wheels/public/simple/\n",
      "Collecting tensorflow-addons\n",
      "  Downloading tensorflow_addons-0.20.0-cp39-cp39-manylinux_2_17_x86_64.manylinux2014_x86_64.whl (591 kB)\n",
      "\u001b[2K     \u001b[90m━━━━━━━━━━━━━━━━━━━━━━━━━━━━━━━━━━━━━━━\u001b[0m \u001b[32m591.0/591.0 kB\u001b[0m \u001b[31m9.9 MB/s\u001b[0m eta \u001b[36m0:00:00\u001b[0m\n",
      "\u001b[?25hRequirement already satisfied: packaging in /usr/local/lib/python3.9/dist-packages (from tensorflow-addons) (23.0)\n",
      "Collecting typeguard<3.0.0,>=2.7\n",
      "  Downloading typeguard-2.13.3-py3-none-any.whl (17 kB)\n",
      "Installing collected packages: typeguard, tensorflow-addons\n",
      "Successfully installed tensorflow-addons-0.20.0 typeguard-2.13.3\n",
      "Looking in indexes: https://pypi.org/simple, https://us-python.pkg.dev/colab-wheels/public/simple/\n",
      "Collecting livelossplot\n",
      "  Downloading livelossplot-0.5.5-py3-none-any.whl (22 kB)\n",
      "Requirement already satisfied: bokeh in /usr/local/lib/python3.9/dist-packages (from livelossplot) (2.4.3)\n",
      "Requirement already satisfied: matplotlib in /usr/local/lib/python3.9/dist-packages (from livelossplot) (3.7.1)\n",
      "Requirement already satisfied: Jinja2>=2.9 in /usr/local/lib/python3.9/dist-packages (from bokeh->livelossplot) (3.1.2)\n",
      "Requirement already satisfied: numpy>=1.11.3 in /usr/local/lib/python3.9/dist-packages (from bokeh->livelossplot) (1.22.4)\n",
      "Requirement already satisfied: pillow>=7.1.0 in /usr/local/lib/python3.9/dist-packages (from bokeh->livelossplot) (8.4.0)\n",
      "Requirement already satisfied: PyYAML>=3.10 in /usr/local/lib/python3.9/dist-packages (from bokeh->livelossplot) (6.0)\n",
      "Requirement already satisfied: packaging>=16.8 in /usr/local/lib/python3.9/dist-packages (from bokeh->livelossplot) (23.0)\n",
      "Requirement already satisfied: typing-extensions>=3.10.0 in /usr/local/lib/python3.9/dist-packages (from bokeh->livelossplot) (4.5.0)\n",
      "Requirement already satisfied: tornado>=5.1 in /usr/local/lib/python3.9/dist-packages (from bokeh->livelossplot) (6.2)\n",
      "Requirement already satisfied: importlib-resources>=3.2.0 in /usr/local/lib/python3.9/dist-packages (from matplotlib->livelossplot) (5.12.0)\n",
      "Requirement already satisfied: python-dateutil>=2.7 in /usr/local/lib/python3.9/dist-packages (from matplotlib->livelossplot) (2.8.2)\n",
      "Requirement already satisfied: fonttools>=4.22.0 in /usr/local/lib/python3.9/dist-packages (from matplotlib->livelossplot) (4.39.3)\n",
      "Requirement already satisfied: kiwisolver>=1.0.1 in /usr/local/lib/python3.9/dist-packages (from matplotlib->livelossplot) (1.4.4)\n",
      "Requirement already satisfied: contourpy>=1.0.1 in /usr/local/lib/python3.9/dist-packages (from matplotlib->livelossplot) (1.0.7)\n",
      "Requirement already satisfied: cycler>=0.10 in /usr/local/lib/python3.9/dist-packages (from matplotlib->livelossplot) (0.11.0)\n",
      "Requirement already satisfied: pyparsing>=2.3.1 in /usr/local/lib/python3.9/dist-packages (from matplotlib->livelossplot) (3.0.9)\n",
      "Requirement already satisfied: zipp>=3.1.0 in /usr/local/lib/python3.9/dist-packages (from importlib-resources>=3.2.0->matplotlib->livelossplot) (3.15.0)\n",
      "Requirement already satisfied: MarkupSafe>=2.0 in /usr/local/lib/python3.9/dist-packages (from Jinja2>=2.9->bokeh->livelossplot) (2.1.2)\n",
      "Requirement already satisfied: six>=1.5 in /usr/local/lib/python3.9/dist-packages (from python-dateutil>=2.7->matplotlib->livelossplot) (1.16.0)\n",
      "Installing collected packages: livelossplot\n",
      "Successfully installed livelossplot-0.5.5\n"
     ]
    }
   ],
   "source": [
    "!pip install tensorflow-addons\n",
    "!pip install livelossplot"
   ]
  },
  {
   "cell_type": "code",
   "execution_count": 1,
   "metadata": {
    "colab": {
     "base_uri": "https://localhost:8080/"
    },
    "executionInfo": {
     "elapsed": 7,
     "status": "ok",
     "timestamp": 1681664472194,
     "user": {
      "displayName": "Гриша Безруков",
      "userId": "02717934454974586898"
     },
     "user_tz": -180
    },
    "id": "yyTOIOizfuJ-",
    "outputId": "501f87f2-0a98-49a7-cb1e-accf322341ef"
   },
   "outputs": [
    {
     "name": "stdout",
     "output_type": "stream",
     "text": [
      "/content/drive/MyDrive/YaMlProject/models/models\n"
     ]
    }
   ],
   "source": [
    "% cd drive / MyDrive / YaMlProject / models / models"
   ]
  },
  {
   "cell_type": "code",
   "execution_count": 1,
   "metadata": {
    "colab": {
     "base_uri": "https://localhost:8080/"
    },
    "executionInfo": {
     "elapsed": 8895,
     "status": "ok",
     "timestamp": 1681664482870,
     "user": {
      "displayName": "Гриша Безруков",
      "userId": "02717934454974586898"
     },
     "user_tz": -180
    },
    "id": "nYflAO2U-S76",
    "outputId": "22dc7585-5416-487f-cbdb-4586be14f3fd"
   },
   "outputs": [
    {
     "name": "stderr",
     "output_type": "stream",
     "text": [
      "C:\\Users\\Mihail\\PycharmProjects\\YaMlProject\\venv\\lib\\site-packages\\tensorflow_addons\\utils\\tfa_eol_msg.py:23: UserWarning: \n",
      "\n",
      "TensorFlow Addons (TFA) has ended development and introduction of new features.\n",
      "TFA has entered a minimal maintenance and release mode until a planned end of life in May 2024.\n",
      "Please modify downstream libraries to take dependencies from other repositories in our TensorFlow community (e.g. Keras, Keras-CV, and Keras-NLP). \n",
      "\n",
      "For more information see: https://github.com/tensorflow/addons/issues/2807 \n",
      "\n",
      "  warnings.warn(\n"
     ]
    }
   ],
   "source": [
    "import sys\n",
    "\n",
    "import matplotlib.pyplot as plt\n",
    "import numpy as np\n",
    "import pandas as pd\n",
    "import seaborn\n",
    "import tensorflow as tf\n",
    "import tensorflow_addons as tfa\n",
    "import torchvision as tv\n",
    "from PIL import Image\n",
    "from livelossplot import PlotLossesKeras\n",
    "from sklearn.metrics import confusion_matrix\n",
    "\n",
    "sys.path.append('../../')\n",
    "\n",
    "from core.datasets import get_ds\n",
    "from core.make_answer import make_ans_file"
   ]
  },
  {
   "cell_type": "markdown",
   "metadata": {
    "id": "NR69MtS_-S77"
   },
   "source": [
    "#### Формируем аугментацию."
   ]
  },
  {
   "cell_type": "markdown",
   "metadata": {
    "id": "-2ghBgor1hzO"
   },
   "source": [
    "##### Вариант 1.\n",
    "\n",
    "- Пишите аугментацию. Объект класса tv.transforms.Compose или tv.transforms.{аугментация}"
   ]
  },
  {
   "cell_type": "code",
   "execution_count": 2,
   "metadata": {
    "executionInfo": {
     "elapsed": 6,
     "status": "ok",
     "timestamp": 1681664493460,
     "user": {
      "displayName": "Гриша Безруков",
      "userId": "02717934454974586898"
     },
     "user_tz": -180
    },
    "id": "ERpTFZ21-S77"
   },
   "outputs": [],
   "source": [
    "transformer = tv.transforms.Compose([\n",
    "    tv.transforms.ColorJitter(brightness=.2, hue=0.2, contrast=0.5),\n",
    "    tv.transforms.RandomAffine(degrees=(-12, 12), translate=(0, 0.1), scale=(0.85, 1)),\n",
    "    tv.transforms.RandomPerspective(distortion_scale=0.2, p=0.7),\n",
    "])"
   ]
  },
  {
   "cell_type": "markdown",
   "metadata": {
    "id": "T2zKYi1p-S77"
   },
   "source": [
    "#### Создаем датасеты\n",
    "```python\n",
    "get_ds(\n",
    "    file_train, `Путь к трейновому датасету`\n",
    "    file_test, `Путь к тестовому датасету`\n",
    "    transform=None,  `Аугументация`\n",
    "    batch_size=512,  `Размер батча`\n",
    "    one_hot=False,  `Формат ответов one_hot_encoding или нет`\n",
    "    val_size=0.03,  `Размер валидационного датасета, относительно data_train`\n",
    "    back=1,  `На сколько уровней в директории надо подняться наверх, чтобы дойти до корневой`\n",
    ")\n",
    "```"
   ]
  },
  {
   "cell_type": "markdown",
   "metadata": {
    "id": "QYEdAqtW1hzW"
   },
   "source": [
    "Позже мы будем делать ансамбли и похожие эвристики, поэтому всегда делайте `one_hot=True`"
   ]
  },
  {
   "cell_type": "code",
   "execution_count": 3,
   "metadata": {
    "executionInfo": {
     "elapsed": 31843,
     "status": "ok",
     "timestamp": 1681664566764,
     "user": {
      "displayName": "Гриша Безруков",
      "userId": "02717934454974586898"
     },
     "user_tz": -180
    },
    "id": "1Mpb1H6PaXUC"
   },
   "outputs": [],
   "source": [
    "train_ds, val_ds, test_ds = get_ds('smote_data_train_7000', 'repaired_data_test', transform=transformer,\n",
    "                                   one_hot=True, back=2, batch_size=100)"
   ]
  },
  {
   "cell_type": "markdown",
   "metadata": {
    "id": "eOY8forB1hza"
   },
   "source": [
    "Для дальнейшей проверки метрик разделяем валидационный датасет на x и y"
   ]
  },
  {
   "cell_type": "code",
   "execution_count": 4,
   "metadata": {
    "executionInfo": {
     "elapsed": 3522,
     "status": "ok",
     "timestamp": 1681664570253,
     "user": {
      "displayName": "Гриша Безруков",
      "userId": "02717934454974586898"
     },
     "user_tz": -180
    },
    "id": "cXVwzb401hzb"
   },
   "outputs": [],
   "source": [
    "val_ds_x = np.array([i[0] for i in val_ds.unbatch().as_numpy_iterator()])\n",
    "val_ds_y = np.array([i[1] for i in val_ds.unbatch().as_numpy_iterator()])"
   ]
  },
  {
   "cell_type": "markdown",
   "metadata": {
    "id": "_Vcj5spc1hzc"
   },
   "source": [
    "Смотрим на получившуюся агументацию."
   ]
  },
  {
   "cell_type": "code",
   "execution_count": 9,
   "metadata": {
    "colab": {
     "base_uri": "https://localhost:8080/",
     "height": 1000
    },
    "executionInfo": {
     "elapsed": 2031,
     "status": "ok",
     "timestamp": 1681664572204,
     "user": {
      "displayName": "Гриша Безруков",
      "userId": "02717934454974586898"
     },
     "user_tz": -180
    },
    "id": "3ygOCG_F1hzc",
    "outputId": "bd1f92da-0a4a-4f5b-8c03-ccf242f156ea"
   },
   "outputs": [
    {
     "data": {
      "image/png": "[encoded data removed]",
      "text/plain": [
       "<Figure size 1200x1500 with 20 Axes>"
      ]
     },
     "metadata": {},
     "output_type": "display_data"
    }
   ],
   "source": [
    "plt.figure(figsize=(12, 15))\n",
    "train_ds_visualization = train_ds[0]\n",
    "for i in range(20):\n",
    "    plt.subplot(5, 4, i + 1)\n",
    "    img = np.array(Image.fromarray((train_ds_visualization[0][i] * 255).astype(np.uint8), 'RGB'))\n",
    "    plt.imshow(img / 255, cmap=plt.cm.binary)\n",
    "    plt.title(np.argmax(train_ds_visualization[1][i]))\n",
    "    plt.axis('off')\n",
    "plt.show()"
   ]
  },
  {
   "cell_type": "code",
   "execution_count": 10,
   "metadata": {
    "colab": {
     "base_uri": "https://localhost:8080/"
    },
    "executionInfo": {
     "elapsed": 390,
     "status": "ok",
     "timestamp": 1681664583618,
     "user": {
      "displayName": "Гриша Безруков",
      "userId": "02717934454974586898"
     },
     "user_tz": -180
    },
    "id": "6y18NiXlaXUD",
    "outputId": "b755845a-3354-49d7-e9da-aa5958024e48"
   },
   "outputs": [
    {
     "data": {
      "text/plain": [
       "array([[0., 0., 0., 1., 0., 0., 0., 0., 0., 0.],\n",
       "       [0., 0., 0., 0., 0., 0., 0., 0., 1., 0.],\n",
       "       [0., 0., 0., 0., 0., 0., 1., 0., 0., 0.],\n",
       "       [0., 0., 0., 0., 1., 0., 0., 0., 0., 0.],\n",
       "       [0., 0., 0., 0., 0., 0., 0., 0., 0., 1.],\n",
       "       [0., 0., 0., 0., 1., 0., 0., 0., 0., 0.],\n",
       "       [0., 0., 0., 0., 0., 0., 0., 0., 1., 0.],\n",
       "       [0., 0., 0., 1., 0., 0., 0., 0., 0., 0.],\n",
       "       [0., 0., 1., 0., 0., 0., 0., 0., 0., 0.],\n",
       "       [0., 0., 0., 0., 0., 1., 0., 0., 0., 0.],\n",
       "       [0., 0., 0., 0., 0., 0., 0., 0., 0., 1.],\n",
       "       [0., 0., 1., 0., 0., 0., 0., 0., 0., 0.],\n",
       "       [0., 0., 0., 0., 0., 1., 0., 0., 0., 0.],\n",
       "       [0., 0., 0., 0., 0., 0., 0., 0., 1., 0.],\n",
       "       [0., 0., 0., 0., 0., 0., 0., 1., 0., 0.],\n",
       "       [0., 0., 0., 0., 0., 0., 0., 1., 0., 0.],\n",
       "       [0., 0., 0., 0., 0., 0., 1., 0., 0., 0.],\n",
       "       [0., 0., 0., 0., 0., 0., 0., 1., 0., 0.],\n",
       "       [1., 0., 0., 0., 0., 0., 0., 0., 0., 0.],\n",
       "       [0., 0., 0., 0., 1., 0., 0., 0., 0., 0.],\n",
       "       [0., 0., 0., 0., 0., 0., 0., 0., 1., 0.],\n",
       "       [0., 0., 0., 0., 0., 0., 0., 0., 0., 1.],\n",
       "       [0., 0., 1., 0., 0., 0., 0., 0., 0., 0.],\n",
       "       [0., 0., 0., 0., 0., 0., 1., 0., 0., 0.],\n",
       "       [0., 0., 0., 1., 0., 0., 0., 0., 0., 0.],\n",
       "       [1., 0., 0., 0., 0., 0., 0., 0., 0., 0.],\n",
       "       [1., 0., 0., 0., 0., 0., 0., 0., 0., 0.],\n",
       "       [0., 0., 0., 0., 0., 0., 1., 0., 0., 0.],\n",
       "       [0., 0., 0., 0., 0., 1., 0., 0., 0., 0.],\n",
       "       [0., 0., 0., 0., 0., 1., 0., 0., 0., 0.],\n",
       "       [0., 0., 0., 0., 0., 0., 0., 0., 1., 0.],\n",
       "       [0., 0., 0., 0., 0., 0., 0., 0., 1., 0.],\n",
       "       [1., 0., 0., 0., 0., 0., 0., 0., 0., 0.],\n",
       "       [0., 0., 0., 0., 0., 0., 1., 0., 0., 0.],\n",
       "       [0., 0., 0., 0., 0., 0., 0., 1., 0., 0.],\n",
       "       [0., 0., 0., 0., 0., 0., 0., 0., 1., 0.],\n",
       "       [0., 0., 0., 0., 0., 1., 0., 0., 0., 0.],\n",
       "       [0., 1., 0., 0., 0., 0., 0., 0., 0., 0.],\n",
       "       [0., 0., 0., 1., 0., 0., 0., 0., 0., 0.],\n",
       "       [0., 1., 0., 0., 0., 0., 0., 0., 0., 0.],\n",
       "       [1., 0., 0., 0., 0., 0., 0., 0., 0., 0.],\n",
       "       [0., 0., 0., 0., 1., 0., 0., 0., 0., 0.],\n",
       "       [0., 0., 0., 0., 0., 0., 0., 0., 0., 1.],\n",
       "       [0., 0., 0., 1., 0., 0., 0., 0., 0., 0.],\n",
       "       [0., 1., 0., 0., 0., 0., 0., 0., 0., 0.],\n",
       "       [0., 1., 0., 0., 0., 0., 0., 0., 0., 0.],\n",
       "       [0., 0., 0., 1., 0., 0., 0., 0., 0., 0.],\n",
       "       [0., 0., 1., 0., 0., 0., 0., 0., 0., 0.],\n",
       "       [0., 0., 1., 0., 0., 0., 0., 0., 0., 0.],\n",
       "       [0., 0., 0., 0., 0., 1., 0., 0., 0., 0.],\n",
       "       [0., 0., 0., 0., 0., 0., 0., 0., 0., 1.],\n",
       "       [0., 0., 0., 0., 0., 0., 0., 1., 0., 0.],\n",
       "       [0., 0., 0., 0., 0., 1., 0., 0., 0., 0.],\n",
       "       [0., 1., 0., 0., 0., 0., 0., 0., 0., 0.],\n",
       "       [0., 0., 0., 0., 1., 0., 0., 0., 0., 0.],\n",
       "       [0., 0., 0., 0., 0., 0., 0., 0., 0., 1.],\n",
       "       [0., 0., 0., 0., 1., 0., 0., 0., 0., 0.],\n",
       "       [0., 0., 0., 0., 0., 0., 0., 1., 0., 0.],\n",
       "       [0., 0., 0., 0., 0., 0., 0., 1., 0., 0.],\n",
       "       [0., 0., 0., 0., 0., 0., 1., 0., 0., 0.],\n",
       "       [1., 0., 0., 0., 0., 0., 0., 0., 0., 0.],\n",
       "       [0., 0., 0., 0., 0., 0., 0., 0., 0., 1.],\n",
       "       [0., 0., 0., 0., 1., 0., 0., 0., 0., 0.],\n",
       "       [0., 0., 0., 0., 0., 0., 0., 1., 0., 0.],\n",
       "       [0., 0., 0., 1., 0., 0., 0., 0., 0., 0.],\n",
       "       [0., 0., 0., 0., 0., 1., 0., 0., 0., 0.],\n",
       "       [0., 0., 0., 0., 1., 0., 0., 0., 0., 0.],\n",
       "       [0., 0., 0., 0., 0., 0., 0., 1., 0., 0.],\n",
       "       [0., 0., 0., 0., 0., 0., 1., 0., 0., 0.],\n",
       "       [1., 0., 0., 0., 0., 0., 0., 0., 0., 0.],\n",
       "       [0., 0., 0., 0., 0., 0., 1., 0., 0., 0.],\n",
       "       [0., 0., 1., 0., 0., 0., 0., 0., 0., 0.],\n",
       "       [0., 0., 0., 0., 0., 0., 1., 0., 0., 0.],\n",
       "       [0., 0., 0., 0., 1., 0., 0., 0., 0., 0.],\n",
       "       [0., 0., 0., 0., 0., 0., 1., 0., 0., 0.],\n",
       "       [0., 0., 0., 1., 0., 0., 0., 0., 0., 0.],\n",
       "       [1., 0., 0., 0., 0., 0., 0., 0., 0., 0.],\n",
       "       [0., 0., 0., 0., 1., 0., 0., 0., 0., 0.],\n",
       "       [0., 1., 0., 0., 0., 0., 0., 0., 0., 0.],\n",
       "       [0., 0., 0., 1., 0., 0., 0., 0., 0., 0.],\n",
       "       [0., 0., 0., 1., 0., 0., 0., 0., 0., 0.],\n",
       "       [0., 0., 0., 0., 0., 0., 0., 1., 0., 0.],\n",
       "       [1., 0., 0., 0., 0., 0., 0., 0., 0., 0.],\n",
       "       [1., 0., 0., 0., 0., 0., 0., 0., 0., 0.],\n",
       "       [0., 1., 0., 0., 0., 0., 0., 0., 0., 0.],\n",
       "       [0., 0., 0., 0., 1., 0., 0., 0., 0., 0.],\n",
       "       [0., 0., 0., 0., 1., 0., 0., 0., 0., 0.],\n",
       "       [0., 0., 0., 0., 0., 0., 0., 1., 0., 0.],\n",
       "       [0., 0., 0., 0., 0., 1., 0., 0., 0., 0.],\n",
       "       [0., 1., 0., 0., 0., 0., 0., 0., 0., 0.],\n",
       "       [0., 0., 0., 0., 0., 0., 0., 0., 0., 1.],\n",
       "       [0., 0., 0., 0., 0., 0., 0., 0., 1., 0.],\n",
       "       [0., 0., 0., 0., 0., 1., 0., 0., 0., 0.],\n",
       "       [1., 0., 0., 0., 0., 0., 0., 0., 0., 0.],\n",
       "       [1., 0., 0., 0., 0., 0., 0., 0., 0., 0.],\n",
       "       [0., 0., 0., 0., 0., 1., 0., 0., 0., 0.],\n",
       "       [0., 0., 0., 0., 0., 1., 0., 0., 0., 0.],\n",
       "       [0., 0., 0., 1., 0., 0., 0., 0., 0., 0.],\n",
       "       [0., 0., 0., 0., 1., 0., 0., 0., 0., 0.],\n",
       "       [1., 0., 0., 0., 0., 0., 0., 0., 0., 0.]], dtype=float32)"
      ]
     },
     "execution_count": 10,
     "metadata": {},
     "output_type": "execute_result"
    }
   ],
   "source": [
    "train_ds_visualization[1]"
   ]
  },
  {
   "cell_type": "markdown",
   "metadata": {
    "id": "DXxkKTtS-S78"
   },
   "source": [
    "#### Пишем модель\n",
    "\n",
    "Про свертки и пуллинги написано у Гриши, про skip-connection написано у Миши\n",
    "\n",
    "Для правильного использования ансамблирования, в финальном слое не пишем функцию активации. Подробнее написано у Дениса."
   ]
  },
  {
   "cell_type": "code",
   "execution_count": 5,
   "metadata": {
    "colab": {
     "base_uri": "https://localhost:8080/"
    },
    "executionInfo": {
     "elapsed": 4451,
     "status": "ok",
     "timestamp": 1681664598858,
     "user": {
      "displayName": "Гриша Безруков",
      "userId": "02717934454974586898"
     },
     "user_tz": -180
    },
    "id": "sf6H9-ZM-S79",
    "outputId": "ed5fc491-dc3c-4d5b-80d5-a28f17ebb941"
   },
   "outputs": [
    {
     "name": "stdout",
     "output_type": "stream",
     "text": [
      "Model: \"sequential\"\n",
      "_________________________________________________________________\n",
      " Layer (type)                Output Shape              Param #   \n",
      "=================================================================\n",
      " conv2d (Conv2D)             (64, 30, 30, 32)          896       \n",
      "                                                                 \n",
      " dropout (Dropout)           (64, 30, 30, 32)          0         \n",
      "                                                                 \n",
      " conv2d_1 (Conv2D)           (64, 28, 28, 32)          9248      \n",
      "                                                                 \n",
      " batch_normalization (BatchN  (64, 28, 28, 32)         128       \n",
      " ormalization)                                                   \n",
      "                                                                 \n",
      " max_pooling2d (MaxPooling2D  (64, 14, 14, 32)         0         \n",
      " )                                                               \n",
      "                                                                 \n",
      " conv2d_2 (Conv2D)           (64, 12, 12, 64)          18496     \n",
      "                                                                 \n",
      " conv2d_3 (Conv2D)           (64, 10, 10, 128)         73856     \n",
      "                                                                 \n",
      " batch_normalization_1 (Batc  (64, 10, 10, 128)        512       \n",
      " hNormalization)                                                 \n",
      "                                                                 \n",
      " dropout_1 (Dropout)         (64, 10, 10, 128)         0         \n",
      "                                                                 \n",
      " average_pooling2d (AverageP  (64, 5, 5, 128)          0         \n",
      " ooling2D)                                                       \n",
      "                                                                 \n",
      " flatten (Flatten)           (64, 3200)                0         \n",
      "                                                                 \n",
      " dense (Dense)               (64, 64)                  204864    \n",
      "                                                                 \n",
      " dropout_2 (Dropout)         (64, 64)                  0         \n",
      "                                                                 \n",
      " dense_1 (Dense)             (64, 32)                  2080      \n",
      "                                                                 \n",
      " dense_2 (Dense)             (64, 10)                  330       \n",
      "                                                                 \n",
      "=================================================================\n",
      "Total params: 310,410\n",
      "Trainable params: 310,090\n",
      "Non-trainable params: 320\n",
      "_________________________________________________________________\n"
     ]
    }
   ],
   "source": [
    "model = tf.keras.Sequential([\n",
    "    tf.keras.Input(shape=(32, 32, 3), batch_size=64),\n",
    "    tf.keras.layers.Conv2D(32, (3, 3), activation='relu'),\n",
    "    tf.keras.layers.Dropout(0.2),\n",
    "    tf.keras.layers.Conv2D(32, (3, 3), activation='relu'),\n",
    "    tf.keras.layers.BatchNormalization(),\n",
    "    tf.keras.layers.MaxPooling2D((2, 2)),\n",
    "    tf.keras.layers.Conv2D(64, (3, 3), activation='relu'),\n",
    "    tf.keras.layers.Conv2D(128, (3, 3), activation='relu'),\n",
    "    tf.keras.layers.BatchNormalization(),\n",
    "    tf.keras.layers.Dropout(0.2),\n",
    "    tf.keras.layers.AveragePooling2D((2, 2)),\n",
    "    tf.keras.layers.Flatten(),\n",
    "    tf.keras.layers.Dense(64, activation='relu'),\n",
    "    tf.keras.layers.Dropout(0.2),\n",
    "    tf.keras.layers.Dense(32, activation='relu'),\n",
    "    tf.keras.layers.Dense(10)\n",
    "])\n",
    "model.summary()"
   ]
  },
  {
   "cell_type": "code",
   "execution_count": 8,
   "metadata": {
    "executionInfo": {
     "elapsed": 3784,
     "status": "ok",
     "timestamp": 1681664699487,
     "user": {
      "displayName": "Гриша Безруков",
      "userId": "02717934454974586898"
     },
     "user_tz": -180
    },
    "id": "ocoMslua_sGe"
   },
   "outputs": [],
   "source": [
    "num_model = '_s_9'"
   ]
  },
  {
   "cell_type": "markdown",
   "metadata": {
    "id": "sOWsT-ag1hzh"
   },
   "source": [
    "#### Создаем чекпоинты (всем уже рассказал)\n",
    "- Если лень, то просто копипаст того, что я написал ниже. НЕ ЗАБЫВАЕМ МЕНЯТЬ ПЕРЕМЕННУЮ `num_model`!!!"
   ]
  },
  {
   "cell_type": "code",
   "execution_count": 9,
   "metadata": {
    "executionInfo": {
     "elapsed": 220,
     "status": "ok",
     "timestamp": 1681664712846,
     "user": {
      "displayName": "Гриша Безруков",
      "userId": "02717934454974586898"
     },
     "user_tz": -180
    },
    "id": "3uG2pykA1hzh"
   },
   "outputs": [],
   "source": [
    "metrics = ['categorical_accuracy',\n",
    "           tfa.metrics.F1Score(num_classes=10, average='macro', name='f1_score')]\n",
    "callbacks = [\n",
    "    PlotLossesKeras(),\n",
    "    tf.keras.callbacks.ModelCheckpoint(\n",
    "        filepath=f'../checkpoints/model{num_model}_categorical_accuracy.h5',\n",
    "        monitor='val_categorical_accuracy',\n",
    "        mode='max',\n",
    "        save_best_only=True,\n",
    "    ),\n",
    "    tf.keras.callbacks.ModelCheckpoint(\n",
    "        filepath=f'../checkpoints/model{num_model}_loss.h5',\n",
    "        monitor='val_loss',\n",
    "        mode='min',\n",
    "        save_best_only=True,\n",
    "    ),\n",
    "    tf.keras.callbacks.ModelCheckpoint(\n",
    "        filepath=f'../checkpoints/model{num_model}_f1_score.h5',\n",
    "        monitor='val_f1_score',\n",
    "        mode='max',\n",
    "        save_best_only=True,\n",
    "    ),\n",
    "\n",
    "    tfa.callbacks.AverageModelCheckpoint(\n",
    "        update_weights=False,\n",
    "        filepath=f'../checkpoints/model{num_model}_avg_categorical_accuracy.h5',\n",
    "        monitor='val_categorical_accuracy',\n",
    "        mode='max',\n",
    "        save_best_only=True,\n",
    "    ),\n",
    "    tfa.callbacks.AverageModelCheckpoint(\n",
    "        update_weights=False,\n",
    "        filepath=f'../checkpoints/model{num_model}_avg_loss.h5',\n",
    "        monitor='val_loss',\n",
    "        mode='min',\n",
    "        save_best_only=True,\n",
    "    ),\n",
    "    tfa.callbacks.AverageModelCheckpoint(\n",
    "        update_weights=False,\n",
    "        filepath=f'../checkpoints/model{num_model}_avg_f1_score.h5',\n",
    "        monitor='val_f1_score',\n",
    "        mode='max',\n",
    "        save_best_only=True,\n",
    "    )\n",
    "]"
   ]
  },
  {
   "cell_type": "markdown",
   "metadata": {
    "id": "wzTRYrou-S79"
   },
   "source": [
    "#### Компиляция модели\n",
    "- Если будете что то менять, то только оптимизатор. Про оптимизаторы написано у Лизы."
   ]
  },
  {
   "cell_type": "code",
   "execution_count": 10,
   "metadata": {
    "executionInfo": {
     "elapsed": 6,
     "status": "ok",
     "timestamp": 1681664717986,
     "user": {
      "displayName": "Гриша Безруков",
      "userId": "02717934454974586898"
     },
     "user_tz": -180
    },
    "id": "yBYZOVgK-S7-"
   },
   "outputs": [],
   "source": [
    "model.compile(\n",
    "    optimizer=tfa.optimizers.MovingAverage(tf.keras.optimizers.legacy.Adam(0.0016, decay=5e-5)),\n",
    "    metrics=metrics,\n",
    "    loss=tf.keras.losses.CategoricalCrossentropy(from_logits=True),\n",
    ")"
   ]
  },
  {
   "cell_type": "code",
   "execution_count": null,
   "metadata": {
    "colab": {
     "base_uri": "https://localhost:8080/"
    },
    "executionInfo": {
     "elapsed": 25173,
     "status": "ok",
     "timestamp": 1681649702082,
     "user": {
      "displayName": "Михаил Глазов",
      "userId": "14831628976106288763"
     },
     "user_tz": -180
    },
    "id": "jWAAXsxKfEWp",
    "outputId": "a7475263-2e3a-48fd-a19a-a1835783cafe"
   },
   "outputs": [
    {
     "name": "stdout",
     "output_type": "stream",
     "text": [
      "Mounted at /content/drive\n"
     ]
    }
   ],
   "source": [
    "from google.colab import drive\n",
    "\n",
    "drive.mount('/content/drive')"
   ]
  },
  {
   "cell_type": "markdown",
   "metadata": {
    "id": "Ne9pPgJI-S7-"
   },
   "source": [
    "#### Обучаем модель"
   ]
  },
  {
   "cell_type": "code",
   "execution_count": 25,
   "metadata": {
    "colab": {
     "base_uri": "https://localhost:8080/",
     "height": 1000
    },
    "executionInfo": {
     "elapsed": 1504505,
     "status": "error",
     "timestamp": 1681668299121,
     "user": {
      "displayName": "Гриша Безруков",
      "userId": "02717934454974586898"
     },
     "user_tz": -180
    },
    "id": "mbiNiTlx-S7_",
    "outputId": "10cbb880-29d0-447e-fdd0-921baa5a7121"
   },
   "outputs": [
    {
     "name": "stdout",
     "output_type": "stream",
     "text": [
      "Epoch 1/100\n"
     ]
    },
    {
     "name": "stderr",
     "output_type": "stream",
     "text": [
      "\n",
      "KeyboardInterrupt\n",
      "\n"
     ]
    }
   ],
   "source": [
    "history = model.fit(train_ds, validation_data=val_ds,\n",
    "                    epochs=100, callbacks=callbacks, verbose=1)"
   ]
  },
  {
   "cell_type": "markdown",
   "metadata": {
    "collapsed": false
   },
   "source": [
    "![-](data:image/png;base64,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)"
   ]
  },
  {
   "cell_type": "markdown",
   "metadata": {
    "id": "luv78DSO-S7_"
   },
   "source": [
    "Подгружаем все чекпоинты"
   ]
  },
  {
   "cell_type": "code",
   "execution_count": 11,
   "metadata": {
    "executionInfo": {
     "elapsed": 34285,
     "status": "ok",
     "timestamp": 1681668343491,
     "user": {
      "displayName": "Гриша Безруков",
      "userId": "02717934454974586898"
     },
     "user_tz": -180
    },
    "id": "g264umVz1hzv"
   },
   "outputs": [],
   "source": [
    "model_categorical_acc = tf.keras.models.load_model(f'../checkpoints/model{num_model}_categorical_accuracy.h5')\n",
    "model_f1_score = tf.keras.models.load_model(f'../checkpoints/model{num_model}_f1_score.h5')\n",
    "model_loss = tf.keras.models.load_model(f'../checkpoints/model{num_model}_loss.h5')\n",
    "model_avg_categorical_acc = tf.keras.models.load_model(f'../checkpoints/model{num_model}_avg_categorical_accuracy.h5')\n",
    "model_avg_f1_score = tf.keras.models.load_model(f'../checkpoints/model{num_model}_avg_f1_score.h5')\n",
    "model_avg_loss = tf.keras.models.load_model(f'../checkpoints/model{num_model}_avg_loss.h5')"
   ]
  },
  {
   "cell_type": "markdown",
   "metadata": {
    "id": "r7i-3GRn-S7_"
   },
   "source": [
    "У нас поличилось три чекпоинта (три модели). Ниже указан код для получения ответов для всех чекпоинтов по валидационному датасету."
   ]
  },
  {
   "cell_type": "code",
   "execution_count": 12,
   "metadata": {
    "colab": {
     "base_uri": "https://localhost:8080/"
    },
    "executionInfo": {
     "elapsed": 31431,
     "status": "ok",
     "timestamp": 1681668374879,
     "user": {
      "displayName": "Гриша Безруков",
      "userId": "02717934454974586898"
     },
     "user_tz": -180
    },
    "id": "u-cKSLLm1hzx",
    "outputId": "dbf16b64-78f2-470b-c75b-842fefbd2be1"
   },
   "outputs": [
    {
     "name": "stdout",
     "output_type": "stream",
     "text": [
      "154/154 [==============================] - 2s 15ms/step\n",
      "154/154 [==============================] - 2s 13ms/step\n",
      "154/154 [==============================] - 2s 15ms/step\n",
      "154/154 [==============================] - 2s 15ms/step\n",
      "154/154 [==============================] - 2s 14ms/step\n",
      "154/154 [==============================] - 2s 14ms/step\n"
     ]
    }
   ],
   "source": [
    "ans_val_categorical_accuracy = make_ans_file(model_categorical_acc, val_ds_x)\n",
    "ans_val_f1_score = make_ans_file(model_f1_score, val_ds_x)\n",
    "ans_val_loss = make_ans_file(model_loss, val_ds_x)\n",
    "ans_val_avg_categorical_accuracy = make_ans_file(model_avg_categorical_acc, val_ds_x)\n",
    "ans_val_avg_f1_score = make_ans_file(model_avg_f1_score, val_ds_x)\n",
    "ans_val_avg_loss = make_ans_file(model_avg_loss, val_ds_x)\n",
    "anss = [ans_val_categorical_accuracy, ans_val_f1_score, ans_val_loss, ans_val_avg_categorical_accuracy,\n",
    "        ans_val_avg_f1_score, ans_val_avg_loss]"
   ]
  },
  {
   "cell_type": "markdown",
   "metadata": {
    "id": "az3iBS0W1hzx"
   },
   "source": [
    "Формируем валидационные ответы."
   ]
  },
  {
   "cell_type": "code",
   "execution_count": 13,
   "metadata": {
    "executionInfo": {
     "elapsed": 59,
     "status": "ok",
     "timestamp": 1681668374886,
     "user": {
      "displayName": "Гриша Безруков",
      "userId": "02717934454974586898"
     },
     "user_tz": -180
    },
    "id": "OpY_REt31hzy"
   },
   "outputs": [],
   "source": [
    "val_ds_y = np.argmax(val_ds_y, axis=1)"
   ]
  },
  {
   "cell_type": "markdown",
   "metadata": {
    "id": "sqmvqg641hzy"
   },
   "source": [
    "Сравниваем валидационные предикты каждого чекпоинта"
   ]
  },
  {
   "cell_type": "code",
   "execution_count": 14,
   "metadata": {
    "colab": {
     "base_uri": "https://localhost:8080/"
    },
    "executionInfo": {
     "elapsed": 58,
     "status": "ok",
     "timestamp": 1681668374887,
     "user": {
      "displayName": "Гриша Безруков",
      "userId": "02717934454974586898"
     },
     "user_tz": -180
    },
    "id": "swFdpR3O1hzz",
    "outputId": "9e6aaed2-f981-4584-a5a1-b7198374ea84"
   },
   "outputs": [
    {
     "name": "stdout",
     "output_type": "stream",
     "text": [
      "чекпоинты 1 и 3 одинаковые\n",
      "чекпоинты 4 и 6 одинаковые\n"
     ]
    }
   ],
   "source": [
    "for i in range(len(anss) - 1):\n",
    "    for j in range(i + 1, len(anss)):\n",
    "        if np.all(anss[i] == anss[j]):\n",
    "            print(f'чекпоинты {i + 1} и {j + 1} одинаковые')"
   ]
  },
  {
   "cell_type": "markdown",
   "metadata": {
    "id": "L9eNtr1L1hz1"
   },
   "source": [
    "- Денис пишет ансамблинг моделей. Когда он допишет, мы применим это для формирования ответа по трем получившимся моделям. То есть, если все чекпоинты разные, то мы будем делать средний ответ по трем предиктам."
   ]
  },
  {
   "cell_type": "markdown",
   "metadata": {
    "id": "XRNa8eAd1hz8"
   },
   "source": [
    "В конце смотрим на метрики и делаем выводы о том, чем хороша эта модель. Какие классы она угадывает лучше/худше всего. Дописываем какую метрику показал kaggle."
   ]
  },
  {
   "cell_type": "code",
   "execution_count": 15,
   "metadata": {
    "executionInfo": {
     "elapsed": 54,
     "status": "ok",
     "timestamp": 1681668374888,
     "user": {
      "displayName": "Гриша Безруков",
      "userId": "02717934454974586898"
     },
     "user_tz": -180
    },
    "id": "Op5vVeQp1hz9"
   },
   "outputs": [],
   "source": [
    "class MulticlassClassificationMetrics:\n",
    "    def __init__(self, y_true, y_pred):\n",
    "        self.y_true = np.array(y_true)\n",
    "        self.y_pred = np.array(y_pred)\n",
    "        self.matrix_error = self.get_matrix_error()\n",
    "\n",
    "    def get_matrix_error(self):\n",
    "        self.class_types = np.unique([self.y_true, self.y_pred])\n",
    "        TP, FN, FP, TN = [], [], [], []\n",
    "        for class_type in self.class_types:\n",
    "            TP.append(np.sum(np.logical_and(self.y_true == self.y_pred, self.y_true == class_type)))\n",
    "            FN.append(np.sum(np.logical_and(self.y_true == class_type, self.y_pred != class_type)))\n",
    "            FP.append(np.sum(np.logical_and(self.y_pred == class_type, self.y_true != class_type)))\n",
    "            TN.append(np.sum(np.logical_and(self.y_pred != class_type, self.y_true != class_type)))\n",
    "        return pd.DataFrame({\n",
    "            'class_type': self.class_types,\n",
    "            'TP': TP, 'TN': TN, 'FP': FP, 'FN': FN,\n",
    "        }).set_index('class_type')\n",
    "\n",
    "    def accuracy(self):\n",
    "        return np.sum(self.y_true == self.y_pred) / self.y_true.shape[0]\n",
    "\n",
    "    def precision(self, averaging='macro'):\n",
    "        if averaging == 'macro':\n",
    "            precisions = self.matrix_error['TP'] / (self.matrix_error['TP'] + self.matrix_error['FP'])\n",
    "            return np.mean(precisions.replace(np.nan, 0))\n",
    "        elif averaging == 'micro':\n",
    "            mean_val = self.matrix_error.mean()\n",
    "            return mean_val['TP'] / (mean_val['TP'] + mean_val['FP'])\n",
    "\n",
    "    def recall(self, averaging='macro'):\n",
    "        if averaging == 'macro':\n",
    "            recalls = self.matrix_error['TP'] / (self.matrix_error['TP'] + self.matrix_error['FN'])\n",
    "            return np.mean(recalls.replace(np.nan, 0))\n",
    "        elif averaging == 'micro':\n",
    "            mean_val = self.matrix_error.mean()\n",
    "            return mean_val['TP'] / (mean_val['TP'] + mean_val['FN'])\n",
    "\n",
    "    def f1_score(self, averaging='macro'):\n",
    "        if averaging == 'macro':\n",
    "            reverse_r = (self.matrix_error['TP'] + self.matrix_error['FN']) / self.matrix_error['TP']\n",
    "            reverse_p = (self.matrix_error['TP'] + self.matrix_error['FP']) / self.matrix_error['TP']\n",
    "            f1_scores = 2 / (reverse_r + reverse_p)\n",
    "            return np.mean(f1_scores.replace(np.nan, 0))\n",
    "        elif averaging == 'micro':\n",
    "            p = self.precision(averaging)\n",
    "            r = self.recall(averaging)\n",
    "            return 2 * p * r / (p + r)\n",
    "\n",
    "    def metrics(self, averaging='macro'):\n",
    "        return {\n",
    "            'accuracy': self.accuracy(),\n",
    "            'precision': self.precision(averaging),\n",
    "            'recall': self.recall(averaging),\n",
    "            'f1_score': self.f1_score(averaging),\n",
    "        }\n",
    "\n",
    "    def __str__(self):\n",
    "        headers = {\n",
    "            'selector': '*',\n",
    "            'props': 'background-color: darkgreen; color: white; font-size: 12pt;',\n",
    "        }\n",
    "        che_super_mega_puper_visualization_of_cell = {\n",
    "            'selector': 'td:hover',\n",
    "            'props': 'background-color: green; color: white;',\n",
    "        }\n",
    "        display(\n",
    "            self.matrix_error\n",
    "            .style\n",
    "            .set_table_styles([\n",
    "                headers,\n",
    "                che_super_mega_puper_visualization_of_cell,\n",
    "            ])\n",
    "            .set_properties(**{'background-color': 'lightgreen',\n",
    "                               'color': 'black', 'font-size': '12pt'})\n",
    "        )\n",
    "        return ''\n",
    "\n",
    "    def __repr__(self):\n",
    "        return (\n",
    "            f'MulticlassClassificationMetrics(class_types={self.class_types})'\n",
    "            .replace(\"'\", '').replace(',', ';'))"
   ]
  },
  {
   "cell_type": "markdown",
   "metadata": {
    "id": "uhWptjbN1hz_"
   },
   "source": [
    "### Accuracy чекпоинт"
   ]
  },
  {
   "cell_type": "code",
   "execution_count": 16,
   "metadata": {
    "colab": {
     "base_uri": "https://localhost:8080/",
     "height": 535
    },
    "executionInfo": {
     "elapsed": 561,
     "status": "ok",
     "timestamp": 1681668391073,
     "user": {
      "displayName": "Гриша Безруков",
      "userId": "02717934454974586898"
     },
     "user_tz": -180
    },
    "id": "h_X5LFRj1h0A",
    "outputId": "84f4423d-ffe3-4e97-c257-aa45e90b7db5"
   },
   "outputs": [
    {
     "data": {
      "text/html": [
       "<style type=\"text/css\">\n",
       "#T_07bce * {\n",
       "  background-color: darkgreen;\n",
       "  color: white;\n",
       "  font-size: 12pt;\n",
       "}\n",
       "#T_07bce td:hover {\n",
       "  background-color: green;\n",
       "  color: white;\n",
       "}\n",
       "#T_07bce_row0_col0, #T_07bce_row0_col1, #T_07bce_row0_col2, #T_07bce_row0_col3, #T_07bce_row1_col0, #T_07bce_row1_col1, #T_07bce_row1_col2, #T_07bce_row1_col3, #T_07bce_row2_col0, #T_07bce_row2_col1, #T_07bce_row2_col2, #T_07bce_row2_col3, #T_07bce_row3_col0, #T_07bce_row3_col1, #T_07bce_row3_col2, #T_07bce_row3_col3, #T_07bce_row4_col0, #T_07bce_row4_col1, #T_07bce_row4_col2, #T_07bce_row4_col3, #T_07bce_row5_col0, #T_07bce_row5_col1, #T_07bce_row5_col2, #T_07bce_row5_col3, #T_07bce_row6_col0, #T_07bce_row6_col1, #T_07bce_row6_col2, #T_07bce_row6_col3, #T_07bce_row7_col0, #T_07bce_row7_col1, #T_07bce_row7_col2, #T_07bce_row7_col3, #T_07bce_row8_col0, #T_07bce_row8_col1, #T_07bce_row8_col2, #T_07bce_row8_col3, #T_07bce_row9_col0, #T_07bce_row9_col1, #T_07bce_row9_col2, #T_07bce_row9_col3 {\n",
       "  background-color: lightgreen;\n",
       "  color: black;\n",
       "  font-size: 12pt;\n",
       "}\n",
       "</style>\n",
       "<table id=\"T_07bce\">\n",
       "  <thead>\n",
       "    <tr>\n",
       "      <th class=\"blank level0\" >&nbsp;</th>\n",
       "      <th id=\"T_07bce_level0_col0\" class=\"col_heading level0 col0\" >TP</th>\n",
       "      <th id=\"T_07bce_level0_col1\" class=\"col_heading level0 col1\" >TN</th>\n",
       "      <th id=\"T_07bce_level0_col2\" class=\"col_heading level0 col2\" >FP</th>\n",
       "      <th id=\"T_07bce_level0_col3\" class=\"col_heading level0 col3\" >FN</th>\n",
       "    </tr>\n",
       "    <tr>\n",
       "      <th class=\"index_name level0\" >class_type</th>\n",
       "      <th class=\"blank col0\" >&nbsp;</th>\n",
       "      <th class=\"blank col1\" >&nbsp;</th>\n",
       "      <th class=\"blank col2\" >&nbsp;</th>\n",
       "      <th class=\"blank col3\" >&nbsp;</th>\n",
       "    </tr>\n",
       "  </thead>\n",
       "  <tbody>\n",
       "    <tr>\n",
       "      <th id=\"T_07bce_level0_row0\" class=\"row_heading level0 row0\" >0</th>\n",
       "      <td id=\"T_07bce_row0_col0\" class=\"data row0 col0\" >459</td>\n",
       "      <td id=\"T_07bce_row0_col1\" class=\"data row0 col1\" >4432</td>\n",
       "      <td id=\"T_07bce_row0_col2\" class=\"data row0 col2\" >6</td>\n",
       "      <td id=\"T_07bce_row0_col3\" class=\"data row0 col3\" >4</td>\n",
       "    </tr>\n",
       "    <tr>\n",
       "      <th id=\"T_07bce_level0_row1\" class=\"row_heading level0 row1\" >1</th>\n",
       "      <td id=\"T_07bce_row1_col0\" class=\"data row1 col0\" >494</td>\n",
       "      <td id=\"T_07bce_row1_col1\" class=\"data row1 col1\" >4389</td>\n",
       "      <td id=\"T_07bce_row1_col2\" class=\"data row1 col2\" >10</td>\n",
       "      <td id=\"T_07bce_row1_col3\" class=\"data row1 col3\" >8</td>\n",
       "    </tr>\n",
       "    <tr>\n",
       "      <th id=\"T_07bce_level0_row2\" class=\"row_heading level0 row2\" >2</th>\n",
       "      <td id=\"T_07bce_row2_col0\" class=\"data row2 col0\" >438</td>\n",
       "      <td id=\"T_07bce_row2_col1\" class=\"data row2 col1\" >4450</td>\n",
       "      <td id=\"T_07bce_row2_col2\" class=\"data row2 col2\" >4</td>\n",
       "      <td id=\"T_07bce_row2_col3\" class=\"data row2 col3\" >9</td>\n",
       "    </tr>\n",
       "    <tr>\n",
       "      <th id=\"T_07bce_level0_row3\" class=\"row_heading level0 row3\" >3</th>\n",
       "      <td id=\"T_07bce_row3_col0\" class=\"data row3 col0\" >491</td>\n",
       "      <td id=\"T_07bce_row3_col1\" class=\"data row3 col1\" >4397</td>\n",
       "      <td id=\"T_07bce_row3_col2\" class=\"data row3 col2\" >3</td>\n",
       "      <td id=\"T_07bce_row3_col3\" class=\"data row3 col3\" >10</td>\n",
       "    </tr>\n",
       "    <tr>\n",
       "      <th id=\"T_07bce_level0_row4\" class=\"row_heading level0 row4\" >4</th>\n",
       "      <td id=\"T_07bce_row4_col0\" class=\"data row4 col0\" >462</td>\n",
       "      <td id=\"T_07bce_row4_col1\" class=\"data row4 col1\" >4426</td>\n",
       "      <td id=\"T_07bce_row4_col2\" class=\"data row4 col2\" >5</td>\n",
       "      <td id=\"T_07bce_row4_col3\" class=\"data row4 col3\" >8</td>\n",
       "    </tr>\n",
       "    <tr>\n",
       "      <th id=\"T_07bce_level0_row5\" class=\"row_heading level0 row5\" >5</th>\n",
       "      <td id=\"T_07bce_row5_col0\" class=\"data row5 col0\" >472</td>\n",
       "      <td id=\"T_07bce_row5_col1\" class=\"data row5 col1\" >4412</td>\n",
       "      <td id=\"T_07bce_row5_col2\" class=\"data row5 col2\" >11</td>\n",
       "      <td id=\"T_07bce_row5_col3\" class=\"data row5 col3\" >6</td>\n",
       "    </tr>\n",
       "    <tr>\n",
       "      <th id=\"T_07bce_level0_row6\" class=\"row_heading level0 row6\" >6</th>\n",
       "      <td id=\"T_07bce_row6_col0\" class=\"data row6 col0\" >505</td>\n",
       "      <td id=\"T_07bce_row6_col1\" class=\"data row6 col1\" >4389</td>\n",
       "      <td id=\"T_07bce_row6_col2\" class=\"data row6 col2\" >5</td>\n",
       "      <td id=\"T_07bce_row6_col3\" class=\"data row6 col3\" >2</td>\n",
       "    </tr>\n",
       "    <tr>\n",
       "      <th id=\"T_07bce_level0_row7\" class=\"row_heading level0 row7\" >7</th>\n",
       "      <td id=\"T_07bce_row7_col0\" class=\"data row7 col0\" >519</td>\n",
       "      <td id=\"T_07bce_row7_col1\" class=\"data row7 col1\" >4374</td>\n",
       "      <td id=\"T_07bce_row7_col2\" class=\"data row7 col2\" >6</td>\n",
       "      <td id=\"T_07bce_row7_col3\" class=\"data row7 col3\" >2</td>\n",
       "    </tr>\n",
       "    <tr>\n",
       "      <th id=\"T_07bce_level0_row8\" class=\"row_heading level0 row8\" >8</th>\n",
       "      <td id=\"T_07bce_row8_col0\" class=\"data row8 col0\" >500</td>\n",
       "      <td id=\"T_07bce_row8_col1\" class=\"data row8 col1\" >4390</td>\n",
       "      <td id=\"T_07bce_row8_col2\" class=\"data row8 col2\" >8</td>\n",
       "      <td id=\"T_07bce_row8_col3\" class=\"data row8 col3\" >3</td>\n",
       "    </tr>\n",
       "    <tr>\n",
       "      <th id=\"T_07bce_level0_row9\" class=\"row_heading level0 row9\" >9</th>\n",
       "      <td id=\"T_07bce_row9_col0\" class=\"data row9 col0\" >500</td>\n",
       "      <td id=\"T_07bce_row9_col1\" class=\"data row9 col1\" >4389</td>\n",
       "      <td id=\"T_07bce_row9_col2\" class=\"data row9 col2\" >3</td>\n",
       "      <td id=\"T_07bce_row9_col3\" class=\"data row9 col3\" >9</td>\n",
       "    </tr>\n",
       "  </tbody>\n",
       "</table>\n"
      ],
      "text/plain": [
       "<pandas.io.formats.style.Styler at 0x227f69704f0>"
      ]
     },
     "metadata": {},
     "output_type": "display_data"
    },
    {
     "name": "stdout",
     "output_type": "stream",
     "text": [
      "\n"
     ]
    },
    {
     "data": {
      "text/plain": [
       "{'accuracy': 0.9875535604978576,\n",
       " 'precision': 0.9875707151659918,\n",
       " 'recall': 0.9874327061924895,\n",
       " 'f1_score': 0.9874809825774555}"
      ]
     },
     "execution_count": 16,
     "metadata": {},
     "output_type": "execute_result"
    }
   ],
   "source": [
    "metrics = MulticlassClassificationMetrics(val_ds_y, ans_val_categorical_accuracy)\n",
    "print(metrics)\n",
    "metrics.metrics()"
   ]
  },
  {
   "cell_type": "markdown",
   "metadata": {
    "id": "7VAzf7n0dECw"
   },
   "source": [
    "### Loss чекпоинт"
   ]
  },
  {
   "cell_type": "code",
   "execution_count": 17,
   "metadata": {
    "colab": {
     "base_uri": "https://localhost:8080/",
     "height": 535
    },
    "executionInfo": {
     "elapsed": 1478,
     "status": "ok",
     "timestamp": 1681668401306,
     "user": {
      "displayName": "Гриша Безруков",
      "userId": "02717934454974586898"
     },
     "user_tz": -180
    },
    "id": "uzHyXblNdECw",
    "outputId": "c3a541e6-daff-476a-cb20-213fe9958fd3"
   },
   "outputs": [
    {
     "data": {
      "text/html": [
       "<style type=\"text/css\">\n",
       "#T_52dd6 * {\n",
       "  background-color: darkgreen;\n",
       "  color: white;\n",
       "  font-size: 12pt;\n",
       "}\n",
       "#T_52dd6 td:hover {\n",
       "  background-color: green;\n",
       "  color: white;\n",
       "}\n",
       "#T_52dd6_row0_col0, #T_52dd6_row0_col1, #T_52dd6_row0_col2, #T_52dd6_row0_col3, #T_52dd6_row1_col0, #T_52dd6_row1_col1, #T_52dd6_row1_col2, #T_52dd6_row1_col3, #T_52dd6_row2_col0, #T_52dd6_row2_col1, #T_52dd6_row2_col2, #T_52dd6_row2_col3, #T_52dd6_row3_col0, #T_52dd6_row3_col1, #T_52dd6_row3_col2, #T_52dd6_row3_col3, #T_52dd6_row4_col0, #T_52dd6_row4_col1, #T_52dd6_row4_col2, #T_52dd6_row4_col3, #T_52dd6_row5_col0, #T_52dd6_row5_col1, #T_52dd6_row5_col2, #T_52dd6_row5_col3, #T_52dd6_row6_col0, #T_52dd6_row6_col1, #T_52dd6_row6_col2, #T_52dd6_row6_col3, #T_52dd6_row7_col0, #T_52dd6_row7_col1, #T_52dd6_row7_col2, #T_52dd6_row7_col3, #T_52dd6_row8_col0, #T_52dd6_row8_col1, #T_52dd6_row8_col2, #T_52dd6_row8_col3, #T_52dd6_row9_col0, #T_52dd6_row9_col1, #T_52dd6_row9_col2, #T_52dd6_row9_col3 {\n",
       "  background-color: lightgreen;\n",
       "  color: black;\n",
       "  font-size: 12pt;\n",
       "}\n",
       "</style>\n",
       "<table id=\"T_52dd6\">\n",
       "  <thead>\n",
       "    <tr>\n",
       "      <th class=\"blank level0\" >&nbsp;</th>\n",
       "      <th id=\"T_52dd6_level0_col0\" class=\"col_heading level0 col0\" >TP</th>\n",
       "      <th id=\"T_52dd6_level0_col1\" class=\"col_heading level0 col1\" >TN</th>\n",
       "      <th id=\"T_52dd6_level0_col2\" class=\"col_heading level0 col2\" >FP</th>\n",
       "      <th id=\"T_52dd6_level0_col3\" class=\"col_heading level0 col3\" >FN</th>\n",
       "    </tr>\n",
       "    <tr>\n",
       "      <th class=\"index_name level0\" >class_type</th>\n",
       "      <th class=\"blank col0\" >&nbsp;</th>\n",
       "      <th class=\"blank col1\" >&nbsp;</th>\n",
       "      <th class=\"blank col2\" >&nbsp;</th>\n",
       "      <th class=\"blank col3\" >&nbsp;</th>\n",
       "    </tr>\n",
       "  </thead>\n",
       "  <tbody>\n",
       "    <tr>\n",
       "      <th id=\"T_52dd6_level0_row0\" class=\"row_heading level0 row0\" >0</th>\n",
       "      <td id=\"T_52dd6_row0_col0\" class=\"data row0 col0\" >459</td>\n",
       "      <td id=\"T_52dd6_row0_col1\" class=\"data row0 col1\" >4432</td>\n",
       "      <td id=\"T_52dd6_row0_col2\" class=\"data row0 col2\" >6</td>\n",
       "      <td id=\"T_52dd6_row0_col3\" class=\"data row0 col3\" >4</td>\n",
       "    </tr>\n",
       "    <tr>\n",
       "      <th id=\"T_52dd6_level0_row1\" class=\"row_heading level0 row1\" >1</th>\n",
       "      <td id=\"T_52dd6_row1_col0\" class=\"data row1 col0\" >494</td>\n",
       "      <td id=\"T_52dd6_row1_col1\" class=\"data row1 col1\" >4389</td>\n",
       "      <td id=\"T_52dd6_row1_col2\" class=\"data row1 col2\" >10</td>\n",
       "      <td id=\"T_52dd6_row1_col3\" class=\"data row1 col3\" >8</td>\n",
       "    </tr>\n",
       "    <tr>\n",
       "      <th id=\"T_52dd6_level0_row2\" class=\"row_heading level0 row2\" >2</th>\n",
       "      <td id=\"T_52dd6_row2_col0\" class=\"data row2 col0\" >438</td>\n",
       "      <td id=\"T_52dd6_row2_col1\" class=\"data row2 col1\" >4450</td>\n",
       "      <td id=\"T_52dd6_row2_col2\" class=\"data row2 col2\" >4</td>\n",
       "      <td id=\"T_52dd6_row2_col3\" class=\"data row2 col3\" >9</td>\n",
       "    </tr>\n",
       "    <tr>\n",
       "      <th id=\"T_52dd6_level0_row3\" class=\"row_heading level0 row3\" >3</th>\n",
       "      <td id=\"T_52dd6_row3_col0\" class=\"data row3 col0\" >491</td>\n",
       "      <td id=\"T_52dd6_row3_col1\" class=\"data row3 col1\" >4397</td>\n",
       "      <td id=\"T_52dd6_row3_col2\" class=\"data row3 col2\" >3</td>\n",
       "      <td id=\"T_52dd6_row3_col3\" class=\"data row3 col3\" >10</td>\n",
       "    </tr>\n",
       "    <tr>\n",
       "      <th id=\"T_52dd6_level0_row4\" class=\"row_heading level0 row4\" >4</th>\n",
       "      <td id=\"T_52dd6_row4_col0\" class=\"data row4 col0\" >462</td>\n",
       "      <td id=\"T_52dd6_row4_col1\" class=\"data row4 col1\" >4426</td>\n",
       "      <td id=\"T_52dd6_row4_col2\" class=\"data row4 col2\" >5</td>\n",
       "      <td id=\"T_52dd6_row4_col3\" class=\"data row4 col3\" >8</td>\n",
       "    </tr>\n",
       "    <tr>\n",
       "      <th id=\"T_52dd6_level0_row5\" class=\"row_heading level0 row5\" >5</th>\n",
       "      <td id=\"T_52dd6_row5_col0\" class=\"data row5 col0\" >472</td>\n",
       "      <td id=\"T_52dd6_row5_col1\" class=\"data row5 col1\" >4412</td>\n",
       "      <td id=\"T_52dd6_row5_col2\" class=\"data row5 col2\" >11</td>\n",
       "      <td id=\"T_52dd6_row5_col3\" class=\"data row5 col3\" >6</td>\n",
       "    </tr>\n",
       "    <tr>\n",
       "      <th id=\"T_52dd6_level0_row6\" class=\"row_heading level0 row6\" >6</th>\n",
       "      <td id=\"T_52dd6_row6_col0\" class=\"data row6 col0\" >505</td>\n",
       "      <td id=\"T_52dd6_row6_col1\" class=\"data row6 col1\" >4389</td>\n",
       "      <td id=\"T_52dd6_row6_col2\" class=\"data row6 col2\" >5</td>\n",
       "      <td id=\"T_52dd6_row6_col3\" class=\"data row6 col3\" >2</td>\n",
       "    </tr>\n",
       "    <tr>\n",
       "      <th id=\"T_52dd6_level0_row7\" class=\"row_heading level0 row7\" >7</th>\n",
       "      <td id=\"T_52dd6_row7_col0\" class=\"data row7 col0\" >519</td>\n",
       "      <td id=\"T_52dd6_row7_col1\" class=\"data row7 col1\" >4374</td>\n",
       "      <td id=\"T_52dd6_row7_col2\" class=\"data row7 col2\" >6</td>\n",
       "      <td id=\"T_52dd6_row7_col3\" class=\"data row7 col3\" >2</td>\n",
       "    </tr>\n",
       "    <tr>\n",
       "      <th id=\"T_52dd6_level0_row8\" class=\"row_heading level0 row8\" >8</th>\n",
       "      <td id=\"T_52dd6_row8_col0\" class=\"data row8 col0\" >500</td>\n",
       "      <td id=\"T_52dd6_row8_col1\" class=\"data row8 col1\" >4390</td>\n",
       "      <td id=\"T_52dd6_row8_col2\" class=\"data row8 col2\" >8</td>\n",
       "      <td id=\"T_52dd6_row8_col3\" class=\"data row8 col3\" >3</td>\n",
       "    </tr>\n",
       "    <tr>\n",
       "      <th id=\"T_52dd6_level0_row9\" class=\"row_heading level0 row9\" >9</th>\n",
       "      <td id=\"T_52dd6_row9_col0\" class=\"data row9 col0\" >500</td>\n",
       "      <td id=\"T_52dd6_row9_col1\" class=\"data row9 col1\" >4389</td>\n",
       "      <td id=\"T_52dd6_row9_col2\" class=\"data row9 col2\" >3</td>\n",
       "      <td id=\"T_52dd6_row9_col3\" class=\"data row9 col3\" >9</td>\n",
       "    </tr>\n",
       "  </tbody>\n",
       "</table>\n"
      ],
      "text/plain": [
       "<pandas.io.formats.style.Styler at 0x227f6973fa0>"
      ]
     },
     "metadata": {},
     "output_type": "display_data"
    },
    {
     "name": "stdout",
     "output_type": "stream",
     "text": [
      "\n"
     ]
    },
    {
     "data": {
      "text/plain": [
       "{'accuracy': 0.9875535604978576,\n",
       " 'precision': 0.9875707151659918,\n",
       " 'recall': 0.9874327061924895,\n",
       " 'f1_score': 0.9874809825774555}"
      ]
     },
     "execution_count": 17,
     "metadata": {},
     "output_type": "execute_result"
    }
   ],
   "source": [
    "metrics = MulticlassClassificationMetrics(val_ds_y, ans_val_loss)\n",
    "print(metrics)\n",
    "metrics.metrics()"
   ]
  },
  {
   "cell_type": "markdown",
   "metadata": {
    "id": "A8jwTaCNdECx"
   },
   "source": [
    "### F1-score чекпоинт"
   ]
  },
  {
   "cell_type": "code",
   "execution_count": 19,
   "metadata": {
    "colab": {
     "base_uri": "https://localhost:8080/",
     "height": 535
    },
    "executionInfo": {
     "elapsed": 14,
     "status": "ok",
     "timestamp": 1681668401650,
     "user": {
      "displayName": "Гриша Безруков",
      "userId": "02717934454974586898"
     },
     "user_tz": -180
    },
    "id": "_OupAVHFdECx",
    "outputId": "0c5cc3ad-4295-458d-f05b-44b112e5c772"
   },
   "outputs": [
    {
     "data": {
      "text/html": [
       "<style type=\"text/css\">\n",
       "#T_d48bc * {\n",
       "  background-color: darkgreen;\n",
       "  color: white;\n",
       "  font-size: 12pt;\n",
       "}\n",
       "#T_d48bc td:hover {\n",
       "  background-color: green;\n",
       "  color: white;\n",
       "}\n",
       "#T_d48bc_row0_col0, #T_d48bc_row0_col1, #T_d48bc_row0_col2, #T_d48bc_row0_col3, #T_d48bc_row1_col0, #T_d48bc_row1_col1, #T_d48bc_row1_col2, #T_d48bc_row1_col3, #T_d48bc_row2_col0, #T_d48bc_row2_col1, #T_d48bc_row2_col2, #T_d48bc_row2_col3, #T_d48bc_row3_col0, #T_d48bc_row3_col1, #T_d48bc_row3_col2, #T_d48bc_row3_col3, #T_d48bc_row4_col0, #T_d48bc_row4_col1, #T_d48bc_row4_col2, #T_d48bc_row4_col3, #T_d48bc_row5_col0, #T_d48bc_row5_col1, #T_d48bc_row5_col2, #T_d48bc_row5_col3, #T_d48bc_row6_col0, #T_d48bc_row6_col1, #T_d48bc_row6_col2, #T_d48bc_row6_col3, #T_d48bc_row7_col0, #T_d48bc_row7_col1, #T_d48bc_row7_col2, #T_d48bc_row7_col3, #T_d48bc_row8_col0, #T_d48bc_row8_col1, #T_d48bc_row8_col2, #T_d48bc_row8_col3, #T_d48bc_row9_col0, #T_d48bc_row9_col1, #T_d48bc_row9_col2, #T_d48bc_row9_col3 {\n",
       "  background-color: lightgreen;\n",
       "  color: black;\n",
       "  font-size: 12pt;\n",
       "}\n",
       "</style>\n",
       "<table id=\"T_d48bc\">\n",
       "  <thead>\n",
       "    <tr>\n",
       "      <th class=\"blank level0\" >&nbsp;</th>\n",
       "      <th id=\"T_d48bc_level0_col0\" class=\"col_heading level0 col0\" >TP</th>\n",
       "      <th id=\"T_d48bc_level0_col1\" class=\"col_heading level0 col1\" >TN</th>\n",
       "      <th id=\"T_d48bc_level0_col2\" class=\"col_heading level0 col2\" >FP</th>\n",
       "      <th id=\"T_d48bc_level0_col3\" class=\"col_heading level0 col3\" >FN</th>\n",
       "    </tr>\n",
       "    <tr>\n",
       "      <th class=\"index_name level0\" >class_type</th>\n",
       "      <th class=\"blank col0\" >&nbsp;</th>\n",
       "      <th class=\"blank col1\" >&nbsp;</th>\n",
       "      <th class=\"blank col2\" >&nbsp;</th>\n",
       "      <th class=\"blank col3\" >&nbsp;</th>\n",
       "    </tr>\n",
       "  </thead>\n",
       "  <tbody>\n",
       "    <tr>\n",
       "      <th id=\"T_d48bc_level0_row0\" class=\"row_heading level0 row0\" >0</th>\n",
       "      <td id=\"T_d48bc_row0_col0\" class=\"data row0 col0\" >459</td>\n",
       "      <td id=\"T_d48bc_row0_col1\" class=\"data row0 col1\" >4435</td>\n",
       "      <td id=\"T_d48bc_row0_col2\" class=\"data row0 col2\" >3</td>\n",
       "      <td id=\"T_d48bc_row0_col3\" class=\"data row0 col3\" >4</td>\n",
       "    </tr>\n",
       "    <tr>\n",
       "      <th id=\"T_d48bc_level0_row1\" class=\"row_heading level0 row1\" >1</th>\n",
       "      <td id=\"T_d48bc_row1_col0\" class=\"data row1 col0\" >495</td>\n",
       "      <td id=\"T_d48bc_row1_col1\" class=\"data row1 col1\" >4385</td>\n",
       "      <td id=\"T_d48bc_row1_col2\" class=\"data row1 col2\" >14</td>\n",
       "      <td id=\"T_d48bc_row1_col3\" class=\"data row1 col3\" >7</td>\n",
       "    </tr>\n",
       "    <tr>\n",
       "      <th id=\"T_d48bc_level0_row2\" class=\"row_heading level0 row2\" >2</th>\n",
       "      <td id=\"T_d48bc_row2_col0\" class=\"data row2 col0\" >440</td>\n",
       "      <td id=\"T_d48bc_row2_col1\" class=\"data row2 col1\" >4450</td>\n",
       "      <td id=\"T_d48bc_row2_col2\" class=\"data row2 col2\" >4</td>\n",
       "      <td id=\"T_d48bc_row2_col3\" class=\"data row2 col3\" >7</td>\n",
       "    </tr>\n",
       "    <tr>\n",
       "      <th id=\"T_d48bc_level0_row3\" class=\"row_heading level0 row3\" >3</th>\n",
       "      <td id=\"T_d48bc_row3_col0\" class=\"data row3 col0\" >493</td>\n",
       "      <td id=\"T_d48bc_row3_col1\" class=\"data row3 col1\" >4397</td>\n",
       "      <td id=\"T_d48bc_row3_col2\" class=\"data row3 col2\" >3</td>\n",
       "      <td id=\"T_d48bc_row3_col3\" class=\"data row3 col3\" >8</td>\n",
       "    </tr>\n",
       "    <tr>\n",
       "      <th id=\"T_d48bc_level0_row4\" class=\"row_heading level0 row4\" >4</th>\n",
       "      <td id=\"T_d48bc_row4_col0\" class=\"data row4 col0\" >465</td>\n",
       "      <td id=\"T_d48bc_row4_col1\" class=\"data row4 col1\" >4428</td>\n",
       "      <td id=\"T_d48bc_row4_col2\" class=\"data row4 col2\" >3</td>\n",
       "      <td id=\"T_d48bc_row4_col3\" class=\"data row4 col3\" >5</td>\n",
       "    </tr>\n",
       "    <tr>\n",
       "      <th id=\"T_d48bc_level0_row5\" class=\"row_heading level0 row5\" >5</th>\n",
       "      <td id=\"T_d48bc_row5_col0\" class=\"data row5 col0\" >470</td>\n",
       "      <td id=\"T_d48bc_row5_col1\" class=\"data row5 col1\" >4408</td>\n",
       "      <td id=\"T_d48bc_row5_col2\" class=\"data row5 col2\" >15</td>\n",
       "      <td id=\"T_d48bc_row5_col3\" class=\"data row5 col3\" >8</td>\n",
       "    </tr>\n",
       "    <tr>\n",
       "      <th id=\"T_d48bc_level0_row6\" class=\"row_heading level0 row6\" >6</th>\n",
       "      <td id=\"T_d48bc_row6_col0\" class=\"data row6 col0\" >504</td>\n",
       "      <td id=\"T_d48bc_row6_col1\" class=\"data row6 col1\" >4391</td>\n",
       "      <td id=\"T_d48bc_row6_col2\" class=\"data row6 col2\" >3</td>\n",
       "      <td id=\"T_d48bc_row6_col3\" class=\"data row6 col3\" >3</td>\n",
       "    </tr>\n",
       "    <tr>\n",
       "      <th id=\"T_d48bc_level0_row7\" class=\"row_heading level0 row7\" >7</th>\n",
       "      <td id=\"T_d48bc_row7_col0\" class=\"data row7 col0\" >519</td>\n",
       "      <td id=\"T_d48bc_row7_col1\" class=\"data row7 col1\" >4377</td>\n",
       "      <td id=\"T_d48bc_row7_col2\" class=\"data row7 col2\" >3</td>\n",
       "      <td id=\"T_d48bc_row7_col3\" class=\"data row7 col3\" >2</td>\n",
       "    </tr>\n",
       "    <tr>\n",
       "      <th id=\"T_d48bc_level0_row8\" class=\"row_heading level0 row8\" >8</th>\n",
       "      <td id=\"T_d48bc_row8_col0\" class=\"data row8 col0\" >496</td>\n",
       "      <td id=\"T_d48bc_row8_col1\" class=\"data row8 col1\" >4391</td>\n",
       "      <td id=\"T_d48bc_row8_col2\" class=\"data row8 col2\" >7</td>\n",
       "      <td id=\"T_d48bc_row8_col3\" class=\"data row8 col3\" >7</td>\n",
       "    </tr>\n",
       "    <tr>\n",
       "      <th id=\"T_d48bc_level0_row9\" class=\"row_heading level0 row9\" >9</th>\n",
       "      <td id=\"T_d48bc_row9_col0\" class=\"data row9 col0\" >499</td>\n",
       "      <td id=\"T_d48bc_row9_col1\" class=\"data row9 col1\" >4386</td>\n",
       "      <td id=\"T_d48bc_row9_col2\" class=\"data row9 col2\" >6</td>\n",
       "      <td id=\"T_d48bc_row9_col3\" class=\"data row9 col3\" >10</td>\n",
       "    </tr>\n",
       "  </tbody>\n",
       "</table>\n"
      ],
      "text/plain": [
       "<pandas.io.formats.style.Styler at 0x227f6973fa0>"
      ]
     },
     "metadata": {},
     "output_type": "display_data"
    },
    {
     "name": "stdout",
     "output_type": "stream",
     "text": [
      "\n"
     ]
    },
    {
     "data": {
      "text/plain": [
       "{'accuracy': 0.9875535604978576,\n",
       " 'precision': 0.9876144119034608,\n",
       " 'recall': 0.9875094951588796,\n",
       " 'f1_score': 0.987546304202621}"
      ]
     },
     "execution_count": 19,
     "metadata": {},
     "output_type": "execute_result"
    }
   ],
   "source": [
    "metrics = MulticlassClassificationMetrics(val_ds_y, ans_val_f1_score)\n",
    "print(metrics)\n",
    "metrics.metrics()"
   ]
  },
  {
   "cell_type": "markdown",
   "metadata": {
    "id": "-RomA9mSnbEX"
   },
   "source": [
    "### Среднее скользящее по accuracy чекпоинт"
   ]
  },
  {
   "cell_type": "code",
   "execution_count": 20,
   "metadata": {
    "colab": {
     "base_uri": "https://localhost:8080/",
     "height": 535
    },
    "executionInfo": {
     "elapsed": 29,
     "status": "ok",
     "timestamp": 1681668402320,
     "user": {
      "displayName": "Гриша Безруков",
      "userId": "02717934454974586898"
     },
     "user_tz": -180
    },
    "id": "FbPidiv_nzkj",
    "outputId": "ae66c4d5-d48d-4592-e85f-7e64a8e3ee3b"
   },
   "outputs": [
    {
     "data": {
      "text/html": [
       "<style type=\"text/css\">\n",
       "#T_2036a * {\n",
       "  background-color: darkgreen;\n",
       "  color: white;\n",
       "  font-size: 12pt;\n",
       "}\n",
       "#T_2036a td:hover {\n",
       "  background-color: green;\n",
       "  color: white;\n",
       "}\n",
       "#T_2036a_row0_col0, #T_2036a_row0_col1, #T_2036a_row0_col2, #T_2036a_row0_col3, #T_2036a_row1_col0, #T_2036a_row1_col1, #T_2036a_row1_col2, #T_2036a_row1_col3, #T_2036a_row2_col0, #T_2036a_row2_col1, #T_2036a_row2_col2, #T_2036a_row2_col3, #T_2036a_row3_col0, #T_2036a_row3_col1, #T_2036a_row3_col2, #T_2036a_row3_col3, #T_2036a_row4_col0, #T_2036a_row4_col1, #T_2036a_row4_col2, #T_2036a_row4_col3, #T_2036a_row5_col0, #T_2036a_row5_col1, #T_2036a_row5_col2, #T_2036a_row5_col3, #T_2036a_row6_col0, #T_2036a_row6_col1, #T_2036a_row6_col2, #T_2036a_row6_col3, #T_2036a_row7_col0, #T_2036a_row7_col1, #T_2036a_row7_col2, #T_2036a_row7_col3, #T_2036a_row8_col0, #T_2036a_row8_col1, #T_2036a_row8_col2, #T_2036a_row8_col3, #T_2036a_row9_col0, #T_2036a_row9_col1, #T_2036a_row9_col2, #T_2036a_row9_col3 {\n",
       "  background-color: lightgreen;\n",
       "  color: black;\n",
       "  font-size: 12pt;\n",
       "}\n",
       "</style>\n",
       "<table id=\"T_2036a\">\n",
       "  <thead>\n",
       "    <tr>\n",
       "      <th class=\"blank level0\" >&nbsp;</th>\n",
       "      <th id=\"T_2036a_level0_col0\" class=\"col_heading level0 col0\" >TP</th>\n",
       "      <th id=\"T_2036a_level0_col1\" class=\"col_heading level0 col1\" >TN</th>\n",
       "      <th id=\"T_2036a_level0_col2\" class=\"col_heading level0 col2\" >FP</th>\n",
       "      <th id=\"T_2036a_level0_col3\" class=\"col_heading level0 col3\" >FN</th>\n",
       "    </tr>\n",
       "    <tr>\n",
       "      <th class=\"index_name level0\" >class_type</th>\n",
       "      <th class=\"blank col0\" >&nbsp;</th>\n",
       "      <th class=\"blank col1\" >&nbsp;</th>\n",
       "      <th class=\"blank col2\" >&nbsp;</th>\n",
       "      <th class=\"blank col3\" >&nbsp;</th>\n",
       "    </tr>\n",
       "  </thead>\n",
       "  <tbody>\n",
       "    <tr>\n",
       "      <th id=\"T_2036a_level0_row0\" class=\"row_heading level0 row0\" >0</th>\n",
       "      <td id=\"T_2036a_row0_col0\" class=\"data row0 col0\" >460</td>\n",
       "      <td id=\"T_2036a_row0_col1\" class=\"data row0 col1\" >4433</td>\n",
       "      <td id=\"T_2036a_row0_col2\" class=\"data row0 col2\" >5</td>\n",
       "      <td id=\"T_2036a_row0_col3\" class=\"data row0 col3\" >3</td>\n",
       "    </tr>\n",
       "    <tr>\n",
       "      <th id=\"T_2036a_level0_row1\" class=\"row_heading level0 row1\" >1</th>\n",
       "      <td id=\"T_2036a_row1_col0\" class=\"data row1 col0\" >492</td>\n",
       "      <td id=\"T_2036a_row1_col1\" class=\"data row1 col1\" >4386</td>\n",
       "      <td id=\"T_2036a_row1_col2\" class=\"data row1 col2\" >13</td>\n",
       "      <td id=\"T_2036a_row1_col3\" class=\"data row1 col3\" >10</td>\n",
       "    </tr>\n",
       "    <tr>\n",
       "      <th id=\"T_2036a_level0_row2\" class=\"row_heading level0 row2\" >2</th>\n",
       "      <td id=\"T_2036a_row2_col0\" class=\"data row2 col0\" >440</td>\n",
       "      <td id=\"T_2036a_row2_col1\" class=\"data row2 col1\" >4447</td>\n",
       "      <td id=\"T_2036a_row2_col2\" class=\"data row2 col2\" >7</td>\n",
       "      <td id=\"T_2036a_row2_col3\" class=\"data row2 col3\" >7</td>\n",
       "    </tr>\n",
       "    <tr>\n",
       "      <th id=\"T_2036a_level0_row3\" class=\"row_heading level0 row3\" >3</th>\n",
       "      <td id=\"T_2036a_row3_col0\" class=\"data row3 col0\" >489</td>\n",
       "      <td id=\"T_2036a_row3_col1\" class=\"data row3 col1\" >4397</td>\n",
       "      <td id=\"T_2036a_row3_col2\" class=\"data row3 col2\" >3</td>\n",
       "      <td id=\"T_2036a_row3_col3\" class=\"data row3 col3\" >12</td>\n",
       "    </tr>\n",
       "    <tr>\n",
       "      <th id=\"T_2036a_level0_row4\" class=\"row_heading level0 row4\" >4</th>\n",
       "      <td id=\"T_2036a_row4_col0\" class=\"data row4 col0\" >464</td>\n",
       "      <td id=\"T_2036a_row4_col1\" class=\"data row4 col1\" >4428</td>\n",
       "      <td id=\"T_2036a_row4_col2\" class=\"data row4 col2\" >3</td>\n",
       "      <td id=\"T_2036a_row4_col3\" class=\"data row4 col3\" >6</td>\n",
       "    </tr>\n",
       "    <tr>\n",
       "      <th id=\"T_2036a_level0_row5\" class=\"row_heading level0 row5\" >5</th>\n",
       "      <td id=\"T_2036a_row5_col0\" class=\"data row5 col0\" >472</td>\n",
       "      <td id=\"T_2036a_row5_col1\" class=\"data row5 col1\" >4410</td>\n",
       "      <td id=\"T_2036a_row5_col2\" class=\"data row5 col2\" >13</td>\n",
       "      <td id=\"T_2036a_row5_col3\" class=\"data row5 col3\" >6</td>\n",
       "    </tr>\n",
       "    <tr>\n",
       "      <th id=\"T_2036a_level0_row6\" class=\"row_heading level0 row6\" >6</th>\n",
       "      <td id=\"T_2036a_row6_col0\" class=\"data row6 col0\" >503</td>\n",
       "      <td id=\"T_2036a_row6_col1\" class=\"data row6 col1\" >4392</td>\n",
       "      <td id=\"T_2036a_row6_col2\" class=\"data row6 col2\" >2</td>\n",
       "      <td id=\"T_2036a_row6_col3\" class=\"data row6 col3\" >4</td>\n",
       "    </tr>\n",
       "    <tr>\n",
       "      <th id=\"T_2036a_level0_row7\" class=\"row_heading level0 row7\" >7</th>\n",
       "      <td id=\"T_2036a_row7_col0\" class=\"data row7 col0\" >519</td>\n",
       "      <td id=\"T_2036a_row7_col1\" class=\"data row7 col1\" >4373</td>\n",
       "      <td id=\"T_2036a_row7_col2\" class=\"data row7 col2\" >7</td>\n",
       "      <td id=\"T_2036a_row7_col3\" class=\"data row7 col3\" >2</td>\n",
       "    </tr>\n",
       "    <tr>\n",
       "      <th id=\"T_2036a_level0_row8\" class=\"row_heading level0 row8\" >8</th>\n",
       "      <td id=\"T_2036a_row8_col0\" class=\"data row8 col0\" >497</td>\n",
       "      <td id=\"T_2036a_row8_col1\" class=\"data row8 col1\" >4390</td>\n",
       "      <td id=\"T_2036a_row8_col2\" class=\"data row8 col2\" >8</td>\n",
       "      <td id=\"T_2036a_row8_col3\" class=\"data row8 col3\" >6</td>\n",
       "    </tr>\n",
       "    <tr>\n",
       "      <th id=\"T_2036a_level0_row9\" class=\"row_heading level0 row9\" >9</th>\n",
       "      <td id=\"T_2036a_row9_col0\" class=\"data row9 col0\" >500</td>\n",
       "      <td id=\"T_2036a_row9_col1\" class=\"data row9 col1\" >4388</td>\n",
       "      <td id=\"T_2036a_row9_col2\" class=\"data row9 col2\" >4</td>\n",
       "      <td id=\"T_2036a_row9_col3\" class=\"data row9 col3\" >9</td>\n",
       "    </tr>\n",
       "  </tbody>\n",
       "</table>\n"
      ],
      "text/plain": [
       "<pandas.io.formats.style.Styler at 0x227e06128f0>"
      ]
     },
     "metadata": {},
     "output_type": "display_data"
    },
    {
     "name": "stdout",
     "output_type": "stream",
     "text": [
      "\n"
     ]
    },
    {
     "data": {
      "text/plain": [
       "{'accuracy': 0.986737400530504,\n",
       " 'precision': 0.986747264183153,\n",
       " 'recall': 0.9867331413617947,\n",
       " 'f1_score': 0.9867191462636068}"
      ]
     },
     "execution_count": 20,
     "metadata": {},
     "output_type": "execute_result"
    }
   ],
   "source": [
    "metrics = MulticlassClassificationMetrics(val_ds_y, ans_val_avg_categorical_accuracy)\n",
    "print(metrics)\n",
    "metrics.metrics()"
   ]
  },
  {
   "cell_type": "markdown",
   "metadata": {
    "id": "n3XxFZkGoJRz"
   },
   "source": [
    "### Скользящее среднее по F1-score чекпоинт"
   ]
  },
  {
   "cell_type": "code",
   "execution_count": 21,
   "metadata": {
    "colab": {
     "base_uri": "https://localhost:8080/",
     "height": 535
    },
    "executionInfo": {
     "elapsed": 25,
     "status": "ok",
     "timestamp": 1681668402321,
     "user": {
      "displayName": "Гриша Безруков",
      "userId": "02717934454974586898"
     },
     "user_tz": -180
    },
    "id": "VfiFu2NkoKUT",
    "outputId": "680c1d47-e2e6-45a2-a105-51f18c76b41c"
   },
   "outputs": [
    {
     "data": {
      "text/html": [
       "<style type=\"text/css\">\n",
       "#T_5275c * {\n",
       "  background-color: darkgreen;\n",
       "  color: white;\n",
       "  font-size: 12pt;\n",
       "}\n",
       "#T_5275c td:hover {\n",
       "  background-color: green;\n",
       "  color: white;\n",
       "}\n",
       "#T_5275c_row0_col0, #T_5275c_row0_col1, #T_5275c_row0_col2, #T_5275c_row0_col3, #T_5275c_row1_col0, #T_5275c_row1_col1, #T_5275c_row1_col2, #T_5275c_row1_col3, #T_5275c_row2_col0, #T_5275c_row2_col1, #T_5275c_row2_col2, #T_5275c_row2_col3, #T_5275c_row3_col0, #T_5275c_row3_col1, #T_5275c_row3_col2, #T_5275c_row3_col3, #T_5275c_row4_col0, #T_5275c_row4_col1, #T_5275c_row4_col2, #T_5275c_row4_col3, #T_5275c_row5_col0, #T_5275c_row5_col1, #T_5275c_row5_col2, #T_5275c_row5_col3, #T_5275c_row6_col0, #T_5275c_row6_col1, #T_5275c_row6_col2, #T_5275c_row6_col3, #T_5275c_row7_col0, #T_5275c_row7_col1, #T_5275c_row7_col2, #T_5275c_row7_col3, #T_5275c_row8_col0, #T_5275c_row8_col1, #T_5275c_row8_col2, #T_5275c_row8_col3, #T_5275c_row9_col0, #T_5275c_row9_col1, #T_5275c_row9_col2, #T_5275c_row9_col3 {\n",
       "  background-color: lightgreen;\n",
       "  color: black;\n",
       "  font-size: 12pt;\n",
       "}\n",
       "</style>\n",
       "<table id=\"T_5275c\">\n",
       "  <thead>\n",
       "    <tr>\n",
       "      <th class=\"blank level0\" >&nbsp;</th>\n",
       "      <th id=\"T_5275c_level0_col0\" class=\"col_heading level0 col0\" >TP</th>\n",
       "      <th id=\"T_5275c_level0_col1\" class=\"col_heading level0 col1\" >TN</th>\n",
       "      <th id=\"T_5275c_level0_col2\" class=\"col_heading level0 col2\" >FP</th>\n",
       "      <th id=\"T_5275c_level0_col3\" class=\"col_heading level0 col3\" >FN</th>\n",
       "    </tr>\n",
       "    <tr>\n",
       "      <th class=\"index_name level0\" >class_type</th>\n",
       "      <th class=\"blank col0\" >&nbsp;</th>\n",
       "      <th class=\"blank col1\" >&nbsp;</th>\n",
       "      <th class=\"blank col2\" >&nbsp;</th>\n",
       "      <th class=\"blank col3\" >&nbsp;</th>\n",
       "    </tr>\n",
       "  </thead>\n",
       "  <tbody>\n",
       "    <tr>\n",
       "      <th id=\"T_5275c_level0_row0\" class=\"row_heading level0 row0\" >0</th>\n",
       "      <td id=\"T_5275c_row0_col0\" class=\"data row0 col0\" >459</td>\n",
       "      <td id=\"T_5275c_row0_col1\" class=\"data row0 col1\" >4435</td>\n",
       "      <td id=\"T_5275c_row0_col2\" class=\"data row0 col2\" >3</td>\n",
       "      <td id=\"T_5275c_row0_col3\" class=\"data row0 col3\" >4</td>\n",
       "    </tr>\n",
       "    <tr>\n",
       "      <th id=\"T_5275c_level0_row1\" class=\"row_heading level0 row1\" >1</th>\n",
       "      <td id=\"T_5275c_row1_col0\" class=\"data row1 col0\" >496</td>\n",
       "      <td id=\"T_5275c_row1_col1\" class=\"data row1 col1\" >4387</td>\n",
       "      <td id=\"T_5275c_row1_col2\" class=\"data row1 col2\" >12</td>\n",
       "      <td id=\"T_5275c_row1_col3\" class=\"data row1 col3\" >6</td>\n",
       "    </tr>\n",
       "    <tr>\n",
       "      <th id=\"T_5275c_level0_row2\" class=\"row_heading level0 row2\" >2</th>\n",
       "      <td id=\"T_5275c_row2_col0\" class=\"data row2 col0\" >442</td>\n",
       "      <td id=\"T_5275c_row2_col1\" class=\"data row2 col1\" >4449</td>\n",
       "      <td id=\"T_5275c_row2_col2\" class=\"data row2 col2\" >5</td>\n",
       "      <td id=\"T_5275c_row2_col3\" class=\"data row2 col3\" >5</td>\n",
       "    </tr>\n",
       "    <tr>\n",
       "      <th id=\"T_5275c_level0_row3\" class=\"row_heading level0 row3\" >3</th>\n",
       "      <td id=\"T_5275c_row3_col0\" class=\"data row3 col0\" >493</td>\n",
       "      <td id=\"T_5275c_row3_col1\" class=\"data row3 col1\" >4399</td>\n",
       "      <td id=\"T_5275c_row3_col2\" class=\"data row3 col2\" >1</td>\n",
       "      <td id=\"T_5275c_row3_col3\" class=\"data row3 col3\" >8</td>\n",
       "    </tr>\n",
       "    <tr>\n",
       "      <th id=\"T_5275c_level0_row4\" class=\"row_heading level0 row4\" >4</th>\n",
       "      <td id=\"T_5275c_row4_col0\" class=\"data row4 col0\" >465</td>\n",
       "      <td id=\"T_5275c_row4_col1\" class=\"data row4 col1\" >4428</td>\n",
       "      <td id=\"T_5275c_row4_col2\" class=\"data row4 col2\" >3</td>\n",
       "      <td id=\"T_5275c_row4_col3\" class=\"data row4 col3\" >5</td>\n",
       "    </tr>\n",
       "    <tr>\n",
       "      <th id=\"T_5275c_level0_row5\" class=\"row_heading level0 row5\" >5</th>\n",
       "      <td id=\"T_5275c_row5_col0\" class=\"data row5 col0\" >472</td>\n",
       "      <td id=\"T_5275c_row5_col1\" class=\"data row5 col1\" >4410</td>\n",
       "      <td id=\"T_5275c_row5_col2\" class=\"data row5 col2\" >13</td>\n",
       "      <td id=\"T_5275c_row5_col3\" class=\"data row5 col3\" >6</td>\n",
       "    </tr>\n",
       "    <tr>\n",
       "      <th id=\"T_5275c_level0_row6\" class=\"row_heading level0 row6\" >6</th>\n",
       "      <td id=\"T_5275c_row6_col0\" class=\"data row6 col0\" >504</td>\n",
       "      <td id=\"T_5275c_row6_col1\" class=\"data row6 col1\" >4390</td>\n",
       "      <td id=\"T_5275c_row6_col2\" class=\"data row6 col2\" >4</td>\n",
       "      <td id=\"T_5275c_row6_col3\" class=\"data row6 col3\" >3</td>\n",
       "    </tr>\n",
       "    <tr>\n",
       "      <th id=\"T_5275c_level0_row7\" class=\"row_heading level0 row7\" >7</th>\n",
       "      <td id=\"T_5275c_row7_col0\" class=\"data row7 col0\" >519</td>\n",
       "      <td id=\"T_5275c_row7_col1\" class=\"data row7 col1\" >4377</td>\n",
       "      <td id=\"T_5275c_row7_col2\" class=\"data row7 col2\" >3</td>\n",
       "      <td id=\"T_5275c_row7_col3\" class=\"data row7 col3\" >2</td>\n",
       "    </tr>\n",
       "    <tr>\n",
       "      <th id=\"T_5275c_level0_row8\" class=\"row_heading level0 row8\" >8</th>\n",
       "      <td id=\"T_5275c_row8_col0\" class=\"data row8 col0\" >499</td>\n",
       "      <td id=\"T_5275c_row8_col1\" class=\"data row8 col1\" >4392</td>\n",
       "      <td id=\"T_5275c_row8_col2\" class=\"data row8 col2\" >6</td>\n",
       "      <td id=\"T_5275c_row8_col3\" class=\"data row8 col3\" >4</td>\n",
       "    </tr>\n",
       "    <tr>\n",
       "      <th id=\"T_5275c_level0_row9\" class=\"row_heading level0 row9\" >9</th>\n",
       "      <td id=\"T_5275c_row9_col0\" class=\"data row9 col0\" >498</td>\n",
       "      <td id=\"T_5275c_row9_col1\" class=\"data row9 col1\" >4388</td>\n",
       "      <td id=\"T_5275c_row9_col2\" class=\"data row9 col2\" >4</td>\n",
       "      <td id=\"T_5275c_row9_col3\" class=\"data row9 col3\" >11</td>\n",
       "    </tr>\n",
       "  </tbody>\n",
       "</table>\n"
      ],
      "text/plain": [
       "<pandas.io.formats.style.Styler at 0x227e02d3640>"
      ]
     },
     "metadata": {},
     "output_type": "display_data"
    },
    {
     "name": "stdout",
     "output_type": "stream",
     "text": [
      "\n"
     ]
    },
    {
     "data": {
      "text/plain": [
       "{'accuracy': 0.9889818404407263,\n",
       " 'precision': 0.9889989634522541,\n",
       " 'recall': 0.9889744934979854,\n",
       " 'f1_score': 0.9889673101013271}"
      ]
     },
     "execution_count": 21,
     "metadata": {},
     "output_type": "execute_result"
    }
   ],
   "source": [
    "metrics = MulticlassClassificationMetrics(val_ds_y, ans_val_avg_f1_score)\n",
    "print(metrics)\n",
    "metrics.metrics()"
   ]
  },
  {
   "cell_type": "markdown",
   "metadata": {
    "id": "GgRLnsAVoL8j"
   },
   "source": [
    "### Скользящее среднее по Loss чекпоинт"
   ]
  },
  {
   "cell_type": "code",
   "execution_count": 22,
   "metadata": {
    "colab": {
     "base_uri": "https://localhost:8080/",
     "height": 535
    },
    "executionInfo": {
     "elapsed": 533,
     "status": "ok",
     "timestamp": 1681668449019,
     "user": {
      "displayName": "Гриша Безруков",
      "userId": "02717934454974586898"
     },
     "user_tz": -180
    },
    "id": "EzhQuXaMoSjz",
    "outputId": "97d497f1-797b-493c-ed1d-eb112f072a90"
   },
   "outputs": [
    {
     "data": {
      "text/html": [
       "<style type=\"text/css\">\n",
       "#T_fde00 * {\n",
       "  background-color: darkgreen;\n",
       "  color: white;\n",
       "  font-size: 12pt;\n",
       "}\n",
       "#T_fde00 td:hover {\n",
       "  background-color: green;\n",
       "  color: white;\n",
       "}\n",
       "#T_fde00_row0_col0, #T_fde00_row0_col1, #T_fde00_row0_col2, #T_fde00_row0_col3, #T_fde00_row1_col0, #T_fde00_row1_col1, #T_fde00_row1_col2, #T_fde00_row1_col3, #T_fde00_row2_col0, #T_fde00_row2_col1, #T_fde00_row2_col2, #T_fde00_row2_col3, #T_fde00_row3_col0, #T_fde00_row3_col1, #T_fde00_row3_col2, #T_fde00_row3_col3, #T_fde00_row4_col0, #T_fde00_row4_col1, #T_fde00_row4_col2, #T_fde00_row4_col3, #T_fde00_row5_col0, #T_fde00_row5_col1, #T_fde00_row5_col2, #T_fde00_row5_col3, #T_fde00_row6_col0, #T_fde00_row6_col1, #T_fde00_row6_col2, #T_fde00_row6_col3, #T_fde00_row7_col0, #T_fde00_row7_col1, #T_fde00_row7_col2, #T_fde00_row7_col3, #T_fde00_row8_col0, #T_fde00_row8_col1, #T_fde00_row8_col2, #T_fde00_row8_col3, #T_fde00_row9_col0, #T_fde00_row9_col1, #T_fde00_row9_col2, #T_fde00_row9_col3 {\n",
       "  background-color: lightgreen;\n",
       "  color: black;\n",
       "  font-size: 12pt;\n",
       "}\n",
       "</style>\n",
       "<table id=\"T_fde00\">\n",
       "  <thead>\n",
       "    <tr>\n",
       "      <th class=\"blank level0\" >&nbsp;</th>\n",
       "      <th id=\"T_fde00_level0_col0\" class=\"col_heading level0 col0\" >TP</th>\n",
       "      <th id=\"T_fde00_level0_col1\" class=\"col_heading level0 col1\" >TN</th>\n",
       "      <th id=\"T_fde00_level0_col2\" class=\"col_heading level0 col2\" >FP</th>\n",
       "      <th id=\"T_fde00_level0_col3\" class=\"col_heading level0 col3\" >FN</th>\n",
       "    </tr>\n",
       "    <tr>\n",
       "      <th class=\"index_name level0\" >class_type</th>\n",
       "      <th class=\"blank col0\" >&nbsp;</th>\n",
       "      <th class=\"blank col1\" >&nbsp;</th>\n",
       "      <th class=\"blank col2\" >&nbsp;</th>\n",
       "      <th class=\"blank col3\" >&nbsp;</th>\n",
       "    </tr>\n",
       "  </thead>\n",
       "  <tbody>\n",
       "    <tr>\n",
       "      <th id=\"T_fde00_level0_row0\" class=\"row_heading level0 row0\" >0</th>\n",
       "      <td id=\"T_fde00_row0_col0\" class=\"data row0 col0\" >460</td>\n",
       "      <td id=\"T_fde00_row0_col1\" class=\"data row0 col1\" >4433</td>\n",
       "      <td id=\"T_fde00_row0_col2\" class=\"data row0 col2\" >5</td>\n",
       "      <td id=\"T_fde00_row0_col3\" class=\"data row0 col3\" >3</td>\n",
       "    </tr>\n",
       "    <tr>\n",
       "      <th id=\"T_fde00_level0_row1\" class=\"row_heading level0 row1\" >1</th>\n",
       "      <td id=\"T_fde00_row1_col0\" class=\"data row1 col0\" >492</td>\n",
       "      <td id=\"T_fde00_row1_col1\" class=\"data row1 col1\" >4386</td>\n",
       "      <td id=\"T_fde00_row1_col2\" class=\"data row1 col2\" >13</td>\n",
       "      <td id=\"T_fde00_row1_col3\" class=\"data row1 col3\" >10</td>\n",
       "    </tr>\n",
       "    <tr>\n",
       "      <th id=\"T_fde00_level0_row2\" class=\"row_heading level0 row2\" >2</th>\n",
       "      <td id=\"T_fde00_row2_col0\" class=\"data row2 col0\" >440</td>\n",
       "      <td id=\"T_fde00_row2_col1\" class=\"data row2 col1\" >4447</td>\n",
       "      <td id=\"T_fde00_row2_col2\" class=\"data row2 col2\" >7</td>\n",
       "      <td id=\"T_fde00_row2_col3\" class=\"data row2 col3\" >7</td>\n",
       "    </tr>\n",
       "    <tr>\n",
       "      <th id=\"T_fde00_level0_row3\" class=\"row_heading level0 row3\" >3</th>\n",
       "      <td id=\"T_fde00_row3_col0\" class=\"data row3 col0\" >489</td>\n",
       "      <td id=\"T_fde00_row3_col1\" class=\"data row3 col1\" >4397</td>\n",
       "      <td id=\"T_fde00_row3_col2\" class=\"data row3 col2\" >3</td>\n",
       "      <td id=\"T_fde00_row3_col3\" class=\"data row3 col3\" >12</td>\n",
       "    </tr>\n",
       "    <tr>\n",
       "      <th id=\"T_fde00_level0_row4\" class=\"row_heading level0 row4\" >4</th>\n",
       "      <td id=\"T_fde00_row4_col0\" class=\"data row4 col0\" >464</td>\n",
       "      <td id=\"T_fde00_row4_col1\" class=\"data row4 col1\" >4428</td>\n",
       "      <td id=\"T_fde00_row4_col2\" class=\"data row4 col2\" >3</td>\n",
       "      <td id=\"T_fde00_row4_col3\" class=\"data row4 col3\" >6</td>\n",
       "    </tr>\n",
       "    <tr>\n",
       "      <th id=\"T_fde00_level0_row5\" class=\"row_heading level0 row5\" >5</th>\n",
       "      <td id=\"T_fde00_row5_col0\" class=\"data row5 col0\" >472</td>\n",
       "      <td id=\"T_fde00_row5_col1\" class=\"data row5 col1\" >4410</td>\n",
       "      <td id=\"T_fde00_row5_col2\" class=\"data row5 col2\" >13</td>\n",
       "      <td id=\"T_fde00_row5_col3\" class=\"data row5 col3\" >6</td>\n",
       "    </tr>\n",
       "    <tr>\n",
       "      <th id=\"T_fde00_level0_row6\" class=\"row_heading level0 row6\" >6</th>\n",
       "      <td id=\"T_fde00_row6_col0\" class=\"data row6 col0\" >503</td>\n",
       "      <td id=\"T_fde00_row6_col1\" class=\"data row6 col1\" >4392</td>\n",
       "      <td id=\"T_fde00_row6_col2\" class=\"data row6 col2\" >2</td>\n",
       "      <td id=\"T_fde00_row6_col3\" class=\"data row6 col3\" >4</td>\n",
       "    </tr>\n",
       "    <tr>\n",
       "      <th id=\"T_fde00_level0_row7\" class=\"row_heading level0 row7\" >7</th>\n",
       "      <td id=\"T_fde00_row7_col0\" class=\"data row7 col0\" >519</td>\n",
       "      <td id=\"T_fde00_row7_col1\" class=\"data row7 col1\" >4373</td>\n",
       "      <td id=\"T_fde00_row7_col2\" class=\"data row7 col2\" >7</td>\n",
       "      <td id=\"T_fde00_row7_col3\" class=\"data row7 col3\" >2</td>\n",
       "    </tr>\n",
       "    <tr>\n",
       "      <th id=\"T_fde00_level0_row8\" class=\"row_heading level0 row8\" >8</th>\n",
       "      <td id=\"T_fde00_row8_col0\" class=\"data row8 col0\" >497</td>\n",
       "      <td id=\"T_fde00_row8_col1\" class=\"data row8 col1\" >4390</td>\n",
       "      <td id=\"T_fde00_row8_col2\" class=\"data row8 col2\" >8</td>\n",
       "      <td id=\"T_fde00_row8_col3\" class=\"data row8 col3\" >6</td>\n",
       "    </tr>\n",
       "    <tr>\n",
       "      <th id=\"T_fde00_level0_row9\" class=\"row_heading level0 row9\" >9</th>\n",
       "      <td id=\"T_fde00_row9_col0\" class=\"data row9 col0\" >500</td>\n",
       "      <td id=\"T_fde00_row9_col1\" class=\"data row9 col1\" >4388</td>\n",
       "      <td id=\"T_fde00_row9_col2\" class=\"data row9 col2\" >4</td>\n",
       "      <td id=\"T_fde00_row9_col3\" class=\"data row9 col3\" >9</td>\n",
       "    </tr>\n",
       "  </tbody>\n",
       "</table>\n"
      ],
      "text/plain": [
       "<pandas.io.formats.style.Styler at 0x227e0473ee0>"
      ]
     },
     "metadata": {},
     "output_type": "display_data"
    },
    {
     "name": "stdout",
     "output_type": "stream",
     "text": [
      "\n"
     ]
    },
    {
     "data": {
      "text/plain": [
       "{'accuracy': 0.986737400530504,\n",
       " 'precision': 0.986747264183153,\n",
       " 'recall': 0.9867331413617947,\n",
       " 'f1_score': 0.9867191462636068}"
      ]
     },
     "execution_count": 22,
     "metadata": {},
     "output_type": "execute_result"
    }
   ],
   "source": [
    "metrics = MulticlassClassificationMetrics(val_ds_y, ans_val_avg_loss)\n",
    "print(metrics)\n",
    "metrics.metrics()"
   ]
  },
  {
   "cell_type": "code",
   "execution_count": 23,
   "metadata": {
    "colab": {
     "base_uri": "https://localhost:8080/",
     "height": 1000
    },
    "executionInfo": {
     "elapsed": 1551,
     "status": "ok",
     "timestamp": 1681668458871,
     "user": {
      "displayName": "Гриша Безруков",
      "userId": "02717934454974586898"
     },
     "user_tz": -180
    },
    "id": "-nsgQPqDaXUL",
    "outputId": "6e554deb-f091-4ab6-df71-cb88fd507990"
   },
   "outputs": [
    {
     "data": {
      "image/png": "[encoded data removed]",
      "text/plain": [
       "<Figure size 1400x1200 with 2 Axes>"
      ]
     },
     "metadata": {},
     "output_type": "display_data"
    }
   ],
   "source": [
    "matrix = confusion_matrix(val_ds_y, ans_val_avg_categorical_accuracy)\n",
    "\n",
    "fig, ax = plt.subplots(figsize=(14, 12))\n",
    "seaborn.heatmap(matrix, annot=True, cmap='Greens', fmt='d', ax=ax)\n",
    "plt.title('Confusion Matrix for training dataset')\n",
    "plt.xlabel('Predicted label')\n",
    "plt.ylabel('True label')\n",
    "plt.show()"
   ]
  },
  {
   "cell_type": "markdown",
   "metadata": {
    "id": "ZCxq9l4W1h0D"
   },
   "source": [
    "- Сохраняем ответы."
   ]
  },
  {
   "cell_type": "code",
   "execution_count": 24,
   "metadata": {
    "colab": {
     "base_uri": "https://localhost:8080/"
    },
    "executionInfo": {
     "elapsed": 46996,
     "status": "ok",
     "timestamp": 1681668539675,
     "user": {
      "displayName": "Гриша Безруков",
      "userId": "02717934454974586898"
     },
     "user_tz": -180
    },
    "id": "bQvnLPPp1h0D",
    "outputId": "4982eb93-830b-4a14-ec6f-d7ab416e6cc2"
   },
   "outputs": [
    {
     "name": "stdout",
     "output_type": "stream",
     "text": [
      "782/782 [==============================] - 10s 13ms/step\n",
      "782/782 [==============================] - 10s 13ms/step\n",
      "782/782 [==============================] - 10s 13ms/step\n",
      "782/782 [==============================] - 11s 15ms/step\n"
     ]
    }
   ],
   "source": [
    "ans_test_categorical_accuracy = make_ans_file(model_categorical_acc, test_ds, f'../answers/model{num_model}_categorical_accuracy.csv')\n",
    "ans_test_f1_score = make_ans_file(model_f1_score, test_ds, f'../answers/model{num_model}_f1_score.csv')\n",
    "ans_test_avg_categorical_accuracy = make_ans_file(model_avg_categorical_acc, test_ds, f'../answers/model{num_model}_avg_categorical_accuracy.csv')\n",
    "ans_test_avg_f1_score = make_ans_file(model_avg_f1_score, test_ds, f'../answers/model{num_model}_avg_f1_score.csv')"
   ]
  },
  {
   "cell_type": "markdown",
   "metadata": {
    "id": "zEJYFGnE1h0E"
   },
   "source": [
    "Проверяем ответы (одинаковые они или нет), чтоб не терять кол-во отправок ответов на kaggle в день."
   ]
  },
  {
   "cell_type": "code",
   "execution_count": 32,
   "metadata": {
    "colab": {
     "base_uri": "https://localhost:8080/"
    },
    "executionInfo": {
     "elapsed": 106,
     "status": "ok",
     "timestamp": 1681668539677,
     "user": {
      "displayName": "Гриша Безруков",
      "userId": "02717934454974586898"
     },
     "user_tz": -180
    },
    "id": "hf3v3GDL1h0N",
    "outputId": "10167afe-7738-49d9-f407-7d45b7c549bc"
   },
   "outputs": [
    {
     "name": "stdout",
     "output_type": "stream",
     "text": [
      "чекпоинты 1 и 2 одинаковые\n",
      "чекпоинты 1 и 3 одинаковые\n",
      "чекпоинты 2 и 3 одинаковые\n",
      "чекпоинты 4 и 5 одинаковые\n",
      "чекпоинты 4 и 6 одинаковые\n",
      "чекпоинты 5 и 6 одинаковые\n"
     ]
    }
   ],
   "source": [
    "for i in range(len(anss) - 1):\n",
    "    for j in range(i + 1, len(anss)):\n",
    "        if np.all(anss[i] == anss[j]):\n",
    "            print(f'чекпоинты {i + 1} и {j + 1} одинаковые')"
   ]
  },
  {
   "cell_type": "markdown",
   "metadata": {
    "id": "Oqwfnt9ydECy"
   },
   "source": [
    "- Accuracy чекпоинт: 0.93493\n",
    "- Loss чекпоинт: 0.92866"
   ]
  }
 ],
 "metadata": {
  "accelerator": "GPU",
  "colab": {
   "gpuType": "T4",
   "provenance": []
  },
  "gpuClass": "standard",
  "kernelspec": {
   "display_name": "Python 3",
   "language": "python",
   "name": "python3"
  },
  "language_info": {
   "codemirror_mode": {
    "name": "ipython",
    "version": 3
   },
   "file_extension": ".py",
   "mimetype": "text/x-python",
   "name": "python",
   "nbconvert_exporter": "python",
   "pygments_lexer": "ipython3",
   "version": "3.10.10"
  },
  "orig_nbformat": 4
 },
 "nbformat": 4,
 "nbformat_minor": 0
}
