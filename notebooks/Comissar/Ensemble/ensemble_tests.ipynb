{
 "cells": [
  {
   "attachments": {},
   "cell_type": "markdown",
   "metadata": {},
   "source": [
    "# Ансамбли"
   ]
  },
  {
   "attachments": {},
   "cell_type": "markdown",
   "metadata": {},
   "source": [
    "1111\n"
   ]
  },
  {
   "cell_type": "code",
   "execution_count": 6,
   "metadata": {},
   "outputs": [],
   "source": [
    "import sys\n",
    "\n",
    "from tensorflow.keras import datasets, layers, models, losses\n",
    "import numpy as np\n",
    "from PIL import Image\n",
    "import tensorflow as tf\n",
    "import torchvision as tv\n",
    "import matplotlib.pyplot as plt\n",
    "from livelossplot import PlotLossesKeras\n",
    "import tensorflow_addons as tfa\n",
    "\n",
    "sys.path.append('../../../')\n",
    "\n",
    "from core.datasets import get_ds\n",
    "from core.make_answer import make_ans_file"
   ]
  },
  {
   "cell_type": "code",
   "execution_count": 7,
   "metadata": {},
   "outputs": [],
   "source": [
    "transformer = tv.transforms.Compose([\n",
    "    tv.transforms.ColorJitter(brightness=.2, hue=0.2, contrast=0.5),\n",
    "    tv.transforms.RandomAffine(degrees=(-10, 10), translate=(0, 0.1), scale=(0.85, 1)),\n",
    "    tv.transforms.RandomPerspective(distortion_scale=0.2, p=0.7),\n",
    "])"
   ]
  },
  {
   "cell_type": "code",
   "execution_count": 8,
   "metadata": {},
   "outputs": [],
   "source": [
    "train_ds, val_ds, test_ds = get_ds('repaired_data_train', 'repaired_data_test', transform=transformer, one_hot=True, back=3, val_size=0.9)\n",
    "val_ds_x = np.array([i[0] for i in val_ds.unbatch().as_numpy_iterator()])\n",
    "val_ds_y = np.array([i[1] for i in val_ds.unbatch().as_numpy_iterator()])\n",
    "val_ds_y = np.argmax(val_ds_y, axis=1)"
   ]
  },
  {
   "cell_type": "code",
   "execution_count": 9,
   "metadata": {},
   "outputs": [],
   "source": [
    "model_1 = tf.keras.models.load_model(f'../../../models/checkpoints/model_g_1_categorical_accuracy.h5')\n",
    "model_3 = tf.keras.models.load_model(f'../../../models/checkpoints/model_g_3_categorical_accuracy.h5')\n",
    "model_4 = tf.keras.models.load_model(f'../../../models/checkpoints/model_g_4_avg_categorical_accuracy.h5')\n",
    "\n",
    "models = [model_1, model_3, model_4]"
   ]
  },
  {
   "attachments": {},
   "cell_type": "markdown",
   "metadata": {},
   "source": [
    "- Bagging (пакетирование) голосование, предпочтительна система наподобие земских соборов с представителями разных сословий нейронных сетей."
   ]
  },
  {
   "cell_type": "code",
   "execution_count": 10,
   "metadata": {},
   "outputs": [
    {
     "name": "stdout",
     "output_type": "stream",
     "text": [
      "ACCURACY SCORE\n",
      "model G1: 0.9802\n",
      "model G3: 0.9703\n",
      "model C1: 0.9701\n",
      "ensemble bagging: 0.9866\n"
     ]
    }
   ],
   "source": [
    "def get_bagging_pred(models, x):\n",
    "    pred_summ = np.full((len(x), 10), 0.)\n",
    "    for m in models:\n",
    "        pred_summ += m.predict(x,  verbose=False)\n",
    "    pred_summ = np.array([np.argmax(i) for i in pred_summ])\n",
    "    return pred_summ\n",
    "\n",
    "def get_accuracy(y_pred, y_true):\n",
    "    return round(np.sum(y_pred == y_true) / len(y_pred), 4)\n",
    "\n",
    "y_pred_en = get_bagging_pred(models=models, x=val_ds_x)\n",
    "\n",
    "\n",
    "print(\"ACCURACY SCORE\")\n",
    "print(\"model G1:\", get_accuracy(np.argmax(model_1.predict(val_ds_x, verbose=False), axis=1), val_ds_y))\n",
    "print(\"model G3:\", get_accuracy(np.argmax(model_3.predict(val_ds_x, verbose=False), axis=1), val_ds_y))\n",
    "print(\"model C1:\", get_accuracy(np.argmax(model_4.predict(val_ds_x, verbose=False), axis=1), val_ds_y))\n",
    "\n",
    "print(\"ensemble bagging:\", get_accuracy(y_pred_en, val_ds_y))"
   ]
  }
 ],
 "metadata": {
  "kernelspec": {
   "display_name": "Python 3",
   "language": "python",
   "name": "python3"
  },
  "language_info": {
   "codemirror_mode": {
    "name": "ipython",
    "version": 3
   },
   "file_extension": ".py",
   "mimetype": "text/x-python",
   "name": "python",
   "nbconvert_exporter": "python",
   "pygments_lexer": "ipython3",
   "version": "3.10.10"
  },
  "orig_nbformat": 4
 },
 "nbformat": 4,
 "nbformat_minor": 2
}
