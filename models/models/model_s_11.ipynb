{
 "cells": [
  {
   "cell_type": "markdown",
   "metadata": {
    "id": "r2yiHhUx-S72"
   },
   "source": [
    "# Linear model (failed)"
   ]
  },
  {
   "cell_type": "code",
   "execution_count": 1,
   "metadata": {
    "colab": {
     "base_uri": "https://localhost:8080/"
    },
    "executionInfo": {
     "elapsed": 27612,
     "status": "ok",
     "timestamp": 1681737933455,
     "user": {
      "displayName": "Михаил Глазов",
      "userId": "14831628976106288763"
     },
     "user_tz": -180
    },
    "id": "QxaNXFTYAcw8",
    "outputId": "b4a7c110-226c-429d-9cad-fb1d6e770cca"
   },
   "outputs": [
    {
     "name": "stdout",
     "output_type": "stream",
     "text": [
      "Mounted at /content/drive\n"
     ]
    }
   ],
   "source": [
    "from google.colab import drive\n",
    "drive.mount('/content/drive')"
   ]
  },
  {
   "cell_type": "markdown",
   "metadata": {
    "id": "svYRwNDL-S75"
   },
   "source": [
    "#### Импорт необходимых библиотек"
   ]
  },
  {
   "cell_type": "code",
   "execution_count": 2,
   "metadata": {
    "colab": {
     "base_uri": "https://localhost:8080/"
    },
    "executionInfo": {
     "elapsed": 11688,
     "status": "ok",
     "timestamp": 1681737954645,
     "user": {
      "displayName": "Михаил Глазов",
      "userId": "14831628976106288763"
     },
     "user_tz": -180
    },
    "id": "Zq7rWgSDecBY",
    "outputId": "c70c9c08-7542-4d38-e34f-04b29442b5ba"
   },
   "outputs": [
    {
     "name": "stdout",
     "output_type": "stream",
     "text": [
      "Looking in indexes: https://pypi.org/simple, https://us-python.pkg.dev/colab-wheels/public/simple/\n",
      "Collecting tensorflow-addons\n",
      "  Downloading tensorflow_addons-0.20.0-cp39-cp39-manylinux_2_17_x86_64.manylinux2014_x86_64.whl (591 kB)\n",
      "\u001B[2K     \u001B[90m━━━━━━━━━━━━━━━━━━━━━━━━━━━━━━━━━━━━━━\u001B[0m \u001B[32m591.0/591.0 kB\u001B[0m \u001B[31m34.2 MB/s\u001B[0m eta \u001B[36m0:00:00\u001B[0m\n",
      "\u001B[?25hCollecting typeguard<3.0.0,>=2.7\n",
      "  Downloading typeguard-2.13.3-py3-none-any.whl (17 kB)\n",
      "Requirement already satisfied: packaging in /usr/local/lib/python3.9/dist-packages (from tensorflow-addons) (23.0)\n",
      "Installing collected packages: typeguard, tensorflow-addons\n",
      "Successfully installed tensorflow-addons-0.20.0 typeguard-2.13.3\n",
      "Looking in indexes: https://pypi.org/simple, https://us-python.pkg.dev/colab-wheels/public/simple/\n",
      "Collecting livelossplot\n",
      "  Downloading livelossplot-0.5.5-py3-none-any.whl (22 kB)\n",
      "Requirement already satisfied: matplotlib in /usr/local/lib/python3.9/dist-packages (from livelossplot) (3.7.1)\n",
      "Requirement already satisfied: bokeh in /usr/local/lib/python3.9/dist-packages (from livelossplot) (2.4.3)\n",
      "Requirement already satisfied: packaging>=16.8 in /usr/local/lib/python3.9/dist-packages (from bokeh->livelossplot) (23.0)\n",
      "Requirement already satisfied: pillow>=7.1.0 in /usr/local/lib/python3.9/dist-packages (from bokeh->livelossplot) (8.4.0)\n",
      "Requirement already satisfied: numpy>=1.11.3 in /usr/local/lib/python3.9/dist-packages (from bokeh->livelossplot) (1.22.4)\n",
      "Requirement already satisfied: tornado>=5.1 in /usr/local/lib/python3.9/dist-packages (from bokeh->livelossplot) (6.2)\n",
      "Requirement already satisfied: Jinja2>=2.9 in /usr/local/lib/python3.9/dist-packages (from bokeh->livelossplot) (3.1.2)\n",
      "Requirement already satisfied: typing-extensions>=3.10.0 in /usr/local/lib/python3.9/dist-packages (from bokeh->livelossplot) (4.5.0)\n",
      "Requirement already satisfied: PyYAML>=3.10 in /usr/local/lib/python3.9/dist-packages (from bokeh->livelossplot) (6.0)\n",
      "Requirement already satisfied: pyparsing>=2.3.1 in /usr/local/lib/python3.9/dist-packages (from matplotlib->livelossplot) (3.0.9)\n",
      "Requirement already satisfied: fonttools>=4.22.0 in /usr/local/lib/python3.9/dist-packages (from matplotlib->livelossplot) (4.39.3)\n",
      "Requirement already satisfied: kiwisolver>=1.0.1 in /usr/local/lib/python3.9/dist-packages (from matplotlib->livelossplot) (1.4.4)\n",
      "Requirement already satisfied: cycler>=0.10 in /usr/local/lib/python3.9/dist-packages (from matplotlib->livelossplot) (0.11.0)\n",
      "Requirement already satisfied: python-dateutil>=2.7 in /usr/local/lib/python3.9/dist-packages (from matplotlib->livelossplot) (2.8.2)\n",
      "Requirement already satisfied: importlib-resources>=3.2.0 in /usr/local/lib/python3.9/dist-packages (from matplotlib->livelossplot) (5.12.0)\n",
      "Requirement already satisfied: contourpy>=1.0.1 in /usr/local/lib/python3.9/dist-packages (from matplotlib->livelossplot) (1.0.7)\n",
      "Requirement already satisfied: zipp>=3.1.0 in /usr/local/lib/python3.9/dist-packages (from importlib-resources>=3.2.0->matplotlib->livelossplot) (3.15.0)\n",
      "Requirement already satisfied: MarkupSafe>=2.0 in /usr/local/lib/python3.9/dist-packages (from Jinja2>=2.9->bokeh->livelossplot) (2.1.2)\n",
      "Requirement already satisfied: six>=1.5 in /usr/local/lib/python3.9/dist-packages (from python-dateutil>=2.7->matplotlib->livelossplot) (1.16.0)\n",
      "Installing collected packages: livelossplot\n",
      "Successfully installed livelossplot-0.5.5\n"
     ]
    }
   ],
   "source": [
    "!pip install tensorflow-addons\n",
    "!pip install livelossplot"
   ]
  },
  {
   "cell_type": "code",
   "execution_count": 4,
   "metadata": {
    "colab": {
     "base_uri": "https://localhost:8080/"
    },
    "executionInfo": {
     "elapsed": 2429,
     "status": "ok",
     "timestamp": 1681737972261,
     "user": {
      "displayName": "Михаил Глазов",
      "userId": "14831628976106288763"
     },
     "user_tz": -180
    },
    "id": "yyTOIOizfuJ-",
    "outputId": "d461ebad-5619-42a0-d473-3e77c4f6149d"
   },
   "outputs": [
    {
     "name": "stdout",
     "output_type": "stream",
     "text": [
      "/content/drive/MyDrive/project/YaMlProject/models/models\n"
     ]
    }
   ],
   "source": [
    "%cd drive/MyDrive/project/YaMlProject/models/models"
   ]
  },
  {
   "cell_type": "code",
   "execution_count": 1,
   "metadata": {
    "colab": {
     "base_uri": "https://localhost:8080/"
    },
    "executionInfo": {
     "elapsed": 11649,
     "status": "ok",
     "timestamp": 1681737987510,
     "user": {
      "displayName": "Михаил Глазов",
      "userId": "14831628976106288763"
     },
     "user_tz": -180
    },
    "id": "nYflAO2U-S76",
    "outputId": "d5c9809c-90c4-4dc7-ac79-2d60cfd88da9"
   },
   "outputs": [
    {
     "name": "stderr",
     "output_type": "stream",
     "text": [
      "C:\\Users\\Mihail\\PycharmProjects\\YaMlProject\\venv\\lib\\site-packages\\tensorflow_addons\\utils\\tfa_eol_msg.py:23: UserWarning: \n",
      "\n",
      "TensorFlow Addons (TFA) has ended development and introduction of new features.\n",
      "TFA has entered a minimal maintenance and release mode until a planned end of life in May 2024.\n",
      "Please modify downstream libraries to take dependencies from other repositories in our TensorFlow community (e.g. Keras, Keras-CV, and Keras-NLP). \n",
      "\n",
      "For more information see: https://github.com/tensorflow/addons/issues/2807 \n",
      "\n",
      "  warnings.warn(\n"
     ]
    }
   ],
   "source": [
    "import sys\n",
    "\n",
    "import matplotlib.pyplot as plt\n",
    "import numpy as np\n",
    "import pandas as pd\n",
    "import seaborn\n",
    "import tensorflow as tf\n",
    "import tensorflow_addons as tfa\n",
    "import torchvision as tv\n",
    "from PIL import Image\n",
    "from livelossplot import PlotLossesKeras\n",
    "from sklearn.metrics import confusion_matrix\n",
    "\n",
    "sys.path.append('../../')\n",
    "\n",
    "from core.datasets import get_ds\n",
    "from core.make_answer import make_ans_file"
   ]
  },
  {
   "cell_type": "markdown",
   "metadata": {
    "id": "NR69MtS_-S77"
   },
   "source": [
    "#### Формируем аугментацию."
   ]
  },
  {
   "cell_type": "markdown",
   "metadata": {
    "id": "-2ghBgor1hzO"
   },
   "source": [
    "##### Вариант 1.\n",
    "\n",
    "- Пишите аугментацию. Объект класса tv.transforms.Compose или tv.transforms.{аугментация}"
   ]
  },
  {
   "cell_type": "code",
   "execution_count": 2,
   "metadata": {
    "executionInfo": {
     "elapsed": 11,
     "status": "ok",
     "timestamp": 1681737987511,
     "user": {
      "displayName": "Михаил Глазов",
      "userId": "14831628976106288763"
     },
     "user_tz": -180
    },
    "id": "ERpTFZ21-S77"
   },
   "outputs": [],
   "source": [
    "transformer = tv.transforms.Compose([\n",
    "    tv.transforms.ColorJitter(brightness=.2, hue=0.2, contrast=0.5),\n",
    "    tv.transforms.RandomAffine(degrees=(-12, 12), translate=(0, 0.1), scale=(0.85, 1)),\n",
    "    tv.transforms.RandomPerspective(distortion_scale=0.2, p=0.7),\n",
    "])"
   ]
  },
  {
   "cell_type": "markdown",
   "metadata": {
    "id": "T2zKYi1p-S77"
   },
   "source": [
    "#### Создаем датасеты\n",
    "```python\n",
    "get_ds(\n",
    "    file_train, `Путь к трейновому датасету`\n",
    "    file_test, `Путь к тестовому датасету`\n",
    "    transform=None,  `Аугументация`\n",
    "    batch_size=512,  `Размер батча`\n",
    "    one_hot=False,  `Формат ответов one_hot_encoding или нет`\n",
    "    val_size=0.03,  `Размер валидационного датасета, относительно data_train`\n",
    "    back=1,  `На сколько уровней в директории надо подняться наверх, чтобы дойти до корневой`\n",
    ")\n",
    "```"
   ]
  },
  {
   "cell_type": "markdown",
   "metadata": {
    "id": "QYEdAqtW1hzW"
   },
   "source": [
    "Позже мы будем делать ансамбли и похожие эвристики, поэтому всегда делайте `one_hot=True`"
   ]
  },
  {
   "cell_type": "code",
   "execution_count": 3,
   "metadata": {
    "executionInfo": {
     "elapsed": 56965,
     "status": "ok",
     "timestamp": 1681738087793,
     "user": {
      "displayName": "Михаил Глазов",
      "userId": "14831628976106288763"
     },
     "user_tz": -180
    },
    "id": "1Mpb1H6PaXUC"
   },
   "outputs": [],
   "source": [
    "train_ds, val_ds, test_ds = get_ds('smote_data_train_9650', 'repaired_data_test', transform=transformer,\n",
    "                                   one_hot=True, back=2, batch_size=100)"
   ]
  },
  {
   "cell_type": "markdown",
   "metadata": {
    "id": "eOY8forB1hza"
   },
   "source": [
    "Для дальнейшей проверки метрик разделяем валидационный датасет на x и y"
   ]
  },
  {
   "cell_type": "code",
   "execution_count": 4,
   "metadata": {
    "executionInfo": {
     "elapsed": 5288,
     "status": "ok",
     "timestamp": 1681738098113,
     "user": {
      "displayName": "Михаил Глазов",
      "userId": "14831628976106288763"
     },
     "user_tz": -180
    },
    "id": "cXVwzb401hzb"
   },
   "outputs": [],
   "source": [
    "val_ds_x = np.array([i[0] for i in val_ds.unbatch().as_numpy_iterator()])\n",
    "val_ds_y = np.array([i[1] for i in val_ds.unbatch().as_numpy_iterator()])"
   ]
  },
  {
   "cell_type": "markdown",
   "metadata": {
    "id": "_Vcj5spc1hzc"
   },
   "source": [
    "Смотрим на получившуюся агументацию."
   ]
  },
  {
   "cell_type": "code",
   "execution_count": 10,
   "metadata": {
    "colab": {
     "base_uri": "https://localhost:8080/",
     "height": 1000
    },
    "executionInfo": {
     "elapsed": 2740,
     "status": "ok",
     "timestamp": 1681738104380,
     "user": {
      "displayName": "Михаил Глазов",
      "userId": "14831628976106288763"
     },
     "user_tz": -180
    },
    "id": "3ygOCG_F1hzc",
    "outputId": "a48ad9f9-eed0-490b-c69d-cde53e00d39b"
   },
   "outputs": [
    {
     "data": {
      "image/png": "[encoded data removed]",
      "text/plain": [
       "<Figure size 1200x1500 with 20 Axes>"
      ]
     },
     "metadata": {},
     "output_type": "display_data"
    }
   ],
   "source": [
    "plt.figure(figsize=(12, 15))\n",
    "train_ds_visualization = train_ds[0]\n",
    "for i in range(20):\n",
    "    plt.subplot(5, 4, i + 1)\n",
    "    img = np.array(Image.fromarray((train_ds_visualization[0][i] * 255).astype(np.uint8), 'RGB'))\n",
    "    plt.imshow(img / 255, cmap=plt.cm.binary)\n",
    "    plt.title(np.argmax(train_ds_visualization[1][i]))\n",
    "    plt.axis('off')\n",
    "plt.show()"
   ]
  },
  {
   "cell_type": "code",
   "execution_count": 11,
   "metadata": {
    "colab": {
     "base_uri": "https://localhost:8080/"
    },
    "executionInfo": {
     "elapsed": 1021,
     "status": "ok",
     "timestamp": 1681738242522,
     "user": {
      "displayName": "Михаил Глазов",
      "userId": "14831628976106288763"
     },
     "user_tz": -180
    },
    "id": "6y18NiXlaXUD",
    "outputId": "6ee8c5df-529b-4df1-9334-822d178e7e2a"
   },
   "outputs": [
    {
     "data": {
      "text/plain": [
       "array([[0., 0., 0., 0., 1., 0., 0., 0., 0., 0.],\n",
       "       [0., 0., 0., 0., 0., 0., 0., 1., 0., 0.],\n",
       "       [0., 0., 0., 0., 0., 0., 0., 0., 1., 0.],\n",
       "       [0., 0., 0., 1., 0., 0., 0., 0., 0., 0.],\n",
       "       [0., 0., 0., 0., 1., 0., 0., 0., 0., 0.],\n",
       "       [0., 0., 0., 0., 1., 0., 0., 0., 0., 0.],\n",
       "       [0., 1., 0., 0., 0., 0., 0., 0., 0., 0.],\n",
       "       [0., 0., 1., 0., 0., 0., 0., 0., 0., 0.],\n",
       "       [0., 0., 1., 0., 0., 0., 0., 0., 0., 0.],\n",
       "       [0., 0., 0., 0., 0., 0., 0., 1., 0., 0.],\n",
       "       [0., 0., 0., 0., 0., 0., 0., 0., 1., 0.],\n",
       "       [0., 0., 0., 1., 0., 0., 0., 0., 0., 0.],\n",
       "       [0., 0., 0., 0., 0., 1., 0., 0., 0., 0.],\n",
       "       [0., 0., 0., 0., 0., 0., 0., 0., 1., 0.],\n",
       "       [0., 0., 0., 0., 0., 0., 0., 0., 1., 0.],\n",
       "       [0., 0., 0., 0., 0., 1., 0., 0., 0., 0.],\n",
       "       [0., 0., 0., 0., 0., 0., 0., 0., 0., 1.],\n",
       "       [0., 0., 0., 1., 0., 0., 0., 0., 0., 0.],\n",
       "       [0., 0., 0., 0., 0., 0., 0., 0., 1., 0.],\n",
       "       [0., 0., 1., 0., 0., 0., 0., 0., 0., 0.],\n",
       "       [0., 0., 0., 0., 0., 0., 0., 0., 1., 0.],\n",
       "       [0., 0., 0., 0., 0., 0., 0., 0., 0., 1.],\n",
       "       [0., 0., 0., 0., 0., 0., 1., 0., 0., 0.],\n",
       "       [0., 0., 0., 0., 0., 0., 0., 1., 0., 0.],\n",
       "       [0., 0., 0., 0., 1., 0., 0., 0., 0., 0.],\n",
       "       [0., 0., 0., 0., 0., 0., 0., 0., 1., 0.],\n",
       "       [0., 1., 0., 0., 0., 0., 0., 0., 0., 0.],\n",
       "       [0., 0., 0., 1., 0., 0., 0., 0., 0., 0.],\n",
       "       [0., 0., 1., 0., 0., 0., 0., 0., 0., 0.],\n",
       "       [0., 0., 0., 0., 0., 0., 0., 1., 0., 0.],\n",
       "       [0., 0., 0., 0., 0., 0., 0., 0., 0., 1.],\n",
       "       [0., 0., 1., 0., 0., 0., 0., 0., 0., 0.],\n",
       "       [0., 0., 0., 1., 0., 0., 0., 0., 0., 0.],\n",
       "       [0., 0., 0., 0., 0., 0., 0., 0., 0., 1.],\n",
       "       [0., 0., 0., 0., 0., 0., 0., 0., 1., 0.],\n",
       "       [0., 0., 0., 0., 0., 0., 0., 0., 1., 0.],\n",
       "       [0., 0., 0., 0., 0., 0., 0., 0., 0., 1.],\n",
       "       [0., 0., 0., 0., 0., 0., 0., 0., 1., 0.],\n",
       "       [0., 0., 0., 0., 0., 0., 0., 0., 0., 1.],\n",
       "       [0., 0., 0., 0., 0., 0., 1., 0., 0., 0.],\n",
       "       [0., 0., 0., 0., 0., 0., 0., 0., 1., 0.],\n",
       "       [0., 1., 0., 0., 0., 0., 0., 0., 0., 0.],\n",
       "       [1., 0., 0., 0., 0., 0., 0., 0., 0., 0.],\n",
       "       [0., 0., 0., 0., 0., 0., 0., 1., 0., 0.],\n",
       "       [0., 1., 0., 0., 0., 0., 0., 0., 0., 0.],\n",
       "       [0., 0., 0., 0., 0., 0., 1., 0., 0., 0.],\n",
       "       [0., 0., 0., 0., 0., 0., 0., 0., 0., 1.],\n",
       "       [0., 0., 0., 1., 0., 0., 0., 0., 0., 0.],\n",
       "       [0., 0., 0., 0., 0., 0., 0., 0., 0., 1.],\n",
       "       [0., 0., 0., 0., 0., 0., 0., 1., 0., 0.],\n",
       "       [0., 0., 0., 0., 0., 0., 1., 0., 0., 0.],\n",
       "       [1., 0., 0., 0., 0., 0., 0., 0., 0., 0.],\n",
       "       [0., 0., 0., 0., 0., 1., 0., 0., 0., 0.],\n",
       "       [0., 0., 0., 1., 0., 0., 0., 0., 0., 0.],\n",
       "       [0., 0., 0., 0., 1., 0., 0., 0., 0., 0.],\n",
       "       [0., 0., 0., 0., 0., 0., 1., 0., 0., 0.],\n",
       "       [0., 0., 0., 0., 0., 0., 0., 0., 1., 0.],\n",
       "       [1., 0., 0., 0., 0., 0., 0., 0., 0., 0.],\n",
       "       [0., 0., 1., 0., 0., 0., 0., 0., 0., 0.],\n",
       "       [0., 1., 0., 0., 0., 0., 0., 0., 0., 0.],\n",
       "       [0., 0., 0., 0., 0., 0., 0., 0., 1., 0.],\n",
       "       [0., 1., 0., 0., 0., 0., 0., 0., 0., 0.],\n",
       "       [1., 0., 0., 0., 0., 0., 0., 0., 0., 0.],\n",
       "       [0., 0., 0., 0., 0., 0., 0., 0., 1., 0.],\n",
       "       [0., 1., 0., 0., 0., 0., 0., 0., 0., 0.],\n",
       "       [0., 0., 0., 0., 0., 1., 0., 0., 0., 0.],\n",
       "       [0., 1., 0., 0., 0., 0., 0., 0., 0., 0.],\n",
       "       [1., 0., 0., 0., 0., 0., 0., 0., 0., 0.],\n",
       "       [0., 0., 0., 0., 0., 1., 0., 0., 0., 0.],\n",
       "       [0., 0., 0., 1., 0., 0., 0., 0., 0., 0.],\n",
       "       [0., 0., 0., 0., 0., 0., 0., 0., 0., 1.],\n",
       "       [0., 0., 0., 0., 0., 0., 0., 1., 0., 0.],\n",
       "       [0., 0., 0., 0., 0., 0., 1., 0., 0., 0.],\n",
       "       [0., 0., 0., 0., 0., 1., 0., 0., 0., 0.],\n",
       "       [0., 0., 0., 0., 0., 0., 1., 0., 0., 0.],\n",
       "       [0., 0., 0., 0., 0., 0., 0., 0., 1., 0.],\n",
       "       [0., 0., 0., 0., 0., 0., 0., 0., 0., 1.],\n",
       "       [0., 0., 0., 1., 0., 0., 0., 0., 0., 0.],\n",
       "       [0., 0., 0., 0., 1., 0., 0., 0., 0., 0.],\n",
       "       [0., 0., 0., 0., 0., 0., 1., 0., 0., 0.],\n",
       "       [0., 0., 0., 0., 0., 0., 0., 0., 1., 0.],\n",
       "       [0., 0., 1., 0., 0., 0., 0., 0., 0., 0.],\n",
       "       [0., 0., 0., 0., 0., 0., 1., 0., 0., 0.],\n",
       "       [0., 0., 0., 0., 0., 1., 0., 0., 0., 0.],\n",
       "       [1., 0., 0., 0., 0., 0., 0., 0., 0., 0.],\n",
       "       [0., 0., 0., 0., 0., 0., 0., 1., 0., 0.],\n",
       "       [0., 0., 0., 0., 0., 0., 0., 0., 1., 0.],\n",
       "       [0., 1., 0., 0., 0., 0., 0., 0., 0., 0.],\n",
       "       [0., 0., 0., 1., 0., 0., 0., 0., 0., 0.],\n",
       "       [0., 0., 0., 0., 1., 0., 0., 0., 0., 0.],\n",
       "       [0., 0., 0., 0., 0., 0., 1., 0., 0., 0.],\n",
       "       [0., 1., 0., 0., 0., 0., 0., 0., 0., 0.],\n",
       "       [0., 0., 0., 0., 0., 1., 0., 0., 0., 0.],\n",
       "       [0., 0., 0., 0., 0., 0., 0., 0., 0., 1.],\n",
       "       [0., 0., 0., 0., 0., 0., 0., 0., 0., 1.],\n",
       "       [0., 0., 0., 1., 0., 0., 0., 0., 0., 0.],\n",
       "       [0., 1., 0., 0., 0., 0., 0., 0., 0., 0.],\n",
       "       [0., 0., 0., 0., 0., 1., 0., 0., 0., 0.],\n",
       "       [0., 0., 0., 0., 0., 1., 0., 0., 0., 0.],\n",
       "       [0., 1., 0., 0., 0., 0., 0., 0., 0., 0.]], dtype=float32)"
      ]
     },
     "execution_count": 11,
     "metadata": {},
     "output_type": "execute_result"
    }
   ],
   "source": [
    "train_ds_visualization[1]"
   ]
  },
  {
   "cell_type": "markdown",
   "metadata": {
    "id": "DXxkKTtS-S78"
   },
   "source": [
    "#### Пишем модель\n",
    "\n",
    "Про свертки и пуллинги написано у Гриши, про skip-connection написано у Миши\n",
    "\n",
    "Для правильного использования ансамблирования, в финальном слое не пишем функцию активации. Подробнее написано у Дениса."
   ]
  },
  {
   "cell_type": "code",
   "execution_count": 8,
   "metadata": {
    "colab": {
     "base_uri": "https://localhost:8080/"
    },
    "executionInfo": {
     "elapsed": 3590,
     "status": "ok",
     "timestamp": 1681738278567,
     "user": {
      "displayName": "Михаил Глазов",
      "userId": "14831628976106288763"
     },
     "user_tz": -180
    },
    "id": "sf6H9-ZM-S79",
    "outputId": "4e06395d-9355-4e11-af16-7fe5a585a781"
   },
   "outputs": [
    {
     "name": "stdout",
     "output_type": "stream",
     "text": [
      "Model: \"sequential_1\"\n",
      "_________________________________________________________________\n",
      " Layer (type)                Output Shape              Param #   \n",
      "=================================================================\n",
      " conv2d_3 (Conv2D)           (100, 30, 30, 32)         896       \n",
      "                                                                 \n",
      " dropout_2 (Dropout)         (100, 30, 30, 32)         0         \n",
      "                                                                 \n",
      " conv2d_4 (Conv2D)           (100, 28, 28, 64)         18496     \n",
      "                                                                 \n",
      " batch_normalization_1 (Batc  (100, 28, 28, 64)        256       \n",
      " hNormalization)                                                 \n",
      "                                                                 \n",
      " average_pooling2d_2 (Averag  (100, 14, 14, 64)        0         \n",
      " ePooling2D)                                                     \n",
      "                                                                 \n",
      " conv2d_5 (Conv2D)           (100, 12, 12, 64)         36928     \n",
      "                                                                 \n",
      " dropout_3 (Dropout)         (100, 12, 12, 64)         0         \n",
      "                                                                 \n",
      " average_pooling2d_3 (Averag  (100, 6, 6, 64)          0         \n",
      " ePooling2D)                                                     \n",
      "                                                                 \n",
      " flatten_1 (Flatten)         (100, 2304)               0         \n",
      "                                                                 \n",
      " dense_3 (Dense)             (100, 64)                 147520    \n",
      "                                                                 \n",
      " dense_4 (Dense)             (100, 32)                 2080      \n",
      "                                                                 \n",
      " dense_5 (Dense)             (100, 10)                 330       \n",
      "                                                                 \n",
      "=================================================================\n",
      "Total params: 206,506\n",
      "Trainable params: 206,378\n",
      "Non-trainable params: 128\n",
      "_________________________________________________________________\n"
     ]
    }
   ],
   "source": [
    "model = tf.keras.Sequential([\n",
    "    tf.keras.Input(shape=(32, 32, 3), batch_size=100),\n",
    "    tf.keras.layers.Conv2D(32, (3, 3), activation='relu'),\n",
    "    tf.keras.layers.Dropout(0.2),\n",
    "    tf.keras.layers.Conv2D(64, (3, 3), activation='relu'),\n",
    "    tf.keras.layers.BatchNormalization(),\n",
    "    tf.keras.layers.AveragePooling2D((2, 2)),\n",
    "    tf.keras.layers.Conv2D(64, (3, 3), activation='relu'),\n",
    "    tf.keras.layers.Dropout(0.2),\n",
    "    tf.keras.layers.AveragePooling2D((2, 2)),\n",
    "    tf.keras.layers.Flatten(),\n",
    "    tf.keras.layers.Dense(64, activation='relu'),\n",
    "    tf.keras.layers.Dense(32, activation='relu'),\n",
    "    tf.keras.layers.Dense(10),\n",
    "])\n",
    "model.summary()"
   ]
  },
  {
   "cell_type": "code",
   "execution_count": 9,
   "metadata": {
    "executionInfo": {
     "elapsed": 4458,
     "status": "ok",
     "timestamp": 1681738288749,
     "user": {
      "displayName": "Михаил Глазов",
      "userId": "14831628976106288763"
     },
     "user_tz": -180
    },
    "id": "ocoMslua_sGe"
   },
   "outputs": [],
   "source": [
    "num_model = '_s_11'"
   ]
  },
  {
   "cell_type": "markdown",
   "metadata": {
    "id": "sOWsT-ag1hzh"
   },
   "source": [
    "#### Создаем чекпоинты (всем уже рассказал)\n",
    "- Если лень, то просто копипаст того, что я написал ниже. НЕ ЗАБЫВАЕМ МЕНЯТЬ ПЕРЕМЕННУЮ `num_model`!!!"
   ]
  },
  {
   "cell_type": "code",
   "execution_count": 10,
   "metadata": {
    "executionInfo": {
     "elapsed": 570,
     "status": "ok",
     "timestamp": 1681738296646,
     "user": {
      "displayName": "Михаил Глазов",
      "userId": "14831628976106288763"
     },
     "user_tz": -180
    },
    "id": "3uG2pykA1hzh"
   },
   "outputs": [],
   "source": [
    "metrics = ['categorical_accuracy',\n",
    "           tfa.metrics.F1Score(num_classes=10, average='macro', name='f1_score')]\n",
    "callbacks = [\n",
    "    PlotLossesKeras(),\n",
    "    tf.keras.callbacks.ModelCheckpoint(\n",
    "        filepath=f'../checkpoints/model{num_model}_categorical_accuracy.h5',\n",
    "        monitor='val_categorical_accuracy',\n",
    "        mode='max',\n",
    "        save_best_only=True,\n",
    "    ),\n",
    "    tf.keras.callbacks.ModelCheckpoint(\n",
    "        filepath=f'../checkpoints/model{num_model}_loss.h5',\n",
    "        monitor='val_loss',\n",
    "        mode='min',\n",
    "        save_best_only=True,\n",
    "    ),\n",
    "    tf.keras.callbacks.ModelCheckpoint(\n",
    "        filepath=f'../checkpoints/model{num_model}_f1_score.h5',\n",
    "        monitor='val_f1_score',\n",
    "        mode='max',\n",
    "        save_best_only=True,\n",
    "    ),\n",
    "\n",
    "    tfa.callbacks.AverageModelCheckpoint(\n",
    "        update_weights=False,\n",
    "        filepath=f'../checkpoints/model{num_model}_avg_categorical_accuracy.h5',\n",
    "        monitor='val_categorical_accuracy',\n",
    "        mode='max',\n",
    "        save_best_only=True,\n",
    "    ),\n",
    "    tfa.callbacks.AverageModelCheckpoint(\n",
    "        update_weights=False,\n",
    "        filepath=f'../checkpoints/model{num_model}_avg_loss.h5',\n",
    "        monitor='val_loss',\n",
    "        mode='min',\n",
    "        save_best_only=True,\n",
    "    ),\n",
    "    tfa.callbacks.AverageModelCheckpoint(\n",
    "        update_weights=False,\n",
    "        filepath=f'../checkpoints/model{num_model}_avg_f1_score.h5',\n",
    "        monitor='val_f1_score',\n",
    "        mode='max',\n",
    "        save_best_only=True,\n",
    "    )\n",
    "]"
   ]
  },
  {
   "cell_type": "markdown",
   "metadata": {
    "id": "wzTRYrou-S79"
   },
   "source": [
    "#### Компиляция модели\n",
    "- Если будете что то менять, то только оптимизатор. Про оптимизаторы написано у Лизы."
   ]
  },
  {
   "cell_type": "code",
   "execution_count": 11,
   "metadata": {
    "executionInfo": {
     "elapsed": 596,
     "status": "ok",
     "timestamp": 1681738301087,
     "user": {
      "displayName": "Михаил Глазов",
      "userId": "14831628976106288763"
     },
     "user_tz": -180
    },
    "id": "yBYZOVgK-S7-"
   },
   "outputs": [],
   "source": [
    "model.compile(\n",
    "    optimizer=tfa.optimizers.MovingAverage(tf.keras.optimizers.legacy.Adam()),\n",
    "    metrics=metrics,\n",
    "    loss=tf.keras.losses.CategoricalCrossentropy(from_logits=True),\n",
    ")"
   ]
  },
  {
   "cell_type": "code",
   "execution_count": null,
   "metadata": {
    "colab": {
     "base_uri": "https://localhost:8080/"
    },
    "executionInfo": {
     "elapsed": 25173,
     "status": "ok",
     "timestamp": 1681649702082,
     "user": {
      "displayName": "Михаил Глазов",
      "userId": "14831628976106288763"
     },
     "user_tz": -180
    },
    "id": "jWAAXsxKfEWp",
    "outputId": "a7475263-2e3a-48fd-a19a-a1835783cafe"
   },
   "outputs": [
    {
     "name": "stdout",
     "output_type": "stream",
     "text": [
      "Mounted at /content/drive\n"
     ]
    }
   ],
   "source": [
    "from google.colab import drive\n",
    "\n",
    "drive.mount('/content/drive')"
   ]
  },
  {
   "cell_type": "markdown",
   "metadata": {
    "id": "Ne9pPgJI-S7-"
   },
   "source": [
    "#### Обучаем модель"
   ]
  },
  {
   "cell_type": "code",
   "execution_count": 12,
   "metadata": {
    "colab": {
     "background_save": true,
     "base_uri": "https://localhost:8080/",
     "height": 1000
    },
    "id": "mbiNiTlx-S7_"
   },
   "outputs": [
    {
     "name": "stdout",
     "output_type": "stream",
     "text": [
      "Epoch 1/100\n",
      " 71/898 [=>............................] - ETA: 4:18 - loss: 2.3068 - categorical_accuracy: 0.1058 - f1_score: 0.0896"
     ]
    },
    {
     "ename": "KeyboardInterrupt",
     "evalue": "",
     "output_type": "error",
     "traceback": [
      "\u001B[1;31m---------------------------------------------------------------------------\u001B[0m",
      "\u001B[1;31mKeyboardInterrupt\u001B[0m                         Traceback (most recent call last)",
      "Cell \u001B[1;32mIn[12], line 1\u001B[0m\n\u001B[1;32m----> 1\u001B[0m history \u001B[38;5;241m=\u001B[39m \u001B[43mmodel\u001B[49m\u001B[38;5;241;43m.\u001B[39;49m\u001B[43mfit\u001B[49m\u001B[43m(\u001B[49m\u001B[43mtrain_ds\u001B[49m\u001B[43m,\u001B[49m\u001B[43m \u001B[49m\u001B[43mvalidation_data\u001B[49m\u001B[38;5;241;43m=\u001B[39;49m\u001B[43mval_ds\u001B[49m\u001B[43m,\u001B[49m\n\u001B[0;32m      2\u001B[0m \u001B[43m          \u001B[49m\u001B[43mepochs\u001B[49m\u001B[38;5;241;43m=\u001B[39;49m\u001B[38;5;241;43m100\u001B[39;49m\u001B[43m,\u001B[49m\u001B[43m \u001B[49m\u001B[43mcallbacks\u001B[49m\u001B[38;5;241;43m=\u001B[39;49m\u001B[43mcallbacks\u001B[49m\u001B[43m,\u001B[49m\u001B[43m \u001B[49m\u001B[43mverbose\u001B[49m\u001B[38;5;241;43m=\u001B[39;49m\u001B[38;5;241;43m1\u001B[39;49m\u001B[43m)\u001B[49m\n",
      "File \u001B[1;32m~\\PycharmProjects\\YaMlProject\\venv\\lib\\site-packages\\keras\\utils\\traceback_utils.py:65\u001B[0m, in \u001B[0;36mfilter_traceback.<locals>.error_handler\u001B[1;34m(*args, **kwargs)\u001B[0m\n\u001B[0;32m     63\u001B[0m filtered_tb \u001B[38;5;241m=\u001B[39m \u001B[38;5;28;01mNone\u001B[39;00m\n\u001B[0;32m     64\u001B[0m \u001B[38;5;28;01mtry\u001B[39;00m:\n\u001B[1;32m---> 65\u001B[0m     \u001B[38;5;28;01mreturn\u001B[39;00m fn(\u001B[38;5;241m*\u001B[39margs, \u001B[38;5;241m*\u001B[39m\u001B[38;5;241m*\u001B[39mkwargs)\n\u001B[0;32m     66\u001B[0m \u001B[38;5;28;01mexcept\u001B[39;00m \u001B[38;5;167;01mException\u001B[39;00m \u001B[38;5;28;01mas\u001B[39;00m e:\n\u001B[0;32m     67\u001B[0m     filtered_tb \u001B[38;5;241m=\u001B[39m _process_traceback_frames(e\u001B[38;5;241m.\u001B[39m__traceback__)\n",
      "File \u001B[1;32m~\\PycharmProjects\\YaMlProject\\venv\\lib\\site-packages\\keras\\engine\\training.py:1685\u001B[0m, in \u001B[0;36mModel.fit\u001B[1;34m(self, x, y, batch_size, epochs, verbose, callbacks, validation_split, validation_data, shuffle, class_weight, sample_weight, initial_epoch, steps_per_epoch, validation_steps, validation_batch_size, validation_freq, max_queue_size, workers, use_multiprocessing)\u001B[0m\n\u001B[0;32m   1677\u001B[0m \u001B[38;5;28;01mwith\u001B[39;00m tf\u001B[38;5;241m.\u001B[39mprofiler\u001B[38;5;241m.\u001B[39mexperimental\u001B[38;5;241m.\u001B[39mTrace(\n\u001B[0;32m   1678\u001B[0m     \u001B[38;5;124m\"\u001B[39m\u001B[38;5;124mtrain\u001B[39m\u001B[38;5;124m\"\u001B[39m,\n\u001B[0;32m   1679\u001B[0m     epoch_num\u001B[38;5;241m=\u001B[39mepoch,\n\u001B[1;32m   (...)\u001B[0m\n\u001B[0;32m   1682\u001B[0m     _r\u001B[38;5;241m=\u001B[39m\u001B[38;5;241m1\u001B[39m,\n\u001B[0;32m   1683\u001B[0m ):\n\u001B[0;32m   1684\u001B[0m     callbacks\u001B[38;5;241m.\u001B[39mon_train_batch_begin(step)\n\u001B[1;32m-> 1685\u001B[0m     tmp_logs \u001B[38;5;241m=\u001B[39m \u001B[38;5;28;43mself\u001B[39;49m\u001B[38;5;241;43m.\u001B[39;49m\u001B[43mtrain_function\u001B[49m\u001B[43m(\u001B[49m\u001B[43miterator\u001B[49m\u001B[43m)\u001B[49m\n\u001B[0;32m   1686\u001B[0m     \u001B[38;5;28;01mif\u001B[39;00m data_handler\u001B[38;5;241m.\u001B[39mshould_sync:\n\u001B[0;32m   1687\u001B[0m         context\u001B[38;5;241m.\u001B[39masync_wait()\n",
      "File \u001B[1;32m~\\PycharmProjects\\YaMlProject\\venv\\lib\\site-packages\\tensorflow\\python\\util\\traceback_utils.py:150\u001B[0m, in \u001B[0;36mfilter_traceback.<locals>.error_handler\u001B[1;34m(*args, **kwargs)\u001B[0m\n\u001B[0;32m    148\u001B[0m filtered_tb \u001B[38;5;241m=\u001B[39m \u001B[38;5;28;01mNone\u001B[39;00m\n\u001B[0;32m    149\u001B[0m \u001B[38;5;28;01mtry\u001B[39;00m:\n\u001B[1;32m--> 150\u001B[0m   \u001B[38;5;28;01mreturn\u001B[39;00m fn(\u001B[38;5;241m*\u001B[39margs, \u001B[38;5;241m*\u001B[39m\u001B[38;5;241m*\u001B[39mkwargs)\n\u001B[0;32m    151\u001B[0m \u001B[38;5;28;01mexcept\u001B[39;00m \u001B[38;5;167;01mException\u001B[39;00m \u001B[38;5;28;01mas\u001B[39;00m e:\n\u001B[0;32m    152\u001B[0m   filtered_tb \u001B[38;5;241m=\u001B[39m _process_traceback_frames(e\u001B[38;5;241m.\u001B[39m__traceback__)\n",
      "File \u001B[1;32m~\\PycharmProjects\\YaMlProject\\venv\\lib\\site-packages\\tensorflow\\python\\eager\\polymorphic_function\\polymorphic_function.py:894\u001B[0m, in \u001B[0;36mFunction.__call__\u001B[1;34m(self, *args, **kwds)\u001B[0m\n\u001B[0;32m    891\u001B[0m compiler \u001B[38;5;241m=\u001B[39m \u001B[38;5;124m\"\u001B[39m\u001B[38;5;124mxla\u001B[39m\u001B[38;5;124m\"\u001B[39m \u001B[38;5;28;01mif\u001B[39;00m \u001B[38;5;28mself\u001B[39m\u001B[38;5;241m.\u001B[39m_jit_compile \u001B[38;5;28;01melse\u001B[39;00m \u001B[38;5;124m\"\u001B[39m\u001B[38;5;124mnonXla\u001B[39m\u001B[38;5;124m\"\u001B[39m\n\u001B[0;32m    893\u001B[0m \u001B[38;5;28;01mwith\u001B[39;00m OptionalXlaContext(\u001B[38;5;28mself\u001B[39m\u001B[38;5;241m.\u001B[39m_jit_compile):\n\u001B[1;32m--> 894\u001B[0m   result \u001B[38;5;241m=\u001B[39m \u001B[38;5;28mself\u001B[39m\u001B[38;5;241m.\u001B[39m_call(\u001B[38;5;241m*\u001B[39margs, \u001B[38;5;241m*\u001B[39m\u001B[38;5;241m*\u001B[39mkwds)\n\u001B[0;32m    896\u001B[0m new_tracing_count \u001B[38;5;241m=\u001B[39m \u001B[38;5;28mself\u001B[39m\u001B[38;5;241m.\u001B[39mexperimental_get_tracing_count()\n\u001B[0;32m    897\u001B[0m without_tracing \u001B[38;5;241m=\u001B[39m (tracing_count \u001B[38;5;241m==\u001B[39m new_tracing_count)\n",
      "File \u001B[1;32m~\\PycharmProjects\\YaMlProject\\venv\\lib\\site-packages\\tensorflow\\python\\eager\\polymorphic_function\\polymorphic_function.py:926\u001B[0m, in \u001B[0;36mFunction._call\u001B[1;34m(self, *args, **kwds)\u001B[0m\n\u001B[0;32m    923\u001B[0m   \u001B[38;5;28mself\u001B[39m\u001B[38;5;241m.\u001B[39m_lock\u001B[38;5;241m.\u001B[39mrelease()\n\u001B[0;32m    924\u001B[0m   \u001B[38;5;66;03m# In this case we have created variables on the first call, so we run the\u001B[39;00m\n\u001B[0;32m    925\u001B[0m   \u001B[38;5;66;03m# defunned version which is guaranteed to never create variables.\u001B[39;00m\n\u001B[1;32m--> 926\u001B[0m   \u001B[38;5;28;01mreturn\u001B[39;00m \u001B[38;5;28mself\u001B[39m\u001B[38;5;241m.\u001B[39m_no_variable_creation_fn(\u001B[38;5;241m*\u001B[39margs, \u001B[38;5;241m*\u001B[39m\u001B[38;5;241m*\u001B[39mkwds)  \u001B[38;5;66;03m# pylint: disable=not-callable\u001B[39;00m\n\u001B[0;32m    927\u001B[0m \u001B[38;5;28;01melif\u001B[39;00m \u001B[38;5;28mself\u001B[39m\u001B[38;5;241m.\u001B[39m_variable_creation_fn \u001B[38;5;129;01mis\u001B[39;00m \u001B[38;5;129;01mnot\u001B[39;00m \u001B[38;5;28;01mNone\u001B[39;00m:\n\u001B[0;32m    928\u001B[0m   \u001B[38;5;66;03m# Release the lock early so that multiple threads can perform the call\u001B[39;00m\n\u001B[0;32m    929\u001B[0m   \u001B[38;5;66;03m# in parallel.\u001B[39;00m\n\u001B[0;32m    930\u001B[0m   \u001B[38;5;28mself\u001B[39m\u001B[38;5;241m.\u001B[39m_lock\u001B[38;5;241m.\u001B[39mrelease()\n",
      "File \u001B[1;32m~\\PycharmProjects\\YaMlProject\\venv\\lib\\site-packages\\tensorflow\\python\\eager\\polymorphic_function\\tracing_compiler.py:143\u001B[0m, in \u001B[0;36mTracingCompiler.__call__\u001B[1;34m(self, *args, **kwargs)\u001B[0m\n\u001B[0;32m    140\u001B[0m \u001B[38;5;28;01mwith\u001B[39;00m \u001B[38;5;28mself\u001B[39m\u001B[38;5;241m.\u001B[39m_lock:\n\u001B[0;32m    141\u001B[0m   (concrete_function,\n\u001B[0;32m    142\u001B[0m    filtered_flat_args) \u001B[38;5;241m=\u001B[39m \u001B[38;5;28mself\u001B[39m\u001B[38;5;241m.\u001B[39m_maybe_define_function(args, kwargs)\n\u001B[1;32m--> 143\u001B[0m \u001B[38;5;28;01mreturn\u001B[39;00m \u001B[43mconcrete_function\u001B[49m\u001B[38;5;241;43m.\u001B[39;49m\u001B[43m_call_flat\u001B[49m\u001B[43m(\u001B[49m\n\u001B[0;32m    144\u001B[0m \u001B[43m    \u001B[49m\u001B[43mfiltered_flat_args\u001B[49m\u001B[43m,\u001B[49m\u001B[43m \u001B[49m\u001B[43mcaptured_inputs\u001B[49m\u001B[38;5;241;43m=\u001B[39;49m\u001B[43mconcrete_function\u001B[49m\u001B[38;5;241;43m.\u001B[39;49m\u001B[43mcaptured_inputs\u001B[49m\u001B[43m)\u001B[49m\n",
      "File \u001B[1;32m~\\PycharmProjects\\YaMlProject\\venv\\lib\\site-packages\\tensorflow\\python\\eager\\polymorphic_function\\monomorphic_function.py:1757\u001B[0m, in \u001B[0;36mConcreteFunction._call_flat\u001B[1;34m(self, args, captured_inputs, cancellation_manager)\u001B[0m\n\u001B[0;32m   1753\u001B[0m possible_gradient_type \u001B[38;5;241m=\u001B[39m gradients_util\u001B[38;5;241m.\u001B[39mPossibleTapeGradientTypes(args)\n\u001B[0;32m   1754\u001B[0m \u001B[38;5;28;01mif\u001B[39;00m (possible_gradient_type \u001B[38;5;241m==\u001B[39m gradients_util\u001B[38;5;241m.\u001B[39mPOSSIBLE_GRADIENT_TYPES_NONE\n\u001B[0;32m   1755\u001B[0m     \u001B[38;5;129;01mand\u001B[39;00m executing_eagerly):\n\u001B[0;32m   1756\u001B[0m   \u001B[38;5;66;03m# No tape is watching; skip to running the function.\u001B[39;00m\n\u001B[1;32m-> 1757\u001B[0m   \u001B[38;5;28;01mreturn\u001B[39;00m \u001B[38;5;28mself\u001B[39m\u001B[38;5;241m.\u001B[39m_build_call_outputs(\u001B[38;5;28;43mself\u001B[39;49m\u001B[38;5;241;43m.\u001B[39;49m\u001B[43m_inference_function\u001B[49m\u001B[38;5;241;43m.\u001B[39;49m\u001B[43mcall\u001B[49m\u001B[43m(\u001B[49m\n\u001B[0;32m   1758\u001B[0m \u001B[43m      \u001B[49m\u001B[43mctx\u001B[49m\u001B[43m,\u001B[49m\u001B[43m \u001B[49m\u001B[43margs\u001B[49m\u001B[43m,\u001B[49m\u001B[43m \u001B[49m\u001B[43mcancellation_manager\u001B[49m\u001B[38;5;241;43m=\u001B[39;49m\u001B[43mcancellation_manager\u001B[49m\u001B[43m)\u001B[49m)\n\u001B[0;32m   1759\u001B[0m forward_backward \u001B[38;5;241m=\u001B[39m \u001B[38;5;28mself\u001B[39m\u001B[38;5;241m.\u001B[39m_select_forward_and_backward_functions(\n\u001B[0;32m   1760\u001B[0m     args,\n\u001B[0;32m   1761\u001B[0m     possible_gradient_type,\n\u001B[0;32m   1762\u001B[0m     executing_eagerly)\n\u001B[0;32m   1763\u001B[0m forward_function, args_with_tangents \u001B[38;5;241m=\u001B[39m forward_backward\u001B[38;5;241m.\u001B[39mforward()\n",
      "File \u001B[1;32m~\\PycharmProjects\\YaMlProject\\venv\\lib\\site-packages\\tensorflow\\python\\eager\\polymorphic_function\\monomorphic_function.py:381\u001B[0m, in \u001B[0;36m_EagerDefinedFunction.call\u001B[1;34m(self, ctx, args, cancellation_manager)\u001B[0m\n\u001B[0;32m    379\u001B[0m \u001B[38;5;28;01mwith\u001B[39;00m _InterpolateFunctionError(\u001B[38;5;28mself\u001B[39m):\n\u001B[0;32m    380\u001B[0m   \u001B[38;5;28;01mif\u001B[39;00m cancellation_manager \u001B[38;5;129;01mis\u001B[39;00m \u001B[38;5;28;01mNone\u001B[39;00m:\n\u001B[1;32m--> 381\u001B[0m     outputs \u001B[38;5;241m=\u001B[39m \u001B[43mexecute\u001B[49m\u001B[38;5;241;43m.\u001B[39;49m\u001B[43mexecute\u001B[49m\u001B[43m(\u001B[49m\n\u001B[0;32m    382\u001B[0m \u001B[43m        \u001B[49m\u001B[38;5;28;43mstr\u001B[39;49m\u001B[43m(\u001B[49m\u001B[38;5;28;43mself\u001B[39;49m\u001B[38;5;241;43m.\u001B[39;49m\u001B[43msignature\u001B[49m\u001B[38;5;241;43m.\u001B[39;49m\u001B[43mname\u001B[49m\u001B[43m)\u001B[49m\u001B[43m,\u001B[49m\n\u001B[0;32m    383\u001B[0m \u001B[43m        \u001B[49m\u001B[43mnum_outputs\u001B[49m\u001B[38;5;241;43m=\u001B[39;49m\u001B[38;5;28;43mself\u001B[39;49m\u001B[38;5;241;43m.\u001B[39;49m\u001B[43m_num_outputs\u001B[49m\u001B[43m,\u001B[49m\n\u001B[0;32m    384\u001B[0m \u001B[43m        \u001B[49m\u001B[43minputs\u001B[49m\u001B[38;5;241;43m=\u001B[39;49m\u001B[43margs\u001B[49m\u001B[43m,\u001B[49m\n\u001B[0;32m    385\u001B[0m \u001B[43m        \u001B[49m\u001B[43mattrs\u001B[49m\u001B[38;5;241;43m=\u001B[39;49m\u001B[43mattrs\u001B[49m\u001B[43m,\u001B[49m\n\u001B[0;32m    386\u001B[0m \u001B[43m        \u001B[49m\u001B[43mctx\u001B[49m\u001B[38;5;241;43m=\u001B[39;49m\u001B[43mctx\u001B[49m\u001B[43m)\u001B[49m\n\u001B[0;32m    387\u001B[0m   \u001B[38;5;28;01melse\u001B[39;00m:\n\u001B[0;32m    388\u001B[0m     outputs \u001B[38;5;241m=\u001B[39m execute\u001B[38;5;241m.\u001B[39mexecute_with_cancellation(\n\u001B[0;32m    389\u001B[0m         \u001B[38;5;28mstr\u001B[39m(\u001B[38;5;28mself\u001B[39m\u001B[38;5;241m.\u001B[39msignature\u001B[38;5;241m.\u001B[39mname),\n\u001B[0;32m    390\u001B[0m         num_outputs\u001B[38;5;241m=\u001B[39m\u001B[38;5;28mself\u001B[39m\u001B[38;5;241m.\u001B[39m_num_outputs,\n\u001B[1;32m   (...)\u001B[0m\n\u001B[0;32m    393\u001B[0m         ctx\u001B[38;5;241m=\u001B[39mctx,\n\u001B[0;32m    394\u001B[0m         cancellation_manager\u001B[38;5;241m=\u001B[39mcancellation_manager)\n",
      "File \u001B[1;32m~\\PycharmProjects\\YaMlProject\\venv\\lib\\site-packages\\tensorflow\\python\\eager\\execute.py:52\u001B[0m, in \u001B[0;36mquick_execute\u001B[1;34m(op_name, num_outputs, inputs, attrs, ctx, name)\u001B[0m\n\u001B[0;32m     50\u001B[0m \u001B[38;5;28;01mtry\u001B[39;00m:\n\u001B[0;32m     51\u001B[0m   ctx\u001B[38;5;241m.\u001B[39mensure_initialized()\n\u001B[1;32m---> 52\u001B[0m   tensors \u001B[38;5;241m=\u001B[39m \u001B[43mpywrap_tfe\u001B[49m\u001B[38;5;241;43m.\u001B[39;49m\u001B[43mTFE_Py_Execute\u001B[49m\u001B[43m(\u001B[49m\u001B[43mctx\u001B[49m\u001B[38;5;241;43m.\u001B[39;49m\u001B[43m_handle\u001B[49m\u001B[43m,\u001B[49m\u001B[43m \u001B[49m\u001B[43mdevice_name\u001B[49m\u001B[43m,\u001B[49m\u001B[43m \u001B[49m\u001B[43mop_name\u001B[49m\u001B[43m,\u001B[49m\n\u001B[0;32m     53\u001B[0m \u001B[43m                                      \u001B[49m\u001B[43minputs\u001B[49m\u001B[43m,\u001B[49m\u001B[43m \u001B[49m\u001B[43mattrs\u001B[49m\u001B[43m,\u001B[49m\u001B[43m \u001B[49m\u001B[43mnum_outputs\u001B[49m\u001B[43m)\u001B[49m\n\u001B[0;32m     54\u001B[0m \u001B[38;5;28;01mexcept\u001B[39;00m core\u001B[38;5;241m.\u001B[39m_NotOkStatusException \u001B[38;5;28;01mas\u001B[39;00m e:\n\u001B[0;32m     55\u001B[0m   \u001B[38;5;28;01mif\u001B[39;00m name \u001B[38;5;129;01mis\u001B[39;00m \u001B[38;5;129;01mnot\u001B[39;00m \u001B[38;5;28;01mNone\u001B[39;00m:\n",
      "\u001B[1;31mKeyboardInterrupt\u001B[0m: "
     ]
    }
   ],
   "source": [
    "history = model.fit(train_ds, validation_data=val_ds,\n",
    "          epochs=100, callbacks=callbacks, verbose=1)"
   ]
  },
  {
   "cell_type": "markdown",
   "source": [
    "![-](data:image/png;base64,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)"
   ],
   "metadata": {
    "collapsed": false
   }
  },
  {
   "cell_type": "markdown",
   "metadata": {
    "id": "luv78DSO-S7_"
   },
   "source": [
    "Подгружаем все чекпоинты"
   ]
  },
  {
   "cell_type": "code",
   "execution_count": null,
   "metadata": {
    "id": "g264umVz1hzv"
   },
   "outputs": [],
   "source": [
    "model_categorical_acc = tf.keras.models.load_model(f'../checkpoints/model{num_model}_categorical_accuracy.h5')\n",
    "model_f1_score = tf.keras.models.load_model(f'../checkpoints/model{num_model}_f1_score.h5')\n",
    "model_loss = tf.keras.models.load_model(f'../checkpoints/model{num_model}_loss.h5')\n",
    "model_avg_categorical_acc = tf.keras.models.load_model(f'../checkpoints/model{num_model}_avg_categorical_accuracy.h5')\n",
    "model_avg_f1_score = tf.keras.models.load_model(f'../checkpoints/model{num_model}_avg_f1_score.h5')\n",
    "model_avg_loss = tf.keras.models.load_model(f'../checkpoints/model{num_model}_avg_loss.h5')"
   ]
  },
  {
   "cell_type": "markdown",
   "metadata": {
    "id": "r7i-3GRn-S7_"
   },
   "source": [
    "У нас поличилось три чекпоинта (три модели). Ниже указан код для получения ответов для всех чекпоинтов по валидационному датасету."
   ]
  },
  {
   "cell_type": "code",
   "execution_count": null,
   "metadata": {
    "colab": {
     "base_uri": "https://localhost:8080/"
    },
    "executionInfo": {
     "elapsed": 31431,
     "status": "ok",
     "timestamp": 1681668374879,
     "user": {
      "displayName": "Гриша Безруков",
      "userId": "02717934454974586898"
     },
     "user_tz": -180
    },
    "id": "u-cKSLLm1hzx",
    "outputId": "dbf16b64-78f2-470b-c75b-842fefbd2be1"
   },
   "outputs": [
    {
     "name": "stdout",
     "output_type": "stream",
     "text": [
      "154/154 [==============================] - 5s 23ms/step\n",
      "154/154 [==============================] - 4s 19ms/step\n",
      "154/154 [==============================] - 4s 20ms/step\n",
      "154/154 [==============================] - 4s 20ms/step\n",
      "154/154 [==============================] - 4s 19ms/step\n",
      "154/154 [==============================] - 4s 19ms/step\n"
     ]
    }
   ],
   "source": [
    "ans_val_categorical_accuracy = make_ans_file(model_categorical_acc, val_ds_x)\n",
    "ans_val_f1_score = make_ans_file(model_f1_score, val_ds_x)\n",
    "ans_val_loss = make_ans_file(model_loss, val_ds_x)\n",
    "ans_val_avg_categorical_accuracy = make_ans_file(model_avg_categorical_acc, val_ds_x)\n",
    "ans_val_avg_f1_score = make_ans_file(model_avg_f1_score, val_ds_x)\n",
    "ans_val_avg_loss = make_ans_file(model_avg_loss, val_ds_x)\n",
    "anss = [ans_val_categorical_accuracy, ans_val_f1_score, ans_val_loss, ans_val_avg_categorical_accuracy,\n",
    "        ans_val_avg_f1_score, ans_val_avg_loss]"
   ]
  },
  {
   "cell_type": "markdown",
   "metadata": {
    "id": "az3iBS0W1hzx"
   },
   "source": [
    "Формируем валидационные ответы."
   ]
  },
  {
   "cell_type": "code",
   "execution_count": null,
   "metadata": {
    "id": "OpY_REt31hzy"
   },
   "outputs": [],
   "source": [
    "val_ds_y = np.argmax(val_ds_y, axis=1)"
   ]
  },
  {
   "cell_type": "markdown",
   "metadata": {
    "id": "sqmvqg641hzy"
   },
   "source": [
    "Сравниваем валидационные предикты каждого чекпоинта"
   ]
  },
  {
   "cell_type": "code",
   "execution_count": null,
   "metadata": {
    "colab": {
     "base_uri": "https://localhost:8080/"
    },
    "executionInfo": {
     "elapsed": 58,
     "status": "ok",
     "timestamp": 1681668374887,
     "user": {
      "displayName": "Гриша Безруков",
      "userId": "02717934454974586898"
     },
     "user_tz": -180
    },
    "id": "swFdpR3O1hzz",
    "outputId": "9e6aaed2-f981-4584-a5a1-b7198374ea84"
   },
   "outputs": [
    {
     "name": "stdout",
     "output_type": "stream",
     "text": [
      "чекпоинты 1 и 2 одинаковые\n",
      "чекпоинты 1 и 3 одинаковые\n",
      "чекпоинты 2 и 3 одинаковые\n",
      "чекпоинты 4 и 5 одинаковые\n",
      "чекпоинты 4 и 6 одинаковые\n",
      "чекпоинты 5 и 6 одинаковые\n"
     ]
    }
   ],
   "source": [
    "for i in range(len(anss) - 1):\n",
    "    for j in range(i + 1, len(anss)):\n",
    "        if np.all(anss[i] == anss[j]):\n",
    "            print(f'чекпоинты {i + 1} и {j + 1} одинаковые')"
   ]
  },
  {
   "cell_type": "markdown",
   "metadata": {
    "id": "CzRxY2Y71hz0"
   },
   "source": [
    "`Все ответы разные, значит чекпоинты сохранили модель на разных эпохах. Если ответы будут одинковые, то вывод о чекпоинте делать не надо.`"
   ]
  },
  {
   "cell_type": "markdown",
   "metadata": {
    "id": "L9eNtr1L1hz1"
   },
   "source": [
    "- Денис пишет ансамблинг моделей. Когда он допишет, мы применим это для формирования ответа по трем получившимся моделям. То есть, если все чекпоинты разные, то мы будем делать средний ответ по трем предиктам."
   ]
  },
  {
   "cell_type": "markdown",
   "metadata": {
    "id": "XRNa8eAd1hz8"
   },
   "source": [
    "В конце смотрим на метрики и делаем выводы о том, чем хороша эта модель. Какие классы она угадывает лучше/худше всего. Дописываем какую метрику показал kaggle."
   ]
  },
  {
   "cell_type": "code",
   "execution_count": null,
   "metadata": {
    "id": "Op5vVeQp1hz9"
   },
   "outputs": [],
   "source": [
    "class MulticlassClassificationMetrics:\n",
    "    def __init__(self, y_true, y_pred):\n",
    "        self.y_true = np.array(y_true)\n",
    "        self.y_pred = np.array(y_pred)\n",
    "        self.matrix_error = self.get_matrix_error()\n",
    "\n",
    "    def get_matrix_error(self):\n",
    "        self.class_types = np.unique([self.y_true, self.y_pred])\n",
    "        TP, FN, FP, TN = [], [], [], []\n",
    "        for class_type in self.class_types:\n",
    "            TP.append(np.sum(np.logical_and(self.y_true == self.y_pred, self.y_true == class_type)))\n",
    "            FN.append(np.sum(np.logical_and(self.y_true == class_type, self.y_pred != class_type)))\n",
    "            FP.append(np.sum(np.logical_and(self.y_pred == class_type, self.y_true != class_type)))\n",
    "            TN.append(np.sum(np.logical_and(self.y_pred != class_type, self.y_true != class_type)))\n",
    "        return pd.DataFrame({\n",
    "            'class_type': self.class_types,\n",
    "            'TP': TP, 'TN': TN, 'FP': FP, 'FN': FN,\n",
    "        }).set_index('class_type')\n",
    "\n",
    "    def accuracy(self):\n",
    "        return np.sum(self.y_true == self.y_pred) / self.y_true.shape[0]\n",
    "\n",
    "    def precision(self, averaging='macro'):\n",
    "        if averaging == 'macro':\n",
    "            precisions = self.matrix_error['TP'] / (self.matrix_error['TP'] + self.matrix_error['FP'])\n",
    "            return np.mean(precisions.replace(np.nan, 0))\n",
    "        elif averaging == 'micro':\n",
    "            mean_val = self.matrix_error.mean()\n",
    "            return mean_val['TP'] / (mean_val['TP'] + mean_val['FP'])\n",
    "\n",
    "    def recall(self, averaging='macro'):\n",
    "        if averaging == 'macro':\n",
    "            recalls = self.matrix_error['TP'] / (self.matrix_error['TP'] + self.matrix_error['FN'])\n",
    "            return np.mean(recalls.replace(np.nan, 0))\n",
    "        elif averaging == 'micro':\n",
    "            mean_val = self.matrix_error.mean()\n",
    "            return mean_val['TP'] / (mean_val['TP'] + mean_val['FN'])\n",
    "\n",
    "    def f1_score(self, averaging='macro'):\n",
    "        if averaging == 'macro':\n",
    "            reverse_r = (self.matrix_error['TP'] + self.matrix_error['FN']) / self.matrix_error['TP']\n",
    "            reverse_p = (self.matrix_error['TP'] + self.matrix_error['FP']) / self.matrix_error['TP']\n",
    "            f1_scores = 2 / (reverse_r + reverse_p)\n",
    "            return np.mean(f1_scores.replace(np.nan, 0))\n",
    "        elif averaging == 'micro':\n",
    "            p = self.precision(averaging)\n",
    "            r = self.recall(averaging)\n",
    "            return 2 * p * r / (p + r)\n",
    "\n",
    "    def metrics(self, averaging='macro'):\n",
    "        return {\n",
    "            'accuracy': self.accuracy(),\n",
    "            'precision': self.precision(averaging),\n",
    "            'recall': self.recall(averaging),\n",
    "            'f1_score': self.f1_score(averaging),\n",
    "        }\n",
    "\n",
    "    def __str__(self):\n",
    "        headers = {\n",
    "            'selector': '*',\n",
    "            'props': 'background-color: darkgreen; color: white; font-size: 12pt;',\n",
    "        }\n",
    "        che_super_mega_puper_visualization_of_cell = {\n",
    "            'selector': 'td:hover',\n",
    "            'props': 'background-color: green; color: white;',\n",
    "        }\n",
    "        display(\n",
    "            self.matrix_error\n",
    "            .style\n",
    "            .set_table_styles([\n",
    "                headers,\n",
    "                che_super_mega_puper_visualization_of_cell,\n",
    "            ])\n",
    "            .set_properties(**{'background-color': 'lightgreen',\n",
    "                               'color': 'black', 'font-size': '12pt'})\n",
    "        )\n",
    "        return ''\n",
    "\n",
    "    def __repr__(self):\n",
    "        return (\n",
    "            f'MulticlassClassificationMetrics(class_types={self.class_types})'\n",
    "            .replace(\"'\", '').replace(',', ';'))"
   ]
  },
  {
   "cell_type": "markdown",
   "metadata": {
    "id": "uhWptjbN1hz_"
   },
   "source": [
    "### Accuracy чекпоинт"
   ]
  },
  {
   "cell_type": "code",
   "execution_count": null,
   "metadata": {
    "colab": {
     "base_uri": "https://localhost:8080/",
     "height": 535
    },
    "executionInfo": {
     "elapsed": 561,
     "status": "ok",
     "timestamp": 1681668391073,
     "user": {
      "displayName": "Гриша Безруков",
      "userId": "02717934454974586898"
     },
     "user_tz": -180
    },
    "id": "h_X5LFRj1h0A",
    "outputId": "84f4423d-ffe3-4e97-c257-aa45e90b7db5"
   },
   "outputs": [
    {
     "data": {
      "text/html": [
       "<style type=\"text/css\">\n",
       "#T_17f89 * {\n",
       "  background-color: darkgreen;\n",
       "  color: white;\n",
       "  font-size: 12pt;\n",
       "}\n",
       "#T_17f89 td:hover {\n",
       "  background-color: green;\n",
       "  color: white;\n",
       "}\n",
       "#T_17f89_row0_col0, #T_17f89_row0_col1, #T_17f89_row0_col2, #T_17f89_row0_col3, #T_17f89_row1_col0, #T_17f89_row1_col1, #T_17f89_row1_col2, #T_17f89_row1_col3, #T_17f89_row2_col0, #T_17f89_row2_col1, #T_17f89_row2_col2, #T_17f89_row2_col3, #T_17f89_row3_col0, #T_17f89_row3_col1, #T_17f89_row3_col2, #T_17f89_row3_col3, #T_17f89_row4_col0, #T_17f89_row4_col1, #T_17f89_row4_col2, #T_17f89_row4_col3, #T_17f89_row5_col0, #T_17f89_row5_col1, #T_17f89_row5_col2, #T_17f89_row5_col3, #T_17f89_row6_col0, #T_17f89_row6_col1, #T_17f89_row6_col2, #T_17f89_row6_col3, #T_17f89_row7_col0, #T_17f89_row7_col1, #T_17f89_row7_col2, #T_17f89_row7_col3, #T_17f89_row8_col0, #T_17f89_row8_col1, #T_17f89_row8_col2, #T_17f89_row8_col3, #T_17f89_row9_col0, #T_17f89_row9_col1, #T_17f89_row9_col2, #T_17f89_row9_col3 {\n",
       "  background-color: lightgreen;\n",
       "  color: black;\n",
       "  font-size: 12pt;\n",
       "}\n",
       "</style>\n",
       "<table id=\"T_17f89\" class=\"dataframe\">\n",
       "  <thead>\n",
       "    <tr>\n",
       "      <th class=\"blank level0\" >&nbsp;</th>\n",
       "      <th id=\"T_17f89_level0_col0\" class=\"col_heading level0 col0\" >TP</th>\n",
       "      <th id=\"T_17f89_level0_col1\" class=\"col_heading level0 col1\" >TN</th>\n",
       "      <th id=\"T_17f89_level0_col2\" class=\"col_heading level0 col2\" >FP</th>\n",
       "      <th id=\"T_17f89_level0_col3\" class=\"col_heading level0 col3\" >FN</th>\n",
       "    </tr>\n",
       "    <tr>\n",
       "      <th class=\"index_name level0\" >class_type</th>\n",
       "      <th class=\"blank col0\" >&nbsp;</th>\n",
       "      <th class=\"blank col1\" >&nbsp;</th>\n",
       "      <th class=\"blank col2\" >&nbsp;</th>\n",
       "      <th class=\"blank col3\" >&nbsp;</th>\n",
       "    </tr>\n",
       "  </thead>\n",
       "  <tbody>\n",
       "    <tr>\n",
       "      <th id=\"T_17f89_level0_row0\" class=\"row_heading level0 row0\" >0</th>\n",
       "      <td id=\"T_17f89_row0_col0\" class=\"data row0 col0\" >495</td>\n",
       "      <td id=\"T_17f89_row0_col1\" class=\"data row0 col1\" >4390</td>\n",
       "      <td id=\"T_17f89_row0_col2\" class=\"data row0 col2\" >12</td>\n",
       "      <td id=\"T_17f89_row0_col3\" class=\"data row0 col3\" >4</td>\n",
       "    </tr>\n",
       "    <tr>\n",
       "      <th id=\"T_17f89_level0_row1\" class=\"row_heading level0 row1\" >1</th>\n",
       "      <td id=\"T_17f89_row1_col0\" class=\"data row1 col0\" >471</td>\n",
       "      <td id=\"T_17f89_row1_col1\" class=\"data row1 col1\" >4396</td>\n",
       "      <td id=\"T_17f89_row1_col2\" class=\"data row1 col2\" >25</td>\n",
       "      <td id=\"T_17f89_row1_col3\" class=\"data row1 col3\" >9</td>\n",
       "    </tr>\n",
       "    <tr>\n",
       "      <th id=\"T_17f89_level0_row2\" class=\"row_heading level0 row2\" >2</th>\n",
       "      <td id=\"T_17f89_row2_col0\" class=\"data row2 col0\" >499</td>\n",
       "      <td id=\"T_17f89_row2_col1\" class=\"data row2 col1\" >4381</td>\n",
       "      <td id=\"T_17f89_row2_col2\" class=\"data row2 col2\" >16</td>\n",
       "      <td id=\"T_17f89_row2_col3\" class=\"data row2 col3\" >5</td>\n",
       "    </tr>\n",
       "    <tr>\n",
       "      <th id=\"T_17f89_level0_row3\" class=\"row_heading level0 row3\" >3</th>\n",
       "      <td id=\"T_17f89_row3_col0\" class=\"data row3 col0\" >495</td>\n",
       "      <td id=\"T_17f89_row3_col1\" class=\"data row3 col1\" >4379</td>\n",
       "      <td id=\"T_17f89_row3_col2\" class=\"data row3 col2\" >17</td>\n",
       "      <td id=\"T_17f89_row3_col3\" class=\"data row3 col3\" >10</td>\n",
       "    </tr>\n",
       "    <tr>\n",
       "      <th id=\"T_17f89_level0_row4\" class=\"row_heading level0 row4\" >4</th>\n",
       "      <td id=\"T_17f89_row4_col0\" class=\"data row4 col0\" >505</td>\n",
       "      <td id=\"T_17f89_row4_col1\" class=\"data row4 col1\" >4381</td>\n",
       "      <td id=\"T_17f89_row4_col2\" class=\"data row4 col2\" >10</td>\n",
       "      <td id=\"T_17f89_row4_col3\" class=\"data row4 col3\" >5</td>\n",
       "    </tr>\n",
       "    <tr>\n",
       "      <th id=\"T_17f89_level0_row5\" class=\"row_heading level0 row5\" >5</th>\n",
       "      <td id=\"T_17f89_row5_col0\" class=\"data row5 col0\" >472</td>\n",
       "      <td id=\"T_17f89_row5_col1\" class=\"data row5 col1\" >4405</td>\n",
       "      <td id=\"T_17f89_row5_col2\" class=\"data row5 col2\" >10</td>\n",
       "      <td id=\"T_17f89_row5_col3\" class=\"data row5 col3\" >14</td>\n",
       "    </tr>\n",
       "    <tr>\n",
       "      <th id=\"T_17f89_level0_row6\" class=\"row_heading level0 row6\" >6</th>\n",
       "      <td id=\"T_17f89_row6_col0\" class=\"data row6 col0\" >474</td>\n",
       "      <td id=\"T_17f89_row6_col1\" class=\"data row6 col1\" >4401</td>\n",
       "      <td id=\"T_17f89_row6_col2\" class=\"data row6 col2\" >9</td>\n",
       "      <td id=\"T_17f89_row6_col3\" class=\"data row6 col3\" >17</td>\n",
       "    </tr>\n",
       "    <tr>\n",
       "      <th id=\"T_17f89_level0_row7\" class=\"row_heading level0 row7\" >7</th>\n",
       "      <td id=\"T_17f89_row7_col0\" class=\"data row7 col0\" >469</td>\n",
       "      <td id=\"T_17f89_row7_col1\" class=\"data row7 col1\" >4406</td>\n",
       "      <td id=\"T_17f89_row7_col2\" class=\"data row7 col2\" >5</td>\n",
       "      <td id=\"T_17f89_row7_col3\" class=\"data row7 col3\" >21</td>\n",
       "    </tr>\n",
       "    <tr>\n",
       "      <th id=\"T_17f89_level0_row8\" class=\"row_heading level0 row8\" >8</th>\n",
       "      <td id=\"T_17f89_row8_col0\" class=\"data row8 col0\" >442</td>\n",
       "      <td id=\"T_17f89_row8_col1\" class=\"data row8 col1\" >4439</td>\n",
       "      <td id=\"T_17f89_row8_col2\" class=\"data row8 col2\" >5</td>\n",
       "      <td id=\"T_17f89_row8_col3\" class=\"data row8 col3\" >15</td>\n",
       "    </tr>\n",
       "    <tr>\n",
       "      <th id=\"T_17f89_level0_row9\" class=\"row_heading level0 row9\" >9</th>\n",
       "      <td id=\"T_17f89_row9_col0\" class=\"data row9 col0\" >468</td>\n",
       "      <td id=\"T_17f89_row9_col1\" class=\"data row9 col1\" >4420</td>\n",
       "      <td id=\"T_17f89_row9_col2\" class=\"data row9 col2\" >2</td>\n",
       "      <td id=\"T_17f89_row9_col3\" class=\"data row9 col3\" >11</td>\n",
       "    </tr>\n",
       "  </tbody>\n",
       "</table>\n"
      ],
      "text/plain": [
       "<pandas.io.formats.style.Styler at 0x7fe7e40bdeb0>"
      ]
     },
     "metadata": {},
     "output_type": "display_data"
    },
    {
     "name": "stdout",
     "output_type": "stream",
     "text": [
      "\n"
     ]
    },
    {
     "data": {
      "text/plain": [
       "{'accuracy': 0.9773515609059376,\n",
       " 'precision': 0.9776869620225307,\n",
       " 'recall': 0.977163321960053,\n",
       " 'f1_score': 0.9773187191403638}"
      ]
     },
     "execution_count": 23,
     "metadata": {},
     "output_type": "execute_result"
    }
   ],
   "source": [
    "metrics = MulticlassClassificationMetrics(val_ds_y, ans_val_categorical_accuracy)\n",
    "print(metrics)\n",
    "metrics.metrics()"
   ]
  },
  {
   "cell_type": "markdown",
   "metadata": {
    "id": "HDRKSDRq1h0B"
   },
   "source": [
    "- $FP_1=15$. То есть, модель предсказала 15 раз 1, когда на самом деле там была не 1. Наверное модель плохо различает 1 и 7.\n",
    "- $FN_1=15$. То есть, модель 15 раз ошиблась, когда угадывала 1.\n",
    "\n",
    "Метрики более менее хоршие. Переобучения нет. Ставить модель на больше эпох нет смысла, потому что последние 50 эпох модель практически не меняла веса.\n",
    "\n",
    "`Это не шаблон!!! Писать надо как сами посчитаете`"
   ]
  },
  {
   "cell_type": "markdown",
   "metadata": {
    "id": "7VAzf7n0dECw"
   },
   "source": [
    "### Loss чекпоинт"
   ]
  },
  {
   "cell_type": "code",
   "execution_count": null,
   "metadata": {
    "colab": {
     "base_uri": "https://localhost:8080/",
     "height": 535
    },
    "executionInfo": {
     "elapsed": 1478,
     "status": "ok",
     "timestamp": 1681668401306,
     "user": {
      "displayName": "Гриша Безруков",
      "userId": "02717934454974586898"
     },
     "user_tz": -180
    },
    "id": "uzHyXblNdECw",
    "outputId": "c3a541e6-daff-476a-cb20-213fe9958fd3"
   },
   "outputs": [
    {
     "data": {
      "text/html": [
       "<style type=\"text/css\">\n",
       "#T_204aa * {\n",
       "  background-color: darkgreen;\n",
       "  color: white;\n",
       "  font-size: 12pt;\n",
       "}\n",
       "#T_204aa td:hover {\n",
       "  background-color: green;\n",
       "  color: white;\n",
       "}\n",
       "#T_204aa_row0_col0, #T_204aa_row0_col1, #T_204aa_row0_col2, #T_204aa_row0_col3, #T_204aa_row1_col0, #T_204aa_row1_col1, #T_204aa_row1_col2, #T_204aa_row1_col3, #T_204aa_row2_col0, #T_204aa_row2_col1, #T_204aa_row2_col2, #T_204aa_row2_col3, #T_204aa_row3_col0, #T_204aa_row3_col1, #T_204aa_row3_col2, #T_204aa_row3_col3, #T_204aa_row4_col0, #T_204aa_row4_col1, #T_204aa_row4_col2, #T_204aa_row4_col3, #T_204aa_row5_col0, #T_204aa_row5_col1, #T_204aa_row5_col2, #T_204aa_row5_col3, #T_204aa_row6_col0, #T_204aa_row6_col1, #T_204aa_row6_col2, #T_204aa_row6_col3, #T_204aa_row7_col0, #T_204aa_row7_col1, #T_204aa_row7_col2, #T_204aa_row7_col3, #T_204aa_row8_col0, #T_204aa_row8_col1, #T_204aa_row8_col2, #T_204aa_row8_col3, #T_204aa_row9_col0, #T_204aa_row9_col1, #T_204aa_row9_col2, #T_204aa_row9_col3 {\n",
       "  background-color: lightgreen;\n",
       "  color: black;\n",
       "  font-size: 12pt;\n",
       "}\n",
       "</style>\n",
       "<table id=\"T_204aa\" class=\"dataframe\">\n",
       "  <thead>\n",
       "    <tr>\n",
       "      <th class=\"blank level0\" >&nbsp;</th>\n",
       "      <th id=\"T_204aa_level0_col0\" class=\"col_heading level0 col0\" >TP</th>\n",
       "      <th id=\"T_204aa_level0_col1\" class=\"col_heading level0 col1\" >TN</th>\n",
       "      <th id=\"T_204aa_level0_col2\" class=\"col_heading level0 col2\" >FP</th>\n",
       "      <th id=\"T_204aa_level0_col3\" class=\"col_heading level0 col3\" >FN</th>\n",
       "    </tr>\n",
       "    <tr>\n",
       "      <th class=\"index_name level0\" >class_type</th>\n",
       "      <th class=\"blank col0\" >&nbsp;</th>\n",
       "      <th class=\"blank col1\" >&nbsp;</th>\n",
       "      <th class=\"blank col2\" >&nbsp;</th>\n",
       "      <th class=\"blank col3\" >&nbsp;</th>\n",
       "    </tr>\n",
       "  </thead>\n",
       "  <tbody>\n",
       "    <tr>\n",
       "      <th id=\"T_204aa_level0_row0\" class=\"row_heading level0 row0\" >0</th>\n",
       "      <td id=\"T_204aa_row0_col0\" class=\"data row0 col0\" >495</td>\n",
       "      <td id=\"T_204aa_row0_col1\" class=\"data row0 col1\" >4390</td>\n",
       "      <td id=\"T_204aa_row0_col2\" class=\"data row0 col2\" >12</td>\n",
       "      <td id=\"T_204aa_row0_col3\" class=\"data row0 col3\" >4</td>\n",
       "    </tr>\n",
       "    <tr>\n",
       "      <th id=\"T_204aa_level0_row1\" class=\"row_heading level0 row1\" >1</th>\n",
       "      <td id=\"T_204aa_row1_col0\" class=\"data row1 col0\" >471</td>\n",
       "      <td id=\"T_204aa_row1_col1\" class=\"data row1 col1\" >4396</td>\n",
       "      <td id=\"T_204aa_row1_col2\" class=\"data row1 col2\" >25</td>\n",
       "      <td id=\"T_204aa_row1_col3\" class=\"data row1 col3\" >9</td>\n",
       "    </tr>\n",
       "    <tr>\n",
       "      <th id=\"T_204aa_level0_row2\" class=\"row_heading level0 row2\" >2</th>\n",
       "      <td id=\"T_204aa_row2_col0\" class=\"data row2 col0\" >499</td>\n",
       "      <td id=\"T_204aa_row2_col1\" class=\"data row2 col1\" >4381</td>\n",
       "      <td id=\"T_204aa_row2_col2\" class=\"data row2 col2\" >16</td>\n",
       "      <td id=\"T_204aa_row2_col3\" class=\"data row2 col3\" >5</td>\n",
       "    </tr>\n",
       "    <tr>\n",
       "      <th id=\"T_204aa_level0_row3\" class=\"row_heading level0 row3\" >3</th>\n",
       "      <td id=\"T_204aa_row3_col0\" class=\"data row3 col0\" >495</td>\n",
       "      <td id=\"T_204aa_row3_col1\" class=\"data row3 col1\" >4379</td>\n",
       "      <td id=\"T_204aa_row3_col2\" class=\"data row3 col2\" >17</td>\n",
       "      <td id=\"T_204aa_row3_col3\" class=\"data row3 col3\" >10</td>\n",
       "    </tr>\n",
       "    <tr>\n",
       "      <th id=\"T_204aa_level0_row4\" class=\"row_heading level0 row4\" >4</th>\n",
       "      <td id=\"T_204aa_row4_col0\" class=\"data row4 col0\" >505</td>\n",
       "      <td id=\"T_204aa_row4_col1\" class=\"data row4 col1\" >4381</td>\n",
       "      <td id=\"T_204aa_row4_col2\" class=\"data row4 col2\" >10</td>\n",
       "      <td id=\"T_204aa_row4_col3\" class=\"data row4 col3\" >5</td>\n",
       "    </tr>\n",
       "    <tr>\n",
       "      <th id=\"T_204aa_level0_row5\" class=\"row_heading level0 row5\" >5</th>\n",
       "      <td id=\"T_204aa_row5_col0\" class=\"data row5 col0\" >472</td>\n",
       "      <td id=\"T_204aa_row5_col1\" class=\"data row5 col1\" >4405</td>\n",
       "      <td id=\"T_204aa_row5_col2\" class=\"data row5 col2\" >10</td>\n",
       "      <td id=\"T_204aa_row5_col3\" class=\"data row5 col3\" >14</td>\n",
       "    </tr>\n",
       "    <tr>\n",
       "      <th id=\"T_204aa_level0_row6\" class=\"row_heading level0 row6\" >6</th>\n",
       "      <td id=\"T_204aa_row6_col0\" class=\"data row6 col0\" >474</td>\n",
       "      <td id=\"T_204aa_row6_col1\" class=\"data row6 col1\" >4401</td>\n",
       "      <td id=\"T_204aa_row6_col2\" class=\"data row6 col2\" >9</td>\n",
       "      <td id=\"T_204aa_row6_col3\" class=\"data row6 col3\" >17</td>\n",
       "    </tr>\n",
       "    <tr>\n",
       "      <th id=\"T_204aa_level0_row7\" class=\"row_heading level0 row7\" >7</th>\n",
       "      <td id=\"T_204aa_row7_col0\" class=\"data row7 col0\" >469</td>\n",
       "      <td id=\"T_204aa_row7_col1\" class=\"data row7 col1\" >4406</td>\n",
       "      <td id=\"T_204aa_row7_col2\" class=\"data row7 col2\" >5</td>\n",
       "      <td id=\"T_204aa_row7_col3\" class=\"data row7 col3\" >21</td>\n",
       "    </tr>\n",
       "    <tr>\n",
       "      <th id=\"T_204aa_level0_row8\" class=\"row_heading level0 row8\" >8</th>\n",
       "      <td id=\"T_204aa_row8_col0\" class=\"data row8 col0\" >442</td>\n",
       "      <td id=\"T_204aa_row8_col1\" class=\"data row8 col1\" >4439</td>\n",
       "      <td id=\"T_204aa_row8_col2\" class=\"data row8 col2\" >5</td>\n",
       "      <td id=\"T_204aa_row8_col3\" class=\"data row8 col3\" >15</td>\n",
       "    </tr>\n",
       "    <tr>\n",
       "      <th id=\"T_204aa_level0_row9\" class=\"row_heading level0 row9\" >9</th>\n",
       "      <td id=\"T_204aa_row9_col0\" class=\"data row9 col0\" >468</td>\n",
       "      <td id=\"T_204aa_row9_col1\" class=\"data row9 col1\" >4420</td>\n",
       "      <td id=\"T_204aa_row9_col2\" class=\"data row9 col2\" >2</td>\n",
       "      <td id=\"T_204aa_row9_col3\" class=\"data row9 col3\" >11</td>\n",
       "    </tr>\n",
       "  </tbody>\n",
       "</table>\n"
      ],
      "text/plain": [
       "<pandas.io.formats.style.Styler at 0x7fe7e40bdf10>"
      ]
     },
     "metadata": {},
     "output_type": "display_data"
    },
    {
     "name": "stdout",
     "output_type": "stream",
     "text": [
      "\n"
     ]
    },
    {
     "data": {
      "text/plain": [
       "{'accuracy': 0.9773515609059376,\n",
       " 'precision': 0.9776869620225307,\n",
       " 'recall': 0.977163321960053,\n",
       " 'f1_score': 0.9773187191403638}"
      ]
     },
     "execution_count": 24,
     "metadata": {},
     "output_type": "execute_result"
    }
   ],
   "source": [
    "metrics = MulticlassClassificationMetrics(val_ds_y, ans_val_loss)\n",
    "print(metrics)\n",
    "metrics.metrics()"
   ]
  },
  {
   "cell_type": "markdown",
   "metadata": {
    "id": "nJA6OLqRdECx"
   },
   "source": [
    "- $FN_1=28$.\n",
    "- $FP_1=19$.\n",
    "- $FP_2=18$.\n",
    "- $FP_3=18$.\n",
    "- $FN_3=16$.\n",
    "- $FN_8=15$.\n",
    "\n",
    "Модель очень плохо справляется с единицами. Так же можно сказать что 2 и 3 модель часто угадывает ложно.\n",
    "\n",
    "Метрики хуже, чем у accuracy чекпоинта. Но все равно посмотрим, что скажут метрики kaggle."
   ]
  },
  {
   "cell_type": "markdown",
   "metadata": {
    "id": "A8jwTaCNdECx"
   },
   "source": [
    "### F1-score чекпоинт"
   ]
  },
  {
   "cell_type": "code",
   "execution_count": null,
   "metadata": {
    "colab": {
     "base_uri": "https://localhost:8080/",
     "height": 535
    },
    "executionInfo": {
     "elapsed": 14,
     "status": "ok",
     "timestamp": 1681668401650,
     "user": {
      "displayName": "Гриша Безруков",
      "userId": "02717934454974586898"
     },
     "user_tz": -180
    },
    "id": "_OupAVHFdECx",
    "outputId": "0c5cc3ad-4295-458d-f05b-44b112e5c772"
   },
   "outputs": [
    {
     "data": {
      "text/html": [
       "<style type=\"text/css\">\n",
       "#T_cd677 * {\n",
       "  background-color: darkgreen;\n",
       "  color: white;\n",
       "  font-size: 12pt;\n",
       "}\n",
       "#T_cd677 td:hover {\n",
       "  background-color: green;\n",
       "  color: white;\n",
       "}\n",
       "#T_cd677_row0_col0, #T_cd677_row0_col1, #T_cd677_row0_col2, #T_cd677_row0_col3, #T_cd677_row1_col0, #T_cd677_row1_col1, #T_cd677_row1_col2, #T_cd677_row1_col3, #T_cd677_row2_col0, #T_cd677_row2_col1, #T_cd677_row2_col2, #T_cd677_row2_col3, #T_cd677_row3_col0, #T_cd677_row3_col1, #T_cd677_row3_col2, #T_cd677_row3_col3, #T_cd677_row4_col0, #T_cd677_row4_col1, #T_cd677_row4_col2, #T_cd677_row4_col3, #T_cd677_row5_col0, #T_cd677_row5_col1, #T_cd677_row5_col2, #T_cd677_row5_col3, #T_cd677_row6_col0, #T_cd677_row6_col1, #T_cd677_row6_col2, #T_cd677_row6_col3, #T_cd677_row7_col0, #T_cd677_row7_col1, #T_cd677_row7_col2, #T_cd677_row7_col3, #T_cd677_row8_col0, #T_cd677_row8_col1, #T_cd677_row8_col2, #T_cd677_row8_col3, #T_cd677_row9_col0, #T_cd677_row9_col1, #T_cd677_row9_col2, #T_cd677_row9_col3 {\n",
       "  background-color: lightgreen;\n",
       "  color: black;\n",
       "  font-size: 12pt;\n",
       "}\n",
       "</style>\n",
       "<table id=\"T_cd677\" class=\"dataframe\">\n",
       "  <thead>\n",
       "    <tr>\n",
       "      <th class=\"blank level0\" >&nbsp;</th>\n",
       "      <th id=\"T_cd677_level0_col0\" class=\"col_heading level0 col0\" >TP</th>\n",
       "      <th id=\"T_cd677_level0_col1\" class=\"col_heading level0 col1\" >TN</th>\n",
       "      <th id=\"T_cd677_level0_col2\" class=\"col_heading level0 col2\" >FP</th>\n",
       "      <th id=\"T_cd677_level0_col3\" class=\"col_heading level0 col3\" >FN</th>\n",
       "    </tr>\n",
       "    <tr>\n",
       "      <th class=\"index_name level0\" >class_type</th>\n",
       "      <th class=\"blank col0\" >&nbsp;</th>\n",
       "      <th class=\"blank col1\" >&nbsp;</th>\n",
       "      <th class=\"blank col2\" >&nbsp;</th>\n",
       "      <th class=\"blank col3\" >&nbsp;</th>\n",
       "    </tr>\n",
       "  </thead>\n",
       "  <tbody>\n",
       "    <tr>\n",
       "      <th id=\"T_cd677_level0_row0\" class=\"row_heading level0 row0\" >0</th>\n",
       "      <td id=\"T_cd677_row0_col0\" class=\"data row0 col0\" >495</td>\n",
       "      <td id=\"T_cd677_row0_col1\" class=\"data row0 col1\" >4390</td>\n",
       "      <td id=\"T_cd677_row0_col2\" class=\"data row0 col2\" >12</td>\n",
       "      <td id=\"T_cd677_row0_col3\" class=\"data row0 col3\" >4</td>\n",
       "    </tr>\n",
       "    <tr>\n",
       "      <th id=\"T_cd677_level0_row1\" class=\"row_heading level0 row1\" >1</th>\n",
       "      <td id=\"T_cd677_row1_col0\" class=\"data row1 col0\" >471</td>\n",
       "      <td id=\"T_cd677_row1_col1\" class=\"data row1 col1\" >4396</td>\n",
       "      <td id=\"T_cd677_row1_col2\" class=\"data row1 col2\" >25</td>\n",
       "      <td id=\"T_cd677_row1_col3\" class=\"data row1 col3\" >9</td>\n",
       "    </tr>\n",
       "    <tr>\n",
       "      <th id=\"T_cd677_level0_row2\" class=\"row_heading level0 row2\" >2</th>\n",
       "      <td id=\"T_cd677_row2_col0\" class=\"data row2 col0\" >499</td>\n",
       "      <td id=\"T_cd677_row2_col1\" class=\"data row2 col1\" >4381</td>\n",
       "      <td id=\"T_cd677_row2_col2\" class=\"data row2 col2\" >16</td>\n",
       "      <td id=\"T_cd677_row2_col3\" class=\"data row2 col3\" >5</td>\n",
       "    </tr>\n",
       "    <tr>\n",
       "      <th id=\"T_cd677_level0_row3\" class=\"row_heading level0 row3\" >3</th>\n",
       "      <td id=\"T_cd677_row3_col0\" class=\"data row3 col0\" >495</td>\n",
       "      <td id=\"T_cd677_row3_col1\" class=\"data row3 col1\" >4379</td>\n",
       "      <td id=\"T_cd677_row3_col2\" class=\"data row3 col2\" >17</td>\n",
       "      <td id=\"T_cd677_row3_col3\" class=\"data row3 col3\" >10</td>\n",
       "    </tr>\n",
       "    <tr>\n",
       "      <th id=\"T_cd677_level0_row4\" class=\"row_heading level0 row4\" >4</th>\n",
       "      <td id=\"T_cd677_row4_col0\" class=\"data row4 col0\" >505</td>\n",
       "      <td id=\"T_cd677_row4_col1\" class=\"data row4 col1\" >4381</td>\n",
       "      <td id=\"T_cd677_row4_col2\" class=\"data row4 col2\" >10</td>\n",
       "      <td id=\"T_cd677_row4_col3\" class=\"data row4 col3\" >5</td>\n",
       "    </tr>\n",
       "    <tr>\n",
       "      <th id=\"T_cd677_level0_row5\" class=\"row_heading level0 row5\" >5</th>\n",
       "      <td id=\"T_cd677_row5_col0\" class=\"data row5 col0\" >472</td>\n",
       "      <td id=\"T_cd677_row5_col1\" class=\"data row5 col1\" >4405</td>\n",
       "      <td id=\"T_cd677_row5_col2\" class=\"data row5 col2\" >10</td>\n",
       "      <td id=\"T_cd677_row5_col3\" class=\"data row5 col3\" >14</td>\n",
       "    </tr>\n",
       "    <tr>\n",
       "      <th id=\"T_cd677_level0_row6\" class=\"row_heading level0 row6\" >6</th>\n",
       "      <td id=\"T_cd677_row6_col0\" class=\"data row6 col0\" >474</td>\n",
       "      <td id=\"T_cd677_row6_col1\" class=\"data row6 col1\" >4401</td>\n",
       "      <td id=\"T_cd677_row6_col2\" class=\"data row6 col2\" >9</td>\n",
       "      <td id=\"T_cd677_row6_col3\" class=\"data row6 col3\" >17</td>\n",
       "    </tr>\n",
       "    <tr>\n",
       "      <th id=\"T_cd677_level0_row7\" class=\"row_heading level0 row7\" >7</th>\n",
       "      <td id=\"T_cd677_row7_col0\" class=\"data row7 col0\" >469</td>\n",
       "      <td id=\"T_cd677_row7_col1\" class=\"data row7 col1\" >4406</td>\n",
       "      <td id=\"T_cd677_row7_col2\" class=\"data row7 col2\" >5</td>\n",
       "      <td id=\"T_cd677_row7_col3\" class=\"data row7 col3\" >21</td>\n",
       "    </tr>\n",
       "    <tr>\n",
       "      <th id=\"T_cd677_level0_row8\" class=\"row_heading level0 row8\" >8</th>\n",
       "      <td id=\"T_cd677_row8_col0\" class=\"data row8 col0\" >442</td>\n",
       "      <td id=\"T_cd677_row8_col1\" class=\"data row8 col1\" >4439</td>\n",
       "      <td id=\"T_cd677_row8_col2\" class=\"data row8 col2\" >5</td>\n",
       "      <td id=\"T_cd677_row8_col3\" class=\"data row8 col3\" >15</td>\n",
       "    </tr>\n",
       "    <tr>\n",
       "      <th id=\"T_cd677_level0_row9\" class=\"row_heading level0 row9\" >9</th>\n",
       "      <td id=\"T_cd677_row9_col0\" class=\"data row9 col0\" >468</td>\n",
       "      <td id=\"T_cd677_row9_col1\" class=\"data row9 col1\" >4420</td>\n",
       "      <td id=\"T_cd677_row9_col2\" class=\"data row9 col2\" >2</td>\n",
       "      <td id=\"T_cd677_row9_col3\" class=\"data row9 col3\" >11</td>\n",
       "    </tr>\n",
       "  </tbody>\n",
       "</table>\n"
      ],
      "text/plain": [
       "<pandas.io.formats.style.Styler at 0x7fe7e40bde20>"
      ]
     },
     "metadata": {},
     "output_type": "display_data"
    },
    {
     "name": "stdout",
     "output_type": "stream",
     "text": [
      "\n"
     ]
    },
    {
     "data": {
      "text/plain": [
       "{'accuracy': 0.9773515609059376,\n",
       " 'precision': 0.9776869620225307,\n",
       " 'recall': 0.977163321960053,\n",
       " 'f1_score': 0.9773187191403638}"
      ]
     },
     "execution_count": 25,
     "metadata": {},
     "output_type": "execute_result"
    }
   ],
   "source": [
    "metrics = MulticlassClassificationMetrics(val_ds_y, ans_val_f1_score)\n",
    "print(metrics)\n",
    "metrics.metrics()"
   ]
  },
  {
   "cell_type": "markdown",
   "metadata": {
    "id": "-zzPcbmSdECx"
   },
   "source": [
    "- $FN_1=19$.\n",
    "- $FP_2=19$.\n",
    "\n",
    "Модель плохо справляется с единицами и двойками.\n",
    "\n",
    "Метрики неплохие."
   ]
  },
  {
   "cell_type": "markdown",
   "metadata": {
    "id": "-RomA9mSnbEX"
   },
   "source": [
    "### Среднее скользящее по accuracy чекпоинт"
   ]
  },
  {
   "cell_type": "code",
   "execution_count": null,
   "metadata": {
    "colab": {
     "base_uri": "https://localhost:8080/",
     "height": 535
    },
    "executionInfo": {
     "elapsed": 29,
     "status": "ok",
     "timestamp": 1681668402320,
     "user": {
      "displayName": "Гриша Безруков",
      "userId": "02717934454974586898"
     },
     "user_tz": -180
    },
    "id": "FbPidiv_nzkj",
    "outputId": "ae66c4d5-d48d-4592-e85f-7e64a8e3ee3b"
   },
   "outputs": [
    {
     "data": {
      "text/html": [
       "<style type=\"text/css\">\n",
       "#T_fc0f2 * {\n",
       "  background-color: darkgreen;\n",
       "  color: white;\n",
       "  font-size: 12pt;\n",
       "}\n",
       "#T_fc0f2 td:hover {\n",
       "  background-color: green;\n",
       "  color: white;\n",
       "}\n",
       "#T_fc0f2_row0_col0, #T_fc0f2_row0_col1, #T_fc0f2_row0_col2, #T_fc0f2_row0_col3, #T_fc0f2_row1_col0, #T_fc0f2_row1_col1, #T_fc0f2_row1_col2, #T_fc0f2_row1_col3, #T_fc0f2_row2_col0, #T_fc0f2_row2_col1, #T_fc0f2_row2_col2, #T_fc0f2_row2_col3, #T_fc0f2_row3_col0, #T_fc0f2_row3_col1, #T_fc0f2_row3_col2, #T_fc0f2_row3_col3, #T_fc0f2_row4_col0, #T_fc0f2_row4_col1, #T_fc0f2_row4_col2, #T_fc0f2_row4_col3, #T_fc0f2_row5_col0, #T_fc0f2_row5_col1, #T_fc0f2_row5_col2, #T_fc0f2_row5_col3, #T_fc0f2_row6_col0, #T_fc0f2_row6_col1, #T_fc0f2_row6_col2, #T_fc0f2_row6_col3, #T_fc0f2_row7_col0, #T_fc0f2_row7_col1, #T_fc0f2_row7_col2, #T_fc0f2_row7_col3, #T_fc0f2_row8_col0, #T_fc0f2_row8_col1, #T_fc0f2_row8_col2, #T_fc0f2_row8_col3, #T_fc0f2_row9_col0, #T_fc0f2_row9_col1, #T_fc0f2_row9_col2, #T_fc0f2_row9_col3 {\n",
       "  background-color: lightgreen;\n",
       "  color: black;\n",
       "  font-size: 12pt;\n",
       "}\n",
       "</style>\n",
       "<table id=\"T_fc0f2\" class=\"dataframe\">\n",
       "  <thead>\n",
       "    <tr>\n",
       "      <th class=\"blank level0\" >&nbsp;</th>\n",
       "      <th id=\"T_fc0f2_level0_col0\" class=\"col_heading level0 col0\" >TP</th>\n",
       "      <th id=\"T_fc0f2_level0_col1\" class=\"col_heading level0 col1\" >TN</th>\n",
       "      <th id=\"T_fc0f2_level0_col2\" class=\"col_heading level0 col2\" >FP</th>\n",
       "      <th id=\"T_fc0f2_level0_col3\" class=\"col_heading level0 col3\" >FN</th>\n",
       "    </tr>\n",
       "    <tr>\n",
       "      <th class=\"index_name level0\" >class_type</th>\n",
       "      <th class=\"blank col0\" >&nbsp;</th>\n",
       "      <th class=\"blank col1\" >&nbsp;</th>\n",
       "      <th class=\"blank col2\" >&nbsp;</th>\n",
       "      <th class=\"blank col3\" >&nbsp;</th>\n",
       "    </tr>\n",
       "  </thead>\n",
       "  <tbody>\n",
       "    <tr>\n",
       "      <th id=\"T_fc0f2_level0_row0\" class=\"row_heading level0 row0\" >0</th>\n",
       "      <td id=\"T_fc0f2_row0_col0\" class=\"data row0 col0\" >494</td>\n",
       "      <td id=\"T_fc0f2_row0_col1\" class=\"data row0 col1\" >4398</td>\n",
       "      <td id=\"T_fc0f2_row0_col2\" class=\"data row0 col2\" >4</td>\n",
       "      <td id=\"T_fc0f2_row0_col3\" class=\"data row0 col3\" >5</td>\n",
       "    </tr>\n",
       "    <tr>\n",
       "      <th id=\"T_fc0f2_level0_row1\" class=\"row_heading level0 row1\" >1</th>\n",
       "      <td id=\"T_fc0f2_row1_col0\" class=\"data row1 col0\" >470</td>\n",
       "      <td id=\"T_fc0f2_row1_col1\" class=\"data row1 col1\" >4409</td>\n",
       "      <td id=\"T_fc0f2_row1_col2\" class=\"data row1 col2\" >12</td>\n",
       "      <td id=\"T_fc0f2_row1_col3\" class=\"data row1 col3\" >10</td>\n",
       "    </tr>\n",
       "    <tr>\n",
       "      <th id=\"T_fc0f2_level0_row2\" class=\"row_heading level0 row2\" >2</th>\n",
       "      <td id=\"T_fc0f2_row2_col0\" class=\"data row2 col0\" >499</td>\n",
       "      <td id=\"T_fc0f2_row2_col1\" class=\"data row2 col1\" >4390</td>\n",
       "      <td id=\"T_fc0f2_row2_col2\" class=\"data row2 col2\" >7</td>\n",
       "      <td id=\"T_fc0f2_row2_col3\" class=\"data row2 col3\" >5</td>\n",
       "    </tr>\n",
       "    <tr>\n",
       "      <th id=\"T_fc0f2_level0_row3\" class=\"row_heading level0 row3\" >3</th>\n",
       "      <td id=\"T_fc0f2_row3_col0\" class=\"data row3 col0\" >493</td>\n",
       "      <td id=\"T_fc0f2_row3_col1\" class=\"data row3 col1\" >4388</td>\n",
       "      <td id=\"T_fc0f2_row3_col2\" class=\"data row3 col2\" >8</td>\n",
       "      <td id=\"T_fc0f2_row3_col3\" class=\"data row3 col3\" >12</td>\n",
       "    </tr>\n",
       "    <tr>\n",
       "      <th id=\"T_fc0f2_level0_row4\" class=\"row_heading level0 row4\" >4</th>\n",
       "      <td id=\"T_fc0f2_row4_col0\" class=\"data row4 col0\" >507</td>\n",
       "      <td id=\"T_fc0f2_row4_col1\" class=\"data row4 col1\" >4386</td>\n",
       "      <td id=\"T_fc0f2_row4_col2\" class=\"data row4 col2\" >5</td>\n",
       "      <td id=\"T_fc0f2_row4_col3\" class=\"data row4 col3\" >3</td>\n",
       "    </tr>\n",
       "    <tr>\n",
       "      <th id=\"T_fc0f2_level0_row5\" class=\"row_heading level0 row5\" >5</th>\n",
       "      <td id=\"T_fc0f2_row5_col0\" class=\"data row5 col0\" >478</td>\n",
       "      <td id=\"T_fc0f2_row5_col1\" class=\"data row5 col1\" >4404</td>\n",
       "      <td id=\"T_fc0f2_row5_col2\" class=\"data row5 col2\" >11</td>\n",
       "      <td id=\"T_fc0f2_row5_col3\" class=\"data row5 col3\" >8</td>\n",
       "    </tr>\n",
       "    <tr>\n",
       "      <th id=\"T_fc0f2_level0_row6\" class=\"row_heading level0 row6\" >6</th>\n",
       "      <td id=\"T_fc0f2_row6_col0\" class=\"data row6 col0\" >483</td>\n",
       "      <td id=\"T_fc0f2_row6_col1\" class=\"data row6 col1\" >4399</td>\n",
       "      <td id=\"T_fc0f2_row6_col2\" class=\"data row6 col2\" >11</td>\n",
       "      <td id=\"T_fc0f2_row6_col3\" class=\"data row6 col3\" >8</td>\n",
       "    </tr>\n",
       "    <tr>\n",
       "      <th id=\"T_fc0f2_level0_row7\" class=\"row_heading level0 row7\" >7</th>\n",
       "      <td id=\"T_fc0f2_row7_col0\" class=\"data row7 col0\" >482</td>\n",
       "      <td id=\"T_fc0f2_row7_col1\" class=\"data row7 col1\" >4405</td>\n",
       "      <td id=\"T_fc0f2_row7_col2\" class=\"data row7 col2\" >6</td>\n",
       "      <td id=\"T_fc0f2_row7_col3\" class=\"data row7 col3\" >8</td>\n",
       "    </tr>\n",
       "    <tr>\n",
       "      <th id=\"T_fc0f2_level0_row8\" class=\"row_heading level0 row8\" >8</th>\n",
       "      <td id=\"T_fc0f2_row8_col0\" class=\"data row8 col0\" >444</td>\n",
       "      <td id=\"T_fc0f2_row8_col1\" class=\"data row8 col1\" >4438</td>\n",
       "      <td id=\"T_fc0f2_row8_col2\" class=\"data row8 col2\" >6</td>\n",
       "      <td id=\"T_fc0f2_row8_col3\" class=\"data row8 col3\" >13</td>\n",
       "    </tr>\n",
       "    <tr>\n",
       "      <th id=\"T_fc0f2_level0_row9\" class=\"row_heading level0 row9\" >9</th>\n",
       "      <td id=\"T_fc0f2_row9_col0\" class=\"data row9 col0\" >476</td>\n",
       "      <td id=\"T_fc0f2_row9_col1\" class=\"data row9 col1\" >4417</td>\n",
       "      <td id=\"T_fc0f2_row9_col2\" class=\"data row9 col2\" >5</td>\n",
       "      <td id=\"T_fc0f2_row9_col3\" class=\"data row9 col3\" >3</td>\n",
       "    </tr>\n",
       "  </tbody>\n",
       "</table>\n"
      ],
      "text/plain": [
       "<pandas.io.formats.style.Styler at 0x7fe7d4706e20>"
      ]
     },
     "metadata": {},
     "output_type": "display_data"
    },
    {
     "name": "stdout",
     "output_type": "stream",
     "text": [
      "\n"
     ]
    },
    {
     "data": {
      "text/plain": [
       "{'accuracy': 0.98469700061212,\n",
       " 'precision': 0.9846718405259809,\n",
       " 'recall': 0.984579110998921,\n",
       " 'f1_score': 0.9846141241249693}"
      ]
     },
     "execution_count": 26,
     "metadata": {},
     "output_type": "execute_result"
    }
   ],
   "source": [
    "metrics = MulticlassClassificationMetrics(val_ds_y, ans_val_avg_categorical_accuracy)\n",
    "print(metrics)\n",
    "metrics.metrics()"
   ]
  },
  {
   "cell_type": "markdown",
   "metadata": {
    "id": "n3XxFZkGoJRz"
   },
   "source": [
    "### Скользящее среднее по F1-score чекпоинт"
   ]
  },
  {
   "cell_type": "code",
   "execution_count": null,
   "metadata": {
    "colab": {
     "base_uri": "https://localhost:8080/",
     "height": 535
    },
    "executionInfo": {
     "elapsed": 25,
     "status": "ok",
     "timestamp": 1681668402321,
     "user": {
      "displayName": "Гриша Безруков",
      "userId": "02717934454974586898"
     },
     "user_tz": -180
    },
    "id": "VfiFu2NkoKUT",
    "outputId": "680c1d47-e2e6-45a2-a105-51f18c76b41c"
   },
   "outputs": [
    {
     "data": {
      "text/html": [
       "<style type=\"text/css\">\n",
       "#T_e8085 * {\n",
       "  background-color: darkgreen;\n",
       "  color: white;\n",
       "  font-size: 12pt;\n",
       "}\n",
       "#T_e8085 td:hover {\n",
       "  background-color: green;\n",
       "  color: white;\n",
       "}\n",
       "#T_e8085_row0_col0, #T_e8085_row0_col1, #T_e8085_row0_col2, #T_e8085_row0_col3, #T_e8085_row1_col0, #T_e8085_row1_col1, #T_e8085_row1_col2, #T_e8085_row1_col3, #T_e8085_row2_col0, #T_e8085_row2_col1, #T_e8085_row2_col2, #T_e8085_row2_col3, #T_e8085_row3_col0, #T_e8085_row3_col1, #T_e8085_row3_col2, #T_e8085_row3_col3, #T_e8085_row4_col0, #T_e8085_row4_col1, #T_e8085_row4_col2, #T_e8085_row4_col3, #T_e8085_row5_col0, #T_e8085_row5_col1, #T_e8085_row5_col2, #T_e8085_row5_col3, #T_e8085_row6_col0, #T_e8085_row6_col1, #T_e8085_row6_col2, #T_e8085_row6_col3, #T_e8085_row7_col0, #T_e8085_row7_col1, #T_e8085_row7_col2, #T_e8085_row7_col3, #T_e8085_row8_col0, #T_e8085_row8_col1, #T_e8085_row8_col2, #T_e8085_row8_col3, #T_e8085_row9_col0, #T_e8085_row9_col1, #T_e8085_row9_col2, #T_e8085_row9_col3 {\n",
       "  background-color: lightgreen;\n",
       "  color: black;\n",
       "  font-size: 12pt;\n",
       "}\n",
       "</style>\n",
       "<table id=\"T_e8085\" class=\"dataframe\">\n",
       "  <thead>\n",
       "    <tr>\n",
       "      <th class=\"blank level0\" >&nbsp;</th>\n",
       "      <th id=\"T_e8085_level0_col0\" class=\"col_heading level0 col0\" >TP</th>\n",
       "      <th id=\"T_e8085_level0_col1\" class=\"col_heading level0 col1\" >TN</th>\n",
       "      <th id=\"T_e8085_level0_col2\" class=\"col_heading level0 col2\" >FP</th>\n",
       "      <th id=\"T_e8085_level0_col3\" class=\"col_heading level0 col3\" >FN</th>\n",
       "    </tr>\n",
       "    <tr>\n",
       "      <th class=\"index_name level0\" >class_type</th>\n",
       "      <th class=\"blank col0\" >&nbsp;</th>\n",
       "      <th class=\"blank col1\" >&nbsp;</th>\n",
       "      <th class=\"blank col2\" >&nbsp;</th>\n",
       "      <th class=\"blank col3\" >&nbsp;</th>\n",
       "    </tr>\n",
       "  </thead>\n",
       "  <tbody>\n",
       "    <tr>\n",
       "      <th id=\"T_e8085_level0_row0\" class=\"row_heading level0 row0\" >0</th>\n",
       "      <td id=\"T_e8085_row0_col0\" class=\"data row0 col0\" >494</td>\n",
       "      <td id=\"T_e8085_row0_col1\" class=\"data row0 col1\" >4398</td>\n",
       "      <td id=\"T_e8085_row0_col2\" class=\"data row0 col2\" >4</td>\n",
       "      <td id=\"T_e8085_row0_col3\" class=\"data row0 col3\" >5</td>\n",
       "    </tr>\n",
       "    <tr>\n",
       "      <th id=\"T_e8085_level0_row1\" class=\"row_heading level0 row1\" >1</th>\n",
       "      <td id=\"T_e8085_row1_col0\" class=\"data row1 col0\" >470</td>\n",
       "      <td id=\"T_e8085_row1_col1\" class=\"data row1 col1\" >4409</td>\n",
       "      <td id=\"T_e8085_row1_col2\" class=\"data row1 col2\" >12</td>\n",
       "      <td id=\"T_e8085_row1_col3\" class=\"data row1 col3\" >10</td>\n",
       "    </tr>\n",
       "    <tr>\n",
       "      <th id=\"T_e8085_level0_row2\" class=\"row_heading level0 row2\" >2</th>\n",
       "      <td id=\"T_e8085_row2_col0\" class=\"data row2 col0\" >499</td>\n",
       "      <td id=\"T_e8085_row2_col1\" class=\"data row2 col1\" >4390</td>\n",
       "      <td id=\"T_e8085_row2_col2\" class=\"data row2 col2\" >7</td>\n",
       "      <td id=\"T_e8085_row2_col3\" class=\"data row2 col3\" >5</td>\n",
       "    </tr>\n",
       "    <tr>\n",
       "      <th id=\"T_e8085_level0_row3\" class=\"row_heading level0 row3\" >3</th>\n",
       "      <td id=\"T_e8085_row3_col0\" class=\"data row3 col0\" >493</td>\n",
       "      <td id=\"T_e8085_row3_col1\" class=\"data row3 col1\" >4388</td>\n",
       "      <td id=\"T_e8085_row3_col2\" class=\"data row3 col2\" >8</td>\n",
       "      <td id=\"T_e8085_row3_col3\" class=\"data row3 col3\" >12</td>\n",
       "    </tr>\n",
       "    <tr>\n",
       "      <th id=\"T_e8085_level0_row4\" class=\"row_heading level0 row4\" >4</th>\n",
       "      <td id=\"T_e8085_row4_col0\" class=\"data row4 col0\" >507</td>\n",
       "      <td id=\"T_e8085_row4_col1\" class=\"data row4 col1\" >4386</td>\n",
       "      <td id=\"T_e8085_row4_col2\" class=\"data row4 col2\" >5</td>\n",
       "      <td id=\"T_e8085_row4_col3\" class=\"data row4 col3\" >3</td>\n",
       "    </tr>\n",
       "    <tr>\n",
       "      <th id=\"T_e8085_level0_row5\" class=\"row_heading level0 row5\" >5</th>\n",
       "      <td id=\"T_e8085_row5_col0\" class=\"data row5 col0\" >478</td>\n",
       "      <td id=\"T_e8085_row5_col1\" class=\"data row5 col1\" >4404</td>\n",
       "      <td id=\"T_e8085_row5_col2\" class=\"data row5 col2\" >11</td>\n",
       "      <td id=\"T_e8085_row5_col3\" class=\"data row5 col3\" >8</td>\n",
       "    </tr>\n",
       "    <tr>\n",
       "      <th id=\"T_e8085_level0_row6\" class=\"row_heading level0 row6\" >6</th>\n",
       "      <td id=\"T_e8085_row6_col0\" class=\"data row6 col0\" >483</td>\n",
       "      <td id=\"T_e8085_row6_col1\" class=\"data row6 col1\" >4399</td>\n",
       "      <td id=\"T_e8085_row6_col2\" class=\"data row6 col2\" >11</td>\n",
       "      <td id=\"T_e8085_row6_col3\" class=\"data row6 col3\" >8</td>\n",
       "    </tr>\n",
       "    <tr>\n",
       "      <th id=\"T_e8085_level0_row7\" class=\"row_heading level0 row7\" >7</th>\n",
       "      <td id=\"T_e8085_row7_col0\" class=\"data row7 col0\" >482</td>\n",
       "      <td id=\"T_e8085_row7_col1\" class=\"data row7 col1\" >4405</td>\n",
       "      <td id=\"T_e8085_row7_col2\" class=\"data row7 col2\" >6</td>\n",
       "      <td id=\"T_e8085_row7_col3\" class=\"data row7 col3\" >8</td>\n",
       "    </tr>\n",
       "    <tr>\n",
       "      <th id=\"T_e8085_level0_row8\" class=\"row_heading level0 row8\" >8</th>\n",
       "      <td id=\"T_e8085_row8_col0\" class=\"data row8 col0\" >444</td>\n",
       "      <td id=\"T_e8085_row8_col1\" class=\"data row8 col1\" >4438</td>\n",
       "      <td id=\"T_e8085_row8_col2\" class=\"data row8 col2\" >6</td>\n",
       "      <td id=\"T_e8085_row8_col3\" class=\"data row8 col3\" >13</td>\n",
       "    </tr>\n",
       "    <tr>\n",
       "      <th id=\"T_e8085_level0_row9\" class=\"row_heading level0 row9\" >9</th>\n",
       "      <td id=\"T_e8085_row9_col0\" class=\"data row9 col0\" >476</td>\n",
       "      <td id=\"T_e8085_row9_col1\" class=\"data row9 col1\" >4417</td>\n",
       "      <td id=\"T_e8085_row9_col2\" class=\"data row9 col2\" >5</td>\n",
       "      <td id=\"T_e8085_row9_col3\" class=\"data row9 col3\" >3</td>\n",
       "    </tr>\n",
       "  </tbody>\n",
       "</table>\n"
      ],
      "text/plain": [
       "<pandas.io.formats.style.Styler at 0x7fe7e40a4220>"
      ]
     },
     "metadata": {},
     "output_type": "display_data"
    },
    {
     "name": "stdout",
     "output_type": "stream",
     "text": [
      "\n"
     ]
    },
    {
     "data": {
      "text/plain": [
       "{'accuracy': 0.98469700061212,\n",
       " 'precision': 0.9846718405259809,\n",
       " 'recall': 0.984579110998921,\n",
       " 'f1_score': 0.9846141241249693}"
      ]
     },
     "execution_count": 27,
     "metadata": {},
     "output_type": "execute_result"
    }
   ],
   "source": [
    "metrics = MulticlassClassificationMetrics(val_ds_y, ans_val_avg_f1_score)\n",
    "print(metrics)\n",
    "metrics.metrics()"
   ]
  },
  {
   "cell_type": "markdown",
   "metadata": {
    "id": "GgRLnsAVoL8j"
   },
   "source": [
    "### Скользящее среднее по Loss чекпоинт"
   ]
  },
  {
   "cell_type": "code",
   "execution_count": null,
   "metadata": {
    "colab": {
     "base_uri": "https://localhost:8080/",
     "height": 535
    },
    "executionInfo": {
     "elapsed": 533,
     "status": "ok",
     "timestamp": 1681668449019,
     "user": {
      "displayName": "Гриша Безруков",
      "userId": "02717934454974586898"
     },
     "user_tz": -180
    },
    "id": "EzhQuXaMoSjz",
    "outputId": "97d497f1-797b-493c-ed1d-eb112f072a90"
   },
   "outputs": [
    {
     "data": {
      "text/html": [
       "<style type=\"text/css\">\n",
       "#T_b4844 * {\n",
       "  background-color: darkgreen;\n",
       "  color: white;\n",
       "  font-size: 12pt;\n",
       "}\n",
       "#T_b4844 td:hover {\n",
       "  background-color: green;\n",
       "  color: white;\n",
       "}\n",
       "#T_b4844_row0_col0, #T_b4844_row0_col1, #T_b4844_row0_col2, #T_b4844_row0_col3, #T_b4844_row1_col0, #T_b4844_row1_col1, #T_b4844_row1_col2, #T_b4844_row1_col3, #T_b4844_row2_col0, #T_b4844_row2_col1, #T_b4844_row2_col2, #T_b4844_row2_col3, #T_b4844_row3_col0, #T_b4844_row3_col1, #T_b4844_row3_col2, #T_b4844_row3_col3, #T_b4844_row4_col0, #T_b4844_row4_col1, #T_b4844_row4_col2, #T_b4844_row4_col3, #T_b4844_row5_col0, #T_b4844_row5_col1, #T_b4844_row5_col2, #T_b4844_row5_col3, #T_b4844_row6_col0, #T_b4844_row6_col1, #T_b4844_row6_col2, #T_b4844_row6_col3, #T_b4844_row7_col0, #T_b4844_row7_col1, #T_b4844_row7_col2, #T_b4844_row7_col3, #T_b4844_row8_col0, #T_b4844_row8_col1, #T_b4844_row8_col2, #T_b4844_row8_col3, #T_b4844_row9_col0, #T_b4844_row9_col1, #T_b4844_row9_col2, #T_b4844_row9_col3 {\n",
       "  background-color: lightgreen;\n",
       "  color: black;\n",
       "  font-size: 12pt;\n",
       "}\n",
       "</style>\n",
       "<table id=\"T_b4844\" class=\"dataframe\">\n",
       "  <thead>\n",
       "    <tr>\n",
       "      <th class=\"blank level0\" >&nbsp;</th>\n",
       "      <th id=\"T_b4844_level0_col0\" class=\"col_heading level0 col0\" >TP</th>\n",
       "      <th id=\"T_b4844_level0_col1\" class=\"col_heading level0 col1\" >TN</th>\n",
       "      <th id=\"T_b4844_level0_col2\" class=\"col_heading level0 col2\" >FP</th>\n",
       "      <th id=\"T_b4844_level0_col3\" class=\"col_heading level0 col3\" >FN</th>\n",
       "    </tr>\n",
       "    <tr>\n",
       "      <th class=\"index_name level0\" >class_type</th>\n",
       "      <th class=\"blank col0\" >&nbsp;</th>\n",
       "      <th class=\"blank col1\" >&nbsp;</th>\n",
       "      <th class=\"blank col2\" >&nbsp;</th>\n",
       "      <th class=\"blank col3\" >&nbsp;</th>\n",
       "    </tr>\n",
       "  </thead>\n",
       "  <tbody>\n",
       "    <tr>\n",
       "      <th id=\"T_b4844_level0_row0\" class=\"row_heading level0 row0\" >0</th>\n",
       "      <td id=\"T_b4844_row0_col0\" class=\"data row0 col0\" >494</td>\n",
       "      <td id=\"T_b4844_row0_col1\" class=\"data row0 col1\" >4398</td>\n",
       "      <td id=\"T_b4844_row0_col2\" class=\"data row0 col2\" >4</td>\n",
       "      <td id=\"T_b4844_row0_col3\" class=\"data row0 col3\" >5</td>\n",
       "    </tr>\n",
       "    <tr>\n",
       "      <th id=\"T_b4844_level0_row1\" class=\"row_heading level0 row1\" >1</th>\n",
       "      <td id=\"T_b4844_row1_col0\" class=\"data row1 col0\" >470</td>\n",
       "      <td id=\"T_b4844_row1_col1\" class=\"data row1 col1\" >4409</td>\n",
       "      <td id=\"T_b4844_row1_col2\" class=\"data row1 col2\" >12</td>\n",
       "      <td id=\"T_b4844_row1_col3\" class=\"data row1 col3\" >10</td>\n",
       "    </tr>\n",
       "    <tr>\n",
       "      <th id=\"T_b4844_level0_row2\" class=\"row_heading level0 row2\" >2</th>\n",
       "      <td id=\"T_b4844_row2_col0\" class=\"data row2 col0\" >499</td>\n",
       "      <td id=\"T_b4844_row2_col1\" class=\"data row2 col1\" >4390</td>\n",
       "      <td id=\"T_b4844_row2_col2\" class=\"data row2 col2\" >7</td>\n",
       "      <td id=\"T_b4844_row2_col3\" class=\"data row2 col3\" >5</td>\n",
       "    </tr>\n",
       "    <tr>\n",
       "      <th id=\"T_b4844_level0_row3\" class=\"row_heading level0 row3\" >3</th>\n",
       "      <td id=\"T_b4844_row3_col0\" class=\"data row3 col0\" >493</td>\n",
       "      <td id=\"T_b4844_row3_col1\" class=\"data row3 col1\" >4388</td>\n",
       "      <td id=\"T_b4844_row3_col2\" class=\"data row3 col2\" >8</td>\n",
       "      <td id=\"T_b4844_row3_col3\" class=\"data row3 col3\" >12</td>\n",
       "    </tr>\n",
       "    <tr>\n",
       "      <th id=\"T_b4844_level0_row4\" class=\"row_heading level0 row4\" >4</th>\n",
       "      <td id=\"T_b4844_row4_col0\" class=\"data row4 col0\" >507</td>\n",
       "      <td id=\"T_b4844_row4_col1\" class=\"data row4 col1\" >4386</td>\n",
       "      <td id=\"T_b4844_row4_col2\" class=\"data row4 col2\" >5</td>\n",
       "      <td id=\"T_b4844_row4_col3\" class=\"data row4 col3\" >3</td>\n",
       "    </tr>\n",
       "    <tr>\n",
       "      <th id=\"T_b4844_level0_row5\" class=\"row_heading level0 row5\" >5</th>\n",
       "      <td id=\"T_b4844_row5_col0\" class=\"data row5 col0\" >478</td>\n",
       "      <td id=\"T_b4844_row5_col1\" class=\"data row5 col1\" >4404</td>\n",
       "      <td id=\"T_b4844_row5_col2\" class=\"data row5 col2\" >11</td>\n",
       "      <td id=\"T_b4844_row5_col3\" class=\"data row5 col3\" >8</td>\n",
       "    </tr>\n",
       "    <tr>\n",
       "      <th id=\"T_b4844_level0_row6\" class=\"row_heading level0 row6\" >6</th>\n",
       "      <td id=\"T_b4844_row6_col0\" class=\"data row6 col0\" >483</td>\n",
       "      <td id=\"T_b4844_row6_col1\" class=\"data row6 col1\" >4399</td>\n",
       "      <td id=\"T_b4844_row6_col2\" class=\"data row6 col2\" >11</td>\n",
       "      <td id=\"T_b4844_row6_col3\" class=\"data row6 col3\" >8</td>\n",
       "    </tr>\n",
       "    <tr>\n",
       "      <th id=\"T_b4844_level0_row7\" class=\"row_heading level0 row7\" >7</th>\n",
       "      <td id=\"T_b4844_row7_col0\" class=\"data row7 col0\" >482</td>\n",
       "      <td id=\"T_b4844_row7_col1\" class=\"data row7 col1\" >4405</td>\n",
       "      <td id=\"T_b4844_row7_col2\" class=\"data row7 col2\" >6</td>\n",
       "      <td id=\"T_b4844_row7_col3\" class=\"data row7 col3\" >8</td>\n",
       "    </tr>\n",
       "    <tr>\n",
       "      <th id=\"T_b4844_level0_row8\" class=\"row_heading level0 row8\" >8</th>\n",
       "      <td id=\"T_b4844_row8_col0\" class=\"data row8 col0\" >444</td>\n",
       "      <td id=\"T_b4844_row8_col1\" class=\"data row8 col1\" >4438</td>\n",
       "      <td id=\"T_b4844_row8_col2\" class=\"data row8 col2\" >6</td>\n",
       "      <td id=\"T_b4844_row8_col3\" class=\"data row8 col3\" >13</td>\n",
       "    </tr>\n",
       "    <tr>\n",
       "      <th id=\"T_b4844_level0_row9\" class=\"row_heading level0 row9\" >9</th>\n",
       "      <td id=\"T_b4844_row9_col0\" class=\"data row9 col0\" >476</td>\n",
       "      <td id=\"T_b4844_row9_col1\" class=\"data row9 col1\" >4417</td>\n",
       "      <td id=\"T_b4844_row9_col2\" class=\"data row9 col2\" >5</td>\n",
       "      <td id=\"T_b4844_row9_col3\" class=\"data row9 col3\" >3</td>\n",
       "    </tr>\n",
       "  </tbody>\n",
       "</table>\n"
      ],
      "text/plain": [
       "<pandas.io.formats.style.Styler at 0x7fe7e41addf0>"
      ]
     },
     "metadata": {},
     "output_type": "display_data"
    },
    {
     "name": "stdout",
     "output_type": "stream",
     "text": [
      "\n"
     ]
    },
    {
     "data": {
      "text/plain": [
       "{'accuracy': 0.98469700061212,\n",
       " 'precision': 0.9846718405259809,\n",
       " 'recall': 0.984579110998921,\n",
       " 'f1_score': 0.9846141241249693}"
      ]
     },
     "execution_count": 28,
     "metadata": {},
     "output_type": "execute_result"
    }
   ],
   "source": [
    "metrics = MulticlassClassificationMetrics(val_ds_y, ans_val_avg_loss)\n",
    "print(metrics)\n",
    "metrics.metrics()"
   ]
  },
  {
   "cell_type": "code",
   "execution_count": null,
   "metadata": {
    "colab": {
     "base_uri": "https://localhost:8080/",
     "height": 1000
    },
    "executionInfo": {
     "elapsed": 1551,
     "status": "ok",
     "timestamp": 1681668458871,
     "user": {
      "displayName": "Гриша Безруков",
      "userId": "02717934454974586898"
     },
     "user_tz": -180
    },
    "id": "-nsgQPqDaXUL",
    "outputId": "6e554deb-f091-4ab6-df71-cb88fd507990"
   },
   "outputs": [
    {
     "data": {
      "image/png": "[encoded data removed]",
      "text/plain": [
       "<Figure size 1400x1200 with 2 Axes>"
      ]
     },
     "metadata": {},
     "output_type": "display_data"
    }
   ],
   "source": [
    "matrix = confusion_matrix(val_ds_y, ans_val_avg_categorical_accuracy)\n",
    "\n",
    "fig, ax = plt.subplots(figsize=(14, 12))\n",
    "seaborn.heatmap(matrix, annot=True, cmap='Greens', fmt='d', ax=ax)\n",
    "plt.title('Confusion Matrix for training dataset')\n",
    "plt.xlabel('Predicted label')\n",
    "plt.ylabel('True label')\n",
    "plt.show()"
   ]
  },
  {
   "cell_type": "markdown",
   "metadata": {
    "id": "ZCxq9l4W1h0D"
   },
   "source": [
    "- Сохраняем ответы."
   ]
  },
  {
   "cell_type": "code",
   "execution_count": null,
   "metadata": {
    "colab": {
     "base_uri": "https://localhost:8080/"
    },
    "executionInfo": {
     "elapsed": 46996,
     "status": "ok",
     "timestamp": 1681668539675,
     "user": {
      "displayName": "Гриша Безруков",
      "userId": "02717934454974586898"
     },
     "user_tz": -180
    },
    "id": "bQvnLPPp1h0D",
    "outputId": "4982eb93-830b-4a14-ec6f-d7ab416e6cc2"
   },
   "outputs": [
    {
     "name": "stdout",
     "output_type": "stream",
     "text": [
      "782/782 [==============================] - 16s 20ms/step\n",
      "782/782 [==============================] - 15s 19ms/step\n"
     ]
    }
   ],
   "source": [
    "ans_test_categorical_accuracy = make_ans_file(model_categorical_acc, test_ds,\n",
    "                                              f'../answers/model{num_model}_categorical_accuracy.csv')\n",
    "ans_test_avg_categorical_accuracy = make_ans_file(model_avg_categorical_acc, test_ds,\n",
    "                                                  f'../answers/model{num_model}_avg_categorical_accuracy.csv')"
   ]
  },
  {
   "cell_type": "markdown",
   "metadata": {
    "id": "zEJYFGnE1h0E"
   },
   "source": [
    "Проверяем ответы (одинаковые они или нет), чтоб не терять кол-во отправок ответов на kaggle в день."
   ]
  },
  {
   "cell_type": "code",
   "execution_count": null,
   "metadata": {
    "colab": {
     "base_uri": "https://localhost:8080/"
    },
    "executionInfo": {
     "elapsed": 106,
     "status": "ok",
     "timestamp": 1681668539677,
     "user": {
      "displayName": "Гриша Безруков",
      "userId": "02717934454974586898"
     },
     "user_tz": -180
    },
    "id": "hf3v3GDL1h0N",
    "outputId": "10167afe-7738-49d9-f407-7d45b7c549bc"
   },
   "outputs": [
    {
     "name": "stdout",
     "output_type": "stream",
     "text": [
      "чекпоинты 1 и 2 одинаковые\n",
      "чекпоинты 1 и 3 одинаковые\n",
      "чекпоинты 2 и 3 одинаковые\n",
      "чекпоинты 4 и 5 одинаковые\n",
      "чекпоинты 4 и 6 одинаковые\n",
      "чекпоинты 5 и 6 одинаковые\n"
     ]
    }
   ],
   "source": [
    "for i in range(len(anss) - 1):\n",
    "    for j in range(i + 1, len(anss)):\n",
    "        if np.all(anss[i] == anss[j]):\n",
    "            print(f'чекпоинты {i + 1} и {j + 1} одинаковые')"
   ]
  },
  {
   "cell_type": "markdown",
   "metadata": {
    "id": "sroqKcdL1h0O"
   },
   "source": [
    "Все ответы разные, поэтому отправляем все на kaggle"
   ]
  },
  {
   "cell_type": "markdown",
   "metadata": {
    "id": "Oqwfnt9ydECy"
   },
   "source": [
    "- Accuracy чекпоинт: 0.93493\n",
    "- Loss чекпоинт: 0.92866"
   ]
  },
  {
   "cell_type": "code",
   "execution_count": null,
   "metadata": {
    "id": "brQYzRLoPlUg"
   },
   "outputs": [],
   "source": []
  }
 ],
 "metadata": {
  "accelerator": "GPU",
  "colab": {
   "name": "",
   "version": ""
  },
  "gpuClass": "standard",
  "kernelspec": {
   "display_name": "Python 3",
   "language": "python",
   "name": "python3"
  },
  "language_info": {
   "codemirror_mode": {
    "name": "ipython",
    "version": 3
   },
   "file_extension": ".py",
   "mimetype": "text/x-python",
   "name": "python",
   "nbconvert_exporter": "python",
   "pygments_lexer": "ipython3",
   "version": "3.10.10"
  }
 },
 "nbformat": 4,
 "nbformat_minor": 0
}
