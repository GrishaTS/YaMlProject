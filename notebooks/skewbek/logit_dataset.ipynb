{
 "cells": [
  {
   "cell_type": "markdown",
   "source": [
    "Генерируем датасет для обучение модели"
   ],
   "metadata": {
    "collapsed": false
   }
  },
  {
   "cell_type": "code",
   "execution_count": 1,
   "outputs": [],
   "source": [
    "import os\n",
    "import pickle\n",
    "import sys\n",
    "\n",
    "import tensorflow as tf\n",
    "\n",
    "sys.path.append('../../')\n",
    "\n",
    "from core.datasets import open_f"
   ],
   "metadata": {
    "collapsed": false
   }
  },
  {
   "cell_type": "code",
   "execution_count": 2,
   "metadata": {
    "collapsed": true
   },
   "outputs": [],
   "source": [
    "train_ds = open_f('repaired_data_train', back=2)\n",
    "train_ds_images = train_ds['images'] / 255."
   ]
  },
  {
   "cell_type": "code",
   "execution_count": 4,
   "outputs": [
    {
     "name": "stdout",
     "output_type": "stream",
     "text": [
      "_s_6 dataset already done\n",
      "_g_11 dataset already done\n",
      "_g_21 dataset already done\n",
      "_g_22 dataset already done\n"
     ]
    }
   ],
   "source": [
    "model_names = ['_s_6', '_g_11', '_g_21', '_g_22']\n",
    "\n",
    "for model_name in model_names:\n",
    "\n",
    "    if not os.path.exists(f'../../models/logits_train/model{model_name}'):\n",
    "        print(model_name)\n",
    "\n",
    "        model = tf.keras.models.load_model(f'../../models/checkpoints/model{model_name}_avg_categorical_accuracy.h5', compile=False)\n",
    "\n",
    "        pickle.dump(model.predict(train_ds_images), open(f'../../models/logits_train/model{model_name}', 'wb'), protocol=pickle.HIGHEST_PROTOCOL)\n",
    "    else:\n",
    "        print(f'{model_name} dataset already done')"
   ],
   "metadata": {
    "collapsed": false
   }
  }
 ],
 "metadata": {
  "kernelspec": {
   "display_name": "Python 3",
   "language": "python",
   "name": "python3"
  },
  "language_info": {
   "codemirror_mode": {
    "name": "ipython",
    "version": 2
   },
   "file_extension": ".py",
   "mimetype": "text/x-python",
   "name": "python",
   "nbconvert_exporter": "python",
   "pygments_lexer": "ipython2",
   "version": "2.7.6"
  }
 },
 "nbformat": 4,
 "nbformat_minor": 0
}
