{
 "cells": [
  {
   "cell_type": "code",
   "execution_count": 11,
   "metadata": {},
   "outputs": [],
   "source": [
    "import pickle\n",
    "import numpy as np\n",
    "import pandas as pd"
   ]
  },
  {
   "cell_type": "code",
   "execution_count": 19,
   "metadata": {},
   "outputs": [],
   "source": [
    "pred_s6 = pickle.load(open('../checkpoint_answers/model_s_6_avg_f1_score.h5', 'rb'))\n",
    "pred_g21 = pickle.load(open('../checkpoint_answers/model_g_21_avg_f1_score.h5', 'rb'))\n",
    "pred_g23 = pickle.load(open('../checkpoint_answers/model_g_23_avg_categorical_accuracy.h5', 'rb'))\n",
    "pred_g24 = pickle.load(open('../checkpoint_answers/model_g_24_avg_categorical_accuracy.h5', 'rb'))\n",
    "pred_g25 = pickle.load(open('../checkpoint_answers/model_g_25_avg_categorical_accuracy.h5', 'rb'))\n",
    "pred_g26 = pickle.load(open('../checkpoint_answers/model_g_26_avg_categorical_accuracy.h5', 'rb'))"
   ]
  },
  {
   "attachments": {},
   "cell_type": "markdown",
   "metadata": {},
   "source": [
    "- 0 .(S6): `0.9596`\n",
    "- 1 .(G11): `0.9548`\n",
    "- 2 .(G21): `0.95666`\n",
    "- 3 .(G23): `0.9452`\n",
    "- 4 .(G24): `0.95786`\n",
    "- 5 .(G25): `0.95373`\n",
    "- 6 .(S6 + G11): `0.96333`\n",
    "- 7 .(S6 + G21): \n",
    "- 8 .(S6 + G23): \n",
    "- 9 .(S6 + G24): \n",
    "- 10. (S6 + G25): \n",
    "- 11. (G11 + G21): \n",
    "- 12. (G11 + G23): \n",
    "- 13. (G11 + G24): \n",
    "- 14. (G11 + G25): \n",
    "- 15. (G21 + G23): \n",
    "- 16. (G21 + G24): \n",
    "- 17. (G21 + G25): \n",
    "- 18. (G23 + G24): \n",
    "- 19. (G23 + G25): \n",
    "- 20. (G24 + G25): \n",
    "- 21. (S6 + G11 + G21): 0.96266\n",
    "- 22. (S6 + G11 + G23): \n",
    "- 23. (S6 + G11 + G24): \n",
    "- 24. (S6 + G11 + G25): \n",
    "- 25. (S6 + G21 + G23): \n",
    "- 26. (S6 + G21 + G24): \n",
    "- 27. (S6 + G21 + G25): \n",
    "- 28. (S6 + G23 + G24): \n",
    "- 29. (S6 + G23 + G25): \n",
    "- 30. (S6 + G24 + G25): \n",
    "- 31. (G11 + G21 + G23): \n",
    "- 32. (G11 + G21 + G24): \n",
    "- 33. (G11 + G21 + G25): \n",
    "- 34. (G11 + G23 + G24): \n",
    "- 35. (G11 + G23 + G25): \n",
    "- 36. (G11 + G24 + G25): \n",
    "- 37. (G21 + G23 + G24): \n",
    "- 38. (G21 + G23 + G25): \n",
    "- 39. (G21 + G24 + G25): \n",
    "- 40. (G23 + G24 + G25): \n",
    "- 41. (S6 + G11 + G21 + G23): \n",
    "- 42. (S6 + G11 + G21 + G24): \n",
    "- 43. (S6 + G11 + G21 + G25): \n",
    "- 44. (S6 + G11 + G23 + G24): \n",
    "- 45. (S6 + G11 + G23 + G25): \n",
    "- 46. (S6 + G11 + G24 + G25): \n",
    "- 47. (S6 + G21 + G23 + G24): \n",
    "- 48. (S6 + G21 + G23 + G25): \n",
    "- 49. (S6 + G21 + G24 + G25): \n",
    "- 50. (S6 + G23 + G24 + G25): \n",
    "- 51. (G11 + G21 + G23 + G24): \n",
    "- 52. (G11 + G21 + G23 + G25): \n",
    "- 53. (G11 + G21 + G24 + G25): \n",
    "- 54. (G11 + G23 + G24 + G25): \n",
    "- 55. (G21 + G23 + G24 + G25): \n",
    "- 56. (S6 + G11 + G21 + G23 + G24): \n",
    "- 57. (S6 + G11 + G21 + G23 + G25): \n",
    "- 58. (S6 + G11 + G21 + G24 + G25): \n",
    "- 59. (S6 + G11 + G23 + G24 + G25): \n",
    "- 60. (S6 + G21 + G23 + G24 + G25): \n",
    "- 61. (G11 + G21 + G23 + G24 + G25): \n",
    "- 62. (S6 + G11 + G21 + G23 + G24 + G25): 0.96786\n"
   ]
  },
  {
   "cell_type": "code",
   "execution_count": 20,
   "metadata": {},
   "outputs": [],
   "source": [
    "import itertools\n",
    "all_ans = []\n",
    "for i in range(5, 7):\n",
    "    for j in itertools.combinations([pred_s6, pred_g11, pred_g21, pred_g23, pred_g24, pred_g25], r=i):\n",
    "        a = None\n",
    "        for k in j:\n",
    "            if a is None:\n",
    "                a = k\n",
    "            else:\n",
    "                a += k\n",
    "        all_ans.append(list(np.argmax(a, axis=-1)))"
   ]
  },
  {
   "cell_type": "code",
   "execution_count": 21,
   "metadata": {},
   "outputs": [
    {
     "name": "stdout",
     "output_type": "stream",
     "text": [
      "7\n"
     ]
    },
    {
     "ename": "",
     "evalue": "",
     "output_type": "error",
     "traceback": [
      "\u001b[1;31mThe Kernel crashed while executing code in the the current cell or a previous cell. Please review the code in the cell(s) to identify a possible cause of the failure. Click <a href='https://aka.ms/vscodeJupyterKernelCrash'>here</a> for more info. View Jupyter <a href='command:jupyter.viewOutput'>log</a> for further details."
     ]
    }
   ],
   "source": [
    "print(len(all_ans))"
   ]
  },
  {
   "cell_type": "code",
   "execution_count": 14,
   "metadata": {},
   "outputs": [],
   "source": [
    "pickle.dump(all_ans, open('y_true', 'wb'))"
   ]
  },
  {
   "cell_type": "code",
   "execution_count": 17,
   "metadata": {},
   "outputs": [],
   "source": [
    "ans = np.argmax(pred_s6 + pred_g25 + pred_g24 + pred_g21, axis=-1)"
   ]
  },
  {
   "cell_type": "code",
   "execution_count": 18,
   "metadata": {},
   "outputs": [],
   "source": [
    "ensemble_model_name = 'ensemble_g_11_9'\n",
    "ans = pd.DataFrame({'Id': np.arange(ans.shape[0]), 'Category': ans})\n",
    "ans.to_csv(f'../answers/{ensemble_model_name}.csv', index=False)"
   ]
  },
  {
   "cell_type": "code",
   "execution_count": null,
   "metadata": {},
   "outputs": [],
   "source": []
  }
 ],
 "metadata": {
  "kernelspec": {
   "display_name": "Python 3",
   "language": "python",
   "name": "python3"
  },
  "language_info": {
   "codemirror_mode": {
    "name": "ipython",
    "version": 3
   },
   "file_extension": ".py",
   "mimetype": "text/x-python",
   "name": "python",
   "nbconvert_exporter": "python",
   "pygments_lexer": "ipython3",
   "version": "3.10.10"
  },
  "orig_nbformat": 4
 },
 "nbformat": 4,
 "nbformat_minor": 2
}
